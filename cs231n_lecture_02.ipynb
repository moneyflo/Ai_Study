{
  "nbformat": 4,
  "nbformat_minor": 0,
  "metadata": {
    "colab": {
      "name": "cs231n_lecture_02.ipynb",
      "provenance": [],
      "collapsed_sections": []
    },
    "kernelspec": {
      "name": "python3",
      "display_name": "Python 3"
    },
    "language_info": {
      "name": "python"
    }
  },
  "cells": [
    {
      "cell_type": "markdown",
      "source": [
        "# Lecture 2 Image Classification pipeline"
      ],
      "metadata": {
        "id": "77XNASJxR6vV"
      }
    },
    {
      "cell_type": "code",
      "execution_count": 1,
      "metadata": {
        "id": "FzX0R4ZJ6WPe"
      },
      "outputs": [],
      "source": [
        "import numpy as np\n",
        "\n",
        "X = np.array([[1,2],[3,4],[5,6]])\n",
        "X[0]\n",
        "X.shape[0]\n",
        "\n",
        "a = [1,2,3,4,5,23,4]\n",
        "# for i in xrange(a): ## xrange와 range는 python3에서 range로 통합됨\n",
        "    # print(1)"
      ]
    },
    {
      "cell_type": "markdown",
      "source": [
        "### Data-Driven Approach"
      ],
      "metadata": {
        "id": "engy3giQBMhp"
      }
    },
    {
      "cell_type": "code",
      "source": [
        "# def train(images, labels):\n",
        "#     # Machine learning\n",
        "#     return model\n",
        "\n",
        "# def predict(model, test_images):\n",
        "#     # Use model to predict labels\n",
        "#     return test_labels"
      ],
      "metadata": {
        "id": "Nuyb3IhIBLxT"
      },
      "execution_count": 2,
      "outputs": []
    },
    {
      "cell_type": "markdown",
      "source": [
        "### Nearest Neighbor classifier"
      ],
      "metadata": {
        "id": "jGmRCNIUGyWU"
      }
    },
    {
      "cell_type": "code",
      "source": [
        "import numpy as np\n",
        "\n",
        "class NearestNeighbor:\n",
        "    def __init__(self):\n",
        "        pass\n",
        "\n",
        "    def train(self, X, y):\n",
        "        # X is N x D where each row is an example. Y is 1-dimension of size N\n",
        "        self.Xtr = X\n",
        "        self.ytr = y\n",
        "\n",
        "    def predict(self, X):\n",
        "        # X is N x D where each row is an example we wish to predict label for\n",
        "        num_test = X.shape[0]  # 들어온 데이터의 개수로 여기서는 N (각 행마다 데이터 하나 이므로 행의 개수이다)\n",
        "        Ypred = np.zeros(num_test, dtype = self.ytr.dtype) # 정답을 담을 빈 배열\n",
        "\n",
        "        for i in range(num_test):\n",
        "            distances = np.sum(np.abs(self.Xtr - X[i,:]), axis=1) # 넘파이의 브로드캐스팅 기능을 통해 한번에 계산가능\n",
        "            min_index = np.argmin(distances) # 이 부분 수정하면 괜찮을 것 같음.\n",
        "            Ypred[i] = self.ytr[min_index]\n",
        "\n",
        "        return Ypred"
      ],
      "metadata": {
        "id": "pO7h4cmYBc-s"
      },
      "execution_count": null,
      "outputs": []
    }
  ]
}