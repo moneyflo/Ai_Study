{
  "nbformat": 4,
  "nbformat_minor": 0,
  "metadata": {
    "colab": {
      "name": "ho_chap_01.ipynb",
      "provenance": []
    },
    "kernelspec": {
      "name": "python3",
      "display_name": "Python 3"
    },
    "language_info": {
      "name": "python"
    }
  },
  "cells": [
    {
      "cell_type": "markdown",
      "metadata": {
        "id": "s5aGS8ZXDsn-"
      },
      "source": [
        "# Chaper 1 한눈에 보는 머신러닝\n",
        "* 머신러닝에 대한 전반적인 설명"
      ]
    },
    {
      "cell_type": "markdown",
      "metadata": {
        "id": "iIGY9Y1pG3Ix"
      },
      "source": [
        "사이킷런을 이용한 선형 모델의 훈련과 실행 by GDP와 삶의 만족도"
      ]
    },
    {
      "cell_type": "code",
      "metadata": {
        "id": "rDQRHpcTDqZh"
      },
      "source": [
        "import matplotlib.pyplot as plt\n",
        "import numpy as np\n",
        "import pandas as pd\n",
        "from sklearn.linear_model import LinearRegression\n",
        "\n",
        "# 데이터 불러오기\n",
        "oecd_bli = pd.read_csv(\"oecd_bli_2015.csv\", thousands=',')\n",
        "gdp_per_capita = pd.read_csv(\"gdp_per_capita.csv\", thousands=',', delimiter='\\t',\n",
        "                             encoding='latin1', na_values='n/a')    \n",
        "\n",
        "# encoding관련 ## https://docs.python.org/3/library/codecs.html#standard-encodings\n",
        "\n",
        "# 데이터 준비\n",
        "country_stats = prepare_country_stats(oecd_bil, gdp_per_capita)\n",
        "X = np.c_[country_stats[\"GDP per capita\"]]\n",
        "y = np.c_[country_stats[\"Life satisfaction\"]]\n",
        "\n",
        "# 데이터 시각화\n",
        "country_stats,plot(kind='scatter', x=\"GDP per capita\", y=\"Life satisfaction\")\n",
        "plt.show()\n",
        "\n",
        "# 모델\n",
        "model = LinearRegression()\n",
        "\n",
        "# 훈련\n",
        "model.fit(X, y)\n",
        "\n",
        "# 키프로스에 대한 예측\n",
        "X_new = [[22587]]  # 키프로스 1인당 GDP\n",
        "print(model.predict(X_new)) # 결과 [[5.96242338]]\n"
      ],
      "execution_count": null,
      "outputs": []
    }
  ]
}