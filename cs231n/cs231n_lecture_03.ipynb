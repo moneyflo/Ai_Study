{
  "nbformat": 4,
  "nbformat_minor": 0,
  "metadata": {
    "colab": {
      "name": "cs231n_lecture_03.ipynb",
      "provenance": [],
      "collapsed_sections": []
    },
    "kernelspec": {
      "name": "python3",
      "display_name": "Python 3"
    },
    "language_info": {
      "name": "python"
    }
  },
  "cells": [
    {
      "cell_type": "markdown",
      "source": [
        "# Lecture 3 Loss Function and Optimization"
      ],
      "metadata": {
        "id": "9KuC1QEnl8WL"
      }
    },
    {
      "cell_type": "markdown",
      "source": [
        "### Multiclass SVM Loss"
      ],
      "metadata": {
        "id": "JDCDzPwqsIGv"
      }
    },
    {
      "cell_type": "code",
      "execution_count": 2,
      "metadata": {
        "id": "PlM61csClrLd"
      },
      "outputs": [],
      "source": [
        "import numpy as np\n",
        "\n",
        "def L_i_vectorized(x, y, W):\n",
        "    scores = W.dot(x)\n",
        "    margins = np.maximum(0, scores - scores[y] + 1) # 1은 margin\n",
        "    margins[y] = 0\n",
        "    loss_i = np.sum(margins)\n",
        "    return loss_i"
      ]
    },
    {
      "cell_type": "code",
      "source": [
        "x = np.array([[1],[2],[4],[5]])\n",
        "y = np.array([2,1,2])\n",
        "W = np.array([[3,4,1,4],[1,2,5,3],[3,2,3,2]])\n",
        "\n",
        "L_i_vectorized(x, y, W)"
      ],
      "metadata": {
        "colab": {
          "base_uri": "https://localhost:8080/"
        },
        "id": "wOMkk0H5ssf0",
        "outputId": "a5c0a5ce-3ff4-4855-b668-ea523609001d"
      },
      "execution_count": 13,
      "outputs": [
        {
          "output_type": "execute_result",
          "data": {
            "text/plain": [
              "7"
            ]
          },
          "metadata": {},
          "execution_count": 13
        }
      ]
    },
    {
      "cell_type": "markdown",
      "source": [
        "## Optimization"
      ],
      "metadata": {
        "id": "FX-yxj8zybUK"
      }
    },
    {
      "cell_type": "markdown",
      "source": [
        "### Random search"
      ],
      "metadata": {
        "id": "x5R7Mv2JydkY"
      }
    },
    {
      "cell_type": "code",
      "source": [
        "bestloss = float(\"inf\")\n",
        "# for num in range(1000):\n",
        "#     W = np.random.randn(10, 3073) * 0.0001\n",
        "#     loss = L(X_train, Y_train, W)\n",
        "#     if loss < bestloss:\n",
        "#         bestloss = loss\n",
        "#         bestW = W\n",
        "#     print(f'in attempt {num} the loss was {loss}, best {bestloss}')"
      ],
      "metadata": {
        "id": "vvrkyx1wtgCj"
      },
      "execution_count": 14,
      "outputs": []
    },
    {
      "cell_type": "markdown",
      "source": [
        "### Gradient Descent"
      ],
      "metadata": {
        "id": "lMwIAKHy0ld5"
      }
    },
    {
      "cell_type": "code",
      "source": [
        "# Vanilla Gradient Descent\n",
        "\n",
        "# while True:\n",
        "#     weights_grad = evaluate_gradient(loss_fun, data, weights)\n",
        "#     weights += - step_size * weight_grad ### step_size는 하이퍼파라미터"
      ],
      "metadata": {
        "id": "QekmVD2HzJzn"
      },
      "execution_count": 16,
      "outputs": []
    },
    {
      "cell_type": "markdown",
      "source": [
        "### Stochastic Gradient Descent (SGD)"
      ],
      "metadata": {
        "id": "s88OiBCL1QPq"
      }
    },
    {
      "cell_type": "code",
      "source": [
        "# Vanilla Gradient Descent\n",
        "\n",
        "# while True:\n",
        "#     data_batch = sample_training_data(data, 256) # 2의 제곱승으로 보통 배치사이즈 결정\n",
        "#     weight_grad = evaluate_gradient(loss_fun, data_batch, weights)\n",
        "#     weights += - step_size * weights_grad"
      ],
      "metadata": {
        "id": "BGEPeWpP03dX"
      },
      "execution_count": 17,
      "outputs": []
    }
  ]
}