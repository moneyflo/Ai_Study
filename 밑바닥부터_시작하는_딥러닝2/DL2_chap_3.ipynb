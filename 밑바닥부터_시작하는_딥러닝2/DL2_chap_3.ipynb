{
  "nbformat": 4,
  "nbformat_minor": 0,
  "metadata": {
    "colab": {
      "provenance": [],
      "collapsed_sections": []
    },
    "kernelspec": {
      "name": "python3",
      "display_name": "Python 3"
    },
    "language_info": {
      "name": "python"
    }
  },
  "cells": [
    {
      "cell_type": "markdown",
      "source": [
        "# Chapter 03 word2vec"
      ],
      "metadata": {
        "id": "EEoNMpLPGa-o"
      }
    },
    {
      "cell_type": "markdown",
      "source": [
        "## 3.1 추론 기반 기법과 신경망"
      ],
      "metadata": {
        "id": "NyIDVmbIw8Wr"
      }
    },
    {
      "cell_type": "markdown",
      "source": [
        "### 3.1.3 신경망에서의 단어 처리"
      ],
      "metadata": {
        "id": "1YUgyJ5nLWuE"
      }
    },
    {
      "cell_type": "code",
      "source": [
        "# 간단한 단어의 신경망 처리\n",
        "import numpy as np\n",
        "\n",
        "c = np.array([[1, 0, 0, 0, 0, 0, 0]]) # 입력\n",
        "W = np.random.randn(7, 3)             # 가중치\n",
        "h = np.matmul(c, W)                   # 중간 노드\n",
        "print(h)"
      ],
      "metadata": {
        "colab": {
          "base_uri": "https://localhost:8080/"
        },
        "id": "IRol7-3yLWYU",
        "outputId": "1361b4a5-2597-4c52-be5a-1d22becfcc68"
      },
      "execution_count": 3,
      "outputs": [
        {
          "output_type": "stream",
          "name": "stdout",
          "text": [
            "[[ 0.58571678  0.10344732 -1.95191043]]\n"
          ]
        }
      ]
    },
    {
      "cell_type": "code",
      "execution_count": 1,
      "metadata": {
        "id": "JjvnMIL7GUVE",
        "colab": {
          "base_uri": "https://localhost:8080/"
        },
        "outputId": "9ec312b2-c6e7-43b2-cd55-79074f07d0ea"
      },
      "outputs": [
        {
          "output_type": "stream",
          "name": "stdout",
          "text": [
            "Mounted at /content/drive\n"
          ]
        }
      ],
      "source": [
        "import sys, os\n",
        "from google.colab import drive\n",
        "drive.mount('/content/drive')\n",
        "os.chdir('/content/drive/MyDrive/DL_from_bottom_2')\n",
        "sys.path.append('/content/drive/MyDrive/DL_from_bottom_2')"
      ]
    },
    {
      "cell_type": "code",
      "source": [
        "# MatMul 계층을 통한 처리\n",
        "from common.layers import MatMul\n",
        "\n",
        "c = np.array([[1, 0, 0, 0, 0, 0, 0]])\n",
        "W = np.random.randn(7, 3)\n",
        "layer = MatMul(W)\n",
        "h = layer.forward(c)\n",
        "print(h)"
      ],
      "metadata": {
        "colab": {
          "base_uri": "https://localhost:8080/"
        },
        "id": "TgAiTTXNwVYC",
        "outputId": "23d0d56e-5383-487d-d093-9968981e8088"
      },
      "execution_count": 4,
      "outputs": [
        {
          "output_type": "stream",
          "name": "stdout",
          "text": [
            "[[0.02449175 0.29219342 1.31384986]]\n"
          ]
        }
      ]
    },
    {
      "cell_type": "markdown",
      "source": [
        "## 3.2 단순한 word2vec"
      ],
      "metadata": {
        "id": "iag85MtUw_O1"
      }
    },
    {
      "cell_type": "markdown",
      "source": [
        "### 3.2.1 CBOW 모델의 추론 처리\n",
        "\n",
        "continuous bag-of-words의 줄임말로 wrod2vec에서 사용되는 신경망\n"
      ],
      "metadata": {
        "id": "nI6t9r_11VAs"
      }
    },
    {
      "cell_type": "code",
      "source": [
        "# 샘플 맥락 데이터\n",
        "c0 = np.array([[1, 0, 0, 0, 0 ,0 ,0]])\n",
        "c1 = np.array([[0, 0, 1, 0, 0, 0, 0]])\n",
        "\n",
        "# 가중치 초기화\n",
        "W_in = np.random.randn(7, 3)\n",
        "W_out = np.random.randn(3, 7)\n",
        "\n",
        "# 계층 생성\n",
        "in_layer0 = MatMul(W_in)\n",
        "in_layer1 = MatMul(W_in)\n",
        "out_layer = MatMul(W_out)\n",
        "\n",
        "# 순전파\n",
        "h0 = in_layer0.forward(c0)\n",
        "h1 = in_layer1.forward(c1)\n",
        "h = 0.5 * (h0 + h1)\n",
        "s = out_layer.forward(h)\n",
        "\n",
        "print(s)"
      ],
      "metadata": {
        "colab": {
          "base_uri": "https://localhost:8080/"
        },
        "id": "t5GOfPZ-w1Vz",
        "outputId": "48ec07cc-f0a4-469b-ba9d-1b3b3f38c525"
      },
      "execution_count": 5,
      "outputs": [
        {
          "output_type": "stream",
          "name": "stdout",
          "text": [
            "[[-0.52015931 -0.92422576  1.84979524 -1.12098269 -1.00371193  4.19806948\n",
            "   1.54154883]]\n"
          ]
        }
      ]
    },
    {
      "cell_type": "markdown",
      "source": [
        "in_layer0과 in_layer1이 가중치를 공유함"
      ],
      "metadata": {
        "id": "3WCINQua32tS"
      }
    },
    {
      "cell_type": "code",
      "source": [
        "# 점수 가장 높은 클래스 확률 계산\n",
        "s_p = s[0]\n",
        "np.exp(max(s_p)) / np.sum(np.exp(s_p)) # 약 84%"
      ],
      "metadata": {
        "colab": {
          "base_uri": "https://localhost:8080/"
        },
        "id": "pBbG7HSG2-HJ",
        "outputId": "555b92de-3763-4ba3-8df7-ed0e56490711"
      },
      "execution_count": 10,
      "outputs": [
        {
          "output_type": "execute_result",
          "data": {
            "text/plain": [
              "0.8396140989859752"
            ]
          },
          "metadata": {},
          "execution_count": 10
        }
      ]
    },
    {
      "cell_type": "code",
      "source": [],
      "metadata": {
        "id": "izawSXa_3y_l"
      },
      "execution_count": null,
      "outputs": []
    }
  ]
}