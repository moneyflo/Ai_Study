{
  "nbformat": 4,
  "nbformat_minor": 0,
  "metadata": {
    "colab": {
      "name": "bj20546.ipynb",
      "provenance": []
    },
    "kernelspec": {
      "name": "python3",
      "display_name": "Python 3"
    },
    "language_info": {
      "name": "python"
    }
  },
  "cells": [
    {
      "cell_type": "code",
      "metadata": {
        "colab": {
          "base_uri": "https://localhost:8080/"
        },
        "id": "bC-yi0bBTvEL",
        "outputId": "766dfa80-8da7-407f-f8f7-7f0e35164537"
      },
      "source": [
        "M = int(input())\n",
        "\n",
        "m1 = M\n",
        "m2 = M\n",
        "\n",
        "stk1 = 0\n",
        "stk2 = 0\n",
        "\n",
        "cnt1 = 0\n",
        "cnt2 = 0\n",
        "\n",
        "stk = map(int, input().split())\n",
        "stk = list(stk)\n",
        "\n",
        "for i in range(10):\n",
        "    # BNP 기법\n",
        "    if stk[i] <= m1:\n",
        "        stk1 = m1 // stk[i]\n",
        "        m1 = m1 - (m1 // stk[i]) * stk[i]\n",
        "\n",
        "    # TIMING 기법\n",
        "    if i != 0:\n",
        "        if stk[i-1] > stk[i]:\n",
        "            cnt2 += 1\n",
        "            cnt1 = 0\n",
        "        elif stk[i-1] < stk[i]:\n",
        "            cnt1 += 1\n",
        "            cnt2 = 0\n",
        "        else:\n",
        "            cnt1, cnt2 = 0, 0\n",
        "    \n",
        "    if cnt1 >= 3:\n",
        "        m2 += stk2 * stk[i]\n",
        "        stk2 = 0\n",
        "        \n",
        "    elif cnt2 >= 3:\n",
        "        if stk[i] <= m2:\n",
        "            stk2 = m2 // stk[i]\n",
        "            m2 = m2 - (m2 // stk[i]) * stk[i]\n",
        "        \n",
        "\n",
        "m1 = m1 + stk[13]*stk1\n",
        "m2 = m2 + stk[13]*stk2\n",
        "\n",
        "if m1 > m2:\n",
        "    print(\"BNP\")\n",
        "elif m1 < m2:\n",
        "    print(\"TIMING\")\n",
        "else:\n",
        "    print(\"SAMESAME\")\n",
        "\n",
        "\n"
      ],
      "execution_count": null,
      "outputs": [
        {
          "output_type": "stream",
          "text": [
            "15\n",
            "20 20 33 98 15 6 4 1 1 1 2 3 6 14\n",
            "TIMING\n"
          ],
          "name": "stdout"
        }
      ]
    }
  ]
}