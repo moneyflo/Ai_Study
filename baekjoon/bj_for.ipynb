{
  "nbformat": 4,
  "nbformat_minor": 0,
  "metadata": {
    "colab": {
      "name": "bj_for.ipynb",
      "provenance": [],
      "collapsed_sections": []
    },
    "kernelspec": {
      "name": "python3",
      "display_name": "Python 3"
    },
    "language_info": {
      "name": "python"
    }
  },
  "cells": [
    {
      "cell_type": "markdown",
      "metadata": {
        "id": "DQtyYaxOWUwf"
      },
      "source": [
        "# for문"
      ]
    },
    {
      "cell_type": "code",
      "metadata": {
        "colab": {
          "base_uri": "https://localhost:8080/"
        },
        "id": "kdpce7iMWPUX",
        "outputId": "c175f52f-901e-4ed6-cf87-e1c5b707e5d1"
      },
      "source": [
        "# 2739\n",
        "N = int(input())\n",
        "\n",
        "for i in range(1, 10):\n",
        "    print(f\"{N} * {i} = {N*i}\")"
      ],
      "execution_count": null,
      "outputs": [
        {
          "output_type": "stream",
          "text": [
            "2\n",
            "2 * 1 = 2\n",
            "2 * 2 = 4\n",
            "2 * 3 = 6\n",
            "2 * 4 = 8\n",
            "2 * 5 = 10\n",
            "2 * 6 = 12\n",
            "2 * 7 = 14\n",
            "2 * 8 = 16\n",
            "2 * 9 = 18\n"
          ],
          "name": "stdout"
        }
      ]
    },
    {
      "cell_type": "code",
      "metadata": {
        "colab": {
          "base_uri": "https://localhost:8080/"
        },
        "id": "GcY10nmFXvff",
        "outputId": "4a383962-5486-4414-c67f-6a75d99ed6ef"
      },
      "source": [
        "# 8393\n",
        "N = int(input())\n",
        "\n",
        "n = N * (1 + N) / 2\n",
        "\n",
        "print(int(n))"
      ],
      "execution_count": null,
      "outputs": [
        {
          "output_type": "stream",
          "text": [
            "10\n",
            "55\n"
          ],
          "name": "stdout"
        }
      ]
    },
    {
      "cell_type": "code",
      "metadata": {
        "colab": {
          "base_uri": "https://localhost:8080/"
        },
        "id": "VTUL0uQacWxP",
        "outputId": "aca99b6c-824e-4ee4-c9dd-5592fd15027a"
      },
      "source": [
        "# 15552\n",
        "N = int(input())\n",
        "\n",
        "for i in range(N):\n",
        "    A, B = map(int, input().split())\n",
        "    print(A+B)"
      ],
      "execution_count": null,
      "outputs": [
        {
          "output_type": "stream",
          "text": [
            "3\n",
            "1 1\n",
            "2\n",
            "1 3\n",
            "4\n",
            "2 1\n",
            "3\n"
          ],
          "name": "stdout"
        }
      ]
    },
    {
      "cell_type": "code",
      "metadata": {
        "colab": {
          "base_uri": "https://localhost:8080/"
        },
        "id": "PE_jf9v9vWRq",
        "outputId": "dcc25ca5-a805-458d-a7e6-d1ce4cb37552"
      },
      "source": [
        "# 11022\n",
        "T = int(input())\n",
        "\n",
        "for i in range(T):\n",
        "    a, b = map(int, input().split())\n",
        "\n",
        "    print(f\"Case #{i+1}: {a} + {b} = {a+b}\")"
      ],
      "execution_count": 1,
      "outputs": [
        {
          "output_type": "stream",
          "text": [
            "5\n",
            "1 1\n",
            "Case #1: 1 + 1 = 2\n",
            "2 3\n",
            "Case #2: 2 + 3 = 5\n",
            "3 4\n",
            "Case #3: 3 + 4 = 7\n",
            "9 8\n",
            "Case #4: 9 + 8 = 17\n",
            "5 2\n",
            "Case #5: 5 + 2 = 7\n"
          ],
          "name": "stdout"
        }
      ]
    },
    {
      "cell_type": "code",
      "metadata": {
        "colab": {
          "base_uri": "https://localhost:8080/"
        },
        "id": "YqY97oH_wHOg",
        "outputId": "683ef8d8-ddf4-416e-8dac-a05a545bdedd"
      },
      "source": [
        "# 2438\n",
        "N = int(input())\n",
        "\n",
        "for i in range(N):\n",
        "    print(\"*\" * (i+1))"
      ],
      "execution_count": 2,
      "outputs": [
        {
          "output_type": "stream",
          "text": [
            "5\n",
            "*\n",
            "**\n",
            "***\n",
            "****\n",
            "*****\n"
          ],
          "name": "stdout"
        }
      ]
    },
    {
      "cell_type": "code",
      "metadata": {
        "colab": {
          "base_uri": "https://localhost:8080/"
        },
        "id": "IIZJvahTwglS",
        "outputId": "83f67f6c-0648-45bd-ba3d-694d8a23db1f"
      },
      "source": [
        "# 2439\n",
        "N = int(input())\n",
        "\n",
        "for i in range(N):\n",
        "    t = i+1\n",
        "    print(' '*(N-t) + '*'*t)"
      ],
      "execution_count": 3,
      "outputs": [
        {
          "output_type": "stream",
          "text": [
            "5\n",
            "    *\n",
            "   **\n",
            "  ***\n",
            " ****\n",
            "*****\n"
          ],
          "name": "stdout"
        }
      ]
    },
    {
      "cell_type": "code",
      "metadata": {
        "colab": {
          "base_uri": "https://localhost:8080/"
        },
        "id": "Zt4Dn47JxHx2",
        "outputId": "507a6d5f-b03a-4d0e-9a4e-53b5ee0ced69"
      },
      "source": [
        "# 10871\n",
        "N, X = map(int, input().split())\n",
        "an = list(map(int, input().split()))\n",
        "\n",
        "for a in an:\n",
        "    if a < X:\n",
        "        print(a, end=\" \")"
      ],
      "execution_count": 12,
      "outputs": [
        {
          "output_type": "stream",
          "text": [
            "10 5\n",
            "1 10 4 9 2 3 8 5 7 6\n",
            "1 4 2 3 "
          ],
          "name": "stdout"
        }
      ]
    },
    {
      "cell_type": "code",
      "metadata": {
        "colab": {
          "base_uri": "https://localhost:8080/"
        },
        "id": "UtqIVcuWxh2I",
        "outputId": "027869a8-1243-4e0b-9b59-edbde170ba3a"
      },
      "source": [
        "type(an)"
      ],
      "execution_count": 11,
      "outputs": [
        {
          "output_type": "execute_result",
          "data": {
            "text/plain": [
              "list"
            ]
          },
          "metadata": {
            "tags": []
          },
          "execution_count": 11
        }
      ]
    }
  ]
}