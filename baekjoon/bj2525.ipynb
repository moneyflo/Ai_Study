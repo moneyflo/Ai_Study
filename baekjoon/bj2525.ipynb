{
  "nbformat": 4,
  "nbformat_minor": 0,
  "metadata": {
    "colab": {
      "name": "bj2525.ipynb",
      "provenance": [],
      "collapsed_sections": []
    },
    "kernelspec": {
      "name": "python3",
      "display_name": "Python 3"
    },
    "language_info": {
      "name": "python"
    }
  },
  "cells": [
    {
      "cell_type": "code",
      "metadata": {
        "colab": {
          "base_uri": "https://localhost:8080/"
        },
        "id": "cFdACJHu17j2",
        "outputId": "13e766bf-7a4a-4c0b-b465-2101be3c8356"
      },
      "source": [
        "h, m = map(int, input().split())\n",
        "p = int(input())\n",
        "\n",
        "n1 = m + p\n",
        "\n",
        "for i in range(25):\n",
        "  if n1 >= 60:\n",
        "    h += 1\n",
        "    n1 -= 60\n",
        "    if h >= 24:\n",
        "      h -= 24\n",
        "  else:\n",
        "    break\n",
        "\n",
        "print(\"{} {}\".format(h, n1))\n",
        "\n",
        "    "
      ],
      "execution_count": 1,
      "outputs": [
        {
          "output_type": "stream",
          "text": [
            "23 13\n",
            "150\n",
            "1 43\n"
          ],
          "name": "stdout"
        }
      ]
    },
    {
      "cell_type": "code",
      "metadata": {
        "colab": {
          "base_uri": "https://localhost:8080/",
          "height": 36
        },
        "id": "G_zrhX144Aq9",
        "outputId": "260bccb0-0798-41b1-ff7a-a1a358093202"
      },
      "source": [
        ""
      ],
      "execution_count": null,
      "outputs": [
        {
          "output_type": "execute_result",
          "data": {
            "application/vnd.google.colaboratory.intrinsic+json": {
              "type": "string"
            },
            "text/plain": [
              "'100010'"
            ]
          },
          "metadata": {
            "tags": []
          },
          "execution_count": 7
        }
      ]
    }
  ]
}
