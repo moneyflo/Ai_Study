{
  "nbformat": 4,
  "nbformat_minor": 0,
  "metadata": {
    "colab": {
      "name": "bj2747.ipynb",
      "provenance": []
    },
    "kernelspec": {
      "name": "python3",
      "display_name": "Python 3"
    },
    "language_info": {
      "name": "python"
    }
  },
  "cells": [
    {
      "cell_type": "code",
      "metadata": {
        "colab": {
          "base_uri": "https://localhost:8080/"
        },
        "id": "mm3jZElsUiiQ",
        "outputId": "5cd0feb1-4c55-4389-f940-912cd144be86"
      },
      "source": [
        "# 피보나치 수 구하기\n",
        "\n",
        "n = int(input())\n",
        "\n",
        "a = 0\n",
        "b = 1\n",
        "if n == 0:\n",
        "    print(0)\n",
        "elif n == 1:\n",
        "    print(1)\n",
        "else:\n",
        "    for i in range(n-1):\n",
        "        a, b = b, a+b\n",
        "    print(b)\n"
      ],
      "execution_count": 2,
      "outputs": [
        {
          "output_type": "stream",
          "text": [
            "10\n",
            "55\n"
          ],
          "name": "stdout"
        }
      ]
    }
  ]
}