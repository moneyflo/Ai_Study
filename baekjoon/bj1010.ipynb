{
  "nbformat": 4,
  "nbformat_minor": 0,
  "metadata": {
    "colab": {
      "name": "bj1010.ipynb",
      "provenance": []
    },
    "kernelspec": {
      "name": "python3",
      "display_name": "Python 3"
    },
    "language_info": {
      "name": "python"
    }
  },
  "cells": [
    {
      "cell_type": "code",
      "metadata": {
        "colab": {
          "base_uri": "https://localhost:8080/"
        },
        "id": "OPTQs6bmn82M",
        "outputId": "609085bb-d8bc-4bbf-892b-f74f9a317fba"
      },
      "source": [
        "T = int(input())\n",
        "\n",
        "for i in range(T):\n",
        "    n, m = map(int, input().split())\n",
        "\n",
        "    p1 = 1\n",
        "    p2 = 1\n",
        "    fac = 1\n",
        "    for i in range(1, m+1):\n",
        "        p1 = p1 * i\n",
        "\n",
        "    for i in range(1, n+1):\n",
        "        p2 = p2 * i\n",
        "    \n",
        "    for i in range(1, m-n+1):\n",
        "        fac = fac * i\n",
        "    \n",
        "    sol = p1 / (p2 * fac) \n",
        "    print(int(sol))\n",
        "\n",
        "\n"
      ],
      "execution_count": 12,
      "outputs": [
        {
          "output_type": "stream",
          "text": [
            "1\n",
            "1 5\n",
            "5\n"
          ],
          "name": "stdout"
        }
      ]
    },
    {
      "cell_type": "code",
      "metadata": {
        "id": "yLSugi4Xq89K"
      },
      "source": [
        ""
      ],
      "execution_count": null,
      "outputs": []
    }
  ]
}