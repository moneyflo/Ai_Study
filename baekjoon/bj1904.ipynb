{
  "nbformat": 4,
  "nbformat_minor": 0,
  "metadata": {
    "colab": {
      "name": "bj1904.ipynb",
      "provenance": []
    },
    "kernelspec": {
      "name": "python3",
      "display_name": "Python 3"
    },
    "language_info": {
      "name": "python"
    }
  },
  "cells": [
    {
      "cell_type": "code",
      "metadata": {
        "colab": {
          "base_uri": "https://localhost:8080/"
        },
        "id": "YFI3osRUk71k",
        "outputId": "2a79a72e-f42b-4be3-9552-d7e0af80bbf4"
      },
      "source": [
        "from math import factorial as fac\n",
        "\n",
        "# def fac(x):\n",
        "#     mul = 1\n",
        "#     while x != 0:\n",
        "#         mul *= x\n",
        "#         x -= 1\n",
        "#     return mul\n",
        "\n",
        "def Com(n, r):\n",
        "    return fac(n) / (fac(r) * fac(n-r))\n",
        "\n",
        "N = int(input())\n",
        "sol = 0\n",
        "r = int(N/2)\n",
        "\n",
        "if N == 1:\n",
        "    sol = 1\n",
        "elif N == 2:\n",
        "    sol = 2\n",
        "elif N == 3:\n",
        "    sol = 3\n",
        "else:\n",
        "    for x in range(r+1):\n",
        "        sol += (r-x) * Com(N-x, x)\n",
        "\n",
        "sol = int(sol % 15746)\n",
        "print(sol)\n",
        "\n",
        "\n",
        "    "
      ],
      "execution_count": null,
      "outputs": [
        {
          "output_type": "stream",
          "text": [
            "6\n",
            "19\n"
          ],
          "name": "stdout"
        }
      ]
    },
    {
      "cell_type": "code",
      "metadata": {
        "colab": {
          "base_uri": "https://localhost:8080/",
          "height": 269
        },
        "id": "3ibohBsFNfHs",
        "outputId": "f96c79c2-e425-4ccd-9f88-7f99bc909504"
      },
      "source": [
        "N = int(input())\n",
        "\n",
        "from functools import wraps\n",
        "\n",
        "def memo(func):\n",
        "    cache = {}\n",
        "\n",
        "    @wraps(func)\n",
        "    def wrap(*args):\n",
        "        if args not in cache:\n",
        "            cache[args] = func(*args)\n",
        "        return cache[args]\n",
        "    return wrap\n",
        "\n",
        "def fib3(m, n):\n",
        "    if m[n] == 0:\n",
        "        m[n] = fib3(m, n-1) + fib3(m, n-2)\n",
        "    return m[n]\n",
        "\n",
        "def test_fib3(n):\n",
        "    m = [0] * (n+1)\n",
        "    m[0], m[1] = 1, 1\n",
        "    print(fib3(m, n))\n",
        "\n",
        "print(test_fib3(N) % 15746)\n",
        "\n"
      ],
      "execution_count": null,
      "outputs": [
        {
          "output_type": "stream",
          "text": [
            "5\n",
            "8\n"
          ],
          "name": "stdout"
        },
        {
          "output_type": "error",
          "ename": "TypeError",
          "evalue": "ignored",
          "traceback": [
            "\u001b[0;31m---------------------------------------------------------------------------\u001b[0m",
            "\u001b[0;31mTypeError\u001b[0m                                 Traceback (most recent call last)",
            "\u001b[0;32m<ipython-input-27-6efabee5ce5f>\u001b[0m in \u001b[0;36m<module>\u001b[0;34m()\u001b[0m\n\u001b[1;32m     23\u001b[0m     \u001b[0mprint\u001b[0m\u001b[0;34m(\u001b[0m\u001b[0mfib3\u001b[0m\u001b[0;34m(\u001b[0m\u001b[0mm\u001b[0m\u001b[0;34m,\u001b[0m \u001b[0mn\u001b[0m\u001b[0;34m)\u001b[0m\u001b[0;34m)\u001b[0m\u001b[0;34m\u001b[0m\u001b[0;34m\u001b[0m\u001b[0m\n\u001b[1;32m     24\u001b[0m \u001b[0;34m\u001b[0m\u001b[0m\n\u001b[0;32m---> 25\u001b[0;31m \u001b[0mprint\u001b[0m\u001b[0;34m(\u001b[0m\u001b[0mtest_fib3\u001b[0m\u001b[0;34m(\u001b[0m\u001b[0mN\u001b[0m\u001b[0;34m)\u001b[0m \u001b[0;34m%\u001b[0m \u001b[0;36m15746\u001b[0m\u001b[0;34m)\u001b[0m\u001b[0;34m\u001b[0m\u001b[0;34m\u001b[0m\u001b[0m\n\u001b[0m\u001b[1;32m     26\u001b[0m \u001b[0;34m\u001b[0m\u001b[0m\n",
            "\u001b[0;31mTypeError\u001b[0m: unsupported operand type(s) for %: 'NoneType' and 'int'"
          ]
        }
      ]
    },
    {
      "cell_type": "code",
      "metadata": {
        "colab": {
          "base_uri": "https://localhost:8080/"
        },
        "id": "PlRTLc13UQdn",
        "outputId": "043f35e3-a347-443d-d1e8-89bb4df4d10f"
      },
      "source": [
        "N = int(input())\n",
        "\n",
        "dp = [0, 1, 2] + [0]*(N-1)\n",
        "\n",
        "if N == 1:\n",
        "    print(1)\n",
        "elif N == 2:\n",
        "    print(2)\n",
        "else:\n",
        "    for i in range(2, N+1):\n",
        "        if dp[i] == 0:\n",
        "            dp[i] = (dp[i-1] + dp[i-2]) % 15746\n",
        "        \n",
        "    print(dp[N])\n"
      ],
      "execution_count": 38,
      "outputs": [
        {
          "output_type": "stream",
          "text": [
            "6\n",
            "13\n"
          ],
          "name": "stdout"
        }
      ]
    }
  ]
}