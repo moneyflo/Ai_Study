{
  "nbformat": 4,
  "nbformat_minor": 0,
  "metadata": {
    "colab": {
      "name": "bj_while.ipynb",
      "provenance": []
    },
    "kernelspec": {
      "name": "python3",
      "display_name": "Python 3"
    },
    "language_info": {
      "name": "python"
    }
  },
  "cells": [
    {
      "cell_type": "code",
      "metadata": {
        "colab": {
          "base_uri": "https://localhost:8080/"
        },
        "id": "-HaZ264QzXnh",
        "outputId": "dd581bf8-1a7a-4243-b155-f488b8b51d98"
      },
      "source": [
        "# 10952\n",
        "while True:\n",
        "    a, b = map(int, input().split())\n",
        "    if a == 0:\n",
        "        break\n",
        "    \n",
        "    print(a+b)"
      ],
      "execution_count": 1,
      "outputs": [
        {
          "output_type": "stream",
          "text": [
            "1 1\n",
            "2\n",
            "2 3\n",
            "5\n",
            "9 8\n",
            "17\n",
            "0 0\n"
          ],
          "name": "stdout"
        }
      ]
    },
    {
      "cell_type": "code",
      "metadata": {
        "id": "p_Muy99G0X38"
      },
      "source": [
        "# 10951 EOF 예외처리\n",
        "\n",
        "while True:\n",
        "    try:\n",
        "        a, b = map(int, input().split())\n",
        "        print(a+b)\n",
        "    except EOFError:\n",
        "        break"
      ],
      "execution_count": null,
      "outputs": []
    },
    {
      "cell_type": "code",
      "metadata": {
        "colab": {
          "base_uri": "https://localhost:8080/"
        },
        "id": "B1HrWZc82bNK",
        "outputId": "e8ba75ba-e175-4a3a-e3ec-efd2214994c0"
      },
      "source": [
        "# 1110\n",
        "n = int(input())\n",
        "a = n // 10\n",
        "b = n % 10\n",
        "c = (a + b) % 10\n",
        "cnt = 1\n",
        "while 10*b + c != n:\n",
        "    cnt += 1\n",
        "    a = b\n",
        "    b = c\n",
        "    c = (a + b) % 10\n",
        "\n",
        "print(cnt)"
      ],
      "execution_count": 4,
      "outputs": [
        {
          "output_type": "stream",
          "text": [
            "0\n",
            "1\n"
          ],
          "name": "stdout"
        }
      ]
    },
    {
      "cell_type": "code",
      "metadata": {
        "colab": {
          "base_uri": "https://localhost:8080/"
        },
        "id": "oW_Q-HrZ3IOb",
        "outputId": "3d638380-9200-4c61-af0e-94fd54b2265f"
      },
      "source": [
        "10 % 2"
      ],
      "execution_count": 4,
      "outputs": [
        {
          "output_type": "execute_result",
          "data": {
            "text/plain": [
              "0"
            ]
          },
          "metadata": {
            "tags": []
          },
          "execution_count": 4
        }
      ]
    }
  ]
}