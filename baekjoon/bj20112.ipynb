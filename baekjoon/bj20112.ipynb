{
  "nbformat": 4,
  "nbformat_minor": 0,
  "metadata": {
    "colab": {
      "name": "bj20112.ipynb",
      "provenance": []
    },
    "kernelspec": {
      "name": "python3",
      "display_name": "Python 3"
    },
    "language_info": {
      "name": "python"
    }
  },
  "cells": [
    {
      "cell_type": "code",
      "metadata": {
        "colab": {
          "base_uri": "https://localhost:8080/"
        },
        "id": "DjOUdJHVFV31",
        "outputId": "47cdb8a6-2cab-4c7c-b6ba-ab766c92290a"
      },
      "source": [
        "N = int(input())\n",
        "\n",
        "ll = []\n",
        "sol = True\n",
        "\n",
        "for i in range(N):\n",
        "    l = list(input())\n",
        "    ll.append(l)\n",
        "\n",
        "for x in range(N):\n",
        "    for y in range(N):\n",
        "        if x == y:\n",
        "            continue\n",
        "        if ll[x][y] != ll[y][x]:\n",
        "            sol = False\n",
        "            break\n",
        "\n",
        "if sol:\n",
        "    print(\"YES\")\n",
        "else:\n",
        "    print(\"NO\")\n",
        "\n",
        "\n",
        "\n"
      ],
      "execution_count": 4,
      "outputs": [
        {
          "output_type": "stream",
          "text": [
            "4\n",
            "APPL\n",
            "PPAP\n",
            "PADD\n",
            "LPOV\n",
            "NO\n"
          ],
          "name": "stdout"
        }
      ]
    }
  ]
}