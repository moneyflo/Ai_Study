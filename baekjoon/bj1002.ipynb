{
  "nbformat": 4,
  "nbformat_minor": 0,
  "metadata": {
    "colab": {
      "name": "bj1002.ipynb",
      "provenance": []
    },
    "kernelspec": {
      "name": "python3",
      "display_name": "Python 3"
    },
    "language_info": {
      "name": "python"
    }
  },
  "cells": [
    {
      "cell_type": "code",
      "metadata": {
        "colab": {
          "base_uri": "https://localhost:8080/"
        },
        "id": "cEtOwUl8TvMQ",
        "outputId": "98df0611-93ff-40a8-d6bf-77f6605bcf85"
      },
      "source": [
        "T = int(input())\n",
        "\n",
        "for i in range(T):\n",
        "    x1, y1, r1, x2, y2, r2 = map(int, input().split())\n",
        "\n",
        "    dis1 = r1 + r2\n",
        "    dis2 = abs(r1 - r2)\n",
        "    dis3 = ((x1-x2)**2 + (y1-y2)**2)**(1/2)\n",
        "\n",
        "    if x1 == x2 and y1 == y2:\n",
        "        if r1 == r2:\n",
        "            print(-1)\n",
        "        else:\n",
        "            print(0)\n",
        "    elif dis2 < dis3 < dis1:\n",
        "        print(2)\n",
        "    elif dis1 == dis3:\n",
        "        print(1)\n",
        "    elif dis2 == dis3:\n",
        "        print(1)\n",
        "    elif dis1 < dis3:\n",
        "        print(0)\n",
        "    elif dis3 < dis2:\n",
        "        print(0)\n",
        "    elif dis3 == 0:\n",
        "        print(-1)\n"
      ],
      "execution_count": 7,
      "outputs": [
        {
          "output_type": "stream",
          "text": [
            "1\n",
            "1 2 3 4 5 6\n",
            "2\n"
          ],
          "name": "stdout"
        }
      ]
    }
  ]
}