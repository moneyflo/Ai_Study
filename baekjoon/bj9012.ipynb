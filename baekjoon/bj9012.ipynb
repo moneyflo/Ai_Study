{
  "nbformat": 4,
  "nbformat_minor": 0,
  "metadata": {
    "colab": {
      "name": "bj9012.ipynb",
      "provenance": []
    },
    "kernelspec": {
      "name": "python3",
      "display_name": "Python 3"
    },
    "language_info": {
      "name": "python"
    }
  },
  "cells": [
    {
      "cell_type": "code",
      "metadata": {
        "colab": {
          "base_uri": "https://localhost:8080/"
        },
        "id": "zj6uUrocWRr3",
        "outputId": "df594021-10fc-41c9-b0e2-4635fda89cc1"
      },
      "source": [
        "# 예외를 활용하려다 실패한거\n",
        "\n",
        "T = int(input())\n",
        "\n",
        "for x in range(T):\n",
        "    t = input()\n",
        "    L = t.count(\"(\")\n",
        "    R = t.count(\")\")\n",
        "    \n",
        "    if len(t) % 2 != 0:\n",
        "        print(\"N0\")\n",
        "        continue\n",
        "\n",
        "    elif L != R:\n",
        "        print(\"NO\")\n",
        "        continue\n",
        "    \n",
        "    elif t[0] == \")\":\n",
        "        print(\"NO\")\n",
        "        continue\n",
        "\n",
        "    elif t[len(t)] == \"(\":\n",
        "        print(\"NO\")\n",
        "        continue\n",
        "\n",
        "    else:\n",
        "        print(\"YES\")\n"
      ],
      "execution_count": null,
      "outputs": [
        {
          "output_type": "stream",
          "text": [
            "6\n",
            "(())())\n",
            "N0\n",
            "(((()())()\n",
            "No\n",
            "(()())((()))\n",
            "((()()(()))(((())))()\n",
            "N0\n",
            "()()()()(()()())()\n",
            "(()((())()(\n",
            "N0\n"
          ],
          "name": "stdout"
        }
      ]
    },
    {
      "cell_type": "code",
      "metadata": {
        "colab": {
          "base_uri": "https://localhost:8080/"
        },
        "id": "KNejQwbsY71A",
        "outputId": "caa5d95e-b1e5-44d5-9636-53ea4477ca7b"
      },
      "source": [
        "# 성공\n",
        "\n",
        "T = int(input())\n",
        "\n",
        "for x in range(T):\n",
        "    t = input()\n",
        "    l1 = []\n",
        "\n",
        "    while True:\n",
        "        if \"()\" in t:\n",
        "            l1 = t.split(\"()\")\n",
        "            t = ''.join(l1)\n",
        "            if t == \"\":\n",
        "                print(\"YES\")\n",
        "                break\n",
        "        else:\n",
        "            print(\"NO\")\n",
        "            break"
      ],
      "execution_count": 1,
      "outputs": [
        {
          "output_type": "stream",
          "text": [
            "1\n",
            "(()()())\n",
            "YES\n"
          ],
          "name": "stdout"
        }
      ]
    },
    {
      "cell_type": "code",
      "metadata": {
        "colab": {
          "base_uri": "https://localhost:8080/"
        },
        "id": "5XK74JB4c7et",
        "outputId": "82540a48-fc43-433d-d59c-d40921e7f49b"
      },
      "source": [
        "T = [\"\",\"\",\"\"]\n",
        "print(\"\".join(T))"
      ],
      "execution_count": null,
      "outputs": [
        {
          "output_type": "stream",
          "text": [
            "\n"
          ],
          "name": "stdout"
        }
      ]
    }
  ]
}