{
  "nbformat": 4,
  "nbformat_minor": 0,
  "metadata": {
    "colab": {
      "name": "bj2217.ipynb",
      "provenance": []
    },
    "kernelspec": {
      "name": "python3",
      "display_name": "Python 3"
    },
    "language_info": {
      "name": "python"
    }
  },
  "cells": [
    {
      "cell_type": "code",
      "metadata": {
        "colab": {
          "base_uri": "https://localhost:8080/"
        },
        "id": "5cn5uzL6gtPY",
        "outputId": "6b87227d-92e5-40b2-9e39-ace4e9f8bc9e"
      },
      "source": [
        "N = int(input())\n",
        "\n",
        "lop_ = []\n",
        "\n",
        "for x in range(N):\n",
        "    n = int(input())\n",
        "    lop_.append(n)\n",
        "\n",
        "lop_.sort()\n",
        "\n",
        "lop_sum = 0\n",
        "\n",
        "for i in range(len(lop_)):\n",
        "    lop_sum_1 = lop_[i] * (len(lop_) - i)\n",
        "    if lop_sum < lop_sum_1:\n",
        "        lop_sum = lop_sum_1\n",
        "\n",
        "print(lop_sum)\n"
      ],
      "execution_count": 11,
      "outputs": [
        {
          "output_type": "stream",
          "text": [
            "2\n",
            "10\n",
            "15\n",
            "20\n"
          ],
          "name": "stdout"
        }
      ]
    },
    {
      "cell_type": "code",
      "metadata": {
        "colab": {
          "base_uri": "https://localhost:8080/"
        },
        "id": "AB4Nk81CiYLC",
        "outputId": "aa4dd15d-0bea-4b11-f3e4-1278d6b37ae0"
      },
      "source": [
        ""
      ],
      "execution_count": 7,
      "outputs": [
        {
          "output_type": "stream",
          "text": [
            "[5, 10]\n"
          ],
          "name": "stdout"
        }
      ]
    }
  ]
}