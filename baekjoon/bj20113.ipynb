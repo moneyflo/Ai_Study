{
  "nbformat": 4,
  "nbformat_minor": 0,
  "metadata": {
    "colab": {
      "name": "bj20113.ipynb",
      "provenance": []
    },
    "kernelspec": {
      "name": "python3",
      "display_name": "Python 3"
    },
    "language_info": {
      "name": "python"
    }
  },
  "cells": [
    {
      "cell_type": "code",
      "metadata": {
        "colab": {
          "base_uri": "https://localhost:8080/"
        },
        "id": "eW2ppnwxMUjU",
        "outputId": "db8a9824-bff2-4e6a-a6b4-8ebc232b829f"
      },
      "source": [
        "from collections import Counter\n",
        "\n",
        "N = int(input())\n",
        "\n",
        "l1 = list(map(int, input().split()))\n",
        "\n",
        "l2 = Counter(l1).most_common()\n",
        "\n",
        "l2 = list(l2)\n",
        "\n",
        "if l2[0][0] == 0:\n",
        "    if l2[1][1] == l2[2][1]:\n",
        "        print(\"skipped\")\n",
        "    else:\n",
        "        print(l2[1][0])\n",
        "else:\n",
        "    if l2[0][1] == l2[1][1]:\n",
        "        print(\"skipped\")\n",
        "    else:\n",
        "        print(l2[0][0])\n",
        "\n",
        "\n"
      ],
      "execution_count": 12,
      "outputs": [
        {
          "output_type": "stream",
          "text": [
            "5\n",
            "0 0 0 1 2\n",
            "skipped\n"
          ],
          "name": "stdout"
        }
      ]
    }
  ]
}