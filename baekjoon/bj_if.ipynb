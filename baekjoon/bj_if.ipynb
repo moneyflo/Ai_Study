{
  "nbformat": 4,
  "nbformat_minor": 0,
  "metadata": {
    "colab": {
      "name": "bj_if.ipynb",
      "provenance": []
    },
    "kernelspec": {
      "name": "python3",
      "display_name": "Python 3"
    },
    "language_info": {
      "name": "python"
    }
  },
  "cells": [
    {
      "cell_type": "code",
      "metadata": {
        "id": "HeA6hGjsTGHn",
        "colab": {
          "base_uri": "https://localhost:8080/"
        },
        "outputId": "4dd29502-4fe4-46f7-c52c-5b5f47bc08e2"
      },
      "source": [
        "# 1330\n",
        "A, B = map(int, input().split())\n",
        "\n",
        "if A > B:\n",
        "    print('>')\n",
        "elif A < B:\n",
        "    print('<')\n",
        "else:\n",
        "    print('==')"
      ],
      "execution_count": 1,
      "outputs": [
        {
          "output_type": "stream",
          "text": [
            "8 1\n",
            ">\n"
          ],
          "name": "stdout"
        }
      ]
    },
    {
      "cell_type": "code",
      "metadata": {
        "id": "wUR2XOi5Tv0w"
      },
      "source": [
        "# 9498\n",
        "\n",
        "n = int(input())\n",
        "\n",
        "if 90 <= n:\n",
        "    print('A')\n",
        "elif 80 <= n:\n",
        "    print('B')\n",
        "elif 70 <= n:\n",
        "    print('C')\n",
        "elif 60 <= n:\n",
        "    print('D')\n",
        "else:\n",
        "    print('F')\n"
      ],
      "execution_count": null,
      "outputs": []
    },
    {
      "cell_type": "code",
      "metadata": {
        "colab": {
          "base_uri": "https://localhost:8080/"
        },
        "id": "uOvO8qHIURim",
        "outputId": "a6b46ae3-25c2-4736-a39a-e9b9a54be3ef"
      },
      "source": [
        "# 2753\n",
        "\n",
        "year = int(input())\n",
        "\n",
        "if year % 4 == 0:\n",
        "    if year % 400 == 0:\n",
        "        print(1)\n",
        "    elif year % 100 == 0:\n",
        "        print(0)\n",
        "    else:\n",
        "        print(1)\n",
        "\n",
        "else:\n",
        "    print(0)"
      ],
      "execution_count": 4,
      "outputs": [
        {
          "output_type": "stream",
          "text": [
            "1900\n",
            "0\n"
          ],
          "name": "stdout"
        }
      ]
    },
    {
      "cell_type": "code",
      "metadata": {
        "id": "OOLRiGBBVXGz"
      },
      "source": [
        "# 14681\n",
        "\n",
        "x = int(input())\n",
        "y = int(input())\n",
        "\n",
        "if x * y > 0:\n",
        "    if x > 0:\n",
        "        print(1)\n",
        "    else:\n",
        "        print(3)\n",
        "else:\n",
        "    if x < 0:\n",
        "        print(2)\n",
        "    else:\n",
        "        print(4)"
      ],
      "execution_count": null,
      "outputs": []
    },
    {
      "cell_type": "code",
      "metadata": {
        "colab": {
          "base_uri": "https://localhost:8080/"
        },
        "id": "Q_-90x15V-wU",
        "outputId": "13932145-ddc4-48b6-c85a-6cd5d027f05f"
      },
      "source": [
        "# 2884\n",
        "\n",
        "h, m = map(int, input().split())\n",
        "\n",
        "if m < 45:\n",
        "    if h == 0:\n",
        "        print(23, m+15)\n",
        "    else:\n",
        "        print(h-1, m+15)\n",
        "else:\n",
        "    print(h, m-45)"
      ],
      "execution_count": 7,
      "outputs": [
        {
          "output_type": "stream",
          "text": [
            "23 40\n",
            "22 55\n"
          ],
          "name": "stdout"
        }
      ]
    }
  ]
}