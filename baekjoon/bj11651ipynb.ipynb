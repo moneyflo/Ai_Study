{
  "nbformat": 4,
  "nbformat_minor": 0,
  "metadata": {
    "colab": {
      "name": "bj11651ipynb",
      "provenance": []
    },
    "kernelspec": {
      "name": "python3",
      "display_name": "Python 3"
    },
    "language_info": {
      "name": "python"
    }
  },
  "cells": [
    {
      "cell_type": "code",
      "metadata": {
        "colab": {
          "base_uri": "https://localhost:8080/"
        },
        "id": "YSN29PcNbQSC",
        "outputId": "e691f1ba-6464-48d1-c72c-1d2548e1cc49"
      },
      "source": [
        "# 좌표 정렬하기 2\n",
        "N = int(input())\n",
        "\n",
        "ll = []\n",
        "\n",
        "for i in range(N):\n",
        "    x, y = map(int, input().split())\n",
        "    ll.append([x,y])\n",
        "\n",
        "ll2 = sorted(ll, key=lambda x : (x[1], x[0]))\n",
        "\n",
        "for i in range(N):\n",
        "        print(ll2[i][0], ll2[i][1])\n",
        "\n"
      ],
      "execution_count": 5,
      "outputs": [
        {
          "output_type": "stream",
          "text": [
            "5\n",
            "0 4\n",
            "1 2\n",
            "1 -1\n",
            "2 2\n",
            "3 3\n",
            "1 -1\n",
            "1 2\n",
            "2 2\n",
            "3 3\n",
            "0 4\n"
          ],
          "name": "stdout"
        }
      ]
    }
  ]
}