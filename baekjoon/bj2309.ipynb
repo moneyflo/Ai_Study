{
  "nbformat": 4,
  "nbformat_minor": 0,
  "metadata": {
    "colab": {
      "name": "bj2309.ipynb",
      "provenance": [],
      "collapsed_sections": []
    },
    "kernelspec": {
      "name": "python3",
      "display_name": "Python 3"
    },
    "language_info": {
      "name": "python"
    }
  },
  "cells": [
    {
      "cell_type": "code",
      "metadata": {
        "id": "BaCLK9f0PJCf"
      },
      "source": [
        "## 직접 조합 구현하기\n",
        "\n",
        "l1 = []\n",
        "i = 0\n",
        "\n",
        "for x in range(9):\n",
        "    l1.append(int(input()))\n",
        "\n",
        "def cbn(list1, r):\n",
        "    for i in range(len(list1)):\n",
        "        if r == 1:\n",
        "            yield [list1[i]]\n",
        "        else:\n",
        "            for next in cbn(list1[i+1:], r-1):\n",
        "                yield [list1[i]] + next\n",
        "\n",
        "ll1 = list(cbn(l1, 7))\n",
        "\n",
        "while True:\n",
        "    l2 = ll1[i]\n",
        "    if sum(l2) == 100:\n",
        "        l2.sort()\n",
        "        for j in range(len(l2)):\n",
        "            print(l2[j])\n",
        "        break\n",
        "    else:\n",
        "        i += 1\n",
        "\n",
        "\n",
        "    \n"
      ],
      "execution_count": null,
      "outputs": []
    }
  ]
}