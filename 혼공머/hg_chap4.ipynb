{
  "nbformat": 4,
  "nbformat_minor": 0,
  "metadata": {
    "colab": {
      "name": "hg_chap4.ipynb",
      "provenance": []
    },
    "kernelspec": {
      "name": "python3",
      "display_name": "Python 3"
    },
    "language_info": {
      "name": "python"
    }
  },
  "cells": [
    {
      "cell_type": "markdown",
      "metadata": {
        "id": "55xe3Uuz7IPL"
      },
      "source": [
        "# Chapter 04 다양한 분류 알고리즘"
      ]
    },
    {
      "cell_type": "markdown",
      "metadata": {
        "id": "JLsJMlw-7M7M"
      },
      "source": [
        "## 04-1 로지스틱 회귀"
      ]
    },
    {
      "cell_type": "markdown",
      "metadata": {
        "id": "QoD6lzZ-7QSK"
      },
      "source": [
        "> ### 데이터 준비하기"
      ]
    },
    {
      "cell_type": "code",
      "metadata": {
        "colab": {
          "base_uri": "https://localhost:8080/"
        },
        "id": "DHD8dPb55Z71",
        "outputId": "7bcf60ed-fdc9-49e5-b390-c1540a97c8d6"
      },
      "source": [
        "import pandas as pd\n",
        "fish = pd.read_csv('https://bit.ly/fish_csv_data')\n",
        "fish.head()        ## 처음 5개 출력\n",
        "\n",
        "print(pd.unique(fish['Species']))\n",
        "\n",
        "fish_input = fish[['Weight', 'Length', 'Diagonal', 'Height', 'Width']].to_numpy()\n",
        "\n",
        "print(fish_input[:5])\n",
        "\n",
        "fish_target = fish['Species'].to_numpy()\n",
        "\n",
        "# 훈련셋과 테스트셋으로 나누기\n",
        "from sklearn.model_selection import train_test_split\n",
        "train_input, test_input, train_target, test_target = train_test_split(\n",
        "    fish_input, fish_target, random_state=42)\n",
        "\n",
        "# 표준화 전처리\n",
        "from sklearn.preprocessing import StandardScaler\n",
        "ss = StandardScaler()\n",
        "ss.fit(train_input)\n",
        "train_scaled = ss.transform(train_input)\n",
        "test_scaled = ss.transform(test_input)\n"
      ],
      "execution_count": null,
      "outputs": [
        {
          "output_type": "stream",
          "text": [
            "['Bream' 'Roach' 'Whitefish' 'Parkki' 'Perch' 'Pike' 'Smelt']\n",
            "[[242.      25.4     30.      11.52     4.02  ]\n",
            " [290.      26.3     31.2     12.48     4.3056]\n",
            " [340.      26.5     31.1     12.3778   4.6961]\n",
            " [363.      29.      33.5     12.73     4.4555]\n",
            " [430.      29.      34.      12.444    5.134 ]]\n"
          ],
          "name": "stdout"
        }
      ]
    },
    {
      "cell_type": "markdown",
      "metadata": {
        "id": "0q32S9tY-HCQ"
      },
      "source": [
        "> ### k-최근접 이웃 분류기의 확률 예측"
      ]
    },
    {
      "cell_type": "code",
      "metadata": {
        "colab": {
          "base_uri": "https://localhost:8080/"
        },
        "id": "pPtvaMLX-Loy",
        "outputId": "677918fd-885f-480f-d0e4-d64c144ebb2f"
      },
      "source": [
        "from sklearn.neighbors import KNeighborsClassifier\n",
        "kn = KNeighborsClassifier(n_neighbors=3)\n",
        "kn.fit(train_scaled, train_target)\n",
        "print(kn.score(train_scaled, train_target))\n",
        "print(kn.score(test_scaled, test_target))\n",
        "\n",
        "# 사이킷런에서는 타깃값 전달한 순서가 아니라 알파벳 순서대로 정렬함\n",
        "print(kn.classes_)   # <-- 정렬된 타깃값\n",
        "\n",
        "print(kn.predict(test_scaled[:5]))\n",
        "\n",
        "# 확률 체크\n",
        "import numpy as np\n",
        "proba = kn.predict_proba(test_scaled[:5])\n",
        "print(np.round(proba, decimals=4))  # <-- 소수점 네 번째 자리까지 표기\n",
        "\n",
        "distances, indexes = kn.kneighbors(test_scaled[3:4])  # 2차원 배열 받아야됨. np 슬라이싱은 2차원 배열 반환함\n",
        "print(train_target[indexes])"
      ],
      "execution_count": null,
      "outputs": [
        {
          "output_type": "stream",
          "text": [
            "0.8907563025210085\n",
            "0.85\n",
            "['Bream' 'Parkki' 'Perch' 'Pike' 'Roach' 'Smelt' 'Whitefish']\n",
            "['Perch' 'Smelt' 'Pike' 'Perch' 'Perch']\n",
            "[[0.     0.     1.     0.     0.     0.     0.    ]\n",
            " [0.     0.     0.     0.     0.     1.     0.    ]\n",
            " [0.     0.     0.     1.     0.     0.     0.    ]\n",
            " [0.     0.     0.6667 0.     0.3333 0.     0.    ]\n",
            " [0.     0.     0.6667 0.     0.3333 0.     0.    ]]\n",
            "[['Roach' 'Perch' 'Perch']]\n"
          ],
          "name": "stdout"
        }
      ]
    },
    {
      "cell_type": "markdown",
      "metadata": {
        "id": "CZG_jNy_HP2g"
      },
      "source": [
        "> ### 로지스틱 회귀\n",
        "* 이름은 회귀이지만 분류 모델. 선형 방정식을 학습"
      ]
    },
    {
      "cell_type": "code",
      "metadata": {
        "colab": {
          "base_uri": "https://localhost:8080/",
          "height": 279
        },
        "id": "Kndhu0CAHSId",
        "outputId": "6fee11f3-8ede-461b-cc76-338b9c3383fe"
      },
      "source": [
        "# 시그모이드 함수\n",
        "import numpy as np\n",
        "import matplotlib.pyplot as plt\n",
        "z = np.arange(-5, 5, 0.1)\n",
        "phi = 1 / (1 + np.exp(-z))\n",
        "plt.plot(z, phi)\n",
        "plt.xlabel('z')\n",
        "plt.ylabel('phi')\n",
        "plt.show()"
      ],
      "execution_count": null,
      "outputs": [
        {
          "output_type": "display_data",
          "data": {
            "image/png": "[encoded data removed]",
            "text/plain": [
              "<Figure size 432x288 with 1 Axes>"
            ]
          },
          "metadata": {
            "tags": [],
            "needs_background": "light"
          }
        }
      ]
    },
    {
      "cell_type": "markdown",
      "metadata": {
        "id": "T45BrkCcIYIm"
      },
      "source": [
        "> ### 로지스틱 회귀로 이진 분휴 수행하기"
      ]
    },
    {
      "cell_type": "code",
      "metadata": {
        "colab": {
          "base_uri": "https://localhost:8080/"
        },
        "id": "15pMuVG4IV2W",
        "outputId": "004666e7-a370-44bd-d7e9-f87eea98ca74"
      },
      "source": [
        "# 불리언 인덱싱\n",
        "char_arr = np.array(['A', 'B', 'C', 'D', 'E'])\n",
        "print(char_arr[[True, False, True, False, False]])\n",
        "\n",
        "# 도미와 빙어 행 골라내기\n",
        "bream_smelt_indexes = (train_target == 'Bream') | (train_target == 'Smelt')  # 도미와 빙어의 행 True로 반환\n",
        "train_bream_smelt = train_scaled[bream_smelt_indexes]\n",
        "target_bream_smelt = train_target[bream_smelt_indexes]\n",
        "\n",
        "# 로지스틱 회귀 모델 훈련\n",
        "from sklearn.linear_model import LogisticRegression\n",
        "lr = LogisticRegression()\n",
        "lr.fit(train_bream_smelt, target_bream_smelt)\n",
        "\n",
        "print(lr.predict(train_bream_smelt[:5]))\n",
        "print(lr.predict_proba(train_bream_smelt[:5]))\n",
        "\n",
        "print(lr.classes_)   # 인덱스 1 이 양성 클래스. 즉, 0.5보다 큰거\n",
        "\n",
        "print(lr.coef_, lr.intercept_)\n",
        "\n",
        "# decision_function()으로 z값 출력\n",
        "decisions = lr.decision_function(train_bream_smelt[:5])\n",
        "print(decisions)\n",
        "\n",
        "# z값을 확률로 변환\n",
        "from scipy.special import expit\n",
        "print(expit(decisions))\n"
      ],
      "execution_count": null,
      "outputs": [
        {
          "output_type": "stream",
          "text": [
            "['A' 'C']\n",
            "['Bream' 'Smelt' 'Bream' 'Bream' 'Bream']\n",
            "[[0.99759855 0.00240145]\n",
            " [0.02735183 0.97264817]\n",
            " [0.99486072 0.00513928]\n",
            " [0.98584202 0.01415798]\n",
            " [0.99767269 0.00232731]]\n",
            "['Bream' 'Smelt']\n",
            "[[-0.4037798  -0.57620209 -0.66280298 -1.01290277 -0.73168947]] [-2.16155132]\n",
            "[-6.02927744  3.57123907 -5.26568906 -4.24321775 -6.0607117 ]\n",
            "[0.00240145 0.97264817 0.00513928 0.01415798 0.00232731]\n"
          ],
          "name": "stdout"
        }
      ]
    },
    {
      "cell_type": "markdown",
      "metadata": {
        "id": "M0yOCYsGL8W-"
      },
      "source": [
        "> ### 로지스틱 회귀로 다중 분류 수행하기\n",
        "* LogisticRegression은 반복적 알고리즘 사용\n",
        "* max_iter 매개변수 에서 반복 횟수 지정, 기본값 100\n",
        "* 릿지와 유사하게 계수의 제곱을 규제, L2 규제라고함\n",
        "* 매개변수 C로 규제함. 작을수록 규제가 커짐"
      ]
    },
    {
      "cell_type": "code",
      "metadata": {
        "colab": {
          "base_uri": "https://localhost:8080/"
        },
        "id": "PTq9-Jv2L-8G",
        "outputId": "0a08176e-fb0b-4e94-f64b-de368ac001bb"
      },
      "source": [
        "lr = LogisticRegression(C=20, max_iter=1000)\n",
        "lr.fit(train_scaled, train_target)\n",
        "print(lr.score(train_scaled, train_target))\n",
        "print(lr.score(test_scaled, test_target))\n",
        "\n",
        "print(lr.predict(test_scaled[:5]))\n",
        "\n",
        "proba = lr.predict_proba(test_scaled[:5])\n",
        "print(np.round(proba, decimals=3))\n",
        "\n",
        "print(lr.classes_)\n",
        "\n",
        "# 다중 분류의 매개변수 크기 확인\n",
        "print(lr.coef_.shape, lr.intercept_.shape)\n",
        "\n",
        "# 소프트맥스 함수로 확률변환\n",
        "decision = lr.decision_function(test_scaled[:5])\n",
        "print(np.round(decision, decimals=2))\n",
        "\n",
        "from scipy.special import softmax\n",
        "proba = softmax(decision, axis=1)     ##  <-- axis=1로 지정해서 각 행에서 연산\n",
        "print(np.round(proba, decimals=3))"
      ],
      "execution_count": null,
      "outputs": [
        {
          "output_type": "stream",
          "text": [
            "0.9327731092436975\n",
            "0.925\n",
            "['Perch' 'Smelt' 'Pike' 'Roach' 'Perch']\n",
            "[[0.    0.014 0.841 0.    0.136 0.007 0.003]\n",
            " [0.    0.003 0.044 0.    0.007 0.946 0.   ]\n",
            " [0.    0.    0.034 0.935 0.015 0.016 0.   ]\n",
            " [0.011 0.034 0.306 0.007 0.567 0.    0.076]\n",
            " [0.    0.    0.904 0.002 0.089 0.002 0.001]]\n",
            "['Bream' 'Parkki' 'Perch' 'Pike' 'Roach' 'Smelt' 'Whitefish']\n",
            "(7, 5) (7,)\n",
            "[[ -6.5    1.03   5.16  -2.73   3.34   0.33  -0.63]\n",
            " [-10.86   1.93   4.77  -2.4    2.98   7.84  -4.26]\n",
            " [ -4.34  -6.23   3.17   6.49   2.36   2.42  -3.87]\n",
            " [ -0.68   0.45   2.65  -1.19   3.26  -5.75   1.26]\n",
            " [ -6.4   -1.99   5.82  -0.11   3.5   -0.11  -0.71]]\n",
            "[[0.    0.014 0.841 0.    0.136 0.007 0.003]\n",
            " [0.    0.003 0.044 0.    0.007 0.946 0.   ]\n",
            " [0.    0.    0.034 0.935 0.015 0.016 0.   ]\n",
            " [0.011 0.034 0.306 0.007 0.567 0.    0.076]\n",
            " [0.    0.    0.904 0.002 0.089 0.002 0.001]]\n"
          ],
          "name": "stdout"
        }
      ]
    },
    {
      "cell_type": "markdown",
      "metadata": {
        "id": "Vs3qKUy51xoV"
      },
      "source": [
        "## 4-2 확률적 경사 하강법"
      ]
    },
    {
      "cell_type": "markdown",
      "metadata": {
        "id": "us6WkTdz5ZcM"
      },
      "source": [
        "> ### 점진적인 학습\n",
        "훈련 데이터가 한 번에 준비되지 않고 조금씩 전달되는 경우, 아ㅠ서 훈련한 모델을 버리지 않고 계속해서 업데이트 하는 방식이 필요. 이런 식의 훈련 방식을 점진적 합습이라고 부르고 그 중 대표적인 점진적 학습 알고리즘은 '확률적 경사 하강법' 이다."
      ]
    },
    {
      "cell_type": "markdown",
      "metadata": {
        "id": "Aw5Tnc5V5xsy"
      },
      "source": [
        "> ### 확률적 경사 하강법\n",
        "* 확률적이란 말은 훈련셋에서 랜덤하게 하나의 샘플을 골라 경사 하강법을 수행하는것\n",
        "* 에포크는 확률적 경사 하강법에서 훈련 세트를 한 번 모두 사용하는 과정을 말함\n",
        "* 미니배치 경사 하강법은 하나가 아닌 무작위 여러개의 샘플을 통해 경사하강법을 수행하는 것\n",
        "* 배치 경사 하강법은 전체 샘플을 사용"
      ]
    },
    {
      "cell_type": "markdown",
      "metadata": {
        "id": "w1YnmlL692Tn"
      },
      "source": [
        "> ### 손실 함수\n",
        "어떤 문제에서 머신러닝 알고리즘이 얼마나 엉터리인지 측정하는 기준\n",
        "\n"
      ]
    },
    {
      "cell_type": "markdown",
      "metadata": {
        "id": "IBHck-fz-a4O"
      },
      "source": [
        "> ### 로지스틱 손실 함수\n",
        " \\- log(예측확률)"
      ]
    },
    {
      "cell_type": "markdown",
      "metadata": {
        "id": "xGxvwZGjAW84"
      },
      "source": [
        "> ### SGDClassifier"
      ]
    },
    {
      "cell_type": "code",
      "metadata": {
        "id": "wVY0AeDHAJFN",
        "colab": {
          "base_uri": "https://localhost:8080/"
        },
        "outputId": "1d153eea-8fde-4c8b-e075-049d0eb62b46"
      },
      "source": [
        "# 데이터 불러오기\n",
        "import pandas as pd\n",
        "fish = pd.read_csv('https://bit.ly/fish_csv_data')\n",
        "\n",
        "fish_input = fish[['Weight', 'Length', 'Diagonal', 'Height', 'Width']].to_numpy()\n",
        "fish_target = fish['Species'].to_numpy()\n",
        "\n",
        "# 테스트 세트와 훈련 세트로 나누기\n",
        "from sklearn.model_selection import train_test_split\n",
        "train_input, test_input, train_target, test_target = train_test_split(\n",
        "    fish_input, fish_target, random_state=42)\n",
        "\n",
        "# 표준화 전처리 (꼭 훈련 세트에서 학습한 통계 값으로 테스트 세트도 반환!)\n",
        "from sklearn.preprocessing import StandardScaler\n",
        "ss = StandardScaler()\n",
        "ss.fit(train_input)\n",
        "train_scaled = ss.transform(train_input)\n",
        "test_scaled = ss.transform(test_input)\n",
        "\n",
        "from sklearn.linear_model import SGDClassifier\n",
        "\n",
        "sc = SGDClassifier(loss='log', max_iter=10, random_state=42)\n",
        "sc.fit(train_scaled, train_target)\n",
        "print(sc.score(train_scaled, train_target))\n",
        "print(sc.score(test_scaled, test_target))\n",
        "\n",
        "# partial_fit() 함수로 1 에포크씩 이어서 훈련 가능\n",
        "sc.partial_fit(train_scaled, train_target)\n",
        "print(sc.score(train_scaled, train_target))\n",
        "print(sc.score(test_scaled, test_target))\n",
        "\n",
        "# SGDClassifier는 미니배치 경사 하강법이나 배치 하강법을 제공하지 않음"
      ],
      "execution_count": 15,
      "outputs": [
        {
          "output_type": "stream",
          "text": [
            "0.773109243697479\n",
            "0.775\n",
            "0.8151260504201681\n",
            "0.825\n"
          ],
          "name": "stdout"
        },
        {
          "output_type": "stream",
          "text": [
            "/usr/local/lib/python3.7/dist-packages/sklearn/linear_model/_stochastic_gradient.py:557: ConvergenceWarning: Maximum number of iteration reached before convergence. Consider increasing max_iter to improve the fit.\n",
            "  ConvergenceWarning)\n"
          ],
          "name": "stderr"
        }
      ]
    },
    {
      "cell_type": "markdown",
      "metadata": {
        "id": "wv5teuYc9tBE"
      },
      "source": [
        "> ### 에포크와 과대/과소적합\n",
        "확률적 경사 하강법을 사용한 모델은 에포크 횟수에 따라 과소적합이나 과대적합이 될 수 있음.\n"
      ]
    },
    {
      "cell_type": "code",
      "metadata": {
        "colab": {
          "base_uri": "https://localhost:8080/",
          "height": 616
        },
        "id": "YEoNmkMy9sN0",
        "outputId": "e25a20ff-89b6-4170-9036-6561463a4caa"
      },
      "source": [
        "import numpy as np\n",
        "sc = SGDClassifier(loss='log', random_state=42)\n",
        "train_score = []\n",
        "test_score = []\n",
        "classes = np.unique(train_target)\n",
        "\n",
        "for _ in range(0, 300): # _는 임시 저장 후 폐기하는 변수\n",
        "    sc.partial_fit(train_scaled, train_target, classes=classes)  # fit() 사용 안한 상태면 classses 변수값 줘야됨\n",
        "    train_score.append(sc.score(train_scaled, train_target))\n",
        "    test_score.append(sc.score(test_scaled, test_target))\n",
        "\n",
        "import matplotlib.pyplot as plt\n",
        "plt.plot(train_score)\n",
        "plt.plot(test_score)\n",
        "plt.xlabel('epoch')\n",
        "plt.ylabel('accuracy')\n",
        "plt.show()\n",
        "\n",
        "# 위 그래프에서 에포크 100이 적절한 횟수임을 확인.\n",
        "# epoch=100으로 훈련\n",
        "sc = SGDClassifier(loss='log', max_iter=100, tol=None, random_state=42)  # SGDC는 일정 에포크 동안 성능 향상이 없으면 자동으로 멈춤\n",
        "sc.fit(train_scaled, train_target)                                       # 끝까지 하게 tol 매개변수를 None으로 지정함\n",
        "print(sc.score(train_scaled, train_target))\n",
        "print(sc.score(test_scaled, test_target))\n",
        "\n",
        "# 힌지 손실을 활용 (SGDC의 loss 매개변수의 기본값은 'hinge')\n",
        "sc = SGDClassifier(loss='hinge', max_iter=100, tol=None, random_state=42)\n",
        "sc.fit(train_scaled, train_target)\n",
        "print(sc.score(train_scaled, train_target))\n",
        "print(sc.score(test_scaled, test_target))\n",
        "\n",
        "# 힌지 손실에서도 에포크 100이 가장 적절할까??\n",
        "sc = SGDClassifier(loss='hinge', max_iter=100, tol=None, random_state=42)\n",
        "\n",
        "train_score = []\n",
        "test_score = []\n",
        "classes = np.unique(train_target)\n",
        "\n",
        "for _ in range(0, 300): # _는 임시 저장 후 폐기하는 변수\n",
        "    sc.partial_fit(train_scaled, train_target, classes=classes)  # fit() 사용 안한 상태면 classses 변수값 줘야됨\n",
        "    train_score.append(sc.score(train_scaled, train_target))\n",
        "    test_score.append(sc.score(test_scaled, test_target))\n",
        "\n",
        "import matplotlib.pyplot as plt\n",
        "plt.plot(train_score)\n",
        "plt.plot(test_score)\n",
        "plt.xlabel('epoch')\n",
        "plt.ylabel('accuracy')\n",
        "plt.show()\n",
        "\n",
        "## 그래프가 매우 다르게 나옴;;\n",
        "## 알아볼 필요 Yes\n"
      ],
      "execution_count": 23,
      "outputs": [
        {
          "output_type": "display_data",
          "data": {
            "image/png": "[encoded data removed]",
            "text/plain": [
              "<Figure size 432x288 with 1 Axes>"
            ]
          },
          "metadata": {
            "tags": [],
            "needs_background": "light"
          }
        },
        {
          "output_type": "stream",
          "text": [
            "0.957983193277311\n",
            "0.925\n",
            "0.9495798319327731\n",
            "0.925\n"
          ],
          "name": "stdout"
        },
        {
          "output_type": "display_data",
          "data": {
            "image/png": "[encoded data removed]",
            "text/plain": [
              "<Figure size 432x288 with 1 Axes>"
            ]
          },
          "metadata": {
            "tags": [],
            "needs_background": "light"
          }
        }
      ]
    },
    {
      "cell_type": "markdown",
      "metadata": {
        "id": "4fk2UBcrRMqQ"
      },
      "source": [
        "> ### 핵심 패키지와 함수\n",
        "> * SGDClassifier<br/>\n",
        "확률적 경사 하강법을 사용한 분류 모델<br/>\n",
        "loss 매개변수는 최적화할 손실 함수를 지정. 기본값은 'hinge'. 로지스틱 회귀를 위해서는 'log'로 지정<br/>\n",
        "penalty 매개변수는 규제의 종류를 지정. 기본값은 l2. 규제 강도는 alpha 매개변수에서 지정함. 기본값은 0.0001.<br/>\n",
        "max_iter 매개변수는 에포크 횟수를 지정. 기본값은 1000.<br/>\n",
        "tol 매개변수는 반복을 멈출 조건. n_iter_no_change 매개변수에서 지정한 에포크 동안 손실이 tol 만큼 줄어들지 않으면 알고리즘이 중단됨. tol 매개변수의 기본값은 0.001이고 n_iter_no_change 매개변수의 기본값은 5.\n",
        "\n",
        "> * SGDRegressor<br/>\n",
        "확률적 경사 하강법을 사용한 회귀 모델<br/>\n",
        "loss 매개변수의 기본값은 'squared_loss'<br/>\n",
        "앞의 SGDClassifier에서 설명한 모든 매개변수가 동일하게 사용됨.\n",
        "\n"
      ]
    },
    {
      "cell_type": "code",
      "metadata": {
        "id": "43tkCe9bSJYe"
      },
      "source": [
        ""
      ],
      "execution_count": null,
      "outputs": []
    }
  ]
}