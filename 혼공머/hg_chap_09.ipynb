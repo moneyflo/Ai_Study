{
  "nbformat": 4,
  "nbformat_minor": 0,
  "metadata": {
    "colab": {
      "name": "hg_chap_09.ipynb",
      "provenance": [],
      "collapsed_sections": []
    },
    "kernelspec": {
      "name": "python3",
      "display_name": "Python 3"
    },
    "language_info": {
      "name": "python"
    },
    "accelerator": "GPU"
  },
  "cells": [
    {
      "cell_type": "markdown",
      "metadata": {
        "id": "LuK4J_qWMO_s"
      },
      "source": [
        "# Chapter 09 텍스트를 위한 인공 신경망"
      ]
    },
    {
      "cell_type": "markdown",
      "metadata": {
        "id": "TiNBaL_0MU3L"
      },
      "source": [
        "## 09-1 순차 데이터와 순환 신경망"
      ]
    },
    {
      "cell_type": "markdown",
      "metadata": {
        "id": "75GyHwGAMU0f"
      },
      "source": [
        "### 순차 데이터\n",
        "* 텍스트난 시계열 데이터와 같이 순서에 의미가 있는 데이터를 말함.\n",
        "* 순차 데이터를 다룰 때는 이전에 입력한 데이터를 기억하는 기능이 필요\n",
        "* 입력 데이터의 흐름이 앞으로만 전달되는 신경망은 피드포워드 신경망(FFNN)\n"
      ]
    },
    {
      "cell_type": "markdown",
      "metadata": {
        "id": "pf8E3-xSNWH3"
      },
      "source": [
        "### 순환 신경망\n",
        "* 완전 연결 신경망에 이전 데이터의 처리 흐름을 순환하는 고리 하나만 추가\n",
        "* 샘플을 처릴하는 한 단계를 타임스텝\n",
        "* 층을 셀이라 부름\n",
        "* 셀의 출력을 은닉 상태라고 부름\n",
        "* 은닉층의 활성화 함수로 tanh를 많이 사용함\n",
        "\n"
      ]
    },
    {
      "cell_type": "markdown",
      "metadata": {
        "id": "z4XMjP2Kv3pc"
      },
      "source": [
        "### 셀의 가중치와 입출력\n"
      ]
    },
    {
      "cell_type": "markdown",
      "metadata": {
        "id": "nIWxYJB44vK4"
      },
      "source": [
        "## 09-2 순환 신경망으로 IMDB 리뷰 분류하기"
      ]
    },
    {
      "cell_type": "markdown",
      "metadata": {
        "id": "3iX-lmkU48eg"
      },
      "source": [
        "### IMDB 리뷰 데이터셋\n",
        "* 데이터에 고유한 정수 부여(정수에 의미는 없음)\n",
        "* 일반적으로 영어 문장은 모두 소문자로 바꾸고 구둣점 삭제 후 공백을 기준으로 분리\n",
        "* 분리된 단어를 토큰이라함\n",
        "* 특정하 용도로 예약된 정수들도 있음\n"
      ]
    },
    {
      "cell_type": "code",
      "metadata": {
        "id": "Qmvd3wK1MLMd",
        "colab": {
          "base_uri": "https://localhost:8080/"
        },
        "outputId": "cc0acb34-d3fb-4783-8e35-07c79c56ffd2"
      },
      "source": [
        "# 이미 정수로 바껴있는 데이터 불러오기\n",
        "from tensorflow.keras.datasets import imdb\n",
        "(train_input, train_target), (test_input, test_target) = imdb.load_data(\n",
        "    num_words=500)   # 단어 500개만 사용\n",
        "\n",
        "print(train_input.shape, test_input.shape)   # <-- 파이썬 객체를 담은 넘파이 배열"
      ],
      "execution_count": null,
      "outputs": [
        {
          "output_type": "stream",
          "text": [
            "Downloading data from https://storage.googleapis.com/tensorflow/tf-keras-datasets/imdb.npz\n",
            "17465344/17464789 [==============================] - 0s 0us/step\n"
          ],
          "name": "stdout"
        },
        {
          "output_type": "stream",
          "text": [
            "<string>:6: VisibleDeprecationWarning: Creating an ndarray from ragged nested sequences (which is a list-or-tuple of lists-or-tuples-or ndarrays with different lengths or shapes) is deprecated. If you meant to do this, you must specify 'dtype=object' when creating the ndarray\n",
            "/usr/local/lib/python3.7/dist-packages/tensorflow/python/keras/datasets/imdb.py:155: VisibleDeprecationWarning: Creating an ndarray from ragged nested sequences (which is a list-or-tuple of lists-or-tuples-or ndarrays with different lengths or shapes) is deprecated. If you meant to do this, you must specify 'dtype=object' when creating the ndarray\n",
            "  x_train, y_train = np.array(xs[:idx]), np.array(labels[:idx])\n"
          ],
          "name": "stderr"
        },
        {
          "output_type": "stream",
          "text": [
            "(25000,) (25000,)\n"
          ],
          "name": "stdout"
        },
        {
          "output_type": "stream",
          "text": [
            "/usr/local/lib/python3.7/dist-packages/tensorflow/python/keras/datasets/imdb.py:156: VisibleDeprecationWarning: Creating an ndarray from ragged nested sequences (which is a list-or-tuple of lists-or-tuples-or ndarrays with different lengths or shapes) is deprecated. If you meant to do this, you must specify 'dtype=object' when creating the ndarray\n",
            "  x_test, y_test = np.array(xs[idx:]), np.array(labels[idx:])\n"
          ],
          "name": "stderr"
        }
      ]
    },
    {
      "cell_type": "code",
      "metadata": {
        "colab": {
          "base_uri": "https://localhost:8080/"
        },
        "id": "T7JdenIE6xKQ",
        "outputId": "57c0391d-40f9-4884-8285-1d6e7159c693"
      },
      "source": [
        "print(len(train_input[0]))\n",
        "print(len(train_input[1]))\n",
        "\n",
        "print(train_input[0])\n",
        "\n",
        "# 타깃 데이터\n",
        "print(train_target[:20])   # 0(부정)과 1(긍정)\n",
        "\n",
        "# 검증 세트\n",
        "from sklearn.model_selection import train_test_split\n",
        "train_input, val_input, train_target, val_target = train_test_split(\n",
        "    train_input, train_target, test_size=0.2, random_state=42)"
      ],
      "execution_count": null,
      "outputs": [
        {
          "output_type": "stream",
          "text": [
            "218\n",
            "189\n",
            "[1, 14, 22, 16, 43, 2, 2, 2, 2, 65, 458, 2, 66, 2, 4, 173, 36, 256, 5, 25, 100, 43, 2, 112, 50, 2, 2, 9, 35, 480, 284, 5, 150, 4, 172, 112, 167, 2, 336, 385, 39, 4, 172, 2, 2, 17, 2, 38, 13, 447, 4, 192, 50, 16, 6, 147, 2, 19, 14, 22, 4, 2, 2, 469, 4, 22, 71, 87, 12, 16, 43, 2, 38, 76, 15, 13, 2, 4, 22, 17, 2, 17, 12, 16, 2, 18, 2, 5, 62, 386, 12, 8, 316, 8, 106, 5, 4, 2, 2, 16, 480, 66, 2, 33, 4, 130, 12, 16, 38, 2, 5, 25, 124, 51, 36, 135, 48, 25, 2, 33, 6, 22, 12, 215, 28, 77, 52, 5, 14, 407, 16, 82, 2, 8, 4, 107, 117, 2, 15, 256, 4, 2, 7, 2, 5, 2, 36, 71, 43, 2, 476, 26, 400, 317, 46, 7, 4, 2, 2, 13, 104, 88, 4, 381, 15, 297, 98, 32, 2, 56, 26, 141, 6, 194, 2, 18, 4, 226, 22, 21, 134, 476, 26, 480, 5, 144, 30, 2, 18, 51, 36, 28, 224, 92, 25, 104, 4, 226, 65, 16, 38, 2, 88, 12, 16, 283, 5, 16, 2, 113, 103, 32, 15, 16, 2, 19, 178, 32]\n",
            "[1 0 0 1 0 0 1 0 1 0 1 0 0 0 0 0 1 1 0 1]\n"
          ],
          "name": "stdout"
        }
      ]
    },
    {
      "cell_type": "code",
      "metadata": {
        "colab": {
          "base_uri": "https://localhost:8080/",
          "height": 298
        },
        "id": "HNj0um7A8OEs",
        "outputId": "4fbfcca3-a0c6-47e1-d464-2430f90f92b6"
      },
      "source": [
        "# 각 리뷰 길이\n",
        "import numpy as np\n",
        "lengths = np.array([len(x) for x in train_input])\n",
        "\n",
        "print(np.mean(lengths), np.median(lengths))\n",
        "\n",
        "import matplotlib.pyplot as plt\n",
        "plt.hist(lengths)\n",
        "plt.xlabel('length')\n",
        "plt.ylabel('frequency')\n",
        "plt.show()"
      ],
      "execution_count": null,
      "outputs": [
        {
          "output_type": "stream",
          "text": [
            "239.00925 178.0\n"
          ],
          "name": "stdout"
        },
        {
          "output_type": "display_data",
          "data": {
            "image/png": "[encoded data removed]",
            "text/plain": [
              "<Figure size 432x288 with 1 Axes>"
            ]
          },
          "metadata": {
            "tags": [],
            "needs_background": "light"
          }
        }
      ]
    },
    {
      "cell_type": "code",
      "metadata": {
        "colab": {
          "base_uri": "https://localhost:8080/"
        },
        "id": "JxRktUpS9eh8",
        "outputId": "f8f74f40-88e8-44d8-d7e3-aae5539e474a"
      },
      "source": [
        "# 패딩\n",
        "from tensorflow.keras.preprocessing.sequence import pad_sequences\n",
        "train_seq = pad_sequences(train_input, maxlen=100)   # 2차원 배열로 바뀜 # 앞부분을 없앰\n",
        "\n",
        "print(train_seq.shape)  \n",
        "\n",
        "print(train_seq[0])\n",
        "\n",
        "print(train_input[0][-10:])\n",
        "\n",
        "print(train_seq[5])\n",
        "\n",
        "val_seq = pad_sequences(val_input, maxlen=100)"
      ],
      "execution_count": null,
      "outputs": [
        {
          "output_type": "stream",
          "text": [
            "(20000, 100)\n",
            "[ 10   4  20   9   2 364 352   5  45   6   2   2  33 269   8   2 142   2\n",
            "   5   2  17  73  17 204   5   2  19  55   2   2  92  66 104  14  20  93\n",
            "  76   2 151  33   4  58  12 188   2 151  12 215  69 224 142  73 237   6\n",
            "   2   7   2   2 188   2 103  14  31  10  10 451   7   2   5   2  80  91\n",
            "   2  30   2  34  14  20 151  50  26 131  49   2  84  46  50  37  80  79\n",
            "   6   2  46   7  14  20  10  10 470 158]\n",
            "[6, 2, 46, 7, 14, 20, 10, 10, 470, 158]\n",
            "[  0   0   0   0   1   2 195  19  49   2   2 190   4   2 352   2 183  10\n",
            "  10  13  82  79   4   2  36  71 269   8   2  25  19  49   7   4   2   2\n",
            "   2   2   2  10  10  48  25  40   2  11   2   2  40   2   2   5   4   2\n",
            "   2  95  14 238  56 129   2  10  10  21   2  94 364 352   2   2  11 190\n",
            "  24 484   2   7  94 205 405  10  10  87   2  34  49   2   7   2   2   2\n",
            "   2   2 290   2  46  48  64  18   4   2]\n"
          ],
          "name": "stdout"
        }
      ]
    },
    {
      "cell_type": "markdown",
      "metadata": {
        "id": "F-gMTotr-u9x"
      },
      "source": [
        "### 순환 신경망 만들기"
      ]
    },
    {
      "cell_type": "code",
      "metadata": {
        "colab": {
          "base_uri": "https://localhost:8080/"
        },
        "id": "helu1Y-V-uCW",
        "outputId": "bdf80308-a56b-465d-de1f-c750922db318"
      },
      "source": [
        "from tensorflow import keras\n",
        "model = keras.Sequential()\n",
        "model.add(keras.layers.SimpleRNN(8, input_shape=(100, 500)))\n",
        "model.add(keras.layers.Dense(1, activation='sigmoid'))\n",
        "\n",
        "# 원-핫 인코딩\n",
        "train_oh = keras.utils.to_categorical(train_seq)\n",
        "\n",
        "print(train_oh.shape)\n",
        "\n",
        "print(train_oh[0][0][:12])\n",
        "print(np.sum(train_oh[0][0]))\n",
        "\n",
        "val_oh = keras.utils.to_categorical(val_seq)\n",
        "\n",
        "model.summary()"
      ],
      "execution_count": null,
      "outputs": [
        {
          "output_type": "stream",
          "text": [
            "(20000, 100, 500)\n",
            "[0. 0. 0. 0. 0. 0. 0. 0. 0. 0. 1. 0.]\n",
            "1.0\n",
            "Model: \"sequential\"\n",
            "_________________________________________________________________\n",
            "Layer (type)                 Output Shape              Param #   \n",
            "=================================================================\n",
            "simple_rnn (SimpleRNN)       (None, 8)                 4072      \n",
            "_________________________________________________________________\n",
            "dense (Dense)                (None, 1)                 9         \n",
            "=================================================================\n",
            "Total params: 4,081\n",
            "Trainable params: 4,081\n",
            "Non-trainable params: 0\n",
            "_________________________________________________________________\n"
          ],
          "name": "stdout"
        }
      ]
    },
    {
      "cell_type": "markdown",
      "metadata": {
        "id": "xYejcsOfCKDq"
      },
      "source": [
        "### 순환 신경망 훈련하기"
      ]
    },
    {
      "cell_type": "code",
      "metadata": {
        "colab": {
          "base_uri": "https://localhost:8080/"
        },
        "id": "nJtyMTG5CL0m",
        "outputId": "1997df83-d187-43a2-d336-92b36e4e1ceb"
      },
      "source": [
        "rmsprop = keras.optimizers.RMSprop(learning_rate=1e-4)\n",
        "model.compile(optimizer=rmsprop, loss='binary_crossentropy',\n",
        "              metrics=['accuracy'])\n",
        "checkpoint_cb = keras.callbacks.ModelCheckpoint('best-simplernn-model.h5')\n",
        "early_stopping_cb = keras.callbacks.EarlyStopping(patience=3,\n",
        "                                                  restore_best_weights=True)\n",
        "\n",
        "history = model.fit(train_oh, train_target, epochs=100, batch_size=64,\n",
        "                    validation_data=(val_oh, val_target),\n",
        "                    callbacks=[checkpoint_cb, early_stopping_cb])"
      ],
      "execution_count": null,
      "outputs": [
        {
          "output_type": "stream",
          "text": [
            "Epoch 1/100\n",
            "313/313 [==============================] - 26s 72ms/step - loss: 0.7000 - accuracy: 0.5010 - val_loss: 0.6962 - val_accuracy: 0.5116\n",
            "Epoch 2/100\n",
            "313/313 [==============================] - 23s 73ms/step - loss: 0.6958 - accuracy: 0.5123 - val_loss: 0.6938 - val_accuracy: 0.5186\n",
            "Epoch 3/100\n",
            "313/313 [==============================] - 23s 72ms/step - loss: 0.6929 - accuracy: 0.5225 - val_loss: 0.6920 - val_accuracy: 0.5230\n",
            "Epoch 4/100\n",
            "313/313 [==============================] - 23s 73ms/step - loss: 0.6905 - accuracy: 0.5315 - val_loss: 0.6904 - val_accuracy: 0.5326\n",
            "Epoch 5/100\n",
            "313/313 [==============================] - 23s 74ms/step - loss: 0.6883 - accuracy: 0.5393 - val_loss: 0.6888 - val_accuracy: 0.5374\n",
            "Epoch 6/100\n",
            "313/313 [==============================] - 23s 72ms/step - loss: 0.6862 - accuracy: 0.5507 - val_loss: 0.6873 - val_accuracy: 0.5474\n",
            "Epoch 7/100\n",
            "313/313 [==============================] - 22s 70ms/step - loss: 0.6839 - accuracy: 0.5590 - val_loss: 0.6855 - val_accuracy: 0.5606\n",
            "Epoch 8/100\n",
            "313/313 [==============================] - 22s 70ms/step - loss: 0.6814 - accuracy: 0.5708 - val_loss: 0.6834 - val_accuracy: 0.5662\n",
            "Epoch 9/100\n",
            "313/313 [==============================] - 23s 72ms/step - loss: 0.6784 - accuracy: 0.5819 - val_loss: 0.6812 - val_accuracy: 0.5756\n",
            "Epoch 10/100\n",
            "313/313 [==============================] - 22s 70ms/step - loss: 0.6749 - accuracy: 0.5929 - val_loss: 0.6777 - val_accuracy: 0.5892\n",
            "Epoch 11/100\n",
            "313/313 [==============================] - 22s 71ms/step - loss: 0.6699 - accuracy: 0.6036 - val_loss: 0.6717 - val_accuracy: 0.6060\n",
            "Epoch 12/100\n",
            "313/313 [==============================] - 23s 73ms/step - loss: 0.6590 - accuracy: 0.6248 - val_loss: 0.6521 - val_accuracy: 0.6338\n",
            "Epoch 13/100\n",
            "313/313 [==============================] - 23s 73ms/step - loss: 0.6146 - accuracy: 0.6733 - val_loss: 0.6106 - val_accuracy: 0.6772\n",
            "Epoch 14/100\n",
            "313/313 [==============================] - 23s 73ms/step - loss: 0.5892 - accuracy: 0.7009 - val_loss: 0.5931 - val_accuracy: 0.6976\n",
            "Epoch 15/100\n",
            "313/313 [==============================] - 22s 72ms/step - loss: 0.5712 - accuracy: 0.7165 - val_loss: 0.5779 - val_accuracy: 0.7110\n",
            "Epoch 16/100\n",
            "313/313 [==============================] - 23s 73ms/step - loss: 0.5538 - accuracy: 0.7307 - val_loss: 0.5623 - val_accuracy: 0.7214\n",
            "Epoch 17/100\n",
            "313/313 [==============================] - 23s 75ms/step - loss: 0.5378 - accuracy: 0.7473 - val_loss: 0.5483 - val_accuracy: 0.7302\n",
            "Epoch 18/100\n",
            "313/313 [==============================] - 23s 73ms/step - loss: 0.5234 - accuracy: 0.7568 - val_loss: 0.5362 - val_accuracy: 0.7414\n",
            "Epoch 19/100\n",
            "313/313 [==============================] - 23s 73ms/step - loss: 0.5099 - accuracy: 0.7657 - val_loss: 0.5239 - val_accuracy: 0.7504\n",
            "Epoch 20/100\n",
            "313/313 [==============================] - 23s 73ms/step - loss: 0.4977 - accuracy: 0.7735 - val_loss: 0.5140 - val_accuracy: 0.7542\n",
            "Epoch 21/100\n",
            "313/313 [==============================] - 23s 73ms/step - loss: 0.4870 - accuracy: 0.7801 - val_loss: 0.5037 - val_accuracy: 0.7652\n",
            "Epoch 22/100\n",
            "313/313 [==============================] - 23s 72ms/step - loss: 0.4774 - accuracy: 0.7860 - val_loss: 0.4958 - val_accuracy: 0.7664\n",
            "Epoch 23/100\n",
            "313/313 [==============================] - 23s 72ms/step - loss: 0.4693 - accuracy: 0.7895 - val_loss: 0.4987 - val_accuracy: 0.7596\n",
            "Epoch 24/100\n",
            "313/313 [==============================] - 23s 73ms/step - loss: 0.4617 - accuracy: 0.7935 - val_loss: 0.4844 - val_accuracy: 0.7732\n",
            "Epoch 25/100\n",
            "313/313 [==============================] - 23s 74ms/step - loss: 0.4555 - accuracy: 0.7972 - val_loss: 0.4790 - val_accuracy: 0.7760\n",
            "Epoch 26/100\n",
            "313/313 [==============================] - 23s 73ms/step - loss: 0.4494 - accuracy: 0.7994 - val_loss: 0.4770 - val_accuracy: 0.7786\n",
            "Epoch 27/100\n",
            "313/313 [==============================] - 23s 72ms/step - loss: 0.4445 - accuracy: 0.8023 - val_loss: 0.4704 - val_accuracy: 0.7798\n",
            "Epoch 28/100\n",
            "313/313 [==============================] - 23s 73ms/step - loss: 0.4396 - accuracy: 0.8059 - val_loss: 0.4705 - val_accuracy: 0.7800\n",
            "Epoch 29/100\n",
            "313/313 [==============================] - 23s 72ms/step - loss: 0.4357 - accuracy: 0.8076 - val_loss: 0.4715 - val_accuracy: 0.7808\n",
            "Epoch 30/100\n",
            "313/313 [==============================] - 23s 73ms/step - loss: 0.4323 - accuracy: 0.8079 - val_loss: 0.4631 - val_accuracy: 0.7844\n",
            "Epoch 31/100\n",
            "313/313 [==============================] - 23s 73ms/step - loss: 0.4286 - accuracy: 0.8101 - val_loss: 0.4614 - val_accuracy: 0.7814\n",
            "Epoch 32/100\n",
            "313/313 [==============================] - 23s 74ms/step - loss: 0.4257 - accuracy: 0.8118 - val_loss: 0.4656 - val_accuracy: 0.7792\n",
            "Epoch 33/100\n",
            "313/313 [==============================] - 23s 73ms/step - loss: 0.4229 - accuracy: 0.8136 - val_loss: 0.4655 - val_accuracy: 0.7820\n",
            "Epoch 34/100\n",
            "313/313 [==============================] - 23s 73ms/step - loss: 0.4204 - accuracy: 0.8162 - val_loss: 0.4582 - val_accuracy: 0.7834\n",
            "Epoch 35/100\n",
            "313/313 [==============================] - 22s 71ms/step - loss: 0.4176 - accuracy: 0.8148 - val_loss: 0.4573 - val_accuracy: 0.7854\n",
            "Epoch 36/100\n",
            "313/313 [==============================] - 22s 71ms/step - loss: 0.4156 - accuracy: 0.8163 - val_loss: 0.4556 - val_accuracy: 0.7860\n",
            "Epoch 37/100\n",
            "313/313 [==============================] - 22s 71ms/step - loss: 0.4133 - accuracy: 0.8192 - val_loss: 0.4610 - val_accuracy: 0.7846\n",
            "Epoch 38/100\n",
            "313/313 [==============================] - 23s 73ms/step - loss: 0.4115 - accuracy: 0.8193 - val_loss: 0.4530 - val_accuracy: 0.7896\n",
            "Epoch 39/100\n",
            "313/313 [==============================] - 22s 70ms/step - loss: 0.4101 - accuracy: 0.8202 - val_loss: 0.4536 - val_accuracy: 0.7884\n",
            "Epoch 40/100\n",
            "313/313 [==============================] - 22s 71ms/step - loss: 0.4085 - accuracy: 0.8209 - val_loss: 0.4527 - val_accuracy: 0.7888\n",
            "Epoch 41/100\n",
            "313/313 [==============================] - 22s 72ms/step - loss: 0.4071 - accuracy: 0.8229 - val_loss: 0.4545 - val_accuracy: 0.7864\n",
            "Epoch 42/100\n",
            "313/313 [==============================] - 23s 72ms/step - loss: 0.4056 - accuracy: 0.8232 - val_loss: 0.4550 - val_accuracy: 0.7884\n",
            "Epoch 43/100\n",
            "313/313 [==============================] - 22s 71ms/step - loss: 0.4043 - accuracy: 0.8242 - val_loss: 0.4541 - val_accuracy: 0.7882\n"
          ],
          "name": "stdout"
        }
      ]
    },
    {
      "cell_type": "code",
      "metadata": {
        "colab": {
          "base_uri": "https://localhost:8080/",
          "height": 298
        },
        "id": "p357_6gpvoil",
        "outputId": "72d569b4-1097-4f31-9f65-56c4af5be3f8"
      },
      "source": [
        "plt.plot(history.history['loss'])\n",
        "plt.plot(history.history['val_loss'])\n",
        "plt.xlabel('epoch')\n",
        "plt.ylabel('loss')\n",
        "plt.legend(['train', 'val'])\n",
        "plt.show()\n",
        "\n",
        "# 데이터 크기\n",
        "print(train_seq.nbytes, train_oh.nbytes)"
      ],
      "execution_count": null,
      "outputs": [
        {
          "output_type": "display_data",
          "data": {
            "image/png": "[encoded data removed]",
            "text/plain": [
              "<Figure size 432x288 with 1 Axes>"
            ]
          },
          "metadata": {
            "tags": [],
            "needs_background": "light"
          }
        },
        {
          "output_type": "stream",
          "text": [
            "8000000 4000000000\n"
          ],
          "name": "stdout"
        }
      ]
    },
    {
      "cell_type": "markdown",
      "metadata": {
        "id": "d-A_xjua3JqX"
      },
      "source": [
        "### 단어 임베딩을 사용하기\n",
        "* 각 단어를 고정된 크기의 실수 벡터로 바꿔줌."
      ]
    },
    {
      "cell_type": "code",
      "metadata": {
        "colab": {
          "base_uri": "https://localhost:8080/"
        },
        "id": "9Ln-z4jL3ed5",
        "outputId": "7156b594-f0ef-45e9-edad-0660f33e67d7"
      },
      "source": [
        "model2 = keras.Sequential()\n",
        "model2.add(keras.layers.Embedding(500, 16, input_length=100))\n",
        "model2.add(keras.layers.SimpleRNN(8))\n",
        "model2.add(keras.layers.Dense(1, activation='sigmoid'))\n",
        "\n",
        "model2.summary()\n",
        "\n",
        "# 훈련\n",
        "rmprop = keras.optimizers.RMSprop(learning_rate=1e-4)\n",
        "model2.compile(optimizer=rmsprop, loss='binary_crossentropy',\n",
        "               metrics=['accuracy'])\n",
        "checkpoint_cb = keras.callbacks.ModelCheckpoint('best-embedding-model.h5')\n",
        "early_stopping_cb = keras.callbacks.EarlyStopping(patience=3,\n",
        "                                                  restore_best_weights=True)\n",
        "history = model2.fit(train_seq, train_target, epochs=100, batch_size=64,\n",
        "                     validation_data=(val_seq, val_target),\n",
        "                     callbacks=[checkpoint_cb, early_stopping_cb])"
      ],
      "execution_count": null,
      "outputs": [
        {
          "output_type": "stream",
          "text": [
            "Model: \"sequential_3\"\n",
            "_________________________________________________________________\n",
            "Layer (type)                 Output Shape              Param #   \n",
            "=================================================================\n",
            "embedding_2 (Embedding)      (None, 100, 16)           8000      \n",
            "_________________________________________________________________\n",
            "simple_rnn_3 (SimpleRNN)     (None, 8)                 200       \n",
            "_________________________________________________________________\n",
            "dense_3 (Dense)              (None, 1)                 9         \n",
            "=================================================================\n",
            "Total params: 8,209\n",
            "Trainable params: 8,209\n",
            "Non-trainable params: 0\n",
            "_________________________________________________________________\n",
            "Epoch 1/100\n",
            "313/313 [==============================] - 27s 83ms/step - loss: 0.6946 - accuracy: 0.5063 - val_loss: 0.6876 - val_accuracy: 0.5540\n",
            "Epoch 2/100\n",
            "313/313 [==============================] - 26s 83ms/step - loss: 0.6771 - accuracy: 0.6064 - val_loss: 0.6695 - val_accuracy: 0.6382\n",
            "Epoch 3/100\n",
            "313/313 [==============================] - 26s 82ms/step - loss: 0.6594 - accuracy: 0.6747 - val_loss: 0.6529 - val_accuracy: 0.6946\n",
            "Epoch 4/100\n",
            "313/313 [==============================] - 26s 82ms/step - loss: 0.6425 - accuracy: 0.7133 - val_loss: 0.6434 - val_accuracy: 0.6990\n",
            "Epoch 5/100\n",
            "313/313 [==============================] - 26s 82ms/step - loss: 0.6257 - accuracy: 0.7347 - val_loss: 0.6231 - val_accuracy: 0.7284\n",
            "Epoch 6/100\n",
            "313/313 [==============================] - 25s 81ms/step - loss: 0.6075 - accuracy: 0.7502 - val_loss: 0.6054 - val_accuracy: 0.7424\n",
            "Epoch 7/100\n",
            "313/313 [==============================] - 26s 83ms/step - loss: 0.5876 - accuracy: 0.7621 - val_loss: 0.5868 - val_accuracy: 0.7532\n",
            "Epoch 8/100\n",
            "313/313 [==============================] - 26s 84ms/step - loss: 0.5652 - accuracy: 0.7738 - val_loss: 0.5656 - val_accuracy: 0.7614\n",
            "Epoch 9/100\n",
            "313/313 [==============================] - 26s 83ms/step - loss: 0.5427 - accuracy: 0.7796 - val_loss: 0.5448 - val_accuracy: 0.7670\n",
            "Epoch 10/100\n",
            "313/313 [==============================] - 26s 84ms/step - loss: 0.5223 - accuracy: 0.7854 - val_loss: 0.5292 - val_accuracy: 0.7640\n",
            "Epoch 11/100\n",
            "313/313 [==============================] - 26s 84ms/step - loss: 0.5053 - accuracy: 0.7876 - val_loss: 0.5207 - val_accuracy: 0.7668\n",
            "Epoch 12/100\n",
            "313/313 [==============================] - 26s 84ms/step - loss: 0.4923 - accuracy: 0.7908 - val_loss: 0.5094 - val_accuracy: 0.7692\n",
            "Epoch 13/100\n",
            "313/313 [==============================] - 27s 85ms/step - loss: 0.4817 - accuracy: 0.7958 - val_loss: 0.5017 - val_accuracy: 0.7720\n",
            "Epoch 14/100\n",
            "313/313 [==============================] - 26s 84ms/step - loss: 0.4722 - accuracy: 0.7967 - val_loss: 0.4993 - val_accuracy: 0.7724\n",
            "Epoch 15/100\n",
            "313/313 [==============================] - 26s 84ms/step - loss: 0.4636 - accuracy: 0.8006 - val_loss: 0.4977 - val_accuracy: 0.7700\n",
            "Epoch 16/100\n",
            "313/313 [==============================] - 26s 83ms/step - loss: 0.4581 - accuracy: 0.8049 - val_loss: 0.4893 - val_accuracy: 0.7772\n",
            "Epoch 17/100\n",
            "313/313 [==============================] - 26s 84ms/step - loss: 0.4514 - accuracy: 0.8072 - val_loss: 0.4882 - val_accuracy: 0.7768\n",
            "Epoch 18/100\n",
            "313/313 [==============================] - 26s 84ms/step - loss: 0.4481 - accuracy: 0.8068 - val_loss: 0.4876 - val_accuracy: 0.7764\n",
            "Epoch 19/100\n",
            "313/313 [==============================] - 26s 84ms/step - loss: 0.4427 - accuracy: 0.8105 - val_loss: 0.4834 - val_accuracy: 0.7792\n",
            "Epoch 20/100\n",
            "313/313 [==============================] - 26s 84ms/step - loss: 0.4395 - accuracy: 0.8118 - val_loss: 0.4828 - val_accuracy: 0.7760\n",
            "Epoch 21/100\n",
            "313/313 [==============================] - 26s 83ms/step - loss: 0.4344 - accuracy: 0.8159 - val_loss: 0.4790 - val_accuracy: 0.7806\n",
            "Epoch 22/100\n",
            "313/313 [==============================] - 25s 81ms/step - loss: 0.4310 - accuracy: 0.8160 - val_loss: 0.4806 - val_accuracy: 0.7786\n",
            "Epoch 23/100\n",
            "313/313 [==============================] - 25s 81ms/step - loss: 0.4282 - accuracy: 0.8170 - val_loss: 0.4808 - val_accuracy: 0.7776\n",
            "Epoch 24/100\n",
            "313/313 [==============================] - 25s 81ms/step - loss: 0.4249 - accuracy: 0.8202 - val_loss: 0.4770 - val_accuracy: 0.7822\n",
            "Epoch 25/100\n",
            "313/313 [==============================] - 25s 81ms/step - loss: 0.4216 - accuracy: 0.8201 - val_loss: 0.4782 - val_accuracy: 0.7800\n",
            "Epoch 26/100\n",
            "313/313 [==============================] - 26s 82ms/step - loss: 0.4194 - accuracy: 0.8198 - val_loss: 0.4766 - val_accuracy: 0.7802\n",
            "Epoch 27/100\n",
            "313/313 [==============================] - 26s 83ms/step - loss: 0.4171 - accuracy: 0.8216 - val_loss: 0.4789 - val_accuracy: 0.7740\n",
            "Epoch 28/100\n",
            "313/313 [==============================] - 26s 83ms/step - loss: 0.4145 - accuracy: 0.8245 - val_loss: 0.4790 - val_accuracy: 0.7784\n",
            "Epoch 29/100\n",
            "313/313 [==============================] - 26s 83ms/step - loss: 0.4127 - accuracy: 0.8249 - val_loss: 0.4764 - val_accuracy: 0.7750\n",
            "Epoch 30/100\n",
            "313/313 [==============================] - 26s 84ms/step - loss: 0.4094 - accuracy: 0.8264 - val_loss: 0.4734 - val_accuracy: 0.7792\n",
            "Epoch 31/100\n",
            "313/313 [==============================] - 26s 84ms/step - loss: 0.4072 - accuracy: 0.8284 - val_loss: 0.4743 - val_accuracy: 0.7806\n",
            "Epoch 32/100\n",
            "313/313 [==============================] - 26s 84ms/step - loss: 0.4050 - accuracy: 0.8291 - val_loss: 0.4758 - val_accuracy: 0.7790\n",
            "Epoch 33/100\n",
            "313/313 [==============================] - 26s 84ms/step - loss: 0.4038 - accuracy: 0.8293 - val_loss: 0.4789 - val_accuracy: 0.7800\n"
          ],
          "name": "stdout"
        }
      ]
    },
    {
      "cell_type": "code",
      "metadata": {
        "colab": {
          "base_uri": "https://localhost:8080/",
          "height": 279
        },
        "id": "PUYYlJ9-7RiX",
        "outputId": "20404ca2-111c-47ee-d50c-7053ff2aa1f8"
      },
      "source": [
        "plt.plot(history.history['loss'])\n",
        "plt.plot(history.history['val_loss'])\n",
        "plt.xlabel('epoch')\n",
        "plt.ylabel('loss')\n",
        "plt.legend(['train', 'val'])\n",
        "plt.show()"
      ],
      "execution_count": null,
      "outputs": [
        {
          "output_type": "display_data",
          "data": {
            "image/png": "[encoded data removed]",
            "text/plain": [
              "<Figure size 432x288 with 1 Axes>"
            ]
          },
          "metadata": {
            "tags": [],
            "needs_background": "light"
          }
        }
      ]
    }
  ]
}