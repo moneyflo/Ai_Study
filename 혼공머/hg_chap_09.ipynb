{
  "nbformat": 4,
  "nbformat_minor": 0,
  "metadata": {
    "colab": {
      "name": "hg_chap_09.ipynb",
      "provenance": [],
      "collapsed_sections": []
    },
    "kernelspec": {
      "name": "python3",
      "display_name": "Python 3"
    },
    "language_info": {
      "name": "python"
    },
    "accelerator": "GPU"
  },
  "cells": [
    {
      "cell_type": "markdown",
      "metadata": {
        "id": "LuK4J_qWMO_s"
      },
      "source": [
        "# Chapter 09 텍스트를 위한 인공 신경망"
      ]
    },
    {
      "cell_type": "markdown",
      "metadata": {
        "id": "TiNBaL_0MU3L"
      },
      "source": [
        "## 09-1 순차 데이터와 순환 신경망"
      ]
    },
    {
      "cell_type": "markdown",
      "metadata": {
        "id": "75GyHwGAMU0f"
      },
      "source": [
        "### 순차 데이터\n",
        "* 텍스트난 시계열 데이터와 같이 순서에 의미가 있는 데이터를 말함.\n",
        "* 순차 데이터를 다룰 때는 이전에 입력한 데이터를 기억하는 기능이 필요\n",
        "* 입력 데이터의 흐름이 앞으로만 전달되는 신경망은 피드포워드 신경망(FFNN)\n"
      ]
    },
    {
      "cell_type": "markdown",
      "metadata": {
        "id": "pf8E3-xSNWH3"
      },
      "source": [
        "### 순환 신경망\n",
        "* 완전 연결 신경망에 이전 데이터의 처리 흐름을 순환하는 고리 하나만 추가\n",
        "* 샘플을 처릴하는 한 단계를 타임스텝\n",
        "* 층을 셀이라 부름\n",
        "* 셀의 출력을 은닉 상태라고 부름\n",
        "* 은닉층의 활성화 함수로 tanh를 많이 사용함\n",
        "\n"
      ]
    },
    {
      "cell_type": "markdown",
      "metadata": {
        "id": "z4XMjP2Kv3pc"
      },
      "source": [
        "### 셀의 가중치와 입출력\n"
      ]
    },
    {
      "cell_type": "markdown",
      "metadata": {
        "id": "nIWxYJB44vK4"
      },
      "source": [
        "## 09-2 순환 신경망으로 IMDB 리뷰 분류하기"
      ]
    },
    {
      "cell_type": "markdown",
      "metadata": {
        "id": "3iX-lmkU48eg"
      },
      "source": [
        "### IMDB 리뷰 데이터셋\n",
        "* 데이터에 고유한 정수 부여(정수에 의미는 없음)\n",
        "* 일반적으로 영어 문장은 모두 소문자로 바꾸고 구둣점 삭제 후 공백을 기준으로 분리\n",
        "* 분리된 단어를 토큰이라함\n",
        "* 특정하 용도로 예약된 정수들도 있음\n"
      ]
    },
    {
      "cell_type": "code",
      "metadata": {
        "id": "Qmvd3wK1MLMd",
        "colab": {
          "base_uri": "https://localhost:8080/"
        },
        "outputId": "cc0acb34-d3fb-4783-8e35-07c79c56ffd2"
      },
      "source": [
        "# 이미 정수로 바껴있는 데이터 불러오기\n",
        "from tensorflow.keras.datasets import imdb\n",
        "(train_input, train_target), (test_input, test_target) = imdb.load_data(\n",
        "    num_words=500)   # 단어 500개만 사용\n",
        "\n",
        "print(train_input.shape, test_input.shape)   # <-- 파이썬 객체를 담은 넘파이 배열"
      ],
      "execution_count": null,
      "outputs": [
        {
          "output_type": "stream",
          "text": [
            "Downloading data from https://storage.googleapis.com/tensorflow/tf-keras-datasets/imdb.npz\n",
            "17465344/17464789 [==============================] - 0s 0us/step\n"
          ],
          "name": "stdout"
        },
        {
          "output_type": "stream",
          "text": [
            "<string>:6: VisibleDeprecationWarning: Creating an ndarray from ragged nested sequences (which is a list-or-tuple of lists-or-tuples-or ndarrays with different lengths or shapes) is deprecated. If you meant to do this, you must specify 'dtype=object' when creating the ndarray\n",
            "/usr/local/lib/python3.7/dist-packages/tensorflow/python/keras/datasets/imdb.py:155: VisibleDeprecationWarning: Creating an ndarray from ragged nested sequences (which is a list-or-tuple of lists-or-tuples-or ndarrays with different lengths or shapes) is deprecated. If you meant to do this, you must specify 'dtype=object' when creating the ndarray\n",
            "  x_train, y_train = np.array(xs[:idx]), np.array(labels[:idx])\n"
          ],
          "name": "stderr"
        },
        {
          "output_type": "stream",
          "text": [
            "(25000,) (25000,)\n"
          ],
          "name": "stdout"
        },
        {
          "output_type": "stream",
          "text": [
            "/usr/local/lib/python3.7/dist-packages/tensorflow/python/keras/datasets/imdb.py:156: VisibleDeprecationWarning: Creating an ndarray from ragged nested sequences (which is a list-or-tuple of lists-or-tuples-or ndarrays with different lengths or shapes) is deprecated. If you meant to do this, you must specify 'dtype=object' when creating the ndarray\n",
            "  x_test, y_test = np.array(xs[idx:]), np.array(labels[idx:])\n"
          ],
          "name": "stderr"
        }
      ]
    },
    {
      "cell_type": "code",
      "metadata": {
        "colab": {
          "base_uri": "https://localhost:8080/"
        },
        "id": "T7JdenIE6xKQ",
        "outputId": "57c0391d-40f9-4884-8285-1d6e7159c693"
      },
      "source": [
        "print(len(train_input[0]))\n",
        "print(len(train_input[1]))\n",
        "\n",
        "print(train_input[0])\n",
        "\n",
        "# 타깃 데이터\n",
        "print(train_target[:20])   # 0(부정)과 1(긍정)\n",
        "\n",
        "# 검증 세트\n",
        "from sklearn.model_selection import train_test_split\n",
        "train_input, val_input, train_target, val_target = train_test_split(\n",
        "    train_input, train_target, test_size=0.2, random_state=42)"
      ],
      "execution_count": null,
      "outputs": [
        {
          "output_type": "stream",
          "text": [
            "218\n",
            "189\n",
            "[1, 14, 22, 16, 43, 2, 2, 2, 2, 65, 458, 2, 66, 2, 4, 173, 36, 256, 5, 25, 100, 43, 2, 112, 50, 2, 2, 9, 35, 480, 284, 5, 150, 4, 172, 112, 167, 2, 336, 385, 39, 4, 172, 2, 2, 17, 2, 38, 13, 447, 4, 192, 50, 16, 6, 147, 2, 19, 14, 22, 4, 2, 2, 469, 4, 22, 71, 87, 12, 16, 43, 2, 38, 76, 15, 13, 2, 4, 22, 17, 2, 17, 12, 16, 2, 18, 2, 5, 62, 386, 12, 8, 316, 8, 106, 5, 4, 2, 2, 16, 480, 66, 2, 33, 4, 130, 12, 16, 38, 2, 5, 25, 124, 51, 36, 135, 48, 25, 2, 33, 6, 22, 12, 215, 28, 77, 52, 5, 14, 407, 16, 82, 2, 8, 4, 107, 117, 2, 15, 256, 4, 2, 7, 2, 5, 2, 36, 71, 43, 2, 476, 26, 400, 317, 46, 7, 4, 2, 2, 13, 104, 88, 4, 381, 15, 297, 98, 32, 2, 56, 26, 141, 6, 194, 2, 18, 4, 226, 22, 21, 134, 476, 26, 480, 5, 144, 30, 2, 18, 51, 36, 28, 224, 92, 25, 104, 4, 226, 65, 16, 38, 2, 88, 12, 16, 283, 5, 16, 2, 113, 103, 32, 15, 16, 2, 19, 178, 32]\n",
            "[1 0 0 1 0 0 1 0 1 0 1 0 0 0 0 0 1 1 0 1]\n"
          ],
          "name": "stdout"
        }
      ]
    },
    {
      "cell_type": "code",
      "metadata": {
        "colab": {
          "base_uri": "https://localhost:8080/",
          "height": 298
        },
        "id": "HNj0um7A8OEs",
        "outputId": "4fbfcca3-a0c6-47e1-d464-2430f90f92b6"
      },
      "source": [
        "# 각 리뷰 길이\n",
        "import numpy as np\n",
        "lengths = np.array([len(x) for x in train_input])\n",
        "\n",
        "print(np.mean(lengths), np.median(lengths))\n",
        "\n",
        "import matplotlib.pyplot as plt\n",
        "plt.hist(lengths)\n",
        "plt.xlabel('length')\n",
        "plt.ylabel('frequency')\n",
        "plt.show()"
      ],
      "execution_count": null,
      "outputs": [
        {
          "output_type": "stream",
          "text": [
            "239.00925 178.0\n"
          ],
          "name": "stdout"
        },
        {
          "output_type": "display_data",
          "data": {
            "image/png": "[encoded data removed]",
            "text/plain": [
              "<Figure size 432x288 with 1 Axes>"
            ]
          },
          "metadata": {
            "tags": [],
            "needs_background": "light"
          }
        }
      ]
    },
    {
      "cell_type": "code",
      "metadata": {
        "colab": {
          "base_uri": "https://localhost:8080/"
        },
        "id": "JxRktUpS9eh8",
        "outputId": "f8f74f40-88e8-44d8-d7e3-aae5539e474a"
      },
      "source": [
        "# 패딩\n",
        "from tensorflow.keras.preprocessing.sequence import pad_sequences\n",
        "train_seq = pad_sequences(train_input, maxlen=100)   # 2차원 배열로 바뀜 # 앞부분을 없앰\n",
        "\n",
        "print(train_seq.shape)  \n",
        "\n",
        "print(train_seq[0])\n",
        "\n",
        "print(train_input[0][-10:])\n",
        "\n",
        "print(train_seq[5])\n",
        "\n",
        "val_seq = pad_sequences(val_input, maxlen=100)"
      ],
      "execution_count": null,
      "outputs": [
        {
          "output_type": "stream",
          "text": [
            "(20000, 100)\n",
            "[ 10   4  20   9   2 364 352   5  45   6   2   2  33 269   8   2 142   2\n",
            "   5   2  17  73  17 204   5   2  19  55   2   2  92  66 104  14  20  93\n",
            "  76   2 151  33   4  58  12 188   2 151  12 215  69 224 142  73 237   6\n",
            "   2   7   2   2 188   2 103  14  31  10  10 451   7   2   5   2  80  91\n",
            "   2  30   2  34  14  20 151  50  26 131  49   2  84  46  50  37  80  79\n",
            "   6   2  46   7  14  20  10  10 470 158]\n",
            "[6, 2, 46, 7, 14, 20, 10, 10, 470, 158]\n",
            "[  0   0   0   0   1   2 195  19  49   2   2 190   4   2 352   2 183  10\n",
            "  10  13  82  79   4   2  36  71 269   8   2  25  19  49   7   4   2   2\n",
            "   2   2   2  10  10  48  25  40   2  11   2   2  40   2   2   5   4   2\n",
            "   2  95  14 238  56 129   2  10  10  21   2  94 364 352   2   2  11 190\n",
            "  24 484   2   7  94 205 405  10  10  87   2  34  49   2   7   2   2   2\n",
            "   2   2 290   2  46  48  64  18   4   2]\n"
          ],
          "name": "stdout"
        }
      ]
    },
    {
      "cell_type": "markdown",
      "metadata": {
        "id": "F-gMTotr-u9x"
      },
      "source": [
        "### 순환 신경망 만들기"
      ]
    },
    {
      "cell_type": "code",
      "metadata": {
        "colab": {
          "base_uri": "https://localhost:8080/"
        },
        "id": "helu1Y-V-uCW",
        "outputId": "bdf80308-a56b-465d-de1f-c750922db318"
      },
      "source": [
        "from tensorflow import keras\n",
        "model = keras.Sequential()\n",
        "model.add(keras.layers.SimpleRNN(8, input_shape=(100, 500)))\n",
        "model.add(keras.layers.Dense(1, activation='sigmoid'))\n",
        "\n",
        "# 원-핫 인코딩\n",
        "train_oh = keras.utils.to_categorical(train_seq)\n",
        "\n",
        "print(train_oh.shape)\n",
        "\n",
        "print(train_oh[0][0][:12])\n",
        "print(np.sum(train_oh[0][0]))\n",
        "\n",
        "val_oh = keras.utils.to_categorical(val_seq)\n",
        "\n",
        "model.summary()"
      ],
      "execution_count": null,
      "outputs": [
        {
          "output_type": "stream",
          "text": [
            "(20000, 100, 500)\n",
            "[0. 0. 0. 0. 0. 0. 0. 0. 0. 0. 1. 0.]\n",
            "1.0\n",
            "Model: \"sequential\"\n",
            "_________________________________________________________________\n",
            "Layer (type)                 Output Shape              Param #   \n",
            "=================================================================\n",
            "simple_rnn (SimpleRNN)       (None, 8)                 4072      \n",
            "_________________________________________________________________\n",
            "dense (Dense)                (None, 1)                 9         \n",
            "=================================================================\n",
            "Total params: 4,081\n",
            "Trainable params: 4,081\n",
            "Non-trainable params: 0\n",
            "_________________________________________________________________\n"
          ],
          "name": "stdout"
        }
      ]
    },
    {
      "cell_type": "markdown",
      "metadata": {
        "id": "xYejcsOfCKDq"
      },
      "source": [
        "### 순환 신경망 훈련하기"
      ]
    },
    {
      "cell_type": "code",
      "metadata": {
        "colab": {
          "base_uri": "https://localhost:8080/"
        },
        "id": "nJtyMTG5CL0m",
        "outputId": "1997df83-d187-43a2-d336-92b36e4e1ceb"
      },
      "source": [
        "rmsprop = keras.optimizers.RMSprop(learning_rate=1e-4)\n",
        "model.compile(optimizer=rmsprop, loss='binary_crossentropy',\n",
        "              metrics=['accuracy'])\n",
        "checkpoint_cb = keras.callbacks.ModelCheckpoint('best-simplernn-model.h5')\n",
        "early_stopping_cb = keras.callbacks.EarlyStopping(patience=3,\n",
        "                                                  restore_best_weights=True)\n",
        "\n",
        "history = model.fit(train_oh, train_target, epochs=100, batch_size=64,\n",
        "                    validation_data=(val_oh, val_target),\n",
        "                    callbacks=[checkpoint_cb, early_stopping_cb])"
      ],
      "execution_count": null,
      "outputs": [
        {
          "output_type": "stream",
          "text": [
            "Epoch 1/100\n",
            "313/313 [==============================] - 26s 72ms/step - loss: 0.7000 - accuracy: 0.5010 - val_loss: 0.6962 - val_accuracy: 0.5116\n",
            "Epoch 2/100\n",
            "313/313 [==============================] - 23s 73ms/step - loss: 0.6958 - accuracy: 0.5123 - val_loss: 0.6938 - val_accuracy: 0.5186\n",
            "Epoch 3/100\n",
            "313/313 [==============================] - 23s 72ms/step - loss: 0.6929 - accuracy: 0.5225 - val_loss: 0.6920 - val_accuracy: 0.5230\n",
            "Epoch 4/100\n",
            "313/313 [==============================] - 23s 73ms/step - loss: 0.6905 - accuracy: 0.5315 - val_loss: 0.6904 - val_accuracy: 0.5326\n",
            "Epoch 5/100\n",
            "313/313 [==============================] - 23s 74ms/step - loss: 0.6883 - accuracy: 0.5393 - val_loss: 0.6888 - val_accuracy: 0.5374\n",
            "Epoch 6/100\n",
            "313/313 [==============================] - 23s 72ms/step - loss: 0.6862 - accuracy: 0.5507 - val_loss: 0.6873 - val_accuracy: 0.5474\n",
            "Epoch 7/100\n",
            "313/313 [==============================] - 22s 70ms/step - loss: 0.6839 - accuracy: 0.5590 - val_loss: 0.6855 - val_accuracy: 0.5606\n",
            "Epoch 8/100\n",
            "313/313 [==============================] - 22s 70ms/step - loss: 0.6814 - accuracy: 0.5708 - val_loss: 0.6834 - val_accuracy: 0.5662\n",
            "Epoch 9/100\n",
            "313/313 [==============================] - 23s 72ms/step - loss: 0.6784 - accuracy: 0.5819 - val_loss: 0.6812 - val_accuracy: 0.5756\n",
            "Epoch 10/100\n",
            "313/313 [==============================] - 22s 70ms/step - loss: 0.6749 - accuracy: 0.5929 - val_loss: 0.6777 - val_accuracy: 0.5892\n",
            "Epoch 11/100\n",
            "313/313 [==============================] - 22s 71ms/step - loss: 0.6699 - accuracy: 0.6036 - val_loss: 0.6717 - val_accuracy: 0.6060\n",
            "Epoch 12/100\n",
            "313/313 [==============================] - 23s 73ms/step - loss: 0.6590 - accuracy: 0.6248 - val_loss: 0.6521 - val_accuracy: 0.6338\n",
            "Epoch 13/100\n",
            "313/313 [==============================] - 23s 73ms/step - loss: 0.6146 - accuracy: 0.6733 - val_loss: 0.6106 - val_accuracy: 0.6772\n",
            "Epoch 14/100\n",
            "313/313 [==============================] - 23s 73ms/step - loss: 0.5892 - accuracy: 0.7009 - val_loss: 0.5931 - val_accuracy: 0.6976\n",
            "Epoch 15/100\n",
            "313/313 [==============================] - 22s 72ms/step - loss: 0.5712 - accuracy: 0.7165 - val_loss: 0.5779 - val_accuracy: 0.7110\n",
            "Epoch 16/100\n",
            "313/313 [==============================] - 23s 73ms/step - loss: 0.5538 - accuracy: 0.7307 - val_loss: 0.5623 - val_accuracy: 0.7214\n",
            "Epoch 17/100\n",
            "313/313 [==============================] - 23s 75ms/step - loss: 0.5378 - accuracy: 0.7473 - val_loss: 0.5483 - val_accuracy: 0.7302\n",
            "Epoch 18/100\n",
            "313/313 [==============================] - 23s 73ms/step - loss: 0.5234 - accuracy: 0.7568 - val_loss: 0.5362 - val_accuracy: 0.7414\n",
            "Epoch 19/100\n",
            "313/313 [==============================] - 23s 73ms/step - loss: 0.5099 - accuracy: 0.7657 - val_loss: 0.5239 - val_accuracy: 0.7504\n",
            "Epoch 20/100\n",
            "313/313 [==============================] - 23s 73ms/step - loss: 0.4977 - accuracy: 0.7735 - val_loss: 0.5140 - val_accuracy: 0.7542\n",
            "Epoch 21/100\n",
            "313/313 [==============================] - 23s 73ms/step - loss: 0.4870 - accuracy: 0.7801 - val_loss: 0.5037 - val_accuracy: 0.7652\n",
            "Epoch 22/100\n",
            "313/313 [==============================] - 23s 72ms/step - loss: 0.4774 - accuracy: 0.7860 - val_loss: 0.4958 - val_accuracy: 0.7664\n",
            "Epoch 23/100\n",
            "313/313 [==============================] - 23s 72ms/step - loss: 0.4693 - accuracy: 0.7895 - val_loss: 0.4987 - val_accuracy: 0.7596\n",
            "Epoch 24/100\n",
            "313/313 [==============================] - 23s 73ms/step - loss: 0.4617 - accuracy: 0.7935 - val_loss: 0.4844 - val_accuracy: 0.7732\n",
            "Epoch 25/100\n",
            "313/313 [==============================] - 23s 74ms/step - loss: 0.4555 - accuracy: 0.7972 - val_loss: 0.4790 - val_accuracy: 0.7760\n",
            "Epoch 26/100\n",
            "313/313 [==============================] - 23s 73ms/step - loss: 0.4494 - accuracy: 0.7994 - val_loss: 0.4770 - val_accuracy: 0.7786\n",
            "Epoch 27/100\n",
            "313/313 [==============================] - 23s 72ms/step - loss: 0.4445 - accuracy: 0.8023 - val_loss: 0.4704 - val_accuracy: 0.7798\n",
            "Epoch 28/100\n",
            "313/313 [==============================] - 23s 73ms/step - loss: 0.4396 - accuracy: 0.8059 - val_loss: 0.4705 - val_accuracy: 0.7800\n",
            "Epoch 29/100\n",
            "313/313 [==============================] - 23s 72ms/step - loss: 0.4357 - accuracy: 0.8076 - val_loss: 0.4715 - val_accuracy: 0.7808\n",
            "Epoch 30/100\n",
            "313/313 [==============================] - 23s 73ms/step - loss: 0.4323 - accuracy: 0.8079 - val_loss: 0.4631 - val_accuracy: 0.7844\n",
            "Epoch 31/100\n",
            "313/313 [==============================] - 23s 73ms/step - loss: 0.4286 - accuracy: 0.8101 - val_loss: 0.4614 - val_accuracy: 0.7814\n",
            "Epoch 32/100\n",
            "313/313 [==============================] - 23s 74ms/step - loss: 0.4257 - accuracy: 0.8118 - val_loss: 0.4656 - val_accuracy: 0.7792\n",
            "Epoch 33/100\n",
            "313/313 [==============================] - 23s 73ms/step - loss: 0.4229 - accuracy: 0.8136 - val_loss: 0.4655 - val_accuracy: 0.7820\n",
            "Epoch 34/100\n",
            "313/313 [==============================] - 23s 73ms/step - loss: 0.4204 - accuracy: 0.8162 - val_loss: 0.4582 - val_accuracy: 0.7834\n",
            "Epoch 35/100\n",
            "313/313 [==============================] - 22s 71ms/step - loss: 0.4176 - accuracy: 0.8148 - val_loss: 0.4573 - val_accuracy: 0.7854\n",
            "Epoch 36/100\n",
            "313/313 [==============================] - 22s 71ms/step - loss: 0.4156 - accuracy: 0.8163 - val_loss: 0.4556 - val_accuracy: 0.7860\n",
            "Epoch 37/100\n",
            "313/313 [==============================] - 22s 71ms/step - loss: 0.4133 - accuracy: 0.8192 - val_loss: 0.4610 - val_accuracy: 0.7846\n",
            "Epoch 38/100\n",
            "313/313 [==============================] - 23s 73ms/step - loss: 0.4115 - accuracy: 0.8193 - val_loss: 0.4530 - val_accuracy: 0.7896\n",
            "Epoch 39/100\n",
            "313/313 [==============================] - 22s 70ms/step - loss: 0.4101 - accuracy: 0.8202 - val_loss: 0.4536 - val_accuracy: 0.7884\n",
            "Epoch 40/100\n",
            "313/313 [==============================] - 22s 71ms/step - loss: 0.4085 - accuracy: 0.8209 - val_loss: 0.4527 - val_accuracy: 0.7888\n",
            "Epoch 41/100\n",
            "313/313 [==============================] - 22s 72ms/step - loss: 0.4071 - accuracy: 0.8229 - val_loss: 0.4545 - val_accuracy: 0.7864\n",
            "Epoch 42/100\n",
            "313/313 [==============================] - 23s 72ms/step - loss: 0.4056 - accuracy: 0.8232 - val_loss: 0.4550 - val_accuracy: 0.7884\n",
            "Epoch 43/100\n",
            "313/313 [==============================] - 22s 71ms/step - loss: 0.4043 - accuracy: 0.8242 - val_loss: 0.4541 - val_accuracy: 0.7882\n"
          ],
          "name": "stdout"
        }
      ]
    },
    {
      "cell_type": "code",
      "metadata": {
        "colab": {
          "base_uri": "https://localhost:8080/",
          "height": 298
        },
        "id": "p357_6gpvoil",
        "outputId": "72d569b4-1097-4f31-9f65-56c4af5be3f8"
      },
      "source": [
        "plt.plot(history.history['loss'])\n",
        "plt.plot(history.history['val_loss'])\n",
        "plt.xlabel('epoch')\n",
        "plt.ylabel('loss')\n",
        "plt.legend(['train', 'val'])\n",
        "plt.show()\n",
        "\n",
        "# 데이터 크기\n",
        "print(train_seq.nbytes, train_oh.nbytes)"
      ],
      "execution_count": null,
      "outputs": [
        {
          "output_type": "display_data",
          "data": {
            "image/png": "[encoded data removed]",
            "text/plain": [
              "<Figure size 432x288 with 1 Axes>"
            ]
          },
          "metadata": {
            "tags": [],
            "needs_background": "light"
          }
        },
        {
          "output_type": "stream",
          "text": [
            "8000000 4000000000\n"
          ],
          "name": "stdout"
        }
      ]
    },
    {
      "cell_type": "markdown",
      "metadata": {
        "id": "d-A_xjua3JqX"
      },
      "source": [
        "### 단어 임베딩을 사용하기\n",
        "* 각 단어를 고정된 크기의 실수 벡터로 바꿔줌."
      ]
    },
    {
      "cell_type": "code",
      "metadata": {
        "colab": {
          "base_uri": "https://localhost:8080/"
        },
        "id": "9Ln-z4jL3ed5",
        "outputId": "7156b594-f0ef-45e9-edad-0660f33e67d7"
      },
      "source": [
        "model2 = keras.Sequential()\n",
        "model2.add(keras.layers.Embedding(500, 16, input_length=100))\n",
        "model2.add(keras.layers.SimpleRNN(8))\n",
        "model2.add(keras.layers.Dense(1, activation='sigmoid'))\n",
        "\n",
        "model2.summary()\n",
        "\n",
        "# 훈련\n",
        "rmprop = keras.optimizers.RMSprop(learning_rate=1e-4)\n",
        "model2.compile(optimizer=rmsprop, loss='binary_crossentropy',\n",
        "               metrics=['accuracy'])\n",
        "checkpoint_cb = keras.callbacks.ModelCheckpoint('best-embedding-model.h5')\n",
        "early_stopping_cb = keras.callbacks.EarlyStopping(patience=3,\n",
        "                                                  restore_best_weights=True)\n",
        "history = model2.fit(train_seq, train_target, epochs=100, batch_size=64,\n",
        "                     validation_data=(val_seq, val_target),\n",
        "                     callbacks=[checkpoint_cb, early_stopping_cb])"
      ],
      "execution_count": null,
      "outputs": [
        {
          "output_type": "stream",
          "text": [
            "Model: \"sequential_3\"\n",
            "_________________________________________________________________\n",
            "Layer (type)                 Output Shape              Param #   \n",
            "=================================================================\n",
            "embedding_2 (Embedding)      (None, 100, 16)           8000      \n",
            "_________________________________________________________________\n",
            "simple_rnn_3 (SimpleRNN)     (None, 8)                 200       \n",
            "_________________________________________________________________\n",
            "dense_3 (Dense)              (None, 1)                 9         \n",
            "=================================================================\n",
            "Total params: 8,209\n",
            "Trainable params: 8,209\n",
            "Non-trainable params: 0\n",
            "_________________________________________________________________\n",
            "Epoch 1/100\n",
            "313/313 [==============================] - 27s 83ms/step - loss: 0.6946 - accuracy: 0.5063 - val_loss: 0.6876 - val_accuracy: 0.5540\n",
            "Epoch 2/100\n",
            "313/313 [==============================] - 26s 83ms/step - loss: 0.6771 - accuracy: 0.6064 - val_loss: 0.6695 - val_accuracy: 0.6382\n",
            "Epoch 3/100\n",
            "313/313 [==============================] - 26s 82ms/step - loss: 0.6594 - accuracy: 0.6747 - val_loss: 0.6529 - val_accuracy: 0.6946\n",
            "Epoch 4/100\n",
            "313/313 [==============================] - 26s 82ms/step - loss: 0.6425 - accuracy: 0.7133 - val_loss: 0.6434 - val_accuracy: 0.6990\n",
            "Epoch 5/100\n",
            "313/313 [==============================] - 26s 82ms/step - loss: 0.6257 - accuracy: 0.7347 - val_loss: 0.6231 - val_accuracy: 0.7284\n",
            "Epoch 6/100\n",
            "313/313 [==============================] - 25s 81ms/step - loss: 0.6075 - accuracy: 0.7502 - val_loss: 0.6054 - val_accuracy: 0.7424\n",
            "Epoch 7/100\n",
            "313/313 [==============================] - 26s 83ms/step - loss: 0.5876 - accuracy: 0.7621 - val_loss: 0.5868 - val_accuracy: 0.7532\n",
            "Epoch 8/100\n",
            "313/313 [==============================] - 26s 84ms/step - loss: 0.5652 - accuracy: 0.7738 - val_loss: 0.5656 - val_accuracy: 0.7614\n",
            "Epoch 9/100\n",
            "313/313 [==============================] - 26s 83ms/step - loss: 0.5427 - accuracy: 0.7796 - val_loss: 0.5448 - val_accuracy: 0.7670\n",
            "Epoch 10/100\n",
            "313/313 [==============================] - 26s 84ms/step - loss: 0.5223 - accuracy: 0.7854 - val_loss: 0.5292 - val_accuracy: 0.7640\n",
            "Epoch 11/100\n",
            "313/313 [==============================] - 26s 84ms/step - loss: 0.5053 - accuracy: 0.7876 - val_loss: 0.5207 - val_accuracy: 0.7668\n",
            "Epoch 12/100\n",
            "313/313 [==============================] - 26s 84ms/step - loss: 0.4923 - accuracy: 0.7908 - val_loss: 0.5094 - val_accuracy: 0.7692\n",
            "Epoch 13/100\n",
            "313/313 [==============================] - 27s 85ms/step - loss: 0.4817 - accuracy: 0.7958 - val_loss: 0.5017 - val_accuracy: 0.7720\n",
            "Epoch 14/100\n",
            "313/313 [==============================] - 26s 84ms/step - loss: 0.4722 - accuracy: 0.7967 - val_loss: 0.4993 - val_accuracy: 0.7724\n",
            "Epoch 15/100\n",
            "313/313 [==============================] - 26s 84ms/step - loss: 0.4636 - accuracy: 0.8006 - val_loss: 0.4977 - val_accuracy: 0.7700\n",
            "Epoch 16/100\n",
            "313/313 [==============================] - 26s 83ms/step - loss: 0.4581 - accuracy: 0.8049 - val_loss: 0.4893 - val_accuracy: 0.7772\n",
            "Epoch 17/100\n",
            "313/313 [==============================] - 26s 84ms/step - loss: 0.4514 - accuracy: 0.8072 - val_loss: 0.4882 - val_accuracy: 0.7768\n",
            "Epoch 18/100\n",
            "313/313 [==============================] - 26s 84ms/step - loss: 0.4481 - accuracy: 0.8068 - val_loss: 0.4876 - val_accuracy: 0.7764\n",
            "Epoch 19/100\n",
            "313/313 [==============================] - 26s 84ms/step - loss: 0.4427 - accuracy: 0.8105 - val_loss: 0.4834 - val_accuracy: 0.7792\n",
            "Epoch 20/100\n",
            "313/313 [==============================] - 26s 84ms/step - loss: 0.4395 - accuracy: 0.8118 - val_loss: 0.4828 - val_accuracy: 0.7760\n",
            "Epoch 21/100\n",
            "313/313 [==============================] - 26s 83ms/step - loss: 0.4344 - accuracy: 0.8159 - val_loss: 0.4790 - val_accuracy: 0.7806\n",
            "Epoch 22/100\n",
            "313/313 [==============================] - 25s 81ms/step - loss: 0.4310 - accuracy: 0.8160 - val_loss: 0.4806 - val_accuracy: 0.7786\n",
            "Epoch 23/100\n",
            "313/313 [==============================] - 25s 81ms/step - loss: 0.4282 - accuracy: 0.8170 - val_loss: 0.4808 - val_accuracy: 0.7776\n",
            "Epoch 24/100\n",
            "313/313 [==============================] - 25s 81ms/step - loss: 0.4249 - accuracy: 0.8202 - val_loss: 0.4770 - val_accuracy: 0.7822\n",
            "Epoch 25/100\n",
            "313/313 [==============================] - 25s 81ms/step - loss: 0.4216 - accuracy: 0.8201 - val_loss: 0.4782 - val_accuracy: 0.7800\n",
            "Epoch 26/100\n",
            "313/313 [==============================] - 26s 82ms/step - loss: 0.4194 - accuracy: 0.8198 - val_loss: 0.4766 - val_accuracy: 0.7802\n",
            "Epoch 27/100\n",
            "313/313 [==============================] - 26s 83ms/step - loss: 0.4171 - accuracy: 0.8216 - val_loss: 0.4789 - val_accuracy: 0.7740\n",
            "Epoch 28/100\n",
            "313/313 [==============================] - 26s 83ms/step - loss: 0.4145 - accuracy: 0.8245 - val_loss: 0.4790 - val_accuracy: 0.7784\n",
            "Epoch 29/100\n",
            "313/313 [==============================] - 26s 83ms/step - loss: 0.4127 - accuracy: 0.8249 - val_loss: 0.4764 - val_accuracy: 0.7750\n",
            "Epoch 30/100\n",
            "313/313 [==============================] - 26s 84ms/step - loss: 0.4094 - accuracy: 0.8264 - val_loss: 0.4734 - val_accuracy: 0.7792\n",
            "Epoch 31/100\n",
            "313/313 [==============================] - 26s 84ms/step - loss: 0.4072 - accuracy: 0.8284 - val_loss: 0.4743 - val_accuracy: 0.7806\n",
            "Epoch 32/100\n",
            "313/313 [==============================] - 26s 84ms/step - loss: 0.4050 - accuracy: 0.8291 - val_loss: 0.4758 - val_accuracy: 0.7790\n",
            "Epoch 33/100\n",
            "313/313 [==============================] - 26s 84ms/step - loss: 0.4038 - accuracy: 0.8293 - val_loss: 0.4789 - val_accuracy: 0.7800\n"
          ],
          "name": "stdout"
        }
      ]
    },
    {
      "cell_type": "code",
      "metadata": {
        "colab": {
          "base_uri": "https://localhost:8080/",
          "height": 279
        },
        "id": "PUYYlJ9-7RiX",
        "outputId": "20404ca2-111c-47ee-d50c-7053ff2aa1f8"
      },
      "source": [
        "plt.plot(history.history['loss'])\n",
        "plt.plot(history.history['val_loss'])\n",
        "plt.xlabel('epoch')\n",
        "plt.ylabel('loss')\n",
        "plt.legend(['train', 'val'])\n",
        "plt.show()"
      ],
      "execution_count": null,
      "outputs": [
        {
          "output_type": "display_data",
          "data": {
            "image/png": "[encoded data removed]",
            "text/plain": [
              "<Figure size 432x288 with 1 Axes>"
            ]
          },
          "metadata": {
            "tags": [],
            "needs_background": "light"
          }
        }
      ]
    },
    {
      "cell_type": "markdown",
      "metadata": {
        "id": "2D3Y1LnstQVJ"
      },
      "source": [
        "## 09-3 LSTM과 GRU 셀"
      ]
    },
    {
      "cell_type": "markdown",
      "metadata": {
        "id": "eFKP64ZD8sJT"
      },
      "source": [
        "### LSTM 구조\n",
        "* 단기 기억을 오래 기억하기 위해 고안\n",
        "* [관련 글](https://dgkim5360.tistory.com/entry/understanding-long-short-term-memory-lstm-kr)\n",
        "* 삭제, 입력, 출력 게이트가 존재"
      ]
    },
    {
      "cell_type": "markdown",
      "metadata": {
        "id": "TNF-C7ZUn9A0"
      },
      "source": [
        "### LSTM 신경망 훈련하기\n"
      ]
    },
    {
      "cell_type": "code",
      "metadata": {
        "colab": {
          "base_uri": "https://localhost:8080/"
        },
        "id": "gIIH2NlRoGh_",
        "outputId": "3e703e23-73ed-4acd-c464-bb52df926746"
      },
      "source": [
        "# 데이터 불러오기\n",
        "from tensorflow.keras.datasets import imdb\n",
        "from sklearn.model_selection import train_test_split\n",
        "(train_input, train_target), (test_input, test_target) = imdb.load_data(\n",
        "    num_words=500)\n",
        "train_input, val_input, train_target, val_target = train_test_split(\n",
        "    train_input, train_target, test_size=0.2, random_state=42)\n",
        "\n",
        "from tensorflow.keras.preprocessing.sequence import pad_sequences\n",
        "train_seq = pad_sequences(train_input, maxlen=100)\n",
        "val_seq = pad_sequences(val_input, maxlen=100)"
      ],
      "execution_count": 3,
      "outputs": [
        {
          "output_type": "stream",
          "text": [
            "Downloading data from https://storage.googleapis.com/tensorflow/tf-keras-datasets/imdb.npz\n",
            "17465344/17464789 [==============================] - 0s 0us/step\n"
          ],
          "name": "stdout"
        },
        {
          "output_type": "stream",
          "text": [
            "<string>:6: VisibleDeprecationWarning: Creating an ndarray from ragged nested sequences (which is a list-or-tuple of lists-or-tuples-or ndarrays with different lengths or shapes) is deprecated. If you meant to do this, you must specify 'dtype=object' when creating the ndarray\n",
            "/usr/local/lib/python3.7/dist-packages/tensorflow/python/keras/datasets/imdb.py:155: VisibleDeprecationWarning: Creating an ndarray from ragged nested sequences (which is a list-or-tuple of lists-or-tuples-or ndarrays with different lengths or shapes) is deprecated. If you meant to do this, you must specify 'dtype=object' when creating the ndarray\n",
            "  x_train, y_train = np.array(xs[:idx]), np.array(labels[:idx])\n",
            "/usr/local/lib/python3.7/dist-packages/tensorflow/python/keras/datasets/imdb.py:156: VisibleDeprecationWarning: Creating an ndarray from ragged nested sequences (which is a list-or-tuple of lists-or-tuples-or ndarrays with different lengths or shapes) is deprecated. If you meant to do this, you must specify 'dtype=object' when creating the ndarray\n",
            "  x_test, y_test = np.array(xs[idx:]), np.array(labels[idx:])\n"
          ],
          "name": "stderr"
        }
      ]
    },
    {
      "cell_type": "code",
      "metadata": {
        "colab": {
          "base_uri": "https://localhost:8080/"
        },
        "id": "1zUQwEqupdlH",
        "outputId": "6ffd5685-4f51-4a3d-f901-8d89eacf2d69"
      },
      "source": [
        "# LSTM\n",
        "from tensorflow import keras\n",
        "model = keras.Sequential()\n",
        "model.add(keras.layers.Embedding(500, 16, input_length=100)) # 500은 어휘사전의 크기\n",
        "model.add(keras.layers.LSTM(8))\n",
        "model.add(keras.layers.Dense(1, activation='sigmoid'))\n",
        "\n",
        "model.summary()\n",
        "\n",
        "# 훈련\n",
        "rmsprop = keras.optimizers.RMSprop(learning_rate=1e-4)\n",
        "model.compile(optimizer=rmsprop, loss='binary_crossentropy',\n",
        "              metrics=['accuracy'])\n",
        "checkpoint_cb = keras.callbacks.ModelCheckpoint('best-lstm-model.h5')\n",
        "early_stopping_cb = keras.callbacks.EarlyStopping(patience=3,\n",
        "                                                  restore_best_weights=True)\n",
        "history = model.fit(train_seq, train_target, epochs=100, batch_size=64,\n",
        "                    validation_data=(val_seq, val_target),\n",
        "                    callbacks=[checkpoint_cb, early_stopping_cb])"
      ],
      "execution_count": null,
      "outputs": [
        {
          "output_type": "stream",
          "text": [
            "Model: \"sequential_3\"\n",
            "_________________________________________________________________\n",
            "Layer (type)                 Output Shape              Param #   \n",
            "=================================================================\n",
            "embedding_3 (Embedding)      (None, 100, 16)           8000      \n",
            "_________________________________________________________________\n",
            "lstm_3 (LSTM)                (None, 8)                 800       \n",
            "_________________________________________________________________\n",
            "dense_3 (Dense)              (None, 1)                 9         \n",
            "=================================================================\n",
            "Total params: 8,809\n",
            "Trainable params: 8,809\n",
            "Non-trainable params: 0\n",
            "_________________________________________________________________\n",
            "Epoch 1/100\n",
            "313/313 [==============================] - 11s 9ms/step - loss: 0.6923 - accuracy: 0.5453 - val_loss: 0.6910 - val_accuracy: 0.6110\n",
            "Epoch 2/100\n",
            "313/313 [==============================] - 2s 8ms/step - loss: 0.6885 - accuracy: 0.6348 - val_loss: 0.6845 - val_accuracy: 0.6592\n",
            "Epoch 3/100\n",
            "313/313 [==============================] - 2s 8ms/step - loss: 0.6690 - accuracy: 0.6567 - val_loss: 0.6377 - val_accuracy: 0.6754\n",
            "Epoch 4/100\n",
            "313/313 [==============================] - 2s 7ms/step - loss: 0.6106 - accuracy: 0.7192 - val_loss: 0.5901 - val_accuracy: 0.7314\n",
            "Epoch 5/100\n",
            "313/313 [==============================] - 2s 8ms/step - loss: 0.5765 - accuracy: 0.7419 - val_loss: 0.5675 - val_accuracy: 0.7396\n",
            "Epoch 6/100\n",
            "313/313 [==============================] - 2s 7ms/step - loss: 0.5502 - accuracy: 0.7555 - val_loss: 0.5457 - val_accuracy: 0.7536\n",
            "Epoch 7/100\n",
            "313/313 [==============================] - 2s 8ms/step - loss: 0.5260 - accuracy: 0.7670 - val_loss: 0.5232 - val_accuracy: 0.7638\n",
            "Epoch 8/100\n",
            "313/313 [==============================] - 2s 7ms/step - loss: 0.5045 - accuracy: 0.7766 - val_loss: 0.5050 - val_accuracy: 0.7692\n",
            "Epoch 9/100\n",
            "313/313 [==============================] - 2s 8ms/step - loss: 0.4858 - accuracy: 0.7860 - val_loss: 0.4887 - val_accuracy: 0.7764\n",
            "Epoch 10/100\n",
            "313/313 [==============================] - 2s 8ms/step - loss: 0.4720 - accuracy: 0.7919 - val_loss: 0.4772 - val_accuracy: 0.7804\n",
            "Epoch 11/100\n",
            "313/313 [==============================] - 2s 8ms/step - loss: 0.4609 - accuracy: 0.7970 - val_loss: 0.4680 - val_accuracy: 0.7834\n",
            "Epoch 12/100\n",
            "313/313 [==============================] - 2s 8ms/step - loss: 0.4522 - accuracy: 0.7996 - val_loss: 0.4624 - val_accuracy: 0.7866\n",
            "Epoch 13/100\n",
            "313/313 [==============================] - 2s 7ms/step - loss: 0.4453 - accuracy: 0.8026 - val_loss: 0.4571 - val_accuracy: 0.7886\n",
            "Epoch 14/100\n",
            "313/313 [==============================] - 2s 8ms/step - loss: 0.4397 - accuracy: 0.8048 - val_loss: 0.4548 - val_accuracy: 0.7936\n",
            "Epoch 15/100\n",
            "313/313 [==============================] - 2s 7ms/step - loss: 0.4350 - accuracy: 0.8084 - val_loss: 0.4543 - val_accuracy: 0.7898\n",
            "Epoch 16/100\n",
            "313/313 [==============================] - 2s 8ms/step - loss: 0.4312 - accuracy: 0.8088 - val_loss: 0.4471 - val_accuracy: 0.7988\n",
            "Epoch 17/100\n",
            "313/313 [==============================] - 2s 7ms/step - loss: 0.4279 - accuracy: 0.8105 - val_loss: 0.4443 - val_accuracy: 0.7988\n",
            "Epoch 18/100\n",
            "313/313 [==============================] - 2s 7ms/step - loss: 0.4258 - accuracy: 0.8112 - val_loss: 0.4451 - val_accuracy: 0.7958\n",
            "Epoch 19/100\n",
            "313/313 [==============================] - 2s 8ms/step - loss: 0.4235 - accuracy: 0.8111 - val_loss: 0.4420 - val_accuracy: 0.7998\n",
            "Epoch 20/100\n",
            "313/313 [==============================] - 2s 8ms/step - loss: 0.4212 - accuracy: 0.8133 - val_loss: 0.4409 - val_accuracy: 0.7992\n",
            "Epoch 21/100\n",
            "313/313 [==============================] - 2s 8ms/step - loss: 0.4193 - accuracy: 0.8140 - val_loss: 0.4381 - val_accuracy: 0.7988\n",
            "Epoch 22/100\n",
            "313/313 [==============================] - 2s 8ms/step - loss: 0.4181 - accuracy: 0.8147 - val_loss: 0.4448 - val_accuracy: 0.7888\n",
            "Epoch 23/100\n",
            "313/313 [==============================] - 2s 8ms/step - loss: 0.4165 - accuracy: 0.8137 - val_loss: 0.4367 - val_accuracy: 0.8016\n",
            "Epoch 24/100\n",
            "313/313 [==============================] - 2s 8ms/step - loss: 0.4152 - accuracy: 0.8149 - val_loss: 0.4348 - val_accuracy: 0.7998\n",
            "Epoch 25/100\n",
            "313/313 [==============================] - 2s 8ms/step - loss: 0.4141 - accuracy: 0.8164 - val_loss: 0.4342 - val_accuracy: 0.7984\n",
            "Epoch 26/100\n",
            "313/313 [==============================] - 2s 8ms/step - loss: 0.4129 - accuracy: 0.8171 - val_loss: 0.4333 - val_accuracy: 0.8000\n",
            "Epoch 27/100\n",
            "313/313 [==============================] - 2s 8ms/step - loss: 0.4122 - accuracy: 0.8158 - val_loss: 0.4329 - val_accuracy: 0.8012\n",
            "Epoch 28/100\n",
            "313/313 [==============================] - 2s 8ms/step - loss: 0.4110 - accuracy: 0.8167 - val_loss: 0.4332 - val_accuracy: 0.8022\n",
            "Epoch 29/100\n",
            "313/313 [==============================] - 2s 8ms/step - loss: 0.4098 - accuracy: 0.8195 - val_loss: 0.4342 - val_accuracy: 0.8018\n",
            "Epoch 30/100\n",
            "313/313 [==============================] - 2s 8ms/step - loss: 0.4091 - accuracy: 0.8183 - val_loss: 0.4316 - val_accuracy: 0.8028\n",
            "Epoch 31/100\n",
            "313/313 [==============================] - 2s 7ms/step - loss: 0.4088 - accuracy: 0.8185 - val_loss: 0.4317 - val_accuracy: 0.8014\n",
            "Epoch 32/100\n",
            "313/313 [==============================] - 2s 8ms/step - loss: 0.4075 - accuracy: 0.8183 - val_loss: 0.4310 - val_accuracy: 0.8012\n",
            "Epoch 33/100\n",
            "313/313 [==============================] - 2s 8ms/step - loss: 0.4062 - accuracy: 0.8209 - val_loss: 0.4307 - val_accuracy: 0.8026\n",
            "Epoch 34/100\n",
            "313/313 [==============================] - 2s 8ms/step - loss: 0.4061 - accuracy: 0.8187 - val_loss: 0.4313 - val_accuracy: 0.8054\n",
            "Epoch 35/100\n",
            "313/313 [==============================] - 2s 8ms/step - loss: 0.4051 - accuracy: 0.8200 - val_loss: 0.4296 - val_accuracy: 0.8036\n",
            "Epoch 36/100\n",
            "313/313 [==============================] - 2s 8ms/step - loss: 0.4047 - accuracy: 0.8196 - val_loss: 0.4288 - val_accuracy: 0.8040\n",
            "Epoch 37/100\n",
            "313/313 [==============================] - 2s 8ms/step - loss: 0.4040 - accuracy: 0.8182 - val_loss: 0.4294 - val_accuracy: 0.8042\n",
            "Epoch 38/100\n",
            "313/313 [==============================] - 2s 8ms/step - loss: 0.4032 - accuracy: 0.8199 - val_loss: 0.4312 - val_accuracy: 0.8026\n",
            "Epoch 39/100\n",
            "313/313 [==============================] - 2s 8ms/step - loss: 0.4020 - accuracy: 0.8199 - val_loss: 0.4281 - val_accuracy: 0.8052\n",
            "Epoch 40/100\n",
            "313/313 [==============================] - 2s 8ms/step - loss: 0.4017 - accuracy: 0.8213 - val_loss: 0.4278 - val_accuracy: 0.8062\n",
            "Epoch 41/100\n",
            "313/313 [==============================] - 2s 8ms/step - loss: 0.4011 - accuracy: 0.8209 - val_loss: 0.4286 - val_accuracy: 0.8048\n",
            "Epoch 42/100\n",
            "313/313 [==============================] - 2s 8ms/step - loss: 0.4004 - accuracy: 0.8224 - val_loss: 0.4317 - val_accuracy: 0.8030\n",
            "Epoch 43/100\n",
            "313/313 [==============================] - 2s 8ms/step - loss: 0.4004 - accuracy: 0.8213 - val_loss: 0.4264 - val_accuracy: 0.8064\n",
            "Epoch 44/100\n",
            "313/313 [==============================] - 2s 8ms/step - loss: 0.3994 - accuracy: 0.8220 - val_loss: 0.4272 - val_accuracy: 0.8078\n",
            "Epoch 45/100\n",
            "313/313 [==============================] - 2s 7ms/step - loss: 0.3990 - accuracy: 0.8217 - val_loss: 0.4270 - val_accuracy: 0.8054\n",
            "Epoch 46/100\n",
            "313/313 [==============================] - 2s 8ms/step - loss: 0.3982 - accuracy: 0.8221 - val_loss: 0.4257 - val_accuracy: 0.8052\n",
            "Epoch 47/100\n",
            "313/313 [==============================] - 2s 8ms/step - loss: 0.3981 - accuracy: 0.8213 - val_loss: 0.4265 - val_accuracy: 0.8046\n",
            "Epoch 48/100\n",
            "313/313 [==============================] - 2s 8ms/step - loss: 0.3976 - accuracy: 0.8226 - val_loss: 0.4249 - val_accuracy: 0.8062\n",
            "Epoch 49/100\n",
            "313/313 [==============================] - 2s 7ms/step - loss: 0.3968 - accuracy: 0.8242 - val_loss: 0.4254 - val_accuracy: 0.8060\n",
            "Epoch 50/100\n",
            "313/313 [==============================] - 2s 8ms/step - loss: 0.3964 - accuracy: 0.8231 - val_loss: 0.4249 - val_accuracy: 0.8076\n",
            "Epoch 51/100\n",
            "313/313 [==============================] - 2s 8ms/step - loss: 0.3956 - accuracy: 0.8241 - val_loss: 0.4255 - val_accuracy: 0.8068\n"
          ],
          "name": "stdout"
        }
      ]
    },
    {
      "cell_type": "code",
      "metadata": {
        "colab": {
          "base_uri": "https://localhost:8080/",
          "height": 279
        },
        "id": "LgavdPKSx1E2",
        "outputId": "b651078f-defd-4254-8976-e60ba9455877"
      },
      "source": [
        "import matplotlib.pyplot as plt\n",
        "plt.plot(history.history['loss'])\n",
        "plt.plot(history.history['val_loss'])\n",
        "plt.xlabel('epoch')\n",
        "plt.ylabel('loss')\n",
        "plt.legend(['train', 'val'])\n",
        "plt.show()"
      ],
      "execution_count": null,
      "outputs": [
        {
          "output_type": "display_data",
          "data": {
            "image/png": "[encoded data removed]",
            "text/plain": [
              "<Figure size 432x288 with 1 Axes>"
            ]
          },
          "metadata": {
            "tags": [],
            "needs_background": "light"
          }
        }
      ]
    },
    {
      "cell_type": "markdown",
      "metadata": {
        "id": "NjdysPTiySpf"
      },
      "source": [
        "### 순환층에 드롭아웃 적용하기\n",
        "* SimpleRNN과 LSTM 클래스 모두 자체적으로 드롭아웃 기능 제공\n",
        "* dropout 과 recurrent_dropout\n",
        "* recurrent_dropout은 기술적 문제로 GPU 사용이 불가"
      ]
    },
    {
      "cell_type": "code",
      "metadata": {
        "colab": {
          "base_uri": "https://localhost:8080/"
        },
        "id": "L0vGP2taytcc",
        "outputId": "cfba9e8f-e51d-48c5-a57f-1af8b0b63cf1"
      },
      "source": [
        "model2 = keras.Sequential()\n",
        "model2.add(keras.layers.Embedding(500, 16, input_length=100))\n",
        "model2.add(keras.layers.LSTM(8, dropout=0.3))\n",
        "model2.add(keras.layers.Dense(1, activation='sigmoid'))\n",
        "\n",
        "# model2.summary()\n",
        "\n",
        "rmsprop = keras.optimizers.RMSprop(learning_rate=1e-4)\n",
        "model2.compile(optimizer=rmsprop, loss='binary_crossentropy',\n",
        "               metrics=['accuracy'])\n",
        "checkpoint_cb = keras.callbacks.ModelCheckpoint('best-drop-model.h5')\n",
        "early_stopping_cb = keras.callbacks.EarlyStopping(patience=3,\n",
        "                                                  restore_best_weights=True)\n",
        "history = model2.fit(train_seq, train_target, epochs=100, batch_size=64,\n",
        "                     validation_data=(val_seq, val_target),\n",
        "                     callbacks=[checkpoint_cb, early_stopping_cb])"
      ],
      "execution_count": null,
      "outputs": [
        {
          "output_type": "stream",
          "text": [
            "Epoch 1/100\n",
            "313/313 [==============================] - 5s 10ms/step - loss: 0.6926 - accuracy: 0.5224 - val_loss: 0.6920 - val_accuracy: 0.5506\n",
            "Epoch 2/100\n",
            "313/313 [==============================] - 2s 8ms/step - loss: 0.6904 - accuracy: 0.5890 - val_loss: 0.6888 - val_accuracy: 0.6312\n",
            "Epoch 3/100\n",
            "313/313 [==============================] - 2s 8ms/step - loss: 0.6850 - accuracy: 0.6450 - val_loss: 0.6795 - val_accuracy: 0.6786\n",
            "Epoch 4/100\n",
            "313/313 [==============================] - 2s 8ms/step - loss: 0.6578 - accuracy: 0.6981 - val_loss: 0.6206 - val_accuracy: 0.7194\n",
            "Epoch 5/100\n",
            "313/313 [==============================] - 3s 8ms/step - loss: 0.6002 - accuracy: 0.7137 - val_loss: 0.5841 - val_accuracy: 0.7204\n",
            "Epoch 6/100\n",
            "313/313 [==============================] - 2s 8ms/step - loss: 0.5730 - accuracy: 0.7296 - val_loss: 0.5581 - val_accuracy: 0.7454\n",
            "Epoch 7/100\n",
            "313/313 [==============================] - 2s 8ms/step - loss: 0.5476 - accuracy: 0.7519 - val_loss: 0.5353 - val_accuracy: 0.7570\n",
            "Epoch 8/100\n",
            "313/313 [==============================] - 2s 8ms/step - loss: 0.5236 - accuracy: 0.7663 - val_loss: 0.5133 - val_accuracy: 0.7696\n",
            "Epoch 9/100\n",
            "313/313 [==============================] - 2s 8ms/step - loss: 0.5058 - accuracy: 0.7747 - val_loss: 0.4979 - val_accuracy: 0.7752\n",
            "Epoch 10/100\n",
            "313/313 [==============================] - 3s 8ms/step - loss: 0.4927 - accuracy: 0.7791 - val_loss: 0.4906 - val_accuracy: 0.7748\n",
            "Epoch 11/100\n",
            "313/313 [==============================] - 2s 8ms/step - loss: 0.4835 - accuracy: 0.7851 - val_loss: 0.4806 - val_accuracy: 0.7834\n",
            "Epoch 12/100\n",
            "313/313 [==============================] - 2s 8ms/step - loss: 0.4777 - accuracy: 0.7850 - val_loss: 0.4735 - val_accuracy: 0.7874\n",
            "Epoch 13/100\n",
            "313/313 [==============================] - 2s 8ms/step - loss: 0.4674 - accuracy: 0.7912 - val_loss: 0.4676 - val_accuracy: 0.7922\n",
            "Epoch 14/100\n",
            "313/313 [==============================] - 2s 8ms/step - loss: 0.4626 - accuracy: 0.7933 - val_loss: 0.4627 - val_accuracy: 0.7946\n",
            "Epoch 15/100\n",
            "313/313 [==============================] - 2s 8ms/step - loss: 0.4571 - accuracy: 0.7937 - val_loss: 0.4584 - val_accuracy: 0.7956\n",
            "Epoch 16/100\n",
            "313/313 [==============================] - 2s 8ms/step - loss: 0.4524 - accuracy: 0.7973 - val_loss: 0.4549 - val_accuracy: 0.7910\n",
            "Epoch 17/100\n",
            "313/313 [==============================] - 2s 8ms/step - loss: 0.4510 - accuracy: 0.7964 - val_loss: 0.4512 - val_accuracy: 0.7948\n",
            "Epoch 18/100\n",
            "313/313 [==============================] - 2s 8ms/step - loss: 0.4445 - accuracy: 0.8015 - val_loss: 0.4479 - val_accuracy: 0.7970\n",
            "Epoch 19/100\n",
            "313/313 [==============================] - 2s 8ms/step - loss: 0.4414 - accuracy: 0.8016 - val_loss: 0.4456 - val_accuracy: 0.7954\n",
            "Epoch 20/100\n",
            "313/313 [==============================] - 2s 8ms/step - loss: 0.4383 - accuracy: 0.8023 - val_loss: 0.4430 - val_accuracy: 0.7968\n",
            "Epoch 21/100\n",
            "313/313 [==============================] - 2s 8ms/step - loss: 0.4338 - accuracy: 0.8051 - val_loss: 0.4434 - val_accuracy: 0.8018\n",
            "Epoch 22/100\n",
            "313/313 [==============================] - 2s 8ms/step - loss: 0.4335 - accuracy: 0.8044 - val_loss: 0.4386 - val_accuracy: 0.7986\n",
            "Epoch 23/100\n",
            "313/313 [==============================] - 2s 8ms/step - loss: 0.4303 - accuracy: 0.8061 - val_loss: 0.4389 - val_accuracy: 0.8024\n",
            "Epoch 24/100\n",
            "313/313 [==============================] - 2s 8ms/step - loss: 0.4277 - accuracy: 0.8087 - val_loss: 0.4355 - val_accuracy: 0.8028\n",
            "Epoch 25/100\n",
            "313/313 [==============================] - 2s 8ms/step - loss: 0.4275 - accuracy: 0.8074 - val_loss: 0.4375 - val_accuracy: 0.8034\n",
            "Epoch 26/100\n",
            "313/313 [==============================] - 2s 8ms/step - loss: 0.4241 - accuracy: 0.8087 - val_loss: 0.4334 - val_accuracy: 0.8032\n",
            "Epoch 27/100\n",
            "313/313 [==============================] - 2s 8ms/step - loss: 0.4220 - accuracy: 0.8116 - val_loss: 0.4355 - val_accuracy: 0.7996\n",
            "Epoch 28/100\n",
            "313/313 [==============================] - 2s 8ms/step - loss: 0.4202 - accuracy: 0.8089 - val_loss: 0.4341 - val_accuracy: 0.7964\n",
            "Epoch 29/100\n",
            "313/313 [==============================] - 2s 8ms/step - loss: 0.4198 - accuracy: 0.8099 - val_loss: 0.4312 - val_accuracy: 0.8088\n",
            "Epoch 30/100\n",
            "313/313 [==============================] - 2s 8ms/step - loss: 0.4185 - accuracy: 0.8115 - val_loss: 0.4285 - val_accuracy: 0.8054\n",
            "Epoch 31/100\n",
            "313/313 [==============================] - 2s 8ms/step - loss: 0.4174 - accuracy: 0.8123 - val_loss: 0.4295 - val_accuracy: 0.8016\n",
            "Epoch 32/100\n",
            "313/313 [==============================] - 2s 8ms/step - loss: 0.4149 - accuracy: 0.8117 - val_loss: 0.4288 - val_accuracy: 0.8018\n",
            "Epoch 33/100\n",
            "313/313 [==============================] - 2s 8ms/step - loss: 0.4146 - accuracy: 0.8145 - val_loss: 0.4363 - val_accuracy: 0.8046\n"
          ],
          "name": "stdout"
        }
      ]
    },
    {
      "cell_type": "code",
      "metadata": {
        "colab": {
          "base_uri": "https://localhost:8080/",
          "height": 279
        },
        "id": "ecXXj7gl0VPu",
        "outputId": "ec2662c4-2e55-4d1e-a42c-0036ad615ddb"
      },
      "source": [
        "plt.plot(history.history['loss'])\n",
        "plt.plot(history.history['val_loss'])\n",
        "plt.xlabel('epoch')\n",
        "plt.ylabel('loss')\n",
        "plt.legend(['train', 'val'])\n",
        "plt.show()"
      ],
      "execution_count": null,
      "outputs": [
        {
          "output_type": "display_data",
          "data": {
            "image/png": "[encoded data removed]",
            "text/plain": [
              "<Figure size 432x288 with 1 Axes>"
            ]
          },
          "metadata": {
            "tags": [],
            "needs_background": "light"
          }
        }
      ]
    },
    {
      "cell_type": "markdown",
      "metadata": {
        "id": "i1BRQ4II03mO"
      },
      "source": [
        "### 2개의 층을 연결하기\n",
        "* 순환층의 은닉 상태는 샘플의 마지막 타임스텝에 대한 은닉 상태만 다음 층으로 전달\n",
        "* 따라서 마지막 순환층을 제외하고는 모든 타임스텝에 대한 은닉 상태를 출력 해야함"
      ]
    },
    {
      "cell_type": "code",
      "metadata": {
        "colab": {
          "base_uri": "https://localhost:8080/"
        },
        "id": "9j3Ca8TC03Vw",
        "outputId": "14a865a7-efb3-4825-c7a6-bca9cfe4af12"
      },
      "source": [
        "model3 = keras.Sequential()\n",
        "model3.add(keras.layers.Embedding(500, 16, input_length=100))\n",
        "model3.add(keras.layers.LSTM(8, dropout=0.3, return_sequences=True))\n",
        "model3.add(keras.layers.LSTM(8, dropout=0.3))\n",
        "model3.add(keras.layers.Dense(1, activation='sigmoid'))\n",
        "\n",
        "model3.summary() # 첫 번째 LSTM은 모든 타임스텝의 은닉 상태를 출력하기 때문에 출력 크기가 (None, 100, 8)\n",
        "\n",
        "# 훈련\n",
        "rmsprop = keras.optimizers.RMSprop(learning_rate=1e-4)\n",
        "model3.compile(optimizer=rmsprop, loss='binary_crossentropy',\n",
        "               metrics=['accuracy'])\n",
        "checkpoint_cb = keras.callbacks.ModelCheckpoint('best-2rnn-model.h5')\n",
        "early_stopping_cb = keras.callbacks.EarlyStopping(patience=3,\n",
        "                                                  restore_best_weights=True)\n",
        "history = model3.fit(train_seq, train_target, epochs=100, batch_size=64,\n",
        "                     validation_data=(val_seq, val_target),\n",
        "                     callbacks=[checkpoint_cb, early_stopping_cb])"
      ],
      "execution_count": 9,
      "outputs": [
        {
          "output_type": "stream",
          "text": [
            "Model: \"sequential_3\"\n",
            "_________________________________________________________________\n",
            "Layer (type)                 Output Shape              Param #   \n",
            "=================================================================\n",
            "embedding_3 (Embedding)      (None, 100, 16)           8000      \n",
            "_________________________________________________________________\n",
            "lstm (LSTM)                  (None, 100, 8)            800       \n",
            "_________________________________________________________________\n",
            "lstm_1 (LSTM)                (None, 8)                 544       \n",
            "_________________________________________________________________\n",
            "dense_3 (Dense)              (None, 1)                 9         \n",
            "=================================================================\n",
            "Total params: 9,353\n",
            "Trainable params: 9,353\n",
            "Non-trainable params: 0\n",
            "_________________________________________________________________\n",
            "Epoch 1/100\n",
            "313/313 [==============================] - 7s 15ms/step - loss: 0.6925 - accuracy: 0.5422 - val_loss: 0.6918 - val_accuracy: 0.5962\n",
            "Epoch 2/100\n",
            "313/313 [==============================] - 4s 13ms/step - loss: 0.6895 - accuracy: 0.6138 - val_loss: 0.6859 - val_accuracy: 0.6180\n",
            "Epoch 3/100\n",
            "313/313 [==============================] - 4s 13ms/step - loss: 0.6672 - accuracy: 0.6615 - val_loss: 0.6349 - val_accuracy: 0.6802\n",
            "Epoch 4/100\n",
            "313/313 [==============================] - 4s 13ms/step - loss: 0.5881 - accuracy: 0.7081 - val_loss: 0.5595 - val_accuracy: 0.7208\n",
            "Epoch 5/100\n",
            "313/313 [==============================] - 4s 13ms/step - loss: 0.5472 - accuracy: 0.7315 - val_loss: 0.5351 - val_accuracy: 0.7376\n",
            "Epoch 6/100\n",
            "313/313 [==============================] - 4s 13ms/step - loss: 0.5241 - accuracy: 0.7473 - val_loss: 0.5131 - val_accuracy: 0.7580\n",
            "Epoch 7/100\n",
            "313/313 [==============================] - 4s 13ms/step - loss: 0.5084 - accuracy: 0.7573 - val_loss: 0.4972 - val_accuracy: 0.7682\n",
            "Epoch 8/100\n",
            "313/313 [==============================] - 4s 13ms/step - loss: 0.4954 - accuracy: 0.7656 - val_loss: 0.4862 - val_accuracy: 0.7766\n",
            "Epoch 9/100\n",
            "313/313 [==============================] - 4s 13ms/step - loss: 0.4851 - accuracy: 0.7743 - val_loss: 0.4780 - val_accuracy: 0.7736\n",
            "Epoch 10/100\n",
            "313/313 [==============================] - 4s 13ms/step - loss: 0.4776 - accuracy: 0.7771 - val_loss: 0.4711 - val_accuracy: 0.7812\n",
            "Epoch 11/100\n",
            "313/313 [==============================] - 4s 13ms/step - loss: 0.4686 - accuracy: 0.7822 - val_loss: 0.4711 - val_accuracy: 0.7786\n",
            "Epoch 12/100\n",
            "313/313 [==============================] - 4s 13ms/step - loss: 0.4650 - accuracy: 0.7848 - val_loss: 0.4652 - val_accuracy: 0.7788\n",
            "Epoch 13/100\n",
            "313/313 [==============================] - 4s 13ms/step - loss: 0.4607 - accuracy: 0.7875 - val_loss: 0.4649 - val_accuracy: 0.7776\n",
            "Epoch 14/100\n",
            "313/313 [==============================] - 4s 13ms/step - loss: 0.4561 - accuracy: 0.7903 - val_loss: 0.4570 - val_accuracy: 0.7872\n",
            "Epoch 15/100\n",
            "313/313 [==============================] - 4s 13ms/step - loss: 0.4547 - accuracy: 0.7894 - val_loss: 0.4569 - val_accuracy: 0.7860\n",
            "Epoch 16/100\n",
            "313/313 [==============================] - 4s 13ms/step - loss: 0.4506 - accuracy: 0.7944 - val_loss: 0.4536 - val_accuracy: 0.7856\n",
            "Epoch 17/100\n",
            "313/313 [==============================] - 4s 13ms/step - loss: 0.4473 - accuracy: 0.7959 - val_loss: 0.4570 - val_accuracy: 0.7882\n",
            "Epoch 18/100\n",
            "313/313 [==============================] - 4s 13ms/step - loss: 0.4471 - accuracy: 0.7947 - val_loss: 0.4491 - val_accuracy: 0.7916\n",
            "Epoch 19/100\n",
            "313/313 [==============================] - 4s 13ms/step - loss: 0.4417 - accuracy: 0.8001 - val_loss: 0.4514 - val_accuracy: 0.7904\n",
            "Epoch 20/100\n",
            "313/313 [==============================] - 4s 13ms/step - loss: 0.4400 - accuracy: 0.7970 - val_loss: 0.4501 - val_accuracy: 0.7916\n",
            "Epoch 21/100\n",
            "313/313 [==============================] - 4s 13ms/step - loss: 0.4364 - accuracy: 0.7986 - val_loss: 0.4429 - val_accuracy: 0.7966\n",
            "Epoch 22/100\n",
            "313/313 [==============================] - 4s 13ms/step - loss: 0.4354 - accuracy: 0.7984 - val_loss: 0.4444 - val_accuracy: 0.7918\n",
            "Epoch 23/100\n",
            "313/313 [==============================] - 4s 13ms/step - loss: 0.4331 - accuracy: 0.8026 - val_loss: 0.4401 - val_accuracy: 0.7950\n",
            "Epoch 24/100\n",
            "313/313 [==============================] - 4s 13ms/step - loss: 0.4314 - accuracy: 0.8016 - val_loss: 0.4415 - val_accuracy: 0.7936\n",
            "Epoch 25/100\n",
            "313/313 [==============================] - 4s 13ms/step - loss: 0.4306 - accuracy: 0.8020 - val_loss: 0.4394 - val_accuracy: 0.7936\n",
            "Epoch 26/100\n",
            "313/313 [==============================] - 4s 13ms/step - loss: 0.4289 - accuracy: 0.8020 - val_loss: 0.4362 - val_accuracy: 0.7972\n",
            "Epoch 27/100\n",
            "313/313 [==============================] - 4s 13ms/step - loss: 0.4277 - accuracy: 0.8048 - val_loss: 0.4357 - val_accuracy: 0.7996\n",
            "Epoch 28/100\n",
            "313/313 [==============================] - 4s 13ms/step - loss: 0.4259 - accuracy: 0.8061 - val_loss: 0.4410 - val_accuracy: 0.7934\n",
            "Epoch 29/100\n",
            "313/313 [==============================] - 4s 13ms/step - loss: 0.4252 - accuracy: 0.8055 - val_loss: 0.4474 - val_accuracy: 0.7892\n",
            "Epoch 30/100\n",
            "313/313 [==============================] - 4s 13ms/step - loss: 0.4237 - accuracy: 0.8090 - val_loss: 0.4341 - val_accuracy: 0.7954\n",
            "Epoch 31/100\n",
            "313/313 [==============================] - 4s 13ms/step - loss: 0.4222 - accuracy: 0.8062 - val_loss: 0.4338 - val_accuracy: 0.7964\n",
            "Epoch 32/100\n",
            "313/313 [==============================] - 4s 13ms/step - loss: 0.4215 - accuracy: 0.8062 - val_loss: 0.4322 - val_accuracy: 0.8002\n",
            "Epoch 33/100\n",
            "313/313 [==============================] - 4s 13ms/step - loss: 0.4211 - accuracy: 0.8065 - val_loss: 0.4314 - val_accuracy: 0.7988\n",
            "Epoch 34/100\n",
            "313/313 [==============================] - 4s 13ms/step - loss: 0.4192 - accuracy: 0.8072 - val_loss: 0.4328 - val_accuracy: 0.7984\n",
            "Epoch 35/100\n",
            "313/313 [==============================] - 4s 13ms/step - loss: 0.4185 - accuracy: 0.8087 - val_loss: 0.4330 - val_accuracy: 0.7984\n",
            "Epoch 36/100\n",
            "313/313 [==============================] - 4s 13ms/step - loss: 0.4177 - accuracy: 0.8079 - val_loss: 0.4306 - val_accuracy: 0.8006\n",
            "Epoch 37/100\n",
            "313/313 [==============================] - 4s 13ms/step - loss: 0.4171 - accuracy: 0.8093 - val_loss: 0.4315 - val_accuracy: 0.7990\n",
            "Epoch 38/100\n",
            "313/313 [==============================] - 4s 13ms/step - loss: 0.4164 - accuracy: 0.8098 - val_loss: 0.4311 - val_accuracy: 0.8008\n",
            "Epoch 39/100\n",
            "313/313 [==============================] - 4s 13ms/step - loss: 0.4142 - accuracy: 0.8096 - val_loss: 0.4334 - val_accuracy: 0.7968\n"
          ],
          "name": "stdout"
        }
      ]
    },
    {
      "cell_type": "code",
      "metadata": {
        "colab": {
          "base_uri": "https://localhost:8080/",
          "height": 279
        },
        "id": "HijtF6ww3FaZ",
        "outputId": "52ac6127-7872-48c1-cd72-3d8afe470eb1"
      },
      "source": [
        "plt.plot(history.history['loss'])\n",
        "plt.plot(history.history['val_loss'])\n",
        "plt.xlabel('epoch')\n",
        "plt.ylabel('loss')\n",
        "plt.legend(['train', 'val'])\n",
        "plt.show()"
      ],
      "execution_count": null,
      "outputs": [
        {
          "output_type": "display_data",
          "data": {
            "image/png": "[encoded data removed]",
            "text/plain": [
              "<Figure size 432x288 with 1 Axes>"
            ]
          },
          "metadata": {
            "tags": [],
            "needs_background": "light"
          }
        }
      ]
    },
    {
      "cell_type": "markdown",
      "metadata": {
        "id": "0oCTuOBB4g58"
      },
      "source": [
        "### GRU 구조\n",
        "* [자료](https://yjjo.tistory.com/18)"
      ]
    },
    {
      "cell_type": "markdown",
      "metadata": {
        "id": "eQRKnS_rOXNy"
      },
      "source": [
        "### GRU 신경망 훈련하기"
      ]
    },
    {
      "cell_type": "code",
      "metadata": {
        "colab": {
          "base_uri": "https://localhost:8080/"
        },
        "id": "LrmdaheFOWYe",
        "outputId": "b86ee144-6923-4417-a411-9ce5c97b1b80"
      },
      "source": [
        "from tensorflow import keras\n",
        "\n",
        "model4 = keras.Sequential()\n",
        "model4.add(keras.layers.Embedding(500, 16, input_length=100))\n",
        "model4.add(keras.layers.GRU(8))\n",
        "model4.add(keras.layers.Dense(1, activation='sigmoid'))\n",
        "\n",
        "model4.summary()\n",
        "\n",
        "# 훈련\n",
        "rmsprop = keras.optimizers.RMSprop(learning_rate=1e-4)\n",
        "model4.compile(optimizer=rmsprop, loss='binary_crossentropy',\n",
        "               metrics=['accuracy'])\n",
        "checkpoint_cb = keras.callbacks.ModelCheckpoint('best-gru-model.h5')\n",
        "early_stopping_cb = keras.callbacks.EarlyStopping(patience=3,\n",
        "                                                  restore_best_weights=True)\n",
        "history = model4.fit(train_seq, train_target, epochs=100, batch_size=64,\n",
        "                     validation_data=(val_seq, val_target),\n",
        "                     callbacks=[checkpoint_cb, early_stopping_cb])\n"
      ],
      "execution_count": 4,
      "outputs": [
        {
          "output_type": "stream",
          "text": [
            "Model: \"sequential_2\"\n",
            "_________________________________________________________________\n",
            "Layer (type)                 Output Shape              Param #   \n",
            "=================================================================\n",
            "embedding_2 (Embedding)      (None, 100, 16)           8000      \n",
            "_________________________________________________________________\n",
            "gru_2 (GRU)                  (None, 8)                 624       \n",
            "_________________________________________________________________\n",
            "dense_2 (Dense)              (None, 1)                 9         \n",
            "=================================================================\n",
            "Total params: 8,633\n",
            "Trainable params: 8,633\n",
            "Non-trainable params: 0\n",
            "_________________________________________________________________\n",
            "Epoch 1/100\n",
            "313/313 [==============================] - 11s 9ms/step - loss: 0.6930 - accuracy: 0.5070 - val_loss: 0.6924 - val_accuracy: 0.5198\n",
            "Epoch 2/100\n",
            "313/313 [==============================] - 2s 8ms/step - loss: 0.6912 - accuracy: 0.5645 - val_loss: 0.6907 - val_accuracy: 0.5630\n",
            "Epoch 3/100\n",
            "313/313 [==============================] - 2s 8ms/step - loss: 0.6885 - accuracy: 0.5975 - val_loss: 0.6875 - val_accuracy: 0.5890\n",
            "Epoch 4/100\n",
            "313/313 [==============================] - 2s 8ms/step - loss: 0.6838 - accuracy: 0.6169 - val_loss: 0.6822 - val_accuracy: 0.5984\n",
            "Epoch 5/100\n",
            "313/313 [==============================] - 2s 8ms/step - loss: 0.6759 - accuracy: 0.6305 - val_loss: 0.6728 - val_accuracy: 0.6208\n",
            "Epoch 6/100\n",
            "313/313 [==============================] - 2s 8ms/step - loss: 0.6625 - accuracy: 0.6446 - val_loss: 0.6570 - val_accuracy: 0.6402\n",
            "Epoch 7/100\n",
            "313/313 [==============================] - 2s 8ms/step - loss: 0.6388 - accuracy: 0.6657 - val_loss: 0.6272 - val_accuracy: 0.6724\n",
            "Epoch 8/100\n",
            "313/313 [==============================] - 2s 8ms/step - loss: 0.5914 - accuracy: 0.7007 - val_loss: 0.5666 - val_accuracy: 0.7206\n",
            "Epoch 9/100\n",
            "313/313 [==============================] - 2s 8ms/step - loss: 0.5298 - accuracy: 0.7434 - val_loss: 0.5248 - val_accuracy: 0.7448\n",
            "Epoch 10/100\n",
            "313/313 [==============================] - 2s 8ms/step - loss: 0.5057 - accuracy: 0.7579 - val_loss: 0.5088 - val_accuracy: 0.7566\n",
            "Epoch 11/100\n",
            "313/313 [==============================] - 3s 8ms/step - loss: 0.4904 - accuracy: 0.7692 - val_loss: 0.4973 - val_accuracy: 0.7656\n",
            "Epoch 12/100\n",
            "313/313 [==============================] - 3s 8ms/step - loss: 0.4784 - accuracy: 0.7774 - val_loss: 0.4881 - val_accuracy: 0.7730\n",
            "Epoch 13/100\n",
            "313/313 [==============================] - 3s 8ms/step - loss: 0.4686 - accuracy: 0.7842 - val_loss: 0.4794 - val_accuracy: 0.7732\n",
            "Epoch 14/100\n",
            "313/313 [==============================] - 2s 8ms/step - loss: 0.4605 - accuracy: 0.7878 - val_loss: 0.4738 - val_accuracy: 0.7798\n",
            "Epoch 15/100\n",
            "313/313 [==============================] - 2s 8ms/step - loss: 0.4537 - accuracy: 0.7944 - val_loss: 0.4682 - val_accuracy: 0.7784\n",
            "Epoch 16/100\n",
            "313/313 [==============================] - 3s 8ms/step - loss: 0.4480 - accuracy: 0.7982 - val_loss: 0.4647 - val_accuracy: 0.7858\n",
            "Epoch 17/100\n",
            "313/313 [==============================] - 2s 8ms/step - loss: 0.4435 - accuracy: 0.8005 - val_loss: 0.4607 - val_accuracy: 0.7884\n",
            "Epoch 18/100\n",
            "313/313 [==============================] - 3s 8ms/step - loss: 0.4396 - accuracy: 0.8031 - val_loss: 0.4579 - val_accuracy: 0.7896\n",
            "Epoch 19/100\n",
            "313/313 [==============================] - 3s 8ms/step - loss: 0.4366 - accuracy: 0.8042 - val_loss: 0.4561 - val_accuracy: 0.7936\n",
            "Epoch 20/100\n",
            "313/313 [==============================] - 2s 8ms/step - loss: 0.4334 - accuracy: 0.8062 - val_loss: 0.4588 - val_accuracy: 0.7924\n",
            "Epoch 21/100\n",
            "313/313 [==============================] - 3s 8ms/step - loss: 0.4307 - accuracy: 0.8086 - val_loss: 0.4540 - val_accuracy: 0.7888\n",
            "Epoch 22/100\n",
            "313/313 [==============================] - 3s 8ms/step - loss: 0.4289 - accuracy: 0.8099 - val_loss: 0.4508 - val_accuracy: 0.7922\n",
            "Epoch 23/100\n",
            "313/313 [==============================] - 3s 8ms/step - loss: 0.4268 - accuracy: 0.8110 - val_loss: 0.4506 - val_accuracy: 0.7912\n",
            "Epoch 24/100\n",
            "313/313 [==============================] - 3s 8ms/step - loss: 0.4255 - accuracy: 0.8117 - val_loss: 0.4485 - val_accuracy: 0.7944\n",
            "Epoch 25/100\n",
            "313/313 [==============================] - 3s 8ms/step - loss: 0.4238 - accuracy: 0.8125 - val_loss: 0.4486 - val_accuracy: 0.7912\n",
            "Epoch 26/100\n",
            "313/313 [==============================] - 3s 8ms/step - loss: 0.4226 - accuracy: 0.8137 - val_loss: 0.4484 - val_accuracy: 0.7900\n",
            "Epoch 27/100\n",
            "313/313 [==============================] - 3s 8ms/step - loss: 0.4215 - accuracy: 0.8138 - val_loss: 0.4472 - val_accuracy: 0.7924\n",
            "Epoch 28/100\n",
            "313/313 [==============================] - 3s 8ms/step - loss: 0.4203 - accuracy: 0.8135 - val_loss: 0.4465 - val_accuracy: 0.7932\n",
            "Epoch 29/100\n",
            "313/313 [==============================] - 2s 8ms/step - loss: 0.4198 - accuracy: 0.8137 - val_loss: 0.4471 - val_accuracy: 0.7910\n",
            "Epoch 30/100\n",
            "313/313 [==============================] - 2s 8ms/step - loss: 0.4188 - accuracy: 0.8145 - val_loss: 0.4455 - val_accuracy: 0.7926\n",
            "Epoch 31/100\n",
            "313/313 [==============================] - 3s 8ms/step - loss: 0.4179 - accuracy: 0.8137 - val_loss: 0.4462 - val_accuracy: 0.7958\n",
            "Epoch 32/100\n",
            "313/313 [==============================] - 3s 8ms/step - loss: 0.4173 - accuracy: 0.8144 - val_loss: 0.4443 - val_accuracy: 0.7956\n",
            "Epoch 33/100\n",
            "313/313 [==============================] - 3s 8ms/step - loss: 0.4165 - accuracy: 0.8152 - val_loss: 0.4431 - val_accuracy: 0.7958\n",
            "Epoch 34/100\n",
            "313/313 [==============================] - 2s 8ms/step - loss: 0.4163 - accuracy: 0.8136 - val_loss: 0.4457 - val_accuracy: 0.7938\n",
            "Epoch 35/100\n",
            "313/313 [==============================] - 3s 8ms/step - loss: 0.4155 - accuracy: 0.8158 - val_loss: 0.4437 - val_accuracy: 0.7938\n",
            "Epoch 36/100\n",
            "313/313 [==============================] - 3s 8ms/step - loss: 0.4151 - accuracy: 0.8150 - val_loss: 0.4423 - val_accuracy: 0.7956\n",
            "Epoch 37/100\n",
            "313/313 [==============================] - 3s 8ms/step - loss: 0.4145 - accuracy: 0.8144 - val_loss: 0.4428 - val_accuracy: 0.7910\n",
            "Epoch 38/100\n",
            "313/313 [==============================] - 3s 8ms/step - loss: 0.4144 - accuracy: 0.8172 - val_loss: 0.4420 - val_accuracy: 0.7946\n",
            "Epoch 39/100\n",
            "313/313 [==============================] - 3s 8ms/step - loss: 0.4139 - accuracy: 0.8166 - val_loss: 0.4416 - val_accuracy: 0.7944\n",
            "Epoch 40/100\n",
            "313/313 [==============================] - 3s 8ms/step - loss: 0.4136 - accuracy: 0.8153 - val_loss: 0.4406 - val_accuracy: 0.7934\n",
            "Epoch 41/100\n",
            "313/313 [==============================] - 3s 8ms/step - loss: 0.4131 - accuracy: 0.8159 - val_loss: 0.4415 - val_accuracy: 0.7970\n",
            "Epoch 42/100\n",
            "313/313 [==============================] - 3s 8ms/step - loss: 0.4128 - accuracy: 0.8169 - val_loss: 0.4490 - val_accuracy: 0.7928\n",
            "Epoch 43/100\n",
            "313/313 [==============================] - 3s 8ms/step - loss: 0.4126 - accuracy: 0.8164 - val_loss: 0.4420 - val_accuracy: 0.7970\n"
          ],
          "name": "stdout"
        }
      ]
    },
    {
      "cell_type": "code",
      "metadata": {
        "colab": {
          "base_uri": "https://localhost:8080/",
          "height": 279
        },
        "id": "-qcMOb0m6RAg",
        "outputId": "6f0f47ee-78d9-484e-e05d-4324728c29d6"
      },
      "source": [
        "import matplotlib.pyplot as plt\n",
        "plt.plot(history.history['loss'])\n",
        "plt.plot(history.history['val_loss'])\n",
        "plt.xlabel('epoch')\n",
        "plt.ylabel('loss')\n",
        "plt.legend(['train', 'val'])\n",
        "plt.show()"
      ],
      "execution_count": 5,
      "outputs": [
        {
          "output_type": "display_data",
          "data": {
            "image/png": "[encoded data removed]",
            "text/plain": [
              "<Figure size 432x288 with 1 Axes>"
            ]
          },
          "metadata": {
            "tags": [],
            "needs_background": "light"
          }
        }
      ]
    },
    {
      "cell_type": "code",
      "metadata": {
        "colab": {
          "base_uri": "https://localhost:8080/"
        },
        "id": "1683EAMj8A6F",
        "outputId": "774317f6-fc42-420e-9da9-d8cf4fb9c325"
      },
      "source": [
        "# test\n",
        "test_seq = pad_sequences(test_input, maxlen=100)\n",
        "rnn_model = keras.models.load_model('best-2rnn-model.h5')\n",
        "rnn_model.evaluate(test_seq, test_target)"
      ],
      "execution_count": 10,
      "outputs": [
        {
          "output_type": "stream",
          "text": [
            "782/782 [==============================] - 5s 5ms/step - loss: 0.4276 - accuracy: 0.7984\n"
          ],
          "name": "stdout"
        },
        {
          "output_type": "execute_result",
          "data": {
            "text/plain": [
              "[0.4276365637779236, 0.7984399795532227]"
            ]
          },
          "metadata": {
            "tags": []
          },
          "execution_count": 10
        }
      ]
    }
  ]
}