{
  "nbformat": 4,
  "nbformat_minor": 0,
  "metadata": {
    "colab": {
      "name": "chap1.py",
      "provenance": []
    },
    "kernelspec": {
      "name": "python3",
      "display_name": "Python 3"
    },
    "language_info": {
      "name": "python"
    }
  },
  "cells": [
    {
      "cell_type": "code",
      "metadata": {
        "colab": {
          "base_uri": "https://localhost:8080/"
        },
        "id": "9kXB9el-v2dt",
        "outputId": "85ee7e6a-4a59-454e-d1f9-f0291375419b"
      },
      "source": [
        "(999).bit_length()"
      ],
      "execution_count": null,
      "outputs": [
        {
          "output_type": "execute_result",
          "data": {
            "text/plain": [
              "10"
            ]
          },
          "metadata": {
            "tags": []
          },
          "execution_count": 2
        }
      ]
    },
    {
      "cell_type": "code",
      "metadata": {
        "colab": {
          "base_uri": "https://localhost:8080/"
        },
        "id": "K6J4PPbzwZuf",
        "outputId": "e750098b-7fcb-4a0d-924b-19bd5980c311"
      },
      "source": [
        "s = '11'\n",
        "d = int(s)\n",
        "print(d)\n",
        "b = int(s, 2)\n",
        "print(b)"
      ],
      "execution_count": null,
      "outputs": [
        {
          "output_type": "stream",
          "text": [
            "11\n",
            "3\n"
          ],
          "name": "stdout"
        }
      ]
    },
    {
      "cell_type": "code",
      "metadata": {
        "colab": {
          "base_uri": "https://localhost:8080/"
        },
        "id": "B-Qcf859wkK1",
        "outputId": "b797d1e2-c7ef-42cf-91f0-1c7293bdb04c"
      },
      "source": [
        "0.2 * 3 == 0.6\n",
        "1.2 - 0.2 == 1.0\n",
        "1.2 - 0.1 == 1.1\n",
        "0.1 * 0.1 == 0.01"
      ],
      "execution_count": null,
      "outputs": [
        {
          "output_type": "execute_result",
          "data": {
            "text/plain": [
              "False"
            ]
          },
          "metadata": {
            "tags": []
          },
          "execution_count": 8
        }
      ]
    },
    {
      "cell_type": "code",
      "metadata": {
        "colab": {
          "base_uri": "https://localhost:8080/"
        },
        "id": "FJqKKLAt1EJO",
        "outputId": "97bcf189-e3cb-4b57-9bbe-b26fc45d9c1b"
      },
      "source": [
        "def a(x, y, places=7):\n",
        "  return round(abs(x-y), places) == 0\n",
        "\n",
        "a(0.1 * 0.1, 0.01)"
      ],
      "execution_count": null,
      "outputs": [
        {
          "output_type": "execute_result",
          "data": {
            "text/plain": [
              "True"
            ]
          },
          "metadata": {
            "tags": []
          },
          "execution_count": 9
        }
      ]
    },
    {
      "cell_type": "code",
      "metadata": {
        "colab": {
          "base_uri": "https://localhost:8080/"
        },
        "id": "XyDZd6Ka1kjl",
        "outputId": "f81a21fd-a814-46aa-80ca-7f6c7aa74845"
      },
      "source": [
        "divmod(45, 6)"
      ],
      "execution_count": null,
      "outputs": [
        {
          "output_type": "execute_result",
          "data": {
            "text/plain": [
              "(7, 3)"
            ]
          },
          "metadata": {
            "tags": []
          },
          "execution_count": 10
        }
      ]
    },
    {
      "cell_type": "code",
      "metadata": {
        "colab": {
          "base_uri": "https://localhost:8080/"
        },
        "id": "NpDD5jVZ1y1C",
        "outputId": "591fe668-500e-4749-c461-76216ebb55bb"
      },
      "source": [
        "print(round(113.866, -1))\n",
        "print(round(113.866, 2))"
      ],
      "execution_count": null,
      "outputs": [
        {
          "output_type": "stream",
          "text": [
            "110.0\n",
            "113.87\n"
          ],
          "name": "stdout"
        }
      ]
    },
    {
      "cell_type": "code",
      "metadata": {
        "colab": {
          "base_uri": "https://localhost:8080/"
        },
        "id": "W2vSxg5o2Igw",
        "outputId": "5dea73f4-57e7-4ee7-a253-e97b6e49fea4"
      },
      "source": [
        "2.75.as_integer_ratio()"
      ],
      "execution_count": null,
      "outputs": [
        {
          "output_type": "execute_result",
          "data": {
            "text/plain": [
              "(11, 4)"
            ]
          },
          "metadata": {
            "tags": []
          },
          "execution_count": 21
        }
      ]
    },
    {
      "cell_type": "code",
      "metadata": {
        "colab": {
          "base_uri": "https://localhost:8080/"
        },
        "id": "t2vsrSi22hOq",
        "outputId": "1c7d3fa0-a553-4d5b-a82b-e54e4fcb8d0a"
      },
      "source": [
        "import cmath\n",
        "z = 3 + 4j\n",
        "z.real; z.imag; z.conjugate()"
      ],
      "execution_count": null,
      "outputs": [
        {
          "output_type": "execute_result",
          "data": {
            "text/plain": [
              "(3-4j)"
            ]
          },
          "metadata": {
            "tags": []
          },
          "execution_count": 25
        }
      ]
    },
    {
      "cell_type": "code",
      "metadata": {
        "id": "ZiUh2WXo2z_F",
        "colab": {
          "base_uri": "https://localhost:8080/"
        },
        "outputId": "601f177b-f2a4-469c-f820-492de7161713"
      },
      "source": [
        "from fractions import Fraction\n",
        "\n",
        "def rounding_floats(number1, places):\n",
        "  return round(number1, places)\n",
        "\n",
        "def float_to_fractions(number):\n",
        "  return Fraction(*number.as_integer_ratio())\n",
        "\n",
        "def get_denominator(number1, number2):\n",
        "  # 분모를 반환한다.\n",
        "  a = Fraction(number1, number2)\n",
        "  return a.denominator\n",
        "\n",
        "def get_numerator(number1, number2):\n",
        "  # 분자를 반환한다.\n",
        "  a =Fraction(number1, number2)\n",
        "  return a.numerator\n",
        "\n",
        "def test_testing_floats():\n",
        "  number1 = 1.25\n",
        "  number2 = 1\n",
        "  number3 = -1\n",
        "  number4 = 5/4\n",
        "  number6 = 6\n",
        "  assert(rounding_floats(number1, number2) == 1.2)\n",
        "  assert(rounding_floats(number1*10, number3) == 10)\n",
        "  assert(float_to_fractions(number1) == number4)\n",
        "  assert(get_denominator(number2, number6) == number6)\n",
        "  assert(get_numerator(number2, number6) == number2)\n",
        "  print(\"테스트 통과!\")\n",
        "\n",
        "if __name__ == \"__main__\":\n",
        "  test_testing_floats()"
      ],
      "execution_count": 28,
      "outputs": [
        {
          "output_type": "stream",
          "text": [
            "테스트 통과!\n"
          ],
          "name": "stdout"
        }
      ]
    },
    {
      "cell_type": "code",
      "metadata": {
        "colab": {
          "base_uri": "https://localhost:8080/"
        },
        "id": "Cm1WOtCk_NVI",
        "outputId": "135c480b-7dff-4745-bc64-88048e5c912b"
      },
      "source": [
        "sum( 0.1 for i in range(10)) == 1.0\n",
        "from decimal import Decimal\n",
        "sum(Decimal(\"0.1\") for i in range(10)) == Decimal(\"1.0\")"
      ],
      "execution_count": 32,
      "outputs": [
        {
          "output_type": "execute_result",
          "data": {
            "text/plain": [
              "True"
            ]
          },
          "metadata": {
            "tags": []
          },
          "execution_count": 32
        }
      ]
    },
    {
      "cell_type": "code",
      "metadata": {
        "colab": {
          "base_uri": "https://localhost:8080/",
          "height": 36
        },
        "id": "Gf1BN-D__xra",
        "outputId": "a5e8f60a-85e6-4104-b12f-c549329cb4ff"
      },
      "source": [
        "bin(999)"
      ],
      "execution_count": 33,
      "outputs": [
        {
          "output_type": "execute_result",
          "data": {
            "application/vnd.google.colaboratory.intrinsic+json": {
              "type": "string"
            },
            "text/plain": [
              "'0b1111100111'"
            ]
          },
          "metadata": {
            "tags": []
          },
          "execution_count": 33
        }
      ]
    },
    {
      "cell_type": "code",
      "metadata": {
        "colab": {
          "base_uri": "https://localhost:8080/",
          "height": 36
        },
        "id": "CwP6Wrii_5xN",
        "outputId": "3fc0620a-11df-4f49-cb51-f6c68b3d73f8"
      },
      "source": [
        "oct(999)"
      ],
      "execution_count": 34,
      "outputs": [
        {
          "output_type": "execute_result",
          "data": {
            "application/vnd.google.colaboratory.intrinsic+json": {
              "type": "string"
            },
            "text/plain": [
              "'0o1747'"
            ]
          },
          "metadata": {
            "tags": []
          },
          "execution_count": 34
        }
      ]
    },
    {
      "cell_type": "code",
      "metadata": {
        "colab": {
          "base_uri": "https://localhost:8080/",
          "height": 36
        },
        "id": "HdVV11ec_9U7",
        "outputId": "423e40e2-3873-4049-dfef-8768c45256fb"
      },
      "source": [
        "hex(999)"
      ],
      "execution_count": 35,
      "outputs": [
        {
          "output_type": "execute_result",
          "data": {
            "application/vnd.google.colaboratory.intrinsic+json": {
              "type": "string"
            },
            "text/plain": [
              "'0x3e7'"
            ]
          },
          "metadata": {
            "tags": []
          },
          "execution_count": 35
        }
      ]
    },
    {
      "cell_type": "code",
      "metadata": {
        "colab": {
          "base_uri": "https://localhost:8080/"
        },
        "id": "LNlHG3UAAAkH",
        "outputId": "13849e8c-274b-4e4c-8ecc-2a329bfe12f3"
      },
      "source": [
        "# 1.7.1 진법 변환\n",
        "\n",
        "def convert_to_decimal(number, base):\n",
        "  multiplier, result = 1, 0\n",
        "  while number > 0:\n",
        "    result += number % 10 * multiplier\n",
        "    multiplier *= base\n",
        "    number = number // 10\n",
        "  return result\n",
        "\n",
        "def test_convert_to_decimal():\n",
        "  number, base = 1001, 2\n",
        "  assert(convert_to_decimal(number, base) == 9)\n",
        "  print(\"테스트 통과!\")\n",
        "\n",
        "if __name__ == \"__main__\":\n",
        "  test_convert_to_decimal()"
      ],
      "execution_count": 38,
      "outputs": [
        {
          "output_type": "stream",
          "text": [
            "테스트 통과!\n"
          ],
          "name": "stdout"
        }
      ]
    },
    {
      "cell_type": "code",
      "metadata": {
        "colab": {
          "base_uri": "https://localhost:8080/"
        },
        "id": "qYntylsECqP3",
        "outputId": "f139d552-8390-41b9-a738-03fb854129ea"
      },
      "source": [
        "def convert_from_decimal(number, base):        # base값과 10만 교환해주면됨.\n",
        "  multiplier, result = 1, 0\n",
        "  while number > 0:\n",
        "    result += number % base * multiplier\n",
        "    multiplier *= 10\n",
        "    number = number // base\n",
        "  return result\n",
        "\n",
        "def test_convert_from_decimal():\n",
        "  number, base = 9, 2\n",
        "  assert(convert_from_decimal(number, base) == 1001)\n",
        "  print(\"테스트 통과!\")\n",
        "\n",
        "if __name__ == \"__main__\":\n",
        "  test_convert_from_decimal()\n",
        "  "
      ],
      "execution_count": 39,
      "outputs": [
        {
          "output_type": "stream",
          "text": [
            "테스트 통과!\n"
          ],
          "name": "stdout"
        }
      ]
    },
    {
      "cell_type": "code",
      "metadata": {
        "colab": {
          "base_uri": "https://localhost:8080/"
        },
        "id": "0rqTgjeBD1ZP",
        "outputId": "44d796b3-96fd-49a6-e139-432bbe339413"
      },
      "source": [
        "# 10진법 숫자를 20 이하의 진법으로 변환\n",
        "def convert_from_decimal_larger_bases(number, base):\n",
        "  strings = \"0123456789ABCDEFGHIJ\"\n",
        "  result = \"\"\n",
        "  while number > 0:\n",
        "    digit = number % base\n",
        "    result = strings[digit] + result\n",
        "    number = number // base\n",
        "  return result\n",
        "\n",
        "def test_convert_from_decimal_larger_bases():\n",
        "  number, base = 31, 16\n",
        "  assert(convert_from_decimal_larger_bases(number, base) == \"1F\")\n",
        "  print(\"통과!\")\n",
        "\n",
        "if __name__ == \"__main__\":\n",
        "  test_convert_from_decimal_larger_bases()\n"
      ],
      "execution_count": 3,
      "outputs": [
        {
          "output_type": "stream",
          "text": [
            "통과!\n"
          ],
          "name": "stdout"
        }
      ]
    },
    {
      "cell_type": "code",
      "metadata": {
        "colab": {
          "base_uri": "https://localhost:8080/"
        },
        "id": "7REhxzjUdacN",
        "outputId": "a3b376fc-46c7-48eb-85d6-9a35686ad904"
      },
      "source": [
        "def convert_dec_to_any_base_rec(number, base):\n",
        "  convertString = \"0123456789ABCDEF\"\n",
        "  if number < base:\n",
        "    return convertString[number]\n",
        "  else:\n",
        "    return convert_dec_to_any_base_rec(number // base, base)\\\n",
        "        + convertString[number % base]\n",
        "\n",
        "def test_convert_dec_to_any_base_rec():\n",
        "  number = 9\n",
        "  base = 2\n",
        "  assert(convert_dec_to_any_base_rec(number, base) == \"1001\")\n",
        "  print(\"테스트 통과!\")\n",
        "\n",
        "if __name__ == \"__main__\":\n",
        "  test_convert_dec_to_any_base_rec()"
      ],
      "execution_count": 5,
      "outputs": [
        {
          "output_type": "stream",
          "text": [
            "테스트 통과!\n"
          ],
          "name": "stdout"
        }
      ]
    },
    {
      "cell_type": "code",
      "metadata": {
        "colab": {
          "base_uri": "https://localhost:8080/"
        },
        "id": "1DPbxahNffla",
        "outputId": "c5100400-13de-44e8-8b01-5456248173fb"
      },
      "source": [
        "# 1.7.3 최대공약수\n",
        "\n",
        "def finding_gcd(a, b):\n",
        "  while(b != 0):\n",
        "    result = b\n",
        "    a, b = b, a % b\n",
        "  return result\n",
        "\n",
        "def test_finding_gcd():\n",
        "  number1 = 21\n",
        "  number2 = 12\n",
        "  assert(finding_gcd(number1, number2) == 3)\n",
        "  print(\"테스트 통과!\")\n",
        "\n",
        "if __name__ == \"__main__\":\n",
        "  test_finding_gcd()"
      ],
      "execution_count": 6,
      "outputs": [
        {
          "output_type": "stream",
          "text": [
            "테스트 통과!\n"
          ],
          "name": "stdout"
        }
      ]
    },
    {
      "cell_type": "code",
      "metadata": {
        "colab": {
          "base_uri": "https://localhost:8080/"
        },
        "id": "tnPz6CQ5plt3",
        "outputId": "72450023-a387-4e67-c7ee-ec8214fd16ca"
      },
      "source": [
        "import random\n",
        "\n",
        "def testing_random():\n",
        "  # random 모듈 테스트\n",
        "  values = [1, 2, 3, 4]\n",
        "  print(random.choice(values))\n",
        "  print(random.choice(values))\n",
        "  print(random.choice(values))\n",
        "  print(random.sample(values, 2))\n",
        "  print(random.sample(values, 3))\n",
        "\n",
        "  # values 리스트를 섞는다.\n",
        "  random.shuffle(values)\n",
        "  print(values)\n",
        "\n",
        "  # 0~10의 임의의 정수를 생성한다.\n",
        "  print(random.randint(0, 10))\n",
        "  print(random.randint(0, 10))\n",
        "\n",
        "if __name__ == \"__main__\":\n",
        "  testing_random()\n",
        "  "
      ],
      "execution_count": 7,
      "outputs": [
        {
          "output_type": "stream",
          "text": [
            "1\n",
            "1\n",
            "4\n",
            "[2, 3]\n",
            "[3, 1, 4]\n",
            "[4, 3, 2, 1]\n",
            "6\n",
            "6\n"
          ],
          "name": "stdout"
        }
      ]
    },
    {
      "cell_type": "code",
      "metadata": {
        "colab": {
          "base_uri": "https://localhost:8080/"
        },
        "id": "uW6H-6ncqdkq",
        "outputId": "3ad06900-dac1-4720-c2eb-01eb3ddb44cf"
      },
      "source": [
        "# 1.7.4 피보나치 수열\n",
        "import math\n",
        "\n",
        "def find_fibonacci_seq_iter(n):\n",
        "  if n < 2: return n\n",
        "  a, b = 0, 1\n",
        "  for i in range(n):\n",
        "    a, b = b, a + b\n",
        "  return a\n",
        "\n",
        "def find_fibonacci_seq_rec(n):\n",
        "  if n < 2: return n\n",
        "  return find_fibonacci_seq_rec(n-1) + find_fibonacci_seq_rec(n-2)\n",
        "\n",
        "def find_fibonacci_seq_form(n):\n",
        "  sq5 = math.sqrt(5)\n",
        "  phi = (1 + sq5) / 2\n",
        "  return int(math.floor(phi ** n / sq5))\n",
        "\n",
        "def test_find_fib():\n",
        "  n = 10\n",
        "  assert(find_fibonacci_seq_rec(n) == 55)\n",
        "  assert(find_fibonacci_seq_iter(n) == 55)\n",
        "  assert(find_fibonacci_seq_form(n) == 55)\n",
        "  print(\"테스트 통과!\")\n",
        "\n",
        "if __name__ == \"__main__\":\n",
        "  test_find_fib()"
      ],
      "execution_count": 8,
      "outputs": [
        {
          "output_type": "stream",
          "text": [
            "테스트 통과!\n"
          ],
          "name": "stdout"
        }
      ]
    },
    {
      "cell_type": "code",
      "metadata": {
        "colab": {
          "base_uri": "https://localhost:8080/"
        },
        "id": "349BdM80s1ll",
        "outputId": "51c7bb6f-4c98-4589-8d97-dfae07f1a17d"
      },
      "source": [
        "def fib_generator():\n",
        "  a, b = 0, 1\n",
        "  while True:\n",
        "    yield b       # b가 소진될때까지\n",
        "    a, b = b, a+b\n",
        "\n",
        "if __name__ == \"__main__\":\n",
        "  fg = fib_generator()\n",
        "  for _ in range(10):\n",
        "    print(next(fg), end=\" \") \n"
      ],
      "execution_count": 9,
      "outputs": [
        {
          "output_type": "stream",
          "text": [
            "1 1 2 3 5 8 13 21 34 55 "
          ],
          "name": "stdout"
        }
      ]
    },
    {
      "cell_type": "code",
      "metadata": {
        "colab": {
          "base_uri": "https://localhost:8080/"
        },
        "id": "81-ILuyKvWDZ",
        "outputId": "22c29811-df57-42bd-92f9-13621c1adda6"
      },
      "source": [
        "# 1.7.5 소수\n",
        "import math\n",
        "import random\n",
        "\n",
        "def finding_prime(number):\n",
        "  num = abs(number)\n",
        "  if num < 4: return True\n",
        "  for x in range(2, num):\n",
        "    if num % x == 0:\n",
        "      return False\n",
        "  return True\n",
        "\n",
        "def finding_prime_sqrt(number):\n",
        "  num = abs(number)\n",
        "  if num < 4: return True\n",
        "  for x in range(2, int(math.sqrt(num)) + 1):\n",
        "    if number % x == 0:\n",
        "      return False\n",
        "    return True\n",
        "\n",
        "def finding_prime_fermat(number):\n",
        "  if number <= 102:\n",
        "    for a in range(2, number):\n",
        "      if pow(a, number - 1, number) != 1:\n",
        "        return False\n",
        "    return True\n",
        "  else:\n",
        "    for i in range(100):\n",
        "      a = random.randint(2, number - 1)\n",
        "      if pow(a, number - 1, number) != 1:\n",
        "        return False\n",
        "    return True\n",
        "\n",
        "def test_finding_prime():\n",
        "  number1 = 17\n",
        "  number2 = 20\n",
        "  assert(finding_prime(number1) is True)\n",
        "  assert(finding_prime(number2) is False)\n",
        "  assert(finding_prime_sqrt(number1) is True)\n",
        "  assert(finding_prime_sqrt(number2) is False)\n",
        "  assert(finding_prime_fermat(number1) is True)\n",
        "  assert(finding_prime_fermat(number2) is False)\n",
        "  print(\"테스트 통과!\")\n",
        "\n",
        "if __name__ == \"__main__\":\n",
        "  test_finding_prime()"
      ],
      "execution_count": 12,
      "outputs": [
        {
          "output_type": "stream",
          "text": [
            "테스트 통과!\n"
          ],
          "name": "stdout"
        }
      ]
    },
    {
      "cell_type": "code",
      "metadata": {
        "colab": {
          "base_uri": "https://localhost:8080/",
          "height": 232
        },
        "id": "GON9ECDo4pJ-",
        "outputId": "33afea64-f8fa-411c-9320-a47aab2e7ccf"
      },
      "source": [
        "import math\n",
        "import random\n",
        "import sys\n",
        "\n",
        "def finding_prime_sqrt(number):\n",
        "  num = abs(number)\n",
        "  if num < 4: return True\n",
        "  for x in range(2, int(math.sqrt(num)) + 1):\n",
        "    if number % x == 0:\n",
        "      return False\n",
        "\n",
        "\n",
        "    return True\n",
        "\n",
        "def generate_prime(number=3):\n",
        "  while 1:\n",
        "    p = random.randint(pow(2, number-2), pow(2, number-1)-1)\n",
        "    p = 2 * p + 1\n",
        "    if finding_prime_sqrt(p):\n",
        "      return p\n",
        "\n",
        "if __name__ == \"__main__\":\n",
        "  if len(sys.argv) < 2:\n",
        "    print(\"Usage: generate_prime.py number\")\n",
        "    sys.exit()\n",
        "  else:\n",
        "    number = int(sys.argv[1])                ### 오류 무엇?\n",
        "    print(generate_prime(number))"
      ],
      "execution_count": 20,
      "outputs": [
        {
          "output_type": "error",
          "ename": "ValueError",
          "evalue": "ignored",
          "traceback": [
            "\u001b[0;31m---------------------------------------------------------------------------\u001b[0m",
            "\u001b[0;31mValueError\u001b[0m                                Traceback (most recent call last)",
            "\u001b[0;32m<ipython-input-20-40879c5f4b32>\u001b[0m in \u001b[0;36m<module>\u001b[0;34m()\u001b[0m\n\u001b[1;32m     25\u001b[0m     \u001b[0msys\u001b[0m\u001b[0;34m.\u001b[0m\u001b[0mexit\u001b[0m\u001b[0;34m(\u001b[0m\u001b[0;34m)\u001b[0m\u001b[0;34m\u001b[0m\u001b[0;34m\u001b[0m\u001b[0m\n\u001b[1;32m     26\u001b[0m   \u001b[0;32melse\u001b[0m\u001b[0;34m:\u001b[0m\u001b[0;34m\u001b[0m\u001b[0;34m\u001b[0m\u001b[0m\n\u001b[0;32m---> 27\u001b[0;31m     \u001b[0mnumber\u001b[0m \u001b[0;34m=\u001b[0m \u001b[0mint\u001b[0m\u001b[0;34m(\u001b[0m\u001b[0msys\u001b[0m\u001b[0;34m.\u001b[0m\u001b[0margv\u001b[0m\u001b[0;34m[\u001b[0m\u001b[0;36m1\u001b[0m\u001b[0;34m]\u001b[0m\u001b[0;34m)\u001b[0m                \u001b[0;31m### 오류 무엇?\u001b[0m\u001b[0;34m\u001b[0m\u001b[0;34m\u001b[0m\u001b[0m\n\u001b[0m\u001b[1;32m     28\u001b[0m     \u001b[0mprint\u001b[0m\u001b[0;34m(\u001b[0m\u001b[0mgenerate_prime\u001b[0m\u001b[0;34m(\u001b[0m\u001b[0mnumber\u001b[0m\u001b[0;34m)\u001b[0m\u001b[0;34m)\u001b[0m\u001b[0;34m\u001b[0m\u001b[0;34m\u001b[0m\u001b[0m\n",
            "\u001b[0;31mValueError\u001b[0m: invalid literal for int() with base 10: '-f'"
          ]
        }
      ]
    },
    {
      "cell_type": "code",
      "metadata": {
        "colab": {
          "base_uri": "https://localhost:8080/"
        },
        "id": "eWxaLm7-_Qg0",
        "outputId": "9d3d4a3e-072c-4a0b-b29a-2b017a2c1eda"
      },
      "source": [
        "import numpy as np\n",
        "\n",
        "x = np.array( ((11,12,13), (21,22,23), (31,32,33)) )\n",
        "x.ndim"
      ],
      "execution_count": 25,
      "outputs": [
        {
          "output_type": "execute_result",
          "data": {
            "text/plain": [
              "2"
            ]
          },
          "metadata": {
            "tags": []
          },
          "execution_count": 25
        }
      ]
    },
    {
      "cell_type": "code",
      "metadata": {
        "colab": {
          "base_uri": "https://localhost:8080/"
        },
        "id": "e0hc2qnuAzPK",
        "outputId": "15fce636-bc07-4840-8b16-cd6d6661eafa"
      },
      "source": [
        "import numpy as np\n",
        "\n",
        "def testing_numpy():\n",
        "  # test many features of numpy\n",
        "  ax = np.array([1,2,3])\n",
        "  ay = np.array([3,4,5])\n",
        "  print(ax)\n",
        "  print(ax*2)\n",
        "  print(ax+10)\n",
        "  print(np.sqrt(ax))\n",
        "  print(np.cos(ax))\n",
        "  print(ax-ay)\n",
        "  print(np.where(ax<2, ax, 10))   # np.where(조건,s1,s2)\n",
        "\n",
        "  m = np.matrix([ax, ay, ax])\n",
        "  print(m)\n",
        "  print(m.T)\n",
        "\n",
        "  grid1 = np.zeros(shape=(10,10), dtype=float)\n",
        "  grid2 = np.ones(shape=(10,10), dtype=float)\n",
        "  print(grid1)\n",
        "  print(grid2)\n",
        "  print(grid1[1]+10)\n",
        "  print(grid2[:,2]*2)\n",
        "\n",
        "if __name__ == \"__main__\":\n",
        "  testing_numpy()"
      ],
      "execution_count": 30,
      "outputs": [
        {
          "output_type": "stream",
          "text": [
            "[1 2 3]\n",
            "[2 4 6]\n",
            "[11 12 13]\n",
            "[1.         1.41421356 1.73205081]\n",
            "[ 0.54030231 -0.41614684 -0.9899925 ]\n",
            "[-2 -2 -2]\n",
            "[ 1 10 10]\n",
            "[[1 2 3]\n",
            " [3 4 5]\n",
            " [1 2 3]]\n",
            "[[1 3 1]\n",
            " [2 4 2]\n",
            " [3 5 3]]\n",
            "[[0. 0. 0. 0. 0. 0. 0. 0. 0. 0.]\n",
            " [0. 0. 0. 0. 0. 0. 0. 0. 0. 0.]\n",
            " [0. 0. 0. 0. 0. 0. 0. 0. 0. 0.]\n",
            " [0. 0. 0. 0. 0. 0. 0. 0. 0. 0.]\n",
            " [0. 0. 0. 0. 0. 0. 0. 0. 0. 0.]\n",
            " [0. 0. 0. 0. 0. 0. 0. 0. 0. 0.]\n",
            " [0. 0. 0. 0. 0. 0. 0. 0. 0. 0.]\n",
            " [0. 0. 0. 0. 0. 0. 0. 0. 0. 0.]\n",
            " [0. 0. 0. 0. 0. 0. 0. 0. 0. 0.]\n",
            " [0. 0. 0. 0. 0. 0. 0. 0. 0. 0.]]\n",
            "[[1. 1. 1. 1. 1. 1. 1. 1. 1. 1.]\n",
            " [1. 1. 1. 1. 1. 1. 1. 1. 1. 1.]\n",
            " [1. 1. 1. 1. 1. 1. 1. 1. 1. 1.]\n",
            " [1. 1. 1. 1. 1. 1. 1. 1. 1. 1.]\n",
            " [1. 1. 1. 1. 1. 1. 1. 1. 1. 1.]\n",
            " [1. 1. 1. 1. 1. 1. 1. 1. 1. 1.]\n",
            " [1. 1. 1. 1. 1. 1. 1. 1. 1. 1.]\n",
            " [1. 1. 1. 1. 1. 1. 1. 1. 1. 1.]\n",
            " [1. 1. 1. 1. 1. 1. 1. 1. 1. 1.]\n",
            " [1. 1. 1. 1. 1. 1. 1. 1. 1. 1.]]\n",
            "[10. 10. 10. 10. 10. 10. 10. 10. 10. 10.]\n",
            "[2. 2. 2. 2. 2. 2. 2. 2. 2. 2.]\n"
          ],
          "name": "stdout"
        }
      ]
    },
    {
      "cell_type": "code",
      "metadata": {
        "colab": {
          "base_uri": "https://localhost:8080/"
        },
        "id": "05RQPr5oCsQq",
        "outputId": "5bb55129-8228-44be-d116-38de5e1ca11e"
      },
      "source": [
        "import numpy as np      # <- 그냥 numpy로 했을때랑 시간차이가 있나?\n",
        "import time             # 그럼 np로 쓰는게 비효율적?\n",
        "\n",
        "def trad_version():\n",
        "  t1 = time.time()      # 시간 얼마나 먹나 볼라고\n",
        "  X = range(10000000)\n",
        "  Y = range(10000000)\n",
        "  Z = []\n",
        "  for i in range(len(X)):\n",
        "    Z.append(X[i] + Y[i])\n",
        "  return time.time() - t1\n",
        "\n",
        "def numpy_version():\n",
        "  t1 = time.time()\n",
        "  X = np.arange(10000000)\n",
        "  Y = np.arange(10000000)\n",
        "  Z = X + Y\n",
        "  return time.time() - t1\n",
        "\n",
        "if __name__ == \"__main__\":\n",
        "  print(trad_version())\n",
        "  print(numpy_version())"
      ],
      "execution_count": 37,
      "outputs": [
        {
          "output_type": "stream",
          "text": [
            "3.2462592124938965\n",
            "0.048856258392333984\n"
          ],
          "name": "stdout"
        }
      ]
    }
  ]
}
