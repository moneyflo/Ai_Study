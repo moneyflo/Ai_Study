{
  "nbformat": 4,
  "nbformat_minor": 0,
  "metadata": {
    "colab": {
      "name": "chap4.ipynb",
      "provenance": []
    },
    "kernelspec": {
      "name": "python3",
      "display_name": "Python 3"
    },
    "language_info": {
      "name": "python"
    }
  },
  "cells": [
    {
      "cell_type": "markdown",
      "metadata": {
        "id": "0Bb-hITVZgfc"
      },
      "source": [
        "# 4.1 module\n",
        "\n",
        "모듈은 def를 통해 정의.\n",
        "반환값 x 함수는 procedure\n"
      ]
    },
    {
      "cell_type": "markdown",
      "metadata": {
        "id": "oMNNzrfscCGZ"
      },
      "source": [
        "\n"
      ]
    },
    {
      "cell_type": "code",
      "metadata": {
        "colab": {
          "base_uri": "https://localhost:8080/"
        },
        "id": "swVHGbGOZWTu",
        "outputId": "1ab973ae-7e78-4543-dc62-5adc3b4a84c2"
      },
      "source": [
        "#4.1.2\n",
        "# 모듈 생성시 가변 객체를 기본값으로 사용하면 안됨\n",
        "\n",
        "def append(number, number_list=[]):\n",
        "    number_list.append(number)\n",
        "    return number_list\n",
        "\n",
        "append(5)\n",
        "append(7)\n",
        "append(2)"
      ],
      "execution_count": null,
      "outputs": [
        {
          "output_type": "execute_result",
          "data": {
            "text/plain": [
              "[5, 7, 2]"
            ]
          },
          "metadata": {
            "tags": []
          },
          "execution_count": 5
        }
      ]
    },
    {
      "cell_type": "code",
      "metadata": {
        "colab": {
          "base_uri": "https://localhost:8080/"
        },
        "id": "FnOAEsbHc9Ho",
        "outputId": "21c7dbe3-3200-4c57-98c4-7474346954de"
      },
      "source": [
        "# 좋은 예\n",
        "def append(number, number_list=None):\n",
        "    if number_list is None:\n",
        "        number_list = []\n",
        "    number_list.append(number)\n",
        "    return number_list\n",
        "\n",
        "append(5)\n",
        "append(7)\n",
        "append(2)"
      ],
      "execution_count": null,
      "outputs": [
        {
          "output_type": "execute_result",
          "data": {
            "text/plain": [
              "[2]"
            ]
          },
          "metadata": {
            "tags": []
          },
          "execution_count": 8
        }
      ]
    },
    {
      "cell_type": "code",
      "metadata": {
        "colab": {
          "base_uri": "https://localhost:8080/"
        },
        "id": "SFTQop9Zp3yf",
        "outputId": "323abfa5-567d-40ed-e86b-6e2de3739aec"
      },
      "source": [
        "hello = \"hello\"\n",
        "\n",
        "def world():\n",
        "    return \"world\"\n",
        "\n",
        "if __name__ == \"__main__\":\n",
        "    print(\"{0} 직접 실행됨\".format(__name__))\n",
        "else:\n",
        "    print(\"{0} 임포트됨\".format(__name__))"
      ],
      "execution_count": null,
      "outputs": [
        {
          "output_type": "stream",
          "text": [
            "__main__ 직접 실행됨\n"
          ],
          "name": "stdout"
        }
      ]
    },
    {
      "cell_type": "code",
      "metadata": {
        "id": "TyivSQXPkbo_"
      },
      "source": [
        "## import hello"
      ],
      "execution_count": null,
      "outputs": []
    },
    {
      "cell_type": "code",
      "metadata": {
        "id": "U-dhan97cv80"
      },
      "source": [
        "import sys\n",
        "sys.path\n",
        "sys.path.append('/users/naseo')"
      ],
      "execution_count": null,
      "outputs": []
    },
    {
      "cell_type": "code",
      "metadata": {
        "colab": {
          "base_uri": "https://localhost:8080/"
        },
        "id": "q1Ik20U5k-64",
        "outputId": "67fbb90e-66fa-4b23-e313-0813af178357"
      },
      "source": [
        "import sys\n",
        "\n",
        "def main():\n",
        "    for arg in sys.argv[1:]:\n",
        "        print(arg)\n",
        "\n",
        "if __name__ == \"__main__\":\n",
        "    main()"
      ],
      "execution_count": null,
      "outputs": [
        {
          "output_type": "stream",
          "text": [
            "-f\n",
            "/root/.local/share/jupyter/runtime/kernel-889a11a6-efd0-4ed1-bbb6-7cc7f193501d.json\n"
          ],
          "name": "stdout"
        }
      ]
    },
    {
      "cell_type": "code",
      "metadata": {
        "colab": {
          "base_uri": "https://localhost:8080/"
        },
        "id": "wxNFI01klPON",
        "outputId": "f62a4792-1790-4c4e-c46e-b582ddd11a03"
      },
      "source": [
        "import sys\n",
        "dir(sys)"
      ],
      "execution_count": null,
      "outputs": [
        {
          "output_type": "execute_result",
          "data": {
            "text/plain": [
              "['__breakpointhook__',\n",
              " '__displayhook__',\n",
              " '__doc__',\n",
              " '__excepthook__',\n",
              " '__interactivehook__',\n",
              " '__loader__',\n",
              " '__name__',\n",
              " '__package__',\n",
              " '__spec__',\n",
              " '__stderr__',\n",
              " '__stdin__',\n",
              " '__stdout__',\n",
              " '_clear_type_cache',\n",
              " '_current_frames',\n",
              " '_debugmallocstats',\n",
              " '_framework',\n",
              " '_getframe',\n",
              " '_git',\n",
              " '_home',\n",
              " '_xoptions',\n",
              " 'abiflags',\n",
              " 'api_version',\n",
              " 'argv',\n",
              " 'base_exec_prefix',\n",
              " 'base_prefix',\n",
              " 'breakpointhook',\n",
              " 'builtin_module_names',\n",
              " 'byteorder',\n",
              " 'call_tracing',\n",
              " 'callstats',\n",
              " 'copyright',\n",
              " 'displayhook',\n",
              " 'dont_write_bytecode',\n",
              " 'exc_info',\n",
              " 'excepthook',\n",
              " 'exec_prefix',\n",
              " 'executable',\n",
              " 'exit',\n",
              " 'flags',\n",
              " 'float_info',\n",
              " 'float_repr_style',\n",
              " 'get_asyncgen_hooks',\n",
              " 'get_coroutine_origin_tracking_depth',\n",
              " 'get_coroutine_wrapper',\n",
              " 'getallocatedblocks',\n",
              " 'getcheckinterval',\n",
              " 'getdefaultencoding',\n",
              " 'getdlopenflags',\n",
              " 'getfilesystemencodeerrors',\n",
              " 'getfilesystemencoding',\n",
              " 'getprofile',\n",
              " 'getrecursionlimit',\n",
              " 'getrefcount',\n",
              " 'getsizeof',\n",
              " 'getswitchinterval',\n",
              " 'gettrace',\n",
              " 'hash_info',\n",
              " 'hexversion',\n",
              " 'implementation',\n",
              " 'int_info',\n",
              " 'intern',\n",
              " 'is_finalizing',\n",
              " 'last_traceback',\n",
              " 'last_type',\n",
              " 'last_value',\n",
              " 'maxsize',\n",
              " 'maxunicode',\n",
              " 'meta_path',\n",
              " 'modules',\n",
              " 'path',\n",
              " 'path_hooks',\n",
              " 'path_importer_cache',\n",
              " 'platform',\n",
              " 'prefix',\n",
              " 'ps1',\n",
              " 'ps2',\n",
              " 'ps3',\n",
              " 'set_asyncgen_hooks',\n",
              " 'set_coroutine_origin_tracking_depth',\n",
              " 'set_coroutine_wrapper',\n",
              " 'setcheckinterval',\n",
              " 'setdlopenflags',\n",
              " 'setprofile',\n",
              " 'setrecursionlimit',\n",
              " 'setswitchinterval',\n",
              " 'settrace',\n",
              " 'stderr',\n",
              " 'stdin',\n",
              " 'stdout',\n",
              " 'thread_info',\n",
              " 'version',\n",
              " 'version_info',\n",
              " 'warnoptions']"
            ]
          },
          "metadata": {
            "tags": []
          },
          "execution_count": 12
        }
      ]
    },
    {
      "cell_type": "code",
      "metadata": {
        "colab": {
          "base_uri": "https://localhost:8080/"
        },
        "id": "_ZmU7ZKClc4f",
        "outputId": "cd03cbff-42db-45a6-f9f9-51a6ebbe68b3"
      },
      "source": [
        "x = int(input(\"숫자를 입력하세요: \"))\n",
        "if x < 0:\n",
        "    x = 0\n",
        "    print(\"음수를 입력하여 x를 0으로 변경했습니다.\")\n",
        "elif x == 0:\n",
        "    print(\"0이 입력되었습니다.\")\n",
        "elif x == 1:\n",
        "    print(\"1이 입력되었습니다.\")\n",
        "else:\n",
        "    print(\"2 이상의 숫자가 입력되었습니다.\")"
      ],
      "execution_count": null,
      "outputs": [
        {
          "output_type": "stream",
          "text": [
            "숫자를 입력하세요: -1\n",
            "음수를 입력하여 x를 0으로 변경했습니다.\n"
          ],
          "name": "stdout"
        }
      ]
    },
    {
      "cell_type": "code",
      "metadata": {
        "colab": {
          "base_uri": "https://localhost:8080/"
        },
        "id": "2GJJWzgWmCW4",
        "outputId": "b50f0a8a-0154-4d15-fe96-d200323228ae"
      },
      "source": [
        "names = [\"버피\", \"윌로\", \"존슨\", \"제임스\", \"미키\"]\n",
        "\n",
        "for name in names:\n",
        "    print(name)"
      ],
      "execution_count": null,
      "outputs": [
        {
          "output_type": "stream",
          "text": [
            "버피\n",
            "윌로\n",
            "존슨\n",
            "제임스\n",
            "미키\n"
          ],
          "name": "stdout"
        }
      ]
    },
    {
      "cell_type": "code",
      "metadata": {
        "colab": {
          "base_uri": "https://localhost:8080/",
          "height": 36
        },
        "id": "aUM4O0u1mME9",
        "outputId": "7d0f8deb-ae83-487b-d20f-1aaadd57e0f6"
      },
      "source": [
        "string1, string2, string3 = '', '괴물', '외계인'\n",
        "non_null = string1 or string2 or string3\n",
        "non_null"
      ],
      "execution_count": null,
      "outputs": [
        {
          "output_type": "execute_result",
          "data": {
            "application/vnd.google.colaboratory.intrinsic+json": {
              "type": "string"
            },
            "text/plain": [
              "'괴물'"
            ]
          },
          "metadata": {
            "tags": []
          },
          "execution_count": 18
        }
      ]
    },
    {
      "cell_type": "markdown",
      "metadata": {
        "id": "orFaqW66o2kU"
      },
      "source": [
        "4.2.3 True and False"
      ]
    },
    {
      "cell_type": "code",
      "metadata": {
        "id": "AFrFdunWm7CZ"
      },
      "source": [
        "# 좋은 예\n",
        "\n",
        "if not users:\n",
        "    print(\"사용자가 없습니다.\")\n",
        "\n",
        "if foo == 0:\n",
        "    handle_zero()\n",
        "\n",
        "if i % 10 == 0:\n",
        "    handle_multiple_of_ten()"
      ],
      "execution_count": null,
      "outputs": []
    },
    {
      "cell_type": "code",
      "metadata": {
        "colab": {
          "base_uri": "https://localhost:8080/",
          "height": 251
        },
        "id": "367dS8pQo9tr",
        "outputId": "abc86c95-f3e8-48f2-a4de-810970315ec0"
      },
      "source": [
        "# 나쁜 예\n",
        "\n",
        "if len(users) == 0:\n",
        "    print(\"사용자가 없습니다.\")\n",
        "\n",
        "if foo is not None and not foo:\n",
        "    handle_zero()\n",
        "\n",
        "if not i % 10:\n",
        "    handle_multiple_of_ten()"
      ],
      "execution_count": null,
      "outputs": [
        {
          "output_type": "error",
          "ename": "NameError",
          "evalue": "ignored",
          "traceback": [
            "\u001b[0;31m---------------------------------------------------------------------------\u001b[0m",
            "\u001b[0;31mNameError\u001b[0m                                 Traceback (most recent call last)",
            "\u001b[0;32m<ipython-input-19-921294e9b902>\u001b[0m in \u001b[0;36m<module>\u001b[0;34m()\u001b[0m\n\u001b[1;32m      1\u001b[0m \u001b[0;31m# 나쁜 예\u001b[0m\u001b[0;34m\u001b[0m\u001b[0;34m\u001b[0m\u001b[0;34m\u001b[0m\u001b[0m\n\u001b[1;32m      2\u001b[0m \u001b[0;34m\u001b[0m\u001b[0m\n\u001b[0;32m----> 3\u001b[0;31m \u001b[0;32mif\u001b[0m \u001b[0mlen\u001b[0m\u001b[0;34m(\u001b[0m\u001b[0musers\u001b[0m\u001b[0;34m)\u001b[0m \u001b[0;34m==\u001b[0m \u001b[0;36m0\u001b[0m\u001b[0;34m:\u001b[0m\u001b[0;34m\u001b[0m\u001b[0;34m\u001b[0m\u001b[0m\n\u001b[0m\u001b[1;32m      4\u001b[0m     \u001b[0mprint\u001b[0m\u001b[0;34m(\u001b[0m\u001b[0;34m\"사용자가 없습니다.\"\u001b[0m\u001b[0;34m)\u001b[0m\u001b[0;34m\u001b[0m\u001b[0;34m\u001b[0m\u001b[0m\n\u001b[1;32m      5\u001b[0m \u001b[0;34m\u001b[0m\u001b[0m\n",
            "\u001b[0;31mNameError\u001b[0m: name 'users' is not defined"
          ]
        }
      ]
    },
    {
      "cell_type": "markdown",
      "metadata": {
        "id": "j4smQg2T06zG"
      },
      "source": [
        "4.2.4 return 대 yield"
      ]
    },
    {
      "cell_type": "code",
      "metadata": {
        "id": "zwRbMIihpQYS",
        "colab": {
          "base_uri": "https://localhost:8080/",
          "height": 36
        },
        "outputId": "9e4f1dac-fff0-42cc-d14d-43ebee2853bf"
      },
      "source": [
        "a = [1, 2, 3]\n",
        "def f(a):\n",
        "    while a:\n",
        "        yield a.pop()"
      ],
      "execution_count": null,
      "outputs": [
        {
          "output_type": "execute_result",
          "data": {
            "application/vnd.google.colaboratory.intrinsic+json": {
              "type": "string"
            },
            "text/plain": [
              "'<generator object f at 0x7f4cc17e0d50>'"
            ]
          },
          "metadata": {
            "tags": []
          },
          "execution_count": 4
        }
      ]
    },
    {
      "cell_type": "code",
      "metadata": {
        "colab": {
          "base_uri": "https://localhost:8080/"
        },
        "id": "2R4DlW2W2QOJ",
        "outputId": "d4389d7a-4404-42ea-daec-5f5120b06211"
      },
      "source": [
        "def fib_generator():\n",
        "    a, b = 0, 1\n",
        "    while True:\n",
        "        yield b\n",
        "        a, b = b, a+b\n",
        "\n",
        "if __name__ == \"__main__\":\n",
        "    fib = fib_generator()\n",
        "    print(next(fib))\n",
        "    print(next(fib))\n",
        "    print(next(fib))\n",
        "    print(next(fib))\n"
      ],
      "execution_count": null,
      "outputs": [
        {
          "output_type": "stream",
          "text": [
            "1\n",
            "1\n",
            "2\n",
            "3\n"
          ],
          "name": "stdout"
        }
      ]
    },
    {
      "cell_type": "code",
      "metadata": {
        "colab": {
          "base_uri": "https://localhost:8080/"
        },
        "id": "Thvp0lgH3A3q",
        "outputId": "86d0d931-c1cb-4f89-f7d7-c03a7ad9aedb"
      },
      "source": [
        "for i in range(10):\n",
        "    if i == 4:\n",
        "        break\n",
        "    print(i)\n",
        "else:\n",
        "    print(\"for문 종료!\")\n"
      ],
      "execution_count": null,
      "outputs": [
        {
          "output_type": "stream",
          "text": [
            "0\n",
            "1\n",
            "2\n",
            "3\n",
            "4\n",
            "5\n",
            "6\n",
            "7\n",
            "8\n",
            "9\n",
            "for문 종료!\n"
          ],
          "name": "stdout"
        }
      ]
    },
    {
      "cell_type": "code",
      "metadata": {
        "colab": {
          "base_uri": "https://localhost:8080/"
        },
        "id": "Kv7Ceo3k3eq9",
        "outputId": "06179a3f-5ce3-4eab-a629-493d94958f45"
      },
      "source": [
        "for i in range(10):\n",
        "    if i % 2 == 0:\n",
        "        continue\n",
        "    print(i)\n",
        "else:\n",
        "    print(\"for문 종료!\")"
      ],
      "execution_count": null,
      "outputs": [
        {
          "output_type": "stream",
          "text": [
            "1\n",
            "3\n",
            "5\n",
            "7\n",
            "9\n",
            "for문 종료!\n"
          ],
          "name": "stdout"
        }
      ]
    },
    {
      "cell_type": "code",
      "metadata": {
        "colab": {
          "base_uri": "https://localhost:8080/"
        },
        "id": "mVp5bRde3sCV",
        "outputId": "41c57e44-6454-4ffa-d541-2b2ae13aa2b9"
      },
      "source": [
        "range(10)\n",
        "range(4, 10)\n",
        "range(0, 10, 3)"
      ],
      "execution_count": null,
      "outputs": [
        {
          "output_type": "stream",
          "text": [
            "range(0, 10)\n",
            "range(4, 10)\n",
            "range(0, 10, 3)\n"
          ],
          "name": "stdout"
        }
      ]
    },
    {
      "cell_type": "code",
      "metadata": {
        "id": "ruXcQ6Js32Ss"
      },
      "source": [
        "import sys\n",
        "\n",
        "def grep_word_from_files():\n",
        "    word = sys.argv[1]\n",
        "    for filename in sys.argv[2:]:\n",
        "        with open(filename) as file:\n",
        "            for lino, line in enumerate(file, start=1):\n",
        "                if word in line:\n",
        "                    print(\"{0}:{1}:{2:.40}\".format( filename, lino, line.rstrip()))\n",
        "\n",
        "if __name__ == \"__main__\":\n",
        "    if len(sys.argv) < 2:\n",
        "        print(\"Usage: python {0} [word] [file ...]\".format(sys.argv[0]))\n",
        "        sys.exit()\n",
        "    else:\n",
        "        grep_word_from_files()"
      ],
      "execution_count": null,
      "outputs": []
    },
    {
      "cell_type": "code",
      "metadata": {
        "colab": {
          "base_uri": "https://localhost:8080/"
        },
        "id": "bcj6NbXx6zR_",
        "outputId": "271f868f-914c-4b78-934a-f247bcc04eac"
      },
      "source": [
        "import sys\n",
        "print(sys.argv)"
      ],
      "execution_count": null,
      "outputs": [
        {
          "output_type": "stream",
          "text": [
            "['/usr/local/lib/python3.7/dist-packages/ipykernel_launcher.py', '-f', '/root/.local/share/jupyter/runtime/kernel-530c7b66-4147-4286-a810-e49a2f94619e.json']\n"
          ],
          "name": "stdout"
        }
      ]
    },
    {
      "cell_type": "code",
      "metadata": {
        "colab": {
          "base_uri": "https://localhost:8080/"
        },
        "id": "KOESnkG-68hQ",
        "outputId": "d2aa6c0f-f4ce-4fbe-df07-de472c48cfca"
      },
      "source": [
        "a = [1, 2, 3, 4, 5]\n",
        "b = ['a', 'b', 'c', 'd']\n",
        "zip(a,b)\n",
        "list(zip(a,b))"
      ],
      "execution_count": null,
      "outputs": [
        {
          "output_type": "execute_result",
          "data": {
            "text/plain": [
              "[(1, 'a'), (2, 'b'), (3, 'c'), (4, 'd')]"
            ]
          },
          "metadata": {
            "tags": []
          },
          "execution_count": 20
        }
      ]
    },
    {
      "cell_type": "code",
      "metadata": {
        "colab": {
          "base_uri": "https://localhost:8080/"
        },
        "id": "5-hN1vpO7t4n",
        "outputId": "90807c1a-28b6-41a7-bd5b-e56becd35db6"
      },
      "source": [
        "def f(x): return x % 2 !=0 and x % 3 != 0\n",
        "f(33)\n",
        "f(17)\n",
        "\n",
        "list(filter(f, range(2,25)))"
      ],
      "execution_count": null,
      "outputs": [
        {
          "output_type": "execute_result",
          "data": {
            "text/plain": [
              "[5, 7, 11, 13, 17, 19, 23]"
            ]
          },
          "metadata": {
            "tags": []
          },
          "execution_count": 23
        }
      ]
    },
    {
      "cell_type": "markdown",
      "metadata": {
        "id": "Cejs9OQV8d_0"
      },
      "source": [
        "**4.2.10 map()**\n",
        "map(function, list)\n"
      ]
    },
    {
      "cell_type": "code",
      "metadata": {
        "colab": {
          "base_uri": "https://localhost:8080/"
        },
        "id": "BJDvbkOE7_6S",
        "outputId": "c86852e6-f9bb-4b52-f4a4-f2a0c736c731"
      },
      "source": [
        "def cube(x): return x*x*x\n",
        "list(map(cube, range(1, 11)))\n",
        "\n",
        "seq = range(8)\n",
        "def square(x): return x*x\n",
        "list(zip(seq, map(square, seq)))"
      ],
      "execution_count": null,
      "outputs": [
        {
          "output_type": "execute_result",
          "data": {
            "text/plain": [
              "[(0, 0), (1, 1), (2, 4), (3, 9), (4, 16), (5, 25), (6, 36), (7, 49)]"
            ]
          },
          "metadata": {
            "tags": []
          },
          "execution_count": 27
        }
      ]
    },
    {
      "cell_type": "code",
      "metadata": {
        "colab": {
          "base_uri": "https://localhost:8080/"
        },
        "id": "Nr3g8A9_8JDO",
        "outputId": "05f52a39-f979-4d95-ff90-11e50a007f02"
      },
      "source": [
        "def area(b, h):\n",
        "    return 0.5 * b * h\n",
        "area(5, 4)"
      ],
      "execution_count": null,
      "outputs": [
        {
          "output_type": "execute_result",
          "data": {
            "text/plain": [
              "10.0"
            ]
          },
          "metadata": {
            "tags": []
          },
          "execution_count": 29
        }
      ]
    },
    {
      "cell_type": "code",
      "metadata": {
        "colab": {
          "base_uri": "https://localhost:8080/"
        },
        "id": "iZvK2s7U9K3I",
        "outputId": "d87ce0d1-f706-4fdc-839e-15c59fece468"
      },
      "source": [
        "area = lambda b, h: 0.5 * b * h\n",
        "area(5, 4)"
      ],
      "execution_count": null,
      "outputs": [
        {
          "output_type": "execute_result",
          "data": {
            "text/plain": [
              "10.0"
            ]
          },
          "metadata": {
            "tags": []
          },
          "execution_count": 30
        }
      ]
    },
    {
      "cell_type": "code",
      "metadata": {
        "colab": {
          "base_uri": "https://localhost:8080/"
        },
        "id": "VCpCqUCs9UvQ",
        "outputId": "9f04b01b-45e4-428d-997e-f49a565beb32"
      },
      "source": [
        "import collections\n",
        "minus_one_dict = collections.defaultdict(lambda: -1)\n",
        "point_zero_dict = collections.defaultdict(lambda: (0,0))\n",
        "message_dict = collections.defaultdict(lambda: \"No message\")"
      ],
      "execution_count": null,
      "outputs": [
        {
          "output_type": "stream",
          "text": [
            "defaultdict(<function <lambda> at 0x7f4cbd6b8ef0>, {})\n"
          ],
          "name": "stdout"
        }
      ]
    },
    {
      "cell_type": "markdown",
      "metadata": {
        "id": "WM4C-eZXFUlz"
      },
      "source": [
        "*4.3 파일 처리*"
      ]
    },
    {
      "cell_type": "code",
      "metadata": {
        "id": "ssK_2lsO9i2x",
        "colab": {
          "base_uri": "https://localhost:8080/",
          "height": 387
        },
        "outputId": "d931fc44-dbdd-428a-cf76-81c8b1bcdbc0"
      },
      "source": [
        "import sys\n",
        "\n",
        "def read_data(filename):\n",
        "    lines = []\n",
        "    fh = None\n",
        "    try:\n",
        "        fh = open(filename)\n",
        "        for line in fh:\n",
        "            if lines.strip():\n",
        "                lines.append(line)\n",
        "    except(IOError, OSError) as err:\n",
        "        print(err)\n",
        "    finally:\n",
        "        if fh is not None:\n",
        "            fh.close()\n",
        "    return lines\n",
        "\n",
        "def write_data(lines, filename):\n",
        "    fh = None\n",
        "    try:\n",
        "        fh = open(filename, \"w\")\n",
        "        for line in lines:\n",
        "            fh.write(line)\n",
        "    except (EnvironmentError) as err:\n",
        "        print(err)\n",
        "    finally:\n",
        "        if fh is not None:\n",
        "            fh.close()\n",
        "\n",
        "def remove_blank_lines():\n",
        "    if len(sys.argv) < 2:\n",
        "        print(\"Usage: python {0} [file ...]\".format(sys.argv[0]))\n",
        "\n",
        "    for filename in sys.argv[1:]:\n",
        "        lines = read_data(filename)\n",
        "        if lines:\n",
        "            write_data(lines, filename)\n",
        "\n",
        "if __name__ == \"__main__\":\n",
        "    remove_blank_lines()"
      ],
      "execution_count": null,
      "outputs": [
        {
          "output_type": "stream",
          "text": [
            "[Errno 2] No such file or directory: '-f'\n"
          ],
          "name": "stdout"
        },
        {
          "output_type": "error",
          "ename": "AttributeError",
          "evalue": "ignored",
          "traceback": [
            "\u001b[0;31m---------------------------------------------------------------------------\u001b[0m",
            "\u001b[0;31mAttributeError\u001b[0m                            Traceback (most recent call last)",
            "\u001b[0;32m<ipython-input-3-10495c532dce>\u001b[0m in \u001b[0;36m<module>\u001b[0;34m()\u001b[0m\n\u001b[1;32m     38\u001b[0m \u001b[0;34m\u001b[0m\u001b[0m\n\u001b[1;32m     39\u001b[0m \u001b[0;32mif\u001b[0m \u001b[0m__name__\u001b[0m \u001b[0;34m==\u001b[0m \u001b[0;34m\"__main__\"\u001b[0m\u001b[0;34m:\u001b[0m\u001b[0;34m\u001b[0m\u001b[0;34m\u001b[0m\u001b[0m\n\u001b[0;32m---> 40\u001b[0;31m     \u001b[0mremove_blank_lines\u001b[0m\u001b[0;34m(\u001b[0m\u001b[0;34m)\u001b[0m\u001b[0;34m\u001b[0m\u001b[0;34m\u001b[0m\u001b[0m\n\u001b[0m",
            "\u001b[0;32m<ipython-input-3-10495c532dce>\u001b[0m in \u001b[0;36mremove_blank_lines\u001b[0;34m()\u001b[0m\n\u001b[1;32m     33\u001b[0m \u001b[0;34m\u001b[0m\u001b[0m\n\u001b[1;32m     34\u001b[0m     \u001b[0;32mfor\u001b[0m \u001b[0mfilename\u001b[0m \u001b[0;32min\u001b[0m \u001b[0msys\u001b[0m\u001b[0;34m.\u001b[0m\u001b[0margv\u001b[0m\u001b[0;34m[\u001b[0m\u001b[0;36m1\u001b[0m\u001b[0;34m:\u001b[0m\u001b[0;34m]\u001b[0m\u001b[0;34m:\u001b[0m\u001b[0;34m\u001b[0m\u001b[0;34m\u001b[0m\u001b[0m\n\u001b[0;32m---> 35\u001b[0;31m         \u001b[0mlines\u001b[0m \u001b[0;34m=\u001b[0m \u001b[0mread_data\u001b[0m\u001b[0;34m(\u001b[0m\u001b[0mfilename\u001b[0m\u001b[0;34m)\u001b[0m\u001b[0;34m\u001b[0m\u001b[0;34m\u001b[0m\u001b[0m\n\u001b[0m\u001b[1;32m     36\u001b[0m         \u001b[0;32mif\u001b[0m \u001b[0mlines\u001b[0m\u001b[0;34m:\u001b[0m\u001b[0;34m\u001b[0m\u001b[0;34m\u001b[0m\u001b[0m\n\u001b[1;32m     37\u001b[0m             \u001b[0mwrite_data\u001b[0m\u001b[0;34m(\u001b[0m\u001b[0mlines\u001b[0m\u001b[0;34m,\u001b[0m \u001b[0mfilename\u001b[0m\u001b[0;34m)\u001b[0m\u001b[0;34m\u001b[0m\u001b[0;34m\u001b[0m\u001b[0m\n",
            "\u001b[0;32m<ipython-input-3-10495c532dce>\u001b[0m in \u001b[0;36mread_data\u001b[0;34m(filename)\u001b[0m\n\u001b[1;32m      7\u001b[0m         \u001b[0mfh\u001b[0m \u001b[0;34m=\u001b[0m \u001b[0mopen\u001b[0m\u001b[0;34m(\u001b[0m\u001b[0mfilename\u001b[0m\u001b[0;34m)\u001b[0m\u001b[0;34m\u001b[0m\u001b[0;34m\u001b[0m\u001b[0m\n\u001b[1;32m      8\u001b[0m         \u001b[0;32mfor\u001b[0m \u001b[0mline\u001b[0m \u001b[0;32min\u001b[0m \u001b[0mfh\u001b[0m\u001b[0;34m:\u001b[0m\u001b[0;34m\u001b[0m\u001b[0;34m\u001b[0m\u001b[0m\n\u001b[0;32m----> 9\u001b[0;31m             \u001b[0;32mif\u001b[0m \u001b[0mlines\u001b[0m\u001b[0;34m.\u001b[0m\u001b[0mstrip\u001b[0m\u001b[0;34m(\u001b[0m\u001b[0;34m)\u001b[0m\u001b[0;34m:\u001b[0m\u001b[0;34m\u001b[0m\u001b[0;34m\u001b[0m\u001b[0m\n\u001b[0m\u001b[1;32m     10\u001b[0m                 \u001b[0mlines\u001b[0m\u001b[0;34m.\u001b[0m\u001b[0mappend\u001b[0m\u001b[0;34m(\u001b[0m\u001b[0mline\u001b[0m\u001b[0;34m)\u001b[0m\u001b[0;34m\u001b[0m\u001b[0;34m\u001b[0m\u001b[0m\n\u001b[1;32m     11\u001b[0m     \u001b[0;32mexcept\u001b[0m\u001b[0;34m(\u001b[0m\u001b[0mIOError\u001b[0m\u001b[0;34m,\u001b[0m \u001b[0mOSError\u001b[0m\u001b[0;34m)\u001b[0m \u001b[0;32mas\u001b[0m \u001b[0merr\u001b[0m\u001b[0;34m:\u001b[0m\u001b[0;34m\u001b[0m\u001b[0;34m\u001b[0m\u001b[0m\n",
            "\u001b[0;31mAttributeError\u001b[0m: 'list' object has no attribute 'strip'"
          ]
        }
      ]
    },
    {
      "cell_type": "code",
      "metadata": {
        "colab": {
          "base_uri": "https://localhost:8080/"
        },
        "id": "HClyloKyvnSS",
        "outputId": "1f711a3e-faff-4be0-eb32-59d3572a5f4e"
      },
      "source": [
        "hello = \"hello\"\n",
        "\n",
        "def world():\n",
        "    return \"world\"\n",
        "\n",
        "if __name__ == \"main\":\n",
        "    print(\"{0} 직접 실행됨\".format(__name__))\n",
        "else:\n",
        "    print(\"{0} 임포트됨\".format(__name__))"
      ],
      "execution_count": null,
      "outputs": [
        {
          "output_type": "stream",
          "text": [
            "__main__ 임포트됨\n"
          ],
          "name": "stdout"
        }
      ]
    },
    {
      "cell_type": "markdown",
      "metadata": {
        "id": "Vcp2YAfnxwIW"
      },
      "source": [
        "# with문 사용\n",
        "close()로 연 파일을 닫지 않아되 되서 선호"
      ]
    },
    {
      "cell_type": "code",
      "metadata": {
        "colab": {
          "base_uri": "https://localhost:8080/",
          "height": 368
        },
        "id": "ZwdegliCv5iK",
        "outputId": "ba98ecd3-f5a8-4549-a3e7-ad7680704bd3"
      },
      "source": [
        "import sys\n",
        "\n",
        "def read_data(filename):\n",
        "    lines = []\n",
        "    with open(filename) as fh:\n",
        "        for line in fh:\n",
        "            if line.strip():\n",
        "                lines.append(line)\n",
        "    return lines\n",
        "\n",
        "def white_data(lines, filename):\n",
        "    fh = None\n",
        "    with open(filename, \"w\") as fh:\n",
        "        for line in lines:\n",
        "            fh.write(line)\n",
        "\n",
        "def remove_blank_lines():\n",
        "    if len(sys.argv) < 2:\n",
        "        print(\"Usage: python {0} [file ...]\".format(sys.argv[0]))\n",
        "\n",
        "    for filename in sys.argv[1:]:\n",
        "        lines = read_data(filename)\n",
        "        if lines:\n",
        "            write_data(lines, filename)\n",
        "\n",
        "if __name__ == \"__main__\":\n",
        "    remove_blank_lines()\n"
      ],
      "execution_count": null,
      "outputs": [
        {
          "output_type": "error",
          "ename": "FileNotFoundError",
          "evalue": "ignored",
          "traceback": [
            "\u001b[0;31m---------------------------------------------------------------------------\u001b[0m",
            "\u001b[0;31mFileNotFoundError\u001b[0m                         Traceback (most recent call last)",
            "\u001b[0;32m<ipython-input-5-2d9b13e4a1f2>\u001b[0m in \u001b[0;36m<module>\u001b[0;34m()\u001b[0m\n\u001b[1;32m     25\u001b[0m \u001b[0;34m\u001b[0m\u001b[0m\n\u001b[1;32m     26\u001b[0m \u001b[0;32mif\u001b[0m \u001b[0m__name__\u001b[0m \u001b[0;34m==\u001b[0m \u001b[0;34m\"__main__\"\u001b[0m\u001b[0;34m:\u001b[0m\u001b[0;34m\u001b[0m\u001b[0;34m\u001b[0m\u001b[0m\n\u001b[0;32m---> 27\u001b[0;31m     \u001b[0mremove_blank_lines\u001b[0m\u001b[0;34m(\u001b[0m\u001b[0;34m)\u001b[0m\u001b[0;34m\u001b[0m\u001b[0;34m\u001b[0m\u001b[0m\n\u001b[0m",
            "\u001b[0;32m<ipython-input-5-2d9b13e4a1f2>\u001b[0m in \u001b[0;36mremove_blank_lines\u001b[0;34m()\u001b[0m\n\u001b[1;32m     20\u001b[0m \u001b[0;34m\u001b[0m\u001b[0m\n\u001b[1;32m     21\u001b[0m     \u001b[0;32mfor\u001b[0m \u001b[0mfilename\u001b[0m \u001b[0;32min\u001b[0m \u001b[0msys\u001b[0m\u001b[0;34m.\u001b[0m\u001b[0margv\u001b[0m\u001b[0;34m[\u001b[0m\u001b[0;36m1\u001b[0m\u001b[0;34m:\u001b[0m\u001b[0;34m]\u001b[0m\u001b[0;34m:\u001b[0m\u001b[0;34m\u001b[0m\u001b[0;34m\u001b[0m\u001b[0m\n\u001b[0;32m---> 22\u001b[0;31m         \u001b[0mlines\u001b[0m \u001b[0;34m=\u001b[0m \u001b[0mread_data\u001b[0m\u001b[0;34m(\u001b[0m\u001b[0mfilename\u001b[0m\u001b[0;34m)\u001b[0m\u001b[0;34m\u001b[0m\u001b[0;34m\u001b[0m\u001b[0m\n\u001b[0m\u001b[1;32m     23\u001b[0m         \u001b[0;32mif\u001b[0m \u001b[0mlines\u001b[0m\u001b[0;34m:\u001b[0m\u001b[0;34m\u001b[0m\u001b[0;34m\u001b[0m\u001b[0m\n\u001b[1;32m     24\u001b[0m             \u001b[0mwrite_data\u001b[0m\u001b[0;34m(\u001b[0m\u001b[0mlines\u001b[0m\u001b[0;34m,\u001b[0m \u001b[0mfilename\u001b[0m\u001b[0;34m)\u001b[0m\u001b[0;34m\u001b[0m\u001b[0;34m\u001b[0m\u001b[0m\n",
            "\u001b[0;32m<ipython-input-5-2d9b13e4a1f2>\u001b[0m in \u001b[0;36mread_data\u001b[0;34m(filename)\u001b[0m\n\u001b[1;32m      3\u001b[0m \u001b[0;32mdef\u001b[0m \u001b[0mread_data\u001b[0m\u001b[0;34m(\u001b[0m\u001b[0mfilename\u001b[0m\u001b[0;34m)\u001b[0m\u001b[0;34m:\u001b[0m\u001b[0;34m\u001b[0m\u001b[0;34m\u001b[0m\u001b[0m\n\u001b[1;32m      4\u001b[0m     \u001b[0mlines\u001b[0m \u001b[0;34m=\u001b[0m \u001b[0;34m[\u001b[0m\u001b[0;34m]\u001b[0m\u001b[0;34m\u001b[0m\u001b[0;34m\u001b[0m\u001b[0m\n\u001b[0;32m----> 5\u001b[0;31m     \u001b[0;32mwith\u001b[0m \u001b[0mopen\u001b[0m\u001b[0;34m(\u001b[0m\u001b[0mfilename\u001b[0m\u001b[0;34m)\u001b[0m \u001b[0;32mas\u001b[0m \u001b[0mfh\u001b[0m\u001b[0;34m:\u001b[0m\u001b[0;34m\u001b[0m\u001b[0;34m\u001b[0m\u001b[0m\n\u001b[0m\u001b[1;32m      6\u001b[0m         \u001b[0;32mfor\u001b[0m \u001b[0mline\u001b[0m \u001b[0;32min\u001b[0m \u001b[0mfh\u001b[0m\u001b[0;34m:\u001b[0m\u001b[0;34m\u001b[0m\u001b[0;34m\u001b[0m\u001b[0m\n\u001b[1;32m      7\u001b[0m             \u001b[0;32mif\u001b[0m \u001b[0mline\u001b[0m\u001b[0;34m.\u001b[0m\u001b[0mstrip\u001b[0m\u001b[0;34m(\u001b[0m\u001b[0;34m)\u001b[0m\u001b[0;34m:\u001b[0m\u001b[0;34m\u001b[0m\u001b[0;34m\u001b[0m\u001b[0m\n",
            "\u001b[0;31mFileNotFoundError\u001b[0m: [Errno 2] No such file or directory: '-f'"
          ]
        }
      ]
    },
    {
      "cell_type": "markdown",
      "metadata": {
        "id": "v-ZWo2tUqTTs"
      },
      "source": [
        "#4.3.1 파일 처리 메서드"
      ]
    },
    {
      "cell_type": "markdown",
      "metadata": {
        "id": "V9Sdw5T0qV0e"
      },
      "source": [
        "open()"
      ]
    },
    {
      "cell_type": "code",
      "metadata": {
        "id": "9gtLZEjzy_AK",
        "colab": {
          "base_uri": "https://localhost:8080/",
          "height": 195
        },
        "outputId": "345af3c5-bc6c-44e5-afa9-bf6ae0aa2c8f"
      },
      "source": [
        "fin = open(filename, encoding=\"utf8\")\n",
        "fout = open(filename, \"w\", encoding=\"utf8\")"
      ],
      "execution_count": null,
      "outputs": [
        {
          "output_type": "error",
          "ename": "NameError",
          "evalue": "ignored",
          "traceback": [
            "\u001b[0;31m---------------------------------------------------------------------------\u001b[0m",
            "\u001b[0;31mNameError\u001b[0m                                 Traceback (most recent call last)",
            "\u001b[0;32m<ipython-input-2-9307172f93cc>\u001b[0m in \u001b[0;36m<module>\u001b[0;34m()\u001b[0m\n\u001b[0;32m----> 1\u001b[0;31m \u001b[0mfin\u001b[0m \u001b[0;34m=\u001b[0m \u001b[0mopen\u001b[0m\u001b[0;34m(\u001b[0m\u001b[0mfilename\u001b[0m\u001b[0;34m,\u001b[0m \u001b[0mencoding\u001b[0m\u001b[0;34m=\u001b[0m\u001b[0;34m\"utf8\"\u001b[0m\u001b[0;34m)\u001b[0m\u001b[0;34m\u001b[0m\u001b[0;34m\u001b[0m\u001b[0m\n\u001b[0m\u001b[1;32m      2\u001b[0m \u001b[0mfout\u001b[0m \u001b[0;34m=\u001b[0m \u001b[0mopen\u001b[0m\u001b[0;34m(\u001b[0m\u001b[0mfilename\u001b[0m\u001b[0;34m,\u001b[0m \u001b[0;34m\"w\"\u001b[0m\u001b[0;34m,\u001b[0m \u001b[0mencoding\u001b[0m\u001b[0;34m=\u001b[0m\u001b[0;34m\"utf8\"\u001b[0m\u001b[0;34m)\u001b[0m\u001b[0;34m\u001b[0m\u001b[0;34m\u001b[0m\u001b[0m\n",
            "\u001b[0;31mNameError\u001b[0m: name 'filename' is not defined"
          ]
        }
      ]
    },
    {
      "cell_type": "markdown",
      "metadata": {
        "id": "RfOfHa0Lu8pA"
      },
      "source": [
        "read()"
      ]
    },
    {
      "cell_type": "markdown",
      "metadata": {
        "id": "rG59UGi2cAdD"
      },
      "source": [
        "코랩에선 요런 코드 써줘야 안에 사진같은거 불러올수 있는듯\n",
        "더 알아봐야될거같음"
      ]
    },
    {
      "cell_type": "code",
      "metadata": {
        "colab": {
          "base_uri": "https://localhost:8080/"
        },
        "id": "V3wtfxw7sQnj",
        "outputId": "111e7dbe-1911-4afd-e78f-2bbf1831161f"
      },
      "source": [
        "from google.colab import drive\n",
        "drive.mount('/gdrive', force_remount=True)"
      ],
      "execution_count": null,
      "outputs": [
        {
          "output_type": "stream",
          "text": [
            "Mounted at /gdrive\n"
          ],
          "name": "stdout"
        }
      ]
    },
    {
      "cell_type": "code",
      "metadata": {
        "colab": {
          "base_uri": "https://localhost:8080/",
          "height": 35
        },
        "id": "07Kq9jK_vJ4j",
        "outputId": "17e152ba-b1f8-4c4a-cbdb-7320ff377440"
      },
      "source": [
        "from IPython.display import Image\n",
        "Image ('/gdrive/IMG_6682.jpg')"
      ],
      "execution_count": null,
      "outputs": [
        {
          "output_type": "execute_result",
          "data": {
            "image/png": "/gdrive/IMG_6682.jpg",
            "text/plain": [
              "<IPython.core.display.Image object>"
            ]
          },
          "metadata": {
            "tags": []
          },
          "execution_count": 14
        }
      ]
    },
    {
      "cell_type": "code",
      "metadata": {
        "colab": {
          "base_uri": "https://localhost:8080/"
        },
        "id": "ADkHZijJxrKX",
        "outputId": "3119d3dd-0d37-4903-c4b2-de8084067193"
      },
      "source": [
        "def get_int(msg):\n",
        "    while True:\n",
        "        try:\n",
        "            i = int(input(msg))\n",
        "            return i\n",
        "        except ValueError as err:\n",
        "            print(err)\n",
        "\n",
        "age = get_int(\"Enter your age: \")\n",
        "\n",
        "age"
      ],
      "execution_count": null,
      "outputs": [
        {
          "output_type": "stream",
          "text": [
            "Enter your age: 2\n"
          ],
          "name": "stdout"
        },
        {
          "output_type": "execute_result",
          "data": {
            "text/plain": [
              "2"
            ]
          },
          "metadata": {
            "tags": []
          },
          "execution_count": 4
        }
      ]
    },
    {
      "cell_type": "markdown",
      "metadata": {
        "id": "AX3EPXCjfWfn"
      },
      "source": [
        "#4.3.2 shutil 모듈"
      ]
    },
    {
      "cell_type": "markdown",
      "metadata": {
        "id": "N-4Ztp2ohFcP"
      },
      "source": [
        "cmd에서 실행"
      ]
    },
    {
      "cell_type": "code",
      "metadata": {
        "colab": {
          "base_uri": "https://localhost:8080/"
        },
        "id": "3e4OaFtTfSRE",
        "outputId": "0e1233f9-984c-4304-d26c-be2ca5da82cd"
      },
      "source": [
        "import os\n",
        "import sys\n",
        "import shutil\n",
        "\n",
        "def change_file_ext():\n",
        "    if len(sys.argv) < 2:\n",
        "        print(\"Usage: python {0} filename.old_ext 'new_ext'\".format(sys.argv[0]))\n",
        "        sys.exit()\n",
        "\n",
        "    name = os.path.splitext(sys.argv[1])[0] + \".\" + sys.argv[2]\n",
        "    print(name)\n",
        "    try:\n",
        "        shutil.copyfile(sys.argv[1], name)\n",
        "    except OSError as err:\n",
        "        print(err)\n",
        "\n",
        "if __name__ == \"__main__\":\n",
        "    change_file_ext()"
      ],
      "execution_count": null,
      "outputs": [
        {
          "output_type": "stream",
          "text": [
            "-f./root/.local/share/jupyter/runtime/kernel-a033ac53-1dc6-4090-976c-5e1bc43d2b0c.json\n",
            "[Errno 2] No such file or directory: '-f'\n"
          ],
          "name": "stdout"
        }
      ]
    },
    {
      "cell_type": "markdown",
      "metadata": {
        "id": "IyvW37gqhI-G"
      },
      "source": [
        "#4.3.3 pickle 모듈"
      ]
    },
    {
      "cell_type": "code",
      "metadata": {
        "colab": {
          "base_uri": "https://localhost:8080/"
        },
        "id": "s02sE2CJg7VD",
        "outputId": "c1c22870-20c9-4f32-d937-1afa0ac90cb0"
      },
      "source": [
        "import pickle\n",
        "x = {}\n",
        "x[\"name\"] = \"아스틴\"\n",
        "x[\"age\"] = 23\n",
        "with open(\"name.pkl\", \"wb\") as f: # 피클링\n",
        "    pickle.dump(x, f)\n",
        "\n",
        "with open(\"name.pkl\", \"rb\") as f: # 언피클링\n",
        "    name = pickle.load(f)\n",
        "\n",
        "name"
      ],
      "execution_count": null,
      "outputs": [
        {
          "output_type": "execute_result",
          "data": {
            "text/plain": [
              "{'age': 23, 'name': '아스틴'}"
            ]
          },
          "metadata": {
            "tags": []
          },
          "execution_count": 8
        }
      ]
    },
    {
      "cell_type": "code",
      "metadata": {
        "id": "9jn-k1C5hgD4"
      },
      "source": [
        ""
      ],
      "execution_count": null,
      "outputs": []
    }
  ]
}
