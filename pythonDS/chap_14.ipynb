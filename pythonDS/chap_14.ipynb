{
  "nbformat": 4,
  "nbformat_minor": 0,
  "metadata": {
    "colab": {
      "name": "chap_14.ipynb",
      "provenance": []
    },
    "kernelspec": {
      "name": "python3",
      "display_name": "Python 3"
    },
    "language_info": {
      "name": "python"
    }
  },
  "cells": [
    {
      "cell_type": "markdown",
      "metadata": {
        "id": "rpQrkh7XBPV-"
      },
      "source": [
        "# Chapter 14 트리 순회\n",
        "순회는 트리 또는 그래프 같은 연결된구조에서 객체(노드)를 방문하는 데 사용되는 알고리즘"
      ]
    },
    {
      "cell_type": "markdown",
      "metadata": {
        "id": "aqzidfoeBhga"
      },
      "source": [
        "## 14.1 깊이 우선 탐색\n",
        "깊이 우선 탐색(depth-first search, DFS)는 말 그대로 깊이를 우선하여 탐색하는 알고리즘. 후입선출 구조의 스택으로 구현"
      ]
    },
    {
      "cell_type": "markdown",
      "metadata": {
        "id": "WqOtPKz_B66s"
      },
      "source": [
        "### 14.1.1 전위 순회\n",
        "루트 노드 -> 왼쪽 노드 -> 오른쪽 노드 순으로 방문"
      ]
    },
    {
      "cell_type": "code",
      "metadata": {
        "id": "CPpmqyKzBKyX"
      },
      "source": [
        "def preorder(root):\n",
        "    if root != 0:\n",
        "        yield root.value\n",
        "        preorder(root.left)\n",
        "        preorder(root.right)"
      ],
      "execution_count": 1,
      "outputs": []
    },
    {
      "cell_type": "markdown",
      "metadata": {
        "id": "jqxHQSFTDMCy"
      },
      "source": [
        "### 14.1.2 후위 순회\n",
        "왼쪽 노드 -> 오른쪽 노드 -> 루트 노드"
      ]
    },
    {
      "cell_type": "code",
      "metadata": {
        "id": "UR4k38vDCWTJ"
      },
      "source": [
        "def postorder(root):\n",
        "    if root != 0:\n",
        "        postorder(root.left)\n",
        "        postorder(root.right)\n",
        "        yield root.value"
      ],
      "execution_count": null,
      "outputs": []
    },
    {
      "cell_type": "markdown",
      "metadata": {
        "id": "nL88c66hD3pB"
      },
      "source": [
        "### 14.1.3 중위 순회\n",
        "왼쪽 노드 -> 루트 노드 -> 오른쪽 노드"
      ]
    },
    {
      "cell_type": "code",
      "metadata": {
        "id": "Pxc7m5UDEBwk"
      },
      "source": [
        "def inorder(root):\n",
        "    if root != 0:\n",
        "        inorder(root.left)\n",
        "        yield root.value\n",
        "        inorder(root.right)"
      ],
      "execution_count": 2,
      "outputs": []
    },
    {
      "cell_type": "markdown",
      "metadata": {
        "id": "op0_fmHkEWOm"
      },
      "source": [
        "## 14.2 너비 우선 탐색\n",
        "너비 우선 탐색(breath-first search, BFS)은 트리 or 그래프에서 너비를 우선하여 탐색하는 알고리즘."
      ]
    },
    {
      "cell_type": "markdown",
      "metadata": {
        "id": "_WwC_x_JSDQN"
      },
      "source": [
        "## 14.3 트리 순회 구현하기\n",
        "이진트리 및 이진 탐색 트리 클래스 사용"
      ]
    },
    {
      "cell_type": "markdown",
      "metadata": {
        "id": "M584HC8aSvia"
      },
      "source": [
        "### 이진트리"
      ]
    },
    {
      "cell_type": "code",
      "metadata": {
        "id": "xpKFd2WJSn6J"
      },
      "source": [
        "# 이진 트리\n",
        "\n",
        "class Height(object):\n",
        "    def __init__(self):\n",
        "        self.height = 0\n",
        "\n",
        "class NodeBT(object):\n",
        "    def __init__(self, value=None, level=1):\n",
        "        self.value = value\n",
        "        self.level = level\n",
        "        self.left = None\n",
        "        self.right = None\n",
        "\n",
        "    def __repr__(self):\n",
        "        return f\"{self.value}\"\n",
        "\n",
        "    def _add_next_node(self, value, level_here=2):\n",
        "        new_node = NodeBT(value, level_here)\n",
        "        if not self.value:\n",
        "            self.value = new_node\n",
        "        elif not self.left:\n",
        "            self.left = new_node\n",
        "        elif not self.right:\n",
        "            self.right = new_node\n",
        "        else:\n",
        "            # 노드에 왼쪽 오른쪽 자식이 모두 있다면,\n",
        "            # 왼쪽 자식 노드에 새 노드를 추가한다.\n",
        "            # 그래서 예제의 트리가 왼쪽으로 치우쳐있다.\n",
        "            self.left = self.left._add_next_node(value, level_here+1)\n",
        "        return self\n",
        "\n",
        "    def _search_for_node(self, value):\n",
        "        # By the pre-order, take a value\n",
        "        if self.value == value:\n",
        "            return self\n",
        "        else:\n",
        "            found = None\n",
        "            if self.left:\n",
        "                found = self.left._search_for_node(value)\n",
        "            if self.right:\n",
        "                found = found or self.right._search_for_node(value)\n",
        "            return found\n",
        "\n",
        "    def _is_leaf(self):\n",
        "        # 왼쪽, 오른쪽 자식이 모두 없는 노드\n",
        "        return not self.right and not self.left\n",
        "\n",
        "    def _get_max_height(self):\n",
        "        # Take a maximum height - O(n)\n",
        "        heightr, heightl = 0, 0\n",
        "        if self.right:\n",
        "            heightr = self.right._get_max_height() + 1\n",
        "        if self.left:\n",
        "            heightl = self.left._get_max_height() + 1\n",
        "        return max(heightr,  heightl)\n",
        "\n",
        "    def _is_balanced(self, height=Height()):\n",
        "        # Is balanced tree? - O(n)\n",
        "        lh = Height()\n",
        "        rh = Height()\n",
        "\n",
        "        if self.value is None:\n",
        "            return True\n",
        "\n",
        "        l, r = True, True\n",
        "        if self.left:\n",
        "            l = self.left._is_balanced(lh)\n",
        "        if self.right:\n",
        "            r = self.right._is_balanced(rh)\n",
        "\n",
        "        height.height = max(lh.height, rh.height) + 1\n",
        "\n",
        "        if abs(lh.height - rh.height) <= 1:\n",
        "            return l and r\n",
        "\n",
        "        return False\n",
        "\n",
        "    def _is_bst(self, left=None, right=None):\n",
        "        # Is binary searched tree? - O(n)\n",
        "        if self.value:\n",
        "            if left and self.value < left:\n",
        "                return False\n",
        "            if right and self.value > right:\n",
        "                return False\n",
        "\n",
        "            l, r = True, True\n",
        "            if self.left:\n",
        "                l = self.left._is_bst(left, self.value)\n",
        "            if self.right:\n",
        "                r = self.right._is_bst(self.value, right)\n",
        "            return  l and r\n",
        "        else:\n",
        "            return True\n",
        "\n",
        "class BinaryTree(object):\n",
        "    def __init__(self):\n",
        "        self.root = None\n",
        "\n",
        "    def add_node(self, value):\n",
        "        if not self.root:\n",
        "            self.root = NodeBT(value)\n",
        "        else:\n",
        "            self.root._add_next_node(value)\n",
        "\n",
        "    def is_leaf(self, value):\n",
        "        node = self.root._search_for_node(value)\n",
        "        if node:\n",
        "            return node._is_leaf()\n",
        "        else:\n",
        "            return False\n",
        "\n",
        "    def get_node_level(self, value):\n",
        "        node = self.root._search_for_node(value)\n",
        "        if node:\n",
        "            return node.level\n",
        "        else:\n",
        "            False\n",
        "\n",
        "    def is_root(self, value):\n",
        "        return self.roo.value == value\n",
        "\n",
        "    def get_height(self):\n",
        "        return self.root._get_max_height()\n",
        "\n",
        "    def is_balanced(self):\n",
        "        return self.root._is_balanced()\n",
        "    \n",
        "    def is_bst(self):\n",
        "        return self.root._is_bst()"
      ],
      "execution_count": 5,
      "outputs": []
    },
    {
      "cell_type": "markdown",
      "metadata": {
        "id": "kYKVH3iAS3Sf"
      },
      "source": [
        "### 이진 탐색 트리"
      ]
    },
    {
      "cell_type": "code",
      "metadata": {
        "id": "omQmlnCES-la"
      },
      "source": [
        "# 이진 탐색 트리\n",
        "\n",
        "class NodeBST(NodeBT):\n",
        "\n",
        "    def __init__(self, value=None, level=1):\n",
        "        self.value = value\n",
        "        self.level = level\n",
        "        self.left = None\n",
        "        self.right = None\n",
        "\n",
        "    def _add_next_node(self, value, level_here=2):\n",
        "        new_node = NodeBST(value, level_here)\n",
        "        if value > self.value:\n",
        "            self.right = self.right and self.right._add_next_node(\n",
        "                value, level_here + 1) or new_node\n",
        "        elif value < self.value:\n",
        "            self.left = self.left and self.left._add_next_node(\n",
        "                value, level_here + 1) or new_node\n",
        "        else:\n",
        "            print(\"중복 노드를 허용하지 않습니다.\")\n",
        "        return self\n",
        "\n",
        "    def _search_for_node(self, value):\n",
        "        if self.value == value:\n",
        "            return self\n",
        "        elif self.left and value < self.value:\n",
        "            return self.left._search_for_node(value)\n",
        "        elif self.right and value > self.value:\n",
        "            return self.right._search_for_node(value)\n",
        "        else:\n",
        "            return False\n",
        "\n",
        "class BinarySearchTree(BinaryTree):\n",
        "    def __init__(self):\n",
        "        self.root = None\n",
        "\n",
        "    def add_node(self, value):\n",
        "        if not self.root:\n",
        "            self.root = NodeBST(value)\n",
        "        else:\n",
        "            self.root._add_next_node(value)"
      ],
      "execution_count": 4,
      "outputs": []
    },
    {
      "cell_type": "markdown",
      "metadata": {
        "id": "rQSO4oobTFM_"
      },
      "source": [
        "### 반복문으로 구현"
      ]
    },
    {
      "cell_type": "code",
      "metadata": {
        "colab": {
          "base_uri": "https://localhost:8080/"
        },
        "id": "jnc1mP_jEUj1",
        "outputId": "899af173-7040-43e1-866b-b783a9cac2a7"
      },
      "source": [
        "# 반복문으로 구현\n",
        "\n",
        "from collections import deque\n",
        "# from binary_search_tree import BinarySearchTree, NodeBST\n",
        "\n",
        "class BSTwithTransversalIterative(BinarySearchTree):\n",
        "\n",
        "    def inorder(self):\n",
        "        current = self.root\n",
        "        nodes, stack = [], []\n",
        "        while stack or current:\n",
        "            if current:\n",
        "                stack.append(current)\n",
        "                current = current.left\n",
        "            else:\n",
        "                current = stack.pop()\n",
        "                nodes.append(current.value)\n",
        "                current = current.right\n",
        "        return nodes\n",
        "\n",
        "    def preorder(self):\n",
        "        current = self.root\n",
        "        nodes, stack = [], []\n",
        "        while stack or current:\n",
        "            if current:\n",
        "                nodes.append(current.value)\n",
        "                stack.append(current)\n",
        "                current = current.left\n",
        "            else:\n",
        "                current = stack.pop()\n",
        "                current = current.right\n",
        "        return nodes\n",
        "\n",
        "    def preorder2(self):\n",
        "        nodes = []\n",
        "        stack = [self.root]\n",
        "        while stack:\n",
        "            current = stack.pop()\n",
        "            if current:\n",
        "                nodes.append(current.value)\n",
        "                stack.append(current.right)\n",
        "                stack.append(current.left)\n",
        "        return nodes\n",
        "\n",
        "    def BFT(self):\n",
        "        current = self.root\n",
        "        nodes = []\n",
        "        queue = deque()\n",
        "        queue.append(current)\n",
        "        while queue:\n",
        "            current = queue.popleft()\n",
        "            nodes.append(current.value)\n",
        "            if current.left:\n",
        "                queue.append(current.left)\n",
        "            if current.right:\n",
        "                queue.append(current.right)\n",
        "        return nodes\n",
        "\n",
        "\n",
        "if __name__ == \"__main__\":\n",
        "    bst = BSTwithTransversalIterative()\n",
        "    l = [10, 5, 6, 3, 8, 2, 1, 11, 9, 4]\n",
        "    for i in l:\n",
        "        bst.add_node(i)\n",
        "\n",
        "    print(\"노드 8 의 레벨은?\", bst.get_node_level(8))\n",
        "    print(\"전위 순회 :\", bst.preorder())\n",
        "    print(\"전위 순회2 :\", bst.preorder2())\n",
        "    print(\"중위 순회 :\", bst.inorder())\n",
        "    print(\"너비 우선 탐색 :\", bst.BFT())\n"
      ],
      "execution_count": 8,
      "outputs": [
        {
          "output_type": "stream",
          "text": [
            "노드 8 의 레벨은? 4\n",
            "전위 순회 : [10, 5, 3, 2, 1, 4, 6, 8, 9, 11]\n",
            "전위 순회2 : [10, 5, 3, 2, 1, 4, 6, 8, 9, 11]\n",
            "중위 순회 : [1, 2, 3, 4, 5, 6, 8, 9, 10, 11]\n",
            "너비 우선 탐색 : [10, 5, 11, 3, 6, 2, 4, 8, 1, 9]\n"
          ],
          "name": "stdout"
        }
      ]
    },
    {
      "cell_type": "markdown",
      "metadata": {
        "id": "OFDCkhovar2f"
      },
      "source": [
        "### 재귀 함수로 구현"
      ]
    },
    {
      "cell_type": "code",
      "metadata": {
        "id": "-fAV-R29aWeo"
      },
      "source": [
        "# 재귀 함수로 구현\n",
        "# from binary_search_tree import BinarySearchTree, NodeBST\n",
        "\n",
        "class BSTwithTransversalRecursively(BinarySearchTree):\n",
        "\n",
        "    def __init__(self):\n",
        "        self.root = None\n",
        "        self.node_BFS = []\n",
        "        self.nodes_pre = []\n",
        "        self.nodes_post = []\n",
        "        self.nodes_in = []\n",
        "\n",
        "    def BFT(self):\n",
        "        self.root.level = 1\n",
        "        queue = [self.root]\n",
        "        current_level = self.root.current_level\n",
        "\n",
        "        while len(queue) > 0:\n",
        "            current_node = queue.pop(0)\n",
        "            if current_node.level > current_level:\n",
        "                current_level += 1\n",
        "            self.nodes_BFS.append(current_node.value)"
      ],
      "execution_count": null,
      "outputs": []
    }
  ]
}