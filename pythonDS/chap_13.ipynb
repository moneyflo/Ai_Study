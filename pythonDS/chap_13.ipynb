{
  "nbformat": 4,
  "nbformat_minor": 0,
  "metadata": {
    "colab": {
      "name": "chap_13.ipynb",
      "provenance": [],
      "collapsed_sections": []
    },
    "kernelspec": {
      "name": "python3",
      "display_name": "Python 3"
    },
    "language_info": {
      "name": "python"
    }
  },
  "cells": [
    {
      "cell_type": "markdown",
      "metadata": {
        "id": "EE5Rp4nFYzNc"
      },
      "source": [
        "# Chapter 13 이진트리"
      ]
    },
    {
      "cell_type": "markdown",
      "metadata": {
        "id": "vbgAXlqKctlb"
      },
      "source": [
        "## 13.2 이진 트리 구현하기"
      ]
    },
    {
      "cell_type": "code",
      "metadata": {
        "colab": {
          "base_uri": "https://localhost:8080/"
        },
        "id": "hHeeCgyhY_NX",
        "outputId": "97654247-3736-4c53-bad2-28a18ea76d39"
      },
      "source": [
        "def BinaryTreeList(r):\n",
        "    return [r, [], []]\n",
        "\n",
        "def insertLeft(root, newBranch):\n",
        "    t = root.pop(1)\n",
        "    if len(t) > 1:\n",
        "        root.insert(1, [newBranch, t, []])\n",
        "    else:\n",
        "        root.insert(1, [newBranch, [], []])\n",
        "    return root\n",
        "\n",
        "def insertRight(root, newBranch):\n",
        "    t = root.pop(2)\n",
        "    if len(t) > 1:\n",
        "        root.insert(2, [newBranch, [], t])\n",
        "    else:\n",
        "        root.insert(2, [newBranch, [], []])\n",
        "    return root\n",
        "\n",
        "def getRootVal(root):\n",
        "    return root[0]\n",
        "\n",
        "def setRootval(root, newVal):\n",
        "    root[0] = newVal\n",
        "\n",
        "def getLeftChild(root):\n",
        "    return root[1]\n",
        "\n",
        "def getRightChild(root):\n",
        "    return root[2]\n",
        "\n",
        "def main():\n",
        "    r = BinaryTreeList(3)\n",
        "    insertLeft(r, 4)\n",
        "    insertLeft(r, 5)\n",
        "    insertRight(r, 6)\n",
        "    insertRight(r, 7)\n",
        "    print(getRootVal(r))\n",
        "    print(getLeftChild(r))\n",
        "    print(getRightChild(r))\n",
        "\n",
        "if __name__ == \"__main__\":\n",
        "    main()\n"
      ],
      "execution_count": null,
      "outputs": [
        {
          "output_type": "stream",
          "text": [
            "3\n",
            "[5, [4, [], []], []]\n",
            "[7, [], [6, [], []]]\n"
          ],
          "name": "stdout"
        }
      ]
    },
    {
      "cell_type": "code",
      "metadata": {
        "colab": {
          "base_uri": "https://localhost:8080/"
        },
        "id": "KHRq5R4es0v8",
        "outputId": "4c966990-9ffc-4124-933b-794585567393"
      },
      "source": [
        "\"\"\"\n",
        "We want take this binary tree\n",
        "\n",
        "                1           # Level 1\n",
        "            2       3       # Level 2\n",
        "        4       5           # Level 3\n",
        "    6       7               # Level 4\n",
        "8       9                   # Level 5\n",
        "\n",
        "\n",
        "Property is next\n",
        "    - Node size : n = 9\n",
        "    - inner node number : b = n-1 = 8\n",
        "    - Root node : 1\n",
        "    - Max depth or height : h = 4\n",
        "    - Is Balanced tree? No\n",
        "    - Is binary search tree? No\n",
        "\n",
        "\"\"\"\n",
        "\n",
        "\n",
        "\n",
        "class Height(object):\n",
        "    def __init__(self):\n",
        "        self.height = 0\n",
        "\n",
        "class NodeBT(object):\n",
        "    def __init__(self, value=None, level=1):\n",
        "        self.value = value\n",
        "        self.level = level\n",
        "        self.left = None\n",
        "        self.right = None\n",
        "\n",
        "    def __repr__(self):\n",
        "        return f\"{self.value}\"\n",
        "\n",
        "    def _add_next_node(self, value, level_here=2):\n",
        "        new_node = NodeBT(value, level_here)\n",
        "        if not self.value:\n",
        "            self.value = new_node\n",
        "        elif not self.left:\n",
        "            self.left = new_node\n",
        "        elif not self.right:\n",
        "            self.right = new_node\n",
        "        else:\n",
        "            # 노드에 왼쪽 오른쪽 자식이 모두 있다면,\n",
        "            # 왼쪽 자식 노드에 새 노드를 추가한다.\n",
        "            # 그래서 예제의 트리가 왼쪽으로 치우쳐있다.\n",
        "            self.left = self.left._add_next_node(value, level_here+1)\n",
        "        return self\n",
        "\n",
        "    def _search_for_node(self, value):\n",
        "        # By the pre-order, take a value\n",
        "        if self.value == value:\n",
        "            return self\n",
        "        else:\n",
        "            found = None\n",
        "            if self.left:\n",
        "                found = self.left._search_for_node(value)\n",
        "            if self.right:\n",
        "                found = found or self.right._search_for_node(value)\n",
        "            return found\n",
        "\n",
        "    def _is_leaf(self):\n",
        "        # 왼쪽, 오른쪽 자식이 모두 없는 노드\n",
        "        return not self.right and not self.left\n",
        "\n",
        "    def _get_max_height(self):\n",
        "        # Take a maximum height - O(n)\n",
        "        heightr, heightl = 0, 0\n",
        "        if self.right:\n",
        "            heightr = self.right._get_max_height() + 1\n",
        "        if self.left:\n",
        "            heightl = self.left._get_max_height() + 1\n",
        "        return max(heightr,  heightl)\n",
        "\n",
        "    def _is_balanced(self, height=Height()):\n",
        "        # Is balanced tree? - O(n)\n",
        "        lh = Height()\n",
        "        rh = Height()\n",
        "\n",
        "        if self.value is None:\n",
        "            return True\n",
        "\n",
        "        l, r = True, True\n",
        "        if self.left:\n",
        "            l = self.left._is_balanced(lh)\n",
        "        if self.right:\n",
        "            r = self.right._is_balanced(rh)\n",
        "\n",
        "        height.height = max(lh.height, rh.height) + 1\n",
        "\n",
        "        if abs(lh.height - rh.height) <= 1:\n",
        "            return l and r\n",
        "\n",
        "        return False\n",
        "\n",
        "    def _is_bst(self, left=None, right=None):\n",
        "        # Is binary searched tree? - O(n)\n",
        "        if self.value:\n",
        "            if left and self.value < left:\n",
        "                return False\n",
        "            if right and self.value > right:\n",
        "                return False\n",
        "\n",
        "            l, r = True, True\n",
        "            if self.left:\n",
        "                l = self.left._is_bst(left, self.value)\n",
        "            if self.right:\n",
        "                r = self.right._is_bst(self.value, right)\n",
        "            return  l and r\n",
        "        else:\n",
        "            return True\n",
        "\n",
        "class BinaryTree(object):\n",
        "    def __init__(self):\n",
        "        self.root = None\n",
        "\n",
        "    def add_node(self, value):\n",
        "        if not self.root:\n",
        "            self.root = NodeBT(value)\n",
        "        else:\n",
        "            self.root._add_next_node(value)\n",
        "\n",
        "    def is_leaf(self, value):\n",
        "        node = self.root._search_for_node(value)\n",
        "        if node:\n",
        "            return node._is_leaf()\n",
        "        else:\n",
        "            return False\n",
        "\n",
        "    def get_node_level(self, value):\n",
        "        node = self.root._search_for_node(value)\n",
        "        if node:\n",
        "            return node.level\n",
        "        else:\n",
        "            False\n",
        "\n",
        "    def is_root(self, value):\n",
        "        return self.roo.value == value\n",
        "\n",
        "    def get_height(self):\n",
        "        return self.root._get_max_height()\n",
        "\n",
        "    def is_balanced(self):\n",
        "        return self.root._is_balanced()\n",
        "    \n",
        "    def is_bst(self):\n",
        "        return self.root._is_bst()\n",
        "\n",
        "\n",
        "if __name__ == \"__main__\":\n",
        "    bt = BinaryTree()\n",
        "    for i in range(1, 10):\n",
        "        bt.add_node(i)\n",
        "    print(\"8 is leaf?\", bt.is_leaf(8))\n"
      ],
      "execution_count": 1,
      "outputs": [
        {
          "output_type": "stream",
          "text": [
            "8 is leaf? True\n"
          ],
          "name": "stdout"
        }
      ]
    },
    {
      "cell_type": "markdown",
      "metadata": {
        "id": "7HmvbaStj-i3"
      },
      "source": [
        "## 13.3 이진 탐색 트리\n",
        "* 노드의 왼쪽 하위 트리에는 노드의 값보다 작은 값의 노드만 존재한다.\n",
        "* 노드의 오른쪽 하위 트리에는 노드의 값보다 큰 값의 노드만 존재한다.\n",
        "* 왼쪽과 오른쪽 하위 트리 모두 이진 탐색 트리여야함.\n",
        "* 중복 노드가 없어야함.\n",
        "* 균형 트리면 검색/삽입/삭제 시간복잡도 O(logn)"
      ]
    },
    {
      "cell_type": "markdown",
      "metadata": {
        "id": "vsqSQaQPki5n"
      },
      "source": [
        "### 13.3.1 이진 탐색 트리 구현하기\n",
        "앞의 이진 트리 클래스를 슈퍼클래스로 삼아 트리 구현"
      ]
    },
    {
      "cell_type": "code",
      "metadata": {
        "colab": {
          "base_uri": "https://localhost:8080/"
        },
        "id": "fzLL_YyTj3Hn",
        "outputId": "43b8d0e9-f2cf-4c87-b28e-83ac2f8da6cd"
      },
      "source": [
        "\"\"\"\n",
        "다음 그림의 이진 탐색 트리를 구현한다.\n",
        "                            6               ---> 레벨 1\n",
        "                    4               8       ---> 레벨 2\n",
        "                2       5       7       9   ---> 레벨 3\n",
        "            1       3                       ---> 레벨 4\n",
        "\n",
        "속성은 다음과 같다.\n",
        "    - 노드의 개수(크기) : n = 9\n",
        "    - 분기(or 내부 노드) 수 : b = n-1 = 8\n",
        "    - 루트 노드 : 6\n",
        "    - 최대 깊이 or 높이 : h = 3\n",
        "    - 균형 트리입니까? YES\n",
        "    - 이진 탐색 트리입니까? YES\n",
        "\"\"\"\n",
        "\n",
        "# from binary_tree import NodeBT, BinaryTree\n",
        "\n",
        "class NodeBST(NodeBT):\n",
        "\n",
        "    def __init__(self, value=None, level=1):\n",
        "        self.value = value\n",
        "        self.level = level\n",
        "        self.left = None\n",
        "        self.right = None\n",
        "\n",
        "    def _add_next_node(self, value, level_here=2):\n",
        "        new_node = NodeBST(value, level_here)\n",
        "        if value > self.value:\n",
        "            self.right = self.right and self.right._add_next_node(\n",
        "                value, level_here + 1) or new_node\n",
        "        elif value < self.value:\n",
        "            self.left = self.left and self.left._add_next_node(\n",
        "                value, level_here + 1) or new_node\n",
        "        else:\n",
        "            print(\"중복 노드를 허용하지 않습니다.\")\n",
        "        return self\n",
        "\n",
        "    def _search_for_node(self, value):\n",
        "        if self.value == value:\n",
        "            return self\n",
        "        elif self.left and value < self.value:\n",
        "            return self.left._search_for_node(value)\n",
        "        elif self.right and value > self.value:\n",
        "            return self.right._search_for_node(value)\n",
        "        else:\n",
        "            return False\n",
        "\n",
        "class BinarySearchTree(BinaryTree):\n",
        "    def __init__(self):\n",
        "        self.root = None\n",
        "\n",
        "    def add_node(self, value):\n",
        "        if not self.root:\n",
        "            self.root = NodeBST(value)\n",
        "        else:\n",
        "            self.root._add_next_node(value)\n",
        "\n",
        "if __name__ == \"__main__\":\n",
        "    bst = BinarySearchTree()\n",
        "    # for i in range(10):\n",
        "    for i in [6, 4, 8, 2, 5, 7, 9, 1, 3]:\n",
        "        bst.add_node(i)\n",
        "    print(\"8은 말단 노드?\", bst.is_leaf(8))\n",
        "    print(\"트리의 높이는?\", bst.get_height())"
      ],
      "execution_count": 4,
      "outputs": [
        {
          "output_type": "stream",
          "text": [
            "8은 말단 노드? False\n",
            "트리의 높이는? 3\n"
          ],
          "name": "stdout"
        }
      ]
    },
    {
      "cell_type": "markdown",
      "metadata": {
        "id": "YdiVHB1RpJk6"
      },
      "source": [
        "## 13.4 자가 균형 이진 탐색 트리\n",
        "* 균형트리 : 모든 하위 트리의 높이 차가 1 이하인 트리\n",
        "* 자가 균형 이진 탐색 트리 : 노드의 삽입과 삭제 같은 연산이 일어날 때 자동으로 균형 트리를 유지하는 이진 탐색 트리\n",
        "* 균형도 : 왼쪽과 오른쪽 하위 트리 높이의 차이\n",
        "* 노드 분할 및 병합\n",
        "* 노드 회전"
      ]
    },
    {
      "cell_type": "markdown",
      "metadata": {
        "id": "e-AQt6zSpOGG"
      },
      "source": [
        "13.4.1 AVL 트리\n",
        "* 왼쪽과 오른쪽 하위 트리의 높이 차이가 1보다 클 수 없는 자체 균형 조건을 가진 이진 탐색 트리."
      ]
    },
    {
      "cell_type": "markdown",
      "metadata": {
        "id": "VWpih7Qm9q2z"
      },
      "source": [
        "### 13.4.2 레드-블랙 트리\n",
        "* 노드는 레드 or 블랙\n",
        "* 루트 노드는 블랙\n",
        "* 모든 널 포인터(NIL)는 블랙\n",
        "* 레드 노드의 양쪽 자식 노드는 언제나 블랙\n",
        "* 어떤 노드부터 말단 노드에 도달하는 모든 경로에는, 말단 노드를 제외하면 모두 같은 개수의 블랙 노드가 있음."
      ]
    },
    {
      "cell_type": "markdown",
      "metadata": {
        "id": "tbjf2szxAj3l"
      },
      "source": [
        "### 13.4.3 이진 힙\n",
        "완전 균형 이진 트리임. 이진 힙의 유일한 작업은 부모 노드와 자식 노드를 교체 하는 것."
      ]
    },
    {
      "cell_type": "code",
      "metadata": {
        "id": "Nvw7XoU7oujq"
      },
      "source": [
        ""
      ],
      "execution_count": null,
      "outputs": []
    }
  ]
}