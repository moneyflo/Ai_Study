{
  "nbformat": 4,
  "nbformat_minor": 0,
  "metadata": {
    "colab": {
      "name": "chap3_.ipynb",
      "provenance": [],
      "collapsed_sections": []
    },
    "kernelspec": {
      "name": "python3",
      "display_name": "Python 3"
    },
    "language_info": {
      "name": "python"
    }
  },
  "cells": [
    {
      "cell_type": "markdown",
      "metadata": {
        "id": "-wsEkKsU51Yt"
      },
      "source": [
        "# chapter3 컬렉션 자료구조"
      ]
    },
    {
      "cell_type": "markdown",
      "metadata": {
        "id": "hL4pdQD76MPR"
      },
      "source": [
        "## 3.1 셋"
      ]
    },
    {
      "cell_type": "code",
      "metadata": {
        "colab": {
          "base_uri": "https://localhost:8080/"
        },
        "id": "gIOlLO2l5CE1",
        "outputId": "f54c9a73-611c-4a9e-aa53-26521004d331"
      },
      "source": [
        "dir(set())"
      ],
      "execution_count": null,
      "outputs": [
        {
          "output_type": "execute_result",
          "data": {
            "text/plain": [
              "['__and__',\n",
              " '__class__',\n",
              " '__contains__',\n",
              " '__delattr__',\n",
              " '__dir__',\n",
              " '__doc__',\n",
              " '__eq__',\n",
              " '__format__',\n",
              " '__ge__',\n",
              " '__getattribute__',\n",
              " '__gt__',\n",
              " '__hash__',\n",
              " '__iand__',\n",
              " '__init__',\n",
              " '__init_subclass__',\n",
              " '__ior__',\n",
              " '__isub__',\n",
              " '__iter__',\n",
              " '__ixor__',\n",
              " '__le__',\n",
              " '__len__',\n",
              " '__lt__',\n",
              " '__ne__',\n",
              " '__new__',\n",
              " '__or__',\n",
              " '__rand__',\n",
              " '__reduce__',\n",
              " '__reduce_ex__',\n",
              " '__repr__',\n",
              " '__ror__',\n",
              " '__rsub__',\n",
              " '__rxor__',\n",
              " '__setattr__',\n",
              " '__sizeof__',\n",
              " '__str__',\n",
              " '__sub__',\n",
              " '__subclasshook__',\n",
              " '__xor__',\n",
              " 'add',\n",
              " 'clear',\n",
              " 'copy',\n",
              " 'difference',\n",
              " 'difference_update',\n",
              " 'discard',\n",
              " 'intersection',\n",
              " 'intersection_update',\n",
              " 'isdisjoint',\n",
              " 'issubset',\n",
              " 'issuperset',\n",
              " 'pop',\n",
              " 'remove',\n",
              " 'symmetric_difference',\n",
              " 'symmetric_difference_update',\n",
              " 'union',\n",
              " 'update']"
            ]
          },
          "metadata": {
            "tags": []
          },
          "execution_count": 1
        }
      ]
    },
    {
      "cell_type": "code",
      "metadata": {
        "colab": {
          "base_uri": "https://localhost:8080/"
        },
        "id": "-NG_3zb46Sfl",
        "outputId": "d5c8b0be-54cc-4cdb-b9e3-6ea091aac3ae"
      },
      "source": [
        "# 3.1.1 셋 메서드\n",
        "people = {\"버피\", \"에인절\", \"자일스\"}\n",
        "people.add(\"윌로\")\n",
        "people"
      ],
      "execution_count": null,
      "outputs": [
        {
          "output_type": "execute_result",
          "data": {
            "text/plain": [
              "{'버피', '에인절', '윌로', '자일스'}"
            ]
          },
          "metadata": {
            "tags": []
          },
          "execution_count": 3
        }
      ]
    },
    {
      "cell_type": "code",
      "metadata": {
        "colab": {
          "base_uri": "https://localhost:8080/"
        },
        "id": "8siEZSWH69v0",
        "outputId": "7dd4a7f8-df69-43ce-9ee8-b639771a842c"
      },
      "source": [
        "people = {\"버피\", \"에인절\", \"자일스\"}\n",
        "people.update({\"로미오\", \"줄리엣\", \"에인절\"})\n",
        "people\n",
        "people |= {\"리키\", \"유진\"}\n",
        "people"
      ],
      "execution_count": null,
      "outputs": [
        {
          "output_type": "execute_result",
          "data": {
            "text/plain": [
              "{'로미오', '리키', '버피', '에인절', '유진', '자일스', '줄리엣'}"
            ]
          },
          "metadata": {
            "tags": []
          },
          "execution_count": 6
        }
      ]
    },
    {
      "cell_type": "markdown",
      "metadata": {
        "id": "wXwv3SC67vkX"
      },
      "source": [
        "A.update(B) 활용하면 A만 변환.\n",
        "B는 그대로인듯"
      ]
    },
    {
      "cell_type": "code",
      "metadata": {
        "colab": {
          "base_uri": "https://localhost:8080/"
        },
        "id": "5BhMVYT37UTJ",
        "outputId": "682b78ef-df6c-46ba-c642-df612c82cce6"
      },
      "source": [
        "p1 = {\"버피\", \"에인절\", \"자일스\"}\n",
        "p2 = {\"로미오\", \"줄리엣\", \"에인절\"}\n",
        "p1.update(p2)\n",
        "print(p1)\n",
        "print(p2)"
      ],
      "execution_count": null,
      "outputs": [
        {
          "output_type": "stream",
          "text": [
            "{'로미오', '에인절', '버피', '줄리엣', '자일스'}\n",
            "{'에인절', '줄리엣', '로미오'}\n"
          ],
          "name": "stdout"
        }
      ]
    },
    {
      "cell_type": "markdown",
      "metadata": {
        "id": "EaArwNKD8VyQ"
      },
      "source": [
        "union과 | 는 복사본으로 변환"
      ]
    },
    {
      "cell_type": "code",
      "metadata": {
        "colab": {
          "base_uri": "https://localhost:8080/"
        },
        "id": "uLJ-_OS57qbm",
        "outputId": "05a16363-6271-44b2-c86a-76d786f3bd5a"
      },
      "source": [
        "people = {\"버피\", \"에인절\", \"자일스\"}\n",
        "people.union({\"로미오\", \"줄리엣\"})\n",
        "people\n",
        "people|{\"브라이언\"}\n",
        "people"
      ],
      "execution_count": null,
      "outputs": [
        {
          "output_type": "execute_result",
          "data": {
            "text/plain": [
              "{'버피', '에인절', '자일스'}"
            ]
          },
          "metadata": {
            "tags": []
          },
          "execution_count": 11
        }
      ]
    },
    {
      "cell_type": "code",
      "metadata": {
        "colab": {
          "base_uri": "https://localhost:8080/"
        },
        "id": "Da-q42zi8LNK",
        "outputId": "0ee50992-9272-47be-e1b4-100f8b7f826b"
      },
      "source": [
        "people = {\"버피\", \"에인절\", \"자일스\", \"이안\"}\n",
        "vampires = {\"에인절\", \"자일스\", \"윌로\"}\n",
        "people.intersection(vampires)\n",
        "people & vampires\n",
        "\n",
        "#복사본을 반환함"
      ],
      "execution_count": null,
      "outputs": [
        {
          "output_type": "execute_result",
          "data": {
            "text/plain": [
              "{'에인절', '자일스'}"
            ]
          },
          "metadata": {
            "tags": []
          },
          "execution_count": 14
        }
      ]
    },
    {
      "cell_type": "code",
      "metadata": {
        "colab": {
          "base_uri": "https://localhost:8080/"
        },
        "id": "eyj_IcaB8pjc",
        "outputId": "e9c16e9e-7d23-4c9b-997f-9b08143d8d63"
      },
      "source": [
        "people = {\"버피\", \"에인절\", \"자일스\", \"아영\"}\n",
        "vampires = {\"스파이크\", \"에인절\", \"상민\"}\n",
        "people.difference(vampires)\n",
        "people - vampires"
      ],
      "execution_count": null,
      "outputs": [
        {
          "output_type": "execute_result",
          "data": {
            "text/plain": [
              "{'버피', '아영', '자일스'}"
            ]
          },
          "metadata": {
            "tags": []
          },
          "execution_count": 16
        }
      ]
    },
    {
      "cell_type": "code",
      "metadata": {
        "colab": {
          "base_uri": "https://localhost:8080/"
        },
        "id": "UzswSI6z861y",
        "outputId": "2e844a6c-b887-4919-ccd1-ca2c4c02f914"
      },
      "source": [
        "people = {\"버피\", \"자일스\", \"에인절\"}\n",
        "people.clear()\n",
        "people\n",
        "\n",
        "#set() <- empty set을 나타냄"
      ],
      "execution_count": null,
      "outputs": [
        {
          "output_type": "execute_result",
          "data": {
            "text/plain": [
              "set()"
            ]
          },
          "metadata": {
            "tags": []
          },
          "execution_count": 18
        }
      ]
    },
    {
      "cell_type": "markdown",
      "metadata": {
        "id": "ov0cv9e0-C0O"
      },
      "source": [
        "# discard(), remove(), pop()\n",
        "- A.discard()는 제거, 반환 x\n",
        "- A.remove()는 없으면 keyError\n",
        "- A.pop()은 한 항목 무작위 제거 후 그 항목 반환(비어있으면 keyError)"
      ]
    },
    {
      "cell_type": "code",
      "metadata": {
        "colab": {
          "base_uri": "https://localhost:8080/",
          "height": 213
        },
        "id": "bmbITmi6-c0j",
        "outputId": "7213854b-1e36-4598-c2b8-ba8e2134ff7a"
      },
      "source": [
        "countries = {\"프랑스\", \"스페인\", \"영국\"}\n",
        "countries.discard(\"한국\")\n",
        "# countries.remove(\"일본\")\n",
        "countries.pop()\n",
        "countries.discard(\"스페인\")\n",
        "countries.remove(\"영국\")\n",
        "# countries.pop()"
      ],
      "execution_count": null,
      "outputs": [
        {
          "output_type": "error",
          "ename": "KeyError",
          "evalue": "ignored",
          "traceback": [
            "\u001b[0;31m---------------------------------------------------------------------------\u001b[0m",
            "\u001b[0;31mKeyError\u001b[0m                                  Traceback (most recent call last)",
            "\u001b[0;32m<ipython-input-23-a6a1cbc2a522>\u001b[0m in \u001b[0;36m<module>\u001b[0;34m()\u001b[0m\n\u001b[1;32m      5\u001b[0m \u001b[0mcountries\u001b[0m\u001b[0;34m.\u001b[0m\u001b[0mdiscard\u001b[0m\u001b[0;34m(\u001b[0m\u001b[0;34m\"스페인\"\u001b[0m\u001b[0;34m)\u001b[0m\u001b[0;34m\u001b[0m\u001b[0;34m\u001b[0m\u001b[0m\n\u001b[1;32m      6\u001b[0m \u001b[0mcountries\u001b[0m\u001b[0;34m.\u001b[0m\u001b[0mremove\u001b[0m\u001b[0;34m(\u001b[0m\u001b[0;34m\"영국\"\u001b[0m\u001b[0;34m)\u001b[0m\u001b[0;34m\u001b[0m\u001b[0;34m\u001b[0m\u001b[0m\n\u001b[0;32m----> 7\u001b[0;31m \u001b[0mcountries\u001b[0m\u001b[0;34m.\u001b[0m\u001b[0mpop\u001b[0m\u001b[0;34m(\u001b[0m\u001b[0;34m)\u001b[0m\u001b[0;34m\u001b[0m\u001b[0;34m\u001b[0m\u001b[0m\n\u001b[0m",
            "\u001b[0;31mKeyError\u001b[0m: 'pop from an empty set'"
          ]
        }
      ]
    },
    {
      "cell_type": "code",
      "metadata": {
        "colab": {
          "base_uri": "https://localhost:8080/"
        },
        "id": "y1n8GBvP9Ucn",
        "outputId": "a2a0f7ac-d004-4ada-af4a-8e668b36d5c9"
      },
      "source": [
        "# 3.1.3 셋과 리스트\n",
        "# 리스트 타입은 셋 타입으로 변환 가능\n",
        "\n",
        "def remove_dup(l1):\n",
        "    # 리스트의 중복된 항목 제거 후 반환\n",
        "    return list(set(l1))\n",
        "\n",
        "def intersection(l1, l2):\n",
        "    # 교집합 결과를 반환\n",
        "    return list(set(l1) & set(l2))\n",
        "\n",
        "def union(l1, l2):\n",
        "    # 합집합 결과를 반환\n",
        "    return list(set(l1) | set(l2))\n",
        "\n",
        "def test_sets_operations_with_lists():\n",
        "    l1 = [1, 2, 3, 4, 5, 5, 9, 11, 11, 15]\n",
        "    l2 = [4, 5, 6, 7, 8]\n",
        "    l3 = []\n",
        "    assert(remove_dup(l1)) == [1, 2, 3, 4, 5, 9 ,11, 15]\n",
        "    assert(intersection(l1, l2) == [4, 5])\n",
        "    assert(union(l1, l2) == [1, 2, 3, 4, 5, 6, 7, 8, 9, 11, 15])\n",
        "    assert(remove_dup(l3) == [])\n",
        "    assert(intersection(l3, l2) == l3)\n",
        "    assert(sorted(union(l3, l2)) == sorted(l2))\n",
        "    print(\"테스트 통과!\")\n",
        "\n",
        "if __name__ == '__main__':\n",
        "    test_sets_operations_with_lists()"
      ],
      "execution_count": null,
      "outputs": [
        {
          "output_type": "stream",
          "text": [
            "테스트 통과!\n"
          ],
          "name": "stdout"
        }
      ]
    },
    {
      "cell_type": "code",
      "metadata": {
        "colab": {
          "base_uri": "https://localhost:8080/"
        },
        "id": "1Ud8l26KAuSZ",
        "outputId": "0f7f34c9-20dc-43ee-96b5-8b8f550581c3"
      },
      "source": [
        "def set_operations_with_dict():\n",
        "    pairs = [(\"a\", 1), (\"b\", 2), (\"c\", 3)]\n",
        "    d1 = dict(pairs)\n",
        "    print(\"딕셔너리1\\t: {0}\".format(d1))\n",
        "\n",
        "    d2 = {\"a\": 1, \"c\": 2, \"d\": 3, \"e\": 4}\n",
        "    print(\"딕셔너리2\\t: {0}\".format(d2))\n",
        "\n",
        "    intersection = d1.keys() & d2.keys()\n",
        "    print(\"d1 ∩ d2 (키)\\t: {0}\".format(intersection))\n",
        "\n",
        "    intersection_items = d1.items() & d2.items()\n",
        "    print(\"d1 ∩ d2 (키,값): {0}\".format(intersection_items))\n",
        "\n",
        "    subtraction1 = d1.keys() - d2.keys()\n",
        "    print(\"d1 - d2 (키)\\t: {0}\".format(subtraction1))\n",
        "\n",
        "    subtraction2 = d2.keys() - d1.keys()\n",
        "    print(\"d2 - d1 (키)\\t: {0}\".format(subtraction2))\n",
        "\n",
        "    subtraction_items = d1.items() - d2.items()\n",
        "    print(\"d1 - d2 (키,값)\\t: {0}\".format(subtraction_items))\n",
        "\n",
        "    # 딕셔너리의 특정 키를 제외한다.\n",
        "    d3 = {key: d2[key] for key in d2.keys() - {\"c\", \"d\"}}\n",
        "    print(\"d2 - {{c, d}}\\t: {0}\".format(d3))\n",
        "\n",
        "if __name__ == \"__main__\":\n",
        "    set_operations_with_dict()\n"
      ],
      "execution_count": null,
      "outputs": [
        {
          "output_type": "stream",
          "text": [
            "딕셔너리1\t: {'a': 1, 'b': 2, 'c': 3}\n",
            "딕셔너리2\t: {'a': 1, 'c': 2, 'd': 3, 'e': 4}\n",
            "d1 ∩ d2 (키)\t: {'a', 'c'}\n",
            "d1 ∩ d2 (키,값): {('a', 1)}\n",
            "d1 - d2 (키)\t: {'b'}\n",
            "d2 - d1 (키)\t: {'e', 'd'}\n",
            "d1 - d2 (키,값)\t: {('c', 3), ('b', 2)}\n",
            "d2 - {c, d}\t: {'e': 4, 'a': 1}\n"
          ],
          "name": "stdout"
        }
      ]
    },
    {
      "cell_type": "markdown",
      "metadata": {
        "id": "qvurqucvH9fL"
      },
      "source": [
        "## 3.2 딕셔너리"
      ]
    },
    {
      "cell_type": "code",
      "metadata": {
        "colab": {
          "base_uri": "https://localhost:8080/"
        },
        "id": "k5CmsHtYDMHk",
        "outputId": "62f55575-85a7-42e0-da37-f793f18f28fd"
      },
      "source": [
        "hash(42)\n",
        "hash(\"hello\")"
      ],
      "execution_count": null,
      "outputs": [
        {
          "output_type": "execute_result",
          "data": {
            "text/plain": [
              "3639859809728392369"
            ]
          },
          "metadata": {
            "tags": []
          },
          "execution_count": 31
        }
      ]
    },
    {
      "cell_type": "code",
      "metadata": {
        "colab": {
          "base_uri": "https://localhost:8080/"
        },
        "id": "dHG9DxBDIHub",
        "outputId": "fbe2ccfa-4ccf-4674-d133-c80862672563"
      },
      "source": [
        "tarantino = {}\n",
        "tarantino['name'] = '쿠엔틴 타란티노'\n",
        "tarantino['job'] = '감독'\n",
        "tarantino\n",
        "sunnydale = dict({\"name\":\"Buffy\", \"age\":16, \"hobby\":\"game\"})\n",
        "sunnydale\n",
        "sunnydale = dict(name=\"james\", age=45, hobby=\"movie appreciation\")\n",
        "sunnydale\n",
        "\n",
        "sunnydale = dict([(\"name\", \"willo\"), (\"age\", 15), (\"hobby\", \"coding\")])\n",
        "sunnydale"
      ],
      "execution_count": null,
      "outputs": [
        {
          "output_type": "execute_result",
          "data": {
            "text/plain": [
              "{'age': 15, 'hobby': 'coding', 'name': 'willo'}"
            ]
          },
          "metadata": {
            "tags": []
          },
          "execution_count": 36
        }
      ]
    },
    {
      "cell_type": "code",
      "metadata": {
        "colab": {
          "base_uri": "https://localhost:8080/"
        },
        "id": "vmW_HfjpIzTW",
        "outputId": "399dc4cf-6044-453f-906b-866b03103206"
      },
      "source": [
        "# 3.2.1 dict method\n",
        "def usual_dict(dict_data):\n",
        "    # dict[key] 사용\n",
        "    newdata = {}\n",
        "    for k, v in dict_data:\n",
        "        if k in newdata:\n",
        "            newdata[k].append(v)\n",
        "        else:\n",
        "            newdata[k] = [v]\n",
        "    return newdata\n",
        "\n",
        "def setdefault_dict(dict_data):\n",
        "    # setdefault() 메서드 사용\n",
        "    newdata = {}\n",
        "    for k, v in dict_data:\n",
        "        newdata.setdefault(k, []).append(v)\n",
        "    return newdata\n",
        "\n",
        "def test_setdef():\n",
        "    dict_data = ((\"key1\", \"value1\"),\n",
        "                 (\"key1\", \"value2\"),\n",
        "                 (\"key2\", \"value3\"),\n",
        "                 (\"key2\", \"value4\"),\n",
        "                 (\"key2\", \"value5\"),)\n",
        "    print(usual_dict(dict_data))\n",
        "    print(setdefault_dict(dict_data))\n",
        "\n",
        "if __name__ == '__main__':\n",
        "    test_setdef()\n"
      ],
      "execution_count": null,
      "outputs": [
        {
          "output_type": "stream",
          "text": [
            "{'key1': ['value1', 'value2'], 'key2': ['value3', 'value4', 'value5']}\n",
            "{'key1': ['value1', 'value2'], 'key2': ['value3', 'value4', 'value5']}\n"
          ],
          "name": "stdout"
        }
      ]
    },
    {
      "cell_type": "code",
      "metadata": {
        "colab": {
          "base_uri": "https://localhost:8080/"
        },
        "id": "aGYG0o3FLzxJ",
        "outputId": "fb55a37d-23c2-441d-d0fa-35194ef7cbf2"
      },
      "source": [
        "d = {'a': 1, 'b': 2}\n",
        "d.update({'b': 10})\n",
        "d\n",
        "d.update({'c': 100})\n",
        "d"
      ],
      "execution_count": null,
      "outputs": [
        {
          "output_type": "execute_result",
          "data": {
            "text/plain": [
              "{'a': 1, 'b': 10, 'c': 100}"
            ]
          },
          "metadata": {
            "tags": []
          },
          "execution_count": 40
        }
      ]
    },
    {
      "cell_type": "code",
      "metadata": {
        "id": "0JPaXeLWNvKf"
      },
      "source": [
        "sunnydale = dict(name='zander', age=17, hobby='game')\n",
        "sunnydale.get(\"hobby\")\n",
        "sunnydale['hobby']\n",
        "sunnydale.get('hello')\n",
        "# sunnydale['hello'] # get과는 다르게 오류뜸"
      ],
      "execution_count": null,
      "outputs": []
    },
    {
      "cell_type": "code",
      "metadata": {
        "id": "yNguVz7ZOTNO",
        "colab": {
          "base_uri": "https://localhost:8080/"
        },
        "outputId": "4302e8ce-ddf0-45f1-fdd7-51a0bd6edc88"
      },
      "source": [
        "sunnydale = dict(name=\"zender\", age=17, hobby=\"game\")\n",
        "sunnydale.items()\n",
        "sunnydale.values()\n",
        "sunnydale.keys()\n",
        "sunnydale_copy = sunnydale.items()\n",
        "# sunnydale_copy['address'] = \"서울\"  ## 카피본에 추가안됨\n",
        "sunnydale['address'] = \"seoul\"\n",
        "sunnydale\n",
        "sunnydale_copy   # 원본 변경하면 변경사항 반영됨"
      ],
      "execution_count": null,
      "outputs": [
        {
          "output_type": "execute_result",
          "data": {
            "text/plain": [
              "dict_items([('name', 'zender'), ('age', 17), ('hobby', 'game'), ('address', 'seoul')])"
            ]
          },
          "metadata": {
            "tags": []
          },
          "execution_count": 11
        }
      ]
    },
    {
      "cell_type": "code",
      "metadata": {
        "colab": {
          "base_uri": "https://localhost:8080/"
        },
        "id": "KPj0_xDT8PIg",
        "outputId": "5b018799-a889-4f90-d97f-15947955d5bc"
      },
      "source": [
        "sunnydale = dict(name=\"zender\", age=17, address=\"seoul\", hobby=\"game\")\n",
        "sunnydale.pop(\"age\")\n",
        "sunnydale\n",
        "sunnydale.popitem()\n",
        "sunnydale"
      ],
      "execution_count": null,
      "outputs": [
        {
          "output_type": "execute_result",
          "data": {
            "text/plain": [
              "{'address': 'seoul', 'name': 'zender'}"
            ]
          },
          "metadata": {
            "tags": []
          },
          "execution_count": 22
        }
      ]
    },
    {
      "cell_type": "code",
      "metadata": {
        "colab": {
          "base_uri": "https://localhost:8080/"
        },
        "id": "MCNDo6-D-Ngt",
        "outputId": "5e514a89-24be-4fa4-bce9-0033755411b6"
      },
      "source": [
        "sunnydale = dict(name=\"zender\", age=17, address=\"seoul\", hobby=\"game\")\n",
        "sunnydale.clear()\n",
        "sunnydale"
      ],
      "execution_count": null,
      "outputs": [
        {
          "output_type": "execute_result",
          "data": {
            "text/plain": [
              "{}"
            ]
          },
          "metadata": {
            "tags": []
          },
          "execution_count": 23
        }
      ]
    },
    {
      "cell_type": "markdown",
      "metadata": {
        "id": "Q0vg8qa3EmRz"
      },
      "source": [
        " 주피터노트북에서는 그냥 %timeit으로도 측정 가능함"
      ]
    },
    {
      "cell_type": "code",
      "metadata": {
        "id": "_hYBlXnRLU-t"
      },
      "source": [
        ""
      ],
      "execution_count": null,
      "outputs": []
    },
    {
      "cell_type": "code",
      "metadata": {
        "colab": {
          "base_uri": "https://localhost:8080/"
        },
        "id": "iglmmjlG-qbY",
        "outputId": "8881a9a7-058d-4d38-83e0-6dfcadd6f39e"
      },
      "source": [
        "import timeit   # repeat  \n",
        "import random\n",
        "\n",
        "for i in range(10000, 1000001, 20000):\n",
        "    t = timeit.Timer(\"random.randrange(%d) in x\" % i,\n",
        "                     \"from __main__ import random, x\")\n",
        "    x = list(range(i)) # list\n",
        "    lst_time = t.timeit(number=1000)\n",
        "    x = {j: None for j in range(i)} # dictionary\n",
        "    d_time = t.timeit(number=1000)\n",
        "    print(\"%d,%10.3f,%10.3f\" % (i, lst_time, d_time))"
      ],
      "execution_count": null,
      "outputs": [
        {
          "output_type": "stream",
          "text": [
            "10000,     0.093,     0.001\n",
            "30000,     0.248,     0.001\n",
            "50000,     0.418,     0.001\n",
            "70000,     0.581,     0.001\n",
            "90000,     0.704,     0.001\n",
            "110000,     0.894,     0.001\n",
            "130000,     1.076,     0.001\n",
            "150000,     1.259,     0.001\n",
            "170000,     1.366,     0.002\n",
            "190000,     1.550,     0.001\n",
            "210000,     1.732,     0.001\n",
            "230000,     1.798,     0.001\n",
            "250000,     2.007,     0.001\n",
            "270000,     2.167,     0.001\n",
            "290000,     2.310,     0.001\n",
            "310000,     2.513,     0.002\n",
            "330000,     2.696,     0.001\n",
            "350000,     2.830,     0.001\n",
            "370000,     2.949,     0.001\n",
            "390000,     3.170,     0.001\n",
            "410000,     3.316,     0.001\n",
            "430000,     3.411,     0.001\n",
            "450000,     3.491,     0.001\n",
            "470000,     3.903,     0.001\n",
            "490000,     3.990,     0.001\n",
            "510000,     4.149,     0.001\n",
            "530000,     4.356,     0.002\n",
            "550000,     4.426,     0.002\n",
            "570000,     4.491,     0.001\n",
            "590000,     4.733,     0.002\n",
            "610000,     4.912,     0.001\n",
            "630000,     5.055,     0.001\n",
            "650000,     5.281,     0.001\n",
            "670000,     5.441,     0.001\n",
            "690000,     5.607,     0.001\n",
            "710000,     5.945,     0.001\n",
            "730000,     5.906,     0.001\n",
            "750000,     5.978,     0.001\n",
            "770000,     6.125,     0.002\n",
            "790000,     6.290,     0.001\n",
            "810000,     6.613,     0.001\n",
            "830000,     6.820,     0.001\n",
            "850000,     6.804,     0.001\n",
            "870000,     6.700,     0.001\n",
            "890000,     7.028,     0.001\n",
            "910000,     7.117,     0.001\n",
            "930000,     7.687,     0.001\n",
            "950000,     7.603,     0.001\n",
            "970000,     7.765,     0.001\n",
            "990000,     8.296,     0.001\n"
          ],
          "name": "stdout"
        }
      ]
    },
    {
      "cell_type": "code",
      "metadata": {
        "colab": {
          "base_uri": "https://localhost:8080/"
        },
        "id": "69od16z7BzQt",
        "outputId": "483e2063-f3ca-46c4-9c9e-2fcecdc07be0"
      },
      "source": [
        "for i in range(10000, 1000001, 20000):\n",
        "    %timeit list(range(i))"
      ],
      "execution_count": null,
      "outputs": [
        {
          "output_type": "stream",
          "text": [
            "10000 loops, best of 5: 163 µs per loop\n",
            "1000 loops, best of 5: 595 µs per loop\n",
            "1000 loops, best of 5: 950 µs per loop\n",
            "1000 loops, best of 5: 1.3 ms per loop\n",
            "1000 loops, best of 5: 1.67 ms per loop\n",
            "100 loops, best of 5: 1.98 ms per loop\n",
            "100 loops, best of 5: 2.36 ms per loop\n",
            "100 loops, best of 5: 2.75 ms per loop\n",
            "100 loops, best of 5: 3.16 ms per loop\n",
            "100 loops, best of 5: 3.51 ms per loop\n",
            "100 loops, best of 5: 3.8 ms per loop\n",
            "100 loops, best of 5: 4.25 ms per loop\n",
            "100 loops, best of 5: 4.7 ms per loop\n",
            "100 loops, best of 5: 5.07 ms per loop\n",
            "100 loops, best of 5: 5.56 ms per loop\n",
            "100 loops, best of 5: 6.1 ms per loop\n",
            "100 loops, best of 5: 6.49 ms per loop\n",
            "100 loops, best of 5: 6.96 ms per loop\n",
            "100 loops, best of 5: 7.34 ms per loop\n",
            "100 loops, best of 5: 7.72 ms per loop\n",
            "100 loops, best of 5: 8.24 ms per loop\n",
            "100 loops, best of 5: 8.69 ms per loop\n",
            "100 loops, best of 5: 9.04 ms per loop\n",
            "100 loops, best of 5: 9.34 ms per loop\n",
            "100 loops, best of 5: 10.2 ms per loop\n",
            "100 loops, best of 5: 10.5 ms per loop\n",
            "100 loops, best of 5: 10.9 ms per loop\n",
            "100 loops, best of 5: 11.5 ms per loop\n",
            "100 loops, best of 5: 12.1 ms per loop\n",
            "100 loops, best of 5: 12.3 ms per loop\n",
            "100 loops, best of 5: 12.8 ms per loop\n",
            "100 loops, best of 5: 13.1 ms per loop\n",
            "100 loops, best of 5: 13.6 ms per loop\n",
            "100 loops, best of 5: 14 ms per loop\n",
            "100 loops, best of 5: 14.5 ms per loop\n",
            "100 loops, best of 5: 15 ms per loop\n",
            "100 loops, best of 5: 15.5 ms per loop\n",
            "100 loops, best of 5: 15.9 ms per loop\n",
            "100 loops, best of 5: 16.3 ms per loop\n",
            "100 loops, best of 5: 16.9 ms per loop\n",
            "100 loops, best of 5: 17.3 ms per loop\n",
            "100 loops, best of 5: 17.6 ms per loop\n",
            "100 loops, best of 5: 18.1 ms per loop\n",
            "100 loops, best of 5: 18.5 ms per loop\n",
            "100 loops, best of 5: 18.9 ms per loop\n",
            "100 loops, best of 5: 19.4 ms per loop\n",
            "10 loops, best of 5: 19.3 ms per loop\n",
            "10 loops, best of 5: 20.6 ms per loop\n",
            "10 loops, best of 5: 21.2 ms per loop\n",
            "10 loops, best of 5: 21.7 ms per loop\n"
          ],
          "name": "stdout"
        }
      ]
    },
    {
      "cell_type": "code",
      "metadata": {
        "colab": {
          "base_uri": "https://localhost:8080/"
        },
        "id": "zgLU5SugL2C5",
        "outputId": "387dbde3-1997-479e-cf18-97fe954ed1fb"
      },
      "source": [
        "d = dict(c=\"!\", b=\"world\", a=\"hello\")\n",
        "for key in sorted(d.keys()):\n",
        "    print(key, d[key])"
      ],
      "execution_count": null,
      "outputs": [
        {
          "output_type": "stream",
          "text": [
            "a hello\n",
            "b world\n",
            "c !\n"
          ],
          "name": "stdout"
        }
      ]
    },
    {
      "cell_type": "code",
      "metadata": {
        "id": "aX6v1J7mMipZ"
      },
      "source": [
        "def hello():\n",
        "    print(\"hello\")\n",
        "\n",
        "def world():\n",
        "    print(\"world\")"
      ],
      "execution_count": null,
      "outputs": []
    },
    {
      "cell_type": "code",
      "metadata": {
        "colab": {
          "base_uri": "https://localhost:8080/"
        },
        "id": "9718paA8MulG",
        "outputId": "a95de8dd-84dd-44c8-fb1a-46efacd1ea84"
      },
      "source": [
        "action = \"h\"\n",
        "\n",
        "if action == \"h\":\n",
        "    hello()\n",
        "elif action == \"w\":\n",
        "    world()"
      ],
      "execution_count": null,
      "outputs": [
        {
          "output_type": "stream",
          "text": [
            "hello\n"
          ],
          "name": "stdout"
        }
      ]
    },
    {
      "cell_type": "markdown",
      "metadata": {
        "id": "GMcP3giwNL7_"
      },
      "source": [
        "좀 더 찾아서 공부해볼것\n"
      ]
    },
    {
      "cell_type": "code",
      "metadata": {
        "colab": {
          "base_uri": "https://localhost:8080/"
        },
        "id": "WVLJ_nZ8M6W4",
        "outputId": "75094c35-723e-4ff0-e60e-4d46551d37c1"
      },
      "source": [
        "functions = dict(h=hello, w=world)\n",
        "functions[action]()"
      ],
      "execution_count": null,
      "outputs": [
        {
          "output_type": "stream",
          "text": [
            "hello\n"
          ],
          "name": "stdout"
        }
      ]
    },
    {
      "cell_type": "markdown",
      "metadata": {
        "id": "SgtAPIK0PSdg"
      },
      "source": [
        "## 3.3 파이썬 컬렉션 데이터 타입"
      ]
    },
    {
      "cell_type": "markdown",
      "metadata": {
        "id": "eLz391OcTHrP"
      },
      "source": [
        "list를 맛깔나게 넣을 수 있음"
      ]
    },
    {
      "cell_type": "code",
      "metadata": {
        "colab": {
          "base_uri": "https://localhost:8080/"
        },
        "id": "Kf-piFLjNFOg",
        "outputId": "af392f44-4aa6-4e24-8c67-03d4321bdfc1"
      },
      "source": [
        "from collections import defaultdict\n",
        "\n",
        "def defaultdict_example():\n",
        "    pairs = {(\"a\", 1), (\"b\", 2), (\"c\", 3)}\n",
        "\n",
        "    # 일반 딕셔너리\n",
        "    d1 = {}\n",
        "    for key, value in pairs:\n",
        "        if key not in d1:\n",
        "            d1[key] = []\n",
        "        d1[key].append(value)\n",
        "    print(d1)\n",
        "\n",
        "\n",
        "    # defaultdict\n",
        "    d2 = defaultdict(list)\n",
        "    for key, value in pairs:\n",
        "        d2[key].append(value)\n",
        "    print(d2)\n",
        "\n",
        "if __name__ == \"__main__\":\n",
        "    defaultdict_example()"
      ],
      "execution_count": null,
      "outputs": [
        {
          "output_type": "stream",
          "text": [
            "{'b': [2], 'c': [3], 'a': [1]}\n",
            "defaultdict(<class 'list'>, {'b': [2], 'c': [3], 'a': [1]})\n"
          ],
          "name": "stdout"
        }
      ]
    },
    {
      "cell_type": "code",
      "metadata": {
        "colab": {
          "base_uri": "https://localhost:8080/"
        },
        "id": "1wQhp0jJTE1e",
        "outputId": "1c5f6109-33eb-405d-9557-138185f01e05"
      },
      "source": [
        "from collections import OrderedDict\n",
        "tasks = OrderedDict()\n",
        "tasks[8031] = \"백업\"\n",
        "tasks[4027] = \"이메일 스캔\"\n",
        "tasks[5733] = \"시스템 빌드\"\n",
        "tasks"
      ],
      "execution_count": null,
      "outputs": [
        {
          "output_type": "execute_result",
          "data": {
            "text/plain": [
              "OrderedDict([(8031, '백업'), (4027, '이메일 스캔'), (5733, '시스템 빌드')])"
            ]
          },
          "metadata": {
            "tags": []
          },
          "execution_count": 33
        }
      ]
    },
    {
      "cell_type": "markdown",
      "metadata": {
        "id": "1Iqa3D7dT58x"
      },
      "source": [
        "그럼 시간복잡도도 일반 딕셔너리랑 다른가?\n",
        "and 일반적으로 여러 번 순회 할것 같거나 항목의 삽입을 거의 수행하지 않을 것 같을 때 사용"
      ]
    },
    {
      "cell_type": "code",
      "metadata": {
        "colab": {
          "base_uri": "https://localhost:8080/"
        },
        "id": "afO-yyi1TgkL",
        "outputId": "f856dbf5-13cf-42d5-b3d8-01ff187a5a08"
      },
      "source": [
        "from collections import OrderedDict\n",
        "\n",
        "def orderedDict_example(): n\n",
        "    pairs = [(\"c\", 1), (\"b\", 2), (\"a\", 3)]\n",
        "\n",
        "    # 일반 딕셔너리\n",
        "    d1 = {}\n",
        "    for key, value in pairs:\n",
        "        if key not in d1:\n",
        "            d1[key] = []\n",
        "        d1[key].append(value)\n",
        "    for key in d1:\n",
        "        print(key, d1[key])\n",
        "\n",
        "    # OrderedDict\n",
        "    d2 = OrderedDict(pairs)\n",
        "    for key in d2:\n",
        "        print(key, d2[key])\n",
        "\n",
        "if __name__ == '__main__':\n",
        "    orderedDict_example()"
      ],
      "execution_count": null,
      "outputs": [
        {
          "output_type": "stream",
          "text": [
            "c [1]\n",
            "b [2]\n",
            "a [3]\n",
            "c 1\n",
            "b 2\n",
            "a 3\n"
          ],
          "name": "stdout"
        }
      ]
    },
    {
      "cell_type": "code",
      "metadata": {
        "colab": {
          "base_uri": "https://localhost:8080/"
        },
        "id": "w41QW2LJT9r2",
        "outputId": "c46ed306-85fe-4872-f80a-273fe2c81e8e"
      },
      "source": [
        "from collections import Counter\n",
        "\n",
        "def counter_example():\n",
        "    # 항목의 발생 횟수를 매핑하는 딕셔너리를 생성한다.\n",
        "    seq1 = [1, 2, 3, 5, 1, 2, 5, 5, 2, 5, 1, 4]\n",
        "    seq_counts = Counter(seq1)\n",
        "    print(seq_counts)\n",
        "\n",
        "    # 항목의 발생 횟수를 수동으로 갱신하거나, update() 메서드를 사용할 수 있다. \n",
        "    seq2 = [1, 2, 3]\n",
        "    seq_counts.update(seq2)\n",
        "    print(seq_counts)\n",
        "\n",
        "    seq3 = [1, 4, 3]\n",
        "    for key in seq3:\n",
        "        seq_counts[key] += 1\n",
        "    print(seq_counts)\n",
        "\n",
        "    # a+b, a-b 같은 셋 연산을 사용할 수 있다.\n",
        "    seq_counts_2 = Counter(seq3)\n",
        "    print(seq_counts_2)\n",
        "    print(seq_counts + seq_counts_2)\n",
        "    print(seq_counts - seq_counts_2)\n",
        "\n",
        "if __name__ == \"__main__\":\n",
        "    counter_example()"
      ],
      "execution_count": null,
      "outputs": [
        {
          "output_type": "stream",
          "text": [
            "Counter({5: 4, 1: 3, 2: 3, 3: 1, 4: 1})\n",
            "Counter({1: 4, 2: 4, 5: 4, 3: 2, 4: 1})\n",
            "Counter({1: 5, 2: 4, 5: 4, 3: 3, 4: 2})\n",
            "Counter({1: 1, 4: 1, 3: 1})\n",
            "Counter({1: 6, 2: 4, 3: 4, 5: 4, 4: 3})\n",
            "Counter({1: 4, 2: 4, 5: 4, 3: 2, 4: 1})\n"
          ],
          "name": "stdout"
        }
      ]
    },
    {
      "cell_type": "code",
      "metadata": {
        "colab": {
          "base_uri": "https://localhost:8080/"
        },
        "id": "uemlkvfzmEHC",
        "outputId": "cdb4f256-b418-4e89-d03b-68a6ed2d9502"
      },
      "source": [
        "from collections import Counter\n",
        "\n",
        "def find_top_N_recurring_words(seq, N):\n",
        "    dcounter = Counter()\n",
        "    for word in seq.split():\n",
        "        dcounter[word] += 1\n",
        "    return dcounter.most_common(N)\n",
        "\n",
        "def test_find_top_N_recurring_words():\n",
        "    seq = \"버피 에인절 몬스터 잰더 윌로 버피 몬스터 슈퍼 버피 에인절\"\n",
        "    N = 3\n",
        "    assert(find_top_N_recurring_words(seq, N) ==\n",
        "           [(\"버피\", 3), (\"에인절\", 2), (\"몬스터\", 2)])\n",
        "    print(\"테스트 통과!\")\n",
        "\n",
        "if __name__ == \"__main__\":\n",
        "    test_find_top_N_recurring_words()"
      ],
      "execution_count": null,
      "outputs": [
        {
          "output_type": "stream",
          "text": [
            "테스트 통과!\n"
          ],
          "name": "stdout"
        }
      ]
    },
    {
      "cell_type": "code",
      "metadata": {
        "colab": {
          "base_uri": "https://localhost:8080/"
        },
        "id": "BmTsjaUKo2rJ",
        "outputId": "de0ec0d8-2434-440c-b765-a9008f57c7f3"
      },
      "source": [
        "from collections import Counter\n",
        "\n",
        "def is_anagram(s1, s2):\n",
        "    counter = Counter()\n",
        "    for c in s1:\n",
        "        counter[c] += 1\n",
        "    for c in s2:\n",
        "        counter[c] -= 1\n",
        "    for i in counter.values():\n",
        "        if i:\n",
        "            return False\n",
        "    return True\n",
        "\n",
        "def test_is_anagram():\n",
        "    s1 = \"marina\"\n",
        "    s2 = \"aniram\"\n",
        "    assert(is_anagram(s1, s2) is True)\n",
        "    s1 = \"google\"\n",
        "    s2 = \"gouglo\"\n",
        "    assert(is_anagram(s1, s2) is False)\n",
        "    print(\"테스트 통과!\")\n",
        "\n",
        "if __name__ == \"__main__\":\n",
        "    test_is_anagram()"
      ],
      "execution_count": null,
      "outputs": [
        {
          "output_type": "stream",
          "text": [
            "테스트 통과!\n"
          ],
          "name": "stdout"
        }
      ]
    },
    {
      "cell_type": "markdown",
      "metadata": {
        "id": "HmSc1y9ItKNn"
      },
      "source": [
        "밑에꺼 다시 볼것!!"
      ]
    },
    {
      "cell_type": "code",
      "metadata": {
        "colab": {
          "base_uri": "https://localhost:8080/"
        },
        "id": "bFM2BmW4qrSK",
        "outputId": "6b0c4992-9a38-4acb-da0c-db3f4f77697c"
      },
      "source": [
        "import string\n",
        "\n",
        "def hash_func(astring):\n",
        "    s = 0\n",
        "    for one in astring:\n",
        "        if one in string.whitespace:\n",
        "            continue\n",
        "        s = s + ord(one)\n",
        "    return s\n",
        "\n",
        "def find_anagram_hash_function(word1, word2):\n",
        "    return hash_func(word1) == hash_func(word2)\n",
        "\n",
        "def test_find_anagram_hash_function():\n",
        "    word1 = \"buffy\"\n",
        "    word2 = \"bffyu\"\n",
        "    word3 = \"bffya\"\n",
        "    assert(find_anagram_hash_function(word1, word2) is True)\n",
        "    assert(find_anagram_hash_function(word1, word3) is False)\n",
        "    print(\"테스트 통과!\")\n",
        "\n",
        "if __name__ == \"__main__\":\n",
        "    test_find_anagram_hash_function()"
      ],
      "execution_count": null,
      "outputs": [
        {
          "output_type": "stream",
          "text": [
            "테스트 통과!\n"
          ],
          "name": "stdout"
        }
      ]
    },
    {
      "cell_type": "code",
      "metadata": {
        "id": "czRUBFZKs9Fv",
        "colab": {
          "base_uri": "https://localhost:8080/"
        },
        "outputId": "346416d6-8a3d-4d0e-a72f-717b8f6656ae"
      },
      "source": [
        "from collections import Counter, defaultdict\n",
        "\n",
        "def find_dice_probabilities(S, n_faces=6):\n",
        "    if S > 2 * n_faces or S < 2:\n",
        "        return None\n",
        "\n",
        "    cdict = Counter()\n",
        "    ddict = defaultdict(list)\n",
        "\n",
        "    # 두 주사위의 합을 모두 더해서 딕셔너리에 넣는다.\n",
        "    for dice1 in range(1, n_faces+1):\n",
        "        for dice2 in range(1, n_faces+1):\n",
        "            t = [dice1, dice2]\n",
        "            cdict[dice1+dice2] += 1\n",
        "            ddict[dice1+dice2].append(t)\n",
        "\n",
        "    return [cdict[S], ddict[S]]\n",
        "\n",
        "def test_find_dice_probabilities():\n",
        "    n_faces = 6\n",
        "    S = 5\n",
        "    results = find_dice_probabilities(S, n_faces)\n",
        "    print(results)\n",
        "    assert(results[0] == len(results[1]))\n",
        "    print(\"테스트 통과!\")\n",
        "\n",
        "if __name__ == \"__main__\":\n",
        "    test_find_dice_probabilities()"
      ],
      "execution_count": 7,
      "outputs": [
        {
          "output_type": "stream",
          "text": [
            "[4, [[1, 4], [2, 3], [3, 2], [4, 1]]]\n",
            "테스트 통과!\n"
          ],
          "name": "stdout"
        }
      ]
    },
    {
      "cell_type": "code",
      "metadata": {
        "colab": {
          "base_uri": "https://localhost:8080/"
        },
        "id": "77esUgABt_ew",
        "outputId": "14cce9b2-ab2f-4333-845a-fb96d8e4100a"
      },
      "source": [
        "import string\n",
        "def delete_unique_word(str1):\n",
        "    table_c = {key: 0 for key in string.ascii_lowercase}\n",
        "    for i in str1:\n",
        "        table_c[i] += 1\n",
        "    for key, value in table_c.items():\n",
        "        if value > 1:\n",
        "            str1 = str1.replace(key, \"\")\n",
        "    return str1\n",
        "\n",
        "def test_delete_unique_word():\n",
        "    str1 = \"google\"\n",
        "    assert(delete_unique_word(str1) == \"le\")\n",
        "    print(\"테스트 통과!\")\n",
        "\n",
        "if __name__ == \"__main__\":\n",
        "    test_delete_unique_word()"
      ],
      "execution_count": 10,
      "outputs": [
        {
          "output_type": "stream",
          "text": [
            "테스트 통과!\n"
          ],
          "name": "stdout"
        }
      ]
    },
    {
      "cell_type": "code",
      "metadata": {
        "id": "o3-Sf2bAx0Zz"
      },
      "source": [
        ""
      ],
      "execution_count": null,
      "outputs": []
    }
  ]
}