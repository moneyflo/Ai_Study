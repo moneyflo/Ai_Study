{
  "nbformat": 4,
  "nbformat_minor": 0,
  "metadata": {
    "colab": {
      "name": "chap2.ipynb",
      "provenance": [],
      "collapsed_sections": []
    },
    "kernelspec": {
      "name": "python3",
      "display_name": "Python 3"
    },
    "language_info": {
      "name": "python"
    }
  },
  "cells": [
    {
      "cell_type": "markdown",
      "metadata": {
        "id": "IkcqLBXVyJ2b"
      },
      "source": [
        "\n",
        "\n",
        "Chapter02 내장 시퀀스 타입\n"
      ]
    },
    {
      "cell_type": "code",
      "metadata": {
        "colab": {
          "base_uri": "https://localhost:8080/"
        },
        "id": "kfgS1V78rm9k",
        "outputId": "c45236ca-25e9-494e-d962-d4dfc4e5acba"
      },
      "source": [
        "l = []\n",
        "type(l) \n",
        "s = \"\"\n",
        "type(s)\n",
        "t = ()\n",
        "type(t)\n",
        "ba = bytearray(b\"\")\n",
        "type(ba)\n",
        "b = bytes([])\n",
        "type(b)"
      ],
      "execution_count": null,
      "outputs": [
        {
          "output_type": "execute_result",
          "data": {
            "text/plain": [
              "bytes"
            ]
          },
          "metadata": {
            "tags": []
          },
          "execution_count": 9
        }
      ]
    },
    {
      "cell_type": "code",
      "metadata": {
        "colab": {
          "base_uri": "https://localhost:8080/"
        },
        "id": "d6rHhetBsij-",
        "outputId": "d9c69b23-23e1-4e68-fdda-8914e99dcee5"
      },
      "source": [
        "myList = [1, 2, 3, 4]\n",
        "newList = myList[:]\n",
        "newList2 = list(myList)"
      ],
      "execution_count": null,
      "outputs": [
        {
          "output_type": "stream",
          "text": [
            "[1, 2, 3, 4]\n",
            "[1, 2, 3, 4]\n"
          ],
          "name": "stdout"
        }
      ]
    },
    {
      "cell_type": "code",
      "metadata": {
        "colab": {
          "base_uri": "https://localhost:8080/"
        },
        "id": "nqY0xFhIt7vg",
        "outputId": "b5a83759-3958-4182-f673-dd0384bc938f"
      },
      "source": [
        "people = {\"버피\", \"에인절\", \"자일스\"}\n",
        "slayers = people.copy()\n",
        "slayers.discard(\"자일스\")\n",
        "slayers.remove(\"에인절\")\n",
        "slayers\n",
        "people"
      ],
      "execution_count": null,
      "outputs": [
        {
          "output_type": "execute_result",
          "data": {
            "text/plain": [
              "{'버피', '에인절', '자일스'}"
            ]
          },
          "metadata": {
            "tags": []
          },
          "execution_count": 17
        }
      ]
    },
    {
      "cell_type": "code",
      "metadata": {
        "id": "YZuTtxoVutS1"
      },
      "source": [
        "myDict = {\"안녕\":\"세상\"}\n",
        "newDict = myDict.copy()"
      ],
      "execution_count": null,
      "outputs": []
    },
    {
      "cell_type": "code",
      "metadata": {
        "id": "70ptp7tMvVCC"
      },
      "source": [
        "import copy\n",
        "myObj = \"다른 어떤 객체\"\n",
        "newObj = copy.copy(myObj) # 얕은 복사\n",
        "newObj2 = copy.deepcopy(myObj) # 깊은 복사"
      ],
      "execution_count": null,
      "outputs": []
    },
    {
      "cell_type": "code",
      "metadata": {
        "colab": {
          "base_uri": "https://localhost:8080/",
          "height": 36
        },
        "id": "wjcyUGMPxAhP",
        "outputId": "17c1b675-71cd-48f9-c4c6-676dfd702ecd"
      },
      "source": [
        "word = \"뱀파이어를 조심해!\"\n",
        "word[-1]\n",
        "word[-2]\n",
        "word[-2:]\n",
        "word[:-2]\n",
        "word[-0]"
      ],
      "execution_count": null,
      "outputs": [
        {
          "output_type": "execute_result",
          "data": {
            "application/vnd.google.colaboratory.intrinsic+json": {
              "type": "string"
            },
            "text/plain": [
              "'뱀'"
            ]
          },
          "metadata": {
            "tags": []
          },
          "execution_count": 27
        }
      ]
    },
    {
      "cell_type": "code",
      "metadata": {
        "colab": {
          "base_uri": "https://localhost:8080/",
          "height": 36
        },
        "id": "5qTWIKVbxbIY",
        "outputId": "2c72e015-0d0b-4ce7-cdff-a54b9af98429"
      },
      "source": [
        "u'잘가\\u0020세상 !'"
      ],
      "execution_count": null,
      "outputs": [
        {
          "output_type": "execute_result",
          "data": {
            "application/vnd.google.colaboratory.intrinsic+json": {
              "type": "string"
            },
            "text/plain": [
              "'잘가 세상 !'"
            ]
          },
          "metadata": {
            "tags": []
          },
          "execution_count": 29
        }
      ]
    },
    {
      "cell_type": "code",
      "metadata": {
        "colab": {
          "base_uri": "https://localhost:8080/",
          "height": 36
        },
        "id": "zIVcSrr5zUw-",
        "outputId": "16830003-a08d-43a2-d67b-e249a5789000"
      },
      "source": [
        "slayer = [\"버피\", \"앤\", \"아스틴\"]\n",
        "\" \".join(slayer)\n",
        "\"-<>-\".join(slayer)\n",
        "\"\".join(slayer)"
      ],
      "execution_count": null,
      "outputs": [
        {
          "output_type": "execute_result",
          "data": {
            "application/vnd.google.colaboratory.intrinsic+json": {
              "type": "string"
            },
            "text/plain": [
              "'버피앤아스틴'"
            ]
          },
          "metadata": {
            "tags": []
          },
          "execution_count": 35
        }
      ]
    },
    {
      "cell_type": "code",
      "metadata": {
        "colab": {
          "base_uri": "https://localhost:8080/",
          "height": 36
        },
        "id": "0EKlfY2u0G18",
        "outputId": "dab3bca6-fbc5-4468-9b12-43c82dfeb3d8"
      },
      "source": [
        "\"\".join(reversed(slayer))"
      ],
      "execution_count": null,
      "outputs": [
        {
          "output_type": "execute_result",
          "data": {
            "application/vnd.google.colaboratory.intrinsic+json": {
              "type": "string"
            },
            "text/plain": [
              "'아스틴앤버피'"
            ]
          },
          "metadata": {
            "tags": []
          },
          "execution_count": 37
        }
      ]
    },
    {
      "cell_type": "code",
      "metadata": {
        "colab": {
          "base_uri": "https://localhost:8080/",
          "height": 36
        },
        "id": "6E0mJ08-0MDn",
        "outputId": "e58f745e-2e76-43a3-a556-8e3540312d12"
      },
      "source": [
        "name = \"스칼렛\"\n",
        "name.ljust(50, '-')\n",
        "name.rjust(50, '-')"
      ],
      "execution_count": null,
      "outputs": [
        {
          "output_type": "execute_result",
          "data": {
            "application/vnd.google.colaboratory.intrinsic+json": {
              "type": "string"
            },
            "text/plain": [
              "'-----------------------------------------------스칼렛'"
            ]
          },
          "metadata": {
            "tags": []
          },
          "execution_count": 40
        }
      ]
    },
    {
      "cell_type": "code",
      "metadata": {
        "colab": {
          "base_uri": "https://localhost:8080/",
          "height": 36
        },
        "id": "CO6o3EHJ0iVF",
        "outputId": "3b6d516d-2373-49ae-88b6-5592c1ab2570"
      },
      "source": [
        "# format()\n",
        "\"{0} {1}\".format(\"안녕,\", \"파이썬!\")\n",
        "\"이름: {who}, 나이: {age}\".format(who=\"제임스\", age=17)\n",
        "\"이름: {who}, 나이: {0}\".format(12, who = \"에이미\")"
      ],
      "execution_count": null,
      "outputs": [
        {
          "output_type": "execute_result",
          "data": {
            "application/vnd.google.colaboratory.intrinsic+json": {
              "type": "string"
            },
            "text/plain": [
              "'이름: 에이미, 나이: 12'"
            ]
          },
          "metadata": {
            "tags": []
          },
          "execution_count": 44
        }
      ]
    },
    {
      "cell_type": "code",
      "metadata": {
        "colab": {
          "base_uri": "https://localhost:8080/",
          "height": 36
        },
        "id": "AH4LGUNY1aFH",
        "outputId": "150e93ab-d9da-4551-96db-ed427f9587f1"
      },
      "source": [
        "\"{} {} {}\".format(\"파이썬\", \"자료구조\", \"알고리즘\")"
      ],
      "execution_count": null,
      "outputs": [
        {
          "output_type": "execute_result",
          "data": {
            "application/vnd.google.colaboratory.intrinsic+json": {
              "type": "string"
            },
            "text/plain": [
              "'파이썬 자료구조 알고리즘'"
            ]
          },
          "metadata": {
            "tags": []
          },
          "execution_count": 46
        }
      ]
    },
    {
      "cell_type": "code",
      "metadata": {
        "colab": {
          "base_uri": "https://localhost:8080/",
          "height": 36
        },
        "id": "PI7ikKBk19SI",
        "outputId": "172755b6-a575-4ea0-82d6-49caa9b90d84"
      },
      "source": [
        "import decimal\n",
        "\"{0} {0!s} {0!r} {0!a}\".format(decimal.Decimal(\"99.9\"))"
      ],
      "execution_count": null,
      "outputs": [
        {
          "output_type": "execute_result",
          "data": {
            "application/vnd.google.colaboratory.intrinsic+json": {
              "type": "string"
            },
            "text/plain": [
              "\"99.9 99.9 Decimal('99.9') Decimal('99.9')\""
            ]
          },
          "metadata": {
            "tags": []
          },
          "execution_count": 48
        }
      ]
    },
    {
      "cell_type": "code",
      "metadata": {
        "colab": {
          "base_uri": "https://localhost:8080/",
          "height": 36
        },
        "id": "QBBtaU4K21M3",
        "outputId": "48c87f6e-e7b7-49d4-833b-52b0ce48f59b"
      },
      "source": [
        "hero = \"버피\"\n",
        "number = 999\n",
        "\"{number}: {hero}\".format(**locals())"
      ],
      "execution_count": null,
      "outputs": [
        {
          "output_type": "execute_result",
          "data": {
            "application/vnd.google.colaboratory.intrinsic+json": {
              "type": "string"
            },
            "text/plain": [
              "'999: 버피'"
            ]
          },
          "metadata": {
            "tags": []
          },
          "execution_count": 50
        }
      ]
    },
    {
      "cell_type": "code",
      "metadata": {
        "colab": {
          "base_uri": "https://localhost:8080/"
        },
        "id": "u5i67Wnp3Pm2",
        "outputId": "3759e92b-c7dc-4831-b5c2-6ea5bbf4a52c"
      },
      "source": [
        "slayers = \"로미오\\n줄리엣\"\n",
        "slayers.splitlines()"
      ],
      "execution_count": null,
      "outputs": [
        {
          "output_type": "execute_result",
          "data": {
            "text/plain": [
              "['로미오', '줄리엣']"
            ]
          },
          "metadata": {
            "tags": []
          },
          "execution_count": 54
        }
      ]
    },
    {
      "cell_type": "code",
      "metadata": {
        "colab": {
          "base_uri": "https://localhost:8080/"
        },
        "id": "67YULkgQ3hpG",
        "outputId": "5a3dabf9-f4ba-4dd0-8272-0d8537d88e53"
      },
      "source": [
        "slayers = \"버피*크리스-메리*16\"\n",
        "fields = slayers.split(\"*\")\n",
        "fields\n",
        "job = fields[1].split(\"-\")\n",
        "job"
      ],
      "execution_count": null,
      "outputs": [
        {
          "output_type": "execute_result",
          "data": {
            "text/plain": [
              "['크리스', '메리']"
            ]
          },
          "metadata": {
            "tags": []
          },
          "execution_count": 58
        }
      ]
    },
    {
      "cell_type": "code",
      "metadata": {
        "colab": {
          "base_uri": "https://localhost:8080/",
          "height": 36
        },
        "id": "2Y39OO7r38ku",
        "outputId": "d6ea538c-fbfa-4187-8dd8-8130fc62e33e"
      },
      "source": [
        "def erase_space_from_string(string):\n",
        "  s1 = string.split()\n",
        "  s2 = \"\".join(s1)\n",
        "  return s2\n",
        "\n",
        "erase_space_from_string(\"안녀 하세요 저는 김떙 땡 입 ㅣㄴ 다\")"
      ],
      "execution_count": null,
      "outputs": [
        {
          "output_type": "execute_result",
          "data": {
            "application/vnd.google.colaboratory.intrinsic+json": {
              "type": "string"
            },
            "text/plain": [
              "'안녀하세요저는김떙땡입ㅣㄴ다'"
            ]
          },
          "metadata": {
            "tags": []
          },
          "execution_count": 60
        }
      ]
    },
    {
      "cell_type": "code",
      "metadata": {
        "colab": {
          "base_uri": "https://localhost:8080/"
        },
        "id": "avmxCqqh4e68",
        "outputId": "c80bd99a-776b-4f57-80cf-7c493fc02c46"
      },
      "source": [
        "start = \"안녕*세상*!\"\n",
        "start.split(\"*\", 1)\n",
        "start.rsplit(\"*\", 1)"
      ],
      "execution_count": null,
      "outputs": [
        {
          "output_type": "execute_result",
          "data": {
            "text/plain": [
              "['안녕*세상', '!']"
            ]
          },
          "metadata": {
            "tags": []
          },
          "execution_count": 64
        }
      ]
    },
    {
      "cell_type": "code",
      "metadata": {
        "colab": {
          "base_uri": "https://localhost:8080/",
          "height": 36
        },
        "id": "fwPK7F5H4_2I",
        "outputId": "66902acb-f90a-4c0b-fe1f-4258571bbfd3"
      },
      "source": [
        "slayers = \"로미오 & 줄리엣999\"\n",
        "slayers.strip(\"999\")"
      ],
      "execution_count": null,
      "outputs": [
        {
          "output_type": "execute_result",
          "data": {
            "application/vnd.google.colaboratory.intrinsic+json": {
              "type": "string"
            },
            "text/plain": [
              "'로미오 & 줄리엣'"
            ]
          },
          "metadata": {
            "tags": []
          },
          "execution_count": 65
        }
      ]
    },
    {
      "cell_type": "code",
      "metadata": {
        "colab": {
          "base_uri": "https://localhost:8080/"
        },
        "id": "S2heHazL5LP7",
        "outputId": "1199f534-f39d-40ed-b11d-7bbdf39de4dc"
      },
      "source": [
        "import string\n",
        "import sys\n",
        "\n",
        "def count_unique_word():\n",
        "  words = {}\n",
        "  strip = string.whitespace + string.punctuation + string.digits + \"\\\"'\"\n",
        "  for filename in sys.argv[2:]:\n",
        "    with open(filename) as file:\n",
        "      for line in file:\n",
        "        for word in line.lower().split():\n",
        "          word = word.strip(strip)\n",
        "          if len(word) > 2:\n",
        "            words[word] = words.get(word,0) + 1\n",
        "\n",
        "  for word in sorted(words):\n",
        "    print(\"{0}: {1}번\".format(word, words[word]))\n",
        "\n",
        "if __name__ == \"__main__\":\n",
        "  count_unique_word()"
      ],
      "execution_count": null,
      "outputs": [
        {
          "output_type": "stream",
          "text": [
            "control_port: 1번\n",
            "hb_port: 1번\n",
            "hmac-sha: 1번\n",
            "iopub_port: 1번\n",
            "kernel_name: 1번\n",
            "key: 1번\n",
            "shell_port: 1번\n",
            "signature_scheme: 1번\n",
            "stdin_port: 1번\n",
            "tcp: 1번\n",
            "transport: 1번\n"
          ],
          "name": "stdout"
        }
      ]
    },
    {
      "cell_type": "code",
      "metadata": {
        "colab": {
          "base_uri": "https://localhost:8080/",
          "height": 36
        },
        "id": "C7E-HErt76fp",
        "outputId": "7c830c19-efee-4cfb-c134-8ab19eb93d4b"
      },
      "source": [
        "slayers = \"Buffy and Faith\"\n",
        "slayers.swapcase()"
      ],
      "execution_count": null,
      "outputs": [
        {
          "output_type": "execute_result",
          "data": {
            "application/vnd.google.colaboratory.intrinsic+json": {
              "type": "string"
            },
            "text/plain": [
              "'bUFFY AND fAITH'"
            ]
          },
          "metadata": {
            "tags": []
          },
          "execution_count": 72
        }
      ]
    },
    {
      "cell_type": "code",
      "metadata": {
        "colab": {
          "base_uri": "https://localhost:8080/"
        },
        "id": "AUzQpCSH_-OZ",
        "outputId": "71c816cb-03b2-40ee-961e-13695d720c58"
      },
      "source": [
        "slayers = \"Buffy and Faith\"\n",
        "slayers.find(\"y\")\n",
        "slayers.find(\"k\")\n",
        "#slayers.index(\"k\")\n",
        "slayers.index(\"y\")"
      ],
      "execution_count": null,
      "outputs": [
        {
          "output_type": "execute_result",
          "data": {
            "text/plain": [
              "4"
            ]
          },
          "metadata": {
            "tags": []
          },
          "execution_count": 78
        }
      ]
    },
    {
      "cell_type": "code",
      "metadata": {
        "colab": {
          "base_uri": "https://localhost:8080/"
        },
        "id": "fBr42px2AkOn",
        "outputId": "45c40b84-0136-40a8-8fca-9880b4a78d46"
      },
      "source": [
        "slayer = \"Buffy is Buffy is Buffy\"\n",
        "slayer.count(\"Buffy\", 0, -1)\n",
        "slayer.count(\"Buffy\")"
      ],
      "execution_count": null,
      "outputs": [
        {
          "output_type": "execute_result",
          "data": {
            "text/plain": [
              "3"
            ]
          },
          "metadata": {
            "tags": []
          },
          "execution_count": 82
        }
      ]
    },
    {
      "cell_type": "code",
      "metadata": {
        "colab": {
          "base_uri": "https://localhost:8080/",
          "height": 36
        },
        "id": "LXGVQJKcCIoz",
        "outputId": "2ddf37ab-ac46-48e1-c54f-5a0cbfa6c81e"
      },
      "source": [
        "slayer = \"Buffy is Buffy is Buffy\"\n",
        "slayer.replace(\"Buffy\", \"who\", 2)"
      ],
      "execution_count": null,
      "outputs": [
        {
          "output_type": "execute_result",
          "data": {
            "application/vnd.google.colaboratory.intrinsic+json": {
              "type": "string"
            },
            "text/plain": [
              "'who is who is Buffy'"
            ]
          },
          "metadata": {
            "tags": []
          },
          "execution_count": 84
        }
      ]
    },
    {
      "cell_type": "code",
      "metadata": {
        "colab": {
          "base_uri": "https://localhost:8080/",
          "height": 36
        },
        "id": "xJzbcUq0CUbZ",
        "outputId": "3be70d86-e467-4b24-939e-08b26c889823"
      },
      "source": [
        "name = \"프레드\"\n",
        "f\"그의 이름은 {name}입니다.\"\n",
        "f\"그의 이름은 {repr(name)}입니다.\"    # repr()은 !r과 같다.\n",
        "import decimal\n",
        "width = 10\n",
        "precision = 4\n",
        "value = decimal.Decimal(\"12.34567\")\n",
        "f\"결과: {value:{width}.{precision}}\"\n",
        "from datetime import datetime\n",
        "\n",
        "today = datetime(year=2017, month=1, day=27)\n",
        "f\"{today:%B %d, %Y}\"\n",
        "number = 1024\n",
        "f\"{number:#0x}\""
      ],
      "execution_count": null,
      "outputs": [
        {
          "output_type": "execute_result",
          "data": {
            "application/vnd.google.colaboratory.intrinsic+json": {
              "type": "string"
            },
            "text/plain": [
              "'0x400'"
            ]
          },
          "metadata": {
            "tags": []
          },
          "execution_count": 92
        }
      ]
    },
    {
      "cell_type": "code",
      "metadata": {
        "colab": {
          "base_uri": "https://localhost:8080/"
        },
        "id": "R3v6jnSBFHjg",
        "outputId": "caaccafc-a71a-4373-bdc5-3da1df536e28"
      },
      "source": [
        "t1 = 1234, '안녕!'\n",
        "print(t1[0])\n",
        "t1\n",
        "t2 = t1, (1, 2, 3, 4, 5)\n",
        "t2"
      ],
      "execution_count": null,
      "outputs": [
        {
          "output_type": "stream",
          "text": [
            "1234\n"
          ],
          "name": "stdout"
        },
        {
          "output_type": "execute_result",
          "data": {
            "text/plain": [
              "((1234, '안녕!'), (1, 2, 3, 4, 5))"
            ]
          },
          "metadata": {
            "tags": []
          },
          "execution_count": 96
        }
      ]
    },
    {
      "cell_type": "code",
      "metadata": {
        "colab": {
          "base_uri": "https://localhost:8080/",
          "height": 36
        },
        "id": "EScsUYZxFLEl",
        "outputId": "1b949e08-29a4-4e46-f6c2-7031f37b8b3a"
      },
      "source": [
        "empty = ()\n",
        "t1 = '안녕',\n",
        "len(empty)\n",
        "len(t1)\n",
        "t1\n",
        "t2 = ('안녕')\n",
        "t2"
      ],
      "execution_count": null,
      "outputs": [
        {
          "output_type": "execute_result",
          "data": {
            "application/vnd.google.colaboratory.intrinsic+json": {
              "type": "string"
            },
            "text/plain": [
              "'안녕'"
            ]
          },
          "metadata": {
            "tags": []
          },
          "execution_count": 107
        }
      ]
    },
    {
      "cell_type": "code",
      "metadata": {
        "colab": {
          "base_uri": "https://localhost:8080/"
        },
        "id": "AZ3DyPeCF7br",
        "outputId": "da1f3ca0-356f-4899-b886-46ea5129f8ee"
      },
      "source": [
        "t = 1, 5, 7, 8, 9, 4, 1, 4\n",
        "t.count(4)"
      ],
      "execution_count": null,
      "outputs": [
        {
          "output_type": "execute_result",
          "data": {
            "text/plain": [
              "2"
            ]
          },
          "metadata": {
            "tags": []
          },
          "execution_count": 109
        }
      ]
    },
    {
      "cell_type": "code",
      "metadata": {
        "colab": {
          "base_uri": "https://localhost:8080/"
        },
        "id": "qlC32i81Gdt3",
        "outputId": "acee3cf2-8b4f-43e7-965c-1fd959a54399"
      },
      "source": [
        "t = 1, 5, 7\n",
        "t.index(5)"
      ],
      "execution_count": null,
      "outputs": [
        {
          "output_type": "execute_result",
          "data": {
            "text/plain": [
              "1"
            ]
          },
          "metadata": {
            "tags": []
          },
          "execution_count": 111
        }
      ]
    },
    {
      "cell_type": "code",
      "metadata": {
        "colab": {
          "base_uri": "https://localhost:8080/"
        },
        "id": "G0t1JMYvGn0O",
        "outputId": "0f029503-521a-44b8-a8e5-1e9f1237bf12"
      },
      "source": [
        "x, *y = (1, 2, 3, 4)\n",
        "x\n",
        "y\n",
        "*x, y = (1, 2, 3, 4)\n",
        "x\n",
        "y"
      ],
      "execution_count": null,
      "outputs": [
        {
          "output_type": "execute_result",
          "data": {
            "text/plain": [
              "4"
            ]
          },
          "metadata": {
            "tags": []
          },
          "execution_count": 115
        }
      ]
    },
    {
      "cell_type": "code",
      "metadata": {
        "colab": {
          "base_uri": "https://localhost:8080/",
          "height": 36
        },
        "id": "yQ9s2VAqHkpy",
        "outputId": "358a72da-e2a4-4772-cf49-9546ba17de57"
      },
      "source": [
        "import collections\n",
        "Person = collections.namedtuple('Person', 'name age gender')\n",
        "p = Person('아스틴', age=30, gender='남자')\n",
        "p\n",
        "p[0]\n",
        "p.name\n",
        "# p.age = 20 # 불변형이라 안댐"
      ],
      "execution_count": null,
      "outputs": [
        {
          "output_type": "execute_result",
          "data": {
            "application/vnd.google.colaboratory.intrinsic+json": {
              "type": "string"
            },
            "text/plain": [
              "'아스틴'"
            ]
          },
          "metadata": {
            "tags": []
          },
          "execution_count": 121
        }
      ]
    },
    {
      "cell_type": "markdown",
      "metadata": {
        "id": "OmhnJZCGJV_i"
      },
      "source": [
        "2.4 리스트"
      ]
    },
    {
      "cell_type": "code",
      "metadata": {
        "colab": {
          "base_uri": "https://localhost:8080/"
        },
        "id": "NPo3IqoKJURA",
        "outputId": "4473c108-91cf-4d47-fc26-ea8fe480d6fd"
      },
      "source": [
        "q = [2, 3]\n",
        "p = [1, q, 4]\n",
        "p[1].append(\"버피\")\n",
        "p\n",
        "q"
      ],
      "execution_count": null,
      "outputs": [
        {
          "output_type": "execute_result",
          "data": {
            "text/plain": [
              "[2, 3, '버피']"
            ]
          },
          "metadata": {
            "tags": []
          },
          "execution_count": 124
        }
      ]
    },
    {
      "cell_type": "code",
      "metadata": {
        "colab": {
          "base_uri": "https://localhost:8080/"
        },
        "id": "_rjVdL0yLVLj",
        "outputId": "df92ad80-ccac-4f52-89fd-63ee3a1254af"
      },
      "source": [
        "people = [\"버피\", \"페이스\"]\n",
        "people.append(\"자일스\")\n",
        "people\n",
        "people[len(people):] = [\"잰더\"]\n",
        "people"
      ],
      "execution_count": null,
      "outputs": [
        {
          "output_type": "execute_result",
          "data": {
            "text/plain": [
              "['버피', '페이스', '자일스', '잰더']"
            ]
          },
          "metadata": {
            "tags": []
          },
          "execution_count": 128
        }
      ]
    },
    {
      "cell_type": "code",
      "metadata": {
        "colab": {
          "base_uri": "https://localhost:8080/"
        },
        "id": "jrYa8FK2M0RB",
        "outputId": "db3ef5dd-1153-4753-f220-2093d36bcf40"
      },
      "source": [
        "people = [\"버피\", \"페이스\"]\n",
        "people.extend(\"자일스\")\n",
        "people\n",
        "people += \"윌로\"\n",
        "people\n",
        "people += [\"잰더\"]\n",
        "people\n",
        "people[len(people):] = \"아스틴\"\n",
        "people"
      ],
      "execution_count": null,
      "outputs": [
        {
          "output_type": "execute_result",
          "data": {
            "text/plain": [
              "['버피', '페이스', '자', '일', '스', '윌', '로', '잰더', '아', '스', '틴']"
            ]
          },
          "metadata": {
            "tags": []
          },
          "execution_count": 133
        }
      ]
    },
    {
      "cell_type": "code",
      "metadata": {
        "colab": {
          "base_uri": "https://localhost:8080/"
        },
        "id": "FZ_yqo5KNWeu",
        "outputId": "3ce44748-bb60-49a6-cb60-adacdfc5ff28"
      },
      "source": [
        "people = [\"버피\", \"페이스\"]\n",
        "people.insert(1, \"잰더\")\n",
        "people"
      ],
      "execution_count": null,
      "outputs": [
        {
          "output_type": "execute_result",
          "data": {
            "text/plain": [
              "['버피', '잰더', '페이스']"
            ]
          },
          "metadata": {
            "tags": []
          },
          "execution_count": 135
        }
      ]
    },
    {
      "cell_type": "code",
      "metadata": {
        "colab": {
          "base_uri": "https://localhost:8080/"
        },
        "id": "qFvoOhe-Nsl-",
        "outputId": "0da68966-22a6-4569-d84f-02d4c0551a82"
      },
      "source": [
        "people = [\"버피\", \"페이스\"]\n",
        "people.remove(\"버피\")\n",
        "people\n",
        "#people.remove(\"버피\")"
      ],
      "execution_count": null,
      "outputs": [
        {
          "output_type": "execute_result",
          "data": {
            "text/plain": [
              "['페이스']"
            ]
          },
          "metadata": {
            "tags": []
          },
          "execution_count": 139
        }
      ]
    },
    {
      "cell_type": "code",
      "metadata": {
        "colab": {
          "base_uri": "https://localhost:8080/"
        },
        "id": "Q4MZzx9hOBtJ",
        "outputId": "d811dc86-3ade-43b8-fbb0-c7264c403242"
      },
      "source": [
        "people = [\"버피\", \"페이스\", \"아스틴\"]\n",
        "people.pop(1)\n",
        "people\n",
        "people.pop()\n",
        "people"
      ],
      "execution_count": null,
      "outputs": [
        {
          "output_type": "execute_result",
          "data": {
            "text/plain": [
              "['버피']"
            ]
          },
          "metadata": {
            "tags": []
          },
          "execution_count": 1
        }
      ]
    },
    {
      "cell_type": "code",
      "metadata": {
        "colab": {
          "base_uri": "https://localhost:8080/",
          "height": 213
        },
        "id": "KJ_RXbKiB1Hn",
        "outputId": "02897104-0153-4db5-b103-a5190f060055"
      },
      "source": [
        "a = [-1, 4, 5, 7, 10]\n",
        "del a[0]\n",
        "a\n",
        "del a[2:3]\n",
        "a\n",
        "del a\n",
        "a"
      ],
      "execution_count": null,
      "outputs": [
        {
          "output_type": "error",
          "ename": "NameError",
          "evalue": "ignored",
          "traceback": [
            "\u001b[0;31m---------------------------------------------------------------------------\u001b[0m",
            "\u001b[0;31mNameError\u001b[0m                                 Traceback (most recent call last)",
            "\u001b[0;32m<ipython-input-8-a801121f287b>\u001b[0m in \u001b[0;36m<module>\u001b[0;34m()\u001b[0m\n\u001b[1;32m      5\u001b[0m \u001b[0ma\u001b[0m\u001b[0;34m\u001b[0m\u001b[0;34m\u001b[0m\u001b[0m\n\u001b[1;32m      6\u001b[0m \u001b[0;32mdel\u001b[0m \u001b[0ma\u001b[0m\u001b[0;34m\u001b[0m\u001b[0;34m\u001b[0m\u001b[0m\n\u001b[0;32m----> 7\u001b[0;31m \u001b[0ma\u001b[0m\u001b[0;34m\u001b[0m\u001b[0;34m\u001b[0m\u001b[0m\n\u001b[0m",
            "\u001b[0;31mNameError\u001b[0m: name 'a' is not defined"
          ]
        }
      ]
    },
    {
      "cell_type": "code",
      "metadata": {
        "colab": {
          "base_uri": "https://localhost:8080/"
        },
        "id": "BPh8iXkRCH-l",
        "outputId": "609e626e-7ba0-4002-88ac-4573750dc84a"
      },
      "source": [
        "people = [\"버피\", \"페이스\"]\n",
        "people.index(\"버피\")\n"
      ],
      "execution_count": null,
      "outputs": [
        {
          "output_type": "execute_result",
          "data": {
            "text/plain": [
              "0"
            ]
          },
          "metadata": {
            "tags": []
          },
          "execution_count": 10
        }
      ]
    },
    {
      "cell_type": "code",
      "metadata": {
        "colab": {
          "base_uri": "https://localhost:8080/"
        },
        "id": "MX6mDoyYD2g1",
        "outputId": "2a223e0b-d78b-4279-ead6-c8444cfdd5d5"
      },
      "source": [
        "people = [\"버피\", \"페이스\", \"버피\"]\n",
        "people.count(\"버피\")"
      ],
      "execution_count": null,
      "outputs": [
        {
          "output_type": "execute_result",
          "data": {
            "text/plain": [
              "2"
            ]
          },
          "metadata": {
            "tags": []
          },
          "execution_count": 11
        }
      ]
    },
    {
      "cell_type": "code",
      "metadata": {
        "colab": {
          "base_uri": "https://localhost:8080/"
        },
        "id": "9w6y-ntuD-2N",
        "outputId": "254504d8-69f3-4adf-8e5d-931c162080c3"
      },
      "source": [
        "people = [\"잰더\", \"페이스\", \"버피\"]\n",
        "people.sort()\n",
        "people\n",
        "people.sort(reverse=True)\n",
        "people"
      ],
      "execution_count": null,
      "outputs": [
        {
          "output_type": "execute_result",
          "data": {
            "text/plain": [
              "['페이스', '잰더', '버피']"
            ]
          },
          "metadata": {
            "tags": []
          },
          "execution_count": 14
        }
      ]
    },
    {
      "cell_type": "code",
      "metadata": {
        "colab": {
          "base_uri": "https://localhost:8080/"
        },
        "id": "p7f6MgyrEmq3",
        "outputId": "dff7f6e7-9658-447f-bde1-6fd281d298e5"
      },
      "source": [
        "import time\n",
        "timestamp = [\n",
        "             \"2018-12-12 01:17:31\",\n",
        "             \"2018-12-12 02:17:28\",\n",
        "             \"2018-12-12 06:39:26\",\n",
        "             \"2018-11-25 07:30:35\",\n",
        "             \"2018-11-25 11:32:33\",\n",
        "             \"2018-11-25 12:35:48\"\n",
        "]\n",
        "\n",
        "def time_format(t):\n",
        "  return time.strptime(t, '%Y-%m-%d %H:%M:%S')[0:6]\n",
        "\n",
        "timestamp.sort(key=time_format, reverse=True)\n",
        "print(timestamp)\n",
        "timestamp.sort(key=lambda x: time.strptime(x, '%Y-%m-%d %H:%M:%S')[0:6], reverse=True)\n",
        "print(timestamp)\n"
      ],
      "execution_count": null,
      "outputs": [
        {
          "output_type": "stream",
          "text": [
            "['2018-12-12 06:39:26', '2018-12-12 02:17:28', '2018-12-12 01:17:31', '2018-11-25 12:35:48', '2018-11-25 11:32:33', '2018-11-25 07:30:35']\n",
            "['2018-12-12 06:39:26', '2018-12-12 02:17:28', '2018-12-12 01:17:31', '2018-11-25 12:35:48', '2018-11-25 11:32:33', '2018-11-25 07:30:35']\n"
          ],
          "name": "stdout"
        }
      ]
    },
    {
      "cell_type": "code",
      "metadata": {
        "colab": {
          "base_uri": "https://localhost:8080/"
        },
        "id": "nMRl0N3_Ffvu",
        "outputId": "c7901d35-6492-4e39-b7cd-43989f0c7f2b"
      },
      "source": [
        "people = [\"잰더\", \"페이스\", \"버피\"]\n",
        "people.reverse()\n",
        "people\n",
        "people[::-1]"
      ],
      "execution_count": null,
      "outputs": [
        {
          "output_type": "execute_result",
          "data": {
            "text/plain": [
              "['잰더', '페이스', '버피']"
            ]
          },
          "metadata": {
            "tags": []
          },
          "execution_count": 35
        }
      ]
    },
    {
      "cell_type": "code",
      "metadata": {
        "colab": {
          "base_uri": "https://localhost:8080/"
        },
        "id": "fDvBMXg_LUMU",
        "outputId": "5581a1ef-11ab-4b6f-ffe7-633c98f766f7"
      },
      "source": [
        "first, *rest = [1, 2, 3, 4, 5]\n",
        "first\n",
        "rest"
      ],
      "execution_count": null,
      "outputs": [
        {
          "output_type": "execute_result",
          "data": {
            "text/plain": [
              "[2, 3, 4, 5]"
            ]
          },
          "metadata": {
            "tags": []
          },
          "execution_count": 37
        }
      ]
    },
    {
      "cell_type": "code",
      "metadata": {
        "colab": {
          "base_uri": "https://localhost:8080/"
        },
        "id": "ZWzosrB5LmM5",
        "outputId": "85125c7a-eb94-46e7-eef8-00660c11a842"
      },
      "source": [
        "def example_args(a, b, c):\n",
        "  return a*b*c\n",
        "L = [2, 3, 4]\n",
        "example_args(*L)\n",
        "example_args(2, *L[1:])"
      ],
      "execution_count": null,
      "outputs": [
        {
          "output_type": "execute_result",
          "data": {
            "text/plain": [
              "24"
            ]
          },
          "metadata": {
            "tags": []
          },
          "execution_count": 42
        }
      ]
    },
    {
      "cell_type": "code",
      "metadata": {
        "colab": {
          "base_uri": "https://localhost:8080/"
        },
        "id": "y2881pAvMMbg",
        "outputId": "f038d1f6-8462-440a-ae3b-1166e07cbecf"
      },
      "source": [
        "a = [y for y in range(1900, 1940) if y%4 == 0]\n",
        "a\n",
        "b = [2**i for i in range(13)]\n",
        "b\n",
        "c = [x for x in a if x%2==0]\n",
        "c\n",
        "d = [str(round(355/113.0,i)) for i in range(1,6)]\n",
        "d\n",
        "words = 'Buffy is awesome and a vampire slayer'.split()\n",
        "e = [[w.upper(), w.lower(), len(w)] for w in words]\n",
        "for i in e:\n",
        "  print(i)"
      ],
      "execution_count": null,
      "outputs": [
        {
          "output_type": "stream",
          "text": [
            "['BUFFY', 'buffy', 5]\n",
            "['IS', 'is', 2]\n",
            "['AWESOME', 'awesome', 7]\n",
            "['AND', 'and', 3]\n",
            "['A', 'a', 1]\n",
            "['VAMPIRE', 'vampire', 7]\n",
            "['SLAYER', 'slayer', 6]\n"
          ],
          "name": "stdout"
        }
      ]
    },
    {
      "cell_type": "markdown",
      "metadata": {
        "id": "Plkf5ZEXQgbo"
      },
      "source": [
        "2.4.3 리스트 컴프리헨션\n",
        "\n",
        "  yield 쓰는 이유 무엇?\n",
        "  안됨"
      ]
    },
    {
      "cell_type": "code",
      "metadata": {
        "colab": {
          "base_uri": "https://localhost:8080/",
          "height": 139
        },
        "id": "lWB5bvQBOUOu",
        "outputId": "b66815b9-b0a9-40bf-9b51-0f41e343ca5f"
      },
      "source": [
        "result = []\n",
        "for x in range(10):\n",
        "  for y in range(10):\n",
        "    if x*y > 10:\n",
        "      result.append((x,y))\n",
        "\n",
        "for x in range(5):\n",
        "  for y in range(5):\n",
        "    if x != y:\n",
        "      for z in range(5):\n",
        "        if y != z:\n",
        "          yield (x, y, z)\n",
        "\n",
        "return ((x, complicated_transform(x))\n",
        "        for x in long_generator_function(parameter)\n",
        "        if x is not None)\n",
        "\n",
        "squares = [x*x for x in range(10)]\n",
        "\n",
        "eat(jelly_bean for jelly_bean in jelly_beans\n",
        "    if jelly_bean.color == 'black')"
      ],
      "execution_count": null,
      "outputs": [
        {
          "output_type": "error",
          "ename": "SyntaxError",
          "evalue": "ignored",
          "traceback": [
            "\u001b[0;36m  File \u001b[0;32m\"<ipython-input-54-aa307929b3a5>\"\u001b[0;36m, line \u001b[0;32m12\u001b[0m\n\u001b[0;31m    yield (x, y, z)\u001b[0m\n\u001b[0m    ^\u001b[0m\n\u001b[0;31mSyntaxError\u001b[0m\u001b[0;31m:\u001b[0m 'yield' outside function\n"
          ]
        }
      ]
    },
    {
      "cell_type": "markdown",
      "metadata": {
        "id": "WW4Zj2A4bRZO"
      },
      "source": [
        "return이 밖에 있어서 안된다는디?"
      ]
    },
    {
      "cell_type": "code",
      "metadata": {
        "id": "K9O_vwWiRmVg",
        "colab": {
          "base_uri": "https://localhost:8080/",
          "height": 139
        },
        "outputId": "f9826319-8fec-4612-cca8-01a646a37da0"
      },
      "source": [
        "result = [(x, y) for x in range(10) for y in range(5) if x * y > 10]\n",
        "\n",
        "return ((x, y, z)\n",
        "        for x in xrange(5)\n",
        "        for y in xrange(5)\n",
        "        if x != y\n",
        "        for z in xrange(5)\n",
        "        if y != z)"
      ],
      "execution_count": 2,
      "outputs": [
        {
          "output_type": "error",
          "ename": "SyntaxError",
          "evalue": "ignored",
          "traceback": [
            "\u001b[0;36m  File \u001b[0;32m\"<ipython-input-2-b7e0805f613d>\"\u001b[0;36m, line \u001b[0;32m3\u001b[0m\n\u001b[0;31m    return ((x, y, z)\u001b[0m\n\u001b[0m                     ^\u001b[0m\n\u001b[0;31mSyntaxError\u001b[0m\u001b[0;31m:\u001b[0m 'return' outside function\n"
          ]
        }
      ]
    },
    {
      "cell_type": "code",
      "metadata": {
        "colab": {
          "base_uri": "https://localhost:8080/"
        },
        "id": "TD8v_MKMbE9z",
        "outputId": "6375838c-092d-4020-9e64-dd5d002beedf"
      },
      "source": [
        "def test1():\n",
        "    l = []\n",
        "    for i in range(1000):\n",
        "        l = l + [i]\n",
        "\n",
        "def test2():\n",
        "    l = []\n",
        "    for i in range(1000):\n",
        "        l.append(i)\n",
        "\n",
        "def test3():\n",
        "    l = [i for i in range(1000)]\n",
        "\n",
        "def test4():\n",
        "    l = list(range(1000))\n",
        "\n",
        "if __name__ == \"__main__\":\n",
        "    import timeit\n",
        "    t1 = timeit.Timer(\"test1()\", \"from __main__ import test1\")\n",
        "    print(\"concat \", t1.timeit(number=1000), \"milliseconds\")\n",
        "    t2 = timeit.Timer(\"test2()\", \"from __main__ import test2\")\n",
        "    print(\"append \", t2.timeit(number=1000), \"milliseconds\")\n",
        "    t3 = timeit.Timer(\"test3()\", \"from __main__ import test3\")\n",
        "    print(\"comprehension \", t3.timeit(number=1000), \"milliseconds\")\n",
        "    t4 = timeit.Timer(\"test4()\", \"from __main__ import test4\")\n",
        "    print(\"list range \", t4.timeit(number=1000), \"milliseconds\")"
      ],
      "execution_count": 3,
      "outputs": [
        {
          "output_type": "stream",
          "text": [
            "concat  1.4024894240000094 milliseconds\n",
            "append  0.06946402899995974 milliseconds\n",
            "comprehension  0.033426182999960474 milliseconds\n",
            "list range  0.015180766000071344 milliseconds\n"
          ],
          "name": "stdout"
        }
      ]
    },
    {
      "cell_type": "code",
      "metadata": {
        "colab": {
          "base_uri": "https://localhost:8080/"
        },
        "id": "FKG0WIhjdV1S",
        "outputId": "40c2a221-508e-449a-9655-fb1af05daffe"
      },
      "source": [
        "blist = [1, 2, 3, 255]\n",
        "the_bytes = bytes(blist)\n",
        "the_bytes\n",
        "the_byte_array = bytearray(blist)\n",
        "the_byte_array\n",
        "#the_bytes[1] = 127 # 불변타입이라 오류뜸\n",
        "the_byte_array[1] = 127\n",
        "the_byte_array"
      ],
      "execution_count": 9,
      "outputs": [
        {
          "output_type": "execute_result",
          "data": {
            "text/plain": [
              "bytearray(b'\\x01\\x7f\\x03\\xff')"
            ]
          },
          "metadata": {
            "tags": []
          },
          "execution_count": 9
        }
      ]
    },
    {
      "cell_type": "code",
      "metadata": {
        "colab": {
          "base_uri": "https://localhost:8080/"
        },
        "id": "Gtsth-3Sili1",
        "outputId": "8f130db8-2021-4eed-8b34-10cb7ca17780"
      },
      "source": [
        "x = 4\n",
        "1 << x\n",
        "x = 8\n",
        "x & (x-1)\n",
        "x = 6\n",
        "x & (x-1)"
      ],
      "execution_count": 13,
      "outputs": [
        {
          "output_type": "execute_result",
          "data": {
            "text/plain": [
              "4"
            ]
          },
          "metadata": {
            "tags": []
          },
          "execution_count": 13
        }
      ]
    },
    {
      "cell_type": "markdown",
      "metadata": {
        "id": "XNgL6WBiixs3"
      },
      "source": [
        "2.6 연습문제"
      ]
    },
    {
      "cell_type": "code",
      "metadata": {
        "colab": {
          "base_uri": "https://localhost:8080/"
        },
        "id": "wK1xSqeNiumR",
        "outputId": "61167574-ed7f-4201-fc00-ad14734ace45"
      },
      "source": [
        "def revert(s):\n",
        "    if s:\n",
        "        s = s[-1] + revert(s[:-1])\n",
        "    return s\n",
        "\n",
        "def revert2(string):\n",
        "    return string[::-1]\n",
        "\n",
        "if __name__ == \"__main__\":\n",
        "    str1 = \"안녕 세상!\"\n",
        "    str2 = revert(str1)\n",
        "    str3 = revert2(str1)\n",
        "    print(str2)\n",
        "    print(str3)"
      ],
      "execution_count": 14,
      "outputs": [
        {
          "output_type": "stream",
          "text": [
            "!상세 녕안\n",
            "!상세 녕안\n"
          ],
          "name": "stdout"
        }
      ]
    },
    {
      "cell_type": "code",
      "metadata": {
        "colab": {
          "base_uri": "https://localhost:8080/"
        },
        "id": "Dr8G3vwojq41",
        "outputId": "9a8de407-2291-41bd-dd81-08ca1f008091"
      },
      "source": [
        "def reverser(string1, p1=0, p2=None):\n",
        "    if len(string1) < 2:\n",
        "        return string1\n",
        "    p2 = p2 or len(string1) - 1\n",
        "    while p1 < p2:\n",
        "        string1[p1], string1[p2] = string1[p2], string1[p1]\n",
        "        p1 += 1\n",
        "        p2 -= 1\n",
        "\n",
        "def reversing_words_setence_logic(string1):\n",
        "    # first, reversing the whole sentence\n",
        "    reverser(string1)\n",
        "    # print(string1)\n",
        "    p = 0\n",
        "    start = 0\n",
        "    while p < len(string1):\n",
        "        if string1[p] == u\"\\u0020\":\n",
        "            # 단어를 다시 반전(단어를 원위치로 롤백)\n",
        "            reverser(string1, start, p-1)\n",
        "            # print(string1)\n",
        "            start = p+1\n",
        "        p += 1\n",
        "    # 마지막 단어를 반전(단어를 원위치로 롤백)\n",
        "    reverser(string1, start, p-1)\n",
        "    # print(string1)\n",
        "    return \"\".join(string1)\n",
        "\n",
        "if __name__ == \"__main__\":\n",
        "    str1 = \"파이썬 알고리즘 정말 야무지다\"\n",
        "    str2 = reversing_words_setence_logic(list(str1))\n",
        "    print(str2)"
      ],
      "execution_count": 16,
      "outputs": [
        {
          "output_type": "stream",
          "text": [
            "야무지다 정말 알고리즘 파이썬\n"
          ],
          "name": "stdout"
        }
      ]
    },
    {
      "cell_type": "code",
      "metadata": {
        "colab": {
          "base_uri": "https://localhost:8080/"
        },
        "id": "BPNWyP8Ewn-m",
        "outputId": "2cdb4ac2-0841-4f30-b104-9261830b3fad"
      },
      "source": [
        "def reverse_words_brute(string):\n",
        "    word, sentence = [], []\n",
        "    for character in string:\n",
        "        if character != \" \":\n",
        "            word.append(character)\n",
        "        else:\n",
        "            # 조건문에서 빈 리스트는 false임. 공백이 있으면 건너뜀\n",
        "            if word:\n",
        "                sentence.append(\"\".join(word))\n",
        "            word = []\n",
        "\n",
        "    # 마지막 단어가 있으면, 문장에 추가\n",
        "    if word != \"\":\n",
        "        sentence.append(\"\".join(word))\n",
        "    sentence.reverse()\n",
        "    return \" \".join(sentence)\n",
        "\n",
        "if __name__ == \"__main__\":\n",
        "    str1 = \"파이썬 알고리즘 정말 재미있다\"\n",
        "    str2 = reverse_words_brute(str1)\n",
        "    print(str2)"
      ],
      "execution_count": 19,
      "outputs": [
        {
          "output_type": "stream",
          "text": [
            "재미있다 정말 알고리즘 파이썬\n"
          ],
          "name": "stdout"
        }
      ]
    },
    {
      "cell_type": "code",
      "metadata": {
        "colab": {
          "base_uri": "https://localhost:8080/"
        },
        "id": "nDI7tVfGySn8",
        "outputId": "c9b01842-3fd5-458a-d0ab-2f170a8d405a"
      },
      "source": [
        " def reversing_words_slice(word):\n",
        "     new_word = []\n",
        "     words = word.split(\" \")\n",
        "     for word in words[::-1]:\n",
        "         new_word.append(word)\n",
        "     return \" \".join(new_word)\n",
        "if __name__ == \"__main__\":\n",
        "    str1 = \"파이썬 알고리즘 정말 재미있다\"\n",
        "    str2 = reversing_words_slice(str1)\n",
        "    print(str2)"
      ],
      "execution_count": 21,
      "outputs": [
        {
          "output_type": "stream",
          "text": [
            "재미있다 정말 알고리즘 파이썬\n"
          ],
          "name": "stdout"
        }
      ]
    },
    {
      "cell_type": "code",
      "metadata": {
        "colab": {
          "base_uri": "https://localhost:8080/"
        },
        "id": "W8qHIZSK2Ad2",
        "outputId": "4dca8c7c-ab97-4904-cd2f-26549d4957b4"
      },
      "source": [
        "def reversing_words(str1):\n",
        "    words = str1.split(\" \")\n",
        "    rev_set = \" \".join(reversed(words))\n",
        "    return rev_set\n",
        "\n",
        "def reversing_words2(str1):\n",
        "    words = str1.split(\" \")\n",
        "    words.reverse()\n",
        "    return \" \".join(words)\n",
        "\n",
        "if __name__ == \"__main__\":\n",
        "    str1 = \"파이썬 알고리즘 정말 재미있다\"\n",
        "    str2 = reversing_words(str1)\n",
        "    str3 = reversing_words2(str1)\n",
        "    print(str2)\n",
        "    print(str3)"
      ],
      "execution_count": 23,
      "outputs": [
        {
          "output_type": "stream",
          "text": [
            "재미있다 정말 알고리즘 파이썬\n",
            "재미있다 정말 알고리즘 파이썬\n"
          ],
          "name": "stdout"
        }
      ]
    },
    {
      "cell_type": "code",
      "metadata": {
        "colab": {
          "base_uri": "https://localhost:8080/"
        },
        "id": "gPl7f0_w3BZG",
        "outputId": "d93fcc0b-d3f9-4178-f17a-cd50eb149f37"
      },
      "source": [
        "def str_compression(s):\n",
        "    count, last = 1,\"\"\n",
        "    list_aux = []\n",
        "    for i, c in enumerate(s):\n",
        "        if last == c:\n",
        "            count += 1\n",
        "        else:\n",
        "            if i != 0:\n",
        "                list_aux.append(str(count))\n",
        "            list_aux.append(c)\n",
        "            count = 1\n",
        "            last = c\n",
        "    list_aux.append(str(count))\n",
        "    return \"\".join(list_aux)\n",
        "\n",
        "if __name__ == \"__main__\":\n",
        "    result = str_compression(\"aabcccccaaa\")\n",
        "    print(result)"
      ],
      "execution_count": 24,
      "outputs": [
        {
          "output_type": "stream",
          "text": [
            "a2b1c5a3\n"
          ],
          "name": "stdout"
        }
      ]
    },
    {
      "cell_type": "markdown",
      "metadata": {
        "id": "_SjjLLFFAlO2"
      },
      "source": [
        "2.6.4 문자열 순열\n",
        "\n",
        "perm(s[:i] + s[i+1:]):이거 함수 사용중에 다시 함수로 돌아가는거??"
      ]
    },
    {
      "cell_type": "code",
      "metadata": {
        "colab": {
          "base_uri": "https://localhost:8080/"
        },
        "id": "owX8h73g-EKM",
        "outputId": "93b6f7f7-cfff-4062-9794-ff6fd422a8e1"
      },
      "source": [
        "import itertools\n",
        "\n",
        "def perm(s):\n",
        "    if len(s) < 2:\n",
        "        return s\n",
        "    res = []\n",
        "    for i, c in enumerate(s):\n",
        "        for cc in perm(s[:i] + s[i+1:]):\n",
        "            res.append(c + cc)\n",
        "    return res\n",
        "\n",
        "def perm2(s):\n",
        "    res = itertools.permutations(s)\n",
        "    return [\"\".join(i) for i in res]\n",
        "\n",
        "if __name__ == \"__main__\":\n",
        "    val = \"012\"\n",
        "    print(perm(val))\n",
        "    print(perm2(val))"
      ],
      "execution_count": 25,
      "outputs": [
        {
          "output_type": "stream",
          "text": [
            "['012', '021', '102', '120', '201', '210']\n",
            "['012', '021', '102', '120', '201', '210']\n"
          ],
          "name": "stdout"
        }
      ]
    },
    {
      "cell_type": "code",
      "metadata": {
        "colab": {
          "base_uri": "https://localhost:8080/"
        },
        "id": "eihfCONDBNBy",
        "outputId": "000d676b-3f05-4c32-cb21-3215bedf445a"
      },
      "source": [
        "def combinations(s):\n",
        "    if len(s) < 2:\n",
        "        return s\n",
        "    res = []\n",
        "    for i, c in enumerate(s):\n",
        "        res.append(c) # 추가된 부분~\n",
        "        for j in combinations(s[:i] + s[i+1:]):\n",
        "            res.append(c + j)\n",
        "    return res\n",
        "\n",
        "if __name__ == \"__main__\":\n",
        "    result = combinations(\"abc\")\n",
        "    print(result)"
      ],
      "execution_count": 26,
      "outputs": [
        {
          "output_type": "stream",
          "text": [
            "['a', 'ab', 'abc', 'ac', 'acb', 'b', 'ba', 'bac', 'bc', 'bca', 'c', 'ca', 'cab', 'cb', 'cba']\n"
          ],
          "name": "stdout"
        }
      ]
    },
    {
      "cell_type": "code",
      "metadata": {
        "colab": {
          "base_uri": "https://localhost:8080/"
        },
        "id": "w_8pMhlZDqIY",
        "outputId": "9558b582-d13b-49a6-a604-ea045ba99775"
      },
      "source": [
        "def is_palindrome(s):\n",
        "    l = s.split(\" \")\n",
        "    s2 = \"\".join(l)\n",
        "    return s2 == s2[::-1]\n",
        "\n",
        "def is_palindrome2(s):\n",
        "    l = len(s)\n",
        "    f, b = 0, l-1\n",
        "    while f < l // 2:\n",
        "        while s[f] == \" \":\n",
        "            f+=1\n",
        "        while s[b] == \" \":\n",
        "            b-=1\n",
        "        if s[f] != s[b]:\n",
        "            return False\n",
        "        f+=1\n",
        "        b-=1\n",
        "    return True\n",
        "\n",
        "def is_palindrome3(s):\n",
        "    s = s.strip()\n",
        "    if len(s) < 2:\n",
        "        return True\n",
        "    if s[0] == s[-1]:\n",
        "        return is_palindrome(s[1:-1])\n",
        "    else:\n",
        "        return False\n",
        "\n",
        "if __name__ == \"__main__\":\n",
        "    str1 = \"다시 합창합시다\"\n",
        "    str2 = \"\"\n",
        "    str3 = \"hello\"\n",
        "    print(is_palindrome(str1))\n",
        "    print(is_palindrome(str2))\n",
        "    print(is_palindrome(str3))\n",
        "    print()\n",
        "    print(is_palindrome2(str1))\n",
        "    print(is_palindrome2(str2))\n",
        "    print(is_palindrome2(str3))\n",
        "    print()\n",
        "    print(is_palindrome3(str1))\n",
        "    print(is_palindrome3(str2))\n",
        "    print(is_palindrome3(str3))"
      ],
      "execution_count": 28,
      "outputs": [
        {
          "output_type": "stream",
          "text": [
            "True\n",
            "True\n",
            "False\n",
            "\n",
            "True\n",
            "True\n",
            "False\n",
            "\n",
            "True\n",
            "True\n",
            "False\n"
          ],
          "name": "stdout"
        }
      ]
    },
    {
      "cell_type": "code",
      "metadata": {
        "id": "Lz1dL3KsEvkK"
      },
      "source": [
        ""
      ],
      "execution_count": null,
      "outputs": []
    }
  ]
}
