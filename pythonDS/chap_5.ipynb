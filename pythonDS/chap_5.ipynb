{
  "nbformat": 4,
  "nbformat_minor": 0,
  "metadata": {
    "colab": {
      "name": "chap5.ipynb",
      "provenance": []
    },
    "kernelspec": {
      "name": "python3",
      "display_name": "Python 3"
    },
    "language_info": {
      "name": "python"
    }
  },
  "cells": [
    {
      "cell_type": "markdown",
      "metadata": {
        "id": "cTVCpjSbFyXc"
      },
      "source": [
        "# Chap5 객체지향 설계\n",
        "\n",
        "\n",
        "1.   클래스와 객체\n",
        "2.   객체지향 프로그래밍의 원리\n",
        "3.   디자인 패턴\n",
        "\n"
      ]
    },
    {
      "cell_type": "code",
      "metadata": {
        "colab": {
          "base_uri": "https://localhost:8080/"
        },
        "id": "nwaS74dpFrcL",
        "outputId": "26346290-722a-46e5-f008-68310a02e511"
      },
      "source": [
        "import collections\n",
        "circle = collections.namedtuple(\"Circle\", \"x y radius\")\n",
        "circle\n",
        "circle = circle(13, 84, 9)\n",
        "circle"
      ],
      "execution_count": null,
      "outputs": [
        {
          "output_type": "execute_result",
          "data": {
            "text/plain": [
              "Circle(x=13, y=84, radius=9)"
            ]
          },
          "metadata": {
            "tags": []
          },
          "execution_count": 2
        }
      ]
    },
    {
      "cell_type": "markdown",
      "metadata": {
        "id": "rtEIpzjEGqa4"
      },
      "source": [
        "## 5.1 클래스와 객체\n",
        "    [Object Oriented Programming] - 객체 지향 프로그래밍\n",
        "        - 객체지향이론\n",
        "            실제 세계는 사물로 이루어져 있으며\n",
        "            발생하는 모든 사건들은 사물간의 상호작용이다.\n",
        "\n",
        "            이 개념을 토대로 프로그래밍 언어 접목 -> 객체 지향 프로그래밍\n",
        "\n",
        "        - 특징\n",
        "            1. 코드의 재사용성이 높다.\n",
        "            2. 코드를 관리하기 좋다.\n",
        "            3. 프로그램의 신뢰성이 높아진다.\n",
        "\n",
        "        - '클래스'와 '객체'\n",
        "            1. 클래스는 일종의 설계도(또는 틀)이며,\n",
        "               객체는 그 설계도를 통해 만들어진 실제 사물\n",
        "                   > 갤럭시s20 설계도 --> 갤럭시s20(1)\n",
        "                                     --> 갤럭시s20(2)\n",
        "\n",
        "            2. 클래스(class)\n",
        "                - 정의 : 객체를 정의해 놓은 것\n",
        "                - 용도 : 객체를 생성\n",
        "\n",
        "            3. 객체(object)\n",
        "                - 정의 : 실제로 존재하는 것 (사물)\n",
        "                - 용도 : 클래스에 정의된 대로 사용한다.\n",
        "\n",
        "        - 객체 / 인스턴스\n",
        "            1. 인스턴스(instance) : 사례, 경우, 실체\n",
        "                - 기본적으로는 객체와 같은 의미\n",
        "                * 클래스를 통해 실제로 만들어진 객체를 '인스턴스'라고 부른다.\n",
        "\n",
        "            - 객체의 구성 요소 : 속성, 기능\n",
        "                (속성 : 갤럭시s20의 색상 등 / 기능 : 갤럭시s20으로 사진을 찍는다.)\n",
        "\n",
        "                1. 속성 = 변수\n",
        "                2. 기능 = 함수\n",
        "                3. 객체는 클래스에서 정의한 다수의 속성과 기능을 가질 수 있다.\n",
        "\n",
        "            - 클래스를 비유할 때\n",
        "                붕어빵 틀(클래스) / 만들어진 붕어빵 (객체)"
      ]
    },
    {
      "cell_type": "markdown",
      "metadata": {
        "id": "l4dQluscHLyd"
      },
      "source": [
        "### 5.1.1 클래스 인스턴스 생성\n",
        "[클래스 네임스페이스](https://wikidocs.net/1743)\n"
      ]
    },
    {
      "cell_type": "code",
      "metadata": {
        "colab": {
          "base_uri": "https://localhost:8080/",
          "height": 73
        },
        "id": "z9zOXNCzGY9g",
        "outputId": "e0b993ba-d8c8-497d-8294-5a23fcec55a6"
      },
      "source": [
        "class Stock:\n",
        "    market = \"kospi\"\n",
        "\n",
        "dir()\n",
        "Stock\n",
        "Stock.__dict__\n",
        "Stock.market\n",
        "s1 = Stock()\n",
        "s2 = Stock()\n",
        "\n",
        "# 서로 다른 메모리에 있음을 확인\n",
        "print(id(s1))\n",
        "print(id(s2)) \n",
        "\n",
        "dir()\n",
        "s1.__dict__\n",
        "s1.market = \"kosdaq\"\n",
        "s1.__dict__\n",
        "\n",
        "# 인스턴트의 네임스페이스에 해당 이름이 없으면 클래스의 네임스페이스로 이동\n",
        "s2.market\n",
        "\n",
        "# 양쪽 인스턴트 모두에 존재 하지 않기 때문에 오류가 발생\n",
        "#s2.volume\n",
        "\n"
      ],
      "execution_count": null,
      "outputs": [
        {
          "output_type": "stream",
          "text": [
            "140600267823056\n",
            "140600267823632\n"
          ],
          "name": "stdout"
        },
        {
          "output_type": "execute_result",
          "data": {
            "application/vnd.google.colaboratory.intrinsic+json": {
              "type": "string"
            },
            "text/plain": [
              "'kospi'"
            ]
          },
          "metadata": {
            "tags": []
          },
          "execution_count": 19
        }
      ]
    },
    {
      "cell_type": "markdown",
      "metadata": {
        "id": "ARWkXJShQkcD"
      },
      "source": [
        "## 5.2 객체지향 프로그래밍의 원리"
      ]
    },
    {
      "cell_type": "markdown",
      "metadata": {
        "id": "nN1qk2fTQrlr"
      },
      "source": [
        "### 5.2.1 특수화\n",
        "* 특수화는 슈퍼 클래스의 모든 속성을 상속하여 새 클래스를 만드는 절차.\n",
        "* 상속은 is-a 관계 ( has-a 관계도 알아둘것 )\n",
        "\n"
      ]
    },
    {
      "cell_type": "code",
      "metadata": {
        "id": "VXGX3AKSQpIv"
      },
      "source": [
        "class SampleClass(object):\n",
        "    pass\n",
        "\n",
        "class OuterClass(object):\n",
        "    class InnerClass(object):\n",
        "        pass\n",
        "\n",
        "class ChildClass(SampleClass):\n",
        "    \"\"\"부모 클래스 상속\"\"\"\n",
        "\n",
        "\n",
        "### 나쁜 예\n",
        "class SampleClass:\n",
        "    pass\n",
        "\n",
        "class OuterClass:\n",
        "    class InnerClass:\n",
        "        pass"
      ],
      "execution_count": null,
      "outputs": []
    },
    {
      "cell_type": "markdown",
      "metadata": {
        "id": "_MOEIjO7S8lP"
      },
      "source": [
        "### 5.2.2 다형성\n",
        "* 서브 클래스 객체에서 슈퍼 클래스와 동명의 메서드를 호출하면, 파이썬은 서브 클래스에 정의된 메서드를 사용.\n",
        "* 슈퍼 클래스의 메서드를 호출하고 싶으면, 내장된 super() 메서드를 사용."
      ]
    },
    {
      "cell_type": "code",
      "metadata": {
        "colab": {
          "base_uri": "https://localhost:8080/"
        },
        "id": "ToWQnc02So2D",
        "outputId": "cfd05f3e-c4dd-4921-987e-2a9852ce0789"
      },
      "source": [
        "# 사용자 정의 클래스의 모든 객체는 기본적으로 해시 가능\n",
        "class Symbol(object):\n",
        "    def __init__(self, value):\n",
        "        self.value = value\n",
        "\n",
        "if __name__ == \"__main__\":\n",
        "    x = Symbol(\"Py\")\n",
        "    y = Symbol(\"Py\")\n",
        "\n",
        "    symbols = set()\n",
        "    symbols.add(x)\n",
        "    symbols.add(y)\n",
        "\n",
        "    print(x is y)           # 첫 번째 결과\n",
        "    print(x == y)           # 두 번째 결과\n",
        "    print(len(symbols))     # 세 번째 결과\n"
      ],
      "execution_count": null,
      "outputs": [
        {
          "output_type": "stream",
          "text": [
            "False\n",
            "False\n",
            "2\n"
          ],
          "name": "stdout"
        }
      ]
    },
    {
      "cell_type": "code",
      "metadata": {
        "colab": {
          "base_uri": "https://localhost:8080/",
          "height": 251
        },
        "id": "V49rHmv0WWv5",
        "outputId": "67f06994-b5aa-4115-c77e-d6d428d4c0a1"
      },
      "source": [
        "# 두 번째와 세 번째 결과를 고치기 위해 객체 배교를 담당하는 __eq__ 메서스 재정의\n",
        "\n",
        "class Symbol(object):\n",
        "    def __init__(self, value):\n",
        "        self.value = value\n",
        "\n",
        "    def __eq__(self, other):\n",
        "        if isinstance(self, other.__class__):\n",
        "            return self.value == other.value\n",
        "        else:\n",
        "            return NotImplemented\n",
        "\n",
        "if __name__ == \"__main__\":\n",
        "    x = Symbol(\"Py\")\n",
        "    y = Symbol(\"Py\")\n",
        "\n",
        "    symbols = set()\n",
        "    symbols.add(x) # 해시 가능하지 않다는건 가변 객체임을 의미\n",
        "    symbols.add(y)\n",
        "\n",
        "    print(x is y)           \n",
        "    print(x == y)           \n",
        "    print(len(symbols)) "
      ],
      "execution_count": null,
      "outputs": [
        {
          "output_type": "error",
          "ename": "TypeError",
          "evalue": "ignored",
          "traceback": [
            "\u001b[0;31m---------------------------------------------------------------------------\u001b[0m",
            "\u001b[0;31mTypeError\u001b[0m                                 Traceback (most recent call last)",
            "\u001b[0;32m<ipython-input-28-d89d05b478bb>\u001b[0m in \u001b[0;36m<module>\u001b[0;34m()\u001b[0m\n\u001b[1;32m     16\u001b[0m \u001b[0;34m\u001b[0m\u001b[0m\n\u001b[1;32m     17\u001b[0m     \u001b[0msymbols\u001b[0m \u001b[0;34m=\u001b[0m \u001b[0mset\u001b[0m\u001b[0;34m(\u001b[0m\u001b[0;34m)\u001b[0m\u001b[0;34m\u001b[0m\u001b[0;34m\u001b[0m\u001b[0m\n\u001b[0;32m---> 18\u001b[0;31m     \u001b[0msymbols\u001b[0m\u001b[0;34m.\u001b[0m\u001b[0madd\u001b[0m\u001b[0;34m(\u001b[0m\u001b[0mx\u001b[0m\u001b[0;34m)\u001b[0m \u001b[0;31m# 해시 가능하지 않다는건 가변 객체임을 의미\u001b[0m\u001b[0;34m\u001b[0m\u001b[0;34m\u001b[0m\u001b[0m\n\u001b[0m\u001b[1;32m     19\u001b[0m     \u001b[0msymbols\u001b[0m\u001b[0;34m.\u001b[0m\u001b[0madd\u001b[0m\u001b[0;34m(\u001b[0m\u001b[0my\u001b[0m\u001b[0;34m)\u001b[0m\u001b[0;34m\u001b[0m\u001b[0;34m\u001b[0m\u001b[0m\n\u001b[1;32m     20\u001b[0m \u001b[0;34m\u001b[0m\u001b[0m\n",
            "\u001b[0;31mTypeError\u001b[0m: unhashable type: 'Symbol'"
          ]
        }
      ]
    },
    {
      "cell_type": "code",
      "metadata": {
        "colab": {
          "base_uri": "https://localhost:8080/"
        },
        "id": "O-jQ-pJkXL0h",
        "outputId": "90c08fd1-36fe-4d76-cb54-4fd153e11944"
      },
      "source": [
        "# 객체가 해시 가능하지 않다는 것은 가변 객체임을 의미하는데, 셋은 불변 객체임.\n",
        "# 에러 수정을 위해 __hash__() 메서드를 추가.\n",
        "\n",
        "class Symbol(object):\n",
        "    def __init__(self, value):\n",
        "        self.value = value\n",
        "\n",
        "    def __eq__(self, other):\n",
        "        if isinstance(self, other.__class__):\n",
        "            return self.value == other.value\n",
        "        else:\n",
        "            return NotImplemented\n",
        "\n",
        "    def __hash__(self):\n",
        "        return hash(self.value)\n",
        "\n",
        "if __name__ == \"__main__\":\n",
        "    x = Symbol(\"Py\")\n",
        "    y = Symbol(\"Py\")\n",
        "\n",
        "    symbols = set()\n",
        "    symbols.add(x)\n",
        "    symbols.add(y)\n",
        "\n",
        "    print(x is y)           \n",
        "    print(x == y)           \n",
        "    print(len(symbols)) "
      ],
      "execution_count": null,
      "outputs": [
        {
          "output_type": "stream",
          "text": [
            "False\n",
            "True\n",
            "1\n"
          ],
          "name": "stdout"
        }
      ]
    },
    {
      "cell_type": "markdown",
      "metadata": {
        "id": "H-LOiFFQYsFi"
      },
      "source": [
        "### 5.2.3 합성과 집합화\n",
        "* 합성은 한 클래스에서 다른 클래스의 인스턴스 변수를 포함하는 것을 말하며, 클래스 간의 관계를 나타냄."
      ]
    },
    {
      "cell_type": "markdown",
      "metadata": {
        "id": "AJaH5ZQEZKtf"
      },
      "source": [
        "### 5.2.4 클래스 예제"
      ]
    },
    {
      "cell_type": "code",
      "metadata": {
        "id": "Oijb4Wv_XrSj"
      },
      "source": [
        "import math\n",
        "\n",
        "class Point(object):\n",
        "    def __init__(self, x = 0, y = 0):\n",
        "        self.x = x # 데이터 속성(attribute)\n",
        "        self.y = y\n",
        "\n",
        "    def distance_from_origin(self): # 메서드 속성\n",
        "        return math.hypot(self.x, self.y)    ## 빗변\n",
        "\n",
        "    def __eq__(self, other):\n",
        "        return self.x == other.x and self.y == other.y\n",
        "\n",
        "    def __repr__(self):\n",
        "        return \"point ({0.x!r}, {0.y!r})\".format(self)\n",
        "\n",
        "    def __str__(self):\n",
        "        return \"({0.x!r}, {0.y!r})\".format(self)\n",
        "\n",
        "class Circle(Point):\n",
        "    def __init__(self, radius, x=0, y=0):\n",
        "        super().__init__(x,y) # 생성 및 초기화\n",
        "        self.radius = radius\n",
        "\n",
        "    def edge_distance_from_origin(self):\n",
        "        return abs(self.distance_from_origin() - self.radius)\n",
        "\n",
        "    def area(self):\n",
        "        return math.pi*(self.radius**2)\n",
        "\n",
        "    def circumference(self):\n",
        "        return 2*math.pi*self.radius\n",
        "\n",
        "    def __eq__(self, other):           ### 질문\n",
        "        return self.radius == other.radius and super().__eq__(other)\n",
        "\n",
        "    def __repr__(self):\n",
        "        return \"circle ({0.radius!r}, {0.x!r})\".format(self)\n",
        "\n",
        "    def __str__(self):\n",
        "        return repr(self)\n",
        "\n",
        "    "
      ],
      "execution_count": null,
      "outputs": []
    },
    {
      "cell_type": "code",
      "metadata": {
        "colab": {
          "base_uri": "https://localhost:8080/"
        },
        "id": "Nog7yp34cmgi",
        "outputId": "c1e17992-d838-489b-cc67-a09f7dfc3b0f"
      },
      "source": [
        "a = Point(3, 4)\n",
        "a\n",
        "repr(a)\n",
        "str(a)\n",
        "a.distance_from_origin()\n",
        "c = Circle(3,2,1)\n",
        "c\n",
        "repr(c)\n",
        "str(c)\n",
        "c.circumference()\n",
        "c.edge_distance_from_origin()"
      ],
      "execution_count": null,
      "outputs": [
        {
          "output_type": "execute_result",
          "data": {
            "text/plain": [
              "0.7639320225002102"
            ]
          },
          "metadata": {
            "tags": []
          },
          "execution_count": 47
        }
      ]
    },
    {
      "cell_type": "markdown",
      "metadata": {
        "id": "WTscXds8UetD"
      },
      "source": [
        "## 5.3 디자인 패턴"
      ]
    },
    {
      "cell_type": "markdown",
      "metadata": {
        "id": "eYfbCRMeUmNu"
      },
      "source": [
        "### 5.3.1 데커레이터 패턴\n",
        "\n",
        "[함수 관련 추가정보](https://medium.com/sjk5766/%EB%B2%88%EC%97%AD-python%EC%9D%98-%ED%95%A8%EC%88%98-decorators-%EA%B0%80%EC%9D%B4%EB%93%9C-2cd9d5151a1d)"
      ]
    },
    {
      "cell_type": "code",
      "metadata": {
        "colab": {
          "base_uri": "https://localhost:8080/",
          "height": 139
        },
        "id": "LHDMSM--Ulu8",
        "outputId": "72113925-5cf7-4237-d2eb-f5306cd42126"
      },
      "source": [
        "# 구글 파이썬 스타일 가이드 예제\n",
        "\n",
        "class C(object):\n",
        "    @my_decorator\n",
        "    def method(self):\n",
        "        # 메서드 내용\n",
        "\n",
        "# 위 코드가 뜻하는 바\n",
        "\n",
        "class C(object):\n",
        "    def method(self):\n",
        "        # 메서드 내용\n",
        "    method = my_decorator(method)"
      ],
      "execution_count": null,
      "outputs": [
        {
          "output_type": "error",
          "ename": "IndentationError",
          "evalue": "ignored",
          "traceback": [
            "\u001b[0;36m  File \u001b[0;32m\"<ipython-input-1-9b5e772ff12b>\"\u001b[0;36m, line \u001b[0;32m10\u001b[0m\n\u001b[0;31m    class C(object):\u001b[0m\n\u001b[0m                    ^\u001b[0m\n\u001b[0;31mIndentationError\u001b[0m\u001b[0;31m:\u001b[0m expected an indented block\n"
          ]
        }
      ]
    },
    {
      "cell_type": "code",
      "metadata": {
        "colab": {
          "base_uri": "https://localhost:8080/"
        },
        "id": "T81Q885lWz_W",
        "outputId": "7ef4b4a3-4a99-4ae3-8c8a-013587a79c52"
      },
      "source": [
        "import random\n",
        "import time\n",
        "\n",
        "def benchmark(func):\n",
        "    def wrapper(*args, **kwargs):\n",
        "        t = time.perf_counter()\n",
        "        res = func(*args, **kwargs)\n",
        "        print(\"{0} {1}\".format(func.__name__, time.perf_counter()-t))\n",
        "        return res\n",
        "    return wrapper\n",
        "\n",
        "@benchmark\n",
        "def random_tree(n):\n",
        "    temp = [n for n in range(n)]\n",
        "    for i in range(n+1):\n",
        "        temp[random.choice(temp)] = random.choice(temp)\n",
        "    return temp\n",
        "\n",
        "if __name__ == \"__main__\":\n",
        "    random_tree(10000)\n",
        "\n"
      ],
      "execution_count": null,
      "outputs": [
        {
          "output_type": "stream",
          "text": [
            "random_tree 0.02362679400016532\n"
          ],
          "name": "stdout"
        }
      ]
    },
    {
      "cell_type": "markdown",
      "metadata": {
        "id": "Ji126Y9twqYf"
      },
      "source": [
        "* @classmethod와 @staticmethod 활용 예시"
      ]
    },
    {
      "cell_type": "code",
      "metadata": {
        "colab": {
          "base_uri": "https://localhost:8080/"
        },
        "id": "g8oRgJT1Xz8s",
        "outputId": "87c1b85c-b51a-4bd1-b809-463e3ccfc65a"
      },
      "source": [
        "class A(object):\n",
        "    _hello = True\n",
        "\n",
        "    def foo(self, x):\n",
        "        print(\"foo({0}, {1}) 실행\".format(self, x))\n",
        "\n",
        "    @classmethod\n",
        "    def class_foo(cls, x):\n",
        "        print(\"class_foo({0}, {1}) 실행: {2}\".format(cls, x, cls._hello))\n",
        "\n",
        "    @staticmethod\n",
        "    def static_foo(x):\n",
        "        print(\"static_foo({0}) 실행\".format(x))\n",
        "\n",
        "if __name__ == \"__main__\":\n",
        "    a = A()\n",
        "    a.foo(1)\n",
        "    a.class_foo(2)\n",
        "    A.class_foo(2)\n",
        "    a.static_foo(3)\n",
        "    A.static_foo(3)\n",
        "\n",
        "\n",
        "### 추가 공부 필요"
      ],
      "execution_count": null,
      "outputs": [
        {
          "output_type": "stream",
          "text": [
            "foo(<__main__.A object at 0x7f356f0d6790>, 1) 실행\n",
            "class_foo(<class '__main__.A'>, 2) 실행: True\n",
            "class_foo(<class '__main__.A'>, 2) 실행: True\n",
            "static_foo(3) 실행\n",
            "static_foo(3) 실행\n"
          ],
          "name": "stdout"
        }
      ]
    },
    {
      "cell_type": "markdown",
      "metadata": {
        "id": "pn577yH0yZh_"
      },
      "source": [
        "### 5.3.2 옵서버 패턴"
      ]
    },
    {
      "cell_type": "code",
      "metadata": {
        "colab": {
          "base_uri": "https://localhost:8080/",
          "height": 36
        },
        "id": "0GGtynEKx5Y7",
        "outputId": "4c5b6b32-9bf8-4b82-b6de-ec680f50c7e2"
      },
      "source": [
        "class C:\n",
        "    def __init__(self, name):\n",
        "        self._name = name\n",
        "    @property\n",
        "    def name(self):\n",
        "        return self._name\n",
        "    @name.setter\n",
        "    def name(self, new_name):\n",
        "        self._name = \"{0} >> {1}\".format(self._name, new_name)\n",
        "\n",
        "c = C(\"진\")\n",
        "c._name\n",
        "c.name\n",
        "c.name = \"아스틴\"\n",
        "c.name"
      ],
      "execution_count": null,
      "outputs": [
        {
          "output_type": "execute_result",
          "data": {
            "application/vnd.google.colaboratory.intrinsic+json": {
              "type": "string"
            },
            "text/plain": [
              "'진 >> 아스틴'"
            ]
          },
          "metadata": {
            "tags": []
          },
          "execution_count": 6
        }
      ]
    },
    {
      "cell_type": "markdown",
      "metadata": {
        "id": "4IqnaCBz9voZ"
      },
      "source": [
        "셋 활용"
      ]
    },
    {
      "cell_type": "code",
      "metadata": {
        "colab": {
          "base_uri": "https://localhost:8080/"
        },
        "id": "QZoIgebs6iJH",
        "outputId": "ba75a500-5e1b-411a-f145-89fb868df99d"
      },
      "source": [
        "class Subscriber(object):\n",
        "    def __init__(self, name):\n",
        "        self.name = name\n",
        "\n",
        "    def update(self, message):\n",
        "        print(\"{0}, {1}\".format(self.name, message))\n",
        "\n",
        "class Publisher(object):\n",
        "    def __init__(self):\n",
        "        self.subscribers = set()\n",
        "\n",
        "    def register(self, who):\n",
        "        self.subscribers.add(who)\n",
        "\n",
        "    def unregister(self, who):\n",
        "        self.subscribers.discard(who)\n",
        "\n",
        "    def dispatch(self, message):\n",
        "        for subscriber in self.subscribers:\n",
        "            subscriber.update(message)\n",
        "\n",
        "if __name__ == \"__main__\":\n",
        "    pub = Publisher()\n",
        "\n",
        "    astin = Subscriber(\"아스틴\")\n",
        "    james = Subscriber(\"제임스\")\n",
        "    jeff = Subscriber(\"제프\")\n",
        "\n",
        "    pub.register(astin)\n",
        "    pub.register(james)\n",
        "    pub.register(jeff)\n",
        "\n",
        "    pub.dispatch(\"점심시간입니다.\")\n",
        "    pub.unregister(jeff)\n",
        "    pub.dispatch(\"퇴근시간입니다.\")"
      ],
      "execution_count": null,
      "outputs": [
        {
          "output_type": "stream",
          "text": [
            "아스틴, 점심시간입니다.\n",
            "제프, 점심시간입니다.\n",
            "제임스, 점심시간입니다.\n",
            "아스틴, 퇴근시간입니다.\n",
            "제임스, 퇴근시간입니다.\n"
          ],
          "name": "stdout"
        }
      ]
    },
    {
      "cell_type": "markdown",
      "metadata": {
        "id": "SL_45LGW9yeF"
      },
      "source": [
        "딕셔너리 활용"
      ]
    },
    {
      "cell_type": "code",
      "metadata": {
        "colab": {
          "base_uri": "https://localhost:8080/"
        },
        "id": "EYVo_sqE9kji",
        "outputId": "02308f0f-e081-49f8-e572-b5a8975e8660"
      },
      "source": [
        "class SubscriberOne(object):\n",
        "    def __init__(self, name):\n",
        "        self.name = name\n",
        "\n",
        "    def update(self, message):\n",
        "        print(\"{0}, {1}\".format(self.name, message))\n",
        "\n",
        "class SubscriberTwo(object):\n",
        "    def __init__(self, name):\n",
        "        self.name = name\n",
        "\n",
        "    def receive(self, message):\n",
        "        print(\"{0}, {1}\".format(self.name, message))\n",
        "\n",
        "class Publisher(object):\n",
        "    def __init__(self):\n",
        "        self.subscribers = dict()\n",
        "\n",
        "    def register(self, who, callback=None):\n",
        "        if callback is None:\n",
        "            callback = getattr(who, 'update')\n",
        "        self.subscribers[who] = callback\n",
        "\n",
        "    def unregister(self, who):\n",
        "        del self.subscribers[who]\n",
        "\n",
        "    def dispatch(self, message):\n",
        "        for subscriber, callback in self.subscribers.items():\n",
        "            callback(message)\n",
        "\n",
        "if __name__ == \"__main__\":\n",
        "    pub = Publisher()\n",
        "\n",
        "    astin = SubscriberOne(\"아스틴\")\n",
        "    james = SubscriberTwo(\"제임스\")\n",
        "    jeff = SubscriberOne(\"제프\")\n",
        "\n",
        "    pub.register(astin, astin.update)\n",
        "    pub.register(james, james.receive)\n",
        "    pub.register(jeff)\n",
        "\n",
        "    pub.dispatch(\"점심시간입니다.\")\n",
        "    pub.unregister(jeff)\n",
        "    pub.dispatch(\"퇴근시간입니다.\")"
      ],
      "execution_count": null,
      "outputs": [
        {
          "output_type": "stream",
          "text": [
            "아스틴, 점심시간입니다.\n",
            "제임스, 점심시간입니다.\n",
            "제프, 점심시간입니다.\n",
            "아스틴, 퇴근시간입니다.\n",
            "제임스, 퇴근시간입니다.\n"
          ],
          "name": "stdout"
        }
      ]
    },
    {
      "cell_type": "code",
      "metadata": {
        "id": "UP47SYSsBnPf"
      },
      "source": [
        ""
      ],
      "execution_count": null,
      "outputs": []
    }
  ]
}
