{
  "nbformat": 4,
  "nbformat_minor": 0,
  "metadata": {
    "colab": {
      "name": "Chap11.ipynb",
      "provenance": [],
      "collapsed_sections": []
    },
    "kernelspec": {
      "name": "python3",
      "display_name": "Python 3"
    },
    "language_info": {
      "name": "python"
    }
  },
  "cells": [
    {
      "cell_type": "markdown",
      "metadata": {
        "id": "2l9RWX8QIl9E"
      },
      "source": [
        "# Chapter 11 동적계획법\n"
      ]
    },
    {
      "cell_type": "markdown",
      "metadata": {
        "id": "pcTeI4aTK9hR"
      },
      "source": [
        "## 11.1 memoization"
      ]
    },
    {
      "cell_type": "markdown",
      "metadata": {
        "id": "3XXChfy8LIRS"
      },
      "source": [
        "### 11.1.1 피보나치 수열"
      ]
    },
    {
      "cell_type": "code",
      "metadata": {
        "id": "uVYqNYGIcztL"
      },
      "source": [
        "# benchmark fuction\n",
        "from functools import wraps\n",
        "import time\n",
        "\n",
        "def benchmark(method):\n",
        "    @wraps(method)\n",
        "    def timed(*args, **kw):\n",
        "        ts = time.time()\n",
        "        result = method(*args, **kw)\n",
        "        te = time.time()\n",
        "        print(\"{0}: {1:0.2f} ms\".format(method.__name__, ((te-ts)*1000)))\n",
        "        return result\n",
        "\n",
        "    return timed"
      ],
      "execution_count": 6,
      "outputs": []
    },
    {
      "cell_type": "code",
      "metadata": {
        "id": "8D4yhDn_IKtW",
        "colab": {
          "base_uri": "https://localhost:8080/"
        },
        "outputId": "c2c6acbf-97e6-4952-cfce-d76daf87af04"
      },
      "source": [
        "from functools import wraps\n",
        "\n",
        "\n",
        "def memo(func):\n",
        "    cache = {}\n",
        "\n",
        "    @wraps(func)\n",
        "    def wrap(*args):\n",
        "        if args not in cache:\n",
        "            cache[args] = func(*args)\n",
        "        return cache[args]\n",
        "    return wrap\n",
        "\n",
        "def fib(n):\n",
        "    if n < 2:\n",
        "        return 1\n",
        "    else:\n",
        "        return fib(n-1) + fib(n-2)\n",
        "\n",
        "@memo\n",
        "def fib2(n):\n",
        "    if n < 2:\n",
        "        return 1\n",
        "    else:\n",
        "        return fib2(n-1) + fib2(n-2)\n",
        "\n",
        "def fib3(m, n):\n",
        "    if m[n] == 0:\n",
        "        m[n] = fib3(m, n-1) + fib3(m, n-2)\n",
        "    return m[n]\n",
        "\n",
        "@benchmark\n",
        "def test_fib(n):\n",
        "    print(fib(n))\n",
        "\n",
        "@benchmark\n",
        "def test_fib2(n):\n",
        "    print(fib2(n))\n",
        "\n",
        "@benchmark\n",
        "def test_fib3(n):\n",
        "    m = [0] * (n+1)\n",
        "    m[0], m[1] = 1, 1\n",
        "    print(fib3(m, n))\n",
        "\n",
        "if __name__ == \"__main__\":\n",
        "    n = 35\n",
        "    test_fib(n)\n",
        "    test_fib2(n)\n",
        "    test_fib3(n)"
      ],
      "execution_count": null,
      "outputs": [
        {
          "output_type": "stream",
          "text": [
            "14930352\n",
            "test_fib: 3612.16 ms\n",
            "14930352\n",
            "test_fib2: 0.09 ms\n",
            "14930352\n",
            "test_fib3: 0.06 ms\n"
          ],
          "name": "stdout"
        }
      ]
    },
    {
      "cell_type": "markdown",
      "metadata": {
        "id": "o76cT3OHUG_R"
      },
      "source": [
        "decorator re"
      ]
    },
    {
      "cell_type": "code",
      "metadata": {
        "colab": {
          "base_uri": "https://localhost:8080/"
        },
        "id": "wGokAaHTUAQb",
        "outputId": "609630a0-f410-4735-9c37-2ae2b9c4141f"
      },
      "source": [
        "from functools import wraps\n",
        "#파이썬 데코레이터 예제\n",
        "#wraps 사용 : 기존 정의한 함수 내 속성 유지\n",
        "#wraps 미사용 : 기존 정의한 함수 내 속성 유지 하지 않음\n",
        "#용도 : 특정 시점에 항상 실행되는 함수 정의 -> 로그, 통계성 데이터, 성능 테스트 등\n",
        " \n",
        "def my_decorator1(func):\n",
        "    def runs_func():\n",
        "        print(\"decorator1 - no use wrapper\")\n",
        "        func()\n",
        "    return runs_func\n",
        " \n",
        "def my_decorator2(func):\n",
        "    @wraps(func)\n",
        "    def runs_func():\n",
        "        print(\"decorator2 - use wrapper\")\n",
        "        func()\n",
        "    return runs_func\n",
        " \n",
        "@my_decorator1\n",
        "def my_func1():\n",
        "    '''\n",
        "    func attr text1\n",
        "    '''\n",
        "    print(\"my_func1 run!\")\n",
        " \n",
        "@my_decorator2\n",
        "def my_func2():\n",
        "    '''\n",
        "    func attr text2\n",
        "    '''\n",
        "    print(\"my_func2 run!\")\n",
        " \n",
        " \n",
        "#데코레이터 사용 함수 실행(wraps 미사용)\n",
        "my_func1()\n",
        "print(\"Func1 Name : \", my_func1.__name__)\n",
        "print(\"Func1 Doc : \",  my_func1.__doc__)\n",
        " \n",
        "#구분선\n",
        "print('-' * 50)\n",
        " \n",
        "#데코레이터 사용 함수 실행(wraps 사용)\n",
        "my_func2()\n",
        "print(\"Func2 Name : \", my_func2.__name__)\n",
        "print(\"Func1 Doc : \",  my_func2.__doc__)\n",
        " \n",
        "##### 참고 자료 #####\n",
        " \n",
        "#데코레이터 미사용 함수 실행(wraps 미사용)\n",
        "deco_my_func1 = my_decorator1(my_func1)\n",
        "deco_my_func1()\n",
        " \n",
        "#구분선\n",
        "print('-' * 50)\n",
        " \n",
        "#데코레이터 미사용 함수 실행(wraps 사용)\n",
        "deco_my_func2 = my_decorator1(my_func2)\n",
        "deco_my_func2()\n"
      ],
      "execution_count": null,
      "outputs": [
        {
          "output_type": "stream",
          "text": [
            "decorator1 - no use wrapper\n",
            "my_func1 run!\n",
            "Func1 Name :  runs_func\n",
            "Func1 Doc :  None\n",
            "--------------------------------------------------\n",
            "decorator2 - use wrapper\n",
            "my_func2 run!\n",
            "Func2 Name :  my_func2\n",
            "Func1 Doc :  \n",
            "    func attr text2\n",
            "    \n",
            "decorator1 - no use wrapper\n",
            "decorator1 - no use wrapper\n",
            "my_func1 run!\n",
            "--------------------------------------------------\n",
            "decorator1 - no use wrapper\n",
            "decorator2 - use wrapper\n",
            "my_func2 run!\n"
          ],
          "name": "stdout"
        }
      ]
    },
    {
      "cell_type": "markdown",
      "metadata": {
        "id": "czCPiAKqZ5UW"
      },
      "source": [
        "데커레이더를 활용하면 데커레이터를 사용하는 함수의 __name__과 __doc__값에 차이가 생김.<br/> 파이썬에서 데커레이터를 사용한다면, 디버깅을 위해서 functools.wraps 모듈을 사용한다."
      ]
    },
    {
      "cell_type": "code",
      "metadata": {
        "id": "17thMAFaUL3q",
        "colab": {
          "base_uri": "https://localhost:8080/"
        },
        "outputId": "d5b1bd63-f794-4f46-bd94-5bea0a177dc7"
      },
      "source": [
        "from functools import wraps\n",
        "\n",
        "def logged(func):\n",
        "    def with_logging(*args, **kwargs):\n",
        "        \"\"\"with_logging() 함수\"\"\"\n",
        "        print(func.__name__ + \" 호출\")\n",
        "        return func(*args, **kwargs)\n",
        "    return with_logging\n",
        "\n",
        "@logged\n",
        "def f(x):\n",
        "    \"\"\"첫 번째, 데커레이터 사용 \"\"\"\n",
        "    return x + x * x\n",
        "\n",
        "def f2(x):\n",
        "    \"\"\"두 번째, 데커레이터 사용 \"\"\"\n",
        "    return x + x * x\n",
        "\n",
        "def logged2(func):\n",
        "    @wraps(func)\n",
        "    def with_logging(*args, **kwargs):\n",
        "        print(func.__name__ + \" 호출\")\n",
        "        return func(*args, **kwargs)\n",
        "    return with_logging\n",
        "\n",
        "@logged2\n",
        "def f3(x):\n",
        "    \"\"\"세 번째, wraps와 데커레이터 사용 \"\"\"\n",
        "    return x + x * x\n",
        "\n",
        "if __name__ == \"__main__\":\n",
        "    print(f\"결과: {f(5)}\")\n",
        "    print(f\"__name__: {f.__name__}\")\n",
        "    print(f\"__doc__: {f.__doc__}\")\n",
        "    print(\"_\"*15)\n",
        "    f2 = logged(f2)\n",
        "    print(f\"결과: {f2(5)}\")\n",
        "    print(f\"__name__: {f2.__name__}\")\n",
        "    print(f\"__doc__: {f2.__doc__}\")\n",
        "    print(\"-\"*15)\n",
        "    print(f\"결과: {f3(5)}\")\n",
        "    print(f\"__name__: {f3.__name__})\")\n",
        "    print(f\"__doc__: {f3.__doc__}\")\n",
        "\n",
        "\n",
        "# 래핑해야만 다르게 뜸\n",
        "\n"
      ],
      "execution_count": 4,
      "outputs": [
        {
          "output_type": "stream",
          "text": [
            "f 호출\n",
            "결과: 30\n",
            "__name__: with_logging\n",
            "__doc__: with_logging() 함수\n",
            "_______________\n",
            "f2 호출\n",
            "결과: 30\n",
            "__name__: with_logging\n",
            "__doc__: with_logging() 함수\n",
            "---------------\n",
            "f3 호출\n",
            "결과: 30\n",
            "__name__: f3)\n",
            "__doc__: 세 번째, wraps와 데커레이터 사용 \n"
          ],
          "name": "stdout"
        }
      ]
    },
    {
      "cell_type": "markdown",
      "metadata": {
        "id": "7z_k9cdQdP5Q"
      },
      "source": [
        "## 11.2 연습문제"
      ]
    },
    {
      "cell_type": "markdown",
      "metadata": {
        "id": "0_IvtXwfdSg9"
      },
      "source": [
        "### 11.2.1 최장 증가 부분열\n"
      ]
    },
    {
      "cell_type": "code",
      "metadata": {
        "colab": {
          "base_uri": "https://localhost:8080/"
        },
        "id": "DQnbAKOOcsTF",
        "outputId": "ffb80b30-224c-43f4-c9bd-d9832db59783"
      },
      "source": [
        "from bisect import bisect\n",
        "from itertools import combinations\n",
        "from functools import wraps\n",
        "\n",
        "# from benchmark import benchmark\n",
        "\n",
        "def naive_longest_inc_subseq(seq):\n",
        "    \"\"\" 1) 단순한 방법 \"\"\"\n",
        "    for length in range(len(seq), 0, -1):\n",
        "        for sub in combinations(seq, length):        # 원하는 길이의 부분집합을 만들어줌\n",
        "            if list(sub) == sorted(sub):\n",
        "                return len(sub)\n",
        "\n",
        "def dp_longest_inc_subseq(seq):      # 다시~\n",
        "    \"\"\" 2) 동적 계획법 \"\"\"\n",
        "    L = [1] * len(seq)\n",
        "    res = []\n",
        "\n",
        "    for cur, val in enumerate(seq):\n",
        "        for pre in range(cur):\n",
        "            if seq[pre] <= val:\n",
        "                L[cur] = max(L[cur], 1 + L[pre])\n",
        "        return max(L)\n",
        "\n",
        "def memo(func):\n",
        "    cache = {}\n",
        "\n",
        "    @wraps(func)\n",
        "    def wrap(*args):\n",
        "        if args not in cache:\n",
        "            cache[args] = func(*args)\n",
        "        return cache[args]\n",
        "    return wrap\n",
        "\n",
        "def memoized_longest_inc_subseq(seq):\n",
        "    \"\"\" 3) 메모이제이션 \"\"\"\n",
        "    @memo\n",
        "    def L(cur):\n",
        "        res = 1\n",
        "        for pre in range(cur):\n",
        "            if seq[pre] <= seq[cur]:\n",
        "                res = max(res, 1 + L(pre))\n",
        "        return res\n",
        "    return max(L(i) for i in range(len(seq)))\n",
        "\n",
        "def longest_inc_bisec(seq):\n",
        "    \"\"\" 4) 이진 검색 \"\"\"\n",
        "    end = []\n",
        "    for val in seq:\n",
        "        idx = bisect(end, val)\n",
        "        if idx == len(end):\n",
        "            end.append(val)\n",
        "        else:\n",
        "            end[idx] = val\n",
        "        print(end)\n",
        "    return len(end)\n",
        "\n",
        "@benchmark\n",
        "def test_naive_longest_inc_subseq():\n",
        "    print(naive_longest_inc_subseq(s1))\n",
        "\n",
        "@benchmark\n",
        "def test_dp_longest_inc_subseq():\n",
        "    print(dp_longest_inc_subseq(s1))\n",
        "\n",
        "@benchmark\n",
        "def test_memoized_longest_inc_subseq():\n",
        "    print(memoized_longest_inc_subseq(s1))\n",
        "\n",
        "@benchmark\n",
        "def test_longest_inc_bisec():\n",
        "    print(longest_inc_bisec(s1))\n",
        "\n",
        "if __name__ == \"__main__\":\n",
        "    # from random import randrange\n",
        "    # s1 = [randrange(100) for i in range(20)]\n",
        "    s1 = [94, 8, 78, 22,38, 79, 93, 8, 84, 39]\n",
        "    print(s1)\n",
        "    test_naive_longest_inc_subseq()\n",
        "    test_dp_longest_inc_subseq()\n",
        "    test_memoized_longest_inc_subseq()\n",
        "    test_longest_inc_bisec()\n",
        "\n",
        "\n",
        "\n",
        "            \n"
      ],
      "execution_count": 14,
      "outputs": [
        {
          "output_type": "stream",
          "text": [
            "[94, 8, 78, 22, 38, 79, 93, 8, 84, 39]\n",
            "5\n",
            "test_naive_longest_inc_subseq: 0.54 ms\n",
            "1\n",
            "test_dp_longest_inc_subseq: 0.25 ms\n",
            "5\n",
            "test_memoized_longest_inc_subseq: 0.23 ms\n",
            "[94]\n",
            "[8]\n",
            "[8, 78]\n",
            "[8, 22]\n",
            "[8, 22, 38]\n",
            "[8, 22, 38, 79]\n",
            "[8, 22, 38, 79, 93]\n",
            "[8, 8, 38, 79, 93]\n",
            "[8, 8, 38, 79, 84]\n",
            "[8, 8, 38, 39, 84]\n",
            "5\n",
            "test_longest_inc_bisec: 2.07 ms\n"
          ],
          "name": "stdout"
        }
      ]
    },
    {
      "cell_type": "code",
      "metadata": {
        "colab": {
          "base_uri": "https://localhost:8080/"
        },
        "id": "ncsO9JN-d7l3",
        "outputId": "3448065e-a3c7-4f66-b096-88118d8c0f87"
      },
      "source": [
        "s = [11, 15, 7, 35, 59, 43]\n",
        "print(list(combinations(s, 3)))\n",
        "\n",
        "s2 = enumerate(s)\n",
        "for x, y in s2:\n",
        "    print(x, y)"
      ],
      "execution_count": 11,
      "outputs": [
        {
          "output_type": "stream",
          "text": [
            "[(11, 15, 7), (11, 15, 35), (11, 15, 59), (11, 15, 43), (11, 7, 35), (11, 7, 59), (11, 7, 43), (11, 35, 59), (11, 35, 43), (11, 59, 43), (15, 7, 35), (15, 7, 59), (15, 7, 43), (15, 35, 59), (15, 35, 43), (15, 59, 43), (7, 35, 59), (7, 35, 43), (7, 59, 43), (35, 59, 43)]\n",
            "0 11\n",
            "1 15\n",
            "2 7\n",
            "3 35\n",
            "4 59\n",
            "5 43\n"
          ],
          "name": "stdout"
        }
      ]
    }
  ]
}