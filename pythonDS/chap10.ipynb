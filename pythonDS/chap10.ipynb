{
  "nbformat": 4,
  "nbformat_minor": 0,
  "metadata": {
    "colab": {
      "name": "chap10.ipynb",
      "provenance": []
    },
    "kernelspec": {
      "name": "python3",
      "display_name": "Python 3"
    },
    "language_info": {
      "name": "python"
    }
  },
  "cells": [
    {
      "cell_type": "markdown",
      "metadata": {
        "id": "oRTJ12AeUDQC"
      },
      "source": [
        "# Chapter 10 검색"
      ]
    },
    {
      "cell_type": "markdown",
      "metadata": {
        "id": "LPxwKGjKUIGo"
      },
      "source": [
        "## 10.1 정렬되지 않은 배열"
      ]
    },
    {
      "cell_type": "markdown",
      "metadata": {
        "id": "NVmLe2CZUMMU"
      },
      "source": [
        "### 10.1.1 순차 검색\n",
        "리스트 항목에서의 순차 검색 시 최선 O(1), 평균 O(n/2), 최악 O(n)"
      ]
    },
    {
      "cell_type": "code",
      "metadata": {
        "colab": {
          "base_uri": "https://localhost:8080/"
        },
        "id": "8tiaiyqTT8dq",
        "outputId": "c5efa5df-d831-4db2-b405-ec1f47fb9b62"
      },
      "source": [
        "def sequential_search(seq, n):\n",
        "    for item in seq:\n",
        "        if item == n:\n",
        "            return True\n",
        "    return False\n",
        "\n",
        "def test_sequential_search():\n",
        "    seq = [1, 5, 6, 8, 3]\n",
        "    n1 = 5\n",
        "    n2 = 7\n",
        "    assert(sequential_search(seq, n1) is True)\n",
        "    assert(sequential_search(seq, n2) is False)\n",
        "    print(\"테스트 통과!\")\n",
        "\n",
        "if __name__==\"__main__\":\n",
        "    test_sequential_search()\n",
        "    "
      ],
      "execution_count": 1,
      "outputs": [
        {
          "output_type": "stream",
          "text": [
            "테스트 통과!\n"
          ],
          "name": "stdout"
        }
      ]
    },
    {
      "cell_type": "markdown",
      "metadata": {
        "id": "SLhVAEu-Vlkz"
      },
      "source": [
        "정렬된 리스트에 대하여"
      ]
    },
    {
      "cell_type": "code",
      "metadata": {
        "colab": {
          "base_uri": "https://localhost:8080/"
        },
        "id": "Ttl8B2CnVUyH",
        "outputId": "e014164d-f913-4327-a37b-07fe9298bf33"
      },
      "source": [
        "def ordered_sequential_search(seq, n):\n",
        "    item = 0\n",
        "    for item in seq:\n",
        "        if item > n:\n",
        "            return False\n",
        "        if item == n:\n",
        "            return True\n",
        "    return False\n",
        "\n",
        "def test_ordered_sequential_search():\n",
        "    seq = [1, 2, 4, 5, 6, 8, 10]\n",
        "    n1 = 10\n",
        "    n2 = 7\n",
        "    assert(ordered_sequential_search(seq, n1) is True)\n",
        "    assert(ordered_sequential_search(seq, n2) is False)\n",
        "    print(\"테스트 통과!\")\n",
        "\n",
        "if __name__ == \"__main__\":\n",
        "    test_ordered_sequential_search()"
      ],
      "execution_count": 2,
      "outputs": [
        {
          "output_type": "stream",
          "text": [
            "테스트 통과!\n"
          ],
          "name": "stdout"
        }
      ]
    },
    {
      "cell_type": "markdown",
      "metadata": {
        "id": "JlDoILZnX8CM"
      },
      "source": [
        "### 10.1.2 빠른 선택과 순서통계량\n",
        "k번째로 작은 항목 찾기</br>\n",
        "일반적으로 배열의 중앙에 있는 값보다 '큰' 값으로 중앙값을 정의할 수 있다. 이러한 정의는 가장 가까운 이웃 또는 최단 경로를 찾는 등의 문제를 풀 때 중요"
      ]
    },
    {
      "cell_type": "code",
      "metadata": {
        "colab": {
          "base_uri": "https://localhost:8080/"
        },
        "id": "hF1VHvmtX6zR",
        "outputId": "21e04d78-d838-4e4c-a308-7244af6939c7"
      },
      "source": [
        "import random\n",
        "\n",
        "def quick_select_cache(seq, k):\n",
        "    len_seq = len(seq)\n",
        "    if len_seq < 2:\n",
        "        return seq[0]\n",
        "\n",
        "    # 피벗을 무작위로 선택할 수 있다.\n",
        "    # pivot = random.choice(seq)\n",
        "    ipivot = len_seq // 2\n",
        "    pivot = seq[ipivot]\n",
        "\n",
        "    smallerList = [x for i, x in enumerate(seq) if x <= pivot and i != ipivot] # <- 왜 enumerate로 변환?\n",
        "    largerList = [x for i, x in enumerate(seq) if x > pivot and i != ipivot]  # <- 여긴 != 필요없지않나\n",
        "\n",
        "    m = len(smallerList)\n",
        "    if k == m:\n",
        "        return pivot\n",
        "    elif k < m:\n",
        "        return quick_select_cache(smallerList, k)\n",
        "    else:\n",
        "        return quick_select_cache(largerList, k-m-1)  # -1은 피봇\n",
        "    \n",
        "def swap(seq, x, y):\n",
        "    seq[x], seq[y] = seq[y], seq[x]\n",
        "\n",
        "def quick_select(seq, k, left=None, right=None):\n",
        "    left = left or 0\n",
        "    right = right or len(seq) - 1\n",
        "    ipivot = random.randint(left, right)\n",
        "    pivot = seq[ipivot]\n",
        "\n",
        "    # 피봇을 정렬 범위 밖으로 이동한다.\n",
        "    swap(seq, ipivot, right)\n",
        "    swapIndex, i = left, left\n",
        "    while i < right:\n",
        "        if pivot < seq[i]:\n",
        "            swap(seq, i, swapIndex)\n",
        "            swapIndex += 1\n",
        "        i += 1\n",
        "\n",
        "    # 피봇 위치를 확정한다.\n",
        "    swap(seq, right, swapIndex)\n",
        "\n",
        "    # 피봇 위치를 확인한다.\n",
        "    rank = len(seq) - swapIndex\n",
        "    if k == rank:\n",
        "        return seq[swapIndex]\n",
        "    elif k < rank:\n",
        "        return quick_select(seq, k, swapIndex+1, right) # right에 큰 값들이 있으니까\n",
        "    else:\n",
        "        return quick_select(seq, k, left, swapIndex-1)\n",
        "\n",
        "if __name__ == \"__main__\":\n",
        "    seq = [3, 7, 2, 1, 4, 6, 5, 10, 9, 11]\n",
        "    k = len(seq) // 2\n",
        "    print(sorted(seq))\n",
        "    print(quick_select_cache(seq, k-1))\n",
        "\n",
        "    # 아래 함수는 원본을 수정하므로 깊은 복사 실행\n",
        "    import copy\n",
        "    seq_copy = copy.deepcopy(seq)\n",
        "    print(quick_select(seq_copy, k))\n",
        "\n",
        "    # 중앙값(median) 출력을 위해서 넘파이를 사용함\n",
        "    import numpy\n",
        "    print(numpy.median(seq))\n",
        "\n"
      ],
      "execution_count": 5,
      "outputs": [
        {
          "output_type": "stream",
          "text": [
            "[1, 2, 3, 4, 5, 6, 7, 9, 10, 11]\n",
            "5\n",
            "5\n",
            "5.5\n"
          ],
          "name": "stdout"
        }
      ]
    },
    {
      "cell_type": "markdown",
      "metadata": {
        "id": "5vUqv5GMg7_B"
      },
      "source": [
        "## 10.2 정렬된 배열"
      ]
    },
    {
      "cell_type": "markdown",
      "metadata": {
        "id": "ZlfyCf43g-wg"
      },
      "source": [
        "### 10.2.1 이진 검색\n",
        "이진 검색은 정렬된 배열 내에서 지정된 입력값의 위치(키)를 찾는다.\n",
        "이진 검색의 시간 복잡도는 O(log n)"
      ]
    },
    {
      "cell_type": "code",
      "metadata": {
        "colab": {
          "base_uri": "https://localhost:8080/"
        },
        "id": "tf1uDtkdd1Iv",
        "outputId": "ae6ca4c9-c4b3-4759-ca0b-5e7f1280f5a5"
      },
      "source": [
        "# 재귀함수\n",
        "def binary_search_rec(seq, target, low, high):\n",
        "    if low > high:\n",
        "        return None\n",
        "    mid = (low + high) // 2\n",
        "    if target == seq[mid]:\n",
        "        return mid\n",
        "    elif target < seq[mid]:\n",
        "        return binary_search_rec(seq, target, low, mid-1)\n",
        "    else:\n",
        "        return binary_search_rec(seq, target, mid+1, high)\n",
        "    \n",
        "# 반복문\n",
        "def binary_search_iter(seq, target):\n",
        "    high, low = len(seq), 0\n",
        "    while low < high:\n",
        "        mid = (high + low) // 2\n",
        "        if target == seq[mid]:\n",
        "            return mid\n",
        "        elif target < seq[mid]:\n",
        "            high = mid\n",
        "        else:\n",
        "            low = mid + 1\n",
        "    return None\n",
        "\n",
        "def test_binary_search():\n",
        "    seq = [1, 2, 5, 6, 7, 10, 12, 12, 14, 15]\n",
        "    target = 6\n",
        "    assert(binary_search_iter(seq, target) == 3)\n",
        "    assert(binary_search_rec(seq, target, 0, len(seq)) == 3)\n",
        "    print(\"테스트 통과!\")\n",
        "\n",
        "if __name__ == \"__main__\":\n",
        "    test_binary_search()"
      ],
      "execution_count": 8,
      "outputs": [
        {
          "output_type": "stream",
          "text": [
            "테스트 통과!\n"
          ],
          "name": "stdout"
        }
      ]
    },
    {
      "cell_type": "markdown",
      "metadata": {
        "id": "KhjLVI65lm2A"
      },
      "source": [
        "### 10.2.2 bisect 모듈\n",
        "정렬된 배열에서 특정한 워소를 찾을 때 O(log n)"
      ]
    },
    {
      "cell_type": "code",
      "metadata": {
        "colab": {
          "base_uri": "https://localhost:8080/"
        },
        "id": "j-0k7zi5khvU",
        "outputId": "cbdd0bad-12c9-41aa-8b05-e8db50afba9e"
      },
      "source": [
        "from bisect import bisect   # bisect_left나 bisect_right도 알아볼것\n",
        "l = [0, 3, 4, 5]\n",
        "bisect(l, 5) # 결과값 4\n",
        "\n",
        "# 빈 리스트 혹은 값이 없는 예외의 경우\n",
        "bisect(l, -1)\n",
        "bisect(l,1)   # ???\n",
        "bisect(l, 7)\n",
        "bisect([], 1)"
      ],
      "execution_count": 14,
      "outputs": [
        {
          "output_type": "execute_result",
          "data": {
            "text/plain": [
              "0"
            ]
          },
          "metadata": {
            "tags": []
          },
          "execution_count": 14
        }
      ]
    },
    {
      "cell_type": "markdown",
      "metadata": {
        "id": "EYNf7ap8m_QS"
      },
      "source": [
        "## 연습문제"
      ]
    },
    {
      "cell_type": "markdown",
      "metadata": {
        "id": "kuNPyOUPnAzZ"
      },
      "source": [
        "### 10.3.1 행렬 검색\n",
        "모든 행은 왼->오, 열은 위->아래로 정렬되어 있음.(오름차순)"
      ]
    },
    {
      "cell_type": "code",
      "metadata": {
        "id": "ltS5iB2jm-ff"
      },
      "source": [
        "def find_elem_matrix_bool(m1, value):\n",
        "    found = False\n",
        "    row = 0\n",
        "    col = len(m1[0]) - 1\n",
        "    while row < len(m1) and col >= 0:\n",
        "        if m1[row][col] == value:           # ***** 가장 큰 동시에 가장 작은 값 *****\n",
        "            found = True\n",
        "            break\n",
        "        elif m1[row][col] > value:\n",
        "            col -= 1\n",
        "        else:\n",
        "            row += 1\n",
        "    return found\n",
        "\n",
        "def test_find_elem_matrix_bool():\n",
        "    m1 = [[1, 2, 8, 9], [2, 4, 9, 12], [4, 7, 10, 13], [6, 8, 11, 15]]\n",
        "    assert(find_elem_matrix_bool(m1, 8) is True)\n",
        "    assert(find_elem_matrix_bool(m1, 3) is False)\n",
        "    m2 = [[0]]\n",
        "    assert(find_elem_matrix_bool(m2, 0) is True)\n",
        "    print(\"테스트 통과!\")"
      ],
      "execution_count": null,
      "outputs": []
    },
    {
      "cell_type": "markdown",
      "metadata": {
        "id": "L_fjdmcYuPrd"
      },
      "source": [
        "모든 행이 오름차순"
      ]
    },
    {
      "cell_type": "code",
      "metadata": {
        "colab": {
          "base_uri": "https://localhost:8080/"
        },
        "id": "Tey6f1CZuTeb",
        "outputId": "827d19b8-14ec-4f38-e293-f63fec859bd5"
      },
      "source": [
        "def searching_in_a_matrix(m1, value):\n",
        "    rows = len(m1)\n",
        "    cols = len(m1[0])\n",
        "    lo = 0\n",
        "    hi = rows*cols\n",
        "    while lo < hi:\n",
        "        mid = (lo + hi) // 2\n",
        "        row = mid // cols\n",
        "        col = mid % cols\n",
        "        v = m1[row][col]\n",
        "        if v == value:\n",
        "            return True\n",
        "        elif v > value:\n",
        "            hi = mid\n",
        "        else:\n",
        "            lo = mid+1\n",
        "    return False\n",
        "\n",
        "def test_searching_in_a_matrix():\n",
        "    a = [[1, 3, 5], [7, 9, 11], [13, 15, 17]]\n",
        "    import numpy as np\n",
        "    b = np.array([(1, 2), (3, 4)])\n",
        "    assert(searching_in_a_matrix(a, 13) is True)\n",
        "    assert(searching_in_a_matrix(a, 14) is False)\n",
        "    assert(searching_in_a_matrix(b, 3) is True)\n",
        "    assert(searching_in_a_matrix(b, 5) is False)\n",
        "    print(\"테스트 통과!\")\n",
        "\n",
        "if __name__ == \"__main__\":\n",
        "    test_searching_in_a_matrix()"
      ],
      "execution_count": 16,
      "outputs": [
        {
          "output_type": "stream",
          "text": [
            "테스트 통과!\n"
          ],
          "name": "stdout"
        }
      ]
    },
    {
      "cell_type": "markdown",
      "metadata": {
        "id": "GJt5ZATRwrNm"
      },
      "source": [
        "### 10.3.2 단봉형 배열\n",
        "배열 요소들의 산포도를 그렸을 때 값이 증가했다가 다시 감소하는 곡선인 경우 단봉형이라고함. 단봉형 배열에서 이진 검색으로 최댓값 찾기"
      ]
    },
    {
      "cell_type": "code",
      "metadata": {
        "colab": {
          "base_uri": "https://localhost:8080/"
        },
        "id": "4T1tllKRwKd5",
        "outputId": "5db374da-1689-4f53-8ae1-1ff87f38246c"
      },
      "source": [
        "def find_max_unimodal_array(A):     # unimodal <- 단봉형\n",
        "    if len(A) <= 2:\n",
        "        return None\n",
        "    left = 0\n",
        "    right = len(A) - 1\n",
        "    while right > left +1:\n",
        "        mid = (left + right) // 2\n",
        "        if A[mid] > A[mid-1] and A[mid] > A[mid+1]:\n",
        "            return A[mid]\n",
        "        elif A[mid] > A[mid-1] and A[mid] < A[mid+1] :\n",
        "            left = mid\n",
        "        else:\n",
        "            right = mid\n",
        "    return None\n",
        "\n",
        "def test_find_max_unimodal_array():\n",
        "    seq = [1, 2, 5, 6, 7, 10, 12, 9, 8, 7, 6]\n",
        "    assert(find_max_unimodal_array(seq) == max(seq))\n",
        "    print(\"테스트 통과!\")\n",
        "\n",
        "if __name__ == \"__main__\":\n",
        "    test_find_max_unimodal_array()"
      ],
      "execution_count": 18,
      "outputs": [
        {
          "output_type": "stream",
          "text": [
            "테스트 통과!\n"
          ],
          "name": "stdout"
        }
      ]
    },
    {
      "cell_type": "markdown",
      "metadata": {
        "id": "_cLiX25OyKgY"
      },
      "source": [
        "### 10.3.3 제곱근 계산하기"
      ]
    },
    {
      "cell_type": "code",
      "metadata": {
        "colab": {
          "base_uri": "https://localhost:8080/"
        },
        "id": "qk8wG3sxyHuF",
        "outputId": "585e8672-2c82-4c59-9aa4-bce2cb0840c9"
      },
      "source": [
        "def find_sqrt_bin_search(n, error=0.001):\n",
        "    lower = n < 1 and n or 1\n",
        "    upper = n < 1 and 1 or n\n",
        "    mid = lower + (upper - lower) / 2.0\n",
        "    square = mid * mid\n",
        "    while abs(square - n) > error:\n",
        "        if square < n:\n",
        "            lower = mid      # 작으니까 작은 값을 키우기\n",
        "        else:\n",
        "            upper = mid      # 크니까 큰 값을 줄이기\n",
        "        mid = lower + (upper - lower) / 2.0\n",
        "        square = mid * mid\n",
        "    return mid\n",
        "\n",
        "if __name__ == \"__main__\":\n",
        "    a = 2\n",
        "    b = 9\n",
        "    import math\n",
        "    print(math.sqrt(a))\n",
        "    print(find_sqrt_bin_search(a))\n",
        "    print(math.sqrt(b))\n",
        "    print(find_sqrt_bin_search(b))"
      ],
      "execution_count": 19,
      "outputs": [
        {
          "output_type": "stream",
          "text": [
            "1.4142135623730951\n",
            "1.4140625\n",
            "3.0\n",
            "3.0\n"
          ],
          "name": "stdout"
        }
      ]
    },
    {
      "cell_type": "code",
      "metadata": {
        "colab": {
          "base_uri": "https://localhost:8080/"
        },
        "id": "y_Z8OWl90oC6",
        "outputId": "293cb384-2ae4-4ead-db8c-2eb3621d90e2"
      },
      "source": [
        "# 백준 13706\n",
        "\n",
        "def find_sqrt_bin_search(n, error=0.001):\n",
        "    lower = n < 1 and n or 1\n",
        "    upper = n < 1 and 1 or n\n",
        "    mid = lower + (upper - lower) / 2.0\n",
        "    square = mid * mid\n",
        "    while abs(square - n) > error:\n",
        "        if square < n:\n",
        "            lower = mid      # 작으니까 작은 값을 키우기\n",
        "        else:\n",
        "            upper = mid      # 크니까 큰 값을 줄이기\n",
        "        mid = lower + (upper - lower) / 2.0\n",
        "        square = mid * mid\n",
        "    return mid\n",
        "\n",
        "N = int(input())\n",
        "num = find_sqrt_bin_search(N)\n",
        "print(round(num))"
      ],
      "execution_count": 23,
      "outputs": [
        {
          "output_type": "stream",
          "text": [
            "226576\n",
            "476\n"
          ],
          "name": "stdout"
        }
      ]
    },
    {
      "cell_type": "markdown",
      "metadata": {
        "id": "S4-9wpqw4NaA"
      },
      "source": [
        "### 10.3.4 빈도 계산하기\n",
        "binary_search.py를 사용해서 정렬된 리스트에서 요소 k가 나타나는 횟수 구하기"
      ]
    },
    {
      "cell_type": "code",
      "metadata": {
        "colab": {
          "base_uri": "https://localhost:8080/"
        },
        "id": "CWcMvwX-4brn",
        "outputId": "f615afed-59e9-4edd-dc15-6ed7ffb1d547"
      },
      "source": [
        "# from binary_search import binary_search_iter\n",
        "\n",
        "def find_time_occurrence_list(seq, k):\n",
        "    index_some_k = binary_search_iter(seq, k)\n",
        "    count = 1\n",
        "    sizet = len(seq)\n",
        "    for i in range(index_some_k+1, sizet):\n",
        "        if seq[i] == k:\n",
        "            count += 1\n",
        "        else:\n",
        "            break\n",
        "    for i in range(index_some_k-1, -1, -1):\n",
        "        if seq[i] == k:\n",
        "            count += 1\n",
        "        else:\n",
        "            break\n",
        "    return count\n",
        "\n",
        "def test_find_time_occurrence_list():\n",
        "    seq = [1, 2, 2, 2, 2, 2, 2, 5, 6, 6, 7, 8, 9]\n",
        "    k = 2\n",
        "    assert(find_time_occurrence_list(seq, k) == 6)\n",
        "    print(\"테스트 통과!\")\n",
        "\n",
        "if __name__ == \"__main__\":\n",
        "    test_find_time_occurrence_list()\n",
        "\n"
      ],
      "execution_count": 30,
      "outputs": [
        {
          "output_type": "stream",
          "text": [
            "테스트 통과!\n"
          ],
          "name": "stdout"
        }
      ]
    },
    {
      "cell_type": "markdown",
      "metadata": {
        "id": "wuWC4Js26hkj"
      },
      "source": [
        "### 10.3.5 교집합 구하기\n",
        "세 가지 방법으로 두 리스트의 교집합 구하기.\n",
        "1. 셋, 순서 x\n",
        "2. 병합 정렬\n",
        "3. 이진 검색, 배열 중 하나가 다른 배열보다 월등히 클때 적합"
      ]
    },
    {
      "cell_type": "code",
      "metadata": {
        "colab": {
          "base_uri": "https://localhost:8080/"
        },
        "id": "rRiVFRIz5Vou",
        "outputId": "1ca98e69-eca5-4eb4-ec4d-41e9cb4df5c1"
      },
      "source": [
        "# from binary_search import binary_search_iter\n",
        "\n",
        "# 파이썬 set 사용\n",
        "def intersection_two_arrays_sets(seq1, seq2):\n",
        "    set1 = set(seq1)\n",
        "    set2 = set(seq2)\n",
        "    return set1.intersection(set2)\n",
        "\n",
        "# 병합 정렬 사용\n",
        "def intersection_two_arrays_ms(seq1, seq2):      # <-- 정렬된 seq에 대해서 사용하는 건가?\n",
        "    res = []\n",
        "    while seq1 and seq2:\n",
        "        if seq1[-1] == seq2[-1]:\n",
        "            res.append(seq1.pop())\n",
        "            seq2.pop()\n",
        "        elif seq1[-1] > seq2[-1]:\n",
        "            seq1.pop()\n",
        "        else:\n",
        "            seq2.pop()\n",
        "    res.reverse()\n",
        "    return res\n",
        "\n",
        "# 이진 검색 사용\n",
        "def intersection_two_arrays_bs(seq1, seq2):\n",
        "    if len(seq1) > len(seq2):\n",
        "        seq, key = seq1, seq2\n",
        "    else:\n",
        "        seq, key = seq2, seq1\n",
        "    intersec = []\n",
        "    for item in key:\n",
        "        if binary_search_iter(seq, item):\n",
        "            intersec.append(item)\n",
        "    return intersec\n",
        "\n",
        "def test_intersection_two_arrays():\n",
        "    seq1 = [1, 2, 3, 5, 7, 8]\n",
        "    seq2 = [3, 5, 6]\n",
        "    assert(set(intersection_two_arrays_sets(seq1, seq2)) == set([3, 5]))\n",
        "    assert(intersection_two_arrays_bs(seq1, seq2) == [3, 5])\n",
        "    assert(intersection_two_arrays_ms(seq1, seq2) == [3, 5])\n",
        "    print(\"테스트 통과!\")\n",
        "\n",
        "if __name__ == \"__main__\":\n",
        "    test_intersection_two_arrays()"
      ],
      "execution_count": 35,
      "outputs": [
        {
          "output_type": "stream",
          "text": [
            "테스트 통과!\n"
          ],
          "name": "stdout"
        }
      ]
    },
    {
      "cell_type": "code",
      "metadata": {
        "id": "9WCyTODp8_aV"
      },
      "source": [
        ""
      ],
      "execution_count": null,
      "outputs": []
    }
  ]
}