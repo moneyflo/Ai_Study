{
  "nbformat": 4,
  "nbformat_minor": 0,
  "metadata": {
    "colab": {
      "name": "chap6.ipynb",
      "provenance": []
    },
    "kernelspec": {
      "name": "python3",
      "display_name": "Python 3"
    },
    "language_info": {
      "name": "python"
    }
  },
  "cells": [
    {
      "cell_type": "markdown",
      "metadata": {
        "id": "794EuhJ0aakd"
      },
      "source": [
        "# Chapter 06 파이썬 고급 주제"
      ]
    },
    {
      "cell_type": "markdown",
      "metadata": {
        "id": "kpT1S3jnaias"
      },
      "source": [
        "## 6.1 멀티 프로세스와 멀티 스레드\n",
        "* 멀티 프로세스\n",
        "* 멀티 스레드"
      ]
    },
    {
      "cell_type": "markdown",
      "metadata": {
        "id": "wraJXG8laqxC"
      },
      "source": [
        "### 6.1.1 subprocess 모듈\n",
        "subprocess 모듈은 '부모-자식' 프로세스 쌍을 생성하는 데 사용"
      ]
    },
    {
      "cell_type": "code",
      "metadata": {
        "colab": {
          "base_uri": "https://localhost:8080/"
        },
        "id": "fuM-K5slO2fW",
        "outputId": "7f0cc828-044e-4f89-aff1-4ace0cddaf43"
      },
      "source": [
        "import subprocess\n",
        "subprocess.run([\"echo\", \"이것은 subprocess입니다.\"])\n",
        "\n",
        "subprocess.run([\"sleep\", \"10\"]) # 10초 동안 sleep"
      ],
      "execution_count": 3,
      "outputs": [
        {
          "output_type": "execute_result",
          "data": {
            "text/plain": [
              "CompletedProcess(args=['sleep', '10'], returncode=0)"
            ]
          },
          "metadata": {
            "tags": []
          },
          "execution_count": 3
        }
      ]
    },
    {
      "cell_type": "markdown",
      "metadata": {
        "id": "DkTE4vAcbgYo"
      },
      "source": [
        "### 6.1.2 threading 모듈\n",
        "스레드가 여러 개로 분리되면, 스레드 간 데이터 공유의 복잡성이 증가. 내부적으로 락을 관리하기 위해 queue 모듈 사용. 밑에서 queue 모듈의 공식 문서 예제 수정."
      ]
    },
    {
      "cell_type": "code",
      "metadata": {
        "colab": {
          "base_uri": "https://localhost:8080/"
        },
        "id": "1dcwNr2KdDIF",
        "outputId": "de7f77d1-f5de-4190-a961-e607cb85fb14"
      },
      "source": [
        "import queue\n",
        "import threading\n",
        "\n",
        "q = queue.Queue()\n",
        "\n",
        "def worker(num):\n",
        "    while True:\n",
        "        item = q.get()\n",
        "        if item is None:\n",
        "            break\n",
        "        # 작업을 처리한다.\n",
        "        print(f\"스레드 {num+1} : 처리 완료 {item}\")\n",
        "        q.task_done()\n",
        "\n",
        "if __name__ == \"__main__\":\n",
        "    num_worker_threads = 5\n",
        "    threads = []\n",
        "    for i in range(num_worker_threads):\n",
        "        t = threading.Thread(target=worker, args=(i,))\n",
        "        t.start()\n",
        "        threads.append(t)\n",
        "\n",
        "    for item in range(20):\n",
        "        q.put(item)\n",
        "\n",
        "    # 모든 작업이 끝날 때까지 대기한다(block).\n",
        "    q.join()\n",
        "\n",
        "    # 워커 스레드를 종료한다(stop).\n",
        "    for i in range(num_worker_threads):\n",
        "        q.put(None)\n",
        "    for t in threads:\n",
        "        t.join()"
      ],
      "execution_count": 7,
      "outputs": [
        {
          "output_type": "stream",
          "text": [
            "스레드 1 : 처리 완료 0\n",
            "스레드 1 : 처리 완료 1\n",
            "스레드 1 : 처리 완료 2스레드 3 : 처리 완료 3\n",
            "스레드 2 : 처리 완료 4\n",
            "스레드 2 : 처리 완료 5\n",
            "스레드 2 : 처리 완료 6\n",
            "스레드 2 : 처리 완료 7\n",
            "스레드 2 : 처리 완료 8\n",
            "스레드 2 : 처리 완료 9\n",
            "스레드 2 : 처리 완료 10\n",
            "스레드 2 : 처리 완료 11\n",
            "스레드 2 : 처리 완료 12\n",
            "스레드 2 : 처리 완료 13\n",
            "스레드 2 : 처리 완료 14\n",
            "스레드 2 : 처리 완료 15\n",
            "스레드 2 : 처리 완료 16\n",
            "스레드 2 : 처리 완료 17\n",
            "스레드 1 : 처리 완료 18\n",
            "스레드 1 : 처리 완료 19\n",
            "\n"
          ],
          "name": "stdout"
        }
      ]
    },
    {
      "cell_type": "markdown",
      "metadata": {
        "id": "H2R-2pp9ehuw"
      },
      "source": [
        "### 6.1.3 뮤텍스와 세마포어\n",
        "mutex는 락과 같음. 1부터 시작하는 정수"
      ]
    },
    {
      "cell_type": "code",
      "metadata": {
        "colab": {
          "base_uri": "https://localhost:8080/"
        },
        "id": "MtorDaCldMsD",
        "outputId": "3c15c355-553c-4e12-9ace-59a73d949a89"
      },
      "source": [
        "from threading import Thread, Lock\n",
        "import threading\n",
        "\n",
        "def worker(mutex, data, thread_safe):\n",
        "    if thread_safe:\n",
        "        mutex.acquire()\n",
        "    try:\n",
        "        print(f\"스레드 {threading.get_ident()}: {data}\\n\")\n",
        "    finally:\n",
        "        if thread_safe:\n",
        "            mutex.release()\n",
        "    \n",
        "if __name__ == \"__main__\":\n",
        "    threads = []\n",
        "    thread_safe = True   # 뮤텍스 사용시 True\n",
        "    mutex = Lock()\n",
        "    for i in range(20):\n",
        "        t = Thread(target=worker, args=(mutex, i, thread_safe))\n",
        "        t.start()\n",
        "        threads.append(t)\n",
        "    for t in threads:\n",
        "        t.join()"
      ],
      "execution_count": 11,
      "outputs": [
        {
          "output_type": "stream",
          "text": [
            "스레드 140466045925120: 0\n",
            "\n",
            "스레드 140466037532416: 1\n",
            "\n",
            "스레드 140466062710528: 2\n",
            "\n",
            "스레드 140466140653312: 3\n",
            "\n",
            "스레드 140466037532416: 4\n",
            "\n",
            "스레드 140466062710528: 5\n",
            "\n",
            "스레드 140466045925120: 6\n",
            "\n",
            "스레드 140466054317824: 7\n",
            "\n",
            "스레드 140466037532416: 8\n",
            "\n",
            "스레드 140466140653312: 9\n",
            "\n",
            "스레드 140466029139712: 10\n",
            "\n",
            "스레드 140466062710528: 11\n",
            "\n",
            "스레드 140466045925120: 12\n",
            "\n",
            "스레드 140466029139712: 13\n",
            "\n",
            "스레드 140466062710528: 14\n",
            "\n",
            "스레드 140466045925120: 15\n",
            "\n",
            "스레드 140466045925120: 16\n",
            "\n",
            "스레드 140466029139712: 17\n",
            "\n",
            "스레드 140466062710528: 18\n",
            "\n",
            "스레드 140466062710528: 19\n",
            "\n"
          ],
          "name": "stdout"
        }
      ]
    },
    {
      "cell_type": "markdown",
      "metadata": {
        "id": "OVrpPxroigZQ"
      },
      "source": [
        "세마포어는 뮤텍스보다 더 일반적으로 사용되는 개념. 1보다 큰 수로 시작 가능. 세마포어값은 즉 한 번에 자원에 접근할 수 있는 스레드의 수다. 대기 및 신호 작업 지원"
      ]
    },
    {
      "cell_type": "code",
      "metadata": {
        "colab": {
          "base_uri": "https://localhost:8080/"
        },
        "id": "XYtTo1yQgtuP",
        "outputId": "648b0c64-0840-43ed-df23-3b97aa44bc13"
      },
      "source": [
        "import threading\n",
        "import time\n",
        "\n",
        "class ThreadPool(object):\n",
        "    def __init__(self):\n",
        "        self.active = []\n",
        "        self.lock = threading.Lock()\n",
        "\n",
        "    def acquire(self, name):\n",
        "        with self.lock:\n",
        "            self.active.append(name)\n",
        "            print(f\"획득: {name} | 스레드 풀: {self.active}\")\n",
        "    \n",
        "    def release(self, name):\n",
        "        with self.lock:\n",
        "            self.active.remove(name)\n",
        "            print(f\"반환: {name} | 스레드 풀: {self.active}\")\n",
        "    \n",
        "def worker(semaphore, pool):\n",
        "    with semaphore:\n",
        "        name = threading.currentThread().getName()\n",
        "        pool.acquire(name)\n",
        "        time.sleep(1)\n",
        "        pool.release(name)\n",
        "\n",
        "if __name__ == \"__main__\":\n",
        "    threads = []\n",
        "    pool = ThreadPool()\n",
        "    semaphore = threading.Semaphore(3)\n",
        "    for i in range(10):\n",
        "        t = threading.Thread(\n",
        "            target=worker, name=\"스레드 \" + str(i), args=(semaphore, pool))\n",
        "        t.start()\n",
        "        threads.append(t)\n",
        "    for t in threads:\n",
        "        t.join()"
      ],
      "execution_count": 12,
      "outputs": [
        {
          "output_type": "stream",
          "text": [
            "획득: 스레드 0 | 스레드 풀: ['스레드 0']\n",
            "획득: 스레드 1 | 스레드 풀: ['스레드 0', '스레드 1']\n",
            "획득: 스레드 2 | 스레드 풀: ['스레드 0', '스레드 1', '스레드 2']\n",
            "반환: 스레드 0 | 스레드 풀: ['스레드 1', '스레드 2']\n",
            "반환: 스레드 1 | 스레드 풀: ['스레드 2']\n",
            "반환: 스레드 2 | 스레드 풀: []\n",
            "획득: 스레드 3 | 스레드 풀: ['스레드 3']\n",
            "획득: 스레드 5 | 스레드 풀: ['스레드 3', '스레드 5']\n",
            "획득: 스레드 4 | 스레드 풀: ['스레드 3', '스레드 5', '스레드 4']\n",
            "반환: 스레드 3 | 스레드 풀: ['스레드 5', '스레드 4']\n",
            "반환: 스레드 5 | 스레드 풀: ['스레드 4']\n",
            "획득: 스레드 7 | 스레드 풀: ['스레드 4', '스레드 7']\n",
            "획득: 스레드 6 | 스레드 풀: ['스레드 4', '스레드 7', '스레드 6']\n",
            "반환: 스레드 4 | 스레드 풀: ['스레드 7', '스레드 6']\n",
            "획득: 스레드 8 | 스레드 풀: ['스레드 7', '스레드 6', '스레드 8']\n",
            "반환: 스레드 7 | 스레드 풀: ['스레드 6', '스레드 8']\n",
            "반환: 스레드 6 | 스레드 풀: ['스레드 8']\n",
            "획득: 스레드 9 | 스레드 풀: ['스레드 8', '스레드 9']\n",
            "반환: 스레드 8 | 스레드 풀: ['스레드 9']\n",
            "반환: 스레드 9 | 스레드 풀: []\n"
          ],
          "name": "stdout"
        }
      ]
    },
    {
      "cell_type": "markdown",
      "metadata": {
        "id": "lCEIrTK0k9Fq"
      },
      "source": [
        "### 6.1.4 데드락과 스핀락\n",
        "데드락(교착 상태)은 두 개 이상의 프로세스나 스레드가 서로 상대방의 작업이 끝나기만을 기다리고 있기 때문에 결과적으로 아무것도 완료되지 못하는 상태. 프로그램에 락을 할당하고, 락을 순서대로 획득한다면, 교착 상태를 막을 수 있다.<br/>\n",
        "다음 네 가지 조건을 모두 충족하면 데드락 발생\n",
        "* 상호 배제\n",
        "* 점유와 대기\n",
        "* 비선점\n",
        "* 순환 대기 <br/>\n",
        "\n",
        "스핀락은 고성능 컴퓨팅 상황에 유용한 바쁜대기의 한 형태. 임계 구역에 진입이 불가능할 때, 진입이 가능할 때까지 반복문을 돌면서 재시도하는 방식으로 구현된 락."
      ]
    },
    {
      "cell_type": "markdown",
      "metadata": {
        "id": "zHPruepul4Ut"
      },
      "source": [
        "### 6.1.5 스레딩에 대한 구글 파이썬 스타일 가이드\n",
        "\n",
        "저수준의 락 대신, threading.Condition을 사용할 수 있도록 조건 변수를 적절하게 사용하는 방법을 숙지. 아래는 생산자-소비자 모델의 간단한 예."
      ]
    },
    {
      "cell_type": "code",
      "metadata": {
        "colab": {
          "base_uri": "https://localhost:8080/"
        },
        "id": "EMY2B_i7k5w0",
        "outputId": "824d3fba-a440-448d-a5db-1b83f973b1a0"
      },
      "source": [
        "import threading\n",
        "\n",
        "def consumer(cond):\n",
        "    name = threading.currentThread().getName()\n",
        "    print(f\"{name} 시작\")\n",
        "    with cond:\n",
        "        print(f\"{name} 대기\")\n",
        "        cond.wait()\n",
        "        print(f\"{name} 자원 소비\")\n",
        "\n",
        "def producer(cond):\n",
        "    name = threading.currentThread().getName()\n",
        "    print(f\"{name} 시작\")\n",
        "    with cond:\n",
        "        print(f\"{name} 자원 생산 후 모든 소비자에게 알림\")\n",
        "        cond.notifyAll()\n",
        "\n",
        "if __name__ == \"__main__\":\n",
        "    condition = threading.Condition()\n",
        "    consumer1 = threading.Thread(\n",
        "        name=\"소비자1\", target=consumer, args=(condition,))\n",
        "    consumer2 = threading.Thread(\n",
        "        name=\"소비자2\", target=consumer, args=(condition,))\n",
        "    producer = threading.Thread(name=\"생산자\", target=producer,\n",
        "                                args=(condition,))\n",
        "    \n",
        "    consumer1.start()\n",
        "    consumer2.start()\n",
        "    producer.start()"
      ],
      "execution_count": 13,
      "outputs": [
        {
          "output_type": "stream",
          "text": [
            "소비자1 시작\n",
            "소비자2 시작\n",
            "소비자2 대기\n",
            "소비자1 대기\n",
            "생산자 시작\n",
            "생산자 자원 생산 후 모든 소비자에게 알림\n",
            "소비자1 자원 소비\n",
            "소비자2 자원 소비\n"
          ],
          "name": "stdout"
        }
      ]
    },
    {
      "cell_type": "code",
      "metadata": {
        "id": "xvOEq0TUova0"
      },
      "source": [
        ""
      ],
      "execution_count": null,
      "outputs": []
    }
  ]
}