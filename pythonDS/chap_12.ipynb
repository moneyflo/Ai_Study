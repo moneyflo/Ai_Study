{
  "nbformat": 4,
  "nbformat_minor": 0,
  "metadata": {
    "colab": {
      "name": "chap_12.ipynb",
      "provenance": []
    },
    "kernelspec": {
      "name": "python3",
      "display_name": "Python 3"
    },
    "language_info": {
      "name": "python"
    }
  },
  "cells": [
    {
      "cell_type": "markdown",
      "metadata": {
        "id": "nzqw0Z06kDSo"
      },
      "source": [
        "# Chapter 12 Graph basics"
      ]
    },
    {
      "cell_type": "markdown",
      "metadata": {
        "id": "dfqNWtR8hkrQ"
      },
      "source": [
        "## 12.1 용어\n",
        "\n",
        "그래프는 여러 노드(or 정점)들이 간선(or 아크)으로 연결된 추상 네트워크를 뜻함. 대수의 Group 비슷하기도 하고 topology space 랑도 비슷한 느낌남.<br/>\n",
        "G = (V,E). ex) V = {a,b,c,d}, E = {{a,b},{b,c},{c,d},{d,a}}"
      ]
    },
    {
      "cell_type": "markdown",
      "metadata": {
        "id": "u-wMSnd_h6Fi"
      },
      "source": [
        "### 12.1.1 그래프 방향\n",
        "방향이 있으면 유향 그래프, 없으면 무향 그래프(간선에 방향이 없음).<br/>\n",
        "간선으로 연결된 노드는 서로 인접해 있으며, 이웃(neighbor)이라고함. 유향그래프는 순서가 존재하므로 말단노드가 존재.\n",
        "\n"
      ]
    },
    {
      "cell_type": "markdown",
      "metadata": {
        "id": "U3UTNALliYP_"
      },
      "source": [
        "### 12.1.2 부분 그래프\n",
        "부분 그래프(subgraph)는 그래프 G의 일부로 구성된 그래프. 신장 부분 그래프(spanning subgraph)는 원본 그래프의 모든 노드를 포함하는 부분 그래프."
      ]
    },
    {
      "cell_type": "markdown",
      "metadata": {
        "id": "xKHiDgedjCtI"
      },
      "source": [
        "### 12.1.3 완전 그래프\n",
        "완전 그래프(complete)는 그래프의 모든 노드가 서로 인접한 그래프."
      ]
    },
    {
      "cell_type": "markdown",
      "metadata": {
        "id": "PrPalNkajMMz"
      },
      "source": [
        "### 12.1.4 차수\n",
        "차수(degree)는 한 노드에 이어져 있는 간선의 수. 차수가 0인 노드는 고립(isolated)라고 한다. 유향 그래프의 경우엔 입력 차수와 출력차수로 나눌 수 있음."
      ]
    },
    {
      "cell_type": "markdown",
      "metadata": {
        "id": "ecAULq3wjf87"
      },
      "source": [
        "### 12.1.5 경로, 보행, 순환\n",
        "* 경로(path) : 간선이 어느 노드도 다시 방문하지 않고, 노드가 일렬로 연결된 부분 그래프. 쉽게 말하면 같은 노드를 중복해서 거치지 않는 변들의 열. 유향 그래프에서 경로는 간선의 방향을 따름.<br/>\n",
        "* 보행(walk) : 노드와 간선을 번갈아 가며 반복적으로 방문하는 노드와 간선. 경로는 노드와 간선이 모두 중복되지 않는 보행.\n",
        "* 순환(cycle) : 경로와 같지만 마지막에 연결된 간선의 노드가 다시 첫 번째 노드에 연결됨."
      ]
    },
    {
      "cell_type": "markdown",
      "metadata": {
        "id": "Mw4j0LC8k-zp"
      },
      "source": [
        "### 12.1.6 경로 길이\n",
        "경로 또는 보행의 길이(legth)는 간선의 수와 동일"
      ]
    },
    {
      "cell_type": "markdown",
      "metadata": {
        "id": "d142hSGdlHIb"
      },
      "source": [
        "### 12.1.7 가중 그래프\n",
        "가중 그래프는 간선에 가중치(weight)가 있는 그래프다. 딥러닝에서 가중치 주는 느낌인듯. 경로 또는 순환의 가중치는 해당하는 간선들의 가중치의 총합이다. 가중 그래프가 아닌 경우에는 경로와 순환의 가중치가 간선의 수와 같다.<br/>\n",
        "* 평면 그래프 : 간선을 서로 횡단하지 않고 평면에 그릴 수 있는 그래프. 간선이 겹쳐지지 않게 만들 수 있으면 됨.<br/>\n",
        "* 순회 : 그래프에 연결된 모든 요소를 탐색하는 일. 노드의 순회 순서가 중요<br/>\n",
        "* 연결 : 모든 노드에서 다른 모든 노드로 가는 경로가 존재할 때 연결되어 있다고 한다. 유향 그래프에서 모든 노드에서 다른 모든 노드까지의 경로가 있으면, 강하게 연결 되었다고함. 이떄 강한 연결 요소는 강하게 연결된 최대 하위 그래프를 말함.<br/>\n",
        "* 트리 : 비순환적이고 연결되어 있는 유향 그래프.<br/>\n",
        "* 포레스트 : 순환이 없는 그래프. 하나 이상의 트리로 구성. 즉, 서로 독립적인 트리의 모임."
      ]
    },
    {
      "cell_type": "markdown",
      "metadata": {
        "id": "bsOh8BuEnA_v"
      },
      "source": [
        "## 12.2 이웃 함수\n",
        "그래프의 이웃 함수 N(V)는 모든 이웃 V의 컨테이너(or 반복 가능한 객체)다. 인접 리스트와 인접 행렬이 있다."
      ]
    },
    {
      "cell_type": "markdown",
      "metadata": {
        "id": "ep4If7slkWwN"
      },
      "source": [
        "### 12.2.1 인접 리스트\n"
      ]
    },
    {
      "cell_type": "code",
      "metadata": {
        "id": "mDJa1GzRieVt",
        "colab": {
          "base_uri": "https://localhost:8080/"
        },
        "outputId": "83d0d715-2e0c-4992-85d8-c09984395e59"
      },
      "source": [
        "# Set\n",
        "a, b, c, d, e, f = range(6)\n",
        "\n",
        "N = [{b,c,d,f}, {a,d,f}, {a,b,d,e}, {a,e}, {a,b,c}, {b,c,d,e}]\n",
        "\n",
        "b in N[a] # 멤버십 테스트\n",
        "\n",
        "b in N[b] # 멤버십 테스트\n",
        "\n",
        "len(N[f]) # 차수"
      ],
      "execution_count": null,
      "outputs": [
        {
          "output_type": "execute_result",
          "data": {
            "text/plain": [
              "4"
            ]
          },
          "metadata": {
            "tags": []
          },
          "execution_count": 1
        }
      ]
    },
    {
      "cell_type": "code",
      "metadata": {
        "colab": {
          "base_uri": "https://localhost:8080/"
        },
        "id": "8dqKUhG3pnZ7",
        "outputId": "a645d12e-b866-49a1-bf40-e6c117f82a65"
      },
      "source": [
        "# List\n",
        "# 모든 노드 V에서 N(V)를 효율적으로 순회가능.\n",
        "# 작업이 이웃 노드를 반복해서 접근하는 경우 리스트 사용이 좋음.\n",
        "a, b, c, d, e, f =  range(6) # 6\n",
        "\n",
        "N = [[b,c,d,f], [a,d,f], [a,b,d,e], [a,e], [a,b,c], [b,c,d,e]]\n",
        "\n",
        "b in N[a] # 멤버십 테스트\n",
        "\n",
        "b in N[b] # 멤버십 테스트\n",
        "\n",
        "len(N[f]) # 차수\n",
        "\n"
      ],
      "execution_count": null,
      "outputs": [
        {
          "output_type": "execute_result",
          "data": {
            "text/plain": [
              "4"
            ]
          },
          "metadata": {
            "tags": []
          },
          "execution_count": 5
        }
      ]
    },
    {
      "cell_type": "code",
      "metadata": {
        "colab": {
          "base_uri": "https://localhost:8080/"
        },
        "id": "pIgHFtd4qWva",
        "outputId": "8a2cd0f3-1cd9-46f9-b57e-5b3d62dccd46"
      },
      "source": [
        "# Dict\n",
        "a, b, c, d, e, f = range(6) # 6개 노드\n",
        "\n",
        "N = [{b:2,c:1,d:4,f:1}, {a:4,d:1,f:4}, {a:1,b:1,d:2,e:4}, {a:3,e:2},\n",
        "     {a:3,b:4,c:1}, {b:1,c:2,d:4,e:3}]\n",
        "\n",
        "b in N[a] # 멤버십 테스트\n",
        "\n",
        "len(N[f]) # 차수\n",
        "\n",
        "N[a][b] # (a,b)의 간선 가중치"
      ],
      "execution_count": null,
      "outputs": [
        {
          "output_type": "execute_result",
          "data": {
            "text/plain": [
              "2"
            ]
          },
          "metadata": {
            "tags": []
          },
          "execution_count": 11
        }
      ]
    },
    {
      "cell_type": "code",
      "metadata": {
        "colab": {
          "base_uri": "https://localhost:8080/"
        },
        "id": "dKbAoL8BsVNt",
        "outputId": "9543a654-fad3-4c6f-eb72-ddd79e3fea89"
      },
      "source": [
        "# Dict + Set\n",
        "# Dict의 기본 구조를 활용하면 조금 더 유연하게 인접 리스트 만들기 가능.\n",
        "# 가중치 표시는 불가??\n",
        "a, b, c, d, e, f = range(6) # 6개 노드\n",
        "N = {'a':set('bcdf'), 'b':set('adf'), 'c':set('abde'), 'd':set('ae'), 'e':set('abc'),\n",
        "     'f':set('bcde')}\n",
        "\n",
        "'b' in N['a'] # 멤버십 테스트\n",
        "\n",
        "len(N['f']) # 차수"
      ],
      "execution_count": null,
      "outputs": [
        {
          "output_type": "execute_result",
          "data": {
            "text/plain": [
              "4"
            ]
          },
          "metadata": {
            "tags": []
          },
          "execution_count": 15
        }
      ]
    },
    {
      "cell_type": "markdown",
      "metadata": {
        "id": "FYMWepA7oY7a"
      },
      "source": [
        "### 12.2.2 인접 행렬\n",
        "인접 행렬(adjacent metrix)은 각 노드의 모든 이웃에 대해 하나의 행을 가짐. 각 행은 1(True) or 2(False)로 이루어짐. 중첩 리스트로 간단히 구현가능. 행렬의 대각선 요소는 항상 0."
      ]
    },
    {
      "cell_type": "code",
      "metadata": {
        "id": "3Iv8BDv6tEbV",
        "colab": {
          "base_uri": "https://localhost:8080/"
        },
        "outputId": "04ee43eb-4f28-4d43-da39-569beb5ce541"
      },
      "source": [
        "a,b,c,d,e,f = range(6) # 6개 노드\n",
        "N = [[0,1,1,1,0,1], [1,0,0,1,0,1], [1,1,0,1,1,0],[1,0,0,0,1,0],    # <-- numpy 배열로 만들어도 ㄱㅊ?\n",
        "     [1,1,1,0,0,0], [0,1,1,1,1,0]]\n",
        "\n",
        "N[a][b] # 멤버십 테스트\n",
        "\n",
        "N[a][e]\n",
        "\n",
        "sum(N[f]) # 차수\n",
        "\n",
        "# 무향 그래프의 인접 행렬은 항상 대칭\n",
        "# 아래는 인접 행렬에 가중치 추가.\n",
        "# 존재하지 않는 간선은 float('inf'), None, 혹은 매우 큰 값 등으로 나타내면 됨.\n",
        "_ = float('inf')\n",
        "N = [[_,2,1,4,_,1], [4,_,_,1,_,4], [1,1,_,2,4,_], [3,_,_,_,2,_],\n",
        "     [3,4,1,_,_,_], [1,2,_,4,3,_]]\n",
        "\n",
        "N[a][b] < _ # 멤버십 테스트\n",
        "\n",
        "sum(1 for w in N[f] if w < _) # 차수\n"
      ],
      "execution_count": null,
      "outputs": [
        {
          "output_type": "execute_result",
          "data": {
            "text/plain": [
              "4"
            ]
          },
          "metadata": {
            "tags": []
          },
          "execution_count": 9
        }
      ]
    },
    {
      "cell_type": "markdown",
      "metadata": {
        "id": "csDZbX-KqwFo"
      },
      "source": [
        "## 12.3 트리와의 연결점\n",
        "그래프에서는 노드가 다중 참조될 수 있음. 하지만 트리에서는 각 노드는 최대 하나의 부모 노드(상위 노드)에 의해서만 참조됨. 루트 노드는 부모가 없는 노드. 부모 노드를 참조하는 노드는 자식 노드."
      ]
    },
    {
      "cell_type": "markdown",
      "metadata": {
        "id": "yrqvXS-crLOp"
      },
      "source": [
        "### 12.3.1 트리 구현하기\n",
        "중첩 리스트로 구현"
      ]
    },
    {
      "cell_type": "code",
      "metadata": {
        "colab": {
          "base_uri": "https://localhost:8080/"
        },
        "id": "0pa-eeg-qEJS",
        "outputId": "1744b89f-e472-4cbb-ad08-70daff2622ec"
      },
      "source": [
        "# 중첩 리스트. 두 개 이상의 가지를 추가하면 다루기가 불편함.\n",
        "T = ['a', ['b',['d', 'f']], ['c', ['e', 'g']]]\n",
        "\n",
        "T[0]\n",
        "T[1][0]\n",
        "T[1][1][0]\n",
        "T[1][1][1]\n",
        "T[2][0]\n",
        "T[2][1][0]\n",
        "T[2][1][1]\n",
        "\n",
        "# 클래스로 정의\n",
        "class SimpleTree(object):\n",
        "    def __init__(self, value=None, children=None):\n",
        "        self.value = value\n",
        "        self.children = children\n",
        "        if self.children is None:\n",
        "            self.children = []\n",
        "    \n",
        "    def __repr__(self, level=0):\n",
        "        ret = \"\\t\" * level + repr(self.value) + \"\\n\"\n",
        "        for child in self.children:\n",
        "            ret += child.__repr__(level+1)\n",
        "        return ret\n",
        " \n",
        "def main():                          # <- 트리 모양 보여주려고 띄어쓰기 해놓은듯\n",
        "    st = SimpleTree('a', [\n",
        "            SimpleTree('b',\n",
        "                [\n",
        "                    SimpleTree('d'),\n",
        "                    SimpleTree('e')\n",
        "                ]),\n",
        "            SimpleTree('c', [\n",
        "                SimpleTree('h'),\n",
        "                SimpleTree('g')\n",
        "            ])\n",
        "    ])\n",
        "    print(st)\n",
        "\n",
        "if __name__ == \"__main__\":\n",
        "    main()"
      ],
      "execution_count": null,
      "outputs": [
        {
          "output_type": "stream",
          "text": [
            "'a'\n",
            "\t'b'\n",
            "\t\t'd'\n",
            "\t\t'e'\n",
            "\t'c'\n",
            "\t\t'h'\n",
            "\t\t'g'\n",
            "\n"
          ],
          "name": "stdout"
        }
      ]
    },
    {
      "cell_type": "code",
      "metadata": {
        "colab": {
          "base_uri": "https://localhost:8080/"
        },
        "id": "6ZSb0VNnvMHq",
        "outputId": "d3c52df5-9beb-48ee-9039-ff751116aba7"
      },
      "source": [
        "# 띄어쓰기 x\n",
        "class SimpleTree(object):\n",
        "    def __init__(self, value=None, children=None):\n",
        "        self.value = value\n",
        "        self.children = children\n",
        "        if self.children is None:\n",
        "            self.children = []\n",
        "    \n",
        "    def __repr__(self, level=0):\n",
        "        ret = \"\\t\" * level + repr(self.value) + \"\\n\"\n",
        "        for child in self.children:\n",
        "            ret += child.__repr__(level+1)\n",
        "        return ret\n",
        "\n",
        "def main():\n",
        "    st = SimpleTree('a', [SimpleTree('b',[SimpleTree('d'),SimpleTree('e')]),SimpleTree('c', [SimpleTree('h'),SimpleTree('g')])])\n",
        "    print(st)\n",
        "\n",
        "if __name__ == \"__main__\":\n",
        "    main()"
      ],
      "execution_count": null,
      "outputs": [
        {
          "output_type": "stream",
          "text": [
            "'a'\n",
            "\t'b'\n",
            "\t\t'd'\n",
            "\t\t'e'\n",
            "\t'c'\n",
            "\t\t'h'\n",
            "\t\t'g'\n",
            "\n"
          ],
          "name": "stdout"
        }
      ]
    },
    {
      "cell_type": "code",
      "metadata": {
        "colab": {
          "base_uri": "https://localhost:8080/"
        },
        "id": "42SpAJp9vp9v",
        "outputId": "4fca6d8c-d9bb-4013-e464-acdf990ede32"
      },
      "source": [
        "# 딕셔너리 클래스를 특수화한 클래스\n",
        "class BunchClass(dict):\n",
        "    def __init__(self, *args, **kwds):   # https://brunch.co.kr/@princox/180\n",
        "        super(BunchClass, self).__init__(*args, **kwds)   # https://dojang.io/mod/page/view.php?id=2386\n",
        "        self.__dict__ = self\n",
        "\n",
        "def main():\n",
        "    # 1) 딕셔너리 특수화\n",
        "    bc = BunchClass # ()가 없다.\n",
        "    tree = bc(left=bc(left=\"Kim\", right=\"Lee\"),\n",
        "              right=bc(left=\"Nam\", right=\"Dong\"))\n",
        "    print(tree)\n",
        "\n",
        "    # 2) 일반 딕셔너리\n",
        "    tree2 = dict(left=dict(left=\"Kim\", right=\"Lee\"),\n",
        "                 right=dict(left=\"Nam\", right=\"Dong\"))\n",
        "    print(tree2)\n",
        "\n",
        "if __name__ == \"__main__\":\n",
        "    main()\n",
        "\n",
        "# __init__() 메서드의 *args와 **kwds를 통해 임의의 수의 인수와 키워드 인수를 저장할 수 있다.\n"
      ],
      "execution_count": null,
      "outputs": [
        {
          "output_type": "stream",
          "text": [
            "{'left': {'left': 'Kim', 'right': 'Lee'}, 'right': {'left': 'Nam', 'right': 'Dong'}}\n",
            "{'left': {'left': 'Kim', 'right': 'Lee'}, 'right': {'left': 'Nam', 'right': 'Dong'}}\n"
          ],
          "name": "stdout"
        }
      ]
    }
  ]
}