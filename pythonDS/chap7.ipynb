{
  "nbformat": 4,
  "nbformat_minor": 0,
  "metadata": {
    "colab": {
      "name": "chap7.ipynb",
      "provenance": []
    },
    "kernelspec": {
      "name": "python3",
      "display_name": "Python 3"
    },
    "language_info": {
      "name": "python"
    }
  },
  "cells": [
    {
      "cell_type": "markdown",
      "metadata": {
        "id": "1CIK0gz1YZDf"
      },
      "source": [
        "# 7.1 스택  "
      ]
    },
    {
      "cell_type": "markdown",
      "metadata": {
        "id": "MzCSwVJf3qiD"
      },
      "source": [
        "#### 스택은 배열의 끝에서만 데이터를 접근할 수 있는 선형 자료구조임. 배열 \n",
        "\n",
        "1.   항목 추가\n",
        "2.   항목 추가\n",
        "\n",
        "인덱스 접근 제한 되어있음. 후입선출(last in, first out) 구조임.\n",
        "\n",
        "* push : 스택 맨 끝(맨 위)에 항목을 삽입한다.\n",
        "* pop : 스택 맨 끝 항목을 반환하는 동시에 제거한다.\n",
        "* top/peek : 스택 맨 끝 항목을 조회한다.\n",
        "* empty : 스택이 비어 있는지 확인한다.\n",
        "* size : 스택 크기를 확인한다."
      ]
    },
    {
      "cell_type": "code",
      "metadata": {
        "colab": {
          "base_uri": "https://localhost:8080/"
        },
        "id": "AD1Qv3IMXhb5",
        "outputId": "817cf9e1-551c-42b2-fac0-4a9981964864"
      },
      "source": [
        "class Stack(object):\n",
        "    def __init__(self):\n",
        "        self.items = []\n",
        "\n",
        "    def isEmpty(self):\n",
        "        return not bool(self.items)         #  <-- if not items >>>>>  len(items) == 0\n",
        "                                            #  파이썬은 표현 이게 나음\n",
        "    def push(self, value):\n",
        "        self.items.append(value)\n",
        "\n",
        "    def pop(self):\n",
        "        value = self.items.pop()\n",
        "        if value is not None:\n",
        "            return value\n",
        "        else:\n",
        "            print(\"Stack is empty.\")\n",
        "\n",
        "    def size(self):\n",
        "        return len(self.items)\n",
        "\n",
        "    def peek(self):\n",
        "        if self.items:\n",
        "            return self.items[-1]\n",
        "        else:\n",
        "            print(\"Stack is empty.\")\n",
        "\n",
        "    def __repr__(self):\n",
        "        return repr(self.items)\n",
        "\n",
        "if __name__ == \"__main__\":\n",
        "    stack = Stack()\n",
        "    print(\"스택이 비었나요? {0}\".format(stack.isEmpty()))\n",
        "    print(\"스택에 숫자 0~9를 추가합니다.\")\n",
        "    for i in range(10):\n",
        "        stack.push(i)\n",
        "    print(\"스택 크기: {0}\".format(stack.size()))\n",
        "    print(\"peek: {0}\".format(stack.peek()))\n",
        "    print(\"pop: {0}\".format(stack.pop()))\n",
        "    print(\"peek: {0}\".format(stack.peek()))\n",
        "    print(\"스택이 비었나요? {0}\".format(stack.isEmpty()))\n",
        "    print(stack)"
      ],
      "execution_count": null,
      "outputs": [
        {
          "output_type": "stream",
          "text": [
            "스택이 비었나요? True\n",
            "스택에 숫자 0~9를 추가합니다.\n",
            "스택 크기: 10\n",
            "peek: 9\n",
            "pop: 9\n",
            "peek: 8\n",
            "스택이 비었나요? False\n",
            "[0, 1, 2, 3, 4, 5, 6, 7, 8]\n"
          ],
          "name": "stdout"
        }
      ]
    },
    {
      "cell_type": "code",
      "metadata": {
        "colab": {
          "base_uri": "https://localhost:8080/"
        },
        "id": "6WvmIqIaYGUo",
        "outputId": "c98a3f03-18eb-40e4-99c6-e45bbbd8a02d"
      },
      "source": [
        "# __str__ 이랑 __repr__ 구분됨\n",
        "help(repr)"
      ],
      "execution_count": null,
      "outputs": [
        {
          "output_type": "stream",
          "text": [
            "Help on built-in function repr in module builtins:\n",
            "\n",
            "repr(obj, /)\n",
            "    Return the canonical string representation of the object.\n",
            "    \n",
            "    For many object types, including most builtins, eval(repr(obj)) == obj.\n",
            "\n"
          ],
          "name": "stdout"
        }
      ]
    },
    {
      "cell_type": "markdown",
      "metadata": {
        "id": "qICvRF04j637"
      },
      "source": [
        "아래는 노드(객체)의 컨테이너로 스택 구현"
      ]
    },
    {
      "cell_type": "code",
      "metadata": {
        "colab": {
          "base_uri": "https://localhost:8080/"
        },
        "id": "qoDw3PeNaW5W",
        "outputId": "49a5f0a0-4933-4711-fb0d-f68f85219592"
      },
      "source": [
        "class Node(object):\n",
        "    def __init__(self, value=None, pointer=None):\n",
        "        self.value = value                             ## <----- value에 리스트 넣어서 활용하면 리스트 사용에 쓰는 시간 쪼금 줄일수 있을지도\n",
        "        self.pointer = pointer\n",
        "\n",
        "class Stack(object):\n",
        "    def __init__(self):\n",
        "        self.head = None\n",
        "        self.count = 0\n",
        "\n",
        "    def isEmpty(self):\n",
        "        return not bool(self.head)\n",
        "\n",
        "    def push(self, item):\n",
        "        self.head = Node(item, self.head)\n",
        "        self.count += 1\n",
        "\n",
        "    def pop(self):\n",
        "        if self.count > 0 and self.head:       # <--- class가 선언이 안됐을 수도 있어서.\n",
        "            node = self.head\n",
        "            self.head = node.pointer\n",
        "            self.count -= 1\n",
        "            return node.value\n",
        "        else:\n",
        "            print(\"Stack is empty.\")\n",
        "\n",
        "    def peek(self):\n",
        "        if self.count > 0 and self.head:\n",
        "            return self.head.value\n",
        "        else:\n",
        "            print(\"Stack is empty.\")\n",
        "\n",
        "    def size(self):\n",
        "        return self.count\n",
        "\n",
        "    def _printList(self):\n",
        "        node = self.head  # 기존 값을 보존하기 위해서???\n",
        "        while node:\n",
        "            print(node.value, end=\" \")\n",
        "            node = node.pointer\n",
        "        print()\n",
        "\n",
        "if __name__ == \"__main__\":\n",
        "    stack = Stack()\n",
        "    print(\"스택이 비었나요? {0}\".format(stack.isEmpty()))\n",
        "    print(\"스택에 숫자 0~9를 추가합니다.\")\n",
        "    for i in range(10):\n",
        "        stack.push(i)\n",
        "    stack._printList()\n",
        "    print(\"스택 크기: {0}\".format(stack.size()))\n",
        "    print(\"peek: {0}\".format(stack.peek()))\n",
        "    print(\"pop: {0}\".format(stack.pop()))\n",
        "    print(\"peek: {0}\".format(stack.peek()))\n",
        "    print(\"스택이 비었나요? {0}\".format(stack.isEmpty()))\n",
        "    stack._printList()"
      ],
      "execution_count": null,
      "outputs": [
        {
          "output_type": "stream",
          "text": [
            "스택이 비었나요? True\n",
            "스택에 숫자 0~9를 추가합니다.\n",
            "9 8 7 6 5 4 3 2 1 0 \n",
            "스택 크기: 10\n",
            "peek: 9\n",
            "pop: 9\n",
            "peek: 8\n",
            "스택이 비었나요? False\n",
            "8 7 6 5 4 3 2 1 0 \n"
          ],
          "name": "stdout"
        }
      ]
    },
    {
      "cell_type": "markdown",
      "metadata": {
        "id": "OpQJmP-13eMB"
      },
      "source": [
        "# 7.2 큐"
      ]
    },
    {
      "cell_type": "markdown",
      "metadata": {
        "id": "KlUPQKr13_1_"
      },
      "source": [
        "#### 큐는 스택과 다르게 항목이 들어온 순서대로 접근 가능. 선입선출(first in, first out) 구조. 배열의 인덱스 접근 제한.\n",
        "\n",
        "* enqueue : 큐 뒤쪽에 항목을 삽입한다.\n",
        "* dequeue : 큐 앞쪽의 항목을 반환하고, 제거한다.\n",
        "* peek/front : 큐 앞쪽의 항목을 조회한다.\n",
        "* empty : 큐가 비어 있는지 확인한다.\n",
        "* size : 큐의 크기를 확인한다."
      ]
    },
    {
      "cell_type": "markdown",
      "metadata": {
        "id": "obcoCby45MHK"
      },
      "source": [
        "파이썬으로 큐를 구현한 예<br/>\n",
        "insert() 메서드 쓰면 모든 요소가 이동해서 비효율적이긴함\n"
      ]
    },
    {
      "cell_type": "code",
      "metadata": {
        "colab": {
          "base_uri": "https://localhost:8080/"
        },
        "id": "aZ68GKsmrKGs",
        "outputId": "26cb0829-8a57-48a0-9b1c-29aed60bd4c1"
      },
      "source": [
        "class Queue(object):\n",
        "    def __init__(self):\n",
        "        self.items = []\n",
        "\n",
        "    def isEmpty(self):\n",
        "        return not bool(self.items)\n",
        "\n",
        "    def enqueue(self, item):\n",
        "        self.items.insert(0, item)\n",
        "\n",
        "    def dequeue(self):\n",
        "        value = self.items.pop()\n",
        "        if value is not None:\n",
        "            return value\n",
        "        else:\n",
        "            print(\"Queue is empty.\")\n",
        "\n",
        "    def size(self):\n",
        "        return len(self.items)\n",
        "\n",
        "    def peek(self):\n",
        "        if self.items:\n",
        "            return self.items[-1]\n",
        "        else:\n",
        "            print(\"Queue is empty.\")\n",
        "\n",
        "    def __repr__(self):\n",
        "        return repr(self.items)\n",
        "\n",
        "if __name__ == \"__main__\":\n",
        "    queue = Queue()\n",
        "    print(\"큐가 비었나요? {0}\".format(queue.isEmpty()))\n",
        "    print(\"큐에 슷자 0~9를 추가합니다.\")\n",
        "    for i in range(10):\n",
        "        queue.enqueue(i)\n",
        "    print(\"큐 크기: {0}\".format(queue.size()))\n",
        "    print(\"peek: {0}\".format(queue.peek()))       ## <--- 인덱스 무조건 써야됨???\n",
        "    print(\"dequeue: {0}\".format(queue.dequeue()))\n",
        "    print(\"peek: {0}\".format(queue.peek()))\n",
        "    print(\"큐가 비었나요? {0}\".format(queue.isEmpty()))\n",
        "    print(queue)\n",
        "\n",
        "# 책에서는 9,8, ... 인데 원래 0, 1, ... 이 일반적"
      ],
      "execution_count": null,
      "outputs": [
        {
          "output_type": "stream",
          "text": [
            "큐가 비었나요? True\n",
            "큐에 슷자 0~9를 추가합니다.\n",
            "큐 크기: 10\n",
            "peek: 0\n",
            "dequeue: 0\n",
            "peek: 1\n",
            "큐가 비었나요? False\n",
            "[9, 8, 7, 6, 5, 4, 3, 2, 1]\n"
          ],
          "name": "stdout"
        }
      ]
    },
    {
      "cell_type": "markdown",
      "metadata": {
        "id": "qGKaLDgFoXx_"
      },
      "source": [
        "두개의 스택(두 개의 리스트)을 사용한 좀 더 효율적인 큐"
      ]
    },
    {
      "cell_type": "code",
      "metadata": {
        "id": "uKA82Dib_gIc",
        "colab": {
          "base_uri": "https://localhost:8080/"
        },
        "outputId": "dbb32493-b166-4d10-cdb0-d00b27c005c0"
      },
      "source": [
        "class Queue(object):\n",
        "    def __init__(self):\n",
        "        self.in_stack = []\n",
        "        self.out_stack = []\n",
        "\n",
        "    def _transfer(self):\n",
        "        while self.in_stack:\n",
        "            self.out_stack.append(self.in_stack.pop())\n",
        "\n",
        "    def enqueue(self, item):\n",
        "        return self.in_stack.append(item)\n",
        "\n",
        "    def dequeue(self):\n",
        "        if not self.out_stack:\n",
        "            self._transfer()\n",
        "        if self.out_stack:                      ## <-- if if 인거 잘봐야됨\n",
        "            return self.out_stack.pop()\n",
        "        else:\n",
        "            print(\"Queue is empty!\")\n",
        "\n",
        "    def size(self):\n",
        "        return len(self.in_stack) + len(self.out_stack)\n",
        "\n",
        "    def peek(self):\n",
        "        if not self.out_stack:\n",
        "            self._transfer()\n",
        "        if self.out_stack:\n",
        "            return self.out_stack[-1]\n",
        "        else:\n",
        "            print(\"Queue is empty!\")\n",
        "\n",
        "    def __repr__(self):\n",
        "        if not self.out_stack:\n",
        "            self._transfer()\n",
        "        if self.out_stack:\n",
        "            return repr(self.out_stack)\n",
        "        else:\n",
        "            print(\"Queue is empty!\")\n",
        "    \n",
        "    def isEmpty(self):\n",
        "        return not (bool(self.in_stack) or bool(self.out_stack))\n",
        "\n",
        "if __name__ == \"__main__\":\n",
        "    queue = Queue()\n",
        "    print(\"큐가 비었나요? {0}\".format(queue.isEmpty()))\n",
        "    print(\"큐에 숫자 0~9를 추가합니다.\")\n",
        "    for i in range(10):\n",
        "        queue.enqueue(i)\n",
        "    print(\"큐 크기: {0}\".format(queue.size()))\n",
        "    print(\"peek: {0}\".format(queue.peek()))\n",
        "    print(\"dequeue: {0}\".format(queue.dequeue()))\n",
        "    print(\"peek: {0}\".format(queue.peek()))\n",
        "    print(\"큐가 비었나요? {0}\".format(queue.isEmpty()))\n",
        "    print(queue)\n",
        "\n",
        "\n",
        "        \n",
        "\n",
        "    \n"
      ],
      "execution_count": null,
      "outputs": [
        {
          "output_type": "stream",
          "text": [
            "큐가 비었나요? True\n",
            "큐에 숫자 0~9를 추가합니다.\n",
            "큐 크기: 10\n",
            "peek: 0\n",
            "dequeue: 0\n",
            "peek: 1\n",
            "큐가 비었나요? False\n",
            "[9, 8, 7, 6, 5, 4, 3, 2, 1]\n"
          ],
          "name": "stdout"
        }
      ]
    },
    {
      "cell_type": "markdown",
      "metadata": {
        "id": "-4yCPw0yuBMy"
      },
      "source": [
        "노드(객체)의 컨테이너로 큐를 구현"
      ]
    },
    {
      "cell_type": "code",
      "metadata": {
        "colab": {
          "base_uri": "https://localhost:8080/"
        },
        "id": "KpwjiZoas-sg",
        "outputId": "d60a2c1f-5b19-4ecf-e023-1ea16826549e"
      },
      "source": [
        "class Node(object):\n",
        "    def __init__(self, value=None, pointer=None):\n",
        "        self.value = value\n",
        "        self.pointer = None\n",
        "\n",
        "class LinkedQueue(object):\n",
        "    def __init__(self):\n",
        "        self.head = None\n",
        "        self.tail = None\n",
        "        self.count = 0\n",
        "\n",
        "    def isEmpty(self):\n",
        "        return not bool(self.head)\n",
        "\n",
        "    def dequeue(self):\n",
        "        if self.head:\n",
        "            value = self.head.value\n",
        "            self.head = self.head.pointer\n",
        "            self.count -= 1\n",
        "            return value\n",
        "        else:\n",
        "            print(\"Queue is empty.\")\n",
        "\n",
        "    def enqueue(self, value):\n",
        "        node = Node(value)\n",
        "        if not self.head:\n",
        "            self.head = node\n",
        "            self.tail = node\n",
        "        else:\n",
        "            if self.tail:\n",
        "                self.tail.pointer = node\n",
        "            self.tail = node\n",
        "        self.count += 1\n",
        "\n",
        "    def size(self):\n",
        "        return self.count\n",
        "\n",
        "    def peek(self):\n",
        "        return self.head.value\n",
        "\n",
        "    def print(self):\n",
        "        node = self.head\n",
        "        while node:\n",
        "            print(node.value, end=\" \")\n",
        "            node = node.pointer\n",
        "        print()\n",
        "\n",
        "if __name__ == \"__main__\":\n",
        "    queue = LinkedQueue()\n",
        "    print(\"큐가 비었나요? {0}\".format(queue.isEmpty()))\n",
        "    print(\"큐에 슷자 0~9를 추가합니다.\")\n",
        "    for i in range(10):\n",
        "        queue.enqueue(i)\n",
        "    print(\"큐가 비었나요? {0}\".format(queue.isEmpty()))\n",
        "    queue.print()\n",
        "\n",
        "    print(\"큐 크기: {0}\".format(queue.size()))\n",
        "    print(\"peek: {0}\".format(queue.peek()))       ## <--- 인덱스 무조건 써야됨???\n",
        "    print(\"dequeue: {0}\".format(queue.dequeue()))\n",
        "    print(\"peek: {0}\".format(queue.peek()))\n",
        "    queue.print()\n"
      ],
      "execution_count": null,
      "outputs": [
        {
          "output_type": "stream",
          "text": [
            "큐가 비었나요? True\n",
            "큐에 슷자 0~9를 추가합니다.\n",
            "큐가 비었나요? False\n",
            "0 1 2 3 4 5 6 7 8 9 \n",
            "큐 크기: 10\n",
            "peek: 0\n",
            "dequeue: 0\n",
            "peek: 1\n",
            "1 2 3 4 5 6 7 8 9 \n"
          ],
          "name": "stdout"
        }
      ]
    },
    {
      "cell_type": "markdown",
      "metadata": {
        "id": "u3ka_wHZFWXf"
      },
      "source": [
        "#7.3 데크"
      ]
    },
    {
      "cell_type": "markdown",
      "metadata": {
        "id": "xTwJOoNFFcJr"
      },
      "source": [
        "데크는 스택과 큐의 결합체. 양쪽 끝에서 항목의 조회, 삽입, 삭제가 가능.<br/>\n",
        "앞의 큐를 바탕으로 다음과 같이 구현"
      ]
    },
    {
      "cell_type": "code",
      "metadata": {
        "colab": {
          "base_uri": "https://localhost:8080/"
        },
        "id": "NLWdEurq-fiZ",
        "outputId": "f769e69e-6279-4cce-d564-38e58c950712"
      },
      "source": [
        "# insert() 활용한 큐\n",
        "\n",
        "class Queue(object):\n",
        "    def __init__(self):\n",
        "        self.items = []\n",
        "\n",
        "    def isEmpty(self):\n",
        "        return not bool(self.items)\n",
        "\n",
        "    def enqueue(self, item):\n",
        "        self.items.insert(0, item)\n",
        "\n",
        "    def dequeue(self):\n",
        "        value = self.items.pop()\n",
        "        if value is not None:\n",
        "            return value\n",
        "        else:\n",
        "            print(\"Queue is empty.\")\n",
        "\n",
        "    def size(self):\n",
        "        return len(self.items)\n",
        "\n",
        "    def peek(self):\n",
        "        if self.items:\n",
        "            return self.items[-1]\n",
        "        else:\n",
        "            print(\"Queue is empty.\")\n",
        "\n",
        "    def __repr__(self):\n",
        "        return repr(self.items)\n",
        "\n",
        "\n",
        "##############################################################################\n",
        "\n",
        "class Deque(Queue):\n",
        "    def enqueue_back(self, item):\n",
        "        self.items.append(item)\n",
        "\n",
        "    def dequeue_front(self):\n",
        "        value = self.items.pop(0)\n",
        "        if value is not None:\n",
        "            return value\n",
        "        else:\n",
        "            print(\"Deque is empty.\")\n",
        "\n",
        "if __name__ == \"__main__\":\n",
        "    deque = Deque()\n",
        "    print(\"Deque가 비었나요? {0}\".format(deque.isEmpty()))\n",
        "    print(\"Deque에 숫자 0~9를 추가합니다.\")\n",
        "    for i in range(10):\n",
        "        deque.enqueue(i)\n",
        "    print(\"Deque 크기: {0}\".format(deque.size()))\n",
        "    print(\"peek: {0}\".format(deque.peek()))      \n",
        "    print(\"dequeue: {0}\".format(deque.dequeue()))\n",
        "    print(\"peek: {0}\".format(deque.peek()))\n",
        "    print(\"Deque가 비었나요? {0}\".format(deque.isEmpty()))\n",
        "    print()\n",
        "    print(\"Deque: {0}\".format(deque))\n",
        "    print(\"dequeue: {0}\".format(deque.dequeue_front()))\n",
        "    print(\"peek: {0}\".format(deque.peek()))\n",
        "    print(\"Deque: {0}\".format(deque))\n",
        "    print(\"enqueue_back(50)을 수행합니다.\")\n",
        "    deque.enqueue_back(50)\n",
        "    print(\"peek: {0}\".format(deque.peek()))\n",
        "    print(\"Deque: {0}\".format(deque))          # <--- f가 신형임\n",
        "\n",
        "\n"
      ],
      "execution_count": null,
      "outputs": [
        {
          "output_type": "stream",
          "text": [
            "Deque가 비었나요? True\n",
            "Deque에 숫자 0~9를 추가합니다.\n",
            "Deque 크기: 10\n",
            "peek: 0\n",
            "dequeue: 0\n",
            "peek: 1\n",
            "Deque가 비었나요? False\n",
            "\n",
            "Deque: [9, 8, 7, 6, 5, 4, 3, 2, 1]\n",
            "dequeue: 9\n",
            "peek: 1\n",
            "Deque: [8, 7, 6, 5, 4, 3, 2, 1]\n",
            "enqueue_back(50)을 수행합니다.\n",
            "peek: 50\n",
            "Deque: [8, 7, 6, 5, 4, 3, 2, 1, 50]\n"
          ],
          "name": "stdout"
        }
      ]
    },
    {
      "cell_type": "markdown",
      "metadata": {
        "id": "qfs1jSAQNlHn"
      },
      "source": [
        "collection 패키지의 deque 모듈의 사용.<br/>\n",
        "(insert() 사용해서 비효율적이라서)"
      ]
    },
    {
      "cell_type": "code",
      "metadata": {
        "colab": {
          "base_uri": "https://localhost:8080/"
        },
        "id": "pSbWmeCINWps",
        "outputId": "0a557c8c-ee5d-4261-aed7-68cb16fbc0a0"
      },
      "source": [
        "from collections import deque\n",
        "q = deque([\"버피\", \"잰더\", \"윌로\"])\n",
        "q\n",
        "q.append(\"자일스\")\n",
        "q\n",
        "q.popleft()\n",
        "q.pop()\n",
        "q\n",
        "q.appendleft('엔젤')\n",
        "q\n",
        "q.rotate(1)     ### rotate(n)는 n이 양수면 우측으로 음수면 좌측으로 n만큼 시프트. \n",
        "q\n",
        "q.rotate(-2)\n",
        "q"
      ],
      "execution_count": null,
      "outputs": [
        {
          "output_type": "execute_result",
          "data": {
            "text/plain": [
              "deque(['잰더', '윌로', '엔젤'])"
            ]
          },
          "metadata": {
            "tags": []
          },
          "execution_count": 12
        }
      ]
    },
    {
      "cell_type": "markdown",
      "metadata": {
        "id": "fkSOXjPxwQN0"
      },
      "source": [
        "# 7.4 우선순위 큐와 힙"
      ]
    },
    {
      "cell_type": "markdown",
      "metadata": {
        "id": "OFnir2irwXz3"
      },
      "source": [
        "## 7.4.1 힙\n",
        "힙은 각 노드가 하위 노드보다 작은(or 큰) 이진 트리다. 일반적으로 리스트에서 가장 작은(or 가장 큰) 요소에 반복적으로 접근하는 프로그램에 유용."
      ]
    },
    {
      "cell_type": "markdown",
      "metadata": {
        "id": "o5WBr7bWw-Ho"
      },
      "source": [
        "## 7.4.2 heapq 모듈"
      ]
    },
    {
      "cell_type": "code",
      "metadata": {
        "id": "uCmPCrcyN3vC",
        "colab": {
          "base_uri": "https://localhost:8080/"
        },
        "outputId": "944e5fe1-8624-42a1-e33f-9722685a9d80"
      },
      "source": [
        "import heapq\n",
        "list1 = [4, 6, 8, 1]\n",
        "heapq.heapify(list1)\n",
        "list1"
      ],
      "execution_count": null,
      "outputs": [
        {
          "output_type": "execute_result",
          "data": {
            "text/plain": [
              "[1, 4, 8, 6]"
            ]
          },
          "metadata": {
            "tags": []
          },
          "execution_count": 1
        }
      ]
    },
    {
      "cell_type": "code",
      "metadata": {
        "colab": {
          "base_uri": "https://localhost:8080/"
        },
        "id": "W9xVv6TTxSU0",
        "outputId": "103442f5-a5f8-4c02-bfe2-18881978414b"
      },
      "source": [
        "h = []\n",
        "heapq.heappush(h, (1, 'food'))\n",
        "heapq.heappush(h, (2, 'have fun'))\n",
        "heapq.heappush(h, (3, 'work'))\n",
        "heapq.heappush(h, (4, 'study'))\n",
        "h"
      ],
      "execution_count": null,
      "outputs": [
        {
          "output_type": "execute_result",
          "data": {
            "text/plain": [
              "[(1, 'food'), (2, 'have fun'), (3, 'work'), (4, 'study')]"
            ]
          },
          "metadata": {
            "tags": []
          },
          "execution_count": 2
        }
      ]
    },
    {
      "cell_type": "code",
      "metadata": {
        "colab": {
          "base_uri": "https://localhost:8080/"
        },
        "id": "Nefk3jFCxuR5",
        "outputId": "7b738552-f605-49cd-b5f8-fc19ad92d2ae"
      },
      "source": [
        "list1 = [1, 4, 8, 6]\n",
        "heapq.heappop(list1)\n",
        "list1"
      ],
      "execution_count": null,
      "outputs": [
        {
          "output_type": "execute_result",
          "data": {
            "text/plain": [
              "[4, 6, 8]"
            ]
          },
          "metadata": {
            "tags": []
          },
          "execution_count": 6
        }
      ]
    },
    {
      "cell_type": "code",
      "metadata": {
        "colab": {
          "base_uri": "https://localhost:8080/"
        },
        "id": "Lbse0uZSx-7r",
        "outputId": "de0d0883-67d5-4ad4-f053-c9c24678e924"
      },
      "source": [
        "for x in heapq.merge([1,3,5],[2,4,6]):\n",
        "    print(x)"
      ],
      "execution_count": null,
      "outputs": [
        {
          "output_type": "stream",
          "text": [
            "1\n",
            "2\n",
            "3\n",
            "4\n",
            "5\n",
            "6\n"
          ],
          "name": "stdout"
        }
      ]
    },
    {
      "cell_type": "markdown",
      "metadata": {
        "id": "JzkaAl8OyrWt"
      },
      "source": [
        "## 7.4.3 최대 힙 구현하기"
      ]
    },
    {
      "cell_type": "code",
      "metadata": {
        "colab": {
          "base_uri": "https://localhost:8080/"
        },
        "id": "uqs2Vzz4yjxt",
        "outputId": "09f3abee-759e-48d3-e768-87f8a9075f9d"
      },
      "source": [
        "class Heapify(object):\n",
        "    def __init__(self, data=None):\n",
        "        self.data = data or []\n",
        "        for i in range(len(data)//2, -1, -1):\n",
        "            self.__max_heapify__(i)\n",
        "\n",
        "    def __repr__(self):\n",
        "        return repr(self.data)\n",
        "\n",
        "    def parent(self, i):\n",
        "        if i & 1:                          # <-- 홀수\n",
        "            return i >> 1                 ## 비트연산자 활용 (이게 더 빠른가??)\n",
        "        else:\n",
        "            return (i >> 1) - 1\n",
        "        \n",
        "    def left_child(self, i):\n",
        "        return (i << 1) + 1\n",
        "    \n",
        "    def right_child(self, i):\n",
        "        return (i << 1) + 2\n",
        "\n",
        "    def __max_heapify__(self, i):\n",
        "        largest = i # 현재 노드\n",
        "        left = self.left_child(i)\n",
        "        right = self.right_child(i)\n",
        "        n = len(self.data)\n",
        "\n",
        "        # 왼쪽 자식\n",
        "        largest = (left < n and self.data[left] > self.data[i]) and left or i\n",
        "        # 오른쪽 자식   \n",
        "        largest = (right < n and self.data[right] > self.data[largest]) and \\\n",
        "            right or largest\n",
        "\n",
        "        # 현재 노드가 자식들보다 크다면 Skip, 자식이 크다면 Swap\n",
        "        if i is not largest:\n",
        "            self.data[i], self.data[largest] = self.data[largest], self.data[i]\n",
        "            self.__max_heapify__(largest)\n",
        "\n",
        "    def extract_max(self):\n",
        "        n = len(self.data)\n",
        "        max_element = self.data[0]\n",
        "        # 첫 번째 노드에 마지막 노드를 삽입\n",
        "        self.data[0] = self.data[n-1]\n",
        "        self.data = self.data[:n-1]\n",
        "        self.__max_heapify__(0)\n",
        "        return max_element\n",
        "\n",
        "    def insert(self, item):\n",
        "        i = len(self.data)\n",
        "        self.data.append(item)\n",
        "        while (i != 0) and item > self.data[self.parent(i)]:\n",
        "            print(self.data)\n",
        "            #print(self.data[i])\n",
        "            self.data[i] = self.data[self.parent(i)]\n",
        "            i = self.parent(i)\n",
        "        self.data[i] = item\n",
        "        #print(self.data)\n",
        "\n",
        "def test_heapify():\n",
        "    l1 = [3, 2, 5, 1, 7, 8, 2]\n",
        "    h = Heapify(l1)\n",
        "    assert(h.extract_max() == 8)\n",
        "    print(\"테스트 통과!\")\n",
        "\n",
        "if __name__ == \"__main__\":\n",
        "    test_heapify()\n",
        "\n",
        "    "
      ],
      "execution_count": null,
      "outputs": [
        {
          "output_type": "stream",
          "text": [
            "테스트 통과!\n"
          ],
          "name": "stdout"
        }
      ]
    },
    {
      "cell_type": "code",
      "metadata": {
        "colab": {
          "base_uri": "https://localhost:8080/"
        },
        "id": "NIM17sEX5qvM",
        "outputId": "9472faab-c744-4de1-8ca6-5f563ae76b4f"
      },
      "source": [
        "l1 = [3, 2, 5, 1, 7, 8, 2]\n",
        "h = Heapify(l1)\n",
        "h.insert(100)          # <--- 결과값 무엇?"
      ],
      "execution_count": null,
      "outputs": [
        {
          "output_type": "stream",
          "text": [
            "[8, 7, 5, 1, 2, 3, 2, 100]\n",
            "[8, 7, 5, 1, 2, 3, 2, 1]\n",
            "[8, 7, 5, 7, 2, 3, 2, 1]\n"
          ],
          "name": "stdout"
        }
      ]
    },
    {
      "cell_type": "markdown",
      "metadata": {
        "id": "xmJcaPrqA3Tz"
      },
      "source": [
        "## 7.4.4 우선순위 큐 구현하기"
      ]
    },
    {
      "cell_type": "code",
      "metadata": {
        "colab": {
          "base_uri": "https://localhost:8080/"
        },
        "id": "KkuokDG2A1Xs",
        "outputId": "a7a13e94-c173-4de1-b7ba-71a016c344c1"
      },
      "source": [
        "import heapq\n",
        "\n",
        "class PriorityQueue(object):\n",
        "    def __init__(self):\n",
        "        self._queue = []\n",
        "        self._index = 0\n",
        "\n",
        "    def push(self, item, priority):\n",
        "        heapq.heappush(self._queue, (-priority, self._index, item))   # <-- 왜 - 붙임?? heapq모듈은 최소라서 최대로 바꾸기위해\n",
        "        self._index += 1\n",
        "\n",
        "    def pop(self):\n",
        "        return heapq.heappop(self._queue)[-1]\n",
        "\n",
        "class Item(object):\n",
        "    def __init__(self, name):\n",
        "        self.name = name\n",
        "\n",
        "    def __repr__(self):\n",
        "        return \"Item({0!r})\".format(self.name)\n",
        "\n",
        "def test_priority_queue():\n",
        "    # push와 pop은 모두 O(logN)이다.\n",
        "    q = PriorityQueue()\n",
        "    q.push(Item('test1'), 1)\n",
        "    q.push(Item('test2'), 4)\n",
        "    q.push(Item('test3'), 3)\n",
        "    assert(str(q.pop()) == \"Item('test2')\")\n",
        "    print(\"테스트 통과!\")\n",
        "\n",
        "if __name__ == \"__main__\":\n",
        "    test_priority_queue()"
      ],
      "execution_count": null,
      "outputs": [
        {
          "output_type": "stream",
          "text": [
            "테스트 통과!\n"
          ],
          "name": "stdout"
        }
      ]
    },
    {
      "cell_type": "markdown",
      "metadata": {
        "id": "dPUy6GLoFw8H"
      },
      "source": [
        "# 7.5 연결 리스트\n"
      ]
    },
    {
      "cell_type": "markdown",
      "metadata": {
        "id": "Lb9l4f-NF2s3"
      },
      "source": [
        "### 연결 리스트는 값과 다음 노드에 대한 포인터가 포함된 노드로 이루어진 선형 리스트 마지막 노드는 None."
      ]
    },
    {
      "cell_type": "code",
      "metadata": {
        "colab": {
          "base_uri": "https://localhost:8080/"
        },
        "id": "iSBickjuEoBd",
        "outputId": "fe894ec2-eaa4-4d17-f8b1-a128e0d29d25"
      },
      "source": [
        "class Node(object):\n",
        "    def __init__(self, value=None, pointer=None):\n",
        "        self.value = value\n",
        "        self.pointer = pointer\n",
        "\n",
        "    def getData(self):\n",
        "        return self.value\n",
        "    \n",
        "    def getNext(self):\n",
        "        return self.pointer\n",
        "\n",
        "    def setData(self, newdata):\n",
        "        self.value = newdata\n",
        "\n",
        "    def setNext(self, newpointer):\n",
        "        self.pointer = newpointer\n",
        "\n",
        "if __name__ == \"__main__\":\n",
        "    L = Node(\"a\", Node(\"b\", Node(\"c\", Node(\"d\"))))\n",
        "    assert(L.pointer.pointer.value==\"c\")\n",
        "\n",
        "    print(L.getData())\n",
        "    print(L.getNext().getData())\n",
        "    L.setData(\"aa\")\n",
        "    L.setNext(Node(\"e\"))\n",
        "    print(L.getData())\n",
        "    print(L.getNext().getData())"
      ],
      "execution_count": null,
      "outputs": [
        {
          "output_type": "stream",
          "text": [
            "a\n",
            "b\n",
            "aa\n",
            "e\n"
          ],
          "name": "stdout"
        }
      ]
    },
    {
      "cell_type": "markdown",
      "metadata": {
        "id": "t8YwxWCPSC5o"
      },
      "source": [
        "* 후입선출(LIFO) 연결 리스트 구현"
      ]
    },
    {
      "cell_type": "code",
      "metadata": {
        "colab": {
          "base_uri": "https://localhost:8080/"
        },
        "id": "5OBbMUGtR7vI",
        "outputId": "aa7a2684-a0ab-4163-c091-685f23073b3b"
      },
      "source": [
        "class LinkedListLIFO(object):\n",
        "    def __init__(self):\n",
        "        self.head = None\n",
        "        self.length = 0\n",
        "\n",
        "    # 헤드부터 각 노드의 값을 출력한다.\n",
        "    def _printList(self):\n",
        "        node = self.head\n",
        "        while node:\n",
        "            print(node.value, end=\" \")\n",
        "            node = node.pointer\n",
        "        print()\n",
        "\n",
        "    # 이전 노드(prev)를 기반으로 노드(node)를 삭제한다.\n",
        "    def _delete(self, prev, node):\n",
        "        self.length -= 1\n",
        "        if not prev:\n",
        "            self.head = node.pointer\n",
        "        else:\n",
        "            prev.pointer = node.pointer\n",
        "\n",
        "    # 새 노드를 추가한다. 다음 노드로 헤드를 가리키고,\n",
        "    # 헤드는 새 노드를 가리킨다.\n",
        "    def _add(self, value):\n",
        "        self.length += 1\n",
        "        self.head = Node(value, self.head)\n",
        "\n",
        "    # 인덱스로 노드를 찾는다.\n",
        "    def _find(self,index):\n",
        "        prev = None\n",
        "        node = self.head\n",
        "        i = 0\n",
        "        while node and i < index:\n",
        "            prev = node\n",
        "            node = node.pointer\n",
        "            i += 1\n",
        "        return node, prev, i\n",
        "\n",
        "    # 값으로 노드를 찾는다.\n",
        "    def _find_by_value(self, value):\n",
        "        prev = None\n",
        "        node = self.head\n",
        "        found = False\n",
        "        while node and not found:\n",
        "            if node.value == value:\n",
        "                found = True\n",
        "            else:\n",
        "                prev = node\n",
        "                node = node.pointer\n",
        "        return node, prev, found\n",
        "\n",
        "    # 인덱스에 해당하는 노드를 찾아서 삭제한다.\n",
        "    def deleteNode(self, index):\n",
        "        node, prev, i = self._find(index)\n",
        "        if index == i:\n",
        "            self._delete(prev, node)\n",
        "        else:\n",
        "            print(f\"인덱스 {index}에 해당하는 노드가 없습니다.\")\n",
        "\n",
        "    # 값에 해당하는 노드를 찾아서 삭제한다.\n",
        "    def deleteNodeByValue(self, value):\n",
        "        node, prev, found = self._find_by_value(value)\n",
        "        if found:\n",
        "            self._delete(prev, node)\n",
        "        else:\n",
        "            print(f\"값 {value}에 해당하는 노드가 없습니다.\")\n",
        "\n",
        "if __name__ == \"__main__\":\n",
        "    ll = LinkedListLIFO()\n",
        "    for i in range(1, 5):\n",
        "        ll._add(i)\n",
        "    print(\"연결 리스트 출력:\")\n",
        "    ll._printList()\n",
        "    print(\"인덱스가 2인 노드 삭제 후, 연결 리스트 출력:\")\n",
        "    ll.deleteNode(2)\n",
        "    ll._printList()\n",
        "    print(\"값이 3인 노드 삭제 후, 연결 리스트 출력:\")\n",
        "    ll.deleteNodeByValue(3)\n",
        "    ll._printList()\n",
        "    print(\"값이 15인 노드 추가 후, 연결 리스트 출력:\")\n",
        "    ll._add(15)\n",
        "    ll._printList()\n",
        "    print(\"모든 노드 모두 삭제 후, 연결 리스트 출력:\")\n",
        "    for i in range(ll.length-1,-1,-1):\n",
        "        ll.deleteNode(i)\n",
        "    ll._printList()"
      ],
      "execution_count": null,
      "outputs": [
        {
          "output_type": "stream",
          "text": [
            "연결 리스트 출력:\n",
            "4 3 2 1 \n",
            "인덱스가 2인 노드 삭제 후, 연결 리스트 출력:\n",
            "4 3 1 \n",
            "값이 3인 노드 삭제 후, 연결 리스트 출력:\n",
            "4 1 \n",
            "값이 15인 노드 추가 후, 연결 리스트 출력:\n",
            "15 4 1 \n",
            "모든 노드 모두 삭제 후, 연결 리스트 출력:\n",
            "\n"
          ],
          "name": "stdout"
        }
      ]
    },
    {
      "cell_type": "markdown",
      "metadata": {
        "id": "XrbTmr11yk74"
      },
      "source": [
        "* 선입선출(FIFO) 형식 연결리스트"
      ]
    },
    {
      "cell_type": "code",
      "metadata": {
        "colab": {
          "base_uri": "https://localhost:8080/"
        },
        "id": "Vx3ztaJSa3hQ",
        "outputId": "85e5353a-876e-456b-ddfd-bc35040970d5"
      },
      "source": [
        "class LinkedListFIFO(object):\n",
        "    def __init__(self):\n",
        "        self.head = None # 헤드\n",
        "        self.length = 0\n",
        "        self.tail = None # 테일\n",
        "\n",
        "    # 헤드부터 각 노드의 값을 출력한다,\n",
        "    def _printList(self):\n",
        "        node = self.head                 # 보존\n",
        "        while node:\n",
        "            print(node.value, end=\" \")\n",
        "            node = node.pointer\n",
        "        print()\n",
        "\n",
        "    # 첫 번째 위치에 노드를 추가한다.\n",
        "    def _addFirst(self, value):\n",
        "        self.length = 1\n",
        "        node = Node(value)\n",
        "        self.head = node\n",
        "        self.tail = node\n",
        "\n",
        "    # 첫 번쨰 위치의 노드를 삭제한다.\n",
        "    def _deleteFirst(self):\n",
        "        self.length = 0\n",
        "        self.head = None\n",
        "        self.tail = None\n",
        "        print(\"연결 리스트가 비었습니다.\")\n",
        "\n",
        "    # 새 노드를 추가한다. 테일이 있다면, 테일의 다음 노드는\n",
        "    # 새 노드를 가리키고, 테일은 새 노드를 가리킨다.\n",
        "    def _add(self, value):\n",
        "        self.length += 1\n",
        "        node = Node(value)\n",
        "        if self.tail:\n",
        "            self.tail.pointer = node\n",
        "        self.tail = node\n",
        "\n",
        "    # 새 노드를 추가한다.\n",
        "    def addNode(self, value):\n",
        "        if not self.head:\n",
        "            self._addFirst(value)\n",
        "        else:\n",
        "            self._add(value)\n",
        "\n",
        "    # 인덱스로 노드를 찾는다.\n",
        "    def _find(self, index):\n",
        "        prev = None\n",
        "        node = self.head\n",
        "        i = 0\n",
        "        while node and i < index:\n",
        "            prev = node\n",
        "            node = node.pointer\n",
        "            i += 1\n",
        "        return node, prev, i\n",
        "\n",
        "    # 값으로 노드를 찾는다,\n",
        "    def _find_by_value(self, value):\n",
        "        prev = None\n",
        "        node = self.head\n",
        "        found = False\n",
        "        while node and not found:\n",
        "            if node.value == value:\n",
        "                found = True\n",
        "            else:\n",
        "                prev = node\n",
        "                node = node.pointer\n",
        "        return node, prev, found\n",
        "\n",
        "    # 인덱스에 해당하는 노드를 삭제한다.\n",
        "    def deleteNode(self, index):\n",
        "        if not self.head or self.head.pointer:\n",
        "            self._deleteFirst()\n",
        "        else:\n",
        "            node, prev, i = self._find(index)\n",
        "            if i == index and node:\n",
        "                self.length -= 1\n",
        "                if i == 0 or not prev:\n",
        "                    self.head = node.pointer\n",
        "                    self.tail = node.pointer\n",
        "                else:\n",
        "                    prev.pointer = node.pointer\n",
        "            else:\n",
        "                print(f\"인덱스 {index}에 해당하는 노드가 없습니다.\")\n",
        "    \n",
        "    # 값에 해당하는 노드를 삭제한다,\n",
        "    def deleteNodeByValue(self, value):\n",
        "        if not self.head or not self.head.pointer:\n",
        "            self._deleteFirst()\n",
        "        else:\n",
        "            node, prev, i = self._find_by_value(value)\n",
        "            if node and node.value == value:\n",
        "                self.length -= 1\n",
        "                if i == 0 or not prev:\n",
        "                    self.head = node.pointer\n",
        "                    self.tail = node.pointer\n",
        "                else:\n",
        "                    prev.pointer = node.pointer\n",
        "            else:\n",
        "                print(f\"값 {value}에 해당하는 노드가 없습니다.\")\n",
        "        \n",
        "if __name__ == \"__main__\":\n",
        "    ll = LinkedListFIFO()\n",
        "    for i in range(1, 5):\n",
        "        ll._add(i)\n",
        "    print(\"연결 리스트 출력:\")\n",
        "    ll._printList()\n",
        "    print(\"인덱스가 2인 노드 삭제 후, 연결 리스트 출력:\")\n",
        "    ll.deleteNode(2)\n",
        "    ll._printList()\n",
        "    print(\"값이 3인 노드 삭제 후, 연결 리스트 출력:\")\n",
        "    ll.deleteNodeByValue(3)\n",
        "    ll._printList()\n",
        "    print(\"값이 15인 노드 추가 후, 연결 리스트 출력:\")\n",
        "    ll._add(15)\n",
        "    ll._printList()\n",
        "    print(\"모든 노드 모두 삭제 후, 연결 리스트 출력:\")\n",
        "    for i in range(ll.length-1,-1,-1):\n",
        "        ll.deleteNode(i)\n",
        "    ll._printList()\n"
      ],
      "execution_count": null,
      "outputs": [
        {
          "output_type": "stream",
          "text": [
            "연결 리스트 출력:\n",
            "\n",
            "인덱스가 2인 노드 삭제 후, 연결 리스트 출력:\n",
            "연결 리스트가 비었습니다.\n",
            "\n",
            "값이 3인 노드 삭제 후, 연결 리스트 출력:\n",
            "연결 리스트가 비었습니다.\n",
            "\n",
            "값이 15인 노드 추가 후, 연결 리스트 출력:\n",
            "\n",
            "모든 노드 모두 삭제 후, 연결 리스트 출력:\n",
            "연결 리스트가 비었습니다.\n",
            "\n"
          ],
          "name": "stdout"
        }
      ]
    },
    {
      "cell_type": "markdown",
      "metadata": {
        "id": "Fm3hWkSZ6rzk"
      },
      "source": [
        "* 연결 리스트의 크기는 동적일 수 있어서 저장할 항목 수를 알 수 없을 때 유용\n",
        "* 아래는 삭제할 노드의 포인터를 알 때 노드 삭제 하는 방법(O(1))"
      ]
    },
    {
      "cell_type": "code",
      "metadata": {
        "id": "lcsz2N626PVo"
      },
      "source": [
        "if node.pointer is not None:\n",
        "    node.value = node.pointer.value\n",
        "    node.pointer = node.pointer.pointer\n",
        "else:\n",
        "    node = None"
      ],
      "execution_count": null,
      "outputs": []
    },
    {
      "cell_type": "markdown",
      "metadata": {
        "id": "OiTjPMSMfzvw"
      },
      "source": [
        "## 7.7 연습문제"
      ]
    },
    {
      "cell_type": "markdown",
      "metadata": {
        "id": "L3VoqkbEf2MJ"
      },
      "source": [
        "### 7.7.1 스택"
      ]
    },
    {
      "cell_type": "markdown",
      "metadata": {
        "id": "M7Q750Kjf9bE"
      },
      "source": [
        "문자열 반전하기\n",
        "* 스택은 데이터를 역순으로 정렬하거나 검색할 때 사용가능"
      ]
    },
    {
      "cell_type": "code",
      "metadata": {
        "colab": {
          "base_uri": "https://localhost:8080/"
        },
        "id": "FDP2519xfmg2",
        "outputId": "f41d5bae-52f6-45df-8297-f837c263bb47"
      },
      "source": [
        "def reverse_string_with_stack(str1):\n",
        "    s = Stack()\n",
        "    revStr = ''\n",
        "\n",
        "    for c in str1:  # c의 원소를 하나씩 스택에 갖다박음\n",
        "        s.push(c)\n",
        "\n",
        "    while not s.isEmpty():\n",
        "        revStr += s.pop()\n",
        "\n",
        "    return revStr\n",
        "\n",
        "if __name__ == \"__main__\":\n",
        "    str1 = '버피는 천사다.'\n",
        "    print(reverse_string_with_stack(str1))\n"
      ],
      "execution_count": null,
      "outputs": [
        {
          "output_type": "stream",
          "text": [
            ".다사천 는피버\n"
          ],
          "name": "stdout"
        }
      ]
    },
    {
      "cell_type": "markdown",
      "metadata": {
        "id": "0Y1TORzahPRx"
      },
      "source": [
        "괄호의 짝 확인하기\n",
        "* 스택을 사용하면 괄호의 균형이 맞는지 쉽게 확인가능."
      ]
    },
    {
      "cell_type": "code",
      "metadata": {
        "colab": {
          "base_uri": "https://localhost:8080/"
        },
        "id": "AOcaQsgEhNZX",
        "outputId": "84896b28-5f9a-475e-92d9-76fdbe3d0ab1"
      },
      "source": [
        "def balance_par_str_with_stack(str1):\n",
        "    s = Stack()\n",
        "    balanced = True\n",
        "    index = 0\n",
        "\n",
        "    while index < len(str1) and balanced:\n",
        "        symbol = str1[index]\n",
        "\n",
        "        if symbol == \"(\":\n",
        "            s.push(symbol)\n",
        "\n",
        "        else:\n",
        "            if s.isEmpty():\n",
        "                balanced = False\n",
        "            else:\n",
        "                s.pop()\n",
        "\n",
        "        index = index + 1  ## <--- 그냥 += 1 하면 되지않나?\n",
        "\n",
        "    if balanced and s.isEmpty():\n",
        "        return True\n",
        "    \n",
        "    else:\n",
        "        return False\n",
        "\n",
        "if __name__ == \"__main__\":\n",
        "    print(balance_par_str_with_stack('((()))'))\n",
        "    print(balance_par_str_with_stack('(()'))\n",
        "\n",
        "# 무조건 '('로 시작하고 중간에 ')'개수가 더 늘어나면 False 나옴\n",
        "# 저번에 푼 백준문제랑 약간 비슷한 느낌인데 다른듯."
      ],
      "execution_count": null,
      "outputs": [
        {
          "output_type": "stream",
          "text": [
            "True\n",
            "False\n"
          ],
          "name": "stdout"
        }
      ]
    },
    {
      "cell_type": "markdown",
      "metadata": {
        "id": "eL31k9HKjYJE"
      },
      "source": [
        "10진수를 2진수로 변환하기"
      ]
    },
    {
      "cell_type": "code",
      "metadata": {
        "colab": {
          "base_uri": "https://localhost:8080/",
          "height": 185
        },
        "id": "6e1Ix8MYjPWl",
        "outputId": "98e8eb71-b091-4f61-ebc3-6a164f7024e8"
      },
      "source": [
        "def dec2bin_with_stack(decnum):\n",
        "    s = Stack()\n",
        "    str_aux = \"\"\n",
        "\n",
        "    while decnum > 0:\n",
        "        dig = decnum % 2\n",
        "        decnum = decnum // 2\n",
        "        s.push(dig)\n",
        "\n",
        "    while not s.isEmpty():\n",
        "        str_aux += str(s.pop())\n",
        "        print(str_aux)\n",
        "    \n",
        "    dec2bin_with_stack.str_aux = str_aux      ## global 말고 이렇게 써도 노상관인듯?\n",
        "\n",
        "    return str_aux\n",
        "\n",
        "if __name__ == \"__main__\":\n",
        "    decnum = 9\n",
        "    print(dec2bin_with_stack(decnum))\n",
        "    print(type(dec2bin_with_stack.str_aux)) ## 출력값은 str으로 반환됨.\n",
        "\n",
        "k = 2\n",
        "dec2bin_with_stack(k)          ## <--- print 빼면 왜 ''표시 나오는지??"
      ],
      "execution_count": null,
      "outputs": [
        {
          "output_type": "stream",
          "text": [
            "1\n",
            "10\n",
            "100\n",
            "1001\n",
            "1001\n",
            "<class 'str'>\n",
            "1\n",
            "10\n"
          ],
          "name": "stdout"
        },
        {
          "output_type": "execute_result",
          "data": {
            "application/vnd.google.colaboratory.intrinsic+json": {
              "type": "string"
            },
            "text/plain": [
              "'10'"
            ]
          },
          "metadata": {
            "tags": []
          },
          "execution_count": 17
        }
      ]
    },
    {
      "cell_type": "markdown",
      "metadata": {
        "id": "JEqd0T9Zmu0b"
      },
      "source": [
        "스택에서 최솟값 O(1)로 조회하기"
      ]
    },
    {
      "cell_type": "code",
      "metadata": {
        "colab": {
          "base_uri": "https://localhost:8080/"
        },
        "id": "Zjr604i3mt92",
        "outputId": "32906684-8498-4ce5-ca12-99cb3e5d0eed"
      },
      "source": [
        "class NodeWithMin(object):\n",
        "    def __init__(self, value=None, minimum=None):\n",
        "        self.value = value\n",
        "        self.minimum = minimum\n",
        "\n",
        "class StackMin(Stack):              ## <-- 상속 클래스\n",
        "    def __init__(self):\n",
        "        self.items = []\n",
        "        self.minimum = None\n",
        "\n",
        "    def push(self, value):\n",
        "        if self.isEmpty() or self.minimum > value:         ## <-- 상속 클래스라 부모 클래스의 isEmpty함수 사용가능\n",
        "            self.minimum = value\n",
        "        self.items.append(NodeWithMin(value, self.minimum))       # items 안에 값과 그때까지의 최솟값이 들어간 노드가 들어가는거\n",
        "\n",
        "    def peek(self):\n",
        "        return self.items[-1].value\n",
        "\n",
        "    def peekMinimum(self):\n",
        "        return self.items[-1].minimum\n",
        "\n",
        "    def pop(self):\n",
        "        item = self.items.pop()\n",
        "        if item:\n",
        "            if item.value == self.minimum:\n",
        "                self.minimum = self.peekMinimum()   # pop한 값이 최솟값을 포함한 노드라면\n",
        "            return item.value                       # 현재 클래스의 최솟값을 수정해 줘야됨\n",
        "        else:\n",
        "            print(\"Stack is empty.\")\n",
        "\n",
        "    def __repr__(self):\n",
        "        aux = []\n",
        "        for i in self.items:\n",
        "            aux.append(i.value)\n",
        "        return repr(aux)\n",
        "\n",
        "if __name__ == \"__main__\":\n",
        "    stack = StackMin()\n",
        "    print(\"스택이 비었나요? {0}\".format(stack.isEmpty()))\n",
        "    print(\"스택에 숫자 10~1과 1~4를 추가합니다.\")\n",
        "    for i in range(10, 0, -1):\n",
        "        stack.push(i)\n",
        "    for i in range(1, 5):\n",
        "        stack.push(i)\n",
        "    print(stack)\n",
        "\n",
        "    print(\"스택 크기: {0}\".format(stack.size()))\n",
        "    print(\"peek: {0}\".format(stack.peek()))\n",
        "    print(\"peekMinimum: {0}\".format(stack.peekMinimum()))\n",
        "    print(\"pop: {0}\".format(stack.pop()))\n",
        "    print(\"peek: {0}\".format(stack.peekMinimum()))\n",
        "    print(\"스택이 비었나요? {0}\".format(stack.isEmpty()))\n",
        "    print(stack)\n"
      ],
      "execution_count": null,
      "outputs": [
        {
          "output_type": "stream",
          "text": [
            "스택이 비었나요? True\n",
            "스택에 숫자 10~1과 1~4를 추가합니다.\n",
            "[10, 9, 8, 7, 6, 5, 4, 3, 2, 1, 1, 2, 3, 4]\n",
            "스택 크기: 14\n",
            "peek: 4\n",
            "peekMinimum: 1\n",
            "pop: 4\n",
            "peek: 1\n",
            "스택이 비었나요? False\n",
            "[10, 9, 8, 7, 6, 5, 4, 3, 2, 1, 1, 2, 3]\n"
          ],
          "name": "stdout"
        }
      ]
    },
    {
      "cell_type": "markdown",
      "metadata": {
        "id": "XnZl72q9r7rB"
      },
      "source": [
        "스택 집합\n",
        "* 스택에 '용량'이 정해져 있을 때, 한 스택의 용량이 초과하면, 새 스택을 만드는 경우 push()와 pop() 사용법"
      ]
    },
    {
      "cell_type": "code",
      "metadata": {
        "colab": {
          "base_uri": "https://localhost:8080/"
        },
        "id": "1BYni1QQr6vh",
        "outputId": "c49003b4-0137-4121-a6df-a9b71710efe5"
      },
      "source": [
        "class SetOfStacks(Stack):                  # <-- 상속\n",
        "    def __init__(self, capacity=4):\n",
        "        self.setofstacks = []\n",
        "        self.items = []\n",
        "        self.capacity = capacity\n",
        "\n",
        "    def push(self, value):\n",
        "        if self.size() >= self.capacity:          # <-- size는 items의 사이즈\n",
        "            self.setofstacks.append(self.items)   # <-- column 사이즈가 4인 2차원 리스트라고 보면될듯\n",
        "            self.items = []\n",
        "        self.items.append(value)\n",
        "\n",
        "    def pop(self):\n",
        "        value = self.items.pop()                  # <-- items가 비었을땐 오류 뜰텐데?? 스택 내부 pop이라 ㄴㄴ\n",
        "        if self.isEmpty() and self.setofstacks:\n",
        "            self.items = self.setofstacks.pop()\n",
        "        return value\n",
        "\n",
        "    def sizeStack(self):\n",
        "        return len(self.setofstacks) * self.capacity + self.size()\n",
        "\n",
        "    def __repr__(self):    # <-- 출력할땐 리스트 분해해서 함\n",
        "        aux = []           # <-- aux = 예비의 보조의 라는 뜻\n",
        "        for s in self.setofstacks:\n",
        "            aux.extend(s)                         # <-- extend는 iterable의 원소들을 넣음.\n",
        "        aux.extend(self.items)\n",
        "        return repr(aux)\n",
        "\n",
        "if __name__ == \"__main__\":\n",
        "    capacity = 5\n",
        "    stack = SetOfStacks(capacity)\n",
        "    print(\"스택이 비었나요? {0}\".format(stack.isEmpty()))    # <-- items가 비면 당연히 setofstacks도 빔.\n",
        "    print(\"스택에 숫자를 추가합니다.\")\n",
        "    for i in range(10):\n",
        "        stack.push(i)\n",
        "    print(stack)\n",
        "    print(f\"스택 크기: {stack.sizeStack()}\")\n",
        "    print(f\"peek: {stack.peek()}\")\n",
        "    print(f\"pop: {stack.pop()}\")\n",
        "    print(f\"peek: {stack.peek()}\")\n",
        "    print(f\"스택이 비었나요? {stack.isEmpty()}\")\n",
        "    print(stack)\n",
        "\n",
        "\n"
      ],
      "execution_count": null,
      "outputs": [
        {
          "output_type": "stream",
          "text": [
            "스택이 비었나요? True\n",
            "스택에 숫자를 추가합니다.\n",
            "[0, 1, 2, 3, 4, 5, 6, 7, 8, 9]\n",
            "스택 크기: 10\n",
            "peek: 9\n",
            "pop: 9\n",
            "peek: 8\n",
            "스택이 비었나요? False\n",
            "[0, 1, 2, 3, 4, 5, 6, 7, 8]\n"
          ],
          "name": "stdout"
        }
      ]
    },
    {
      "cell_type": "markdown",
      "metadata": {
        "id": "UUy-IWEjy2st"
      },
      "source": [
        "### 7.7.2 큐"
      ]
    },
    {
      "cell_type": "markdown",
      "metadata": {
        "id": "Z1tCOBkUy-bZ"
      },
      "source": [
        "데크와 회문\n",
        "* 2.6.5 회문 참조"
      ]
    },
    {
      "cell_type": "code",
      "metadata": {
        "colab": {
          "base_uri": "https://localhost:8080/"
        },
        "id": "onbtEsX3tovR",
        "outputId": "b5c091ff-458c-446f-c48f-a3a171679d39"
      },
      "source": [
        "import string\n",
        "import collections              # <-- 이름 겹치는거 피하려고 from import 뺀듯\n",
        "\n",
        "STRIP = string.whitespace + string.punctuation + \"\\\"'\"   # <-- 이상한거 싹다 모아놓음\n",
        "print(STRIP)\n",
        "\n",
        "def palindrome_checker_with_deque(str1):\n",
        "    d1 = Deque()\n",
        "    d2 = collections.deque()\n",
        "\n",
        "    for s in str1.lower():\n",
        "        if s not in STRIP:\n",
        "            d2.append(s)\n",
        "            d1.enqueue(s)\n",
        "\n",
        "    eq1 = True\n",
        "    while d1.size() > 1 and eq1:\n",
        "        if d1.dequeue_front() != d1.dequeue(): # <-- 앞에서 뺀거랑 뒤에서 뺀게 다르면\n",
        "            eq1 = False\n",
        "\n",
        "    eq2 = True\n",
        "    while len(d2) > 1 and eq2:\n",
        "        if d2.pop() != d2.popleft():\n",
        "            eq2 = False\n",
        "    \n",
        "    return eq1, eq2                       # <-- 모듈 쓸 때랑 그냥 할 때 두가지 다 보여줌.\n",
        "\n",
        "if __name__ == \"__main__\":\n",
        "    str1 = \"Madam Im Adam\"\n",
        "    str2 = \"Buffy is a Slayer\"\n",
        "    print(palindrome_checker_with_deque(str1))\n",
        "    print(palindrome_checker_with_deque(str2))"
      ],
      "execution_count": null,
      "outputs": [
        {
          "output_type": "stream",
          "text": [
            " \t\n",
            "\r\u000b\f!\"#$%&'()*+,-./:;<=>?@[\\]^_`{|}~\"'\n",
            "(True, True)\n",
            "(False, False)\n"
          ],
          "name": "stdout"
        }
      ]
    },
    {
      "cell_type": "markdown",
      "metadata": {
        "id": "3GOkwSPM4OOJ"
      },
      "source": [
        "큐와 동물 보호소"
      ]
    },
    {
      "cell_type": "code",
      "metadata": {
        "colab": {
          "base_uri": "https://localhost:8080/"
        },
        "id": "jQ7pK6Z94LOc",
        "outputId": "c568cca5-9ae0-4bed-c60e-d5d92e36470f"
      },
      "source": [
        "class Node(object):\n",
        "    def __init__(self, animalName=None, animalKind=None, pointer=None):\n",
        "        self.animalName = animalName\n",
        "        self.animalKind = animalKind\n",
        "        self.pointer = pointer\n",
        "        self.timestamp = 0\n",
        "\n",
        "class AnimalShelter(object):\n",
        "    def __init__(self):\n",
        "        self.headCat = None\n",
        "        self.headDog = None\n",
        "        self.tailCat = None\n",
        "        self.tailDog = None\n",
        "        self.animalNumber = 0\n",
        "\n",
        "    def enqueue(self, animalName, animalKind):\n",
        "        self.animalNumber += 1\n",
        "        newAnimal = Node(animalName, animalKind)\n",
        "        newAnimal.timestamp = self.animalNumber\n",
        "\n",
        "        if animalKind == \"cat\":\n",
        "            if not self.headCat:\n",
        "                self.headCat = newAnimal\n",
        "            if self.tailCat:\n",
        "                self.tailCat.pointer = newAnimal  # 연결 시키고 밑에서 런\n",
        "            self.tailCat = newAnimal\n",
        "\n",
        "        elif animalKind == \"dog\":\n",
        "            if not self.headDog:\n",
        "                self.headDog = newAnimal\n",
        "            if self.tailDog:\n",
        "                self.tailDog.pointer = newAnimal\n",
        "            self.tailDog = newAnimal\n",
        "\n",
        "    def dequeueDog(self):    # <-- 위에서는 고양이 먼저 해놓고 왜 개부터?\n",
        "        if self.headDog:\n",
        "            newAnimal = self.headDog\n",
        "            self.headDog = newAnimal.pointer\n",
        "            return str(newAnimal.animalName)        # <-- str 으로 바꾸는 이유?\n",
        "        else:\n",
        "            print(\"개가 없습니다!\")\n",
        "\n",
        "    def dequeueCat(self):\n",
        "        if self.headCat:\n",
        "            newAnimal = self.headCat               # <-- 굳이 헷갈리게 같은 변수명 쓰는 이유?\n",
        "            self.headCat = newAnimal.pointer\n",
        "            return str(newAnimal.animalName)\n",
        "        else:\n",
        "            print(\"고양이가 없습니다!\")\n",
        "\n",
        "    def dequeueAny(self):\n",
        "        if self.headCat and not self.headDog:\n",
        "            return self.dequeueCat()\n",
        "        elif self.headDog and not self.headCat:\n",
        "            return self.dequeueDog()\n",
        "        elif self.headDog and self.headCat:\n",
        "            if self.headDog.timestamp < self.headCat.timestamp:     # <-- 큐라서 작은 애를 꺼냄\n",
        "                return self.dequeueDog()\n",
        "            else:\n",
        "                return self.dequeueCat()\n",
        "        else:\n",
        "            print(\"동물이 없습니다.\")\n",
        "\n",
        "    def _print(self):\n",
        "        print(\"고양이:\")\n",
        "        cats = self.headCat\n",
        "        while cats:\n",
        "            print(f\"\\t{cats.animalName}\")\n",
        "            cats = cats.pointer\n",
        "        print(\"개:\")\n",
        "        dogs = self.headDog\n",
        "        while dogs:\n",
        "            print(f\"\\t{dogs.animalName}\")\n",
        "            dogs = dogs.pointer\n",
        "\n",
        "\n",
        "if __name__ == \"__main__\":\n",
        "    qs = AnimalShelter()\n",
        "    qs.enqueue(\"밥\", \"cat\")\n",
        "    qs.enqueue(\"미아\", \"cat\")\n",
        "    qs.enqueue(\"요다\", \"dog\")\n",
        "    qs.enqueue(\"울프\", \"dog\")\n",
        "    qs._print()\n",
        "\n",
        "    print(\"하나의 개와 고양이에 대해서 dequeue를 실행합니다.\")\n",
        "    \n",
        "    qs.dequeueDog()\n",
        "    qs.dequeueCat()\n",
        "    qs._print() \n",
        "\n",
        "# 밑에 결과값 다시볼것!!!!!!!!!!!!!!\n"
      ],
      "execution_count": null,
      "outputs": [
        {
          "output_type": "stream",
          "text": [
            "고양이:\n",
            "\t밥\n",
            "\t미아\n",
            "개:\n",
            "\t요다\n",
            "\t울프\n",
            "하나의 개와 고양이에 대해서 dequeue를 실행합니다.\n",
            "고양이:\n",
            "\t미아\n",
            "개:\n",
            "\t울프\n"
          ],
          "name": "stdout"
        }
      ]
    },
    {
      "cell_type": "markdown",
      "metadata": {
        "id": "PYXygR3UR1rs"
      },
      "source": [
        "### 7.7.3 우선순위 큐와 힙"
      ]
    },
    {
      "cell_type": "markdown",
      "metadata": {
        "id": "t9HJ0xRWR7AA"
      },
      "source": [
        "heapq 모듈을 사용하여 시퀀스에서 N개의 가장 큰 항목과 가장 작은 항목 찾기"
      ]
    },
    {
      "cell_type": "code",
      "metadata": {
        "colab": {
          "base_uri": "https://localhost:8080/"
        },
        "id": "ywmL7od55hEv",
        "outputId": "6a46d55a-5665-4d1a-dd9a-cb10bf45f1fb"
      },
      "source": [
        "import heapq\n",
        "\n",
        "def find_N_largest_items_seq(seq, N):\n",
        "    return heapq.nlargest(N, seq)              # <-- 앞에 설명 있음\n",
        "\n",
        "def find_N_smallest_items_seq(seq, N):\n",
        "    return heapq.nsmallest(N, seq)\n",
        "\n",
        "def find_smallest_items_seq_heap(seq):\n",
        "    heapq.heapify(seq)\n",
        "    return heapq.heappop(seq)\n",
        "\n",
        "def find_smallest_items_seq(seq):\n",
        "    return min(seq)\n",
        "\n",
        "def find_N_smallest_items_seq_sorted(seq, N):\n",
        "    return sorted(seq)[:N]\n",
        "\n",
        "def find_N_largest_items_seq_sorted(seq, N):\n",
        "    return sorted(seq)[len(seq)-N:]\n",
        "\n",
        "def test_find_N_largest_smallest_items_seq():\n",
        "    seq = [1, 3, 2, 8, 6, 10, 9]\n",
        "    N = 3\n",
        "    assert(find_N_largest_items_seq(seq, N) == [10, 9, 8])\n",
        "    assert(find_N_largest_items_seq_sorted(seq, N) == [8, 9, 10])\n",
        "    assert(find_N_smallest_items_seq(seq, N) == [1, 2, 3])\n",
        "    assert(find_N_smallest_items_seq_sorted(seq, N) == [1, 2, 3])\n",
        "    assert(find_smallest_items_seq(seq) == 1)\n",
        "    assert(find_smallest_items_seq_heap(seq) == 1)\n",
        "\n",
        "    print(\"테스트 통과!\")\n",
        "\n",
        "if __name__ == \"__main__\":\n",
        "    test_find_N_largest_smallest_items_seq()"
      ],
      "execution_count": null,
      "outputs": [
        {
          "output_type": "stream",
          "text": [
            "테스트 통과!\n"
          ],
          "name": "stdout"
        }
      ]
    },
    {
      "cell_type": "markdown",
      "metadata": {
        "id": "WLjQb3jzUW2E"
      },
      "source": [
        "heapq 모듈을 사용하여 정렬된 두 시퀀스를 적은 비용으로 병합"
      ]
    },
    {
      "cell_type": "code",
      "metadata": {
        "colab": {
          "base_uri": "https://localhost:8080/"
        },
        "id": "5zMpQxNNUUKP",
        "outputId": "d60fd05a-88bb-45d1-9694-179b7ec4eb16"
      },
      "source": [
        "import heapq\n",
        "\n",
        "def merge_sorted_seqs(seq1, seq2):\n",
        "    result = []\n",
        "    for c in heapq.merge(seq1, seq2):    # <--- 정렬된 객체를 받아서 병합, 정렬안되어 있어도 병합은됨..\n",
        "        result.append(c)\n",
        "    return result\n",
        "\n",
        "def test_merge_sorted_seq():\n",
        "    seq1 = [1, 2, 3, 8, 9, 10]\n",
        "    seq2 = [2, 3, 4, 5, 6, 7, 9]\n",
        "    seq3 = seq1 + seq2\n",
        "    assert(merge_sorted_seqs(seq1, seq2) == sorted(seq3))\n",
        "\n",
        "    print(\"테스트 통과!\")\n",
        "\n",
        "if __name__ == \"__main__\":\n",
        "    test_merge_sorted_seq()"
      ],
      "execution_count": null,
      "outputs": [
        {
          "output_type": "stream",
          "text": [
            "테스트 통과!\n"
          ],
          "name": "stdout"
        }
      ]
    },
    {
      "cell_type": "markdown",
      "metadata": {
        "id": "rVUlnoJoWWQ4"
      },
      "source": [
        "### 7.7.4 연결 리스트"
      ]
    },
    {
      "cell_type": "markdown",
      "metadata": {
        "id": "Fm1Bqp9oWavj"
      },
      "source": [
        "끝에서 k번쨰 항목 찾기"
      ]
    },
    {
      "cell_type": "code",
      "metadata": {
        "colab": {
          "base_uri": "https://localhost:8080/"
        },
        "id": "0ZBJ7FMzUxvz",
        "outputId": "1ec19dba-fde9-42cb-d580-490c5889ef79"
      },
      "source": [
        "class KthFromLast(LinkedListFIFO):\n",
        "    def find_kth_to_last(self, k):\n",
        "        p1, p2 = self.head, self.head\n",
        "        i = 0\n",
        "        while p1:\n",
        "            if i > k-1:                 # <--- k-1 번 제외하고 실행해야 마지막에 뒤에서 k번째가 남음\n",
        "                try:\n",
        "                    p2 = p2.pointer\n",
        "                except AttributeError:\n",
        "                    break\n",
        "            p1 = p1.pointer\n",
        "            i += 1\n",
        "        return p2.value\n",
        "\n",
        "if __name__ == \"__main__\":\n",
        "    ll = KthFromLast()\n",
        "    for i in range(1, 11):\n",
        "        ll.addNode(i)\n",
        "    print(\"연결 리스트:\")\n",
        "    ll._printList()\n",
        "    k = 3\n",
        "    k_from_last = ll.find_kth_to_last(k)\n",
        "    print(f\"연결 리스트의 끝에서 {k}번째 항목은 {k_from_last}입니다.\")"
      ],
      "execution_count": null,
      "outputs": [
        {
          "output_type": "stream",
          "text": [
            "연결 리스트:\n",
            "1 2 3 4 5 6 7 8 9 10 \n",
            "연결 리스트의 끝에서 3번째 항목은 8입니다.\n"
          ],
          "name": "stdout"
        }
      ]
    },
    {
      "cell_type": "markdown",
      "metadata": {
        "id": "arhPETNZdmnA"
      },
      "source": [
        "연결 리스트 분할하기\n",
        "* 항목 하나 골랐을때 왼쪽엔 작은 숫자 항목만 오른쪽엔 큰 숫자 항목만 나오게 분할"
      ]
    },
    {
      "cell_type": "code",
      "metadata": {
        "colab": {
          "base_uri": "https://localhost:8080/"
        },
        "id": "_jr6EAEKdmHF",
        "outputId": "4fdce0c0-c1c2-4f12-995e-6e214fe7c6bd"
      },
      "source": [
        "def partList(ll, n):\n",
        "    more = LinkedListFIFO()\n",
        "    less = LinkedListFIFO()\n",
        "\n",
        "    node = ll.head\n",
        "\n",
        "    while node:\n",
        "        item = node.value\n",
        "\n",
        "        if item < n:\n",
        "            less.addNode(item)\n",
        "\n",
        "        elif item > n:\n",
        "            more.addNode(item)\n",
        "\n",
        "        node = node.pointer\n",
        "\n",
        "    less.addNode(n)\n",
        "    nodemore = more.head\n",
        "\n",
        "    while nodemore:\n",
        "        less.addNode(nodemore.value)\n",
        "        nodemore = nodemore.pointer\n",
        "\n",
        "    return less\n",
        "\n",
        "if __name__ == \"__main__\":\n",
        "    ll = LinkedListFIFO()\n",
        "    l = [6, 7, 3, 4, 9, 5, 1, 2, 8]\n",
        "    for i in l:\n",
        "        ll.addNode(i)\n",
        "\n",
        "    print(\"분할 전:\")\n",
        "    ll._printList()\n",
        "\n",
        "    print(\"분할 후:\")\n",
        "    newll = partList(ll, 6)      # <-- less를 받아오기 때문에 클래스를 받아오는거임\n",
        "    newll._printList()"
      ],
      "execution_count": null,
      "outputs": [
        {
          "output_type": "stream",
          "text": [
            "분할 전:\n",
            "6 7 3 4 9 5 1 2 8 \n",
            "분할 후:\n",
            "3 4 5 1 2 6 7 9 8 \n"
          ],
          "name": "stdout"
        }
      ]
    },
    {
      "cell_type": "markdown",
      "metadata": {
        "id": "NpDiLlk7ZLHi"
      },
      "source": [
        "이중 연결 리스트와 FIFO\n",
        "* 이중 연결 리스트 에서는 포인터가 두개 있어 하나는 앞, 하나는 뒤 노드를 가리킨다"
      ]
    },
    {
      "cell_type": "code",
      "metadata": {
        "id": "ntg9ANp7fY4w",
        "colab": {
          "base_uri": "https://localhost:8080/"
        },
        "outputId": "84ba3919-eda1-4747-cc24-7f662d041aad"
      },
      "source": [
        "class DNode(object):\n",
        "    def __init__(self, value=None, pointer=None, previous=None):\n",
        "        self.value = value\n",
        "        self.pointer = pointer\n",
        "        self.previous = previous\n",
        "\n",
        "class DLinkedList(LinkedListFIFO):\n",
        "    def printListInverse(self):\n",
        "        node = self.tail\n",
        "        while node:\n",
        "            print(node.value, end=\" \")\n",
        "            try:\n",
        "                node = node.previous\n",
        "            except AttributeError:\n",
        "                break\n",
        "        print()\n",
        "\n",
        "    def _add(self, value):\n",
        "        self.length += 1\n",
        "        node = DNode(value)\n",
        "        if self.tail:\n",
        "            self.tail.pointer = node\n",
        "            node.previous = self.tail       # <--- 양쪽으로 연결\n",
        "        self.tail = node\n",
        "\n",
        "    def _delete(self, node):\n",
        "        self.length -= 1\n",
        "        node.previous.pointer = node.pointer\n",
        "        if not node.pointer:\n",
        "            self.tail = node.previous\n",
        "\n",
        "    def _find(self, index):\n",
        "        node = self.head\n",
        "        i = 0\n",
        "        while node and i < index:\n",
        "            node = node.pointer\n",
        "            i += 1\n",
        "        return node, i                \n",
        "\n",
        "    def deleteNode(self, index):\n",
        "        if not self.head or not self.head.pointer:     # head가 없을 수도 있고 생성됐는데 포인터는 아직 일수도\n",
        "            self._deleteFirst()\n",
        "        else:\n",
        "            node, i = self._find(index)\n",
        "            if i == index:\n",
        "                self._delete(node)\n",
        "            else:\n",
        "                print(f\"인덱스 {index}에 해당하는 노드가 없습니다.\")\n",
        "\n",
        "\n",
        "if __name__ == \"__main__\":\n",
        "    from collections import Counter\n",
        "\n",
        "    ll = DLinkedList()\n",
        "    for i in range(1,5):\n",
        "        ll.addNode(i)\n",
        "    print(\"연결 리스트 출력:\")\n",
        "    ll._printList()\n",
        "    print(\"연결 리스트 반대로 출력:\")\n",
        "    ll.printListInverse()\n",
        "    print(\"값이 15인 노드 추가 후, 연결 리스트 출력:\")\n",
        "    ll._add(15)\n",
        "    ll._printList()\n",
        "    print(\"모든 노드 모두 삭제 후, 연결 리스트 출력:\")\n",
        "    for i in range(ll.length-1, -1, -1):\n",
        "        ll.deleteNode(i)\n",
        "        ll._printList()            # <-- 뒷 인덱스 부터 지워지는 과정\n",
        "    ll._printList()\n",
        "\n",
        "\n"
      ],
      "execution_count": null,
      "outputs": [
        {
          "output_type": "stream",
          "text": [
            "연결 리스트 출력:\n",
            "1 2 3 4 \n",
            "연결 리스트 반대로 출력:\n",
            "4 3 2 1 \n",
            "값이 15인 노드 추가 후, 연결 리스트 출력:\n",
            "1 2 3 4 15 \n",
            "모든 노드 모두 삭제 후, 연결 리스트 출력:\n",
            "1 2 3 4 \n",
            "1 2 3 \n",
            "1 2 \n",
            "1 \n",
            "연결 리스트가 비었습니다.\n",
            "\n",
            "\n"
          ],
          "name": "stdout"
        }
      ]
    },
    {
      "cell_type": "markdown",
      "metadata": {
        "id": "Mw2O5ggDhCA4"
      },
      "source": [
        "회문 확인하기"
      ]
    },
    {
      "cell_type": "code",
      "metadata": {
        "colab": {
          "base_uri": "https://localhost:8080/"
        },
        "id": "tk_Qpbnygkt5",
        "outputId": "d1ac40a8-09e9-4f71-d965-e8afbb6f2846"
      },
      "source": [
        "def isPal(l1):\n",
        "    if len(l1) < 2:\n",
        "        return True\n",
        "    if l1[0] != l1[-1]:\n",
        "        return False\n",
        "    return isPal(l1[1:-1])\n",
        "    \n",
        "def checkllPal(ll):\n",
        "    node = ll.head\n",
        "    l = []\n",
        "\n",
        "    while node is not None:\n",
        "        l.append(node.value)\n",
        "        node = node.pointer\n",
        "\n",
        "    return isPal(l)\n",
        "\n",
        "def test_checkllPal():\n",
        "    ll = LinkedListFIFO()\n",
        "    l1 = [1, 2, 3, 2, 1]\n",
        "    for i in l1:\n",
        "        ll.addNode(i)\n",
        "    assert(checkllPal(ll) is True)\n",
        "\n",
        "    ll.addNode(2)\n",
        "    ll.addNode(3)\n",
        "    assert(checkllPal(ll) is False)\n",
        "\n",
        "    print(\"테스트 통과!\")\n",
        "\n",
        "if __name__ == \"__main__\":\n",
        "    test_checkllPal()"
      ],
      "execution_count": null,
      "outputs": [
        {
          "output_type": "stream",
          "text": [
            "테스트 통과!\n"
          ],
          "name": "stdout"
        }
      ]
    },
    {
      "cell_type": "markdown",
      "metadata": {
        "id": "8R4oWtHPjtFV"
      },
      "source": [
        "두 연결 리스트의 숫자 더하기\n",
        "* 1, 7, 6, 2가 추가되면 2671"
      ]
    },
    {
      "cell_type": "code",
      "metadata": {
        "colab": {
          "base_uri": "https://localhost:8080/"
        },
        "id": "8ihgRMxfjIom",
        "outputId": "f649f58c-6449-4471-c664-12cf187577e6"
      },
      "source": [
        "class LinkedListFIFOYield(LinkedListFIFO):\n",
        "    def _printList(self):      # <-- 부모 클래스랑 다름\n",
        "        node = self.head\n",
        "        while node:\n",
        "            yield node.value\n",
        "            node = node.pointer\n",
        "\n",
        "def sumlls(l1, l2):\n",
        "    lsum = LinkedListFIFOYield()\n",
        "    dig1 = l1.head\n",
        "    dig2 = l2.head\n",
        "    pointer = 0\n",
        "\n",
        "    while dig1 and dig2:\n",
        "        d1 = dig1.value\n",
        "        d2 = dig2.value\n",
        "        sum_d = d1 + d2 + pointer\n",
        "        if sum_d > 9:\n",
        "            pointer = sum_d//10\n",
        "            lsum.addNode(sum_d%10)\n",
        "\n",
        "        else:\n",
        "            lsum.addNode(sum_d)\n",
        "            pointer = 0\n",
        "        dig1 = dig1.pointer\n",
        "        dig2 = dig2.pointer\n",
        "    \n",
        "    if dig1:\n",
        "        sum_d = pointer + dig1.value\n",
        "        if sum_d > 9:\n",
        "            lsum.addNode(sum_d%10)\n",
        "        else:\n",
        "            lsum.addNode(sum_d)\n",
        "        dig1 = dig1.pointer          # <-- 왜있는거?\n",
        "\n",
        "    if dig2:\n",
        "        sum_d = pointer + dig2.value\n",
        "        if sum_d > 9:\n",
        "            lsum.addNode(sum_d%10)\n",
        "        else:\n",
        "            lsum.addNode(sum_d)\n",
        "        dig2 = dig2.pointer\n",
        "\n",
        "    return lsum\n",
        "\n",
        "if __name__ == \"__main__\":\n",
        "    l1 = LinkedListFIFOYield()  # 2671\n",
        "    l1.addNode(1)\n",
        "    l1.addNode(7)\n",
        "    l1.addNode(6)\n",
        "    l1.addNode(2)\n",
        "\n",
        "    l2 = LinkedListFIFOYield()  # 455\n",
        "    l2.addNode(5)\n",
        "    l2.addNode(5)\n",
        "    l2.addNode(4)\n",
        "\n",
        "    lsum = sumlls(l1, l2)\n",
        "    l = list(lsum._printList())\n",
        "    for i in reversed(l):\n",
        "        print(i, end=\"\")\n",
        "    print()"
      ],
      "execution_count": null,
      "outputs": [
        {
          "output_type": "stream",
          "text": [
            "3126\n"
          ],
          "name": "stdout"
        }
      ]
    },
    {
      "cell_type": "markdown",
      "metadata": {
        "id": "2XVmhjJMsXg0"
      },
      "source": [
        "원형 연결 리스트 찾기\n",
        "* 헤드와 테일이 연결된 연결 리스트를 원형 연결 리스트 라고 한다."
      ]
    },
    {
      "cell_type": "code",
      "metadata": {
        "colab": {
          "base_uri": "https://localhost:8080/"
        },
        "id": "kP0aq-k8sSJG",
        "outputId": "a34d180d-00d0-415e-ff76-ac162dd1a080"
      },
      "source": [
        "class CicularLinkedListFIFO(LinkedListFIFO):\n",
        "    def _add(self, value):\n",
        "        self.length += 1\n",
        "        node = Node(value, self.head)\n",
        "        if self.tail:\n",
        "            self.tail.pointer = node\n",
        "        self.tail = node\n",
        "\n",
        "def isCircularll(ll):\n",
        "    p1 = ll.head\n",
        "    p2 = ll.head\n",
        "\n",
        "    while p2:\n",
        "        try:\n",
        "            p1 = p1.pointer\n",
        "            p2 = p2.pointer.pointer\n",
        "        except:\n",
        "            break\n",
        "\n",
        "        if p1 == p2:\n",
        "            return True\n",
        "    return False\n",
        "\n",
        "def test_isCircularll():\n",
        "    ll = LinkedListFIFO()\n",
        "    for i in range(10):\n",
        "        ll.addNode(i)\n",
        "    assert(isCircularll(ll) is False)\n",
        "\n",
        "    lcirc = CicularLinkedListFIFO()\n",
        "    for i in range(10):\n",
        "        lcirc.addNode(i)\n",
        "    assert(isCircularll(lcirc) is True)\n",
        "\n",
        "    print(\"테스트 통과!\")\n",
        "\n",
        "if __name__ == \"__main__\":\n",
        "    test_isCircularll()"
      ],
      "execution_count": null,
      "outputs": [
        {
          "output_type": "stream",
          "text": [
            "테스트 통과!\n"
          ],
          "name": "stdout"
        }
      ]
    },
    {
      "cell_type": "code",
      "metadata": {
        "id": "MUhsOaLo2Nca"
      },
      "source": [
        ""
      ],
      "execution_count": null,
      "outputs": []
    }
  ]
}