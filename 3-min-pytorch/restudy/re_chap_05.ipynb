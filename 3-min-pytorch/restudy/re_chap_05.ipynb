{
  "nbformat": 4,
  "nbformat_minor": 0,
  "metadata": {
    "colab": {
      "name": "re_chap_05.ipynb",
      "provenance": []
    },
    "kernelspec": {
      "name": "python3",
      "display_name": "Python 3"
    },
    "language_info": {
      "name": "python"
    },
    "accelerator": "GPU"
  },
  "cells": [
    {
      "cell_type": "markdown",
      "source": [
        "# Chapter 05 이미지 처리 능력이 탁월한 CNN"
      ],
      "metadata": {
        "id": "d1j92lWHOt2B"
      }
    },
    {
      "cell_type": "markdown",
      "source": [
        "## 5.2 CNN 모델 구현하기"
      ],
      "metadata": {
        "id": "lDvGqk03Y7KG"
      }
    },
    {
      "cell_type": "code",
      "execution_count": 1,
      "metadata": {
        "id": "e25z1_AaOcx6"
      },
      "outputs": [],
      "source": [
        "# 모듈 불러오기\n",
        "import torch\n",
        "import torch.nn as nn\n",
        "import torch.optim as optim\n",
        "import torch.nn.functional as F\n",
        "from torchvision import transforms, datasets"
      ]
    },
    {
      "cell_type": "code",
      "source": [
        "# gpu 사용가능 여부 확인\n",
        "USE_CUDA = torch.cuda.is_available()\n",
        "DEVICE = torch.device(\"cuda\" if USE_CUDA else \"cpu\")"
      ],
      "metadata": {
        "id": "gZ9U36glZYJq"
      },
      "execution_count": 2,
      "outputs": []
    },
    {
      "cell_type": "code",
      "source": [
        "USE_CUDA"
      ],
      "metadata": {
        "colab": {
          "base_uri": "https://localhost:8080/"
        },
        "id": "35oRaei8Zpxi",
        "outputId": "0585e749-f7d1-42ee-8227-cf159420febe"
      },
      "execution_count": 3,
      "outputs": [
        {
          "output_type": "execute_result",
          "data": {
            "text/plain": [
              "True"
            ]
          },
          "metadata": {},
          "execution_count": 3
        }
      ]
    },
    {
      "cell_type": "code",
      "source": [
        "# 하이퍼파라미터 설정\n",
        "EPOCHS = 40\n",
        "BATCH_SIZE = 64"
      ],
      "metadata": {
        "id": "ljSi41CVZrAD"
      },
      "execution_count": 4,
      "outputs": []
    },
    {
      "cell_type": "code",
      "source": [
        "# 데이터로더 정의\n",
        "train_loader = torch.utils.data.DataLoader(\n",
        "    datasets.FashionMNIST('./.data',\n",
        "                          train=True,\n",
        "                          download=True,\n",
        "                          transform=transforms.Compose([\n",
        "                            transforms.ToTensor(),\n",
        "                            transforms.Normalize((0.1307,), (0.3081,))\n",
        "                          ])),\n",
        "    batch_size=BATCH_SIZE, shuffle=True)\n",
        "\n",
        "test_loader = torch.utils.data.DataLoader(\n",
        "    datasets.FashionMNIST('./.data',\n",
        "                          train=False,\n",
        "                          download=True,\n",
        "                          transform=transforms.Compose([\n",
        "                            transforms.ToTensor(),\n",
        "                            transforms.Normalize((0.1307,), (0.3081,))\n",
        "                          ])),\n",
        "    batch_size=BATCH_SIZE, shuffle=True)"
      ],
      "metadata": {
        "id": "PGz2S2fSZ7as"
      },
      "execution_count": 7,
      "outputs": []
    },
    {
      "cell_type": "markdown",
      "source": [
        "현재 만드는 CNN의 커널은 5x5, 컨볼루션 계층은 2개"
      ],
      "metadata": {
        "id": "bpq5ScnibxQ0"
      }
    },
    {
      "cell_type": "markdown",
      "source": [
        "[Conv2d 층 설명](https://gaussian37.github.io/dl-pytorch-conv2d/)"
      ],
      "metadata": {
        "id": "34eL8zSzfkUI"
      }
    },
    {
      "cell_type": "code",
      "source": [
        "# CNN\n",
        "class CNN(nn.Module):\n",
        "    def __init__(self):\n",
        "        super(CNN, self).__init__()\n",
        "        self.conv1 = nn.Conv2d(1, 10, kernel_size=5)\n",
        "        self.conv2 = nn.Conv2d(10, 20, kernel_size=5)\n",
        "\n",
        "        self.drop = nn.Dropout2d()\n",
        "\n",
        "        self.fc1 = nn.Linear(320, 50)\n",
        "        self.fc2 = nn.Linear(50, 10)\n",
        "\n",
        "    def forward(self, x):\n",
        "        x = F.relu(F.max_pool2d(self.conv1(x), 2))\n",
        "        x = F.relu(F.max_pool2d(self.drop(self.conv2(x)), 2))\n",
        "\n",
        "        x = x.view(-1, 320)\n",
        "\n",
        "        x = F.relu(self.fc1(x))\n",
        "        x = F.dropout(x, training=self.training)\n",
        "        x = self.fc2(x)\n",
        "\n",
        "        return x"
      ],
      "metadata": {
        "id": "NEh-HfXTbQON"
      },
      "execution_count": 22,
      "outputs": []
    },
    {
      "cell_type": "code",
      "source": [
        "# model과 최적화함수\n",
        "model = CNN().to(DEVICE)\n",
        "optimizer = optim.SGD(model.parameters(), lr=0.01, momentum=0.5)"
      ],
      "metadata": {
        "id": "n12OhqaDgimy"
      },
      "execution_count": 23,
      "outputs": []
    },
    {
      "cell_type": "code",
      "source": [
        "# 훈련 함수\n",
        "def train(model, train_loader, optimizer, epoch):\n",
        "    model.train()\n",
        "    for batch_idx, (data, target) in enumerate(train_loader):\n",
        "        data, target = data.to(DEVICE), target.to(DEVICE)\n",
        "        optimizer.zero_grad()\n",
        "        output = model(data)\n",
        "        loss = F.cross_entropy(output, target)\n",
        "        loss.backward()\n",
        "        optimizer.step()\n",
        "\n",
        "        if batch_idx % 200 == 0:\n",
        "            print(f'Train Epoch: {epoch} [{batch_idx*len(data)}/{len(train_loader.dataset)} ({100.*batch_idx/len(train_loader):.0f}%)]\\tLoss:{loss.item():.6f}')"
      ],
      "metadata": {
        "id": "dEIcSxo7g0Qw"
      },
      "execution_count": 24,
      "outputs": []
    },
    {
      "cell_type": "code",
      "source": [
        "len(train_loader), len(train_loader.dataset)"
      ],
      "metadata": {
        "colab": {
          "base_uri": "https://localhost:8080/"
        },
        "id": "y3PLbkcHigvo",
        "outputId": "255cb42c-4155-400b-9a2a-ea3bf19acac5"
      },
      "execution_count": 29,
      "outputs": [
        {
          "output_type": "execute_result",
          "data": {
            "text/plain": [
              "(938, 60000)"
            ]
          },
          "metadata": {},
          "execution_count": 29
        }
      ]
    },
    {
      "cell_type": "code",
      "source": [
        "# 평가 함수\n",
        "def evaluate(model, test_loader):\n",
        "    model.eval()\n",
        "    test_loss = 0\n",
        "    correct = 0\n",
        "    with torch.no_grad():\n",
        "        for data, target in test_loader:\n",
        "            data, target = data.to(DEVICE), target.to(DEVICE)\n",
        "            output = model(data)\n",
        "\n",
        "            # 배치 오차를 합산\n",
        "            test_loss += F.cross_entropy(output, target, reduction='sum').item()\n",
        "\n",
        "            # 가장 높은 값을 가진 인덱스가 예측값\n",
        "            pred = output.max(1, keepdim=True)[1]\n",
        "            correct += pred.eq(target.view_as(pred)).sum().item()\n",
        "\n",
        "    test_loss /= len(test_loader.dataset)\n",
        "    test_accuracy = 100. * correct / len(test_loader.dataset)\n",
        "    return test_loss, test_accuracy"
      ],
      "metadata": {
        "id": "tVo46yX4inB3"
      },
      "execution_count": 26,
      "outputs": []
    },
    {
      "cell_type": "markdown",
      "source": [
        "모델 실행"
      ],
      "metadata": {
        "id": "TPCeH2lRkI4V"
      }
    },
    {
      "cell_type": "code",
      "source": [
        "for epoch in range(1, EPOCHS + 1):\n",
        "    train(model, train_loader, optimizer, epoch)\n",
        "    test_loss, test_accuracy = evaluate(model, test_loader)\n",
        "\n",
        "    print(f'[{epoch}] Test Loss: {test_loss:.4f}, Accuracy: {test_accuracy:.2f}%')"
      ],
      "metadata": {
        "colab": {
          "base_uri": "https://localhost:8080/"
        },
        "id": "mbI6Sy6LkHF3",
        "outputId": "26bf7aeb-f511-4ca2-d68f-30fc57da50d7"
      },
      "execution_count": 27,
      "outputs": [
        {
          "output_type": "stream",
          "name": "stdout",
          "text": [
            "Train Epoch: 1 [0/60000 (0%)]\tLoss:2.313305\n",
            "Train Epoch: 1 [12800/60000 (21%)]\tLoss:1.370155\n",
            "Train Epoch: 1 [25600/60000 (43%)]\tLoss:1.088256\n",
            "Train Epoch: 1 [38400/60000 (64%)]\tLoss:0.860652\n",
            "Train Epoch: 1 [51200/60000 (85%)]\tLoss:0.747864\n",
            "[1] Test Loss: 0.6642, Accuracy: 74.47%\n",
            "Train Epoch: 2 [0/60000 (0%)]\tLoss:0.963815\n",
            "Train Epoch: 2 [12800/60000 (21%)]\tLoss:0.785075\n",
            "Train Epoch: 2 [25600/60000 (43%)]\tLoss:0.856021\n",
            "Train Epoch: 2 [38400/60000 (64%)]\tLoss:0.665301\n",
            "Train Epoch: 2 [51200/60000 (85%)]\tLoss:0.767851\n",
            "[2] Test Loss: 0.5618, Accuracy: 78.50%\n",
            "Train Epoch: 3 [0/60000 (0%)]\tLoss:0.534215\n",
            "Train Epoch: 3 [12800/60000 (21%)]\tLoss:0.672763\n",
            "Train Epoch: 3 [25600/60000 (43%)]\tLoss:0.747651\n",
            "Train Epoch: 3 [38400/60000 (64%)]\tLoss:0.554629\n",
            "Train Epoch: 3 [51200/60000 (85%)]\tLoss:0.652202\n",
            "[3] Test Loss: 0.5137, Accuracy: 80.29%\n",
            "Train Epoch: 4 [0/60000 (0%)]\tLoss:0.810447\n",
            "Train Epoch: 4 [12800/60000 (21%)]\tLoss:0.802413\n",
            "Train Epoch: 4 [25600/60000 (43%)]\tLoss:0.581880\n",
            "Train Epoch: 4 [38400/60000 (64%)]\tLoss:0.654855\n",
            "Train Epoch: 4 [51200/60000 (85%)]\tLoss:0.997396\n",
            "[4] Test Loss: 0.4897, Accuracy: 80.86%\n",
            "Train Epoch: 5 [0/60000 (0%)]\tLoss:0.746347\n",
            "Train Epoch: 5 [12800/60000 (21%)]\tLoss:0.680910\n",
            "Train Epoch: 5 [25600/60000 (43%)]\tLoss:0.426782\n",
            "Train Epoch: 5 [38400/60000 (64%)]\tLoss:0.579921\n",
            "Train Epoch: 5 [51200/60000 (85%)]\tLoss:0.426286\n",
            "[5] Test Loss: 0.4614, Accuracy: 82.69%\n",
            "Train Epoch: 6 [0/60000 (0%)]\tLoss:0.409469\n",
            "Train Epoch: 6 [12800/60000 (21%)]\tLoss:0.478758\n",
            "Train Epoch: 6 [25600/60000 (43%)]\tLoss:0.665209\n",
            "Train Epoch: 6 [38400/60000 (64%)]\tLoss:0.524238\n",
            "Train Epoch: 6 [51200/60000 (85%)]\tLoss:0.665806\n",
            "[6] Test Loss: 0.4466, Accuracy: 84.08%\n",
            "Train Epoch: 7 [0/60000 (0%)]\tLoss:0.680723\n",
            "Train Epoch: 7 [12800/60000 (21%)]\tLoss:0.716528\n",
            "Train Epoch: 7 [25600/60000 (43%)]\tLoss:0.659204\n",
            "Train Epoch: 7 [38400/60000 (64%)]\tLoss:0.804162\n",
            "Train Epoch: 7 [51200/60000 (85%)]\tLoss:0.773112\n",
            "[7] Test Loss: 0.4270, Accuracy: 83.99%\n",
            "Train Epoch: 8 [0/60000 (0%)]\tLoss:0.685134\n",
            "Train Epoch: 8 [12800/60000 (21%)]\tLoss:0.443947\n",
            "Train Epoch: 8 [25600/60000 (43%)]\tLoss:0.472290\n",
            "Train Epoch: 8 [38400/60000 (64%)]\tLoss:0.663255\n",
            "Train Epoch: 8 [51200/60000 (85%)]\tLoss:0.524483\n",
            "[8] Test Loss: 0.4084, Accuracy: 85.19%\n",
            "Train Epoch: 9 [0/60000 (0%)]\tLoss:0.584156\n",
            "Train Epoch: 9 [12800/60000 (21%)]\tLoss:0.571497\n",
            "Train Epoch: 9 [25600/60000 (43%)]\tLoss:0.462468\n",
            "Train Epoch: 9 [38400/60000 (64%)]\tLoss:0.717977\n",
            "Train Epoch: 9 [51200/60000 (85%)]\tLoss:0.678667\n",
            "[9] Test Loss: 0.4023, Accuracy: 85.10%\n",
            "Train Epoch: 10 [0/60000 (0%)]\tLoss:0.558735\n",
            "Train Epoch: 10 [12800/60000 (21%)]\tLoss:0.428640\n",
            "Train Epoch: 10 [25600/60000 (43%)]\tLoss:0.292073\n",
            "Train Epoch: 10 [38400/60000 (64%)]\tLoss:0.573655\n",
            "Train Epoch: 10 [51200/60000 (85%)]\tLoss:0.566330\n",
            "[10] Test Loss: 0.3862, Accuracy: 86.26%\n",
            "Train Epoch: 11 [0/60000 (0%)]\tLoss:0.508342\n",
            "Train Epoch: 11 [12800/60000 (21%)]\tLoss:0.502612\n",
            "Train Epoch: 11 [25600/60000 (43%)]\tLoss:0.568255\n",
            "Train Epoch: 11 [38400/60000 (64%)]\tLoss:0.411467\n",
            "Train Epoch: 11 [51200/60000 (85%)]\tLoss:0.467863\n",
            "[11] Test Loss: 0.3838, Accuracy: 86.34%\n",
            "Train Epoch: 12 [0/60000 (0%)]\tLoss:0.571127\n",
            "Train Epoch: 12 [12800/60000 (21%)]\tLoss:0.461830\n",
            "Train Epoch: 12 [25600/60000 (43%)]\tLoss:0.628816\n",
            "Train Epoch: 12 [38400/60000 (64%)]\tLoss:0.493409\n",
            "Train Epoch: 12 [51200/60000 (85%)]\tLoss:0.386550\n",
            "[12] Test Loss: 0.3743, Accuracy: 86.61%\n",
            "Train Epoch: 13 [0/60000 (0%)]\tLoss:0.672202\n",
            "Train Epoch: 13 [12800/60000 (21%)]\tLoss:0.473150\n",
            "Train Epoch: 13 [25600/60000 (43%)]\tLoss:0.607406\n",
            "Train Epoch: 13 [38400/60000 (64%)]\tLoss:0.365610\n",
            "Train Epoch: 13 [51200/60000 (85%)]\tLoss:0.324889\n",
            "[13] Test Loss: 0.3676, Accuracy: 86.37%\n",
            "Train Epoch: 14 [0/60000 (0%)]\tLoss:0.402870\n",
            "Train Epoch: 14 [12800/60000 (21%)]\tLoss:0.385429\n",
            "Train Epoch: 14 [25600/60000 (43%)]\tLoss:0.407716\n",
            "Train Epoch: 14 [38400/60000 (64%)]\tLoss:0.727491\n",
            "Train Epoch: 14 [51200/60000 (85%)]\tLoss:0.549038\n",
            "[14] Test Loss: 0.3611, Accuracy: 86.80%\n",
            "Train Epoch: 15 [0/60000 (0%)]\tLoss:0.391466\n",
            "Train Epoch: 15 [12800/60000 (21%)]\tLoss:0.500273\n",
            "Train Epoch: 15 [25600/60000 (43%)]\tLoss:0.666703\n",
            "Train Epoch: 15 [38400/60000 (64%)]\tLoss:0.489274\n",
            "Train Epoch: 15 [51200/60000 (85%)]\tLoss:0.416485\n",
            "[15] Test Loss: 0.3608, Accuracy: 86.89%\n",
            "Train Epoch: 16 [0/60000 (0%)]\tLoss:0.432472\n",
            "Train Epoch: 16 [12800/60000 (21%)]\tLoss:0.418040\n",
            "Train Epoch: 16 [25600/60000 (43%)]\tLoss:0.526172\n",
            "Train Epoch: 16 [38400/60000 (64%)]\tLoss:0.411368\n",
            "Train Epoch: 16 [51200/60000 (85%)]\tLoss:0.392543\n",
            "[16] Test Loss: 0.3584, Accuracy: 86.64%\n",
            "Train Epoch: 17 [0/60000 (0%)]\tLoss:0.539881\n",
            "Train Epoch: 17 [12800/60000 (21%)]\tLoss:0.387975\n",
            "Train Epoch: 17 [25600/60000 (43%)]\tLoss:0.378857\n",
            "Train Epoch: 17 [38400/60000 (64%)]\tLoss:0.422719\n",
            "Train Epoch: 17 [51200/60000 (85%)]\tLoss:0.398909\n",
            "[17] Test Loss: 0.3516, Accuracy: 87.41%\n",
            "Train Epoch: 18 [0/60000 (0%)]\tLoss:0.346035\n",
            "Train Epoch: 18 [12800/60000 (21%)]\tLoss:0.475326\n",
            "Train Epoch: 18 [25600/60000 (43%)]\tLoss:0.407892\n",
            "Train Epoch: 18 [38400/60000 (64%)]\tLoss:0.445303\n",
            "Train Epoch: 18 [51200/60000 (85%)]\tLoss:0.355518\n",
            "[18] Test Loss: 0.3491, Accuracy: 87.38%\n",
            "Train Epoch: 19 [0/60000 (0%)]\tLoss:0.221823\n",
            "Train Epoch: 19 [12800/60000 (21%)]\tLoss:0.232566\n",
            "Train Epoch: 19 [25600/60000 (43%)]\tLoss:0.344545\n",
            "Train Epoch: 19 [38400/60000 (64%)]\tLoss:0.649540\n",
            "Train Epoch: 19 [51200/60000 (85%)]\tLoss:0.537850\n",
            "[19] Test Loss: 0.3423, Accuracy: 87.29%\n",
            "Train Epoch: 20 [0/60000 (0%)]\tLoss:0.471578\n",
            "Train Epoch: 20 [12800/60000 (21%)]\tLoss:0.426216\n",
            "Train Epoch: 20 [25600/60000 (43%)]\tLoss:0.356765\n",
            "Train Epoch: 20 [38400/60000 (64%)]\tLoss:0.345531\n",
            "Train Epoch: 20 [51200/60000 (85%)]\tLoss:0.404359\n",
            "[20] Test Loss: 0.3437, Accuracy: 87.33%\n",
            "Train Epoch: 21 [0/60000 (0%)]\tLoss:0.612441\n",
            "Train Epoch: 21 [12800/60000 (21%)]\tLoss:0.382328\n",
            "Train Epoch: 21 [25600/60000 (43%)]\tLoss:0.501741\n",
            "Train Epoch: 21 [38400/60000 (64%)]\tLoss:0.445613\n",
            "Train Epoch: 21 [51200/60000 (85%)]\tLoss:0.425838\n",
            "[21] Test Loss: 0.3331, Accuracy: 87.83%\n",
            "Train Epoch: 22 [0/60000 (0%)]\tLoss:0.360529\n",
            "Train Epoch: 22 [12800/60000 (21%)]\tLoss:0.412339\n",
            "Train Epoch: 22 [25600/60000 (43%)]\tLoss:0.427294\n",
            "Train Epoch: 22 [38400/60000 (64%)]\tLoss:0.433319\n",
            "Train Epoch: 22 [51200/60000 (85%)]\tLoss:0.447790\n",
            "[22] Test Loss: 0.3425, Accuracy: 87.61%\n",
            "Train Epoch: 23 [0/60000 (0%)]\tLoss:0.495307\n",
            "Train Epoch: 23 [12800/60000 (21%)]\tLoss:0.799901\n",
            "Train Epoch: 23 [25600/60000 (43%)]\tLoss:0.417544\n",
            "Train Epoch: 23 [38400/60000 (64%)]\tLoss:0.338113\n",
            "Train Epoch: 23 [51200/60000 (85%)]\tLoss:0.389289\n",
            "[23] Test Loss: 0.3318, Accuracy: 87.80%\n",
            "Train Epoch: 24 [0/60000 (0%)]\tLoss:0.420915\n",
            "Train Epoch: 24 [12800/60000 (21%)]\tLoss:0.471859\n",
            "Train Epoch: 24 [25600/60000 (43%)]\tLoss:0.602412\n",
            "Train Epoch: 24 [38400/60000 (64%)]\tLoss:0.224383\n",
            "Train Epoch: 24 [51200/60000 (85%)]\tLoss:0.441248\n",
            "[24] Test Loss: 0.3289, Accuracy: 87.95%\n",
            "Train Epoch: 25 [0/60000 (0%)]\tLoss:0.387635\n",
            "Train Epoch: 25 [12800/60000 (21%)]\tLoss:0.339160\n",
            "Train Epoch: 25 [25600/60000 (43%)]\tLoss:0.479557\n",
            "Train Epoch: 25 [38400/60000 (64%)]\tLoss:0.302179\n",
            "Train Epoch: 25 [51200/60000 (85%)]\tLoss:0.478639\n",
            "[25] Test Loss: 0.3266, Accuracy: 87.68%\n",
            "Train Epoch: 26 [0/60000 (0%)]\tLoss:0.351376\n",
            "Train Epoch: 26 [12800/60000 (21%)]\tLoss:0.421729\n",
            "Train Epoch: 26 [25600/60000 (43%)]\tLoss:0.241736\n",
            "Train Epoch: 26 [38400/60000 (64%)]\tLoss:0.357269\n",
            "Train Epoch: 26 [51200/60000 (85%)]\tLoss:0.345307\n",
            "[26] Test Loss: 0.3257, Accuracy: 88.15%\n",
            "Train Epoch: 27 [0/60000 (0%)]\tLoss:0.480941\n",
            "Train Epoch: 27 [12800/60000 (21%)]\tLoss:0.599114\n",
            "Train Epoch: 27 [25600/60000 (43%)]\tLoss:0.500706\n",
            "Train Epoch: 27 [38400/60000 (64%)]\tLoss:0.235766\n",
            "Train Epoch: 27 [51200/60000 (85%)]\tLoss:0.351494\n",
            "[27] Test Loss: 0.3229, Accuracy: 88.22%\n",
            "Train Epoch: 28 [0/60000 (0%)]\tLoss:0.500102\n",
            "Train Epoch: 28 [12800/60000 (21%)]\tLoss:0.306456\n",
            "Train Epoch: 28 [25600/60000 (43%)]\tLoss:0.393705\n",
            "Train Epoch: 28 [38400/60000 (64%)]\tLoss:0.420534\n",
            "Train Epoch: 28 [51200/60000 (85%)]\tLoss:0.529075\n",
            "[28] Test Loss: 0.3273, Accuracy: 87.98%\n",
            "Train Epoch: 29 [0/60000 (0%)]\tLoss:0.326322\n",
            "Train Epoch: 29 [12800/60000 (21%)]\tLoss:0.527912\n",
            "Train Epoch: 29 [25600/60000 (43%)]\tLoss:0.386959\n",
            "Train Epoch: 29 [38400/60000 (64%)]\tLoss:0.266845\n",
            "Train Epoch: 29 [51200/60000 (85%)]\tLoss:0.382127\n",
            "[29] Test Loss: 0.3240, Accuracy: 87.93%\n",
            "Train Epoch: 30 [0/60000 (0%)]\tLoss:0.392899\n",
            "Train Epoch: 30 [12800/60000 (21%)]\tLoss:0.308918\n",
            "Train Epoch: 30 [25600/60000 (43%)]\tLoss:0.384720\n",
            "Train Epoch: 30 [38400/60000 (64%)]\tLoss:0.379495\n",
            "Train Epoch: 30 [51200/60000 (85%)]\tLoss:0.398513\n",
            "[30] Test Loss: 0.3226, Accuracy: 88.25%\n",
            "Train Epoch: 31 [0/60000 (0%)]\tLoss:0.386805\n",
            "Train Epoch: 31 [12800/60000 (21%)]\tLoss:0.383207\n",
            "Train Epoch: 31 [25600/60000 (43%)]\tLoss:0.158996\n",
            "Train Epoch: 31 [38400/60000 (64%)]\tLoss:0.452961\n",
            "Train Epoch: 31 [51200/60000 (85%)]\tLoss:0.266610\n",
            "[31] Test Loss: 0.3229, Accuracy: 88.19%\n",
            "Train Epoch: 32 [0/60000 (0%)]\tLoss:0.603075\n",
            "Train Epoch: 32 [12800/60000 (21%)]\tLoss:0.381391\n",
            "Train Epoch: 32 [25600/60000 (43%)]\tLoss:0.433782\n",
            "Train Epoch: 32 [38400/60000 (64%)]\tLoss:0.281937\n",
            "Train Epoch: 32 [51200/60000 (85%)]\tLoss:0.501194\n",
            "[32] Test Loss: 0.3195, Accuracy: 88.58%\n",
            "Train Epoch: 33 [0/60000 (0%)]\tLoss:0.662160\n",
            "Train Epoch: 33 [12800/60000 (21%)]\tLoss:0.287606\n",
            "Train Epoch: 33 [25600/60000 (43%)]\tLoss:0.377758\n",
            "Train Epoch: 33 [38400/60000 (64%)]\tLoss:0.335616\n",
            "Train Epoch: 33 [51200/60000 (85%)]\tLoss:0.463525\n",
            "[33] Test Loss: 0.3207, Accuracy: 87.97%\n",
            "Train Epoch: 34 [0/60000 (0%)]\tLoss:0.331831\n",
            "Train Epoch: 34 [12800/60000 (21%)]\tLoss:0.372922\n",
            "Train Epoch: 34 [25600/60000 (43%)]\tLoss:0.451728\n",
            "Train Epoch: 34 [38400/60000 (64%)]\tLoss:0.432929\n",
            "Train Epoch: 34 [51200/60000 (85%)]\tLoss:0.481185\n",
            "[34] Test Loss: 0.3165, Accuracy: 88.22%\n",
            "Train Epoch: 35 [0/60000 (0%)]\tLoss:0.260480\n",
            "Train Epoch: 35 [12800/60000 (21%)]\tLoss:0.472086\n",
            "Train Epoch: 35 [25600/60000 (43%)]\tLoss:0.360578\n",
            "Train Epoch: 35 [38400/60000 (64%)]\tLoss:0.349725\n",
            "Train Epoch: 35 [51200/60000 (85%)]\tLoss:0.466950\n",
            "[35] Test Loss: 0.3133, Accuracy: 88.62%\n",
            "Train Epoch: 36 [0/60000 (0%)]\tLoss:0.331916\n",
            "Train Epoch: 36 [12800/60000 (21%)]\tLoss:0.387687\n",
            "Train Epoch: 36 [25600/60000 (43%)]\tLoss:0.372104\n",
            "Train Epoch: 36 [38400/60000 (64%)]\tLoss:0.607736\n",
            "Train Epoch: 36 [51200/60000 (85%)]\tLoss:0.646744\n",
            "[36] Test Loss: 0.3196, Accuracy: 88.16%\n",
            "Train Epoch: 37 [0/60000 (0%)]\tLoss:0.366074\n",
            "Train Epoch: 37 [12800/60000 (21%)]\tLoss:0.413123\n",
            "Train Epoch: 37 [25600/60000 (43%)]\tLoss:0.377307\n",
            "Train Epoch: 37 [38400/60000 (64%)]\tLoss:0.376893\n",
            "Train Epoch: 37 [51200/60000 (85%)]\tLoss:0.406618\n",
            "[37] Test Loss: 0.3115, Accuracy: 88.34%\n",
            "Train Epoch: 38 [0/60000 (0%)]\tLoss:0.360395\n",
            "Train Epoch: 38 [12800/60000 (21%)]\tLoss:0.482687\n",
            "Train Epoch: 38 [25600/60000 (43%)]\tLoss:0.316727\n",
            "Train Epoch: 38 [38400/60000 (64%)]\tLoss:0.230015\n",
            "Train Epoch: 38 [51200/60000 (85%)]\tLoss:0.430066\n",
            "[38] Test Loss: 0.3109, Accuracy: 88.67%\n",
            "Train Epoch: 39 [0/60000 (0%)]\tLoss:0.397759\n",
            "Train Epoch: 39 [12800/60000 (21%)]\tLoss:0.428860\n",
            "Train Epoch: 39 [25600/60000 (43%)]\tLoss:0.492814\n",
            "Train Epoch: 39 [38400/60000 (64%)]\tLoss:0.471131\n",
            "Train Epoch: 39 [51200/60000 (85%)]\tLoss:0.488394\n",
            "[39] Test Loss: 0.3145, Accuracy: 88.35%\n",
            "Train Epoch: 40 [0/60000 (0%)]\tLoss:0.367265\n",
            "Train Epoch: 40 [12800/60000 (21%)]\tLoss:0.479365\n",
            "Train Epoch: 40 [25600/60000 (43%)]\tLoss:0.307060\n",
            "Train Epoch: 40 [38400/60000 (64%)]\tLoss:0.308590\n",
            "Train Epoch: 40 [51200/60000 (85%)]\tLoss:0.572782\n",
            "[40] Test Loss: 0.3154, Accuracy: 88.58%\n"
          ]
        }
      ]
    },
    {
      "cell_type": "markdown",
      "source": [
        "### 전체코드 및 연습"
      ],
      "metadata": {
        "id": "AvCuHczbt9nF"
      }
    },
    {
      "cell_type": "code",
      "source": [
        "import torch\n",
        "import torch.nn as nn\n",
        "import torch.optim as optim\n",
        "import torch.nn.functional as F\n",
        "from torchvision import datasets, transforms"
      ],
      "metadata": {
        "id": "j3VvNS5LkuUW"
      },
      "execution_count": 48,
      "outputs": []
    },
    {
      "cell_type": "code",
      "source": [
        "USE_CUDA = torch.cuda.is_available()\n",
        "DEVICE = torch.device(\"cuda\" if USE_CUDA else \"cpu\")"
      ],
      "metadata": {
        "id": "Aa4HyIdruNd9"
      },
      "execution_count": 49,
      "outputs": []
    },
    {
      "cell_type": "code",
      "source": [
        "EPOCHS = 50  # Horizon 추가해서  10에폭 늘림\n",
        "BATCH_SIZE = 64"
      ],
      "metadata": {
        "id": "pb5zNJl3ufJW"
      },
      "execution_count": 50,
      "outputs": []
    },
    {
      "cell_type": "code",
      "source": [
        "train_loader = torch.utils.data.DataLoader(\n",
        "    datasets.FashionMNIST('./.data',\n",
        "        train=True,\n",
        "        download=True,\n",
        "        transform=transforms.Compose([\n",
        "            transforms.RandomHorizontalFlip(),        # 추가함. 데이터가 늘어남에 따라 에폭 수 늘려야될것으로 보임\n",
        "            transforms.ToTensor(),\n",
        "            transforms.Normalize((0.1307,), (0.3081,))\n",
        "        ])),\n",
        "    batch_size=BATCH_SIZE, shuffle=True\n",
        ")\n",
        "\n",
        "test_loader = torch.utils.data.DataLoader(\n",
        "    datasets.FashionMNIST('./.data',\n",
        "        train=False,\n",
        "        download=True,\n",
        "        transform=transforms.Compose([\n",
        "            transforms.ToTensor(),\n",
        "            transforms.Normalize((0.1307,), (0.3081,))\n",
        "        ])),\n",
        "    batch_size=BATCH_SIZE, shuffle=True\n",
        ")"
      ],
      "metadata": {
        "id": "prdT73jDujoO"
      },
      "execution_count": 51,
      "outputs": []
    },
    {
      "cell_type": "code",
      "source": [
        "class CNN(nn.Module):\n",
        "    def __init__(self):\n",
        "        super(CNN, self).__init__()\n",
        "        self.conv1 = nn.Conv2d(1, 10, kernel_size=5)\n",
        "        self.conv2 = nn.Conv2d(10, 20, kernel_size=5)\n",
        "        self.conv2_drop = nn.Dropout2d()\n",
        "        self.fc1 = nn.Linear(320, 50)\n",
        "        self.fc2 = nn.Linear(50, 10)\n",
        "\n",
        "    def forward(self, x):\n",
        "        x = F.relu(F.max_pool2d(self.conv1(x), 2))\n",
        "        x = F.relu(F.max_pool2d(self.conv2_drop(self.conv2(x)), 2))\n",
        "        x = x.view(-1, 320)\n",
        "        x = F.relu(self.fc1(x))\n",
        "        x = F.dropout(x, training=self.training)\n",
        "        x = self.fc2(x)\n",
        "\n",
        "        return x"
      ],
      "metadata": {
        "id": "ZXA64qHnwDPj"
      },
      "execution_count": 57,
      "outputs": []
    },
    {
      "cell_type": "code",
      "source": [
        "model = CNN().to(DEVICE)\n",
        "optimizer = optim.SGD(model.parameters(), lr=0.01, momentum=0.5)"
      ],
      "metadata": {
        "id": "Dmu0Cg8-xSfo"
      },
      "execution_count": 58,
      "outputs": []
    },
    {
      "cell_type": "code",
      "source": [
        "def train(model, train_loader, optimizer, epoch):\n",
        "    print(f\"Train Epoch : {epoch}\")\n",
        "    model.train()\n",
        "    for batch_idx, (data, target) in enumerate(train_loader):\n",
        "        data, target = data.to(DEVICE), target.to(DEVICE)\n",
        "        optimizer.zero_grad()\n",
        "        output = model(data)\n",
        "        loss = F.cross_entropy(output, target)\n",
        "        loss.backward()\n",
        "        optimizer.step()\n",
        "\n",
        "        # if batch_idx % 200 == 0:\n",
        "        #     print(f\"[{batch_idx*len(data)}/{len(train_loader.dataset)} ({100.*batch_idx/len(train_loader):.0f}%)]\\tLoss: {loss.item:.6f}\")"
      ],
      "metadata": {
        "id": "LHw9Grmjxxg9"
      },
      "execution_count": 62,
      "outputs": []
    },
    {
      "cell_type": "code",
      "source": [
        "def evaluate(mode, test_loader):\n",
        "    model.eval()\n",
        "    test_loss = 0\n",
        "    correct = 0\n",
        "    with torch.no_grad():\n",
        "        for data, target in test_loader:\n",
        "            data, target = data.to(DEVICE), target.to(DEVICE)\n",
        "            output = model(data)\n",
        "\n",
        "            test_loss += F.cross_entropy(output, target, reduction='sum').item()\n",
        "\n",
        "            pred = output.max(1, keepdim=True)[1]\n",
        "            correct += pred.eq(target.view_as(pred)).sum().item()\n",
        "\n",
        "    test_loss /= len(test_loader.dataset)\n",
        "    test_accuracy = 100.*correct / len(test_loader.dataset)\n",
        "    return test_loss, test_accuracy"
      ],
      "metadata": {
        "id": "karJPcDT0nvS"
      },
      "execution_count": 63,
      "outputs": []
    },
    {
      "cell_type": "code",
      "source": [
        "from tqdm import tqdm\n",
        "\n",
        "for epoch in tqdm(range(1, EPOCHS + 1)):\n",
        "    train(model, train_loader, optimizer, epoch)\n",
        "    test_loss, test_accuracy = evaluate(model, test_loader)\n",
        "\n",
        "    print(f\"[{epoch}] Test Loss: {test_loss:.4f}, Accuracy: {test_accuracy:.2f}%\")"
      ],
      "metadata": {
        "colab": {
          "base_uri": "https://localhost:8080/"
        },
        "id": "ZhX57wrD1kyx",
        "outputId": "e2f9b1f4-0a7b-487e-c342-36e877be2e45"
      },
      "execution_count": 64,
      "outputs": [
        {
          "output_type": "stream",
          "name": "stderr",
          "text": [
            "\r  0%|          | 0/50 [00:00<?, ?it/s]"
          ]
        },
        {
          "output_type": "stream",
          "name": "stdout",
          "text": [
            "Train Epoch : 1\n"
          ]
        },
        {
          "output_type": "stream",
          "name": "stderr",
          "text": [
            "\r  2%|▏         | 1/50 [00:22<18:07, 22.20s/it]"
          ]
        },
        {
          "output_type": "stream",
          "name": "stdout",
          "text": [
            "[1] Test Loss: 0.6868, Accuracy: 74.17%\n",
            "Train Epoch : 2\n"
          ]
        },
        {
          "output_type": "stream",
          "name": "stderr",
          "text": [
            "\r  4%|▍         | 2/50 [00:43<17:34, 21.96s/it]"
          ]
        },
        {
          "output_type": "stream",
          "name": "stdout",
          "text": [
            "[2] Test Loss: 0.6025, Accuracy: 76.61%\n",
            "Train Epoch : 3\n"
          ]
        },
        {
          "output_type": "stream",
          "name": "stderr",
          "text": [
            "\r  6%|▌         | 3/50 [01:05<17:11, 21.95s/it]"
          ]
        },
        {
          "output_type": "stream",
          "name": "stdout",
          "text": [
            "[3] Test Loss: 0.5558, Accuracy: 77.98%\n",
            "Train Epoch : 4\n"
          ]
        },
        {
          "output_type": "stream",
          "name": "stderr",
          "text": [
            "\r  8%|▊         | 4/50 [01:28<16:52, 22.00s/it]"
          ]
        },
        {
          "output_type": "stream",
          "name": "stdout",
          "text": [
            "[4] Test Loss: 0.5232, Accuracy: 79.32%\n",
            "Train Epoch : 5\n"
          ]
        },
        {
          "output_type": "stream",
          "name": "stderr",
          "text": [
            "\r 10%|█         | 5/50 [01:50<16:35, 22.13s/it]"
          ]
        },
        {
          "output_type": "stream",
          "name": "stdout",
          "text": [
            "[5] Test Loss: 0.5049, Accuracy: 81.15%\n",
            "Train Epoch : 6\n"
          ]
        },
        {
          "output_type": "stream",
          "name": "stderr",
          "text": [
            "\r 12%|█▏        | 6/50 [02:12<16:11, 22.08s/it]"
          ]
        },
        {
          "output_type": "stream",
          "name": "stdout",
          "text": [
            "[6] Test Loss: 0.4850, Accuracy: 82.09%\n",
            "Train Epoch : 7\n"
          ]
        },
        {
          "output_type": "stream",
          "name": "stderr",
          "text": [
            "\r 14%|█▍        | 7/50 [02:34<15:48, 22.05s/it]"
          ]
        },
        {
          "output_type": "stream",
          "name": "stdout",
          "text": [
            "[7] Test Loss: 0.4637, Accuracy: 83.03%\n",
            "Train Epoch : 8\n"
          ]
        },
        {
          "output_type": "stream",
          "name": "stderr",
          "text": [
            "\r 16%|█▌        | 8/50 [02:56<15:27, 22.09s/it]"
          ]
        },
        {
          "output_type": "stream",
          "name": "stdout",
          "text": [
            "[8] Test Loss: 0.4514, Accuracy: 83.34%\n",
            "Train Epoch : 9\n"
          ]
        },
        {
          "output_type": "stream",
          "name": "stderr",
          "text": [
            "\r 18%|█▊        | 9/50 [03:18<15:03, 22.05s/it]"
          ]
        },
        {
          "output_type": "stream",
          "name": "stdout",
          "text": [
            "[9] Test Loss: 0.4449, Accuracy: 82.90%\n",
            "Train Epoch : 10\n"
          ]
        },
        {
          "output_type": "stream",
          "name": "stderr",
          "text": [
            "\r 20%|██        | 10/50 [03:40<14:44, 22.11s/it]"
          ]
        },
        {
          "output_type": "stream",
          "name": "stdout",
          "text": [
            "[10] Test Loss: 0.4418, Accuracy: 83.31%\n",
            "Train Epoch : 11\n"
          ]
        },
        {
          "output_type": "stream",
          "name": "stderr",
          "text": [
            "\r 22%|██▏       | 11/50 [04:02<14:22, 22.13s/it]"
          ]
        },
        {
          "output_type": "stream",
          "name": "stdout",
          "text": [
            "[11] Test Loss: 0.4197, Accuracy: 84.22%\n",
            "Train Epoch : 12\n"
          ]
        },
        {
          "output_type": "stream",
          "name": "stderr",
          "text": [
            "\r 24%|██▍       | 12/50 [04:25<14:02, 22.16s/it]"
          ]
        },
        {
          "output_type": "stream",
          "name": "stdout",
          "text": [
            "[12] Test Loss: 0.4242, Accuracy: 84.51%\n",
            "Train Epoch : 13\n"
          ]
        },
        {
          "output_type": "stream",
          "name": "stderr",
          "text": [
            "\r 26%|██▌       | 13/50 [04:47<13:38, 22.13s/it]"
          ]
        },
        {
          "output_type": "stream",
          "name": "stdout",
          "text": [
            "[13] Test Loss: 0.4137, Accuracy: 84.26%\n",
            "Train Epoch : 14\n"
          ]
        },
        {
          "output_type": "stream",
          "name": "stderr",
          "text": [
            "\r 28%|██▊       | 14/50 [05:09<13:17, 22.15s/it]"
          ]
        },
        {
          "output_type": "stream",
          "name": "stdout",
          "text": [
            "[14] Test Loss: 0.4138, Accuracy: 84.91%\n",
            "Train Epoch : 15\n"
          ]
        },
        {
          "output_type": "stream",
          "name": "stderr",
          "text": [
            "\r 30%|███       | 15/50 [05:31<12:51, 22.05s/it]"
          ]
        },
        {
          "output_type": "stream",
          "name": "stdout",
          "text": [
            "[15] Test Loss: 0.3960, Accuracy: 85.50%\n",
            "Train Epoch : 16\n"
          ]
        },
        {
          "output_type": "stream",
          "name": "stderr",
          "text": [
            "\r 32%|███▏      | 16/50 [05:53<12:28, 22.02s/it]"
          ]
        },
        {
          "output_type": "stream",
          "name": "stdout",
          "text": [
            "[16] Test Loss: 0.3977, Accuracy: 85.18%\n",
            "Train Epoch : 17\n"
          ]
        },
        {
          "output_type": "stream",
          "name": "stderr",
          "text": [
            "\r 34%|███▍      | 17/50 [06:15<12:07, 22.05s/it]"
          ]
        },
        {
          "output_type": "stream",
          "name": "stdout",
          "text": [
            "[17] Test Loss: 0.3960, Accuracy: 85.34%\n",
            "Train Epoch : 18\n"
          ]
        },
        {
          "output_type": "stream",
          "name": "stderr",
          "text": [
            "\r 36%|███▌      | 18/50 [06:37<11:48, 22.13s/it]"
          ]
        },
        {
          "output_type": "stream",
          "name": "stdout",
          "text": [
            "[18] Test Loss: 0.3944, Accuracy: 85.57%\n",
            "Train Epoch : 19\n"
          ]
        },
        {
          "output_type": "stream",
          "name": "stderr",
          "text": [
            "\r 38%|███▊      | 19/50 [06:59<11:24, 22.08s/it]"
          ]
        },
        {
          "output_type": "stream",
          "name": "stdout",
          "text": [
            "[19] Test Loss: 0.3863, Accuracy: 85.54%\n",
            "Train Epoch : 20\n"
          ]
        },
        {
          "output_type": "stream",
          "name": "stderr",
          "text": [
            "\r 40%|████      | 20/50 [07:21<11:03, 22.13s/it]"
          ]
        },
        {
          "output_type": "stream",
          "name": "stdout",
          "text": [
            "[20] Test Loss: 0.3858, Accuracy: 85.98%\n",
            "Train Epoch : 21\n"
          ]
        },
        {
          "output_type": "stream",
          "name": "stderr",
          "text": [
            "\r 42%|████▏     | 21/50 [07:43<10:41, 22.11s/it]"
          ]
        },
        {
          "output_type": "stream",
          "name": "stdout",
          "text": [
            "[21] Test Loss: 0.3796, Accuracy: 85.86%\n",
            "Train Epoch : 22\n"
          ]
        },
        {
          "output_type": "stream",
          "name": "stderr",
          "text": [
            "\r 44%|████▍     | 22/50 [08:05<10:18, 22.10s/it]"
          ]
        },
        {
          "output_type": "stream",
          "name": "stdout",
          "text": [
            "[22] Test Loss: 0.3833, Accuracy: 85.55%\n",
            "Train Epoch : 23\n"
          ]
        },
        {
          "output_type": "stream",
          "name": "stderr",
          "text": [
            "\r 46%|████▌     | 23/50 [08:27<09:55, 22.04s/it]"
          ]
        },
        {
          "output_type": "stream",
          "name": "stdout",
          "text": [
            "[23] Test Loss: 0.3698, Accuracy: 86.42%\n",
            "Train Epoch : 24\n"
          ]
        },
        {
          "output_type": "stream",
          "name": "stderr",
          "text": [
            "\r 48%|████▊     | 24/50 [08:49<09:33, 22.07s/it]"
          ]
        },
        {
          "output_type": "stream",
          "name": "stdout",
          "text": [
            "[24] Test Loss: 0.3709, Accuracy: 85.90%\n",
            "Train Epoch : 25\n"
          ]
        },
        {
          "output_type": "stream",
          "name": "stderr",
          "text": [
            "\r 50%|█████     | 25/50 [09:12<09:12, 22.10s/it]"
          ]
        },
        {
          "output_type": "stream",
          "name": "stdout",
          "text": [
            "[25] Test Loss: 0.3695, Accuracy: 86.20%\n",
            "Train Epoch : 26\n"
          ]
        },
        {
          "output_type": "stream",
          "name": "stderr",
          "text": [
            "\r 52%|█████▏    | 26/50 [09:34<08:49, 22.08s/it]"
          ]
        },
        {
          "output_type": "stream",
          "name": "stdout",
          "text": [
            "[26] Test Loss: 0.3655, Accuracy: 86.26%\n",
            "Train Epoch : 27\n"
          ]
        },
        {
          "output_type": "stream",
          "name": "stderr",
          "text": [
            "\r 54%|█████▍    | 27/50 [09:56<08:28, 22.09s/it]"
          ]
        },
        {
          "output_type": "stream",
          "name": "stdout",
          "text": [
            "[27] Test Loss: 0.3671, Accuracy: 86.69%\n",
            "Train Epoch : 28\n"
          ]
        },
        {
          "output_type": "stream",
          "name": "stderr",
          "text": [
            "\r 56%|█████▌    | 28/50 [10:18<08:05, 22.07s/it]"
          ]
        },
        {
          "output_type": "stream",
          "name": "stdout",
          "text": [
            "[28] Test Loss: 0.3602, Accuracy: 86.51%\n",
            "Train Epoch : 29\n"
          ]
        },
        {
          "output_type": "stream",
          "name": "stderr",
          "text": [
            "\r 58%|█████▊    | 29/50 [10:40<07:43, 22.08s/it]"
          ]
        },
        {
          "output_type": "stream",
          "name": "stdout",
          "text": [
            "[29] Test Loss: 0.3550, Accuracy: 87.12%\n",
            "Train Epoch : 30\n"
          ]
        },
        {
          "output_type": "stream",
          "name": "stderr",
          "text": [
            "\r 60%|██████    | 30/50 [11:02<07:21, 22.06s/it]"
          ]
        },
        {
          "output_type": "stream",
          "name": "stdout",
          "text": [
            "[30] Test Loss: 0.3595, Accuracy: 86.52%\n",
            "Train Epoch : 31\n"
          ]
        },
        {
          "output_type": "stream",
          "name": "stderr",
          "text": [
            "\r 62%|██████▏   | 31/50 [11:24<06:58, 22.05s/it]"
          ]
        },
        {
          "output_type": "stream",
          "name": "stdout",
          "text": [
            "[31] Test Loss: 0.3608, Accuracy: 86.24%\n",
            "Train Epoch : 32\n"
          ]
        },
        {
          "output_type": "stream",
          "name": "stderr",
          "text": [
            "\r 64%|██████▍   | 32/50 [11:46<06:35, 21.98s/it]"
          ]
        },
        {
          "output_type": "stream",
          "name": "stdout",
          "text": [
            "[32] Test Loss: 0.3532, Accuracy: 87.04%\n",
            "Train Epoch : 33\n"
          ]
        },
        {
          "output_type": "stream",
          "name": "stderr",
          "text": [
            "\r 66%|██████▌   | 33/50 [12:08<06:13, 21.99s/it]"
          ]
        },
        {
          "output_type": "stream",
          "name": "stdout",
          "text": [
            "[33] Test Loss: 0.3532, Accuracy: 86.71%\n",
            "Train Epoch : 34\n"
          ]
        },
        {
          "output_type": "stream",
          "name": "stderr",
          "text": [
            "\r 68%|██████▊   | 34/50 [12:30<05:51, 21.99s/it]"
          ]
        },
        {
          "output_type": "stream",
          "name": "stdout",
          "text": [
            "[34] Test Loss: 0.3475, Accuracy: 87.33%\n",
            "Train Epoch : 35\n"
          ]
        },
        {
          "output_type": "stream",
          "name": "stderr",
          "text": [
            "\r 70%|███████   | 35/50 [12:52<05:30, 22.03s/it]"
          ]
        },
        {
          "output_type": "stream",
          "name": "stdout",
          "text": [
            "[35] Test Loss: 0.3509, Accuracy: 86.70%\n",
            "Train Epoch : 36\n"
          ]
        },
        {
          "output_type": "stream",
          "name": "stderr",
          "text": [
            "\r 72%|███████▏  | 36/50 [13:14<05:08, 22.02s/it]"
          ]
        },
        {
          "output_type": "stream",
          "name": "stdout",
          "text": [
            "[36] Test Loss: 0.3420, Accuracy: 87.30%\n",
            "Train Epoch : 37\n"
          ]
        },
        {
          "output_type": "stream",
          "name": "stderr",
          "text": [
            "\r 74%|███████▍  | 37/50 [13:36<04:46, 22.03s/it]"
          ]
        },
        {
          "output_type": "stream",
          "name": "stdout",
          "text": [
            "[37] Test Loss: 0.3421, Accuracy: 87.44%\n",
            "Train Epoch : 38\n"
          ]
        },
        {
          "output_type": "stream",
          "name": "stderr",
          "text": [
            "\r 76%|███████▌  | 38/50 [13:58<04:24, 22.04s/it]"
          ]
        },
        {
          "output_type": "stream",
          "name": "stdout",
          "text": [
            "[38] Test Loss: 0.3385, Accuracy: 87.44%\n",
            "Train Epoch : 39\n"
          ]
        },
        {
          "output_type": "stream",
          "name": "stderr",
          "text": [
            "\r 78%|███████▊  | 39/50 [14:20<04:02, 22.07s/it]"
          ]
        },
        {
          "output_type": "stream",
          "name": "stdout",
          "text": [
            "[39] Test Loss: 0.3432, Accuracy: 87.07%\n",
            "Train Epoch : 40\n"
          ]
        },
        {
          "output_type": "stream",
          "name": "stderr",
          "text": [
            "\r 80%|████████  | 40/50 [14:42<03:40, 22.04s/it]"
          ]
        },
        {
          "output_type": "stream",
          "name": "stdout",
          "text": [
            "[40] Test Loss: 0.3432, Accuracy: 87.27%\n",
            "Train Epoch : 41\n"
          ]
        },
        {
          "output_type": "stream",
          "name": "stderr",
          "text": [
            "\r 82%|████████▏ | 41/50 [15:04<03:18, 22.04s/it]"
          ]
        },
        {
          "output_type": "stream",
          "name": "stdout",
          "text": [
            "[41] Test Loss: 0.3471, Accuracy: 87.19%\n",
            "Train Epoch : 42\n"
          ]
        },
        {
          "output_type": "stream",
          "name": "stderr",
          "text": [
            "\r 84%|████████▍ | 42/50 [15:26<02:56, 22.04s/it]"
          ]
        },
        {
          "output_type": "stream",
          "name": "stdout",
          "text": [
            "[42] Test Loss: 0.3380, Accuracy: 87.34%\n",
            "Train Epoch : 43\n"
          ]
        },
        {
          "output_type": "stream",
          "name": "stderr",
          "text": [
            "\r 86%|████████▌ | 43/50 [15:48<02:34, 22.05s/it]"
          ]
        },
        {
          "output_type": "stream",
          "name": "stdout",
          "text": [
            "[43] Test Loss: 0.3378, Accuracy: 87.21%\n",
            "Train Epoch : 44\n"
          ]
        },
        {
          "output_type": "stream",
          "name": "stderr",
          "text": [
            "\r 88%|████████▊ | 44/50 [16:10<02:12, 22.05s/it]"
          ]
        },
        {
          "output_type": "stream",
          "name": "stdout",
          "text": [
            "[44] Test Loss: 0.3464, Accuracy: 87.09%\n",
            "Train Epoch : 45\n"
          ]
        },
        {
          "output_type": "stream",
          "name": "stderr",
          "text": [
            "\r 90%|█████████ | 45/50 [16:32<01:50, 22.04s/it]"
          ]
        },
        {
          "output_type": "stream",
          "name": "stdout",
          "text": [
            "[45] Test Loss: 0.3419, Accuracy: 87.30%\n",
            "Train Epoch : 46\n"
          ]
        },
        {
          "output_type": "stream",
          "name": "stderr",
          "text": [
            "\r 92%|█████████▏| 46/50 [16:54<01:28, 22.05s/it]"
          ]
        },
        {
          "output_type": "stream",
          "name": "stdout",
          "text": [
            "[46] Test Loss: 0.3399, Accuracy: 87.10%\n",
            "Train Epoch : 47\n"
          ]
        },
        {
          "output_type": "stream",
          "name": "stderr",
          "text": [
            "\r 94%|█████████▍| 47/50 [17:16<01:06, 22.02s/it]"
          ]
        },
        {
          "output_type": "stream",
          "name": "stdout",
          "text": [
            "[47] Test Loss: 0.3387, Accuracy: 87.26%\n",
            "Train Epoch : 48\n"
          ]
        },
        {
          "output_type": "stream",
          "name": "stderr",
          "text": [
            "\r 96%|█████████▌| 48/50 [17:39<00:44, 22.06s/it]"
          ]
        },
        {
          "output_type": "stream",
          "name": "stdout",
          "text": [
            "[48] Test Loss: 0.3310, Accuracy: 87.61%\n",
            "Train Epoch : 49\n"
          ]
        },
        {
          "output_type": "stream",
          "name": "stderr",
          "text": [
            "\r 98%|█████████▊| 49/50 [18:01<00:22, 22.07s/it]"
          ]
        },
        {
          "output_type": "stream",
          "name": "stdout",
          "text": [
            "[49] Test Loss: 0.3311, Accuracy: 87.59%\n",
            "Train Epoch : 50\n"
          ]
        },
        {
          "output_type": "stream",
          "name": "stderr",
          "text": [
            "100%|██████████| 50/50 [18:23<00:00, 22.06s/it]"
          ]
        },
        {
          "output_type": "stream",
          "name": "stdout",
          "text": [
            "[50] Test Loss: 0.3305, Accuracy: 87.59%\n"
          ]
        },
        {
          "output_type": "stream",
          "name": "stderr",
          "text": [
            "\n"
          ]
        }
      ]
    },
    {
      "cell_type": "markdown",
      "source": [
        "성능이 더 안좋아짐"
      ],
      "metadata": {
        "id": "p_FW0G067t9-"
      }
    },
    {
      "cell_type": "code",
      "source": [
        ""
      ],
      "metadata": {
        "id": "L-NFqS8H1ozf"
      },
      "execution_count": 64,
      "outputs": []
    }
  ]
}