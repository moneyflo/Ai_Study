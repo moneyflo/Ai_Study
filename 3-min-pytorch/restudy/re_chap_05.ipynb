{
  "nbformat": 4,
  "nbformat_minor": 0,
  "metadata": {
    "colab": {
      "name": "re_chap_05.ipynb",
      "provenance": [],
      "collapsed_sections": []
    },
    "kernelspec": {
      "name": "python3",
      "display_name": "Python 3"
    },
    "language_info": {
      "name": "python"
    },
    "accelerator": "GPU",
    "widgets": {
      "application/vnd.jupyter.widget-state+json": {
        "bf9b3fbd2a19401592139aaa71537ae2": {
          "model_module": "@jupyter-widgets/controls",
          "model_name": "HBoxModel",
          "model_module_version": "1.5.0",
          "state": {
            "_dom_classes": [],
            "_model_module": "@jupyter-widgets/controls",
            "_model_module_version": "1.5.0",
            "_model_name": "HBoxModel",
            "_view_count": null,
            "_view_module": "@jupyter-widgets/controls",
            "_view_module_version": "1.5.0",
            "_view_name": "HBoxView",
            "box_style": "",
            "children": [
              "IPY_MODEL_4a523798074a411cb329561b0b1e388b",
              "IPY_MODEL_2a0873a4d9624b06bfdc87e23562e6dd",
              "IPY_MODEL_98ad42d7e9ba4d33977df6d15580250f"
            ],
            "layout": "IPY_MODEL_cb805b116cc54d56860b35bdd5d6985f"
          }
        },
        "4a523798074a411cb329561b0b1e388b": {
          "model_module": "@jupyter-widgets/controls",
          "model_name": "HTMLModel",
          "model_module_version": "1.5.0",
          "state": {
            "_dom_classes": [],
            "_model_module": "@jupyter-widgets/controls",
            "_model_module_version": "1.5.0",
            "_model_name": "HTMLModel",
            "_view_count": null,
            "_view_module": "@jupyter-widgets/controls",
            "_view_module_version": "1.5.0",
            "_view_name": "HTMLView",
            "description": "",
            "description_tooltip": null,
            "layout": "IPY_MODEL_b262b8c475104699b55e48a8c0ab3e9c",
            "placeholder": "​",
            "style": "IPY_MODEL_0e5ce3a7de994a9d92470876a55a3214",
            "value": ""
          }
        },
        "2a0873a4d9624b06bfdc87e23562e6dd": {
          "model_module": "@jupyter-widgets/controls",
          "model_name": "FloatProgressModel",
          "model_module_version": "1.5.0",
          "state": {
            "_dom_classes": [],
            "_model_module": "@jupyter-widgets/controls",
            "_model_module_version": "1.5.0",
            "_model_name": "FloatProgressModel",
            "_view_count": null,
            "_view_module": "@jupyter-widgets/controls",
            "_view_module_version": "1.5.0",
            "_view_name": "ProgressView",
            "bar_style": "success",
            "description": "",
            "description_tooltip": null,
            "layout": "IPY_MODEL_e53d90712af246ea9375f2cfe117f109",
            "max": 170498071,
            "min": 0,
            "orientation": "horizontal",
            "style": "IPY_MODEL_9d00d4cda923498890b6822e2192d3b8",
            "value": 170498071
          }
        },
        "98ad42d7e9ba4d33977df6d15580250f": {
          "model_module": "@jupyter-widgets/controls",
          "model_name": "HTMLModel",
          "model_module_version": "1.5.0",
          "state": {
            "_dom_classes": [],
            "_model_module": "@jupyter-widgets/controls",
            "_model_module_version": "1.5.0",
            "_model_name": "HTMLModel",
            "_view_count": null,
            "_view_module": "@jupyter-widgets/controls",
            "_view_module_version": "1.5.0",
            "_view_name": "HTMLView",
            "description": "",
            "description_tooltip": null,
            "layout": "IPY_MODEL_040f165fb1eb4ec8984d879333e7856d",
            "placeholder": "​",
            "style": "IPY_MODEL_e8ef812115b24dc1b9bd7e54bcdd3e39",
            "value": " 170499072/? [00:03&lt;00:00, 72952504.76it/s]"
          }
        },
        "cb805b116cc54d56860b35bdd5d6985f": {
          "model_module": "@jupyter-widgets/base",
          "model_name": "LayoutModel",
          "model_module_version": "1.2.0",
          "state": {
            "_model_module": "@jupyter-widgets/base",
            "_model_module_version": "1.2.0",
            "_model_name": "LayoutModel",
            "_view_count": null,
            "_view_module": "@jupyter-widgets/base",
            "_view_module_version": "1.2.0",
            "_view_name": "LayoutView",
            "align_content": null,
            "align_items": null,
            "align_self": null,
            "border": null,
            "bottom": null,
            "display": null,
            "flex": null,
            "flex_flow": null,
            "grid_area": null,
            "grid_auto_columns": null,
            "grid_auto_flow": null,
            "grid_auto_rows": null,
            "grid_column": null,
            "grid_gap": null,
            "grid_row": null,
            "grid_template_areas": null,
            "grid_template_columns": null,
            "grid_template_rows": null,
            "height": null,
            "justify_content": null,
            "justify_items": null,
            "left": null,
            "margin": null,
            "max_height": null,
            "max_width": null,
            "min_height": null,
            "min_width": null,
            "object_fit": null,
            "object_position": null,
            "order": null,
            "overflow": null,
            "overflow_x": null,
            "overflow_y": null,
            "padding": null,
            "right": null,
            "top": null,
            "visibility": null,
            "width": null
          }
        },
        "b262b8c475104699b55e48a8c0ab3e9c": {
          "model_module": "@jupyter-widgets/base",
          "model_name": "LayoutModel",
          "model_module_version": "1.2.0",
          "state": {
            "_model_module": "@jupyter-widgets/base",
            "_model_module_version": "1.2.0",
            "_model_name": "LayoutModel",
            "_view_count": null,
            "_view_module": "@jupyter-widgets/base",
            "_view_module_version": "1.2.0",
            "_view_name": "LayoutView",
            "align_content": null,
            "align_items": null,
            "align_self": null,
            "border": null,
            "bottom": null,
            "display": null,
            "flex": null,
            "flex_flow": null,
            "grid_area": null,
            "grid_auto_columns": null,
            "grid_auto_flow": null,
            "grid_auto_rows": null,
            "grid_column": null,
            "grid_gap": null,
            "grid_row": null,
            "grid_template_areas": null,
            "grid_template_columns": null,
            "grid_template_rows": null,
            "height": null,
            "justify_content": null,
            "justify_items": null,
            "left": null,
            "margin": null,
            "max_height": null,
            "max_width": null,
            "min_height": null,
            "min_width": null,
            "object_fit": null,
            "object_position": null,
            "order": null,
            "overflow": null,
            "overflow_x": null,
            "overflow_y": null,
            "padding": null,
            "right": null,
            "top": null,
            "visibility": null,
            "width": null
          }
        },
        "0e5ce3a7de994a9d92470876a55a3214": {
          "model_module": "@jupyter-widgets/controls",
          "model_name": "DescriptionStyleModel",
          "model_module_version": "1.5.0",
          "state": {
            "_model_module": "@jupyter-widgets/controls",
            "_model_module_version": "1.5.0",
            "_model_name": "DescriptionStyleModel",
            "_view_count": null,
            "_view_module": "@jupyter-widgets/base",
            "_view_module_version": "1.2.0",
            "_view_name": "StyleView",
            "description_width": ""
          }
        },
        "e53d90712af246ea9375f2cfe117f109": {
          "model_module": "@jupyter-widgets/base",
          "model_name": "LayoutModel",
          "model_module_version": "1.2.0",
          "state": {
            "_model_module": "@jupyter-widgets/base",
            "_model_module_version": "1.2.0",
            "_model_name": "LayoutModel",
            "_view_count": null,
            "_view_module": "@jupyter-widgets/base",
            "_view_module_version": "1.2.0",
            "_view_name": "LayoutView",
            "align_content": null,
            "align_items": null,
            "align_self": null,
            "border": null,
            "bottom": null,
            "display": null,
            "flex": null,
            "flex_flow": null,
            "grid_area": null,
            "grid_auto_columns": null,
            "grid_auto_flow": null,
            "grid_auto_rows": null,
            "grid_column": null,
            "grid_gap": null,
            "grid_row": null,
            "grid_template_areas": null,
            "grid_template_columns": null,
            "grid_template_rows": null,
            "height": null,
            "justify_content": null,
            "justify_items": null,
            "left": null,
            "margin": null,
            "max_height": null,
            "max_width": null,
            "min_height": null,
            "min_width": null,
            "object_fit": null,
            "object_position": null,
            "order": null,
            "overflow": null,
            "overflow_x": null,
            "overflow_y": null,
            "padding": null,
            "right": null,
            "top": null,
            "visibility": null,
            "width": null
          }
        },
        "9d00d4cda923498890b6822e2192d3b8": {
          "model_module": "@jupyter-widgets/controls",
          "model_name": "ProgressStyleModel",
          "model_module_version": "1.5.0",
          "state": {
            "_model_module": "@jupyter-widgets/controls",
            "_model_module_version": "1.5.0",
            "_model_name": "ProgressStyleModel",
            "_view_count": null,
            "_view_module": "@jupyter-widgets/base",
            "_view_module_version": "1.2.0",
            "_view_name": "StyleView",
            "bar_color": null,
            "description_width": ""
          }
        },
        "040f165fb1eb4ec8984d879333e7856d": {
          "model_module": "@jupyter-widgets/base",
          "model_name": "LayoutModel",
          "model_module_version": "1.2.0",
          "state": {
            "_model_module": "@jupyter-widgets/base",
            "_model_module_version": "1.2.0",
            "_model_name": "LayoutModel",
            "_view_count": null,
            "_view_module": "@jupyter-widgets/base",
            "_view_module_version": "1.2.0",
            "_view_name": "LayoutView",
            "align_content": null,
            "align_items": null,
            "align_self": null,
            "border": null,
            "bottom": null,
            "display": null,
            "flex": null,
            "flex_flow": null,
            "grid_area": null,
            "grid_auto_columns": null,
            "grid_auto_flow": null,
            "grid_auto_rows": null,
            "grid_column": null,
            "grid_gap": null,
            "grid_row": null,
            "grid_template_areas": null,
            "grid_template_columns": null,
            "grid_template_rows": null,
            "height": null,
            "justify_content": null,
            "justify_items": null,
            "left": null,
            "margin": null,
            "max_height": null,
            "max_width": null,
            "min_height": null,
            "min_width": null,
            "object_fit": null,
            "object_position": null,
            "order": null,
            "overflow": null,
            "overflow_x": null,
            "overflow_y": null,
            "padding": null,
            "right": null,
            "top": null,
            "visibility": null,
            "width": null
          }
        },
        "e8ef812115b24dc1b9bd7e54bcdd3e39": {
          "model_module": "@jupyter-widgets/controls",
          "model_name": "DescriptionStyleModel",
          "model_module_version": "1.5.0",
          "state": {
            "_model_module": "@jupyter-widgets/controls",
            "_model_module_version": "1.5.0",
            "_model_name": "DescriptionStyleModel",
            "_view_count": null,
            "_view_module": "@jupyter-widgets/base",
            "_view_module_version": "1.2.0",
            "_view_name": "StyleView",
            "description_width": ""
          }
        }
      }
    }
  },
  "cells": [
    {
      "cell_type": "markdown",
      "source": [
        "# Chapter 05 이미지 처리 능력이 탁월한 CNN"
      ],
      "metadata": {
        "id": "d1j92lWHOt2B"
      }
    },
    {
      "cell_type": "markdown",
      "source": [
        "## 5.2 CNN 모델 구현하기"
      ],
      "metadata": {
        "id": "lDvGqk03Y7KG"
      }
    },
    {
      "cell_type": "code",
      "execution_count": null,
      "metadata": {
        "id": "e25z1_AaOcx6"
      },
      "outputs": [],
      "source": [
        "# 모듈 불러오기\n",
        "import torch\n",
        "import torch.nn as nn\n",
        "import torch.optim as optim\n",
        "import torch.nn.functional as F\n",
        "from torchvision import transforms, datasets"
      ]
    },
    {
      "cell_type": "code",
      "source": [
        "# gpu 사용가능 여부 확인\n",
        "USE_CUDA = torch.cuda.is_available()\n",
        "DEVICE = torch.device(\"cuda\" if USE_CUDA else \"cpu\")"
      ],
      "metadata": {
        "id": "gZ9U36glZYJq"
      },
      "execution_count": null,
      "outputs": []
    },
    {
      "cell_type": "code",
      "source": [
        "USE_CUDA"
      ],
      "metadata": {
        "colab": {
          "base_uri": "https://localhost:8080/"
        },
        "id": "35oRaei8Zpxi",
        "outputId": "0585e749-f7d1-42ee-8227-cf159420febe"
      },
      "execution_count": null,
      "outputs": [
        {
          "output_type": "execute_result",
          "data": {
            "text/plain": [
              "True"
            ]
          },
          "metadata": {},
          "execution_count": 3
        }
      ]
    },
    {
      "cell_type": "code",
      "source": [
        "# 하이퍼파라미터 설정\n",
        "EPOCHS = 40\n",
        "BATCH_SIZE = 64"
      ],
      "metadata": {
        "id": "ljSi41CVZrAD"
      },
      "execution_count": null,
      "outputs": []
    },
    {
      "cell_type": "code",
      "source": [
        "# 데이터로더 정의\n",
        "train_loader = torch.utils.data.DataLoader(\n",
        "    datasets.FashionMNIST('./.data',\n",
        "                          train=True,\n",
        "                          download=True,\n",
        "                          transform=transforms.Compose([\n",
        "                            transforms.ToTensor(),\n",
        "                            transforms.Normalize((0.1307,), (0.3081,))\n",
        "                          ])),\n",
        "    batch_size=BATCH_SIZE, shuffle=True)\n",
        "\n",
        "test_loader = torch.utils.data.DataLoader(\n",
        "    datasets.FashionMNIST('./.data',\n",
        "                          train=False,\n",
        "                          download=True,\n",
        "                          transform=transforms.Compose([\n",
        "                            transforms.ToTensor(),\n",
        "                            transforms.Normalize((0.1307,), (0.3081,))\n",
        "                          ])),\n",
        "    batch_size=BATCH_SIZE, shuffle=True)"
      ],
      "metadata": {
        "id": "PGz2S2fSZ7as"
      },
      "execution_count": null,
      "outputs": []
    },
    {
      "cell_type": "markdown",
      "source": [
        "현재 만드는 CNN의 커널은 5x5, 컨볼루션 계층은 2개"
      ],
      "metadata": {
        "id": "bpq5ScnibxQ0"
      }
    },
    {
      "cell_type": "markdown",
      "source": [
        "[Conv2d 층 설명](https://gaussian37.github.io/dl-pytorch-conv2d/)"
      ],
      "metadata": {
        "id": "34eL8zSzfkUI"
      }
    },
    {
      "cell_type": "code",
      "source": [
        "# CNN\n",
        "class CNN(nn.Module):\n",
        "    def __init__(self):\n",
        "        super(CNN, self).__init__()\n",
        "        self.conv1 = nn.Conv2d(1, 10, kernel_size=5)\n",
        "        self.conv2 = nn.Conv2d(10, 20, kernel_size=5)\n",
        "\n",
        "        self.drop = nn.Dropout2d()\n",
        "\n",
        "        self.fc1 = nn.Linear(320, 50)\n",
        "        self.fc2 = nn.Linear(50, 10)\n",
        "\n",
        "    def forward(self, x):\n",
        "        x = F.relu(F.max_pool2d(self.conv1(x), 2))\n",
        "        x = F.relu(F.max_pool2d(self.drop(self.conv2(x)), 2))\n",
        "\n",
        "        x = x.view(-1, 320)\n",
        "\n",
        "        x = F.relu(self.fc1(x))\n",
        "        x = F.dropout(x, training=self.training)\n",
        "        x = self.fc2(x)\n",
        "\n",
        "        return x"
      ],
      "metadata": {
        "id": "NEh-HfXTbQON"
      },
      "execution_count": null,
      "outputs": []
    },
    {
      "cell_type": "code",
      "source": [
        "# model과 최적화함수\n",
        "model = CNN().to(DEVICE)\n",
        "optimizer = optim.SGD(model.parameters(), lr=0.01, momentum=0.5)"
      ],
      "metadata": {
        "id": "n12OhqaDgimy"
      },
      "execution_count": null,
      "outputs": []
    },
    {
      "cell_type": "code",
      "source": [
        "# 훈련 함수\n",
        "def train(model, train_loader, optimizer, epoch):\n",
        "    model.train()\n",
        "    for batch_idx, (data, target) in enumerate(train_loader):\n",
        "        data, target = data.to(DEVICE), target.to(DEVICE)\n",
        "        optimizer.zero_grad()\n",
        "        output = model(data)\n",
        "        loss = F.cross_entropy(output, target)\n",
        "        loss.backward()\n",
        "        optimizer.step()\n",
        "\n",
        "        if batch_idx % 200 == 0:\n",
        "            print(f'Train Epoch: {epoch} [{batch_idx*len(data)}/{len(train_loader.dataset)} ({100.*batch_idx/len(train_loader):.0f}%)]\\tLoss:{loss.item():.6f}')"
      ],
      "metadata": {
        "id": "dEIcSxo7g0Qw"
      },
      "execution_count": null,
      "outputs": []
    },
    {
      "cell_type": "code",
      "source": [
        "len(train_loader), len(train_loader.dataset)"
      ],
      "metadata": {
        "colab": {
          "base_uri": "https://localhost:8080/"
        },
        "id": "y3PLbkcHigvo",
        "outputId": "255cb42c-4155-400b-9a2a-ea3bf19acac5"
      },
      "execution_count": null,
      "outputs": [
        {
          "output_type": "execute_result",
          "data": {
            "text/plain": [
              "(938, 60000)"
            ]
          },
          "metadata": {},
          "execution_count": 29
        }
      ]
    },
    {
      "cell_type": "code",
      "source": [
        "# 평가 함수\n",
        "def evaluate(model, test_loader):\n",
        "    model.eval()\n",
        "    test_loss = 0\n",
        "    correct = 0\n",
        "    with torch.no_grad():\n",
        "        for data, target in test_loader:\n",
        "            data, target = data.to(DEVICE), target.to(DEVICE)\n",
        "            output = model(data)\n",
        "\n",
        "            # 배치 오차를 합산\n",
        "            test_loss += F.cross_entropy(output, target, reduction='sum').item()\n",
        "\n",
        "            # 가장 높은 값을 가진 인덱스가 예측값\n",
        "            pred = output.max(1, keepdim=True)[1]\n",
        "            correct += pred.eq(target.view_as(pred)).sum().item()\n",
        "\n",
        "    test_loss /= len(test_loader.dataset)\n",
        "    test_accuracy = 100. * correct / len(test_loader.dataset)\n",
        "    return test_loss, test_accuracy"
      ],
      "metadata": {
        "id": "tVo46yX4inB3"
      },
      "execution_count": null,
      "outputs": []
    },
    {
      "cell_type": "markdown",
      "source": [
        "모델 실행"
      ],
      "metadata": {
        "id": "TPCeH2lRkI4V"
      }
    },
    {
      "cell_type": "code",
      "source": [
        "for epoch in range(1, EPOCHS + 1):\n",
        "    train(model, train_loader, optimizer, epoch)\n",
        "    test_loss, test_accuracy = evaluate(model, test_loader)\n",
        "\n",
        "    print(f'[{epoch}] Test Loss: {test_loss:.4f}, Accuracy: {test_accuracy:.2f}%')"
      ],
      "metadata": {
        "colab": {
          "base_uri": "https://localhost:8080/"
        },
        "id": "mbI6Sy6LkHF3",
        "outputId": "26bf7aeb-f511-4ca2-d68f-30fc57da50d7"
      },
      "execution_count": null,
      "outputs": [
        {
          "output_type": "stream",
          "name": "stdout",
          "text": [
            "Train Epoch: 1 [0/60000 (0%)]\tLoss:2.313305\n",
            "Train Epoch: 1 [12800/60000 (21%)]\tLoss:1.370155\n",
            "Train Epoch: 1 [25600/60000 (43%)]\tLoss:1.088256\n",
            "Train Epoch: 1 [38400/60000 (64%)]\tLoss:0.860652\n",
            "Train Epoch: 1 [51200/60000 (85%)]\tLoss:0.747864\n",
            "[1] Test Loss: 0.6642, Accuracy: 74.47%\n",
            "Train Epoch: 2 [0/60000 (0%)]\tLoss:0.963815\n",
            "Train Epoch: 2 [12800/60000 (21%)]\tLoss:0.785075\n",
            "Train Epoch: 2 [25600/60000 (43%)]\tLoss:0.856021\n",
            "Train Epoch: 2 [38400/60000 (64%)]\tLoss:0.665301\n",
            "Train Epoch: 2 [51200/60000 (85%)]\tLoss:0.767851\n",
            "[2] Test Loss: 0.5618, Accuracy: 78.50%\n",
            "Train Epoch: 3 [0/60000 (0%)]\tLoss:0.534215\n",
            "Train Epoch: 3 [12800/60000 (21%)]\tLoss:0.672763\n",
            "Train Epoch: 3 [25600/60000 (43%)]\tLoss:0.747651\n",
            "Train Epoch: 3 [38400/60000 (64%)]\tLoss:0.554629\n",
            "Train Epoch: 3 [51200/60000 (85%)]\tLoss:0.652202\n",
            "[3] Test Loss: 0.5137, Accuracy: 80.29%\n",
            "Train Epoch: 4 [0/60000 (0%)]\tLoss:0.810447\n",
            "Train Epoch: 4 [12800/60000 (21%)]\tLoss:0.802413\n",
            "Train Epoch: 4 [25600/60000 (43%)]\tLoss:0.581880\n",
            "Train Epoch: 4 [38400/60000 (64%)]\tLoss:0.654855\n",
            "Train Epoch: 4 [51200/60000 (85%)]\tLoss:0.997396\n",
            "[4] Test Loss: 0.4897, Accuracy: 80.86%\n",
            "Train Epoch: 5 [0/60000 (0%)]\tLoss:0.746347\n",
            "Train Epoch: 5 [12800/60000 (21%)]\tLoss:0.680910\n",
            "Train Epoch: 5 [25600/60000 (43%)]\tLoss:0.426782\n",
            "Train Epoch: 5 [38400/60000 (64%)]\tLoss:0.579921\n",
            "Train Epoch: 5 [51200/60000 (85%)]\tLoss:0.426286\n",
            "[5] Test Loss: 0.4614, Accuracy: 82.69%\n",
            "Train Epoch: 6 [0/60000 (0%)]\tLoss:0.409469\n",
            "Train Epoch: 6 [12800/60000 (21%)]\tLoss:0.478758\n",
            "Train Epoch: 6 [25600/60000 (43%)]\tLoss:0.665209\n",
            "Train Epoch: 6 [38400/60000 (64%)]\tLoss:0.524238\n",
            "Train Epoch: 6 [51200/60000 (85%)]\tLoss:0.665806\n",
            "[6] Test Loss: 0.4466, Accuracy: 84.08%\n",
            "Train Epoch: 7 [0/60000 (0%)]\tLoss:0.680723\n",
            "Train Epoch: 7 [12800/60000 (21%)]\tLoss:0.716528\n",
            "Train Epoch: 7 [25600/60000 (43%)]\tLoss:0.659204\n",
            "Train Epoch: 7 [38400/60000 (64%)]\tLoss:0.804162\n",
            "Train Epoch: 7 [51200/60000 (85%)]\tLoss:0.773112\n",
            "[7] Test Loss: 0.4270, Accuracy: 83.99%\n",
            "Train Epoch: 8 [0/60000 (0%)]\tLoss:0.685134\n",
            "Train Epoch: 8 [12800/60000 (21%)]\tLoss:0.443947\n",
            "Train Epoch: 8 [25600/60000 (43%)]\tLoss:0.472290\n",
            "Train Epoch: 8 [38400/60000 (64%)]\tLoss:0.663255\n",
            "Train Epoch: 8 [51200/60000 (85%)]\tLoss:0.524483\n",
            "[8] Test Loss: 0.4084, Accuracy: 85.19%\n",
            "Train Epoch: 9 [0/60000 (0%)]\tLoss:0.584156\n",
            "Train Epoch: 9 [12800/60000 (21%)]\tLoss:0.571497\n",
            "Train Epoch: 9 [25600/60000 (43%)]\tLoss:0.462468\n",
            "Train Epoch: 9 [38400/60000 (64%)]\tLoss:0.717977\n",
            "Train Epoch: 9 [51200/60000 (85%)]\tLoss:0.678667\n",
            "[9] Test Loss: 0.4023, Accuracy: 85.10%\n",
            "Train Epoch: 10 [0/60000 (0%)]\tLoss:0.558735\n",
            "Train Epoch: 10 [12800/60000 (21%)]\tLoss:0.428640\n",
            "Train Epoch: 10 [25600/60000 (43%)]\tLoss:0.292073\n",
            "Train Epoch: 10 [38400/60000 (64%)]\tLoss:0.573655\n",
            "Train Epoch: 10 [51200/60000 (85%)]\tLoss:0.566330\n",
            "[10] Test Loss: 0.3862, Accuracy: 86.26%\n",
            "Train Epoch: 11 [0/60000 (0%)]\tLoss:0.508342\n",
            "Train Epoch: 11 [12800/60000 (21%)]\tLoss:0.502612\n",
            "Train Epoch: 11 [25600/60000 (43%)]\tLoss:0.568255\n",
            "Train Epoch: 11 [38400/60000 (64%)]\tLoss:0.411467\n",
            "Train Epoch: 11 [51200/60000 (85%)]\tLoss:0.467863\n",
            "[11] Test Loss: 0.3838, Accuracy: 86.34%\n",
            "Train Epoch: 12 [0/60000 (0%)]\tLoss:0.571127\n",
            "Train Epoch: 12 [12800/60000 (21%)]\tLoss:0.461830\n",
            "Train Epoch: 12 [25600/60000 (43%)]\tLoss:0.628816\n",
            "Train Epoch: 12 [38400/60000 (64%)]\tLoss:0.493409\n",
            "Train Epoch: 12 [51200/60000 (85%)]\tLoss:0.386550\n",
            "[12] Test Loss: 0.3743, Accuracy: 86.61%\n",
            "Train Epoch: 13 [0/60000 (0%)]\tLoss:0.672202\n",
            "Train Epoch: 13 [12800/60000 (21%)]\tLoss:0.473150\n",
            "Train Epoch: 13 [25600/60000 (43%)]\tLoss:0.607406\n",
            "Train Epoch: 13 [38400/60000 (64%)]\tLoss:0.365610\n",
            "Train Epoch: 13 [51200/60000 (85%)]\tLoss:0.324889\n",
            "[13] Test Loss: 0.3676, Accuracy: 86.37%\n",
            "Train Epoch: 14 [0/60000 (0%)]\tLoss:0.402870\n",
            "Train Epoch: 14 [12800/60000 (21%)]\tLoss:0.385429\n",
            "Train Epoch: 14 [25600/60000 (43%)]\tLoss:0.407716\n",
            "Train Epoch: 14 [38400/60000 (64%)]\tLoss:0.727491\n",
            "Train Epoch: 14 [51200/60000 (85%)]\tLoss:0.549038\n",
            "[14] Test Loss: 0.3611, Accuracy: 86.80%\n",
            "Train Epoch: 15 [0/60000 (0%)]\tLoss:0.391466\n",
            "Train Epoch: 15 [12800/60000 (21%)]\tLoss:0.500273\n",
            "Train Epoch: 15 [25600/60000 (43%)]\tLoss:0.666703\n",
            "Train Epoch: 15 [38400/60000 (64%)]\tLoss:0.489274\n",
            "Train Epoch: 15 [51200/60000 (85%)]\tLoss:0.416485\n",
            "[15] Test Loss: 0.3608, Accuracy: 86.89%\n",
            "Train Epoch: 16 [0/60000 (0%)]\tLoss:0.432472\n",
            "Train Epoch: 16 [12800/60000 (21%)]\tLoss:0.418040\n",
            "Train Epoch: 16 [25600/60000 (43%)]\tLoss:0.526172\n",
            "Train Epoch: 16 [38400/60000 (64%)]\tLoss:0.411368\n",
            "Train Epoch: 16 [51200/60000 (85%)]\tLoss:0.392543\n",
            "[16] Test Loss: 0.3584, Accuracy: 86.64%\n",
            "Train Epoch: 17 [0/60000 (0%)]\tLoss:0.539881\n",
            "Train Epoch: 17 [12800/60000 (21%)]\tLoss:0.387975\n",
            "Train Epoch: 17 [25600/60000 (43%)]\tLoss:0.378857\n",
            "Train Epoch: 17 [38400/60000 (64%)]\tLoss:0.422719\n",
            "Train Epoch: 17 [51200/60000 (85%)]\tLoss:0.398909\n",
            "[17] Test Loss: 0.3516, Accuracy: 87.41%\n",
            "Train Epoch: 18 [0/60000 (0%)]\tLoss:0.346035\n",
            "Train Epoch: 18 [12800/60000 (21%)]\tLoss:0.475326\n",
            "Train Epoch: 18 [25600/60000 (43%)]\tLoss:0.407892\n",
            "Train Epoch: 18 [38400/60000 (64%)]\tLoss:0.445303\n",
            "Train Epoch: 18 [51200/60000 (85%)]\tLoss:0.355518\n",
            "[18] Test Loss: 0.3491, Accuracy: 87.38%\n",
            "Train Epoch: 19 [0/60000 (0%)]\tLoss:0.221823\n",
            "Train Epoch: 19 [12800/60000 (21%)]\tLoss:0.232566\n",
            "Train Epoch: 19 [25600/60000 (43%)]\tLoss:0.344545\n",
            "Train Epoch: 19 [38400/60000 (64%)]\tLoss:0.649540\n",
            "Train Epoch: 19 [51200/60000 (85%)]\tLoss:0.537850\n",
            "[19] Test Loss: 0.3423, Accuracy: 87.29%\n",
            "Train Epoch: 20 [0/60000 (0%)]\tLoss:0.471578\n",
            "Train Epoch: 20 [12800/60000 (21%)]\tLoss:0.426216\n",
            "Train Epoch: 20 [25600/60000 (43%)]\tLoss:0.356765\n",
            "Train Epoch: 20 [38400/60000 (64%)]\tLoss:0.345531\n",
            "Train Epoch: 20 [51200/60000 (85%)]\tLoss:0.404359\n",
            "[20] Test Loss: 0.3437, Accuracy: 87.33%\n",
            "Train Epoch: 21 [0/60000 (0%)]\tLoss:0.612441\n",
            "Train Epoch: 21 [12800/60000 (21%)]\tLoss:0.382328\n",
            "Train Epoch: 21 [25600/60000 (43%)]\tLoss:0.501741\n",
            "Train Epoch: 21 [38400/60000 (64%)]\tLoss:0.445613\n",
            "Train Epoch: 21 [51200/60000 (85%)]\tLoss:0.425838\n",
            "[21] Test Loss: 0.3331, Accuracy: 87.83%\n",
            "Train Epoch: 22 [0/60000 (0%)]\tLoss:0.360529\n",
            "Train Epoch: 22 [12800/60000 (21%)]\tLoss:0.412339\n",
            "Train Epoch: 22 [25600/60000 (43%)]\tLoss:0.427294\n",
            "Train Epoch: 22 [38400/60000 (64%)]\tLoss:0.433319\n",
            "Train Epoch: 22 [51200/60000 (85%)]\tLoss:0.447790\n",
            "[22] Test Loss: 0.3425, Accuracy: 87.61%\n",
            "Train Epoch: 23 [0/60000 (0%)]\tLoss:0.495307\n",
            "Train Epoch: 23 [12800/60000 (21%)]\tLoss:0.799901\n",
            "Train Epoch: 23 [25600/60000 (43%)]\tLoss:0.417544\n",
            "Train Epoch: 23 [38400/60000 (64%)]\tLoss:0.338113\n",
            "Train Epoch: 23 [51200/60000 (85%)]\tLoss:0.389289\n",
            "[23] Test Loss: 0.3318, Accuracy: 87.80%\n",
            "Train Epoch: 24 [0/60000 (0%)]\tLoss:0.420915\n",
            "Train Epoch: 24 [12800/60000 (21%)]\tLoss:0.471859\n",
            "Train Epoch: 24 [25600/60000 (43%)]\tLoss:0.602412\n",
            "Train Epoch: 24 [38400/60000 (64%)]\tLoss:0.224383\n",
            "Train Epoch: 24 [51200/60000 (85%)]\tLoss:0.441248\n",
            "[24] Test Loss: 0.3289, Accuracy: 87.95%\n",
            "Train Epoch: 25 [0/60000 (0%)]\tLoss:0.387635\n",
            "Train Epoch: 25 [12800/60000 (21%)]\tLoss:0.339160\n",
            "Train Epoch: 25 [25600/60000 (43%)]\tLoss:0.479557\n",
            "Train Epoch: 25 [38400/60000 (64%)]\tLoss:0.302179\n",
            "Train Epoch: 25 [51200/60000 (85%)]\tLoss:0.478639\n",
            "[25] Test Loss: 0.3266, Accuracy: 87.68%\n",
            "Train Epoch: 26 [0/60000 (0%)]\tLoss:0.351376\n",
            "Train Epoch: 26 [12800/60000 (21%)]\tLoss:0.421729\n",
            "Train Epoch: 26 [25600/60000 (43%)]\tLoss:0.241736\n",
            "Train Epoch: 26 [38400/60000 (64%)]\tLoss:0.357269\n",
            "Train Epoch: 26 [51200/60000 (85%)]\tLoss:0.345307\n",
            "[26] Test Loss: 0.3257, Accuracy: 88.15%\n",
            "Train Epoch: 27 [0/60000 (0%)]\tLoss:0.480941\n",
            "Train Epoch: 27 [12800/60000 (21%)]\tLoss:0.599114\n",
            "Train Epoch: 27 [25600/60000 (43%)]\tLoss:0.500706\n",
            "Train Epoch: 27 [38400/60000 (64%)]\tLoss:0.235766\n",
            "Train Epoch: 27 [51200/60000 (85%)]\tLoss:0.351494\n",
            "[27] Test Loss: 0.3229, Accuracy: 88.22%\n",
            "Train Epoch: 28 [0/60000 (0%)]\tLoss:0.500102\n",
            "Train Epoch: 28 [12800/60000 (21%)]\tLoss:0.306456\n",
            "Train Epoch: 28 [25600/60000 (43%)]\tLoss:0.393705\n",
            "Train Epoch: 28 [38400/60000 (64%)]\tLoss:0.420534\n",
            "Train Epoch: 28 [51200/60000 (85%)]\tLoss:0.529075\n",
            "[28] Test Loss: 0.3273, Accuracy: 87.98%\n",
            "Train Epoch: 29 [0/60000 (0%)]\tLoss:0.326322\n",
            "Train Epoch: 29 [12800/60000 (21%)]\tLoss:0.527912\n",
            "Train Epoch: 29 [25600/60000 (43%)]\tLoss:0.386959\n",
            "Train Epoch: 29 [38400/60000 (64%)]\tLoss:0.266845\n",
            "Train Epoch: 29 [51200/60000 (85%)]\tLoss:0.382127\n",
            "[29] Test Loss: 0.3240, Accuracy: 87.93%\n",
            "Train Epoch: 30 [0/60000 (0%)]\tLoss:0.392899\n",
            "Train Epoch: 30 [12800/60000 (21%)]\tLoss:0.308918\n",
            "Train Epoch: 30 [25600/60000 (43%)]\tLoss:0.384720\n",
            "Train Epoch: 30 [38400/60000 (64%)]\tLoss:0.379495\n",
            "Train Epoch: 30 [51200/60000 (85%)]\tLoss:0.398513\n",
            "[30] Test Loss: 0.3226, Accuracy: 88.25%\n",
            "Train Epoch: 31 [0/60000 (0%)]\tLoss:0.386805\n",
            "Train Epoch: 31 [12800/60000 (21%)]\tLoss:0.383207\n",
            "Train Epoch: 31 [25600/60000 (43%)]\tLoss:0.158996\n",
            "Train Epoch: 31 [38400/60000 (64%)]\tLoss:0.452961\n",
            "Train Epoch: 31 [51200/60000 (85%)]\tLoss:0.266610\n",
            "[31] Test Loss: 0.3229, Accuracy: 88.19%\n",
            "Train Epoch: 32 [0/60000 (0%)]\tLoss:0.603075\n",
            "Train Epoch: 32 [12800/60000 (21%)]\tLoss:0.381391\n",
            "Train Epoch: 32 [25600/60000 (43%)]\tLoss:0.433782\n",
            "Train Epoch: 32 [38400/60000 (64%)]\tLoss:0.281937\n",
            "Train Epoch: 32 [51200/60000 (85%)]\tLoss:0.501194\n",
            "[32] Test Loss: 0.3195, Accuracy: 88.58%\n",
            "Train Epoch: 33 [0/60000 (0%)]\tLoss:0.662160\n",
            "Train Epoch: 33 [12800/60000 (21%)]\tLoss:0.287606\n",
            "Train Epoch: 33 [25600/60000 (43%)]\tLoss:0.377758\n",
            "Train Epoch: 33 [38400/60000 (64%)]\tLoss:0.335616\n",
            "Train Epoch: 33 [51200/60000 (85%)]\tLoss:0.463525\n",
            "[33] Test Loss: 0.3207, Accuracy: 87.97%\n",
            "Train Epoch: 34 [0/60000 (0%)]\tLoss:0.331831\n",
            "Train Epoch: 34 [12800/60000 (21%)]\tLoss:0.372922\n",
            "Train Epoch: 34 [25600/60000 (43%)]\tLoss:0.451728\n",
            "Train Epoch: 34 [38400/60000 (64%)]\tLoss:0.432929\n",
            "Train Epoch: 34 [51200/60000 (85%)]\tLoss:0.481185\n",
            "[34] Test Loss: 0.3165, Accuracy: 88.22%\n",
            "Train Epoch: 35 [0/60000 (0%)]\tLoss:0.260480\n",
            "Train Epoch: 35 [12800/60000 (21%)]\tLoss:0.472086\n",
            "Train Epoch: 35 [25600/60000 (43%)]\tLoss:0.360578\n",
            "Train Epoch: 35 [38400/60000 (64%)]\tLoss:0.349725\n",
            "Train Epoch: 35 [51200/60000 (85%)]\tLoss:0.466950\n",
            "[35] Test Loss: 0.3133, Accuracy: 88.62%\n",
            "Train Epoch: 36 [0/60000 (0%)]\tLoss:0.331916\n",
            "Train Epoch: 36 [12800/60000 (21%)]\tLoss:0.387687\n",
            "Train Epoch: 36 [25600/60000 (43%)]\tLoss:0.372104\n",
            "Train Epoch: 36 [38400/60000 (64%)]\tLoss:0.607736\n",
            "Train Epoch: 36 [51200/60000 (85%)]\tLoss:0.646744\n",
            "[36] Test Loss: 0.3196, Accuracy: 88.16%\n",
            "Train Epoch: 37 [0/60000 (0%)]\tLoss:0.366074\n",
            "Train Epoch: 37 [12800/60000 (21%)]\tLoss:0.413123\n",
            "Train Epoch: 37 [25600/60000 (43%)]\tLoss:0.377307\n",
            "Train Epoch: 37 [38400/60000 (64%)]\tLoss:0.376893\n",
            "Train Epoch: 37 [51200/60000 (85%)]\tLoss:0.406618\n",
            "[37] Test Loss: 0.3115, Accuracy: 88.34%\n",
            "Train Epoch: 38 [0/60000 (0%)]\tLoss:0.360395\n",
            "Train Epoch: 38 [12800/60000 (21%)]\tLoss:0.482687\n",
            "Train Epoch: 38 [25600/60000 (43%)]\tLoss:0.316727\n",
            "Train Epoch: 38 [38400/60000 (64%)]\tLoss:0.230015\n",
            "Train Epoch: 38 [51200/60000 (85%)]\tLoss:0.430066\n",
            "[38] Test Loss: 0.3109, Accuracy: 88.67%\n",
            "Train Epoch: 39 [0/60000 (0%)]\tLoss:0.397759\n",
            "Train Epoch: 39 [12800/60000 (21%)]\tLoss:0.428860\n",
            "Train Epoch: 39 [25600/60000 (43%)]\tLoss:0.492814\n",
            "Train Epoch: 39 [38400/60000 (64%)]\tLoss:0.471131\n",
            "Train Epoch: 39 [51200/60000 (85%)]\tLoss:0.488394\n",
            "[39] Test Loss: 0.3145, Accuracy: 88.35%\n",
            "Train Epoch: 40 [0/60000 (0%)]\tLoss:0.367265\n",
            "Train Epoch: 40 [12800/60000 (21%)]\tLoss:0.479365\n",
            "Train Epoch: 40 [25600/60000 (43%)]\tLoss:0.307060\n",
            "Train Epoch: 40 [38400/60000 (64%)]\tLoss:0.308590\n",
            "Train Epoch: 40 [51200/60000 (85%)]\tLoss:0.572782\n",
            "[40] Test Loss: 0.3154, Accuracy: 88.58%\n"
          ]
        }
      ]
    },
    {
      "cell_type": "markdown",
      "source": [
        "### 전체코드 및 연습"
      ],
      "metadata": {
        "id": "AvCuHczbt9nF"
      }
    },
    {
      "cell_type": "code",
      "source": [
        "import torch\n",
        "import torch.nn as nn\n",
        "import torch.optim as optim\n",
        "import torch.nn.functional as F\n",
        "from torchvision import datasets, transforms"
      ],
      "metadata": {
        "id": "j3VvNS5LkuUW"
      },
      "execution_count": null,
      "outputs": []
    },
    {
      "cell_type": "code",
      "source": [
        "USE_CUDA = torch.cuda.is_available()\n",
        "DEVICE = torch.device(\"cuda\" if USE_CUDA else \"cpu\")"
      ],
      "metadata": {
        "id": "Aa4HyIdruNd9"
      },
      "execution_count": null,
      "outputs": []
    },
    {
      "cell_type": "code",
      "source": [
        "EPOCHS = 50  # Horizon 추가해서  10에폭 늘림\n",
        "BATCH_SIZE = 64"
      ],
      "metadata": {
        "id": "pb5zNJl3ufJW"
      },
      "execution_count": null,
      "outputs": []
    },
    {
      "cell_type": "code",
      "source": [
        "train_loader = torch.utils.data.DataLoader(\n",
        "    datasets.FashionMNIST('./.data',\n",
        "        train=True,\n",
        "        download=True,\n",
        "        transform=transforms.Compose([\n",
        "            transforms.RandomHorizontalFlip(),        # 추가함. 데이터가 늘어남에 따라 에폭 수 늘려야될것으로 보임\n",
        "            transforms.ToTensor(),\n",
        "            transforms.Normalize((0.1307,), (0.3081,))\n",
        "        ])),\n",
        "    batch_size=BATCH_SIZE, shuffle=True\n",
        ")\n",
        "\n",
        "test_loader = torch.utils.data.DataLoader(\n",
        "    datasets.FashionMNIST('./.data',\n",
        "        train=False,\n",
        "        download=True,\n",
        "        transform=transforms.Compose([\n",
        "            transforms.ToTensor(),\n",
        "            transforms.Normalize((0.1307,), (0.3081,))\n",
        "        ])),\n",
        "    batch_size=BATCH_SIZE, shuffle=True\n",
        ")"
      ],
      "metadata": {
        "id": "prdT73jDujoO"
      },
      "execution_count": null,
      "outputs": []
    },
    {
      "cell_type": "code",
      "source": [
        "class CNN(nn.Module):\n",
        "    def __init__(self):\n",
        "        super(CNN, self).__init__()\n",
        "        self.conv1 = nn.Conv2d(1, 10, kernel_size=5)\n",
        "        self.conv2 = nn.Conv2d(10, 20, kernel_size=5)\n",
        "        self.conv2_drop = nn.Dropout2d()\n",
        "        self.fc1 = nn.Linear(320, 50)\n",
        "        self.fc2 = nn.Linear(50, 10)\n",
        "\n",
        "    def forward(self, x):\n",
        "        x = F.relu(F.max_pool2d(self.conv1(x), 2))\n",
        "        x = F.relu(F.max_pool2d(self.conv2_drop(self.conv2(x)), 2))\n",
        "        x = x.view(-1, 320)\n",
        "        x = F.relu(self.fc1(x))\n",
        "        x = F.dropout(x, training=self.training)\n",
        "        x = self.fc2(x)\n",
        "\n",
        "        return x"
      ],
      "metadata": {
        "id": "ZXA64qHnwDPj"
      },
      "execution_count": null,
      "outputs": []
    },
    {
      "cell_type": "code",
      "source": [
        "model = CNN().to(DEVICE)\n",
        "optimizer = optim.SGD(model.parameters(), lr=0.01, momentum=0.5)"
      ],
      "metadata": {
        "id": "Dmu0Cg8-xSfo"
      },
      "execution_count": null,
      "outputs": []
    },
    {
      "cell_type": "code",
      "source": [
        "def train(model, train_loader, optimizer, epoch):\n",
        "    print(f\"Train Epoch : {epoch}\")\n",
        "    model.train()\n",
        "    for batch_idx, (data, target) in enumerate(train_loader):\n",
        "        data, target = data.to(DEVICE), target.to(DEVICE)\n",
        "        optimizer.zero_grad()\n",
        "        output = model(data)\n",
        "        loss = F.cross_entropy(output, target)\n",
        "        loss.backward()\n",
        "        optimizer.step()\n",
        "\n",
        "        # if batch_idx % 200 == 0:\n",
        "        #     print(f\"[{batch_idx*len(data)}/{len(train_loader.dataset)} ({100.*batch_idx/len(train_loader):.0f}%)]\\tLoss: {loss.item:.6f}\")"
      ],
      "metadata": {
        "id": "LHw9Grmjxxg9"
      },
      "execution_count": null,
      "outputs": []
    },
    {
      "cell_type": "code",
      "source": [
        "def evaluate(mode, test_loader):\n",
        "    model.eval()\n",
        "    test_loss = 0\n",
        "    correct = 0\n",
        "    with torch.no_grad():\n",
        "        for data, target in test_loader:\n",
        "            data, target = data.to(DEVICE), target.to(DEVICE)\n",
        "            output = model(data)\n",
        "\n",
        "            test_loss += F.cross_entropy(output, target, reduction='sum').item()\n",
        "\n",
        "            pred = output.max(1, keepdim=True)[1]\n",
        "            correct += pred.eq(target.view_as(pred)).sum().item()\n",
        "\n",
        "    test_loss /= len(test_loader.dataset)\n",
        "    test_accuracy = 100.*correct / len(test_loader.dataset)\n",
        "    return test_loss, test_accuracy"
      ],
      "metadata": {
        "id": "karJPcDT0nvS"
      },
      "execution_count": null,
      "outputs": []
    },
    {
      "cell_type": "code",
      "source": [
        "from tqdm import tqdm\n",
        "\n",
        "for epoch in tqdm(range(1, EPOCHS + 1)):\n",
        "    train(model, train_loader, optimizer, epoch)\n",
        "    test_loss, test_accuracy = evaluate(model, test_loader)\n",
        "\n",
        "    print(f\"[{epoch}] Test Loss: {test_loss:.4f}, Accuracy: {test_accuracy:.2f}%\")"
      ],
      "metadata": {
        "colab": {
          "base_uri": "https://localhost:8080/"
        },
        "id": "ZhX57wrD1kyx",
        "outputId": "e2f9b1f4-0a7b-487e-c342-36e877be2e45"
      },
      "execution_count": null,
      "outputs": [
        {
          "output_type": "stream",
          "name": "stderr",
          "text": [
            "\r  0%|          | 0/50 [00:00<?, ?it/s]"
          ]
        },
        {
          "output_type": "stream",
          "name": "stdout",
          "text": [
            "Train Epoch : 1\n"
          ]
        },
        {
          "output_type": "stream",
          "name": "stderr",
          "text": [
            "\r  2%|▏         | 1/50 [00:22<18:07, 22.20s/it]"
          ]
        },
        {
          "output_type": "stream",
          "name": "stdout",
          "text": [
            "[1] Test Loss: 0.6868, Accuracy: 74.17%\n",
            "Train Epoch : 2\n"
          ]
        },
        {
          "output_type": "stream",
          "name": "stderr",
          "text": [
            "\r  4%|▍         | 2/50 [00:43<17:34, 21.96s/it]"
          ]
        },
        {
          "output_type": "stream",
          "name": "stdout",
          "text": [
            "[2] Test Loss: 0.6025, Accuracy: 76.61%\n",
            "Train Epoch : 3\n"
          ]
        },
        {
          "output_type": "stream",
          "name": "stderr",
          "text": [
            "\r  6%|▌         | 3/50 [01:05<17:11, 21.95s/it]"
          ]
        },
        {
          "output_type": "stream",
          "name": "stdout",
          "text": [
            "[3] Test Loss: 0.5558, Accuracy: 77.98%\n",
            "Train Epoch : 4\n"
          ]
        },
        {
          "output_type": "stream",
          "name": "stderr",
          "text": [
            "\r  8%|▊         | 4/50 [01:28<16:52, 22.00s/it]"
          ]
        },
        {
          "output_type": "stream",
          "name": "stdout",
          "text": [
            "[4] Test Loss: 0.5232, Accuracy: 79.32%\n",
            "Train Epoch : 5\n"
          ]
        },
        {
          "output_type": "stream",
          "name": "stderr",
          "text": [
            "\r 10%|█         | 5/50 [01:50<16:35, 22.13s/it]"
          ]
        },
        {
          "output_type": "stream",
          "name": "stdout",
          "text": [
            "[5] Test Loss: 0.5049, Accuracy: 81.15%\n",
            "Train Epoch : 6\n"
          ]
        },
        {
          "output_type": "stream",
          "name": "stderr",
          "text": [
            "\r 12%|█▏        | 6/50 [02:12<16:11, 22.08s/it]"
          ]
        },
        {
          "output_type": "stream",
          "name": "stdout",
          "text": [
            "[6] Test Loss: 0.4850, Accuracy: 82.09%\n",
            "Train Epoch : 7\n"
          ]
        },
        {
          "output_type": "stream",
          "name": "stderr",
          "text": [
            "\r 14%|█▍        | 7/50 [02:34<15:48, 22.05s/it]"
          ]
        },
        {
          "output_type": "stream",
          "name": "stdout",
          "text": [
            "[7] Test Loss: 0.4637, Accuracy: 83.03%\n",
            "Train Epoch : 8\n"
          ]
        },
        {
          "output_type": "stream",
          "name": "stderr",
          "text": [
            "\r 16%|█▌        | 8/50 [02:56<15:27, 22.09s/it]"
          ]
        },
        {
          "output_type": "stream",
          "name": "stdout",
          "text": [
            "[8] Test Loss: 0.4514, Accuracy: 83.34%\n",
            "Train Epoch : 9\n"
          ]
        },
        {
          "output_type": "stream",
          "name": "stderr",
          "text": [
            "\r 18%|█▊        | 9/50 [03:18<15:03, 22.05s/it]"
          ]
        },
        {
          "output_type": "stream",
          "name": "stdout",
          "text": [
            "[9] Test Loss: 0.4449, Accuracy: 82.90%\n",
            "Train Epoch : 10\n"
          ]
        },
        {
          "output_type": "stream",
          "name": "stderr",
          "text": [
            "\r 20%|██        | 10/50 [03:40<14:44, 22.11s/it]"
          ]
        },
        {
          "output_type": "stream",
          "name": "stdout",
          "text": [
            "[10] Test Loss: 0.4418, Accuracy: 83.31%\n",
            "Train Epoch : 11\n"
          ]
        },
        {
          "output_type": "stream",
          "name": "stderr",
          "text": [
            "\r 22%|██▏       | 11/50 [04:02<14:22, 22.13s/it]"
          ]
        },
        {
          "output_type": "stream",
          "name": "stdout",
          "text": [
            "[11] Test Loss: 0.4197, Accuracy: 84.22%\n",
            "Train Epoch : 12\n"
          ]
        },
        {
          "output_type": "stream",
          "name": "stderr",
          "text": [
            "\r 24%|██▍       | 12/50 [04:25<14:02, 22.16s/it]"
          ]
        },
        {
          "output_type": "stream",
          "name": "stdout",
          "text": [
            "[12] Test Loss: 0.4242, Accuracy: 84.51%\n",
            "Train Epoch : 13\n"
          ]
        },
        {
          "output_type": "stream",
          "name": "stderr",
          "text": [
            "\r 26%|██▌       | 13/50 [04:47<13:38, 22.13s/it]"
          ]
        },
        {
          "output_type": "stream",
          "name": "stdout",
          "text": [
            "[13] Test Loss: 0.4137, Accuracy: 84.26%\n",
            "Train Epoch : 14\n"
          ]
        },
        {
          "output_type": "stream",
          "name": "stderr",
          "text": [
            "\r 28%|██▊       | 14/50 [05:09<13:17, 22.15s/it]"
          ]
        },
        {
          "output_type": "stream",
          "name": "stdout",
          "text": [
            "[14] Test Loss: 0.4138, Accuracy: 84.91%\n",
            "Train Epoch : 15\n"
          ]
        },
        {
          "output_type": "stream",
          "name": "stderr",
          "text": [
            "\r 30%|███       | 15/50 [05:31<12:51, 22.05s/it]"
          ]
        },
        {
          "output_type": "stream",
          "name": "stdout",
          "text": [
            "[15] Test Loss: 0.3960, Accuracy: 85.50%\n",
            "Train Epoch : 16\n"
          ]
        },
        {
          "output_type": "stream",
          "name": "stderr",
          "text": [
            "\r 32%|███▏      | 16/50 [05:53<12:28, 22.02s/it]"
          ]
        },
        {
          "output_type": "stream",
          "name": "stdout",
          "text": [
            "[16] Test Loss: 0.3977, Accuracy: 85.18%\n",
            "Train Epoch : 17\n"
          ]
        },
        {
          "output_type": "stream",
          "name": "stderr",
          "text": [
            "\r 34%|███▍      | 17/50 [06:15<12:07, 22.05s/it]"
          ]
        },
        {
          "output_type": "stream",
          "name": "stdout",
          "text": [
            "[17] Test Loss: 0.3960, Accuracy: 85.34%\n",
            "Train Epoch : 18\n"
          ]
        },
        {
          "output_type": "stream",
          "name": "stderr",
          "text": [
            "\r 36%|███▌      | 18/50 [06:37<11:48, 22.13s/it]"
          ]
        },
        {
          "output_type": "stream",
          "name": "stdout",
          "text": [
            "[18] Test Loss: 0.3944, Accuracy: 85.57%\n",
            "Train Epoch : 19\n"
          ]
        },
        {
          "output_type": "stream",
          "name": "stderr",
          "text": [
            "\r 38%|███▊      | 19/50 [06:59<11:24, 22.08s/it]"
          ]
        },
        {
          "output_type": "stream",
          "name": "stdout",
          "text": [
            "[19] Test Loss: 0.3863, Accuracy: 85.54%\n",
            "Train Epoch : 20\n"
          ]
        },
        {
          "output_type": "stream",
          "name": "stderr",
          "text": [
            "\r 40%|████      | 20/50 [07:21<11:03, 22.13s/it]"
          ]
        },
        {
          "output_type": "stream",
          "name": "stdout",
          "text": [
            "[20] Test Loss: 0.3858, Accuracy: 85.98%\n",
            "Train Epoch : 21\n"
          ]
        },
        {
          "output_type": "stream",
          "name": "stderr",
          "text": [
            "\r 42%|████▏     | 21/50 [07:43<10:41, 22.11s/it]"
          ]
        },
        {
          "output_type": "stream",
          "name": "stdout",
          "text": [
            "[21] Test Loss: 0.3796, Accuracy: 85.86%\n",
            "Train Epoch : 22\n"
          ]
        },
        {
          "output_type": "stream",
          "name": "stderr",
          "text": [
            "\r 44%|████▍     | 22/50 [08:05<10:18, 22.10s/it]"
          ]
        },
        {
          "output_type": "stream",
          "name": "stdout",
          "text": [
            "[22] Test Loss: 0.3833, Accuracy: 85.55%\n",
            "Train Epoch : 23\n"
          ]
        },
        {
          "output_type": "stream",
          "name": "stderr",
          "text": [
            "\r 46%|████▌     | 23/50 [08:27<09:55, 22.04s/it]"
          ]
        },
        {
          "output_type": "stream",
          "name": "stdout",
          "text": [
            "[23] Test Loss: 0.3698, Accuracy: 86.42%\n",
            "Train Epoch : 24\n"
          ]
        },
        {
          "output_type": "stream",
          "name": "stderr",
          "text": [
            "\r 48%|████▊     | 24/50 [08:49<09:33, 22.07s/it]"
          ]
        },
        {
          "output_type": "stream",
          "name": "stdout",
          "text": [
            "[24] Test Loss: 0.3709, Accuracy: 85.90%\n",
            "Train Epoch : 25\n"
          ]
        },
        {
          "output_type": "stream",
          "name": "stderr",
          "text": [
            "\r 50%|█████     | 25/50 [09:12<09:12, 22.10s/it]"
          ]
        },
        {
          "output_type": "stream",
          "name": "stdout",
          "text": [
            "[25] Test Loss: 0.3695, Accuracy: 86.20%\n",
            "Train Epoch : 26\n"
          ]
        },
        {
          "output_type": "stream",
          "name": "stderr",
          "text": [
            "\r 52%|█████▏    | 26/50 [09:34<08:49, 22.08s/it]"
          ]
        },
        {
          "output_type": "stream",
          "name": "stdout",
          "text": [
            "[26] Test Loss: 0.3655, Accuracy: 86.26%\n",
            "Train Epoch : 27\n"
          ]
        },
        {
          "output_type": "stream",
          "name": "stderr",
          "text": [
            "\r 54%|█████▍    | 27/50 [09:56<08:28, 22.09s/it]"
          ]
        },
        {
          "output_type": "stream",
          "name": "stdout",
          "text": [
            "[27] Test Loss: 0.3671, Accuracy: 86.69%\n",
            "Train Epoch : 28\n"
          ]
        },
        {
          "output_type": "stream",
          "name": "stderr",
          "text": [
            "\r 56%|█████▌    | 28/50 [10:18<08:05, 22.07s/it]"
          ]
        },
        {
          "output_type": "stream",
          "name": "stdout",
          "text": [
            "[28] Test Loss: 0.3602, Accuracy: 86.51%\n",
            "Train Epoch : 29\n"
          ]
        },
        {
          "output_type": "stream",
          "name": "stderr",
          "text": [
            "\r 58%|█████▊    | 29/50 [10:40<07:43, 22.08s/it]"
          ]
        },
        {
          "output_type": "stream",
          "name": "stdout",
          "text": [
            "[29] Test Loss: 0.3550, Accuracy: 87.12%\n",
            "Train Epoch : 30\n"
          ]
        },
        {
          "output_type": "stream",
          "name": "stderr",
          "text": [
            "\r 60%|██████    | 30/50 [11:02<07:21, 22.06s/it]"
          ]
        },
        {
          "output_type": "stream",
          "name": "stdout",
          "text": [
            "[30] Test Loss: 0.3595, Accuracy: 86.52%\n",
            "Train Epoch : 31\n"
          ]
        },
        {
          "output_type": "stream",
          "name": "stderr",
          "text": [
            "\r 62%|██████▏   | 31/50 [11:24<06:58, 22.05s/it]"
          ]
        },
        {
          "output_type": "stream",
          "name": "stdout",
          "text": [
            "[31] Test Loss: 0.3608, Accuracy: 86.24%\n",
            "Train Epoch : 32\n"
          ]
        },
        {
          "output_type": "stream",
          "name": "stderr",
          "text": [
            "\r 64%|██████▍   | 32/50 [11:46<06:35, 21.98s/it]"
          ]
        },
        {
          "output_type": "stream",
          "name": "stdout",
          "text": [
            "[32] Test Loss: 0.3532, Accuracy: 87.04%\n",
            "Train Epoch : 33\n"
          ]
        },
        {
          "output_type": "stream",
          "name": "stderr",
          "text": [
            "\r 66%|██████▌   | 33/50 [12:08<06:13, 21.99s/it]"
          ]
        },
        {
          "output_type": "stream",
          "name": "stdout",
          "text": [
            "[33] Test Loss: 0.3532, Accuracy: 86.71%\n",
            "Train Epoch : 34\n"
          ]
        },
        {
          "output_type": "stream",
          "name": "stderr",
          "text": [
            "\r 68%|██████▊   | 34/50 [12:30<05:51, 21.99s/it]"
          ]
        },
        {
          "output_type": "stream",
          "name": "stdout",
          "text": [
            "[34] Test Loss: 0.3475, Accuracy: 87.33%\n",
            "Train Epoch : 35\n"
          ]
        },
        {
          "output_type": "stream",
          "name": "stderr",
          "text": [
            "\r 70%|███████   | 35/50 [12:52<05:30, 22.03s/it]"
          ]
        },
        {
          "output_type": "stream",
          "name": "stdout",
          "text": [
            "[35] Test Loss: 0.3509, Accuracy: 86.70%\n",
            "Train Epoch : 36\n"
          ]
        },
        {
          "output_type": "stream",
          "name": "stderr",
          "text": [
            "\r 72%|███████▏  | 36/50 [13:14<05:08, 22.02s/it]"
          ]
        },
        {
          "output_type": "stream",
          "name": "stdout",
          "text": [
            "[36] Test Loss: 0.3420, Accuracy: 87.30%\n",
            "Train Epoch : 37\n"
          ]
        },
        {
          "output_type": "stream",
          "name": "stderr",
          "text": [
            "\r 74%|███████▍  | 37/50 [13:36<04:46, 22.03s/it]"
          ]
        },
        {
          "output_type": "stream",
          "name": "stdout",
          "text": [
            "[37] Test Loss: 0.3421, Accuracy: 87.44%\n",
            "Train Epoch : 38\n"
          ]
        },
        {
          "output_type": "stream",
          "name": "stderr",
          "text": [
            "\r 76%|███████▌  | 38/50 [13:58<04:24, 22.04s/it]"
          ]
        },
        {
          "output_type": "stream",
          "name": "stdout",
          "text": [
            "[38] Test Loss: 0.3385, Accuracy: 87.44%\n",
            "Train Epoch : 39\n"
          ]
        },
        {
          "output_type": "stream",
          "name": "stderr",
          "text": [
            "\r 78%|███████▊  | 39/50 [14:20<04:02, 22.07s/it]"
          ]
        },
        {
          "output_type": "stream",
          "name": "stdout",
          "text": [
            "[39] Test Loss: 0.3432, Accuracy: 87.07%\n",
            "Train Epoch : 40\n"
          ]
        },
        {
          "output_type": "stream",
          "name": "stderr",
          "text": [
            "\r 80%|████████  | 40/50 [14:42<03:40, 22.04s/it]"
          ]
        },
        {
          "output_type": "stream",
          "name": "stdout",
          "text": [
            "[40] Test Loss: 0.3432, Accuracy: 87.27%\n",
            "Train Epoch : 41\n"
          ]
        },
        {
          "output_type": "stream",
          "name": "stderr",
          "text": [
            "\r 82%|████████▏ | 41/50 [15:04<03:18, 22.04s/it]"
          ]
        },
        {
          "output_type": "stream",
          "name": "stdout",
          "text": [
            "[41] Test Loss: 0.3471, Accuracy: 87.19%\n",
            "Train Epoch : 42\n"
          ]
        },
        {
          "output_type": "stream",
          "name": "stderr",
          "text": [
            "\r 84%|████████▍ | 42/50 [15:26<02:56, 22.04s/it]"
          ]
        },
        {
          "output_type": "stream",
          "name": "stdout",
          "text": [
            "[42] Test Loss: 0.3380, Accuracy: 87.34%\n",
            "Train Epoch : 43\n"
          ]
        },
        {
          "output_type": "stream",
          "name": "stderr",
          "text": [
            "\r 86%|████████▌ | 43/50 [15:48<02:34, 22.05s/it]"
          ]
        },
        {
          "output_type": "stream",
          "name": "stdout",
          "text": [
            "[43] Test Loss: 0.3378, Accuracy: 87.21%\n",
            "Train Epoch : 44\n"
          ]
        },
        {
          "output_type": "stream",
          "name": "stderr",
          "text": [
            "\r 88%|████████▊ | 44/50 [16:10<02:12, 22.05s/it]"
          ]
        },
        {
          "output_type": "stream",
          "name": "stdout",
          "text": [
            "[44] Test Loss: 0.3464, Accuracy: 87.09%\n",
            "Train Epoch : 45\n"
          ]
        },
        {
          "output_type": "stream",
          "name": "stderr",
          "text": [
            "\r 90%|█████████ | 45/50 [16:32<01:50, 22.04s/it]"
          ]
        },
        {
          "output_type": "stream",
          "name": "stdout",
          "text": [
            "[45] Test Loss: 0.3419, Accuracy: 87.30%\n",
            "Train Epoch : 46\n"
          ]
        },
        {
          "output_type": "stream",
          "name": "stderr",
          "text": [
            "\r 92%|█████████▏| 46/50 [16:54<01:28, 22.05s/it]"
          ]
        },
        {
          "output_type": "stream",
          "name": "stdout",
          "text": [
            "[46] Test Loss: 0.3399, Accuracy: 87.10%\n",
            "Train Epoch : 47\n"
          ]
        },
        {
          "output_type": "stream",
          "name": "stderr",
          "text": [
            "\r 94%|█████████▍| 47/50 [17:16<01:06, 22.02s/it]"
          ]
        },
        {
          "output_type": "stream",
          "name": "stdout",
          "text": [
            "[47] Test Loss: 0.3387, Accuracy: 87.26%\n",
            "Train Epoch : 48\n"
          ]
        },
        {
          "output_type": "stream",
          "name": "stderr",
          "text": [
            "\r 96%|█████████▌| 48/50 [17:39<00:44, 22.06s/it]"
          ]
        },
        {
          "output_type": "stream",
          "name": "stdout",
          "text": [
            "[48] Test Loss: 0.3310, Accuracy: 87.61%\n",
            "Train Epoch : 49\n"
          ]
        },
        {
          "output_type": "stream",
          "name": "stderr",
          "text": [
            "\r 98%|█████████▊| 49/50 [18:01<00:22, 22.07s/it]"
          ]
        },
        {
          "output_type": "stream",
          "name": "stdout",
          "text": [
            "[49] Test Loss: 0.3311, Accuracy: 87.59%\n",
            "Train Epoch : 50\n"
          ]
        },
        {
          "output_type": "stream",
          "name": "stderr",
          "text": [
            "100%|██████████| 50/50 [18:23<00:00, 22.06s/it]"
          ]
        },
        {
          "output_type": "stream",
          "name": "stdout",
          "text": [
            "[50] Test Loss: 0.3305, Accuracy: 87.59%\n"
          ]
        },
        {
          "output_type": "stream",
          "name": "stderr",
          "text": [
            "\n"
          ]
        }
      ]
    },
    {
      "cell_type": "markdown",
      "source": [
        "성능이 더 안좋아짐"
      ],
      "metadata": {
        "id": "p_FW0G067t9-"
      }
    },
    {
      "cell_type": "markdown",
      "source": [
        "## 5.3 ResNet으로 컬러 데이터셋에 적용하기"
      ],
      "metadata": {
        "id": "9NEWk3dKt1TB"
      }
    },
    {
      "cell_type": "code",
      "source": [
        "import sys, os\n",
        "import numpy as np\n",
        "import pandas as pd\n",
        "import matplotlib.pyplot as plt\n",
        "import torch\n",
        "import torch.nn as nn\n",
        "import torch.nn.functional as F\n",
        "import torch.optim as optim\n",
        "from torchvision import datasets, transforms"
      ],
      "metadata": {
        "id": "HtNbUYhR1SKS"
      },
      "execution_count": 1,
      "outputs": []
    },
    {
      "cell_type": "code",
      "source": [
        "# 컬러 데이터셋은 복잡하므로 에폭 수가 더 필요함\n",
        "EPOCHS = 300\n",
        "BATCH_SIZE = 128"
      ],
      "metadata": {
        "id": "L-NFqS8H1ozf"
      },
      "execution_count": 2,
      "outputs": []
    },
    {
      "cell_type": "markdown",
      "source": [
        "### 5.3.2 CIFAR-10 데이터셋\n",
        "32x32 크기의 이미지 6만개 포함<br/>\n",
        "label은 10가지 동물"
      ],
      "metadata": {
        "id": "OY16yWlr17th"
      }
    },
    {
      "cell_type": "code",
      "source": [
        "USE_CUDA = torch.cuda.is_available()\n",
        "DEVICE = torch.device('cuda' if USE_CUDA else 'cpu')"
      ],
      "metadata": {
        "id": "DpaoCxxyBnrD"
      },
      "execution_count": 3,
      "outputs": []
    },
    {
      "cell_type": "code",
      "source": [
        "train_loader = torch.utils.data.DataLoader(\n",
        "    datasets.CIFAR10('./.data',\n",
        "                     train=True,\n",
        "                     download=True,\n",
        "                     transform=transforms.Compose([\n",
        "                        transforms.RandomCrop(32, padding=4),\n",
        "                        transforms.RandomHorizontalFlip(),\n",
        "                        transforms.ToTensor(),\n",
        "                        transforms.Normalize((0.5, 0.5, 0.5),\n",
        "                                             (0.5, 0.5, 0.5))])),\n",
        "    batch_size=BATCH_SIZE, shuffle=True)\n",
        "\n",
        "test_loader = torch.utils.data.DataLoader(\n",
        "    datasets.CIFAR10('./.data',\n",
        "                     train=False,\n",
        "                     download=True,\n",
        "                     transform=transforms.Compose([\n",
        "                        transforms.ToTensor(),\n",
        "                        transforms.Normalize((0.5, 0.5, 0.5),\n",
        "                                             (0.5, 0.5, 0.5))])),\n",
        "    batch_size=BATCH_SIZE, shuffle=True)"
      ],
      "metadata": {
        "colab": {
          "base_uri": "https://localhost:8080/",
          "height": 105,
          "referenced_widgets": [
            "bf9b3fbd2a19401592139aaa71537ae2",
            "4a523798074a411cb329561b0b1e388b",
            "2a0873a4d9624b06bfdc87e23562e6dd",
            "98ad42d7e9ba4d33977df6d15580250f",
            "cb805b116cc54d56860b35bdd5d6985f",
            "b262b8c475104699b55e48a8c0ab3e9c",
            "0e5ce3a7de994a9d92470876a55a3214",
            "e53d90712af246ea9375f2cfe117f109",
            "9d00d4cda923498890b6822e2192d3b8",
            "040f165fb1eb4ec8984d879333e7856d",
            "e8ef812115b24dc1b9bd7e54bcdd3e39"
          ]
        },
        "id": "EceGV2Vx1PJ3",
        "outputId": "a3e76641-52d6-4ec8-9d70-58f32e87ce0f"
      },
      "execution_count": 4,
      "outputs": [
        {
          "output_type": "stream",
          "name": "stdout",
          "text": [
            "Downloading https://www.cs.toronto.edu/~kriz/cifar-10-python.tar.gz to ./.data/cifar-10-python.tar.gz\n"
          ]
        },
        {
          "output_type": "display_data",
          "data": {
            "text/plain": [
              "  0%|          | 0/170498071 [00:00<?, ?it/s]"
            ],
            "application/vnd.jupyter.widget-view+json": {
              "version_major": 2,
              "version_minor": 0,
              "model_id": "bf9b3fbd2a19401592139aaa71537ae2"
            }
          },
          "metadata": {}
        },
        {
          "output_type": "stream",
          "name": "stdout",
          "text": [
            "Extracting ./.data/cifar-10-python.tar.gz to ./.data\n",
            "Files already downloaded and verified\n"
          ]
        }
      ]
    },
    {
      "cell_type": "markdown",
      "source": [
        "## 5.3.3 CNN을 깊게 쌓는 방법"
      ],
      "metadata": {
        "id": "YPn9lKZr39Ct"
      }
    },
    {
      "cell_type": "markdown",
      "source": [
        "* 중간중간에 입력을 더해 데이터 소실을 막아 깊게 쌓을 수 있음.\n",
        "* 계층이 깊어짐에 따라 신호의 강도가 감소하는데, 입력 데이터를 몇 계층씩 건너뛰어 출력에 더함으로써 이 현상을 완화\n",
        "* 배치정규화를 통해 드롭아웃과 같은 효과를 냄"
      ],
      "metadata": {
        "id": "qY6PHxZs4fNt"
      }
    },
    {
      "cell_type": "code",
      "source": [
        "# Basic Block 정의\n",
        "class BasicBlock(nn.Module):\n",
        "    def __init__(self, in_planes, planes, stride=1):\n",
        "        super(BasicBlock, self).__init__()\n",
        "        self.conv1 = nn.Conv2d(in_planes, planes, kernel_size=3,\n",
        "                               stride=stride, padding=1, bias=False)\n",
        "        self.bn1 = nn.BatchNorm2d(planes)\n",
        "        self.conv2 = nn.Conv2d(planes, planes, kernel_size=3,\n",
        "                               stride=1, padding=1, bias=False)\n",
        "        self.bn2 = nn.BatchNorm2d(planes)\n",
        "\n",
        "        # 두 번째 블록부터 입력값을 더해주는 모듈\n",
        "        self.shortcut = nn.Sequential()\n",
        "        if stride != 1 or in_planes != planes:\n",
        "            self.shortcut = nn.Sequential(\n",
        "                nn.Conv2d(in_planes, planes,\n",
        "                          kernel_size=1, stride=stride, bias=False),\n",
        "                nn.BatchNorm2d(planes)\n",
        "            )\n",
        "\n",
        "    def forward(self, x):\n",
        "        out = F.relu(self.bn1(self.conv1(x)))\n",
        "        out = self.bn2(self.conv2(out))\n",
        "        out += self.shortcut(x)\n",
        "        out = F.relu(out)\n",
        "        return out"
      ],
      "metadata": {
        "id": "TnhOSt8R32MR"
      },
      "execution_count": 5,
      "outputs": []
    },
    {
      "cell_type": "markdown",
      "source": [
        "main 모델 정의"
      ],
      "metadata": {
        "id": "XztuQQbX9ie8"
      }
    },
    {
      "cell_type": "code",
      "source": [
        "class ResNet(nn.Module):\n",
        "    def __init__(self, num_classes=10):\n",
        "        super(ResNet, self).__init__()\n",
        "        self.in_planes = 16\n",
        "\n",
        "        self.conv1 = nn.Conv2d(3, 16, kernel_size=3,\n",
        "                               stride=1, padding=1, bias=False)\n",
        "        self.bn1 = nn.BatchNorm2d(16)\n",
        "        self.layer1 = self._make_layer(16, 2, stride=1)\n",
        "        self.layer2 = self._make_layer(32, 2, stride=2)\n",
        "        self.layer3 = self._make_layer(64, 2, stride=2)\n",
        "        self.linear = nn.Linear(64, num_classes)\n",
        "\n",
        "    def _make_layer(self, planes, num_blocks, stride):\n",
        "        strides = [stride] + [1]*(num_blocks-1)\n",
        "        layers = []\n",
        "        for stride in strides:\n",
        "            layers.append(BasicBlock(self.in_planes, planes, stride))\n",
        "            self.in_planes = planes\n",
        "        return nn.Sequential(*layers)\n",
        "\n",
        "    def forward(self, x):\n",
        "        out = F.relu(self.bn1(self.conv1(x)))\n",
        "        out = self.layer1(out)\n",
        "        out = self.layer2(out)\n",
        "        out = self.layer3(out)\n",
        "        out = F.avg_pool2d(out, 8)\n",
        "        out = out.view(out.size(0), -1)\n",
        "        out = self.linear(out)\n",
        "        return out"
      ],
      "metadata": {
        "id": "jh-y7fux8Fom"
      },
      "execution_count": 6,
      "outputs": []
    },
    {
      "cell_type": "markdown",
      "source": [
        "### 모델의 흐름\n",
        "입력이 들어오면 일반적인 방식과 같이 컨볼루션, 배치 정규화, 활성화 함수를 차례로 통과하고, <br/>\n",
        "BasicBlock 층을 갖고 있는 layer1, layer2, layer3를 통과함.<br/>\n",
        "이렇게 나온 값에 평균 풀링을 하고 마지막 계층을 거쳐 분류 결과를 출력"
      ],
      "metadata": {
        "id": "ovGHxRtdAKFv"
      }
    },
    {
      "cell_type": "markdown",
      "source": [
        "학습 효율을 높이기 위해 학습률 감소기법 사용"
      ],
      "metadata": {
        "id": "TengQxfbBFuY"
      }
    },
    {
      "cell_type": "code",
      "source": [
        "model = ResNet().to(DEVICE)\n",
        "optimizer = optim.SGD(model.parameters(), lr=0.1,\n",
        "                      momentum=0.9, weight_decay=0.0005)\n",
        "scheduler = optim.lr_scheduler.StepLR(optimizer, step_size=50,\n",
        "                                      gamma=0.1)"
      ],
      "metadata": {
        "id": "4o2qfeJi_hwN"
      },
      "execution_count": 7,
      "outputs": []
    },
    {
      "cell_type": "code",
      "source": [
        "# 모델의 전체 계층\n",
        "print(model)"
      ],
      "metadata": {
        "colab": {
          "base_uri": "https://localhost:8080/"
        },
        "id": "iW9uD-ScBlU3",
        "outputId": "c16a3ed3-5365-4274-cf7e-264d3df5db22"
      },
      "execution_count": 8,
      "outputs": [
        {
          "output_type": "stream",
          "name": "stdout",
          "text": [
            "ResNet(\n",
            "  (conv1): Conv2d(3, 16, kernel_size=(3, 3), stride=(1, 1), padding=(1, 1), bias=False)\n",
            "  (bn1): BatchNorm2d(16, eps=1e-05, momentum=0.1, affine=True, track_running_stats=True)\n",
            "  (layer1): Sequential(\n",
            "    (0): BasicBlock(\n",
            "      (conv1): Conv2d(16, 16, kernel_size=(3, 3), stride=(1, 1), padding=(1, 1), bias=False)\n",
            "      (bn1): BatchNorm2d(16, eps=1e-05, momentum=0.1, affine=True, track_running_stats=True)\n",
            "      (conv2): Conv2d(16, 16, kernel_size=(3, 3), stride=(1, 1), padding=(1, 1), bias=False)\n",
            "      (bn2): BatchNorm2d(16, eps=1e-05, momentum=0.1, affine=True, track_running_stats=True)\n",
            "      (shortcut): Sequential()\n",
            "    )\n",
            "    (1): BasicBlock(\n",
            "      (conv1): Conv2d(16, 16, kernel_size=(3, 3), stride=(1, 1), padding=(1, 1), bias=False)\n",
            "      (bn1): BatchNorm2d(16, eps=1e-05, momentum=0.1, affine=True, track_running_stats=True)\n",
            "      (conv2): Conv2d(16, 16, kernel_size=(3, 3), stride=(1, 1), padding=(1, 1), bias=False)\n",
            "      (bn2): BatchNorm2d(16, eps=1e-05, momentum=0.1, affine=True, track_running_stats=True)\n",
            "      (shortcut): Sequential()\n",
            "    )\n",
            "  )\n",
            "  (layer2): Sequential(\n",
            "    (0): BasicBlock(\n",
            "      (conv1): Conv2d(16, 32, kernel_size=(3, 3), stride=(2, 2), padding=(1, 1), bias=False)\n",
            "      (bn1): BatchNorm2d(32, eps=1e-05, momentum=0.1, affine=True, track_running_stats=True)\n",
            "      (conv2): Conv2d(32, 32, kernel_size=(3, 3), stride=(1, 1), padding=(1, 1), bias=False)\n",
            "      (bn2): BatchNorm2d(32, eps=1e-05, momentum=0.1, affine=True, track_running_stats=True)\n",
            "      (shortcut): Sequential(\n",
            "        (0): Conv2d(16, 32, kernel_size=(1, 1), stride=(2, 2), bias=False)\n",
            "        (1): BatchNorm2d(32, eps=1e-05, momentum=0.1, affine=True, track_running_stats=True)\n",
            "      )\n",
            "    )\n",
            "    (1): BasicBlock(\n",
            "      (conv1): Conv2d(32, 32, kernel_size=(3, 3), stride=(1, 1), padding=(1, 1), bias=False)\n",
            "      (bn1): BatchNorm2d(32, eps=1e-05, momentum=0.1, affine=True, track_running_stats=True)\n",
            "      (conv2): Conv2d(32, 32, kernel_size=(3, 3), stride=(1, 1), padding=(1, 1), bias=False)\n",
            "      (bn2): BatchNorm2d(32, eps=1e-05, momentum=0.1, affine=True, track_running_stats=True)\n",
            "      (shortcut): Sequential()\n",
            "    )\n",
            "  )\n",
            "  (layer3): Sequential(\n",
            "    (0): BasicBlock(\n",
            "      (conv1): Conv2d(32, 64, kernel_size=(3, 3), stride=(2, 2), padding=(1, 1), bias=False)\n",
            "      (bn1): BatchNorm2d(64, eps=1e-05, momentum=0.1, affine=True, track_running_stats=True)\n",
            "      (conv2): Conv2d(64, 64, kernel_size=(3, 3), stride=(1, 1), padding=(1, 1), bias=False)\n",
            "      (bn2): BatchNorm2d(64, eps=1e-05, momentum=0.1, affine=True, track_running_stats=True)\n",
            "      (shortcut): Sequential(\n",
            "        (0): Conv2d(32, 64, kernel_size=(1, 1), stride=(2, 2), bias=False)\n",
            "        (1): BatchNorm2d(64, eps=1e-05, momentum=0.1, affine=True, track_running_stats=True)\n",
            "      )\n",
            "    )\n",
            "    (1): BasicBlock(\n",
            "      (conv1): Conv2d(64, 64, kernel_size=(3, 3), stride=(1, 1), padding=(1, 1), bias=False)\n",
            "      (bn1): BatchNorm2d(64, eps=1e-05, momentum=0.1, affine=True, track_running_stats=True)\n",
            "      (conv2): Conv2d(64, 64, kernel_size=(3, 3), stride=(1, 1), padding=(1, 1), bias=False)\n",
            "      (bn2): BatchNorm2d(64, eps=1e-05, momentum=0.1, affine=True, track_running_stats=True)\n",
            "      (shortcut): Sequential()\n",
            "    )\n",
            "  )\n",
            "  (linear): Linear(in_features=64, out_features=10, bias=True)\n",
            ")\n"
          ]
        }
      ]
    },
    {
      "cell_type": "code",
      "source": [
        "# 학습 및 테스트 코드\n",
        "\n",
        "def train(model, train_loader, optimizer, epoch):\n",
        "    model.train()\n",
        "    for batch_idx, (data, target) in enumerate(train_loader):\n",
        "        data, target = data.to(DEVICE), target.to(DEVICE)\n",
        "        optimizer.zero_grad()\n",
        "        output = model(data)\n",
        "        loss = F.cross_entropy(output, target)\n",
        "        loss.backward()\n",
        "        optimizer.step()\n",
        "\n",
        "def evaluate(model, test_loader):\n",
        "    model.eval()\n",
        "    test_loss = 0\n",
        "    correct = 0\n",
        "    with torch.no_grad():\n",
        "        for data, target in test_loader:\n",
        "            data, target = data.to(DEVICE), target.to(DEVICE)\n",
        "            output = model(data)\n",
        "\n",
        "            # 배치 오차를 합산\n",
        "            test_loss += F.cross_entropy(output, target,\n",
        "                                         reduction='sum').item()\n",
        "            \n",
        "            # 가장 높은 값을 가진 인덱스가 예측값\n",
        "            pred = output.max(1, keepdim=True)[1]\n",
        "            correct += pred.eq(target.view_as(pred)).sum().item()\n",
        "\n",
        "    test_loss /= len(test_loader.dataset)\n",
        "    test_accuracy = 100. * correct / len(test_loader.dataset)\n",
        "    return test_loss, test_accuracy"
      ],
      "metadata": {
        "id": "tDFgGTQKCGcO"
      },
      "execution_count": 9,
      "outputs": []
    },
    {
      "cell_type": "code",
      "source": [
        "for epoch in range(1, EPOCHS + 1):\n",
        "    scheduler.step()\n",
        "    train(model, train_loader, optimizer, epoch)\n",
        "    test_loss, test_accuracy = evaluate(model, test_loader)\n",
        "\n",
        "    print(f\"[{epoch}] Test Loss: {test_loss:.4f}, Accuracy: {test_accuracy:.2f}%\")"
      ],
      "metadata": {
        "colab": {
          "base_uri": "https://localhost:8080/",
          "height": 1000
        },
        "id": "x3kbqPBhDsY2",
        "outputId": "bb5b75fe-1e9c-4abd-90bf-f66c6677256c"
      },
      "execution_count": 10,
      "outputs": [
        {
          "output_type": "stream",
          "name": "stderr",
          "text": [
            "/usr/local/lib/python3.7/dist-packages/torch/optim/lr_scheduler.py:134: UserWarning: Detected call of `lr_scheduler.step()` before `optimizer.step()`. In PyTorch 1.1.0 and later, you should call them in the opposite order: `optimizer.step()` before `lr_scheduler.step()`.  Failure to do this will result in PyTorch skipping the first value of the learning rate schedule. See more details at https://pytorch.org/docs/stable/optim.html#how-to-adjust-learning-rate\n",
            "  \"https://pytorch.org/docs/stable/optim.html#how-to-adjust-learning-rate\", UserWarning)\n"
          ]
        },
        {
          "output_type": "stream",
          "name": "stdout",
          "text": [
            "[1] Test Loss: 1.5474, Accuracy: 46.91%\n",
            "[2] Test Loss: 1.2882, Accuracy: 56.73%\n",
            "[3] Test Loss: 1.2935, Accuracy: 57.96%\n",
            "[4] Test Loss: 0.9893, Accuracy: 67.19%\n",
            "[5] Test Loss: 1.0351, Accuracy: 66.32%\n",
            "[6] Test Loss: 0.8056, Accuracy: 73.14%\n",
            "[7] Test Loss: 0.7427, Accuracy: 74.95%\n",
            "[8] Test Loss: 0.9487, Accuracy: 68.34%\n",
            "[9] Test Loss: 0.8356, Accuracy: 72.49%\n",
            "[10] Test Loss: 0.7906, Accuracy: 73.32%\n",
            "[11] Test Loss: 0.7640, Accuracy: 75.10%\n",
            "[12] Test Loss: 0.9492, Accuracy: 69.88%\n",
            "[13] Test Loss: 0.8032, Accuracy: 74.38%\n",
            "[14] Test Loss: 0.6962, Accuracy: 76.36%\n",
            "[15] Test Loss: 0.8175, Accuracy: 73.15%\n",
            "[16] Test Loss: 0.5723, Accuracy: 80.47%\n",
            "[17] Test Loss: 0.6353, Accuracy: 78.57%\n",
            "[18] Test Loss: 0.8825, Accuracy: 70.60%\n",
            "[19] Test Loss: 0.8103, Accuracy: 74.42%\n",
            "[20] Test Loss: 0.6250, Accuracy: 79.04%\n",
            "[21] Test Loss: 0.7970, Accuracy: 74.39%\n",
            "[22] Test Loss: 0.6367, Accuracy: 78.77%\n",
            "[23] Test Loss: 0.7103, Accuracy: 77.11%\n",
            "[24] Test Loss: 0.9351, Accuracy: 71.55%\n",
            "[25] Test Loss: 0.7574, Accuracy: 75.35%\n",
            "[26] Test Loss: 1.0330, Accuracy: 69.92%\n",
            "[27] Test Loss: 0.7451, Accuracy: 75.16%\n",
            "[28] Test Loss: 0.7091, Accuracy: 77.02%\n",
            "[29] Test Loss: 0.6805, Accuracy: 77.87%\n",
            "[30] Test Loss: 0.6049, Accuracy: 79.84%\n",
            "[31] Test Loss: 0.7304, Accuracy: 76.10%\n",
            "[32] Test Loss: 0.9477, Accuracy: 69.61%\n",
            "[33] Test Loss: 0.6343, Accuracy: 77.95%\n",
            "[34] Test Loss: 0.7063, Accuracy: 76.29%\n",
            "[35] Test Loss: 1.1705, Accuracy: 67.72%\n",
            "[36] Test Loss: 0.6572, Accuracy: 78.43%\n",
            "[37] Test Loss: 0.5334, Accuracy: 81.94%\n",
            "[38] Test Loss: 0.7000, Accuracy: 76.16%\n",
            "[39] Test Loss: 0.6500, Accuracy: 78.56%\n",
            "[40] Test Loss: 0.6617, Accuracy: 78.72%\n",
            "[41] Test Loss: 0.6613, Accuracy: 78.01%\n",
            "[42] Test Loss: 0.5640, Accuracy: 80.66%\n",
            "[43] Test Loss: 1.0626, Accuracy: 68.29%\n",
            "[44] Test Loss: 0.8672, Accuracy: 72.08%\n",
            "[45] Test Loss: 0.8374, Accuracy: 73.96%\n",
            "[46] Test Loss: 0.7616, Accuracy: 75.88%\n",
            "[47] Test Loss: 0.7821, Accuracy: 75.35%\n",
            "[48] Test Loss: 1.0993, Accuracy: 69.52%\n",
            "[49] Test Loss: 0.6258, Accuracy: 79.10%\n",
            "[50] Test Loss: 0.3437, Accuracy: 88.53%\n",
            "[51] Test Loss: 0.3318, Accuracy: 88.91%\n",
            "[52] Test Loss: 0.3212, Accuracy: 89.19%\n",
            "[53] Test Loss: 0.3167, Accuracy: 89.20%\n",
            "[54] Test Loss: 0.3192, Accuracy: 89.06%\n",
            "[55] Test Loss: 0.3284, Accuracy: 88.81%\n",
            "[56] Test Loss: 0.3192, Accuracy: 89.12%\n",
            "[57] Test Loss: 0.3134, Accuracy: 89.35%\n",
            "[58] Test Loss: 0.3302, Accuracy: 88.95%\n",
            "[59] Test Loss: 0.3133, Accuracy: 89.44%\n",
            "[60] Test Loss: 0.3259, Accuracy: 89.09%\n",
            "[61] Test Loss: 0.3274, Accuracy: 89.32%\n",
            "[62] Test Loss: 0.3222, Accuracy: 89.22%\n",
            "[63] Test Loss: 0.3198, Accuracy: 89.15%\n",
            "[64] Test Loss: 0.3249, Accuracy: 89.05%\n",
            "[65] Test Loss: 0.3139, Accuracy: 89.64%\n",
            "[66] Test Loss: 0.3201, Accuracy: 89.17%\n",
            "[67] Test Loss: 0.3356, Accuracy: 88.76%\n",
            "[68] Test Loss: 0.3282, Accuracy: 89.28%\n",
            "[69] Test Loss: 0.3541, Accuracy: 88.43%\n",
            "[70] Test Loss: 0.3327, Accuracy: 89.05%\n",
            "[71] Test Loss: 0.3516, Accuracy: 88.37%\n",
            "[72] Test Loss: 0.3577, Accuracy: 88.32%\n",
            "[73] Test Loss: 0.3352, Accuracy: 88.79%\n",
            "[74] Test Loss: 0.3898, Accuracy: 87.84%\n",
            "[75] Test Loss: 0.3810, Accuracy: 87.77%\n",
            "[76] Test Loss: 0.3965, Accuracy: 87.25%\n",
            "[77] Test Loss: 0.3740, Accuracy: 87.93%\n",
            "[78] Test Loss: 0.3629, Accuracy: 87.86%\n",
            "[79] Test Loss: 0.3433, Accuracy: 88.82%\n",
            "[80] Test Loss: 0.3759, Accuracy: 87.87%\n",
            "[81] Test Loss: 0.3533, Accuracy: 88.49%\n",
            "[82] Test Loss: 0.3963, Accuracy: 87.05%\n",
            "[83] Test Loss: 0.3425, Accuracy: 88.99%\n",
            "[84] Test Loss: 0.3781, Accuracy: 88.10%\n",
            "[85] Test Loss: 0.3642, Accuracy: 88.22%\n",
            "[86] Test Loss: 0.3987, Accuracy: 87.57%\n",
            "[87] Test Loss: 0.3732, Accuracy: 88.21%\n",
            "[88] Test Loss: 0.3997, Accuracy: 87.15%\n",
            "[89] Test Loss: 0.3664, Accuracy: 88.05%\n",
            "[90] Test Loss: 0.3419, Accuracy: 88.68%\n",
            "[91] Test Loss: 0.3915, Accuracy: 87.45%\n",
            "[92] Test Loss: 0.3894, Accuracy: 87.67%\n",
            "[93] Test Loss: 0.3718, Accuracy: 87.92%\n",
            "[94] Test Loss: 0.3649, Accuracy: 88.03%\n",
            "[95] Test Loss: 0.3467, Accuracy: 88.31%\n",
            "[96] Test Loss: 0.3523, Accuracy: 88.61%\n",
            "[97] Test Loss: 0.3564, Accuracy: 88.38%\n",
            "[98] Test Loss: 0.3911, Accuracy: 87.56%\n",
            "[99] Test Loss: 0.3690, Accuracy: 87.59%\n",
            "[100] Test Loss: 0.2813, Accuracy: 90.65%\n"
          ]
        },
        {
          "output_type": "error",
          "ename": "KeyboardInterrupt",
          "evalue": "ignored",
          "traceback": [
            "\u001b[0;31m---------------------------------------------------------------------------\u001b[0m",
            "\u001b[0;31mKeyboardInterrupt\u001b[0m                         Traceback (most recent call last)",
            "\u001b[0;32m<ipython-input-10-19472c1a1e78>\u001b[0m in \u001b[0;36m<module>\u001b[0;34m()\u001b[0m\n\u001b[1;32m      1\u001b[0m \u001b[0;32mfor\u001b[0m \u001b[0mepoch\u001b[0m \u001b[0;32min\u001b[0m \u001b[0mrange\u001b[0m\u001b[0;34m(\u001b[0m\u001b[0;36m1\u001b[0m\u001b[0;34m,\u001b[0m \u001b[0mEPOCHS\u001b[0m \u001b[0;34m+\u001b[0m \u001b[0;36m1\u001b[0m\u001b[0;34m)\u001b[0m\u001b[0;34m:\u001b[0m\u001b[0;34m\u001b[0m\u001b[0;34m\u001b[0m\u001b[0m\n\u001b[1;32m      2\u001b[0m     \u001b[0mscheduler\u001b[0m\u001b[0;34m.\u001b[0m\u001b[0mstep\u001b[0m\u001b[0;34m(\u001b[0m\u001b[0;34m)\u001b[0m\u001b[0;34m\u001b[0m\u001b[0;34m\u001b[0m\u001b[0m\n\u001b[0;32m----> 3\u001b[0;31m     \u001b[0mtrain\u001b[0m\u001b[0;34m(\u001b[0m\u001b[0mmodel\u001b[0m\u001b[0;34m,\u001b[0m \u001b[0mtrain_loader\u001b[0m\u001b[0;34m,\u001b[0m \u001b[0moptimizer\u001b[0m\u001b[0;34m,\u001b[0m \u001b[0mepoch\u001b[0m\u001b[0;34m)\u001b[0m\u001b[0;34m\u001b[0m\u001b[0;34m\u001b[0m\u001b[0m\n\u001b[0m\u001b[1;32m      4\u001b[0m     \u001b[0mtest_loss\u001b[0m\u001b[0;34m,\u001b[0m \u001b[0mtest_accuracy\u001b[0m \u001b[0;34m=\u001b[0m \u001b[0mevaluate\u001b[0m\u001b[0;34m(\u001b[0m\u001b[0mmodel\u001b[0m\u001b[0;34m,\u001b[0m \u001b[0mtest_loader\u001b[0m\u001b[0;34m)\u001b[0m\u001b[0;34m\u001b[0m\u001b[0;34m\u001b[0m\u001b[0m\n\u001b[1;32m      5\u001b[0m \u001b[0;34m\u001b[0m\u001b[0m\n",
            "\u001b[0;32m<ipython-input-9-8379edd1c95a>\u001b[0m in \u001b[0;36mtrain\u001b[0;34m(model, train_loader, optimizer, epoch)\u001b[0m\n\u001b[1;32m      4\u001b[0m     \u001b[0mmodel\u001b[0m\u001b[0;34m.\u001b[0m\u001b[0mtrain\u001b[0m\u001b[0;34m(\u001b[0m\u001b[0;34m)\u001b[0m\u001b[0;34m\u001b[0m\u001b[0;34m\u001b[0m\u001b[0m\n\u001b[1;32m      5\u001b[0m     \u001b[0;32mfor\u001b[0m \u001b[0mbatch_idx\u001b[0m\u001b[0;34m,\u001b[0m \u001b[0;34m(\u001b[0m\u001b[0mdata\u001b[0m\u001b[0;34m,\u001b[0m \u001b[0mtarget\u001b[0m\u001b[0;34m)\u001b[0m \u001b[0;32min\u001b[0m \u001b[0menumerate\u001b[0m\u001b[0;34m(\u001b[0m\u001b[0mtrain_loader\u001b[0m\u001b[0;34m)\u001b[0m\u001b[0;34m:\u001b[0m\u001b[0;34m\u001b[0m\u001b[0;34m\u001b[0m\u001b[0m\n\u001b[0;32m----> 6\u001b[0;31m         \u001b[0mdata\u001b[0m\u001b[0;34m,\u001b[0m \u001b[0mtarget\u001b[0m \u001b[0;34m=\u001b[0m \u001b[0mdata\u001b[0m\u001b[0;34m.\u001b[0m\u001b[0mto\u001b[0m\u001b[0;34m(\u001b[0m\u001b[0mDEVICE\u001b[0m\u001b[0;34m)\u001b[0m\u001b[0;34m,\u001b[0m \u001b[0mtarget\u001b[0m\u001b[0;34m.\u001b[0m\u001b[0mto\u001b[0m\u001b[0;34m(\u001b[0m\u001b[0mDEVICE\u001b[0m\u001b[0;34m)\u001b[0m\u001b[0;34m\u001b[0m\u001b[0;34m\u001b[0m\u001b[0m\n\u001b[0m\u001b[1;32m      7\u001b[0m         \u001b[0moptimizer\u001b[0m\u001b[0;34m.\u001b[0m\u001b[0mzero_grad\u001b[0m\u001b[0;34m(\u001b[0m\u001b[0;34m)\u001b[0m\u001b[0;34m\u001b[0m\u001b[0;34m\u001b[0m\u001b[0m\n\u001b[1;32m      8\u001b[0m         \u001b[0moutput\u001b[0m \u001b[0;34m=\u001b[0m \u001b[0mmodel\u001b[0m\u001b[0;34m(\u001b[0m\u001b[0mdata\u001b[0m\u001b[0;34m)\u001b[0m\u001b[0;34m\u001b[0m\u001b[0;34m\u001b[0m\u001b[0m\n",
            "\u001b[0;31mKeyboardInterrupt\u001b[0m: "
          ]
        }
      ]
    }
  ]
}