{
  "nbformat": 4,
  "nbformat_minor": 0,
  "metadata": {
    "colab": {
      "name": "re_chap_02.ipynb",
      "provenance": [],
      "collapsed_sections": []
    },
    "kernelspec": {
      "name": "python3",
      "display_name": "Python 3"
    },
    "language_info": {
      "name": "python"
    }
  },
  "cells": [
    {
      "cell_type": "markdown",
      "metadata": {
        "id": "U4cKq7XkJuWM"
      },
      "source": [
        "# 설정\n",
        "     .join() 함수를 쓰는 이유\n",
        "     - 파일 경로상의 디렉터리를 구분할때 Windows는 역슬레시(\\), Unix, Linux는 슬래시(/)로 구분함.\n",
        "     이처럼 운영체제의 환경에 따라 구분자가 달라지기 때문에 .join() 함수를 사용해 자동으로 환경에 맞춰 구분자를 생성함.\n",
        "\n",
        "\n",
        "[os관련 정보](https://dololak.tistory.com/693)\n",
        "[plot관련 정보](https://kongdols-room.tistory.com/98)"
      ]
    },
    {
      "cell_type": "code",
      "metadata": {
        "id": "zHxPNj2KGG7k"
      },
      "source": [
        "import numpy as np\n",
        "import os\n",
        "\n",
        "# 출력값 조정위한 유사난수 초기화\n",
        "np.random.seed(42)\n",
        "\n",
        "import matplotlib\n",
        "import matplotlib.pyplot as plt\n",
        "\n",
        "# 기본값 설정\n",
        "plt.rcParams['axes.labelsize'] = 14\n",
        "plt.rcParams['xtick.labelsize'] = 12\n",
        "plt.rcParams['ytick.labelsize'] = 12\n",
        "\n",
        "# 한글출력\n",
        "matplotlib.rc('font', family='NanumBarunGothic')\n",
        "plt.rcParams['axes.unicode_minus'] = False  # 그래프에서 마이너스 기호 표시되도록\n",
        "\n",
        "# 그림 저장할 폴드\n",
        "PROJECT_ROOT_DIR = \".\"  # no.1\n",
        "CHAPTER_ID = \"re_chap_02\"\n",
        "IMAGES_PATH = os.path.join(PROJECT_ROOT_DIR, \"images\", CHAPTER_ID)  # no.2\n",
        "os.makedirs(IMAGES_PATH, exist_ok=True)  # no.5\n",
        "\n",
        "def save_fig(fig_id, tight_layout=True, fig_extension=\"png\", resolution=300):\n",
        "    path = os.path.join(IMAGES_PATH, fig_id + \".\" + fig_extension)\n",
        "    print(\"그림 저장:\", fig_id)\n",
        "    if tight_layout:\n",
        "        plt.tight_layout() # no.3\n",
        "    plt.savefig(path, format=fig_extension, dpi=resolution)\n"
      ],
      "execution_count": 40,
      "outputs": []
    },
    {
      "cell_type": "markdown",
      "metadata": {
        "id": "wk5H5fAEONEc"
      },
      "source": [
        "### 체크체크\n",
        "        - no.1\n",
        "        -- 절대 경로와 상대경로\n",
        "        절대경로는 쉽게 말해 전체 경로를 말하는거 같음\n",
        "        상대경로는 현재 위치를 기준으로한 위치\n",
        "        상대경로에서 1. '/' 가장 최상의 디렉토리로 이동 2. './' 현재 디렉토리 의미 3. '../' 상위 디렉토리를 의미\n",
        "        상위상위 디렉토리로 가려면 당연히 ../../ 라고 쓰면됨\n",
        "        그래서 no.1에서 \".\"을 쓴게 현재 디렉토리를 표시하기 위한걸로 보임\n",
        "\n",
        "        - no.2\n",
        "        -- .join() 함수\n",
        "        파일 경로상의 디렉터리를 구분할때 Windows는 역슬레시(\\), Unix, Linux는 슬래시(/)로 구분함.\n",
        "        이처럼 운영체제의 환경에 따라 구분자가 달라지기 때문에 .join() 함수를 사용해 자동으로 환경에 맞춰 구분자를 생성함.\n",
        "        따라서 no.2를 해석해보면 현재디렉토리 -> images -> CHAPTER_ID (content/images/re_chapter_02)\n",
        "\n",
        "        - no.3\n",
        "        -- .tight_layout() 함수\n",
        "        subplot에서 자동으로 레이아웃을 맞춰줌.\n",
        "        기본값: tight_layout(pad=1.08, h_pad=None, w_pad=None, rect=None)\n",
        "        - pad \n",
        "        figure과 서브플롯의 모서리 사이 여백 설정\n",
        "        - h_pad, w_pad\n",
        "        서로 인접한 서브플롯 사이의 모서리간의 높이 및 넓이 여백 설정\n",
        "        - rect\n",
        "        서브플롯을 넣기 위한 사각형 설정. (왼, 바닥쪽, 오, 위쪽)을 입력받음.\n",
        "        기본값은 (1,0,1,1)\n",
        "\n",
        "        - no.5\n",
        "        -- makedirs\n",
        "        mkdir은 한 폴더만 생성가능하지만 .makedirs는 './a/b/c'처럼 원하는 만큼 디렉터리 생성 가능\n",
        "        exist_ok=True로 하면 해당 디렉터리가 기존에 존재해도 오류없이 그냥 넘어감\n",
        "\n",
        "\n"
      ]
    },
    {
      "cell_type": "code",
      "metadata": {
        "colab": {
          "base_uri": "https://localhost:8080/"
        },
        "id": "er_SEQJiNN8H",
        "outputId": "b0fac411-a447-4662-ffff-6bc307758353"
      },
      "source": [
        "# 디렉토리 경로와 파일명 분리\n",
        "file_path = \"/content/images/re_chapter_02/hey.png\"\n",
        "print(os.path.split(file_path))  # 튜플로 반환\n",
        "\n",
        "# 상대결로를 절대경로로 바꿀때\n",
        "print(os.path.abspath('.'))\n",
        "\n",
        "# 경로에서 파일명 or 디렉터리 경로 구할때  <- 위의 디렉터리 경로와 파일명 분리하는 것과 기능이 유사한듯\n",
        "dir_path = os.path.dirname(file_path)   # 파일명 앞까지의 디렉터리 경로\n",
        "file_name = os.path.basename(file_path) # 경로를 표현하는 문자열에서 파일명 구할때\n",
        "\n",
        "print(dir_path)\n",
        "print(file_name)\n",
        "\n",
        "# 경로 문자열이 파일을 표현하는지 디렉터리를 표현하는지 구하기\n",
        "print(os.path.isfile(file_path))\n",
        "print(os.path.isdir(\"/content\"))\n",
        "print(os.path.isdir(dir_path))\n",
        "\n",
        "# 위에 두개는 왜 False로 뜨는지 잘 모르겠음.\n",
        "# 시험용으로 만들어서 그런가?\n",
        "# ㄴㄴ 있다는 가정하에 봐서 그럼 없으면 False뜸\n",
        "\n",
        "\n",
        "\n"
      ],
      "execution_count": 25,
      "outputs": [
        {
          "output_type": "stream",
          "text": [
            "('/content/images/re_chapter_02', 'hey.png')\n",
            "/content\n",
            "/content/images/re_chapter_02\n",
            "hey.png\n",
            "False\n",
            "True\n",
            "False\n"
          ],
          "name": "stdout"
        }
      ]
    },
    {
      "cell_type": "markdown",
      "metadata": {
        "id": "fRC3GxGoZKZg"
      },
      "source": [
        "# 데이터 다운로드"
      ]
    },
    {
      "cell_type": "code",
      "metadata": {
        "id": "p1CFolCiZMr7"
      },
      "source": [
        "import os\n",
        "import tarfile\n",
        "from six.moves import urllib\n",
        "\n",
        "DOWNLOAD_ROOT = \"https://raw.githubusercontent.com/ageron/handson-ml/master/\"\n",
        "HOUSING_PATH = os.path.join(\"datasets\", \"housing\")\n",
        "HOUSING_URL = DOWNLOAD_ROOT + \"datasets/housing/housing.tgz\"\n",
        "\n",
        "def fetch_housing_data(housing_url=HOUSING_URL, housing_path=HOUSING_PATH):   # no.4\n",
        "    if not os.path.isdir(housing_path):  # 폴더 없으면 만들기\n",
        "        os.makedirs(housing_path)\n",
        "    tgz_path = os.path.join(housing_path, \"housing.tgz\")\n",
        "    urllib.request.urlretrieve(housing_url, tgz_path)\n",
        "    housing_tgz = tarfile.open(tgz_path)\n",
        "    housing_tgz.extractall(path=housing_path)\n",
        "    housing_tgz.close()"
      ],
      "execution_count": 28,
      "outputs": []
    },
    {
      "cell_type": "markdown",
      "metadata": {
        "id": "BimndJJEdqyQ"
      },
      "source": [
        "### 체크체크\n",
        "    - no.4\n",
        "    -- tarfile 모듈\n",
        "    여러 파일을 합치거나 해체할때 사용하는 모듈\n",
        "    위에서는 tgz 파일 압축 푸는데 사용함. housing_tgz 객체 만들어서 사용함.\n",
        "    -- urllib.request.urlretrieve 함수\n",
        "    url로 표시된 네트워크 객체를 로컬 파일로 복사\n",
        "    기본 값: urllib.request.urlretrieved(url, 로컬에 저장될 파일 이름)\n",
        "    튜플 형태의 (filename, header)를 반환\n",
        "\n",
        "\n",
        "\n",
        "\n"
      ]
    },
    {
      "cell_type": "code",
      "metadata": {
        "id": "wpa1kCSne53a"
      },
      "source": [
        "fetch_housing_data()"
      ],
      "execution_count": 29,
      "outputs": []
    },
    {
      "cell_type": "code",
      "metadata": {
        "id": "tbgApR5ae_7Y"
      },
      "source": [
        "import pandas as pd\n",
        "\n",
        "def load_housing_data(housing_path=HOUSING_PATH):\n",
        "    csv_path = os.path.join(housing_path, \"housing.csv\")  # csv 파일에 대해선 경로 저장 안했기 때문에 새로 만듬\n",
        "    return pd.read_csv(csv_path)"
      ],
      "execution_count": 30,
      "outputs": []
    },
    {
      "cell_type": "code",
      "metadata": {
        "colab": {
          "base_uri": "https://localhost:8080/",
          "height": 226
        },
        "id": "ax8JfTJ-fSev",
        "outputId": "46a026ea-2723-45ee-fe15-6f1f9c6d02a0"
      },
      "source": [
        "housing = load_housing_data()  # 데이터프레임 housing에 할당\n",
        "housing.head()"
      ],
      "execution_count": 31,
      "outputs": [
        {
          "output_type": "execute_result",
          "data": {
            "text/html": [
              "<div>\n",
              "<style scoped>\n",
              "    .dataframe tbody tr th:only-of-type {\n",
              "        vertical-align: middle;\n",
              "    }\n",
              "\n",
              "    .dataframe tbody tr th {\n",
              "        vertical-align: top;\n",
              "    }\n",
              "\n",
              "    .dataframe thead th {\n",
              "        text-align: right;\n",
              "    }\n",
              "</style>\n",
              "<table border=\"1\" class=\"dataframe\">\n",
              "  <thead>\n",
              "    <tr style=\"text-align: right;\">\n",
              "      <th></th>\n",
              "      <th>longitude</th>\n",
              "      <th>latitude</th>\n",
              "      <th>housing_median_age</th>\n",
              "      <th>total_rooms</th>\n",
              "      <th>total_bedrooms</th>\n",
              "      <th>population</th>\n",
              "      <th>households</th>\n",
              "      <th>median_income</th>\n",
              "      <th>median_house_value</th>\n",
              "      <th>ocean_proximity</th>\n",
              "    </tr>\n",
              "  </thead>\n",
              "  <tbody>\n",
              "    <tr>\n",
              "      <th>0</th>\n",
              "      <td>-122.23</td>\n",
              "      <td>37.88</td>\n",
              "      <td>41.0</td>\n",
              "      <td>880.0</td>\n",
              "      <td>129.0</td>\n",
              "      <td>322.0</td>\n",
              "      <td>126.0</td>\n",
              "      <td>8.3252</td>\n",
              "      <td>452600.0</td>\n",
              "      <td>NEAR BAY</td>\n",
              "    </tr>\n",
              "    <tr>\n",
              "      <th>1</th>\n",
              "      <td>-122.22</td>\n",
              "      <td>37.86</td>\n",
              "      <td>21.0</td>\n",
              "      <td>7099.0</td>\n",
              "      <td>1106.0</td>\n",
              "      <td>2401.0</td>\n",
              "      <td>1138.0</td>\n",
              "      <td>8.3014</td>\n",
              "      <td>358500.0</td>\n",
              "      <td>NEAR BAY</td>\n",
              "    </tr>\n",
              "    <tr>\n",
              "      <th>2</th>\n",
              "      <td>-122.24</td>\n",
              "      <td>37.85</td>\n",
              "      <td>52.0</td>\n",
              "      <td>1467.0</td>\n",
              "      <td>190.0</td>\n",
              "      <td>496.0</td>\n",
              "      <td>177.0</td>\n",
              "      <td>7.2574</td>\n",
              "      <td>352100.0</td>\n",
              "      <td>NEAR BAY</td>\n",
              "    </tr>\n",
              "    <tr>\n",
              "      <th>3</th>\n",
              "      <td>-122.25</td>\n",
              "      <td>37.85</td>\n",
              "      <td>52.0</td>\n",
              "      <td>1274.0</td>\n",
              "      <td>235.0</td>\n",
              "      <td>558.0</td>\n",
              "      <td>219.0</td>\n",
              "      <td>5.6431</td>\n",
              "      <td>341300.0</td>\n",
              "      <td>NEAR BAY</td>\n",
              "    </tr>\n",
              "    <tr>\n",
              "      <th>4</th>\n",
              "      <td>-122.25</td>\n",
              "      <td>37.85</td>\n",
              "      <td>52.0</td>\n",
              "      <td>1627.0</td>\n",
              "      <td>280.0</td>\n",
              "      <td>565.0</td>\n",
              "      <td>259.0</td>\n",
              "      <td>3.8462</td>\n",
              "      <td>342200.0</td>\n",
              "      <td>NEAR BAY</td>\n",
              "    </tr>\n",
              "  </tbody>\n",
              "</table>\n",
              "</div>"
            ],
            "text/plain": [
              "   longitude  latitude  ...  median_house_value  ocean_proximity\n",
              "0    -122.23     37.88  ...            452600.0         NEAR BAY\n",
              "1    -122.22     37.86  ...            358500.0         NEAR BAY\n",
              "2    -122.24     37.85  ...            352100.0         NEAR BAY\n",
              "3    -122.25     37.85  ...            341300.0         NEAR BAY\n",
              "4    -122.25     37.85  ...            342200.0         NEAR BAY\n",
              "\n",
              "[5 rows x 10 columns]"
            ]
          },
          "metadata": {
            "tags": []
          },
          "execution_count": 31
        }
      ]
    },
    {
      "cell_type": "markdown",
      "metadata": {
        "id": "HLGyR1ldfaRY"
      },
      "source": [
        "ocean_proximity(이하 op라 칭함)를 제외하고는 전부 수치형 데이터.\n",
        "head의 op 이름이 모두 같은 걸로 보아 범주형 데이터로 추측됨.\n"
      ]
    },
    {
      "cell_type": "code",
      "metadata": {
        "colab": {
          "base_uri": "https://localhost:8080/"
        },
        "id": "qIRnAmIdf8ZS",
        "outputId": "076a8d8c-e9b2-46d1-c2d7-82761504beea"
      },
      "source": [
        "housing.info() # total_bedrooms에서 결측치 관측됨"
      ],
      "execution_count": 33,
      "outputs": [
        {
          "output_type": "stream",
          "text": [
            "<class 'pandas.core.frame.DataFrame'>\n",
            "RangeIndex: 20640 entries, 0 to 20639\n",
            "Data columns (total 10 columns):\n",
            " #   Column              Non-Null Count  Dtype  \n",
            "---  ------              --------------  -----  \n",
            " 0   longitude           20640 non-null  float64\n",
            " 1   latitude            20640 non-null  float64\n",
            " 2   housing_median_age  20640 non-null  float64\n",
            " 3   total_rooms         20640 non-null  float64\n",
            " 4   total_bedrooms      20433 non-null  float64\n",
            " 5   population          20640 non-null  float64\n",
            " 6   households          20640 non-null  float64\n",
            " 7   median_income       20640 non-null  float64\n",
            " 8   median_house_value  20640 non-null  float64\n",
            " 9   ocean_proximity     20640 non-null  object \n",
            "dtypes: float64(9), object(1)\n",
            "memory usage: 1.6+ MB\n"
          ],
          "name": "stdout"
        }
      ]
    },
    {
      "cell_type": "code",
      "metadata": {
        "colab": {
          "base_uri": "https://localhost:8080/"
        },
        "id": "kXaRfXPQgF5b",
        "outputId": "2d232753-d98f-4149-e17b-886c795aba80"
      },
      "source": [
        "housing[\"total_bedrooms\"].isnull().sum()  # 결측치 207개"
      ],
      "execution_count": 35,
      "outputs": [
        {
          "output_type": "execute_result",
          "data": {
            "text/plain": [
              "207"
            ]
          },
          "metadata": {
            "tags": []
          },
          "execution_count": 35
        }
      ]
    },
    {
      "cell_type": "code",
      "metadata": {
        "colab": {
          "base_uri": "https://localhost:8080/"
        },
        "id": "NITYeff5gQU1",
        "outputId": "c5f12aaf-4ad9-4f4c-c71d-4fac381b1467"
      },
      "source": [
        "housing[\"ocean_proximity\"].value_counts()"
      ],
      "execution_count": 36,
      "outputs": [
        {
          "output_type": "execute_result",
          "data": {
            "text/plain": [
              "<1H OCEAN     9136\n",
              "INLAND        6551\n",
              "NEAR OCEAN    2658\n",
              "NEAR BAY      2290\n",
              "ISLAND           5\n",
              "Name: ocean_proximity, dtype: int64"
            ]
          },
          "metadata": {
            "tags": []
          },
          "execution_count": 36
        }
      ]
    },
    {
      "cell_type": "code",
      "metadata": {
        "colab": {
          "base_uri": "https://localhost:8080/",
          "height": 300
        },
        "id": "mvEw-gvrgZ5f",
        "outputId": "51d5ed5d-6896-4623-cc01-6d8ea78be45f"
      },
      "source": [
        "housing.describe()"
      ],
      "execution_count": 37,
      "outputs": [
        {
          "output_type": "execute_result",
          "data": {
            "text/html": [
              "<div>\n",
              "<style scoped>\n",
              "    .dataframe tbody tr th:only-of-type {\n",
              "        vertical-align: middle;\n",
              "    }\n",
              "\n",
              "    .dataframe tbody tr th {\n",
              "        vertical-align: top;\n",
              "    }\n",
              "\n",
              "    .dataframe thead th {\n",
              "        text-align: right;\n",
              "    }\n",
              "</style>\n",
              "<table border=\"1\" class=\"dataframe\">\n",
              "  <thead>\n",
              "    <tr style=\"text-align: right;\">\n",
              "      <th></th>\n",
              "      <th>longitude</th>\n",
              "      <th>latitude</th>\n",
              "      <th>housing_median_age</th>\n",
              "      <th>total_rooms</th>\n",
              "      <th>total_bedrooms</th>\n",
              "      <th>population</th>\n",
              "      <th>households</th>\n",
              "      <th>median_income</th>\n",
              "      <th>median_house_value</th>\n",
              "    </tr>\n",
              "  </thead>\n",
              "  <tbody>\n",
              "    <tr>\n",
              "      <th>count</th>\n",
              "      <td>20640.000000</td>\n",
              "      <td>20640.000000</td>\n",
              "      <td>20640.000000</td>\n",
              "      <td>20640.000000</td>\n",
              "      <td>20433.000000</td>\n",
              "      <td>20640.000000</td>\n",
              "      <td>20640.000000</td>\n",
              "      <td>20640.000000</td>\n",
              "      <td>20640.000000</td>\n",
              "    </tr>\n",
              "    <tr>\n",
              "      <th>mean</th>\n",
              "      <td>-119.569704</td>\n",
              "      <td>35.631861</td>\n",
              "      <td>28.639486</td>\n",
              "      <td>2635.763081</td>\n",
              "      <td>537.870553</td>\n",
              "      <td>1425.476744</td>\n",
              "      <td>499.539680</td>\n",
              "      <td>3.870671</td>\n",
              "      <td>206855.816909</td>\n",
              "    </tr>\n",
              "    <tr>\n",
              "      <th>std</th>\n",
              "      <td>2.003532</td>\n",
              "      <td>2.135952</td>\n",
              "      <td>12.585558</td>\n",
              "      <td>2181.615252</td>\n",
              "      <td>421.385070</td>\n",
              "      <td>1132.462122</td>\n",
              "      <td>382.329753</td>\n",
              "      <td>1.899822</td>\n",
              "      <td>115395.615874</td>\n",
              "    </tr>\n",
              "    <tr>\n",
              "      <th>min</th>\n",
              "      <td>-124.350000</td>\n",
              "      <td>32.540000</td>\n",
              "      <td>1.000000</td>\n",
              "      <td>2.000000</td>\n",
              "      <td>1.000000</td>\n",
              "      <td>3.000000</td>\n",
              "      <td>1.000000</td>\n",
              "      <td>0.499900</td>\n",
              "      <td>14999.000000</td>\n",
              "    </tr>\n",
              "    <tr>\n",
              "      <th>25%</th>\n",
              "      <td>-121.800000</td>\n",
              "      <td>33.930000</td>\n",
              "      <td>18.000000</td>\n",
              "      <td>1447.750000</td>\n",
              "      <td>296.000000</td>\n",
              "      <td>787.000000</td>\n",
              "      <td>280.000000</td>\n",
              "      <td>2.563400</td>\n",
              "      <td>119600.000000</td>\n",
              "    </tr>\n",
              "    <tr>\n",
              "      <th>50%</th>\n",
              "      <td>-118.490000</td>\n",
              "      <td>34.260000</td>\n",
              "      <td>29.000000</td>\n",
              "      <td>2127.000000</td>\n",
              "      <td>435.000000</td>\n",
              "      <td>1166.000000</td>\n",
              "      <td>409.000000</td>\n",
              "      <td>3.534800</td>\n",
              "      <td>179700.000000</td>\n",
              "    </tr>\n",
              "    <tr>\n",
              "      <th>75%</th>\n",
              "      <td>-118.010000</td>\n",
              "      <td>37.710000</td>\n",
              "      <td>37.000000</td>\n",
              "      <td>3148.000000</td>\n",
              "      <td>647.000000</td>\n",
              "      <td>1725.000000</td>\n",
              "      <td>605.000000</td>\n",
              "      <td>4.743250</td>\n",
              "      <td>264725.000000</td>\n",
              "    </tr>\n",
              "    <tr>\n",
              "      <th>max</th>\n",
              "      <td>-114.310000</td>\n",
              "      <td>41.950000</td>\n",
              "      <td>52.000000</td>\n",
              "      <td>39320.000000</td>\n",
              "      <td>6445.000000</td>\n",
              "      <td>35682.000000</td>\n",
              "      <td>6082.000000</td>\n",
              "      <td>15.000100</td>\n",
              "      <td>500001.000000</td>\n",
              "    </tr>\n",
              "  </tbody>\n",
              "</table>\n",
              "</div>"
            ],
            "text/plain": [
              "          longitude      latitude  ...  median_income  median_house_value\n",
              "count  20640.000000  20640.000000  ...   20640.000000        20640.000000\n",
              "mean    -119.569704     35.631861  ...       3.870671       206855.816909\n",
              "std        2.003532      2.135952  ...       1.899822       115395.615874\n",
              "min     -124.350000     32.540000  ...       0.499900        14999.000000\n",
              "25%     -121.800000     33.930000  ...       2.563400       119600.000000\n",
              "50%     -118.490000     34.260000  ...       3.534800       179700.000000\n",
              "75%     -118.010000     37.710000  ...       4.743250       264725.000000\n",
              "max     -114.310000     41.950000  ...      15.000100       500001.000000\n",
              "\n",
              "[8 rows x 9 columns]"
            ]
          },
          "metadata": {
            "tags": []
          },
          "execution_count": 37
        }
      ]
    },
    {
      "cell_type": "code",
      "metadata": {
        "colab": {
          "base_uri": "https://localhost:8080/",
          "height": 906
        },
        "id": "xp-4CCG5hmBQ",
        "outputId": "c9148e56-fb55-48f3-c0f5-2a74921070d6"
      },
      "source": [
        "# 다이어그램으로 전체 특성 파악\n",
        "housing.hist(bins=50, figsize=(20,15))\n",
        "save_fig(\"attribute_histogram_plots\")\n",
        "plt.show()"
      ],
      "execution_count": 41,
      "outputs": [
        {
          "output_type": "stream",
          "text": [
            "그림 저장: attribute_histogram_plots\n"
          ],
          "name": "stdout"
        },
        {
          "output_type": "display_data",
          "data": {
            "image/png": "[encoded data removed]",
            "text/plain": [
              "<Figure size 1440x1080 with 9 Axes>"
            ]
          },
          "metadata": {
            "tags": [],
            "needs_background": "light"
          }
        }
      ]
    },
    {
      "cell_type": "markdown",
      "metadata": {
        "id": "DiAlzmb4jTrg"
      },
      "source": [
        "housing_median_age와 median_house_value는 끝값이 엄청 많은걸로 봐선 최대치가 제한되어 있는것으로 보임"
      ]
    },
    {
      "cell_type": "code",
      "metadata": {
        "id": "ec4U71l_h4KI"
      },
      "source": [
        "np.random.seed(42)"
      ],
      "execution_count": 42,
      "outputs": []
    },
    {
      "cell_type": "code",
      "metadata": {
        "id": "uEJWTL98jjcA"
      },
      "source": [
        "# 사이킷런의 train_test_split() 함수가 있지만 직접 만듬\n",
        "def split_train_test(data, test_ratio):\n",
        "    shuffled_indices = np.random.permutation(len(data))\n",
        "    test_set_size = int(len(data) * test_ratio)\n",
        "    test_indices = shuffled_indices[:test_set_size]\n",
        "    train_indices = shuffled_indices[test_set_size:]\n",
        "    return data.iloc[train_indices], data.iloc[test_indices]  # no.6"
      ],
      "execution_count": 44,
      "outputs": []
    },
    {
      "cell_type": "markdown",
      "metadata": {
        "id": "VqwK-8HdknrT"
      },
      "source": [
        "### 체크체크\n",
        "    - no.6\n",
        "    \n",
        "    -- Dataframe에서의 인덱싱\n",
        "\n",
        "    [] : 위치 정수를 활용한 인덱싱\n",
        "    .loc[label] : 레이블 기반 인덱싱(정수값이 아닌 레이블!)\n",
        "    .iloc[position] : 위치 정수를 기반으로 인덱싱\n",
        "    [:] : 슬라이싱을 활용한 인덱싱\n",
        "    [bool_vec] : 불리언 벡터를 활용한 인덱싱\n",
        "\n",
        "\n",
        "[인덱싱 상세한 정보](https://kongdols-room.tistory.com/112)"
      ]
    },
    {
      "cell_type": "code",
      "metadata": {
        "colab": {
          "base_uri": "https://localhost:8080/"
        },
        "id": "s80tzCkQlcAJ",
        "outputId": "7747b2ae-1d7c-456f-def9-57b870fa34ac"
      },
      "source": [
        "train_set, test_set = split_train_test(housing, 0.2)\n",
        "print(len(train_set), \"train +\", len(test_set), \"test\")"
      ],
      "execution_count": 45,
      "outputs": [
        {
          "output_type": "stream",
          "text": [
            "16512 train + 4128 test\n"
          ],
          "name": "stdout"
        }
      ]
    },
    {
      "cell_type": "code",
      "metadata": {
        "id": "ZkYzudtlmFUN"
      },
      "source": [
        "from zlib import crc32  # 고유 주소 가져와줌\n",
        "\n",
        "def test_set_check(identifier, test_ratio):\n",
        "    return crc32(np.int64(identifier)) & 0xffffffff < test_ratio * 2**32  # no.7\n",
        "\n",
        "def split_train_test_by_id(data, test_ratio, id_column):\n",
        "    ids = data[id_column]\n",
        "    in_test_set = ids.apply(lambda id_: test_set_check(id_, test_ratio))  # 각각에 함수 적용해서 불리언 벡터를 반환\n",
        "    return data.loc[~in_test_set], data.loc[in_test_set]"
      ],
      "execution_count": 52,
      "outputs": []
    },
    {
      "cell_type": "markdown",
      "metadata": {
        "id": "Pw4KdUS-rDAj"
      },
      "source": [
        "### 체크체크\n",
        "    - no.7\n",
        "    -- 함수 분석\n",
        "    crc32()는 np.in64()형 정수를 받아 0,2**32-1 범위의 랜덤한 정수인 해시를 만들어냄\n",
        "    0xffffffff는 32비트에서 표현가능한 최대값\n",
        "    2**32는 16진수에서 위에 값보다 하나 더 큰 값(0x1 0000 0000)\n",
        "    위 값에 test_ratio를 곱해서 특정 비율 만큼의 정수를 얻는 것.\n",
        "\n",
        "[자세한건](https://blog.naver.com/cnuchips/221292744766)"
      ]
    },
    {
      "cell_type": "code",
      "metadata": {
        "id": "MKkXNkQjptEI"
      },
      "source": [
        "housing_with_id = housing.reset_index() # 'index' 열이 추가된 데이터프레임 반환 # set_index()와 비교해볼것(반대 역할이라 하긴함)\n",
        "train_set, test_set = split_train_test_by_id(housing_with_id, 0.2, \"index\")"
      ],
      "execution_count": 54,
      "outputs": []
    },
    {
      "cell_type": "code",
      "metadata": {
        "id": "wlfhw9ultV88"
      },
      "source": [
        "# id로 고유값인 위도와 경도를 사용할수도 있음\n",
        "housing_with_id[\"id\"] = housing[\"longitude\"] * 1000 + housing[\"latitude\"]\n",
        "train_set, test_set = split_train_test_by_id(housing_with_id, 0.2, \"id\")"
      ],
      "execution_count": 55,
      "outputs": []
    },
    {
      "cell_type": "code",
      "metadata": {
        "colab": {
          "base_uri": "https://localhost:8080/",
          "height": 226
        },
        "id": "G4piHIB4tq6m",
        "outputId": "9dd7fc23-5a03-432d-abf1-815629606597"
      },
      "source": [
        "test_set.head()"
      ],
      "execution_count": 56,
      "outputs": [
        {
          "output_type": "execute_result",
          "data": {
            "text/html": [
              "<div>\n",
              "<style scoped>\n",
              "    .dataframe tbody tr th:only-of-type {\n",
              "        vertical-align: middle;\n",
              "    }\n",
              "\n",
              "    .dataframe tbody tr th {\n",
              "        vertical-align: top;\n",
              "    }\n",
              "\n",
              "    .dataframe thead th {\n",
              "        text-align: right;\n",
              "    }\n",
              "</style>\n",
              "<table border=\"1\" class=\"dataframe\">\n",
              "  <thead>\n",
              "    <tr style=\"text-align: right;\">\n",
              "      <th></th>\n",
              "      <th>index</th>\n",
              "      <th>longitude</th>\n",
              "      <th>latitude</th>\n",
              "      <th>housing_median_age</th>\n",
              "      <th>total_rooms</th>\n",
              "      <th>total_bedrooms</th>\n",
              "      <th>population</th>\n",
              "      <th>households</th>\n",
              "      <th>median_income</th>\n",
              "      <th>median_house_value</th>\n",
              "      <th>ocean_proximity</th>\n",
              "      <th>id</th>\n",
              "    </tr>\n",
              "  </thead>\n",
              "  <tbody>\n",
              "    <tr>\n",
              "      <th>59</th>\n",
              "      <td>59</td>\n",
              "      <td>-122.29</td>\n",
              "      <td>37.82</td>\n",
              "      <td>2.0</td>\n",
              "      <td>158.0</td>\n",
              "      <td>43.0</td>\n",
              "      <td>94.0</td>\n",
              "      <td>57.0</td>\n",
              "      <td>2.5625</td>\n",
              "      <td>60000.0</td>\n",
              "      <td>NEAR BAY</td>\n",
              "      <td>-122252.18</td>\n",
              "    </tr>\n",
              "    <tr>\n",
              "      <th>60</th>\n",
              "      <td>60</td>\n",
              "      <td>-122.29</td>\n",
              "      <td>37.83</td>\n",
              "      <td>52.0</td>\n",
              "      <td>1121.0</td>\n",
              "      <td>211.0</td>\n",
              "      <td>554.0</td>\n",
              "      <td>187.0</td>\n",
              "      <td>3.3929</td>\n",
              "      <td>75700.0</td>\n",
              "      <td>NEAR BAY</td>\n",
              "      <td>-122252.17</td>\n",
              "    </tr>\n",
              "    <tr>\n",
              "      <th>61</th>\n",
              "      <td>61</td>\n",
              "      <td>-122.29</td>\n",
              "      <td>37.82</td>\n",
              "      <td>49.0</td>\n",
              "      <td>135.0</td>\n",
              "      <td>29.0</td>\n",
              "      <td>86.0</td>\n",
              "      <td>23.0</td>\n",
              "      <td>6.1183</td>\n",
              "      <td>75000.0</td>\n",
              "      <td>NEAR BAY</td>\n",
              "      <td>-122252.18</td>\n",
              "    </tr>\n",
              "    <tr>\n",
              "      <th>62</th>\n",
              "      <td>62</td>\n",
              "      <td>-122.29</td>\n",
              "      <td>37.81</td>\n",
              "      <td>50.0</td>\n",
              "      <td>760.0</td>\n",
              "      <td>190.0</td>\n",
              "      <td>377.0</td>\n",
              "      <td>122.0</td>\n",
              "      <td>0.9011</td>\n",
              "      <td>86100.0</td>\n",
              "      <td>NEAR BAY</td>\n",
              "      <td>-122252.19</td>\n",
              "    </tr>\n",
              "    <tr>\n",
              "      <th>67</th>\n",
              "      <td>67</td>\n",
              "      <td>-122.29</td>\n",
              "      <td>37.80</td>\n",
              "      <td>52.0</td>\n",
              "      <td>1027.0</td>\n",
              "      <td>244.0</td>\n",
              "      <td>492.0</td>\n",
              "      <td>147.0</td>\n",
              "      <td>2.6094</td>\n",
              "      <td>81300.0</td>\n",
              "      <td>NEAR BAY</td>\n",
              "      <td>-122252.20</td>\n",
              "    </tr>\n",
              "  </tbody>\n",
              "</table>\n",
              "</div>"
            ],
            "text/plain": [
              "    index  longitude  latitude  ...  median_house_value  ocean_proximity         id\n",
              "59     59    -122.29     37.82  ...             60000.0         NEAR BAY -122252.18\n",
              "60     60    -122.29     37.83  ...             75700.0         NEAR BAY -122252.17\n",
              "61     61    -122.29     37.82  ...             75000.0         NEAR BAY -122252.18\n",
              "62     62    -122.29     37.81  ...             86100.0         NEAR BAY -122252.19\n",
              "67     67    -122.29     37.80  ...             81300.0         NEAR BAY -122252.20\n",
              "\n",
              "[5 rows x 12 columns]"
            ]
          },
          "metadata": {
            "tags": []
          },
          "execution_count": 56
        }
      ]
    },
    {
      "cell_type": "code",
      "metadata": {
        "id": "EJwlI6u1ts6n"
      },
      "source": [
        "# sklearn 활용한 데이터셋 split\n",
        "from sklearn.model_selection import train_test_split\n",
        "\n",
        "train_set, test_set = train_test_split(housing, test_size=0.2, random_state=42)"
      ],
      "execution_count": 57,
      "outputs": []
    },
    {
      "cell_type": "code",
      "metadata": {
        "colab": {
          "base_uri": "https://localhost:8080/",
          "height": 226
        },
        "id": "1u1SH9Nct_R6",
        "outputId": "88e12db3-3f02-4743-b289-8e59c6a03ee9"
      },
      "source": [
        "test_set.head()"
      ],
      "execution_count": 58,
      "outputs": [
        {
          "output_type": "execute_result",
          "data": {
            "text/html": [
              "<div>\n",
              "<style scoped>\n",
              "    .dataframe tbody tr th:only-of-type {\n",
              "        vertical-align: middle;\n",
              "    }\n",
              "\n",
              "    .dataframe tbody tr th {\n",
              "        vertical-align: top;\n",
              "    }\n",
              "\n",
              "    .dataframe thead th {\n",
              "        text-align: right;\n",
              "    }\n",
              "</style>\n",
              "<table border=\"1\" class=\"dataframe\">\n",
              "  <thead>\n",
              "    <tr style=\"text-align: right;\">\n",
              "      <th></th>\n",
              "      <th>longitude</th>\n",
              "      <th>latitude</th>\n",
              "      <th>housing_median_age</th>\n",
              "      <th>total_rooms</th>\n",
              "      <th>total_bedrooms</th>\n",
              "      <th>population</th>\n",
              "      <th>households</th>\n",
              "      <th>median_income</th>\n",
              "      <th>median_house_value</th>\n",
              "      <th>ocean_proximity</th>\n",
              "    </tr>\n",
              "  </thead>\n",
              "  <tbody>\n",
              "    <tr>\n",
              "      <th>20046</th>\n",
              "      <td>-119.01</td>\n",
              "      <td>36.06</td>\n",
              "      <td>25.0</td>\n",
              "      <td>1505.0</td>\n",
              "      <td>NaN</td>\n",
              "      <td>1392.0</td>\n",
              "      <td>359.0</td>\n",
              "      <td>1.6812</td>\n",
              "      <td>47700.0</td>\n",
              "      <td>INLAND</td>\n",
              "    </tr>\n",
              "    <tr>\n",
              "      <th>3024</th>\n",
              "      <td>-119.46</td>\n",
              "      <td>35.14</td>\n",
              "      <td>30.0</td>\n",
              "      <td>2943.0</td>\n",
              "      <td>NaN</td>\n",
              "      <td>1565.0</td>\n",
              "      <td>584.0</td>\n",
              "      <td>2.5313</td>\n",
              "      <td>45800.0</td>\n",
              "      <td>INLAND</td>\n",
              "    </tr>\n",
              "    <tr>\n",
              "      <th>15663</th>\n",
              "      <td>-122.44</td>\n",
              "      <td>37.80</td>\n",
              "      <td>52.0</td>\n",
              "      <td>3830.0</td>\n",
              "      <td>NaN</td>\n",
              "      <td>1310.0</td>\n",
              "      <td>963.0</td>\n",
              "      <td>3.4801</td>\n",
              "      <td>500001.0</td>\n",
              "      <td>NEAR BAY</td>\n",
              "    </tr>\n",
              "    <tr>\n",
              "      <th>20484</th>\n",
              "      <td>-118.72</td>\n",
              "      <td>34.28</td>\n",
              "      <td>17.0</td>\n",
              "      <td>3051.0</td>\n",
              "      <td>NaN</td>\n",
              "      <td>1705.0</td>\n",
              "      <td>495.0</td>\n",
              "      <td>5.7376</td>\n",
              "      <td>218600.0</td>\n",
              "      <td>&lt;1H OCEAN</td>\n",
              "    </tr>\n",
              "    <tr>\n",
              "      <th>9814</th>\n",
              "      <td>-121.93</td>\n",
              "      <td>36.62</td>\n",
              "      <td>34.0</td>\n",
              "      <td>2351.0</td>\n",
              "      <td>NaN</td>\n",
              "      <td>1063.0</td>\n",
              "      <td>428.0</td>\n",
              "      <td>3.7250</td>\n",
              "      <td>278000.0</td>\n",
              "      <td>NEAR OCEAN</td>\n",
              "    </tr>\n",
              "  </tbody>\n",
              "</table>\n",
              "</div>"
            ],
            "text/plain": [
              "       longitude  latitude  ...  median_house_value  ocean_proximity\n",
              "20046    -119.01     36.06  ...             47700.0           INLAND\n",
              "3024     -119.46     35.14  ...             45800.0           INLAND\n",
              "15663    -122.44     37.80  ...            500001.0         NEAR BAY\n",
              "20484    -118.72     34.28  ...            218600.0        <1H OCEAN\n",
              "9814     -121.93     36.62  ...            278000.0       NEAR OCEAN\n",
              "\n",
              "[5 rows x 10 columns]"
            ]
          },
          "metadata": {
            "tags": []
          },
          "execution_count": 58
        }
      ]
    },
    {
      "cell_type": "markdown",
      "metadata": {
        "id": "UC4ud4FyurbY"
      },
      "source": [
        "계층적 샘플링이 필요함<br/>\n",
        "train_test_split 함수의 stratify 변수를 활용하면 가능"
      ]
    },
    {
      "cell_type": "code",
      "metadata": {
        "colab": {
          "base_uri": "https://localhost:8080/",
          "height": 268
        },
        "id": "3tt4y_UouAfC",
        "outputId": "51f6e39c-3cf7-47d9-e911-c7ec50bc85d8"
      },
      "source": [
        "housing[\"median_income\"].hist()\n",
        "plt.show()"
      ],
      "execution_count": 59,
      "outputs": [
        {
          "output_type": "display_data",
          "data": {
            "image/png": "[encoded data removed]",
            "text/plain": [
              "<Figure size 432x288 with 1 Axes>"
            ]
          },
          "metadata": {
            "tags": [],
            "needs_background": "light"
          }
        }
      ]
    },
    {
      "cell_type": "code",
      "metadata": {
        "id": "fwx6bswyvPRs"
      },
      "source": [
        "# 소득 카테고리 개수를 제한하기 위해 1.5.로 나눔  # max가 15라 1.5로 나누면 0~10 사이값이 됨\n",
        "housing[\"income_cat\"] = np.ceil(housing[\"median_income\"] / 1.5)  # np.ceil <- 올림함수\n",
        "\n",
        "# 5 이상은 5로 레이블\n",
        "housing[\"income_cat\"].where(housing[\"income_cat\"] < 5, 5.0, inplace=True)  # no.8"
      ],
      "execution_count": 60,
      "outputs": []
    },
    {
      "cell_type": "markdown",
      "metadata": {
        "id": "XqqJub1ewKk9"
      },
      "source": [
        "### 체크체크\n",
        "    - no.8\n",
        "    -- .where() 함수\n",
        "    특정 조건에 맞는 데이터들을 선택하여 출력하는데 사용\n",
        "    조건식을 입력받아, 조건식에 True에 해당하는 데이터들을 출력\n",
        "    적용하는 Series나 DataFrame의 형상과 일치하는 데이터를 출력\n",
        "    inplace=True면 where메서드 적용 시 출력 값으로 원본 배열 교체\n",
        "\n",
        "[자세한 건](https://kongdols-room.tistory.com/119)"
      ]
    },
    {
      "cell_type": "code",
      "metadata": {
        "colab": {
          "base_uri": "https://localhost:8080/"
        },
        "id": "HXtpHz3Ywqfi",
        "outputId": "6ca9b131-3c5b-4325-e7c9-f4139a8713a5"
      },
      "source": [
        "housing[\"income_cat\"].value_counts()"
      ],
      "execution_count": 62,
      "outputs": [
        {
          "output_type": "execute_result",
          "data": {
            "text/plain": [
              "3.0    7236\n",
              "2.0    6581\n",
              "4.0    3639\n",
              "5.0    2362\n",
              "1.0     822\n",
              "Name: income_cat, dtype: int64"
            ]
          },
          "metadata": {
            "tags": []
          },
          "execution_count": 62
        }
      ]
    },
    {
      "cell_type": "code",
      "metadata": {
        "colab": {
          "base_uri": "https://localhost:8080/",
          "height": 316
        },
        "id": "-Ip1eAMVx7Pe",
        "outputId": "d0ff2e64-39bc-4b00-ac64-0063351efce9"
      },
      "source": [
        "housing[\"income_cat\"].hist()\n",
        "save_fig('income_category_hist')"
      ],
      "execution_count": 63,
      "outputs": [
        {
          "output_type": "stream",
          "text": [
            "그림 저장: income_category_hist\n"
          ],
          "name": "stdout"
        },
        {
          "output_type": "display_data",
          "data": {
            "image/png": "[encoded data removed]",
            "text/plain": [
              "<Figure size 432x288 with 1 Axes>"
            ]
          },
          "metadata": {
            "tags": [],
            "needs_background": "light"
          }
        }
      ]
    },
    {
      "cell_type": "code",
      "metadata": {
        "id": "I7huGLn7yFAD"
      },
      "source": [
        "# 소득 카테고리 기반으로 계층 샘플링\n",
        "from sklearn.model_selection import StratifiedShuffleSplit\n",
        "\n",
        "split = StratifiedShuffleSplit(n_splits=1, test_size=0.2, random_state=42)\n",
        "for train_index, test_index in split.split(housing, housing[\"income_cat\"]): # 인덱스 반환 # get_n_split함수도 있음\n",
        "    strat_train_set = housing.loc[train_index]\n",
        "    strat_test_set = housing.loc[train_index]"
      ],
      "execution_count": 64,
      "outputs": []
    },
    {
      "cell_type": "code",
      "metadata": {
        "colab": {
          "base_uri": "https://localhost:8080/",
          "height": 226
        },
        "id": "06aIglkszOWp",
        "outputId": "628451db-7834-4e71-94bd-158312d3b1fd"
      },
      "source": [
        "# iloc를 활용해도 똑같음\n",
        "sss = housing.iloc[train_index]\n",
        "sss.head()"
      ],
      "execution_count": 66,
      "outputs": [
        {
          "output_type": "execute_result",
          "data": {
            "text/html": [
              "<div>\n",
              "<style scoped>\n",
              "    .dataframe tbody tr th:only-of-type {\n",
              "        vertical-align: middle;\n",
              "    }\n",
              "\n",
              "    .dataframe tbody tr th {\n",
              "        vertical-align: top;\n",
              "    }\n",
              "\n",
              "    .dataframe thead th {\n",
              "        text-align: right;\n",
              "    }\n",
              "</style>\n",
              "<table border=\"1\" class=\"dataframe\">\n",
              "  <thead>\n",
              "    <tr style=\"text-align: right;\">\n",
              "      <th></th>\n",
              "      <th>longitude</th>\n",
              "      <th>latitude</th>\n",
              "      <th>housing_median_age</th>\n",
              "      <th>total_rooms</th>\n",
              "      <th>total_bedrooms</th>\n",
              "      <th>population</th>\n",
              "      <th>households</th>\n",
              "      <th>median_income</th>\n",
              "      <th>median_house_value</th>\n",
              "      <th>ocean_proximity</th>\n",
              "      <th>income_cat</th>\n",
              "    </tr>\n",
              "  </thead>\n",
              "  <tbody>\n",
              "    <tr>\n",
              "      <th>17606</th>\n",
              "      <td>-121.89</td>\n",
              "      <td>37.29</td>\n",
              "      <td>38.0</td>\n",
              "      <td>1568.0</td>\n",
              "      <td>351.0</td>\n",
              "      <td>710.0</td>\n",
              "      <td>339.0</td>\n",
              "      <td>2.7042</td>\n",
              "      <td>286600.0</td>\n",
              "      <td>&lt;1H OCEAN</td>\n",
              "      <td>2.0</td>\n",
              "    </tr>\n",
              "    <tr>\n",
              "      <th>18632</th>\n",
              "      <td>-121.93</td>\n",
              "      <td>37.05</td>\n",
              "      <td>14.0</td>\n",
              "      <td>679.0</td>\n",
              "      <td>108.0</td>\n",
              "      <td>306.0</td>\n",
              "      <td>113.0</td>\n",
              "      <td>6.4214</td>\n",
              "      <td>340600.0</td>\n",
              "      <td>&lt;1H OCEAN</td>\n",
              "      <td>5.0</td>\n",
              "    </tr>\n",
              "    <tr>\n",
              "      <th>14650</th>\n",
              "      <td>-117.20</td>\n",
              "      <td>32.77</td>\n",
              "      <td>31.0</td>\n",
              "      <td>1952.0</td>\n",
              "      <td>471.0</td>\n",
              "      <td>936.0</td>\n",
              "      <td>462.0</td>\n",
              "      <td>2.8621</td>\n",
              "      <td>196900.0</td>\n",
              "      <td>NEAR OCEAN</td>\n",
              "      <td>2.0</td>\n",
              "    </tr>\n",
              "    <tr>\n",
              "      <th>3230</th>\n",
              "      <td>-119.61</td>\n",
              "      <td>36.31</td>\n",
              "      <td>25.0</td>\n",
              "      <td>1847.0</td>\n",
              "      <td>371.0</td>\n",
              "      <td>1460.0</td>\n",
              "      <td>353.0</td>\n",
              "      <td>1.8839</td>\n",
              "      <td>46300.0</td>\n",
              "      <td>INLAND</td>\n",
              "      <td>2.0</td>\n",
              "    </tr>\n",
              "    <tr>\n",
              "      <th>3555</th>\n",
              "      <td>-118.59</td>\n",
              "      <td>34.23</td>\n",
              "      <td>17.0</td>\n",
              "      <td>6592.0</td>\n",
              "      <td>1525.0</td>\n",
              "      <td>4459.0</td>\n",
              "      <td>1463.0</td>\n",
              "      <td>3.0347</td>\n",
              "      <td>254500.0</td>\n",
              "      <td>&lt;1H OCEAN</td>\n",
              "      <td>3.0</td>\n",
              "    </tr>\n",
              "  </tbody>\n",
              "</table>\n",
              "</div>"
            ],
            "text/plain": [
              "       longitude  latitude  ...  ocean_proximity  income_cat\n",
              "17606    -121.89     37.29  ...        <1H OCEAN         2.0\n",
              "18632    -121.93     37.05  ...        <1H OCEAN         5.0\n",
              "14650    -117.20     32.77  ...       NEAR OCEAN         2.0\n",
              "3230     -119.61     36.31  ...           INLAND         2.0\n",
              "3555     -118.59     34.23  ...        <1H OCEAN         3.0\n",
              "\n",
              "[5 rows x 11 columns]"
            ]
          },
          "metadata": {
            "tags": []
          },
          "execution_count": 66
        }
      ]
    },
    {
      "cell_type": "code",
      "metadata": {
        "colab": {
          "base_uri": "https://localhost:8080/",
          "height": 226
        },
        "id": "KjBxOhFxzXym",
        "outputId": "fc573b2c-b3de-4d46-c35b-aa8fd9ab7d92"
      },
      "source": [
        "strat_train_set.head()"
      ],
      "execution_count": 67,
      "outputs": [
        {
          "output_type": "execute_result",
          "data": {
            "text/html": [
              "<div>\n",
              "<style scoped>\n",
              "    .dataframe tbody tr th:only-of-type {\n",
              "        vertical-align: middle;\n",
              "    }\n",
              "\n",
              "    .dataframe tbody tr th {\n",
              "        vertical-align: top;\n",
              "    }\n",
              "\n",
              "    .dataframe thead th {\n",
              "        text-align: right;\n",
              "    }\n",
              "</style>\n",
              "<table border=\"1\" class=\"dataframe\">\n",
              "  <thead>\n",
              "    <tr style=\"text-align: right;\">\n",
              "      <th></th>\n",
              "      <th>longitude</th>\n",
              "      <th>latitude</th>\n",
              "      <th>housing_median_age</th>\n",
              "      <th>total_rooms</th>\n",
              "      <th>total_bedrooms</th>\n",
              "      <th>population</th>\n",
              "      <th>households</th>\n",
              "      <th>median_income</th>\n",
              "      <th>median_house_value</th>\n",
              "      <th>ocean_proximity</th>\n",
              "      <th>income_cat</th>\n",
              "    </tr>\n",
              "  </thead>\n",
              "  <tbody>\n",
              "    <tr>\n",
              "      <th>17606</th>\n",
              "      <td>-121.89</td>\n",
              "      <td>37.29</td>\n",
              "      <td>38.0</td>\n",
              "      <td>1568.0</td>\n",
              "      <td>351.0</td>\n",
              "      <td>710.0</td>\n",
              "      <td>339.0</td>\n",
              "      <td>2.7042</td>\n",
              "      <td>286600.0</td>\n",
              "      <td>&lt;1H OCEAN</td>\n",
              "      <td>2.0</td>\n",
              "    </tr>\n",
              "    <tr>\n",
              "      <th>18632</th>\n",
              "      <td>-121.93</td>\n",
              "      <td>37.05</td>\n",
              "      <td>14.0</td>\n",
              "      <td>679.0</td>\n",
              "      <td>108.0</td>\n",
              "      <td>306.0</td>\n",
              "      <td>113.0</td>\n",
              "      <td>6.4214</td>\n",
              "      <td>340600.0</td>\n",
              "      <td>&lt;1H OCEAN</td>\n",
              "      <td>5.0</td>\n",
              "    </tr>\n",
              "    <tr>\n",
              "      <th>14650</th>\n",
              "      <td>-117.20</td>\n",
              "      <td>32.77</td>\n",
              "      <td>31.0</td>\n",
              "      <td>1952.0</td>\n",
              "      <td>471.0</td>\n",
              "      <td>936.0</td>\n",
              "      <td>462.0</td>\n",
              "      <td>2.8621</td>\n",
              "      <td>196900.0</td>\n",
              "      <td>NEAR OCEAN</td>\n",
              "      <td>2.0</td>\n",
              "    </tr>\n",
              "    <tr>\n",
              "      <th>3230</th>\n",
              "      <td>-119.61</td>\n",
              "      <td>36.31</td>\n",
              "      <td>25.0</td>\n",
              "      <td>1847.0</td>\n",
              "      <td>371.0</td>\n",
              "      <td>1460.0</td>\n",
              "      <td>353.0</td>\n",
              "      <td>1.8839</td>\n",
              "      <td>46300.0</td>\n",
              "      <td>INLAND</td>\n",
              "      <td>2.0</td>\n",
              "    </tr>\n",
              "    <tr>\n",
              "      <th>3555</th>\n",
              "      <td>-118.59</td>\n",
              "      <td>34.23</td>\n",
              "      <td>17.0</td>\n",
              "      <td>6592.0</td>\n",
              "      <td>1525.0</td>\n",
              "      <td>4459.0</td>\n",
              "      <td>1463.0</td>\n",
              "      <td>3.0347</td>\n",
              "      <td>254500.0</td>\n",
              "      <td>&lt;1H OCEAN</td>\n",
              "      <td>3.0</td>\n",
              "    </tr>\n",
              "  </tbody>\n",
              "</table>\n",
              "</div>"
            ],
            "text/plain": [
              "       longitude  latitude  ...  ocean_proximity  income_cat\n",
              "17606    -121.89     37.29  ...        <1H OCEAN         2.0\n",
              "18632    -121.93     37.05  ...        <1H OCEAN         5.0\n",
              "14650    -117.20     32.77  ...       NEAR OCEAN         2.0\n",
              "3230     -119.61     36.31  ...           INLAND         2.0\n",
              "3555     -118.59     34.23  ...        <1H OCEAN         3.0\n",
              "\n",
              "[5 rows x 11 columns]"
            ]
          },
          "metadata": {
            "tags": []
          },
          "execution_count": 67
        }
      ]
    },
    {
      "cell_type": "code",
      "metadata": {
        "colab": {
          "base_uri": "https://localhost:8080/"
        },
        "id": "mPLcS5B_zCSI",
        "outputId": "c7233d06-8e4f-4f78-cc3a-0e99d73fc17b"
      },
      "source": [
        "# 테스트 세트에서 소득 카테고리의 비율 확인\n",
        "strat_test_set[\"income_cat\"].value_counts() / len(strat_test_set)"
      ],
      "execution_count": 68,
      "outputs": [
        {
          "output_type": "execute_result",
          "data": {
            "text/plain": [
              "3.0    0.350594\n",
              "2.0    0.318859\n",
              "4.0    0.176296\n",
              "5.0    0.114402\n",
              "1.0    0.039850\n",
              "Name: income_cat, dtype: float64"
            ]
          },
          "metadata": {
            "tags": []
          },
          "execution_count": 68
        }
      ]
    },
    {
      "cell_type": "code",
      "metadata": {
        "colab": {
          "base_uri": "https://localhost:8080/"
        },
        "id": "9PfrHD3SzqTB",
        "outputId": "d849e773-e736-4f12-93de-0a05156ccb62"
      },
      "source": [
        "# 전체 데이터셋의 소득 카테고리 비율 확인\n",
        "housing[\"income_cat\"].value_counts() / len(housing)"
      ],
      "execution_count": 69,
      "outputs": [
        {
          "output_type": "execute_result",
          "data": {
            "text/plain": [
              "3.0    0.350581\n",
              "2.0    0.318847\n",
              "4.0    0.176308\n",
              "5.0    0.114438\n",
              "1.0    0.039826\n",
              "Name: income_cat, dtype: float64"
            ]
          },
          "metadata": {
            "tags": []
          },
          "execution_count": 69
        }
      ]
    },
    {
      "cell_type": "markdown",
      "metadata": {
        "id": "eHz9fCSS2ZzN"
      },
      "source": [
        "train_test_split에서 stratify 변수 사용한것도 함께 비교해봤음"
      ]
    },
    {
      "cell_type": "code",
      "metadata": {
        "id": "mH4-2_c30DBE"
      },
      "source": [
        "# 비교 그래프\n",
        "def income_cat_proportions(data):\n",
        "    return data[\"income_cat\"].value_counts() / len(data)\n",
        "\n",
        "train_set, test_set = train_test_split(housing, test_size=0.2, random_state=42)\n",
        "\n",
        "train_set2, test_set2 = train_test_split(housing, test_size=0.2, random_state=42, stratify=housing[\"income_cat\"])\n",
        "\n",
        "compare_props = pd.DataFrame({\n",
        "    \"Overall\": income_cat_proportions(housing),\n",
        "    \"Stratified\": income_cat_proportions(strat_test_set),\n",
        "    \"Random\": income_cat_proportions(test_set),\n",
        "    \"Stratified by tts\": income_cat_proportions(test_set2),\n",
        "}).sort_index()  # 인덱스 기준 정렬. 기본값은 오름차순. sort_values() 함수도 있음\n",
        "\n",
        "compare_props[\"Rand. %error\"] = 100 * compare_props[\"Random\"] / compare_props[\"Overall\"] - 100\n",
        "compare_props[\"Strat. %error\"] = 100 * compare_props[\"Stratified\"] / compare_props[\"Overall\"] - 100\n",
        "compare_props[\"StratbyTts. %error\"] = 100 * compare_props[\"Stratified by tts\"] / compare_props[\"Overall\"] - 100"
      ],
      "execution_count": 72,
      "outputs": []
    },
    {
      "cell_type": "code",
      "metadata": {
        "colab": {
          "base_uri": "https://localhost:8080/",
          "height": 206
        },
        "id": "cbburbGb2eXD",
        "outputId": "a4dd978d-ae13-4151-916c-ac8ca642f328"
      },
      "source": [
        "display(compare_props)"
      ],
      "execution_count": 74,
      "outputs": [
        {
          "output_type": "display_data",
          "data": {
            "text/html": [
              "<div>\n",
              "<style scoped>\n",
              "    .dataframe tbody tr th:only-of-type {\n",
              "        vertical-align: middle;\n",
              "    }\n",
              "\n",
              "    .dataframe tbody tr th {\n",
              "        vertical-align: top;\n",
              "    }\n",
              "\n",
              "    .dataframe thead th {\n",
              "        text-align: right;\n",
              "    }\n",
              "</style>\n",
              "<table border=\"1\" class=\"dataframe\">\n",
              "  <thead>\n",
              "    <tr style=\"text-align: right;\">\n",
              "      <th></th>\n",
              "      <th>Overall</th>\n",
              "      <th>Stratified</th>\n",
              "      <th>Random</th>\n",
              "      <th>Stratified by tts</th>\n",
              "      <th>Rand. %error</th>\n",
              "      <th>Strat. %error</th>\n",
              "      <th>StratbyTts. %error</th>\n",
              "    </tr>\n",
              "  </thead>\n",
              "  <tbody>\n",
              "    <tr>\n",
              "      <th>1.0</th>\n",
              "      <td>0.039826</td>\n",
              "      <td>0.039850</td>\n",
              "      <td>0.040213</td>\n",
              "      <td>0.039729</td>\n",
              "      <td>0.973236</td>\n",
              "      <td>0.060827</td>\n",
              "      <td>-0.243309</td>\n",
              "    </tr>\n",
              "    <tr>\n",
              "      <th>2.0</th>\n",
              "      <td>0.318847</td>\n",
              "      <td>0.318859</td>\n",
              "      <td>0.324370</td>\n",
              "      <td>0.318798</td>\n",
              "      <td>1.732260</td>\n",
              "      <td>0.003799</td>\n",
              "      <td>-0.015195</td>\n",
              "    </tr>\n",
              "    <tr>\n",
              "      <th>3.0</th>\n",
              "      <td>0.350581</td>\n",
              "      <td>0.350594</td>\n",
              "      <td>0.358527</td>\n",
              "      <td>0.350533</td>\n",
              "      <td>2.266446</td>\n",
              "      <td>0.003455</td>\n",
              "      <td>-0.013820</td>\n",
              "    </tr>\n",
              "    <tr>\n",
              "      <th>4.0</th>\n",
              "      <td>0.176308</td>\n",
              "      <td>0.176296</td>\n",
              "      <td>0.167393</td>\n",
              "      <td>0.176357</td>\n",
              "      <td>-5.056334</td>\n",
              "      <td>-0.006870</td>\n",
              "      <td>0.027480</td>\n",
              "    </tr>\n",
              "    <tr>\n",
              "      <th>5.0</th>\n",
              "      <td>0.114438</td>\n",
              "      <td>0.114402</td>\n",
              "      <td>0.109496</td>\n",
              "      <td>0.114583</td>\n",
              "      <td>-4.318374</td>\n",
              "      <td>-0.031753</td>\n",
              "      <td>0.127011</td>\n",
              "    </tr>\n",
              "  </tbody>\n",
              "</table>\n",
              "</div>"
            ],
            "text/plain": [
              "      Overall  Stratified  ...  Strat. %error  StratbyTts. %error\n",
              "1.0  0.039826    0.039850  ...       0.060827           -0.243309\n",
              "2.0  0.318847    0.318859  ...       0.003799           -0.015195\n",
              "3.0  0.350581    0.350594  ...       0.003455           -0.013820\n",
              "4.0  0.176308    0.176296  ...      -0.006870            0.027480\n",
              "5.0  0.114438    0.114402  ...      -0.031753            0.127011\n",
              "\n",
              "[5 rows x 7 columns]"
            ]
          },
          "metadata": {
            "tags": []
          }
        }
      ]
    },
    {
      "cell_type": "code",
      "metadata": {
        "id": "hyGUBmmV2gYT"
      },
      "source": [
        "# 데이터 복구\n",
        "for set_ in (strat_train_set, strat_test_set):\n",
        "    set_.drop(\"income_cat\", axis=1, inplace=True)"
      ],
      "execution_count": null,
      "outputs": []
    },
    {
      "cell_type": "markdown",
      "metadata": {
        "id": "X2GN5A6Y3THE"
      },
      "source": [
        "### inplace 옵션\n",
        "판다스에서 inplace는 기본값이 False임.<br/>\n",
        "True이면 변환한 값으로 dataframe을 아예 바꿈(깊은 복사 느낌)<br/>\n",
        "False 값 사용하는게 실수 줄이는데는 좋음"
      ]
    },
    {
      "cell_type": "markdown",
      "metadata": {
        "id": "XKIQMxrr3w2w"
      },
      "source": [
        "# 데이터 이해를 위한 탐색과 시각화"
      ]
    },
    {
      "cell_type": "code",
      "metadata": {
        "id": "CA-fH6Y63lbF"
      },
      "source": [
        ""
      ],
      "execution_count": null,
      "outputs": []
    }
  ]
}