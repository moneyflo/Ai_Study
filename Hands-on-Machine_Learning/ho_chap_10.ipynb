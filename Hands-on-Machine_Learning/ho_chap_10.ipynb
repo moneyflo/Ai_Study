{
  "nbformat": 4,
  "nbformat_minor": 0,
  "metadata": {
    "colab": {
      "name": "ho_chap_10.ipynb",
      "provenance": []
    },
    "kernelspec": {
      "name": "python3",
      "display_name": "Python 3"
    },
    "language_info": {
      "name": "python"
    }
  },
  "cells": [
    {
      "cell_type": "markdown",
      "metadata": {
        "id": "t4H-7U_9OZfC"
      },
      "source": [
        "# Chapter 10 케라스를 사용한 인공 신경망 소개"
      ]
    },
    {
      "cell_type": "code",
      "metadata": {
        "id": "z5eCU789OTkX"
      },
      "source": [
        "# 기본설정\n",
        "\n",
        "# 파이썬 버전 확인\n",
        "import sys\n",
        "assert sys.version_info >= (3, 5)\n",
        "\n",
        "# 사이킷런 버전 확인\n",
        "import sklearn\n",
        "assert sklearn.__version__ >= \"0.20\"\n",
        "\n",
        "# 공동 모듈 임포트\n",
        "import numpy as np\n",
        "import os\n",
        "\n",
        "# 그래프 출력 설정\n",
        "%matplotlib inline\n",
        "# 위에꺼는 구버전에서 설정해야 되는거였음 설정안해도됨\n",
        "import matplotlib as mpl\n",
        "import matplotlib.pyplot as plt\n",
        "mpl.rc('axes', labelsize=14)\n",
        "mpl.rc('xtick', labelsize=12)\n",
        "mpl.rc('ytick', labelsize=12)\n",
        "\n",
        "# 그림 저장할 위치\n",
        "PROJECT_ROOT_DIR = \".\"\n",
        "CHAPTER_ID = \"ho_chap_10\"\n",
        "IMAGES_PATH = os.path.join(PROJECT_ROOT_DIR, \"images\", CHAPTER_ID)\n",
        "os.makedirs(IMAGES_PATH, exist_ok=True)   # exist_ok=True 폴더가 없으면 생성\n",
        "\n",
        "def save_fig(fig_id, tight_layout=True, fig_extension=\"png\", resolution=300):\n",
        "    path = os.path.join(IMAGES_PATH, fig_id + \".\" + fig_extension)\n",
        "    print(\"그림 저장:\", fig_id)\n",
        "    if tight_layout:\n",
        "        plt.tight_layout()  # 입력없이 사용할 경우 기존에 세팅된 기본값으로 자동 레이아웃 설정\n",
        "    plt.savefig(path, format=fig_extension, dpi=resolution)  # dpi값 설정을 통해 고해상도 그래프 그리기 가능"
      ],
      "execution_count": 1,
      "outputs": []
    },
    {
      "cell_type": "markdown",
      "metadata": {
        "id": "Qqh_R-uZbDON"
      },
      "source": [
        "### 10.1.3 퍼셉트론"
      ]
    },
    {
      "cell_type": "code",
      "metadata": {
        "id": "FLWRPMh_PUtv"
      },
      "source": [
        "# 퍼셉트론\n",
        "from sklearn.datasets import load_iris\n",
        "from sklearn.linear_model import Perceptron\n",
        "\n",
        "iris = load_iris()\n",
        "X = iris.data[:, (2,3)] # 꽃잎의 길이와 너비\n",
        "y = (iris.target == 0).astype(np.int)  # 부채붓꽃(iris Setosa)인가?\n",
        "\n",
        "per_clf = Perceptron()\n",
        "per_clf.fit(X, y)\n",
        "\n",
        "y_pred = per_clf.predict([[2, 0.5]])"
      ],
      "execution_count": 4,
      "outputs": []
    },
    {
      "cell_type": "code",
      "metadata": {
        "colab": {
          "base_uri": "https://localhost:8080/"
        },
        "id": "OuDyMQk1b-ET",
        "outputId": "c066a419-72fd-48b2-b09d-a5216cdbe5b0"
      },
      "source": [
        "y_pred"
      ],
      "execution_count": 5,
      "outputs": [
        {
          "output_type": "execute_result",
          "data": {
            "text/plain": [
              "array([0])"
            ]
          },
          "metadata": {},
          "execution_count": 5
        }
      ]
    },
    {
      "cell_type": "code",
      "metadata": {
        "colab": {
          "base_uri": "https://localhost:8080/",
          "height": 316
        },
        "id": "Dkf5BPg3b_AY",
        "outputId": "c43ad3dd-b769-4db5-af72-b2c86182436b"
      },
      "source": [
        "a = -per_clf.coef_[0][0] / per_clf.coef_[0][1]\n",
        "b = -per_clf.intercept_ / per_clf.coef_[0][1]\n",
        "\n",
        "axes = [0, 5, 0, 2]\n",
        "\n",
        "x0, x1 = np.meshgrid(\n",
        "        np.linspace(axes[0], axes[1], 500).reshape(-1, 1),\n",
        "        np.linspace(axes[2], axes[3], 200).reshape(-1, 1),\n",
        "    )\n",
        "X_new = np.c_[x0.ravel(), x1.ravel()]\n",
        "y_predict = per_clf.predict(X_new)\n",
        "zz = y_predict.reshape(x0.shape)\n",
        "\n",
        "plt.figure(figsize=(10, 4))\n",
        "plt.plot(X[y==0, 0], X[y==0, 1], \"bs\", label=\"Not Iris-Setosa\")\n",
        "plt.plot(X[y==1, 0], X[y==1, 1], \"yo\", label=\"Iris-Setosa\")\n",
        "\n",
        "plt.plot([axes[0], axes[1]], [a * axes[0] + b, a * axes[1] + b], \"k-\", linewidth=3)\n",
        "from matplotlib.colors import ListedColormap\n",
        "custom_cmap = ListedColormap(['#9898ff', '#fafab0'])\n",
        "\n",
        "plt.contourf(x0, x1, zz, cmap=custom_cmap)\n",
        "plt.xlabel(\"Petal length\", fontsize=14)\n",
        "plt.ylabel(\"Petal width\", fontsize=14)\n",
        "plt.legend(loc=\"lower right\", fontsize=14)\n",
        "plt.axis(axes)\n",
        "\n",
        "save_fig(\"perceptron_iris_plot\")\n",
        "plt.show()"
      ],
      "execution_count": 6,
      "outputs": [
        {
          "output_type": "stream",
          "name": "stdout",
          "text": [
            "그림 저장: perceptron_iris_plot\n"
          ]
        },
        {
          "output_type": "display_data",
          "data": {
            "image/png": "[encoded data removed]",
            "text/plain": [
              "<Figure size 720x288 with 1 Axes>"
            ]
          },
          "metadata": {
            "needs_background": "light"
          }
        }
      ]
    },
    {
      "cell_type": "markdown",
      "metadata": {
        "id": "W_sx-v-EknWz"
      },
      "source": [
        "## 10.2 케라스로 다층 퍼셉트론 구현하기"
      ]
    },
    {
      "cell_type": "code",
      "metadata": {
        "colab": {
          "base_uri": "https://localhost:8080/"
        },
        "id": "-oEn9AdLnHzf",
        "outputId": "bdb9503f-322d-4785-e69a-7bd2d08850e9"
      },
      "source": [
        "# 모듈 임포트\n",
        "import tensorflow as tf\n",
        "from tensorflow import keras\n",
        "\n",
        "print(f\"tensorflow ver : {tf.__version__}, keras ver : {keras.__version__}\")"
      ],
      "execution_count": 7,
      "outputs": [
        {
          "output_type": "stream",
          "name": "stdout",
          "text": [
            "tensorflow ver : 2.6.0, keras ver : 2.6.0\n"
          ]
        }
      ]
    },
    {
      "cell_type": "markdown",
      "metadata": {
        "id": "dtt87KNIm2sy"
      },
      "source": [
        "### 10.2.2 시퀀셜 API를 사용하여 이미지 분류기 만들기"
      ]
    },
    {
      "cell_type": "markdown",
      "metadata": {
        "id": "2joQbtdJnAfw"
      },
      "source": [
        "데이터셋 적재하기"
      ]
    },
    {
      "cell_type": "code",
      "metadata": {
        "colab": {
          "base_uri": "https://localhost:8080/"
        },
        "id": "mMl_A_C_cCbv",
        "outputId": "d04ec067-c336-4e22-d9dc-4d78b69a426d"
      },
      "source": [
        "fashion_mnist = keras.datasets.fashion_mnist\n",
        "(X_train_full, y_train_full), (X_test, y_test) = fashion_mnist.load_data()"
      ],
      "execution_count": 8,
      "outputs": [
        {
          "output_type": "stream",
          "name": "stdout",
          "text": [
            "Downloading data from https://storage.googleapis.com/tensorflow/tf-keras-datasets/train-labels-idx1-ubyte.gz\n",
            "32768/29515 [=================================] - 0s 0us/step\n",
            "40960/29515 [=========================================] - 0s 0us/step\n",
            "Downloading data from https://storage.googleapis.com/tensorflow/tf-keras-datasets/train-images-idx3-ubyte.gz\n",
            "26427392/26421880 [==============================] - 0s 0us/step\n",
            "26435584/26421880 [==============================] - 0s 0us/step\n",
            "Downloading data from https://storage.googleapis.com/tensorflow/tf-keras-datasets/t10k-labels-idx1-ubyte.gz\n",
            "16384/5148 [===============================================================================================] - 0s 0us/step\n",
            "Downloading data from https://storage.googleapis.com/tensorflow/tf-keras-datasets/t10k-images-idx3-ubyte.gz\n",
            "4423680/4422102 [==============================] - 0s 0us/step\n",
            "4431872/4422102 [==============================] - 0s 0us/step\n"
          ]
        }
      ]
    },
    {
      "cell_type": "markdown",
      "metadata": {
        "id": "vNCJDDPnnu4d"
      },
      "source": [
        "사이킷런과는 다르게 28x28 크기의 배열로 되어있고 정수값으로 표현되어있음"
      ]
    },
    {
      "cell_type": "code",
      "metadata": {
        "colab": {
          "base_uri": "https://localhost:8080/"
        },
        "id": "40TfEiKsnpdx",
        "outputId": "1a0be378-f166-4d77-c82e-8ad077ae50f3"
      },
      "source": [
        "X_train_full.shape"
      ],
      "execution_count": 9,
      "outputs": [
        {
          "output_type": "execute_result",
          "data": {
            "text/plain": [
              "(60000, 28, 28)"
            ]
          },
          "metadata": {},
          "execution_count": 9
        }
      ]
    },
    {
      "cell_type": "code",
      "metadata": {
        "colab": {
          "base_uri": "https://localhost:8080/"
        },
        "id": "ZHHtollXn3Rv",
        "outputId": "6492d03f-6739-4e34-cbd9-308666ed938e"
      },
      "source": [
        "X_train_full.dtype"
      ],
      "execution_count": 10,
      "outputs": [
        {
          "output_type": "execute_result",
          "data": {
            "text/plain": [
              "dtype('uint8')"
            ]
          },
          "metadata": {},
          "execution_count": 10
        }
      ]
    },
    {
      "cell_type": "markdown",
      "metadata": {
        "id": "18kufsgtn8oj"
      },
      "source": [
        "검증세트 나누고 간단한 전처리"
      ]
    },
    {
      "cell_type": "code",
      "metadata": {
        "id": "m2ZQYNFun4vd"
      },
      "source": [
        "X_val, X_train = X_train_full[:5000] / 255.0, X_train_full[5000:] / 255.0\n",
        "y_val, y_train = y_train_full[:5000], y_train_full[5000:]\n",
        "X_test = X_test / 255.0"
      ],
      "execution_count": 11,
      "outputs": []
    },
    {
      "cell_type": "markdown",
      "metadata": {
        "id": "NoqrnZwuoWMZ"
      },
      "source": [
        "보기좋게 클래스 이름 리스트 만들기"
      ]
    },
    {
      "cell_type": "code",
      "metadata": {
        "id": "gmxUI7U7oQ5X"
      },
      "source": [
        "class_names = [\"T-shirt/top\", \"Trouser\", \"Pullover\", \"Dress\", \"Coat\",\n",
        "               \"Sandal\", \"Shirt\", \"Sneaker\", \"Bag\", \"Ankle boot\"]"
      ],
      "execution_count": 12,
      "outputs": []
    },
    {
      "cell_type": "code",
      "metadata": {
        "colab": {
          "base_uri": "https://localhost:8080/",
          "height": 36
        },
        "id": "3e3wec24oovw",
        "outputId": "6a3e7e4b-9c79-48b5-8d30-562b3bc502e8"
      },
      "source": [
        "class_names[y_train[0]]"
      ],
      "execution_count": 13,
      "outputs": [
        {
          "output_type": "execute_result",
          "data": {
            "application/vnd.google.colaboratory.intrinsic+json": {
              "type": "string"
            },
            "text/plain": [
              "'Coat'"
            ]
          },
          "metadata": {},
          "execution_count": 13
        }
      ]
    },
    {
      "cell_type": "code",
      "metadata": {
        "colab": {
          "base_uri": "https://localhost:8080/",
          "height": 264
        },
        "id": "cHGBffulotWZ",
        "outputId": "ee4f7cde-76d0-4e37-8fb7-d15d489fe60d"
      },
      "source": [
        "plt.imshow(X_train[0], cmap='gray_r')\n",
        "plt.axis('off')\n",
        "plt.title(class_names[y_train[0]])\n",
        "plt.show()"
      ],
      "execution_count": 15,
      "outputs": [
        {
          "output_type": "display_data",
          "data": {
            "image/png": "[encoded data removed]",
            "text/plain": [
              "<Figure size 432x288 with 1 Axes>"
            ]
          },
          "metadata": {
            "needs_background": "light"
          }
        }
      ]
    },
    {
      "cell_type": "code",
      "metadata": {
        "colab": {
          "base_uri": "https://localhost:8080/",
          "height": 327
        },
        "id": "XgNRESWyo_Mn",
        "outputId": "df15b407-329c-4d88-ab11-e49ec50bd211"
      },
      "source": [
        "n_rows = 4\n",
        "n_cols = 10\n",
        "plt.figure(figsize=(n_cols * 1.2, n_rows * 1.2))\n",
        "for row in range(n_rows):\n",
        "    for col in range(n_cols):\n",
        "        index = n_cols * row + col\n",
        "        plt.subplot(n_rows, n_cols, index + 1)\n",
        "        plt.imshow(X_train[index], cmap=\"binary\", interpolation=\"nearest\")\n",
        "        plt.axis('off')\n",
        "        plt.title(class_names[y_train[index]], fontsize=12)\n",
        "plt.subplots_adjust(wspace=0.2, hspace=0.5)\n",
        "save_fig('fashion_mnist_plot', tight_layout=False)\n",
        "plt.show()"
      ],
      "execution_count": 16,
      "outputs": [
        {
          "output_type": "stream",
          "name": "stdout",
          "text": [
            "그림 저장: fashion_mnist_plot\n"
          ]
        },
        {
          "output_type": "display_data",
          "data": {
            "image/png": "[encoded data removed]",
            "text/plain": [
              "<Figure size 864x345.6 with 40 Axes>"
            ]
          },
          "metadata": {
            "needs_background": "light"
          }
        }
      ]
    },
    {
      "cell_type": "markdown",
      "metadata": {
        "id": "aarNsXl1pTqo"
      },
      "source": [
        "두 개의 은닉층으로 이루어진 분류용 다층 퍼셉트론"
      ]
    },
    {
      "cell_type": "code",
      "metadata": {
        "id": "YlTV_IpCpLRP"
      },
      "source": [
        "model = keras.models.Sequential()\n",
        "model.add(keras.layers.Flatten(input_shape=[28, 28]))\n",
        "model.add(keras.layers.Dense(300, activation=\"relu\"))\n",
        "model.add(keras.layers.Dense(100, activation=\"relu\"))\n",
        "model.add(keras.layers.Dense(10, activation=\"softmax\"))"
      ],
      "execution_count": 18,
      "outputs": []
    },
    {
      "cell_type": "markdown",
      "metadata": {
        "id": "wgYWCU4VslN8"
      },
      "source": [
        "리스트로 한번에 전달도 가능"
      ]
    },
    {
      "cell_type": "code",
      "metadata": {
        "id": "TnZFZ8Pfp001"
      },
      "source": [
        "model = keras.models.Sequential([\n",
        "    keras.layers.Flatten(input_shape=[28, 28]),\n",
        "    keras.layers.Dense(300, activation=\"relu\"),\n",
        "    keras.layers.Dense(100, activation=\"relu\"),\n",
        "    keras.layers.Dense(10, activation=\"softmax\")\n",
        "])"
      ],
      "execution_count": 19,
      "outputs": []
    },
    {
      "cell_type": "code",
      "metadata": {
        "colab": {
          "base_uri": "https://localhost:8080/"
        },
        "id": "8BjNMIrBtBWP",
        "outputId": "e11213f2-549c-4cfe-fd7b-844aa5b8a312"
      },
      "source": [
        "model.summary()"
      ],
      "execution_count": 21,
      "outputs": [
        {
          "output_type": "stream",
          "name": "stdout",
          "text": [
            "Model: \"sequential_1\"\n",
            "_________________________________________________________________\n",
            "Layer (type)                 Output Shape              Param #   \n",
            "=================================================================\n",
            "flatten_1 (Flatten)          (None, 784)               0         \n",
            "_________________________________________________________________\n",
            "dense_3 (Dense)              (None, 300)               235500    \n",
            "_________________________________________________________________\n",
            "dense_4 (Dense)              (None, 100)               30100     \n",
            "_________________________________________________________________\n",
            "dense_5 (Dense)              (None, 10)                1010      \n",
            "=================================================================\n",
            "Total params: 266,610\n",
            "Trainable params: 266,610\n",
            "Non-trainable params: 0\n",
            "_________________________________________________________________\n"
          ]
        }
      ]
    },
    {
      "cell_type": "code",
      "metadata": {
        "colab": {
          "base_uri": "https://localhost:8080/",
          "height": 466
        },
        "id": "qYHrt2oLtgZF",
        "outputId": "184589ea-d12e-425a-bea3-10ed196e019c"
      },
      "source": [
        "keras.utils.plot_model(model)"
      ],
      "execution_count": 22,
      "outputs": [
        {
          "output_type": "execute_result",
          "data": {
            "image/png": "[encoded data removed]",
            "text/plain": [
              "<IPython.core.display.Image object>"
            ]
          },
          "metadata": {},
          "execution_count": 22
        }
      ]
    },
    {
      "cell_type": "markdown",
      "metadata": {
        "id": "acfYUnPFuLXG"
      },
      "source": [
        "모델의 층의 리스트를 출력하거나 인덱스로 층을 쉽게 선택가능. 이름으로도 가능"
      ]
    },
    {
      "cell_type": "code",
      "metadata": {
        "colab": {
          "base_uri": "https://localhost:8080/"
        },
        "id": "xOcpUNGEtll8",
        "outputId": "8f98028f-fe5e-41bc-f9cf-9cb372bf0c9e"
      },
      "source": [
        "model.layers"
      ],
      "execution_count": 23,
      "outputs": [
        {
          "output_type": "execute_result",
          "data": {
            "text/plain": [
              "[<keras.layers.core.Flatten at 0x7f724a3d8fd0>,\n",
              " <keras.layers.core.Dense at 0x7f724a31d290>,\n",
              " <keras.layers.core.Dense at 0x7f724a3ef490>,\n",
              " <keras.layers.core.Dense at 0x7f724a3fa490>]"
            ]
          },
          "metadata": {},
          "execution_count": 23
        }
      ]
    },
    {
      "cell_type": "code",
      "metadata": {
        "colab": {
          "base_uri": "https://localhost:8080/",
          "height": 36
        },
        "id": "RKEyMuqkuSDA",
        "outputId": "c4a6dc85-80b4-4459-8e4f-d84788e48caf"
      },
      "source": [
        "hidden1 = model.layers[1]\n",
        "hidden1.name"
      ],
      "execution_count": 25,
      "outputs": [
        {
          "output_type": "execute_result",
          "data": {
            "application/vnd.google.colaboratory.intrinsic+json": {
              "type": "string"
            },
            "text/plain": [
              "'dense_3'"
            ]
          },
          "metadata": {},
          "execution_count": 25
        }
      ]
    },
    {
      "cell_type": "code",
      "metadata": {
        "colab": {
          "base_uri": "https://localhost:8080/"
        },
        "id": "jOwNYCOKubxJ",
        "outputId": "666f4e75-3c5e-461f-b9b4-1208409f255e"
      },
      "source": [
        "model.get_layer('dense_3') is hidden1"
      ],
      "execution_count": 26,
      "outputs": [
        {
          "output_type": "execute_result",
          "data": {
            "text/plain": [
              "True"
            ]
          },
          "metadata": {},
          "execution_count": 26
        }
      ]
    },
    {
      "cell_type": "markdown",
      "metadata": {
        "id": "bmQWKeLNuk_H"
      },
      "source": [
        "층의 파라미터에 접근\n",
        "* get_weights, set_weights"
      ]
    },
    {
      "cell_type": "code",
      "metadata": {
        "colab": {
          "base_uri": "https://localhost:8080/"
        },
        "id": "ivhCM0RHujHd",
        "outputId": "6dd9689c-c8e3-4c70-c866-6396080f8ef8"
      },
      "source": [
        "weights, biases = hidden1.get_weights()\n",
        "print(weights)\n",
        "print(weights.shape)"
      ],
      "execution_count": 28,
      "outputs": [
        {
          "output_type": "stream",
          "name": "stdout",
          "text": [
            "[[ 0.02028063  0.00311099  0.0106412  ...  0.05619296  0.06294131\n",
            "   0.01105696]\n",
            " [-0.02231183  0.03227018  0.00142422 ...  0.03665423  0.05555885\n",
            "  -0.01932924]\n",
            " [ 0.01029805  0.06975855 -0.01380653 ...  0.04077256  0.00292934\n",
            "   0.04012084]\n",
            " ...\n",
            " [-0.04109027  0.04923691 -0.04630665 ...  0.00551988  0.03999264\n",
            "  -0.06277767]\n",
            " [ 0.04149239 -0.043562   -0.00751697 ... -0.05015212 -0.03525118\n",
            "   0.00453213]\n",
            " [-0.01132245 -0.04277583  0.00954619 ...  0.00836945  0.03861325\n",
            "   0.00796969]]\n",
            "(784, 300)\n"
          ]
        }
      ]
    },
    {
      "cell_type": "code",
      "metadata": {
        "colab": {
          "base_uri": "https://localhost:8080/"
        },
        "id": "SsUgxaMQvLEl",
        "outputId": "cbb0bc92-4a7b-4456-a1cb-86e0a0d60ee0"
      },
      "source": [
        "print(biases)\n",
        "print(biases.shape)"
      ],
      "execution_count": 29,
      "outputs": [
        {
          "output_type": "stream",
          "name": "stdout",
          "text": [
            "[0. 0. 0. 0. 0. 0. 0. 0. 0. 0. 0. 0. 0. 0. 0. 0. 0. 0. 0. 0. 0. 0. 0. 0.\n",
            " 0. 0. 0. 0. 0. 0. 0. 0. 0. 0. 0. 0. 0. 0. 0. 0. 0. 0. 0. 0. 0. 0. 0. 0.\n",
            " 0. 0. 0. 0. 0. 0. 0. 0. 0. 0. 0. 0. 0. 0. 0. 0. 0. 0. 0. 0. 0. 0. 0. 0.\n",
            " 0. 0. 0. 0. 0. 0. 0. 0. 0. 0. 0. 0. 0. 0. 0. 0. 0. 0. 0. 0. 0. 0. 0. 0.\n",
            " 0. 0. 0. 0. 0. 0. 0. 0. 0. 0. 0. 0. 0. 0. 0. 0. 0. 0. 0. 0. 0. 0. 0. 0.\n",
            " 0. 0. 0. 0. 0. 0. 0. 0. 0. 0. 0. 0. 0. 0. 0. 0. 0. 0. 0. 0. 0. 0. 0. 0.\n",
            " 0. 0. 0. 0. 0. 0. 0. 0. 0. 0. 0. 0. 0. 0. 0. 0. 0. 0. 0. 0. 0. 0. 0. 0.\n",
            " 0. 0. 0. 0. 0. 0. 0. 0. 0. 0. 0. 0. 0. 0. 0. 0. 0. 0. 0. 0. 0. 0. 0. 0.\n",
            " 0. 0. 0. 0. 0. 0. 0. 0. 0. 0. 0. 0. 0. 0. 0. 0. 0. 0. 0. 0. 0. 0. 0. 0.\n",
            " 0. 0. 0. 0. 0. 0. 0. 0. 0. 0. 0. 0. 0. 0. 0. 0. 0. 0. 0. 0. 0. 0. 0. 0.\n",
            " 0. 0. 0. 0. 0. 0. 0. 0. 0. 0. 0. 0. 0. 0. 0. 0. 0. 0. 0. 0. 0. 0. 0. 0.\n",
            " 0. 0. 0. 0. 0. 0. 0. 0. 0. 0. 0. 0. 0. 0. 0. 0. 0. 0. 0. 0. 0. 0. 0. 0.\n",
            " 0. 0. 0. 0. 0. 0. 0. 0. 0. 0. 0. 0.]\n",
            "(300,)\n"
          ]
        }
      ]
    },
    {
      "cell_type": "markdown",
      "metadata": {
        "id": "Eu4eRtjNwD4I"
      },
      "source": [
        "모델 컴파일"
      ]
    },
    {
      "cell_type": "code",
      "metadata": {
        "id": "fE24p-FgvcAU"
      },
      "source": [
        "model.compile(loss=\"sparse_categorical_crossentropy\",\n",
        "              optimizer=\"sgd\",\n",
        "              metrics=[\"accuracy\"])"
      ],
      "execution_count": 32,
      "outputs": []
    },
    {
      "cell_type": "markdown",
      "metadata": {
        "id": "S9qw8khtyx9H"
      },
      "source": [
        "모델 훈련과 평가"
      ]
    },
    {
      "cell_type": "code",
      "metadata": {
        "colab": {
          "base_uri": "https://localhost:8080/"
        },
        "id": "8jvJUw9UwTNT",
        "outputId": "91e3ce44-4a06-478c-9907-7a7290c004b9"
      },
      "source": [
        "history = model.fit(X_train, y_train, epochs=30,\n",
        "                    validation_data=(X_val, y_val))"
      ],
      "execution_count": 33,
      "outputs": [
        {
          "output_type": "stream",
          "name": "stdout",
          "text": [
            "Epoch 1/30\n",
            "1719/1719 [==============================] - 5s 2ms/step - loss: 0.7211 - accuracy: 0.7609 - val_loss: 0.5312 - val_accuracy: 0.8174\n",
            "Epoch 2/30\n",
            "1719/1719 [==============================] - 4s 2ms/step - loss: 0.4904 - accuracy: 0.8286 - val_loss: 0.4803 - val_accuracy: 0.8294\n",
            "Epoch 3/30\n",
            "1719/1719 [==============================] - 4s 2ms/step - loss: 0.4446 - accuracy: 0.8437 - val_loss: 0.4116 - val_accuracy: 0.8584\n",
            "Epoch 4/30\n",
            "1719/1719 [==============================] - 4s 2ms/step - loss: 0.4162 - accuracy: 0.8538 - val_loss: 0.3976 - val_accuracy: 0.8654\n",
            "Epoch 5/30\n",
            "1719/1719 [==============================] - 4s 2ms/step - loss: 0.3956 - accuracy: 0.8609 - val_loss: 0.3967 - val_accuracy: 0.8598\n",
            "Epoch 6/30\n",
            "1719/1719 [==============================] - 4s 2ms/step - loss: 0.3793 - accuracy: 0.8658 - val_loss: 0.3702 - val_accuracy: 0.8716\n",
            "Epoch 7/30\n",
            "1719/1719 [==============================] - 4s 2ms/step - loss: 0.3653 - accuracy: 0.8706 - val_loss: 0.3669 - val_accuracy: 0.8730\n",
            "Epoch 8/30\n",
            "1719/1719 [==============================] - 4s 2ms/step - loss: 0.3539 - accuracy: 0.8746 - val_loss: 0.3901 - val_accuracy: 0.8614\n",
            "Epoch 9/30\n",
            "1719/1719 [==============================] - 4s 2ms/step - loss: 0.3432 - accuracy: 0.8783 - val_loss: 0.3637 - val_accuracy: 0.8714\n",
            "Epoch 10/30\n",
            "1719/1719 [==============================] - 4s 2ms/step - loss: 0.3332 - accuracy: 0.8802 - val_loss: 0.3660 - val_accuracy: 0.8728\n",
            "Epoch 11/30\n",
            "1719/1719 [==============================] - 4s 2ms/step - loss: 0.3252 - accuracy: 0.8841 - val_loss: 0.3362 - val_accuracy: 0.8822\n",
            "Epoch 12/30\n",
            "1719/1719 [==============================] - 4s 2ms/step - loss: 0.3180 - accuracy: 0.8861 - val_loss: 0.3440 - val_accuracy: 0.8792\n",
            "Epoch 13/30\n",
            "1719/1719 [==============================] - 4s 2ms/step - loss: 0.3101 - accuracy: 0.8893 - val_loss: 0.3357 - val_accuracy: 0.8836\n",
            "Epoch 14/30\n",
            "1719/1719 [==============================] - 4s 2ms/step - loss: 0.3032 - accuracy: 0.8916 - val_loss: 0.3421 - val_accuracy: 0.8756\n",
            "Epoch 15/30\n",
            "1719/1719 [==============================] - 4s 2ms/step - loss: 0.2968 - accuracy: 0.8936 - val_loss: 0.3296 - val_accuracy: 0.8808\n",
            "Epoch 16/30\n",
            "1719/1719 [==============================] - 4s 2ms/step - loss: 0.2906 - accuracy: 0.8955 - val_loss: 0.3181 - val_accuracy: 0.8864\n",
            "Epoch 17/30\n",
            "1719/1719 [==============================] - 4s 2ms/step - loss: 0.2847 - accuracy: 0.8981 - val_loss: 0.3308 - val_accuracy: 0.8814\n",
            "Epoch 18/30\n",
            "1719/1719 [==============================] - 4s 2ms/step - loss: 0.2800 - accuracy: 0.8987 - val_loss: 0.3182 - val_accuracy: 0.8852\n",
            "Epoch 19/30\n",
            "1719/1719 [==============================] - 4s 2ms/step - loss: 0.2731 - accuracy: 0.9010 - val_loss: 0.3239 - val_accuracy: 0.8830\n",
            "Epoch 20/30\n",
            "1719/1719 [==============================] - 4s 2ms/step - loss: 0.2697 - accuracy: 0.9033 - val_loss: 0.3193 - val_accuracy: 0.8822\n",
            "Epoch 21/30\n",
            "1719/1719 [==============================] - 4s 2ms/step - loss: 0.2637 - accuracy: 0.9054 - val_loss: 0.3043 - val_accuracy: 0.8890\n",
            "Epoch 22/30\n",
            "1719/1719 [==============================] - 4s 2ms/step - loss: 0.2597 - accuracy: 0.9066 - val_loss: 0.3137 - val_accuracy: 0.8884\n",
            "Epoch 23/30\n",
            "1719/1719 [==============================] - 4s 2ms/step - loss: 0.2553 - accuracy: 0.9081 - val_loss: 0.3006 - val_accuracy: 0.8930\n",
            "Epoch 24/30\n",
            "1719/1719 [==============================] - 4s 2ms/step - loss: 0.2502 - accuracy: 0.9090 - val_loss: 0.3000 - val_accuracy: 0.8948\n",
            "Epoch 25/30\n",
            "1719/1719 [==============================] - 4s 2ms/step - loss: 0.2462 - accuracy: 0.9108 - val_loss: 0.2946 - val_accuracy: 0.8938\n",
            "Epoch 26/30\n",
            "1719/1719 [==============================] - 4s 2ms/step - loss: 0.2416 - accuracy: 0.9124 - val_loss: 0.3110 - val_accuracy: 0.8866\n",
            "Epoch 27/30\n",
            "1719/1719 [==============================] - 4s 2ms/step - loss: 0.2374 - accuracy: 0.9145 - val_loss: 0.3027 - val_accuracy: 0.8910\n",
            "Epoch 28/30\n",
            "1719/1719 [==============================] - 4s 2ms/step - loss: 0.2335 - accuracy: 0.9164 - val_loss: 0.2981 - val_accuracy: 0.8940\n",
            "Epoch 29/30\n",
            "1719/1719 [==============================] - 4s 2ms/step - loss: 0.2299 - accuracy: 0.9174 - val_loss: 0.3014 - val_accuracy: 0.8944\n",
            "Epoch 30/30\n",
            "1719/1719 [==============================] - 4s 2ms/step - loss: 0.2262 - accuracy: 0.9186 - val_loss: 0.3063 - val_accuracy: 0.8914\n"
          ]
        }
      ]
    },
    {
      "cell_type": "markdown",
      "metadata": {
        "id": "LEfUuQWb0XQe"
      },
      "source": [
        "validation_split 매개변수를 통해 검증세트를 수동으로 나눌 필요없이도 만들수도 있음"
      ]
    },
    {
      "cell_type": "markdown",
      "metadata": {
        "id": "0bnRRjj907sb"
      },
      "source": [
        "class_weight 나 sample_weight 매개변수로 가중치부여가능"
      ]
    },
    {
      "cell_type": "markdown",
      "metadata": {
        "id": "uKmpRYr-1YZ2"
      },
      "source": [
        "학습곡선"
      ]
    },
    {
      "cell_type": "code",
      "metadata": {
        "colab": {
          "base_uri": "https://localhost:8080/",
          "height": 328
        },
        "id": "gCDyeDZBy6gz",
        "outputId": "e9d39249-a71c-4bb1-b3a8-851484ec294c"
      },
      "source": [
        "import pandas as pd\n",
        "\n",
        "pd.DataFrame(history.history).plot(figsize=(8, 5))\n",
        "plt.grid(True)\n",
        "plt.gca().set_ylim(0, 1)  # 수직축의 범위를 [0-1] 사이로 설정\n",
        "plt.show()"
      ],
      "execution_count": 35,
      "outputs": [
        {
          "output_type": "display_data",
          "data": {
            "image/png": "[encoded data removed]",
            "text/plain": [
              "<Figure size 576x360 with 1 Axes>"
            ]
          },
          "metadata": {
            "needs_background": "light"
          }
        }
      ]
    },
    {
      "cell_type": "markdown",
      "metadata": {
        "id": "nPWBeNGZ2E9s"
      },
      "source": [
        "훈련 곡선을 볼 때 왼쪽으로 에포크의 절반만큼 이동해서 생각"
      ]
    },
    {
      "cell_type": "markdown",
      "metadata": {
        "id": "sGsU1CIH2RyJ"
      },
      "source": [
        "모델 성능이 만족스럽지 않을때\n",
        "* 학습률 확인 -> optim 변경 -> 층 개수, 층의 뉴런 개수, 은닉층이 사용하는 활성화 함수, 배치 크기"
      ]
    },
    {
      "cell_type": "markdown",
      "metadata": {
        "id": "YjWsEomH2mZI"
      },
      "source": [
        "모델 평가 (일반화 오차 추정)"
      ]
    },
    {
      "cell_type": "code",
      "metadata": {
        "colab": {
          "base_uri": "https://localhost:8080/"
        },
        "id": "zGNJX1ey1sRu",
        "outputId": "5e0a3c5d-a468-444b-e50a-dd30f8a633ca"
      },
      "source": [
        "model.evaluate(X_test, y_test)"
      ],
      "execution_count": 36,
      "outputs": [
        {
          "output_type": "stream",
          "name": "stdout",
          "text": [
            "313/313 [==============================] - 0s 1ms/step - loss: 0.3323 - accuracy: 0.8819\n"
          ]
        },
        {
          "output_type": "execute_result",
          "data": {
            "text/plain": [
              "[0.3323347270488739, 0.8819000124931335]"
            ]
          },
          "metadata": {},
          "execution_count": 36
        }
      ]
    },
    {
      "cell_type": "markdown",
      "metadata": {
        "id": "xbSiAye221oT"
      },
      "source": [
        "모델을 사용해 예측 만들기"
      ]
    },
    {
      "cell_type": "code",
      "metadata": {
        "colab": {
          "base_uri": "https://localhost:8080/"
        },
        "id": "9G3Osn8W2saA",
        "outputId": "447f8f25-7522-4596-cd02-618cba0a5143"
      },
      "source": [
        "# 모든 클래스에 대한 확률\n",
        "X_new = X_test[:3]\n",
        "y_proba = model.predict(X_new)\n",
        "y_proba.round(2)"
      ],
      "execution_count": 38,
      "outputs": [
        {
          "output_type": "execute_result",
          "data": {
            "text/plain": [
              "array([[0.  , 0.  , 0.  , 0.  , 0.  , 0.01, 0.  , 0.02, 0.  , 0.97],\n",
              "       [0.  , 0.  , 0.99, 0.  , 0.01, 0.  , 0.  , 0.  , 0.  , 0.  ],\n",
              "       [0.  , 1.  , 0.  , 0.  , 0.  , 0.  , 0.  , 0.  , 0.  , 0.  ]],\n",
              "      dtype=float32)"
            ]
          },
          "metadata": {},
          "execution_count": 38
        }
      ]
    },
    {
      "cell_type": "code",
      "metadata": {
        "colab": {
          "base_uri": "https://localhost:8080/"
        },
        "id": "__44POPV2_QD",
        "outputId": "1976604b-7033-4eb9-fd52-5ca6aefd2bdd"
      },
      "source": [
        "# 예측 클래스만\n",
        "y_pred = np.argmax(y_proba, axis=1)\n",
        "y_pred"
      ],
      "execution_count": 42,
      "outputs": [
        {
          "output_type": "execute_result",
          "data": {
            "text/plain": [
              "array([9, 2, 1])"
            ]
          },
          "metadata": {},
          "execution_count": 42
        }
      ]
    },
    {
      "cell_type": "code",
      "metadata": {
        "colab": {
          "base_uri": "https://localhost:8080/"
        },
        "id": "g40Gyd4P3QDO",
        "outputId": "c45a2f6d-50db-4f71-b963-2ecc2e60f9a6"
      },
      "source": [
        "np.array(class_names)[y_pred]"
      ],
      "execution_count": 43,
      "outputs": [
        {
          "output_type": "execute_result",
          "data": {
            "text/plain": [
              "array(['Ankle boot', 'Pullover', 'Trouser'], dtype='<U11')"
            ]
          },
          "metadata": {},
          "execution_count": 43
        }
      ]
    },
    {
      "cell_type": "code",
      "metadata": {
        "colab": {
          "base_uri": "https://localhost:8080/"
        },
        "id": "cq00fGFe3z4J",
        "outputId": "a1018c28-2055-455c-94b7-9964fe12a581"
      },
      "source": [
        "y_new = y_test[:3]\n",
        "y_new"
      ],
      "execution_count": 45,
      "outputs": [
        {
          "output_type": "execute_result",
          "data": {
            "text/plain": [
              "array([9, 2, 1], dtype=uint8)"
            ]
          },
          "metadata": {},
          "execution_count": 45
        }
      ]
    },
    {
      "cell_type": "markdown",
      "metadata": {
        "id": "TEEgpcaA4CEn"
      },
      "source": [
        "### 10.2.3 시퀀셜 API를 사용하여 회귀용 다층 퍼셉트론 만들기"
      ]
    },
    {
      "cell_type": "code",
      "metadata": {
        "colab": {
          "base_uri": "https://localhost:8080/"
        },
        "id": "Y2U-JOO133ji",
        "outputId": "99b9d3b4-80ea-4b88-a157-bb7a9d3110dd"
      },
      "source": [
        "# 데이터 불러오기\n",
        "from sklearn.datasets import fetch_california_housing\n",
        "from sklearn.model_selection import train_test_split\n",
        "from sklearn.preprocessing import StandardScaler\n",
        "\n",
        "housing = fetch_california_housing()\n",
        "\n",
        "X_train_full, X_test, y_train_full, y_test = train_test_split(\n",
        "    housing.data, housing.target)\n",
        "X_train, X_val, y_train, y_val = train_test_split(\n",
        "    X_train_full, y_train_full)\n",
        "\n",
        "scaler = StandardScaler()\n",
        "X_train = scaler.fit_transform(X_train)\n",
        "X_val = scaler.transform(X_val)\n",
        "X_test = scaler.transform(X_test)"
      ],
      "execution_count": 46,
      "outputs": [
        {
          "output_type": "stream",
          "name": "stderr",
          "text": [
            "Downloading Cal. housing from https://ndownloader.figshare.com/files/5976036 to /root/scikit_learn_data\n"
          ]
        }
      ]
    },
    {
      "cell_type": "markdown",
      "metadata": {
        "id": "Tr-B1HlY47jY"
      },
      "source": [
        "회귀모델 만들기"
      ]
    },
    {
      "cell_type": "code",
      "metadata": {
        "colab": {
          "base_uri": "https://localhost:8080/"
        },
        "id": "0SA5Sj4D40Q0",
        "outputId": "d18b515a-7f25-4d3a-c90d-f7297be35f94"
      },
      "source": [
        "model = keras.models.Sequential([\n",
        "    keras.layers.Dense(30, activation=\"relu\", input_shape=X_train.shape[1:]),\n",
        "    keras.layers.Dense(1)\n",
        "])\n",
        "\n",
        "model.compile(loss=\"mean_squared_error\", optimizer=\"sgd\")\n",
        "history = model.fit(X_train, y_train, epochs=20,\n",
        "                    validation_data=(X_val, y_val))\n",
        "mse_test = model.evaluate(X_test, y_test)\n",
        "X_new = X_test[:3]  # 새로운 샘플이라 생각해\n",
        "y_pred = model.predict(X_new)"
      ],
      "execution_count": 47,
      "outputs": [
        {
          "output_type": "stream",
          "name": "stdout",
          "text": [
            "Epoch 1/20\n",
            "363/363 [==============================] - 1s 1ms/step - loss: 0.8269 - val_loss: 1.8259\n",
            "Epoch 2/20\n",
            "363/363 [==============================] - 0s 986us/step - loss: 3.0579 - val_loss: 0.4954\n",
            "Epoch 3/20\n",
            "363/363 [==============================] - 0s 1ms/step - loss: 0.4760 - val_loss: 0.5187\n",
            "Epoch 4/20\n",
            "363/363 [==============================] - 0s 1ms/step - loss: 0.4555 - val_loss: 0.4749\n",
            "Epoch 5/20\n",
            "363/363 [==============================] - 0s 992us/step - loss: 0.4380 - val_loss: 0.4436\n",
            "Epoch 6/20\n",
            "363/363 [==============================] - 0s 924us/step - loss: 0.4279 - val_loss: 0.4328\n",
            "Epoch 7/20\n",
            "363/363 [==============================] - 0s 1ms/step - loss: 0.4176 - val_loss: 0.4286\n",
            "Epoch 8/20\n",
            "363/363 [==============================] - 0s 1ms/step - loss: 0.4129 - val_loss: 0.4334\n",
            "Epoch 9/20\n",
            "363/363 [==============================] - 0s 927us/step - loss: 0.4138 - val_loss: 0.4204\n",
            "Epoch 10/20\n",
            "363/363 [==============================] - 0s 944us/step - loss: 0.4176 - val_loss: 0.4215\n",
            "Epoch 11/20\n",
            "363/363 [==============================] - 0s 945us/step - loss: 0.3967 - val_loss: 0.4114\n",
            "Epoch 12/20\n",
            "363/363 [==============================] - 0s 890us/step - loss: 0.3977 - val_loss: 0.4038\n",
            "Epoch 13/20\n",
            "363/363 [==============================] - 0s 989us/step - loss: 0.3912 - val_loss: 0.4034\n",
            "Epoch 14/20\n",
            "363/363 [==============================] - 0s 1ms/step - loss: 0.3865 - val_loss: 0.4159\n",
            "Epoch 15/20\n",
            "363/363 [==============================] - 0s 881us/step - loss: 0.3856 - val_loss: 0.4000\n",
            "Epoch 16/20\n",
            "363/363 [==============================] - 0s 1ms/step - loss: 0.3798 - val_loss: 0.3970\n",
            "Epoch 17/20\n",
            "363/363 [==============================] - 0s 1ms/step - loss: 0.3849 - val_loss: 0.3936\n",
            "Epoch 18/20\n",
            "363/363 [==============================] - 0s 1ms/step - loss: 0.3872 - val_loss: 0.3952\n",
            "Epoch 19/20\n",
            "363/363 [==============================] - 0s 891us/step - loss: 0.3753 - val_loss: 0.3883\n",
            "Epoch 20/20\n",
            "363/363 [==============================] - 0s 888us/step - loss: 0.3739 - val_loss: 0.3901\n",
            "162/162 [==============================] - 0s 712us/step - loss: 0.3717\n"
          ]
        }
      ]
    },
    {
      "cell_type": "code",
      "metadata": {
        "id": "uNUiRZru-EV0"
      },
      "source": [
        ""
      ],
      "execution_count": null,
      "outputs": []
    }
  ]
}