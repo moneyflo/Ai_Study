{
  "nbformat": 4,
  "nbformat_minor": 0,
  "metadata": {
    "colab": {
      "name": "DL_chap_3.ipynb",
      "provenance": [],
      "collapsed_sections": []
    },
    "kernelspec": {
      "name": "python3",
      "display_name": "Python 3"
    },
    "language_info": {
      "name": "python"
    }
  },
  "cells": [
    {
      "cell_type": "markdown",
      "metadata": {
        "id": "T8dk0T0-n91P"
      },
      "source": [
        "# Chapter 3 Neural Network"
      ]
    },
    {
      "cell_type": "markdown",
      "metadata": {
        "id": "o_OLp6MapzDu"
      },
      "source": [
        "## 3.2 활성화 함수\n",
        "* Sigmoid func<br/>\n",
        "## σ(x) = $\\frac{1}{1 + exp(-x)}$"
      ]
    },
    {
      "cell_type": "code",
      "metadata": {
        "colab": {
          "base_uri": "https://localhost:8080/",
          "height": 321
        },
        "id": "FC3XRoFVmOp-",
        "outputId": "d2a234ff-29b0-4bc3-8823-34b5bcfb252d"
      },
      "source": [
        "import numpy as np\n",
        "import matplotlib.pyplot as plt\n",
        "\n",
        "# step function\n",
        "\n",
        "# 실수만 받아들이는 case\n",
        "def step_function(x):\n",
        "    if x > 0:\n",
        "        return 1\n",
        "    else:\n",
        "        return 0\n",
        "\n",
        "# print(step_function(5))\n",
        "\n",
        "# 넘파이 배열도 받으들이는 case\n",
        "def step_function(x):\n",
        "    y = x > 0\n",
        "    return y.astype(np.int)\n",
        "\n",
        "x = np.array([-1.0, 1.0, 2.0])\n",
        "print(x)\n",
        "\n",
        "y = x > 0\n",
        "print(y)\n",
        "\n",
        "y = y.astype(np.int)\n",
        "print(y)\n",
        "\n",
        "# step func 그리기\n",
        "def step_function(x):\n",
        "    return np.array(x > 0, dtype=np.int)\n",
        "\n",
        "x = np.arange(-6.0, 6.0, 0.1)\n",
        "y = step_function(x)\n",
        "plt.plot(x, y)\n",
        "plt.ylim(-0.1, 1.1)\n",
        "plt.show()"
      ],
      "execution_count": 32,
      "outputs": [
        {
          "output_type": "stream",
          "text": [
            "[-1.  1.  2.]\n",
            "[False  True  True]\n",
            "[0 1 1]\n"
          ],
          "name": "stdout"
        },
        {
          "output_type": "display_data",
          "data": {
            "image/png": "[encoded data removed]",
            "text/plain": [
              "<Figure size 432x288 with 1 Axes>"
            ]
          },
          "metadata": {
            "tags": [],
            "needs_background": "light"
          }
        }
      ]
    },
    {
      "cell_type": "code",
      "metadata": {
        "colab": {
          "base_uri": "https://localhost:8080/",
          "height": 300
        },
        "id": "9bKeUZweuDkz",
        "outputId": "19a35444-b6e3-4537-cd60-ee82af70574c"
      },
      "source": [
        "# Sigmoid func\n",
        "\n",
        "def sigmoid(x):\n",
        "    return 1 / (1 + np.exp(-x))\n",
        "\n",
        "x = np.array([-1.0, 1.0, 2.0])\n",
        "print(sigmoid(x))\n",
        "\n",
        "# Sigmoid 그리기\n",
        "\n",
        "x = np.arange(-6.0, 6.0, 0.1)\n",
        "y = sigmoid(x)\n",
        "plt.plot(x, y)\n",
        "plt.ylim(-0.1, 1.1)\n",
        "plt.title('sigmoid')\n",
        "plt.show()"
      ],
      "execution_count": 33,
      "outputs": [
        {
          "output_type": "stream",
          "text": [
            "[0.26894142 0.73105858 0.88079708]\n"
          ],
          "name": "stdout"
        },
        {
          "output_type": "display_data",
          "data": {
            "image/png": "[encoded data removed]",
            "text/plain": [
              "<Figure size 432x288 with 1 Axes>"
            ]
          },
          "metadata": {
            "tags": [],
            "needs_background": "light"
          }
        }
      ]
    },
    {
      "cell_type": "code",
      "metadata": {
        "colab": {
          "base_uri": "https://localhost:8080/",
          "height": 265
        },
        "id": "Hk6BhtQPvEr_",
        "outputId": "269f59b3-1bfd-43e3-e085-af81a7bcadb0"
      },
      "source": [
        "# 시그모이드 함수와 계단 함수 비교\n",
        "\n",
        "x = np.arange(-6.0, 6.0, 0.1)\n",
        "y1 = step_function(x)\n",
        "y2 = sigmoid(x)\n",
        "plt.plot(x, y1, '--', label='step')\n",
        "plt.plot(x, y2, label='sigmoid')\n",
        "plt.legend()\n",
        "plt.ylim(-0.1, 1.1)\n",
        "plt.show()"
      ],
      "execution_count": 34,
      "outputs": [
        {
          "output_type": "display_data",
          "data": {
            "image/png": "[encoded data removed]",
            "text/plain": [
              "<Figure size 432x288 with 1 Axes>"
            ]
          },
          "metadata": {
            "tags": [],
            "needs_background": "light"
          }
        }
      ]
    },
    {
      "cell_type": "code",
      "metadata": {
        "colab": {
          "base_uri": "https://localhost:8080/",
          "height": 281
        },
        "id": "qeJVQKglwpjl",
        "outputId": "cd1b55b5-1916-4dbf-f2a5-618e94bdfccd"
      },
      "source": [
        "# ReLU\n",
        "def relu(x):\n",
        "    return np.maximum(0, x)\n",
        "\n",
        "x = np.arange(-6.0, 6.0, 0.1)\n",
        "y = relu(x)\n",
        "plt.plot(x, y)\n",
        "plt.title('relu')\n",
        "plt.show()"
      ],
      "execution_count": 35,
      "outputs": [
        {
          "output_type": "display_data",
          "data": {
            "image/png": "[encoded data removed]",
            "text/plain": [
              "<Figure size 432x288 with 1 Axes>"
            ]
          },
          "metadata": {
            "tags": [],
            "needs_background": "light"
          }
        }
      ]
    },
    {
      "cell_type": "markdown",
      "metadata": {
        "id": "mUBPOVExvmjM"
      },
      "source": [
        "## 3.3 다차원 배열의 계산"
      ]
    },
    {
      "cell_type": "code",
      "metadata": {
        "colab": {
          "base_uri": "https://localhost:8080/"
        },
        "id": "XLIWf5OBvvZG",
        "outputId": "a7638c72-94d6-4f14-8888-4abe45768850"
      },
      "source": [
        "import numpy as np\n",
        "A = np.array([1, 2, 3, 4])\n",
        "print(A)\n",
        "\n",
        "print(np.ndim(A))\n",
        "\n",
        "A.shape\n",
        "A.shape[0]  # <- 인덱스로 행, 열 갯수\n",
        "\n",
        "B = np.array([[1,2], [3,4], [5,6]])\n",
        "print(B)\n",
        "print(np.ndim(B))\n",
        "B.shape\n",
        "B.shape[1]\n",
        "\n",
        "# 행렬 곱\n",
        "A = np.array([[1,2], [3,4]])\n",
        "A.shape\n",
        "\n",
        "B = np.array([[5,6], [7,8]])\n",
        "print(B)\n",
        "B.shape\n",
        "\n",
        "print(np.dot(A, B))\n",
        "\n",
        "# 배열 자체에도 dot 지원하는듯\n",
        "print(A.dot(B))\n",
        "\n",
        "A = np.array([[1,2,3], [4,5,6]])\n",
        "A.shape\n",
        "\n",
        "B = np.array([[1,2], [3,4], [5,6]])\n",
        "B.shape\n",
        "\n",
        "print(np.dot(A, B))\n",
        "\n",
        "A = np.array([[1,2], [3,4], [5,6]])\n",
        "print(A.shape)\n",
        "\n",
        "B = np.array([7,8])\n",
        "print(B.shape)\n",
        "\n",
        "np.dot(A, B)\n",
        "\n",
        "# 신경망에서의 행렬 곱\n",
        "X = np.array([1, 2])\n",
        "X.shape\n",
        "\n",
        "W = np.array([[1,3,5], [2,4,6]])\n",
        "W.shape\n",
        "\n",
        "Y = np.dot(X, W)\n",
        "print(Y)"
      ],
      "execution_count": 36,
      "outputs": [
        {
          "output_type": "stream",
          "text": [
            "[1 2 3 4]\n",
            "1\n",
            "[[1 2]\n",
            " [3 4]\n",
            " [5 6]]\n",
            "2\n",
            "[[5 6]\n",
            " [7 8]]\n",
            "[[19 22]\n",
            " [43 50]]\n",
            "[[19 22]\n",
            " [43 50]]\n",
            "[[22 28]\n",
            " [49 64]]\n",
            "(3, 2)\n",
            "(2,)\n",
            "[ 5 11 17]\n"
          ],
          "name": "stdout"
        }
      ]
    },
    {
      "cell_type": "markdown",
      "metadata": {
        "id": "7Sx4rtQDY9Tv"
      },
      "source": [
        "3층 신경망 구현하기"
      ]
    },
    {
      "cell_type": "code",
      "metadata": {
        "colab": {
          "base_uri": "https://localhost:8080/"
        },
        "id": "6n8QxhCqY_CD",
        "outputId": "43961a8e-0578-4027-f0c0-dc148ad11c6f"
      },
      "source": [
        "# 0 -> 1 층\n",
        "X = np.array([1.0, 0.5])\n",
        "W1 = np.array([[0.1, 0.3, 0.5], [0.2, 0.4, 0.6]])\n",
        "B1 = np.array([0.1, 0.2, 0.3])\n",
        "\n",
        "print(W1.shape)\n",
        "print(X.shape)\n",
        "print(B1.shape)\n",
        "\n",
        "# t = np.array([[1],[2]])\n",
        "# t.shape\n",
        "# # print(X.dot(W1))\n",
        "# # print(t.dot(W1))\n",
        "\n",
        "A1 = np.dot(X, W1) + B1\n",
        "print(A1)\n",
        "\n",
        "Z1 = sigmoid(A1)\n",
        "\n",
        "print(A1)\n",
        "print(Z1)\n",
        "\n",
        "# 1 -> 2 층\n",
        "W2 = np.array([[0.1, 0.4], [0.2, 0.5], [0.3, 0.6]])\n",
        "B2 = np.array([0.1, 0.2])\n",
        "\n",
        "print(Z1.shape)\n",
        "print(W2.shape)\n",
        "print(B2.shape)\n",
        "\n",
        "A2 = np.dot(Z1, W2) + B2\n",
        "Z2 = sigmoid(A2)\n",
        "\n",
        "# 2 -> 3층\n",
        "def identity_function(x):\n",
        "    return x\n",
        "\n",
        "W3 = np.array([[0.1, 0.3], [0.2, 0.4]])\n",
        "B3 = np.array([0.1, 0.2])\n",
        "\n",
        "A3 = np.dot(Z2, W3) + B3\n",
        "Y = identity_function(A3)"
      ],
      "execution_count": 37,
      "outputs": [
        {
          "output_type": "stream",
          "text": [
            "(2, 3)\n",
            "(2,)\n",
            "(3,)\n",
            "[0.3 0.7 1.1]\n",
            "[0.3 0.7 1.1]\n",
            "[0.57444252 0.66818777 0.75026011]\n",
            "(3,)\n",
            "(3, 2)\n",
            "(2,)\n"
          ],
          "name": "stdout"
        }
      ]
    },
    {
      "cell_type": "markdown",
      "metadata": {
        "id": "78q9qWcbevVe"
      },
      "source": [
        "구현 정리"
      ]
    },
    {
      "cell_type": "code",
      "metadata": {
        "colab": {
          "base_uri": "https://localhost:8080/"
        },
        "id": "BpwqjQdPeyI0",
        "outputId": "e47ab065-d71d-4bed-bffa-401cf3e9297f"
      },
      "source": [
        "import numpy as np\n",
        "\n",
        "def init_network():\n",
        "    network = {}\n",
        "    network['W1'] = np.array([[0.1, 0.3, 0.5], [0.2, 0.4, 0.6]])\n",
        "    network['b1'] = np.array([0.1, 0.2, 0.3])\n",
        "    network['W2'] = np.array([[0.1, 0.4], [0.2, 0.5], [0.3, 0.6]])\n",
        "    network['b2'] = np.array([0.1, 0.2])\n",
        "    network['W3'] = np.array([[0.1, 0.3], [0.2, 0.4]])\n",
        "    network['b3'] = np.array([0.1, 0.2])\n",
        "\n",
        "    return network\n",
        "\n",
        "def forward(network, x):\n",
        "    W1, W2, W3 = network['W1'], network['W2'], network['W3']\n",
        "    b1, b2, b3 = network['b1'], network['b2'], network['b3']\n",
        "\n",
        "    a1 = np.dot(x, W1) + b1\n",
        "    z1 = sigmoid(a1)\n",
        "    a2 = np.dot(z1, W2) + b2\n",
        "    z2 = sigmoid(a2)\n",
        "    a3 = np.dot(z2, W3) + b3\n",
        "    y = identity_function(a3)\n",
        "\n",
        "    return y\n",
        "\n",
        "network = init_network()\n",
        "x = np.array([1.0, 0.5])\n",
        "y = forward(network, x)\n",
        "print(y)\n",
        "# print(network)"
      ],
      "execution_count": 38,
      "outputs": [
        {
          "output_type": "stream",
          "text": [
            "[0.31682708 0.69627909]\n"
          ],
          "name": "stdout"
        }
      ]
    },
    {
      "cell_type": "markdown",
      "metadata": {
        "id": "I5D5YjAqrH3t"
      },
      "source": [
        "범용성있게 재구현"
      ]
    },
    {
      "cell_type": "code",
      "metadata": {
        "colab": {
          "base_uri": "https://localhost:8080/"
        },
        "id": "qyaMI3k0qW58",
        "outputId": "4bc579b4-df81-4233-bbc0-584fa22ddf31"
      },
      "source": [
        "# 망함 나중에 다시...\n",
        "\n",
        "def init_network(W=[], b=[]):\n",
        "    network = {}\n",
        "    \n",
        "    if len(W) == 0:\n",
        "        network['W1'] = np.array([[0.1, 0.3, 0.5], [0.2, 0.4, 0.6]])\n",
        "        network['W2'] = np.array([[0.1, 0.4], [0.2, 0.5], [0.3, 0.6]])\n",
        "        network['W3'] = np.array([[0.1, 0.3], [0.2, 0.4]])\n",
        "    else:\n",
        "        for i in range(len(W)):\n",
        "            network[f'W{i}'] = W[i]\n",
        "\n",
        "    if len(b) == 0:\n",
        "        network['b1'] = np.array([0.1, 0.2, 0.3])\n",
        "        network['b2'] = np.array([0.1, 0.2])\n",
        "        network['b3'] = np.array([0.1, 0.2])\n",
        "    else:\n",
        "        for i in range(len(b)):\n",
        "            network[f'b{i}'] = b[i]\n",
        "\n",
        "    return network\n",
        "\n",
        "def forward(network, x):\n",
        "    W1, W2, W3 = network['W1'], network['W2'], network['W3']\n",
        "    b1, b2, b3 = network['b1'], network['b2'], network['b3']\n",
        "\n",
        "    a1 = np.dot(x, W1) + b1\n",
        "    z1 = sigmoid(a1)\n",
        "    a2 = np.dot(z1, W2) + b2\n",
        "    z2 = sigmoid(a2)\n",
        "    a3 = np.dot(z2, W3) + b3\n",
        "    y = identity_function(a3)\n",
        "\n",
        "    return y\n",
        "\n",
        "Wn = np.array([[[0.3, 0.2, 0.7], [0.2,0.3,0.2]], [[0.4, 0.5, 0.2, 0.4],[0.2,0.3,0.5,0.4]], [[0.3, 0.1, 0.2],[0.4,0.5,0.2]], [[0.1, 0.2],[0.2,0.3]]])\n",
        "bn = np.array([[[0.1, 0.1, 0.1],[0.2,0.3,0.3]], [[0.1, 0.1, 0.1, 0.2],[0.6,0.7,0.1,0.1]], [[0.1, 0.1, 0.1],[0.1,0.1,0.1]], [[0.1, 0.1],[0.1,0.1]]])\n",
        "\n",
        "init_network(Wn, bn)\n"
      ],
      "execution_count": 39,
      "outputs": [
        {
          "output_type": "stream",
          "text": [
            "/usr/local/lib/python3.7/dist-packages/ipykernel_launcher.py:37: VisibleDeprecationWarning: Creating an ndarray from ragged nested sequences (which is a list-or-tuple of lists-or-tuples-or ndarrays with different lengths or shapes) is deprecated. If you meant to do this, you must specify 'dtype=object' when creating the ndarray\n",
            "/usr/local/lib/python3.7/dist-packages/ipykernel_launcher.py:38: VisibleDeprecationWarning: Creating an ndarray from ragged nested sequences (which is a list-or-tuple of lists-or-tuples-or ndarrays with different lengths or shapes) is deprecated. If you meant to do this, you must specify 'dtype=object' when creating the ndarray\n"
          ],
          "name": "stderr"
        },
        {
          "output_type": "execute_result",
          "data": {
            "text/plain": [
              "{'W0': array([list([0.3, 0.2, 0.7]), list([0.2, 0.3, 0.2])], dtype=object),\n",
              " 'W1': array([list([0.4, 0.5, 0.2, 0.4]), list([0.2, 0.3, 0.5, 0.4])],\n",
              "       dtype=object),\n",
              " 'W2': array([list([0.3, 0.1, 0.2]), list([0.4, 0.5, 0.2])], dtype=object),\n",
              " 'W3': array([list([0.1, 0.2]), list([0.2, 0.3])], dtype=object),\n",
              " 'b0': array([list([0.1, 0.1, 0.1]), list([0.2, 0.3, 0.3])], dtype=object),\n",
              " 'b1': array([list([0.1, 0.1, 0.1, 0.2]), list([0.6, 0.7, 0.1, 0.1])],\n",
              "       dtype=object),\n",
              " 'b2': array([list([0.1, 0.1, 0.1]), list([0.1, 0.1, 0.1])], dtype=object),\n",
              " 'b3': array([list([0.1, 0.1]), list([0.1, 0.1])], dtype=object)}"
            ]
          },
          "metadata": {
            "tags": []
          },
          "execution_count": 39
        }
      ]
    },
    {
      "cell_type": "markdown",
      "metadata": {
        "id": "0cL1tGO3yqVH"
      },
      "source": [
        "## 3.5 출력층 설계\n",
        "* 회귀에는 항등 함수, 분류에는 소프트맥스"
      ]
    },
    {
      "cell_type": "code",
      "metadata": {
        "colab": {
          "base_uri": "https://localhost:8080/"
        },
        "id": "ZfHZ-3TTtv7Q",
        "outputId": "89a15c8e-524a-489a-d2f7-dc4758cbf239"
      },
      "source": [
        "# softmax\n",
        "a = np.array([0.3, 2.9, 4.0])\n",
        "\n",
        "exp_a = np.exp(a)\n",
        "print(exp_a)\n",
        "\n",
        "sum_exp_a = np.sum(exp_a)\n",
        "print(sum_exp_a)\n",
        "\n",
        "y = exp_a / sum_exp_a\n",
        "print(y)\n",
        "\n",
        "\n",
        "def softmax(a):\n",
        "    exp_a = np.exp(a)\n",
        "    sum_exp_a = np.sum(exp_a)\n",
        "    y = exp_a / sum_exp_a\n",
        "\n",
        "    return y\n",
        "\n",
        "# overflow 방지\n",
        "a = np.array([1010, 1000, 990])\n",
        "np.exp(a) / np.sum(np.exp(a))\n",
        "\n",
        "c = np.max(a)\n",
        "a - c\n",
        "\n",
        "np.exp(a-c) / np.sum(np.exp(a-c))\n",
        "\n",
        "# 특징\n",
        "a = np.array([0.3, 2.9, 4.0])\n",
        "y = softmax(a)\n",
        "print(y)\n",
        "np.sum(y)"
      ],
      "execution_count": 40,
      "outputs": [
        {
          "output_type": "stream",
          "text": [
            "[ 1.34985881 18.17414537 54.59815003]\n",
            "74.1221542101633\n",
            "[0.01821127 0.24519181 0.73659691]\n",
            "[0.01821127 0.24519181 0.73659691]\n"
          ],
          "name": "stdout"
        },
        {
          "output_type": "stream",
          "text": [
            "/usr/local/lib/python3.7/dist-packages/ipykernel_launcher.py:23: RuntimeWarning: overflow encountered in exp\n",
            "/usr/local/lib/python3.7/dist-packages/ipykernel_launcher.py:23: RuntimeWarning: invalid value encountered in true_divide\n"
          ],
          "name": "stderr"
        },
        {
          "output_type": "execute_result",
          "data": {
            "text/plain": [
              "1.0"
            ]
          },
          "metadata": {
            "tags": []
          },
          "execution_count": 40
        }
      ]
    },
    {
      "cell_type": "markdown",
      "metadata": {
        "id": "BcqghxuL3s_N"
      },
      "source": [
        "## 3.6 손글씨 숫자 인식"
      ]
    },
    {
      "cell_type": "code",
      "metadata": {
        "id": "Z0S8aBCX6CxP"
      },
      "source": [
        "# 케라스에서 flatten하고 nomalize 할려면 또 함수 import 해야댐\n",
        "# from tensorflow import keras\n",
        "\n",
        "# mnist = keras.datasets.mnist\n",
        "\n",
        "# (x_train, t_train), (x_test, t_test) = \\\n",
        "#     mnist.load_data()\n",
        "\n",
        "# # 각 데이터 shape\n",
        "# print(x_train.shape)\n",
        "# print(t_train.shape)\n",
        "# print(x_test.shape)\n",
        "# print(t_test.shape)"
      ],
      "execution_count": 41,
      "outputs": []
    },
    {
      "cell_type": "code",
      "metadata": {
        "colab": {
          "base_uri": "https://localhost:8080/"
        },
        "id": "lU8w-JLcLkof",
        "outputId": "46396201-865c-4eff-addf-71cc66c5e0ae"
      },
      "source": [
        "# coding: utf-8\n",
        "\n",
        "import os, sys\n",
        "\n",
        "current = os.getcwd()\n",
        "print(current)\n",
        "\n",
        "path = '/content/drive/My Drive/DL_from_bottom'\n",
        "os.chdir(path)\n",
        "\n",
        "current = os.getcwd()\n",
        "print(current)\n",
        "\n",
        "sys.path.append(os.chdir)\n",
        "sys.path"
      ],
      "execution_count": 42,
      "outputs": [
        {
          "output_type": "stream",
          "text": [
            "/content/drive/MyDrive/DL_from_bottom\n",
            "/content/drive/My Drive/DL_from_bottom\n"
          ],
          "name": "stdout"
        },
        {
          "output_type": "execute_result",
          "data": {
            "text/plain": [
              "['',\n",
              " '/content',\n",
              " '/env/python',\n",
              " '/usr/lib/python37.zip',\n",
              " '/usr/lib/python3.7',\n",
              " '/usr/lib/python3.7/lib-dynload',\n",
              " '/usr/local/lib/python3.7/dist-packages',\n",
              " '/usr/lib/python3/dist-packages',\n",
              " '/usr/local/lib/python3.7/dist-packages/IPython/extensions',\n",
              " '/root/.ipython',\n",
              " '..',\n",
              " '..',\n",
              " '..',\n",
              " <function posix.chdir>,\n",
              " <function posix.chdir>,\n",
              " <function posix.chdir>,\n",
              " <function posix.chdir>,\n",
              " <function posix.chdir>,\n",
              " <function posix.chdir>,\n",
              " <function posix.chdir>,\n",
              " <function posix.chdir>,\n",
              " <function posix.chdir>,\n",
              " <function posix.chdir>,\n",
              " <function posix.chdir>,\n",
              " <function posix.chdir>,\n",
              " <function posix.chdir>,\n",
              " <function posix.chdir>,\n",
              " <function posix.chdir>,\n",
              " <function posix.chdir>,\n",
              " <function posix.chdir>,\n",
              " <function posix.chdir>,\n",
              " <function posix.chdir>,\n",
              " <function posix.chdir>]"
            ]
          },
          "metadata": {
            "tags": []
          },
          "execution_count": 42
        }
      ]
    },
    {
      "cell_type": "code",
      "metadata": {
        "colab": {
          "base_uri": "https://localhost:8080/",
          "height": 610
        },
        "id": "JziFVwaBPkTC",
        "outputId": "a6dee7d0-2565-4a42-ab89-a283d2416c1d"
      },
      "source": [
        "# 한번에\n",
        "import os, sys\n",
        "import numpy as np\n",
        "from PIL import Image\n",
        "path = '/content/drive/MyDrive/DL_from_bottom'\n",
        "os.chdir(path)              # 부모는 pardir\n",
        "\n",
        "sys.path.append(os.chdir)\n",
        "from dataset.mnist import load_mnist\n",
        "\n",
        "(x_train, t_train), (x_test, t_test) = \\\n",
        "    load_mnist(flatten=True, normalize=False)\n",
        "\n",
        "print(x_train.shape)\n",
        "print(t_train.shape)\n",
        "print(x_test.shape)\n",
        "print(t_test.shape)\n",
        "\n",
        "def img_show(img):\n",
        "    pil_img = Image.fromarray(np.uint8(img))\n",
        "    pil_img.show()\n",
        "\n",
        "img = x_train[0]\n",
        "label = t_train[0]\n",
        "print(label)\n",
        "\n",
        "print(img.shape)\n",
        "img = img.reshape(28, 28)\n",
        "print(img.shape)\n",
        "\n",
        "img_show(img)\n",
        "\n",
        "img2 = x_train[10000].reshape(28, 28)\n",
        "\n",
        "\n",
        "# plt으로\n",
        "import matplotlib.pyplot as plt\n",
        "plt.imshow(img)\n",
        "plt.axis('off')\n",
        "plt.show()\n",
        "\n",
        "plt.imshow(img2)\n",
        "plt.axis('off')\n",
        "plt.show()"
      ],
      "execution_count": 43,
      "outputs": [
        {
          "output_type": "stream",
          "text": [
            "(60000, 784)\n",
            "(60000,)\n",
            "(10000, 784)\n",
            "(10000,)\n",
            "5\n",
            "(784,)\n",
            "(28, 28)\n"
          ],
          "name": "stdout"
        },
        {
          "output_type": "display_data",
          "data": {
            "image/png": "[encoded data removed]",
            "text/plain": [
              "<Figure size 432x288 with 1 Axes>"
            ]
          },
          "metadata": {
            "tags": [],
            "needs_background": "light"
          }
        },
        {
          "output_type": "display_data",
          "data": {
            "image/png": "[encoded data removed]",
            "text/plain": [
              "<Figure size 432x288 with 1 Axes>"
            ]
          },
          "metadata": {
            "tags": [],
            "needs_background": "light"
          }
        }
      ]
    },
    {
      "cell_type": "code",
      "metadata": {
        "id": "cVFQHJ8yUS-5",
        "colab": {
          "base_uri": "https://localhost:8080/"
        },
        "outputId": "8b579585-163b-47cf-9f0b-56500a0b5f52"
      },
      "source": [
        "# 추론\n",
        "import pickle\n",
        "\n",
        "def get_data():\n",
        "    (x_train, t_train), (x_test, t_test) = \\\n",
        "        load_mnist(normalize=True, flatten=True, one_hot_label=False)\n",
        "    return x_test, t_test\n",
        "\n",
        "def init_network():\n",
        "    with open(\"/content/drive/MyDrive/DL_from_bottom/dataset/sample_weight.pkl\", 'rb') as f:\n",
        "        network = pickle.load(f)\n",
        "\n",
        "    return network\n",
        "\n",
        "def predict(network, x):\n",
        "    W1, W2, W3 = network['W1'], network['W2'], network['W3']\n",
        "    b1, b2, b3 = network['b1'], network['b2'], network['b3']\n",
        "\n",
        "    a1 = np.dot(x, W1) + b1\n",
        "    z1 = sigmoid(a1)\n",
        "    a2 = np.dot(z1, W2) + b2\n",
        "    z2 = sigmoid(a2)\n",
        "    a3 = np.dot(z2, W3) + b3\n",
        "    y = softmax(a3)\n",
        "\n",
        "    return y\n",
        "\n",
        "# 수행\n",
        "\n",
        "x, t = get_data()\n",
        "network = init_network()\n",
        "\n",
        "accuracy_cnt = 0\n",
        "for i in range(len(x)):\n",
        "    y = predict(network, x[i])\n",
        "    p = np.argmax(y)  # 확률이 가장 높은 원소의 인덱스를 얻는다.\n",
        "    if p == t[i]:\n",
        "        accuracy_cnt += 1\n",
        "\n",
        "print(\"Accuracy:\" + str(float(accuracy_cnt) / len(x)))"
      ],
      "execution_count": 49,
      "outputs": [
        {
          "output_type": "stream",
          "text": [
            "Accuracy:0.9352\n"
          ],
          "name": "stdout"
        }
      ]
    },
    {
      "cell_type": "code",
      "metadata": {
        "colab": {
          "base_uri": "https://localhost:8080/"
        },
        "id": "vjXCOD9GrNpc",
        "outputId": "3b73c3db-2e7d-45b4-e4ac-6a3482a30f30"
      },
      "source": [
        "# 배치 처리\n",
        "\n",
        "x, _ = get_data()\n",
        "network = init_network()\n",
        "W1, W2, W3 = network['W1'], network['W2'], network['W3']\n",
        "\n",
        "x.shape\n",
        "x[0].shape\n",
        "W1.shape\n",
        "W2.shape\n",
        "W3.shape\n",
        "\n",
        "# 구현\n",
        "x, t = get_data()\n",
        "network = init_network()\n",
        "\n",
        "batch_size = 100\n",
        "accuracy_cnt = 0\n",
        "\n",
        "for i in range(0, len(x), batch_size):\n",
        "    x_batch = x[i:i+batch_size]\n",
        "    y_batch = predict(network, x_batch)\n",
        "    p = np.argmax(y_batch, axis=1)\n",
        "    accuracy_cnt += np.sum(p == t[i:i+batch_size])\n",
        "\n",
        "print(f\"Accuracy : {accuracy_cnt / len(x)}\")"
      ],
      "execution_count": 55,
      "outputs": [
        {
          "output_type": "stream",
          "text": [
            "Accuracy : 0.9352\n"
          ],
          "name": "stdout"
        }
      ]
    }
  ]
}