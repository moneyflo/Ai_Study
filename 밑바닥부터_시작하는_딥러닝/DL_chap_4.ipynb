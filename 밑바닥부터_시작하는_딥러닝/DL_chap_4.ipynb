{
  "nbformat": 4,
  "nbformat_minor": 0,
  "metadata": {
    "colab": {
      "name": "DL_chap_4.ipynb",
      "provenance": [],
      "collapsed_sections": []
    },
    "kernelspec": {
      "name": "python3",
      "display_name": "Python 3"
    },
    "language_info": {
      "name": "python"
    },
    "accelerator": "GPU"
  },
  "cells": [
    {
      "cell_type": "markdown",
      "metadata": {
        "id": "km5pJ9456N26"
      },
      "source": [
        "# Chapter 4 신경망 학습"
      ]
    },
    {
      "cell_type": "code",
      "metadata": {
        "colab": {
          "base_uri": "https://localhost:8080/"
        },
        "id": "0SeHgImJclnV",
        "outputId": "8ea5adc3-0a3a-4944-b46e-4b98778a747e"
      },
      "source": [
        "from google.colab import drive\n",
        "drive.mount('/content/drive')"
      ],
      "execution_count": 3,
      "outputs": [
        {
          "output_type": "stream",
          "text": [
            "Drive already mounted at /content/drive; to attempt to forcibly remount, call drive.mount(\"/content/drive\", force_remount=True).\n"
          ],
          "name": "stdout"
        }
      ]
    },
    {
      "cell_type": "markdown",
      "metadata": {
        "id": "gR4gKUFeOqLj"
      },
      "source": [
        "### 오차제곱합\n",
        "* E = $\\frac{1}{2}$ $\\sum_{k} (y_k - t_k)^2$"
      ]
    },
    {
      "cell_type": "code",
      "metadata": {
        "id": "cXR4ShMf51pj",
        "colab": {
          "base_uri": "https://localhost:8080/"
        },
        "outputId": "b2006d0c-0461-4618-de44-d1aefc584f74"
      },
      "source": [
        "import numpy as np\n",
        "\n",
        "# 오차제곱합\n",
        "def sum_squares_error(y, t):\n",
        "    return 0.5 * np.sum((y-t)**2)\n",
        "\n",
        "t = [0, 0 ,1, 0, 0, 0, 0, 0, 0, 0]\n",
        "\n",
        "y = [0.1, 0.05, 0.6, 0.0, 0.05, 0.1, 0.0, 0.1, 0.0, 0.0]\n",
        "print(sum_squares_error(np.array(y), np.array(t)))\n",
        "\n",
        "y = [0.1, 0.05, 0.1, 0.0, 0.05, 0.1, 0.0, 0.6, 0.0, 0.0]\n",
        "print(sum_squares_error(np.array(y), np.array(t)))\n",
        "\n"
      ],
      "execution_count": 4,
      "outputs": [
        {
          "output_type": "stream",
          "text": [
            "0.09750000000000003\n",
            "0.5975\n"
          ],
          "name": "stdout"
        }
      ]
    },
    {
      "cell_type": "markdown",
      "metadata": {
        "id": "yh8bYoRbVUIR"
      },
      "source": [
        "### 교차 엔트로피 오차\n",
        "* E = -- $\\sum_{k} t_k log y_k$"
      ]
    },
    {
      "cell_type": "code",
      "metadata": {
        "id": "qOG-6vLYVrZR",
        "colab": {
          "base_uri": "https://localhost:8080/"
        },
        "outputId": "8345c039-d3bb-499f-ad64-15b8a320eefe"
      },
      "source": [
        "# 교차 엔트로피 오차\n",
        "def cross_entropy_error(y, t):\n",
        "    delta = 1e-7   # 무한대 방지\n",
        "    return -np.sum(t * np.log(y+delta))\n",
        "\n",
        "t = [0, 0 ,1, 0, 0, 0, 0, 0, 0, 0]\n",
        "\n",
        "y = [0.1, 0.05, 0.6, 0.0, 0.05, 0.1, 0.0, 0.1, 0.0, 0.0]\n",
        "print(cross_entropy_error(np.array(y), np.array(t)))\n",
        "\n",
        "y = [0.1, 0.05, 0.1, 0.0, 0.05, 0.1, 0.0, 0.6, 0.0, 0.0]\n",
        "print(cross_entropy_error(np.array(y), np.array(t)))\n",
        "\n",
        "\n"
      ],
      "execution_count": 5,
      "outputs": [
        {
          "output_type": "stream",
          "text": [
            "0.510825457099338\n",
            "2.302584092994546\n"
          ],
          "name": "stdout"
        }
      ]
    },
    {
      "cell_type": "markdown",
      "metadata": {
        "id": "T7ffluj_HVOI"
      },
      "source": [
        "### 미니배치 학습\n",
        "* 평균 손실 함수<br/>\n",
        "E = -- $\\frac{1}{N}\\sum_{n}\\sum_{k} t_{nk} log y_{nk}$"
      ]
    },
    {
      "cell_type": "code",
      "metadata": {
        "colab": {
          "base_uri": "https://localhost:8080/"
        },
        "id": "Ds0vLrKrHUwz",
        "outputId": "230cc010-467e-4216-d624-35b6f56e788f"
      },
      "source": [
        "# 미니배치 학습\n",
        "from google.colab import drive\n",
        "drive.mount('/content/drive')\n",
        "import sys, os\n",
        "path = '/content/drive/MyDrive/DL_from_bottom'\n",
        "os.chdir(path)\n",
        "sys.path.append(os.chdir)\n",
        "\n",
        "from dataset.mnist import load_mnist\n",
        "\n",
        "(x_train, t_train), (x_test, t_test) = \\\n",
        "    load_mnist(normalize=True, one_hot_label=True)\n",
        "\n",
        "print(x_train.shape, t_train.shape)\n",
        "print(x_test.shape, t_test.shape)"
      ],
      "execution_count": 6,
      "outputs": [
        {
          "output_type": "stream",
          "text": [
            "Drive already mounted at /content/drive; to attempt to forcibly remount, call drive.mount(\"/content/drive\", force_remount=True).\n",
            "(60000, 784) (60000, 10)\n",
            "(10000, 784) (10000, 10)\n"
          ],
          "name": "stdout"
        }
      ]
    },
    {
      "cell_type": "code",
      "metadata": {
        "colab": {
          "base_uri": "https://localhost:8080/"
        },
        "id": "QqC8Gaw0I9RR",
        "outputId": "0f3e46cf-e2dd-4d7f-ac76-081b3218b681"
      },
      "source": [
        "# 무작위로 10장 뽑기\n",
        "import numpy as np\n",
        "\n",
        "train_size = x_train.shape[0]\n",
        "batch_size = 10\n",
        "batch_mask = np.random.choice(train_size, batch_size)  # 0~59999중에 10개 뽑아서 인덱스 번호로 쓰는듯\n",
        "x_batch = x_train[batch_mask]\n",
        "t_batch = t_train[batch_mask]\n",
        "\n",
        "print(np.random.choice(60000, 10))"
      ],
      "execution_count": 7,
      "outputs": [
        {
          "output_type": "stream",
          "text": [
            "[42653 52345 40193  6335  6854 53599 37175 32547  9170 14382]\n"
          ],
          "name": "stdout"
        }
      ]
    },
    {
      "cell_type": "code",
      "metadata": {
        "id": "_CfilCacM7MW"
      },
      "source": [
        "# 배치 활용 교차 엔트로피 오차 구현\n",
        "def cross_entropy_error(y, t):\n",
        "    if y.ndim == 1:\n",
        "        t = t.reshape(1, t.size)\n",
        "        y = y.reshape(1, y.size)\n",
        "\n",
        "    batch_size = y.shape[0]\n",
        "    return -np.sum(t * np.log(y + 1e-7)) / batch_size\n",
        "\n",
        "# 정답 레이블이 원-핫 인코딩이 아닌 경우\n",
        "def cross_entropy_error(y, t):\n",
        "    if y.ndim == 1:\n",
        "        t = t.reshape(1, t.size)\n",
        "        y = y.reshape(1, y.size)\n",
        "\n",
        "    batch_size = y.shape[0]\n",
        "    return -np.sum(np.log(y[np.arange(batch_size), t] + 1e-7)) / batch_size"
      ],
      "execution_count": 8,
      "outputs": []
    },
    {
      "cell_type": "markdown",
      "metadata": {
        "id": "5Tv0VgZSMA8b"
      },
      "source": [
        "### 수치 미분"
      ]
    },
    {
      "cell_type": "markdown",
      "metadata": {
        "id": "ahTM63nNPAOx"
      },
      "source": [
        "미분"
      ]
    },
    {
      "cell_type": "code",
      "metadata": {
        "id": "62cONWAKP2mm",
        "colab": {
          "base_uri": "https://localhost:8080/",
          "height": 317
        },
        "outputId": "e78b9114-53a6-4c8a-db18-84f196bb82d0"
      },
      "source": [
        "import numpy as np\n",
        "import matplotlib.pyplot as plt\n",
        "\n",
        "# 나쁜 구현 예\n",
        "def numerical_diff(f, x):\n",
        "    h = 10e-50\n",
        "    return (f(x + h) - f(x)) / h\n",
        "\n",
        "\n",
        "# 반올림 오차\n",
        "np.float32(1e-50)\n",
        "\n",
        "# 문제개선\n",
        "def numerical_diff(f, x):\n",
        "    h = 1e-4 # 0.0001\n",
        "    return (f(x+h) - f(x-h)) / (2*h)\n",
        "\n",
        "\n",
        "# 식 4.5\n",
        "def function_1(x):\n",
        "    return 0.01*x**2 + 0.1*x\n",
        "\n",
        "x = np.arange(0.0, 20.0, 0.1)\n",
        "y = function_1(x)\n",
        "plt.xlabel('x')\n",
        "plt.ylabel('f(x)')\n",
        "plt.plot(x, y)\n",
        "plt.show()\n",
        "\n",
        "print(numerical_diff(function_1, 5))\n",
        "print(numerical_diff(function_1, 10))\n"
      ],
      "execution_count": 9,
      "outputs": [
        {
          "output_type": "display_data",
          "data": {
            "image/png": "[encoded data removed]",
            "text/plain": [
              "<Figure size 432x288 with 1 Axes>"
            ]
          },
          "metadata": {
            "tags": [],
            "needs_background": "light"
          }
        },
        {
          "output_type": "stream",
          "text": [
            "0.1999999999990898\n",
            "0.2999999999986347\n"
          ],
          "name": "stdout"
        }
      ]
    },
    {
      "cell_type": "markdown",
      "metadata": {
        "id": "Hxu2orr7O9Nh"
      },
      "source": [
        "편미분"
      ]
    },
    {
      "cell_type": "code",
      "metadata": {
        "colab": {
          "base_uri": "https://localhost:8080/"
        },
        "id": "VuoOBoWePDmR",
        "outputId": "94f8bb00-551b-4b69-811b-5b1c06efe2c2"
      },
      "source": [
        "def function_2(x):\n",
        "    return x[0]**2 + x[1]**2\n",
        "    # 또는 return np.sum(x**2)\n",
        "\n",
        "\n",
        "def function_tmp1(x0):\n",
        "    return x0*x0 + 4.0**2.0\n",
        "print(numerical_diff(function_tmp1, 3.0))\n",
        "\n",
        "def function_tmp2(x1):\n",
        "    return 3.0**2.0 + x1*x1\n",
        "\n",
        "print(numerical_diff(function_tmp2, 4.0))"
      ],
      "execution_count": 10,
      "outputs": [
        {
          "output_type": "stream",
          "text": [
            "6.00000000000378\n",
            "7.999999999999119\n"
          ],
          "name": "stdout"
        }
      ]
    },
    {
      "cell_type": "markdown",
      "metadata": {
        "id": "EHibsyUnCFEf"
      },
      "source": [
        "기울기\n",
        "* 모든 변수의 편미분을 벡터로 정리한 것을 기울기라고 함."
      ]
    },
    {
      "cell_type": "code",
      "metadata": {
        "colab": {
          "base_uri": "https://localhost:8080/",
          "height": 358
        },
        "id": "vxEXWwZt75d3",
        "outputId": "0b3566b0-99d0-4956-818b-da6bb99c20f3"
      },
      "source": [
        "# gradient\n",
        "def numerical_gradient(f, x):\n",
        "    h = 1e-4\n",
        "    grad = np.zeros_like(x) # x와 형상이 같은 배열을 생성\n",
        "\n",
        "    for idx in range(x.size):\n",
        "        tmp_val = x[idx]\n",
        "        # f(x+h) 계산\n",
        "        x[idx] = tmp_val + h\n",
        "        fxh1 = f(x)\n",
        "\n",
        "        # f(x-h) 계산\n",
        "        x[idx] = tmp_val - h\n",
        "        fxh2 = f(x)\n",
        "\n",
        "        grad[idx] = (fxh1 - fxh2) / (2*h)\n",
        "        x[idx] = tmp_val # 값 복원\n",
        "\n",
        "    return grad\n",
        "\n",
        "print(numerical_gradient(function_2, np.array([3.0, 4.0])))\n",
        "print(numerical_gradient(function_2, np.array([0.0, 2.0])))\n",
        "print(numerical_gradient(function_2, np.array([3.0, 2.0])))\n",
        "\n",
        "\n",
        "# 그래프\n",
        "import matplotlib.pyplot as plt\n",
        "\n",
        "\n",
        "def _numerical_gradient_no_batch(f, x):\n",
        "    h = 1e-4 # 0.0001\n",
        "    grad = np.zeros_like(x) # x와 형상이 같은 배열을 생성\n",
        "    \n",
        "    for idx in range(x.size):\n",
        "        tmp_val = x[idx]\n",
        "        \n",
        "        # f(x+h) 계산\n",
        "        x[idx] = float(tmp_val) + h\n",
        "        fxh1 = f(x)\n",
        "        \n",
        "        # f(x-h) 계산\n",
        "        x[idx] = tmp_val - h \n",
        "        fxh2 = f(x) \n",
        "        \n",
        "        grad[idx] = (fxh1 - fxh2) / (2*h)\n",
        "        x[idx] = tmp_val # 값 복원\n",
        "        \n",
        "    return grad\n",
        "\n",
        "\n",
        "def numerical_gradient(f, X):\n",
        "    if X.ndim == 1:\n",
        "        return _numerical_gradient_no_batch(f, X)\n",
        "    else:\n",
        "        grad = np.zeros_like(X)\n",
        "        \n",
        "        for idx, x in enumerate(X):\n",
        "            grad[idx] = _numerical_gradient_no_batch(f, x)\n",
        "        \n",
        "        return grad\n",
        "\n",
        "\n",
        "def function_2(x):\n",
        "    if x.ndim == 1:\n",
        "        return np.sum(x**2)\n",
        "    else:\n",
        "        return np.sum(x**2, axis=1)\n",
        "\n",
        "\n",
        "def tangent_line(f, x):\n",
        "    d = numerical_gradient(f, x)\n",
        "    print(d)\n",
        "    y = f(x) - d*x\n",
        "    return lambda t: d*t + y\n",
        "     \n",
        "if __name__ == '__main__':\n",
        "    x0 = np.arange(-2, 2.5, 0.25)\n",
        "    x1 = np.arange(-2, 2.5, 0.25)\n",
        "    X, Y = np.meshgrid(x0, x1)\n",
        "    \n",
        "    X = X.flatten()\n",
        "    Y = Y.flatten()\n",
        "    \n",
        "    grad = numerical_gradient(function_2, np.array([X, Y]) )\n",
        "    \n",
        "    plt.figure()\n",
        "    plt.quiver(X, Y, -grad[0], -grad[1],  angles=\"xy\",color=\"#666666\")#,headwidth=10,scale=40,color=\"#444444\")\n",
        "    plt.xlim([-2, 2])\n",
        "    plt.ylim([-2, 2])\n",
        "    plt.xlabel('x0')\n",
        "    plt.ylabel('x1')\n",
        "    plt.grid()\n",
        "    plt.legend()\n",
        "    plt.draw()\n",
        "    plt.show()"
      ],
      "execution_count": 11,
      "outputs": [
        {
          "output_type": "stream",
          "text": [
            "[6. 8.]\n",
            "[0. 4.]\n",
            "[6. 4.]\n"
          ],
          "name": "stdout"
        },
        {
          "output_type": "stream",
          "text": [
            "No handles with labels found to put in legend.\n"
          ],
          "name": "stderr"
        },
        {
          "output_type": "display_data",
          "data": {
            "image/png": "[encoded data removed]",
            "text/plain": [
              "<Figure size 432x288 with 1 Axes>"
            ]
          },
          "metadata": {
            "tags": [],
            "needs_background": "light"
          }
        }
      ]
    },
    {
      "cell_type": "markdown",
      "metadata": {
        "id": "oTNwHjGHJvIT"
      },
      "source": [
        "### 경사법"
      ]
    },
    {
      "cell_type": "code",
      "metadata": {
        "colab": {
          "base_uri": "https://localhost:8080/"
        },
        "id": "cF8SLPWpGT6U",
        "outputId": "263928d3-8103-4731-f63d-32a4f1f66b5f"
      },
      "source": [
        "def gradient_descent(f, init_x, lr=0.01, step_num=100):\n",
        "    x = init_x\n",
        "\n",
        "    for i in range(step_num):\n",
        "        grad = numerical_gradient(f, x)\n",
        "        x -= lr * grad\n",
        "    return x\n",
        "\n",
        "\n",
        "# 적용\n",
        "def function_2(x):\n",
        "    return x[0]**2 + x[1]**2\n",
        "\n",
        "init_x = np.array([-3.0, 4.0])\n",
        "print(f\"정상 : {gradient_descent(function_2, init_x, lr=0.1, step_num=100)}\")\n",
        "\n",
        "# 학습률이 클 때 : lr = 10.0\n",
        "init_x = np.array([-3.0, 4.0])\n",
        "print(f\"클 때 : {gradient_descent(function_2, init_x, lr=10.0, step_num=100)}\")\n",
        "\n",
        "# 학습률이 작을 때 : lr = 1e-10\n",
        "init_x = np.array([-3.0, 4.0])\n",
        "print(f\"작을 때 : {gradient_descent(function_2, init_x, lr=1e-10, step_num=100)}\")\n"
      ],
      "execution_count": 12,
      "outputs": [
        {
          "output_type": "stream",
          "text": [
            "정상 : [-6.11110793e-10  8.14814391e-10]\n",
            "클 때 : [-2.58983747e+13 -1.29524862e+12]\n",
            "작을 때 : [-2.99999994  3.99999992]\n"
          ],
          "name": "stdout"
        }
      ]
    },
    {
      "cell_type": "markdown",
      "metadata": {
        "id": "7rf1IgmTMEa5"
      },
      "source": [
        "### 신경망에서의 기울기"
      ]
    },
    {
      "cell_type": "code",
      "metadata": {
        "colab": {
          "base_uri": "https://localhost:8080/"
        },
        "id": "e_bxQUeCMDuF",
        "outputId": "1ff15a74-1472-437d-8fef-e5948bd0e8e0"
      },
      "source": [
        "import sys, os\n",
        "path = '/content/drive/MyDrive/DL_from_bottom'\n",
        "os.chdir(path)\n",
        "\n",
        "sys.path.append(os.chdir)\n",
        "\n",
        "from common.functions import softmax, cross_entropy_error\n",
        "from common.gradient import numerical_gradient\n",
        "\n",
        "class simpleNet:\n",
        "    def __init__(self):\n",
        "        self.W = np.random.randn(2,3)  # 정규분포로 초기화\n",
        "\n",
        "    def predict(self, x):\n",
        "        return np.dot(x, self.W)\n",
        "\n",
        "    def loss(self, x, t):\n",
        "        z = self.predict(x)\n",
        "        y = softmax(z)\n",
        "        loss = cross_entropy_error(y, t)\n",
        "\n",
        "        return loss\n",
        "\n",
        "net = simpleNet()\n",
        "print(net.W) # 가중치 매개변수 <- 정규분포로 초기화된 값임\n",
        "\n",
        "x = np.array([0.6, 0.9])\n",
        "p = net.predict(x)\n",
        "print(p)\n",
        "\n",
        "print(np.argmax(p))\n",
        "\n",
        "t = np.array([0, 0, 1]) # 정답 레이블\n",
        "net.loss(x, t)\n",
        "\n",
        "# gradient\n",
        "def f(W):\n",
        "    return net.loss(x, t)\n",
        "\n",
        "dW = numerical_gradient(f, net.W)\n",
        "print(dW)\n",
        "\n",
        "# lambda\n",
        "f = lambda w: net.loss(x, t)\n",
        "dW = numerical_gradient(f, net.W)\n",
        "print(dW)\n"
      ],
      "execution_count": 13,
      "outputs": [
        {
          "output_type": "stream",
          "text": [
            "[[-1.7183211   1.00042644  1.03017526]\n",
            " [ 1.46520972 -0.35572438 -0.42312852]]\n",
            "[0.28769609 0.28010392 0.23728949]\n",
            "0\n",
            "[[ 0.20385419  0.20231235 -0.40616654]\n",
            " [ 0.30578128  0.30346853 -0.60924981]]\n",
            "[[ 0.20385419  0.20231235 -0.40616654]\n",
            " [ 0.30578128  0.30346853 -0.60924981]]\n"
          ],
          "name": "stdout"
        }
      ]
    },
    {
      "cell_type": "markdown",
      "metadata": {
        "id": "8f_JjkI3Q2P9"
      },
      "source": [
        "## 4.5 학습 알고리즘 구현하기\n",
        "\n",
        "\n",
        "* 전제<br/>\n",
        "신경망에는 적응 가능한 가중치와 편향이 있고, 이 가중치와 편향을 훈련 데이터에 적응하도록 조정하는 과정을 '학습'이라 한다. 신경망 학습은 다음과 같이 4단계로 수행\n",
        "\n",
        "* 1단계 - 미니배치<br/>\n",
        "훈련 데이터 중 일부를 무작위로 가져옴. 이렇게 선별한 데이터를 미니배치라 하며, 그 미니배치의 손실 함수 값을 줄이는 것이 목표\n",
        "\n",
        "* 2단계 - 기울기 산출<br/>\n",
        "미니배치의 손실 함수 값을 줄이기 위해 각 가중치 매개변수의 기울기를 구합니다. 기울기는 손실 함수의 값을 가장 작게 하는 방향을 제시합니다.\n",
        "\n",
        "* 3단계 - 매개변수 갱신<br/>\n",
        "가중치 매개변수를 기울기 방향으로 아주 조금 갱신\n",
        "\n",
        "* 4단계 - 반복<br/>\n",
        "1~3단계를 반복한다.\n",
        "\n",
        "\n"
      ]
    },
    {
      "cell_type": "code",
      "metadata": {
        "id": "tsIrnjBlQ180"
      },
      "source": [
        "from common.functions import *\n",
        "from common.gradient import numerical_gradient\n",
        "\n",
        "class TwoLayerNet:\n",
        "    def __init__(self, input_size, hidden_size, output_size,\n",
        "                 weight_init_std=0.01):\n",
        "        # 가중치 초기화\n",
        "        self.params = {}\n",
        "        self.params['W1'] = weight_init_std * \\\n",
        "                            np.random.randn(input_size, hidden_size)\n",
        "        self.params['b1'] = np.zeros(hidden_size) # 임시구현이라 0으로 하는듯\n",
        "        self.params['W2'] = weight_init_std * \\\n",
        "                            np.random.randn(hidden_size, output_size)\n",
        "        self.params['b2'] = np.zeros(output_size)\n",
        "\n",
        "    def predict(self, x):\n",
        "        W1, W2 = self.params['W1'], self.params['W2']\n",
        "        b1, b2 = self.params['b1'], self.params['b2']\n",
        "\n",
        "        a1 = np.dot(x, W1) + b1\n",
        "        z1 = sigmoid(a1)\n",
        "        a2 = np.dot(z1, W2) + b2\n",
        "        y = softmax(a2)\n",
        "\n",
        "        return y\n",
        "\n",
        "    # x : 입력 데이터, t : 정답 레이블\n",
        "    def loss(self, x, t):\n",
        "        y = self.predict(x)\n",
        "\n",
        "        return cross_entropy_error(y, t)\n",
        "\n",
        "    def accuracy(self, x, t):\n",
        "        y = self.predict(x)\n",
        "        y = np.argmax(y, axis=1)\n",
        "        t = np.argmax(t, axis=1)\n",
        "\n",
        "        accuracy = np.sum(y == t) /float(x.shape[0])\n",
        "        return accuracy\n",
        "\n",
        "    def numerical_gradient(self, x, t):\n",
        "        loss_W = lambda W: self.loss(x, t)\n",
        "\n",
        "        # 각각의 Weight와 bias에 대한 손실함수의 기울기 구하는거\n",
        "        grads = {}\n",
        "        grads['W1'] = numerical_gradient(loss_W, self.params['W1'])\n",
        "        grads['b1'] = numerical_gradient(loss_W, self.params['b1'])\n",
        "        grads['W2'] = numerical_gradient(loss_W, self.params['W2'])\n",
        "        grads['b2'] = numerical_gradient(loss_W, self.params['b2'])\n",
        "\n",
        "        return grads\n"
      ],
      "execution_count": 14,
      "outputs": []
    },
    {
      "cell_type": "code",
      "metadata": {
        "colab": {
          "base_uri": "https://localhost:8080/"
        },
        "id": "SYAM4j0_nqbm",
        "outputId": "37ace5d1-c244-44d4-f7bc-00e85b0e60d5"
      },
      "source": [
        "# TwoLayerNet의 인스턴트 변수\n",
        "net = TwoLayerNet(input_size=784, hidden_size=100, output_size=10)\n",
        "print(net.params['W1'].shape)\n",
        "print(net.params['b1'].shape)\n",
        "print(net.params['W2'].shape)\n",
        "print(net.params['b2'].shape)\n",
        "\n",
        "# 예측\n",
        "x = np.random.rand(100, 784) # 데미 입력\n",
        "y = net.predict(x)\n",
        "print(y.shape)\n",
        "\n",
        "# 기울기\n",
        "x = np.random.rand(100, 784)\n",
        "t = np.random.rand(100, 10)\n",
        "# print(t)\n",
        "\n",
        "# grads = net.numerical_gradient(x, t)\n",
        "\n",
        "# print(grads['W1'].shape)\n",
        "# print(grads['b1'].shape)\n",
        "# print(grads['W2'].shape)\n",
        "# print(grads['b2'].shape)"
      ],
      "execution_count": 15,
      "outputs": [
        {
          "output_type": "stream",
          "text": [
            "(784, 100)\n",
            "(100,)\n",
            "(100, 10)\n",
            "(10,)\n",
            "(100, 10)\n"
          ],
          "name": "stdout"
        }
      ]
    },
    {
      "cell_type": "markdown",
      "metadata": {
        "id": "qyzIn2bflWN1"
      },
      "source": [
        "### 미니배치 학습 구현하기"
      ]
    },
    {
      "cell_type": "code",
      "metadata": {
        "id": "wB7pDY38lIq6"
      },
      "source": [
        "from dataset.mnist import load_mnist\n",
        "path = '/content/drive/MyDrive/DL_from_bottom/ch04'\n",
        "os.chdir(path)\n",
        "\n",
        "sys.path.append(os.chdir)\n",
        "from two_layer_net import TwoLayerNet\n",
        "\n",
        "\n",
        "(x_train, t_train), (x_test, t_test) = \\\n",
        "    load_mnist(normalize=True, one_hot_label=True)\n",
        "\n",
        "train_loss_list = []\n",
        "\n",
        "# 하이퍼파라미터\n",
        "iters_num = 10000  # 반복 횟수\n",
        "train_size = x_train.shape[0]\n",
        "batch_size = 100   # 미니배치 크기\n",
        "learning_rate = 0.1\n",
        "\n",
        "network = TwoLayerNet(input_size=784, hidden_size=50, output_size=10)\n",
        "\n",
        "for i in range(iters_num):\n",
        "    # 미니배치 획득\n",
        "    batch_mask = np.random.choice(train_size, batch_size)\n",
        "    x_batch = x_train[batch_mask]\n",
        "    t_batch = t_train[batch_mask]\n",
        "\n",
        "    # 기울기 계산\n",
        "    # grad = network.numerical_gradient(x_batch, t_batch)\n",
        "    grad = network.gradient(x_batch, t_batch) # chap 5 에서 볼 예정\n",
        "\n",
        "    # 매개변수 갱신\n",
        "    for key in ('W1', 'b1', 'W2', 'b2'):\n",
        "        network.params[key] -= learning_rate * grad[key]\n",
        "\n",
        "    # 학습 경과 기록\n",
        "    loss = network.loss(x_batch, t_batch)\n",
        "    train_loss_list.append(loss)\n"
      ],
      "execution_count": 19,
      "outputs": []
    },
    {
      "cell_type": "code",
      "metadata": {
        "colab": {
          "base_uri": "https://localhost:8080/",
          "height": 298
        },
        "id": "TKN88CD61Lz8",
        "outputId": "b49f32f1-0898-4689-a7dd-bc55bc031a1b"
      },
      "source": [
        "# 손실\n",
        "x = np.arange(iters_num)\n",
        "y = train_loss_list\n",
        "\n",
        "# x.shape\n",
        "# len(y)\n",
        "plt.plot(x, y)\n",
        "plt.xlabel('iter')\n",
        "plt.ylabel('loss')\n",
        "plt.show"
      ],
      "execution_count": 26,
      "outputs": [
        {
          "output_type": "execute_result",
          "data": {
            "text/plain": [
              "<function matplotlib.pyplot.show>"
            ]
          },
          "metadata": {
            "tags": []
          },
          "execution_count": 26
        },
        {
          "output_type": "display_data",
          "data": {
            "image/png": "[encoded data removed]",
            "text/plain": [
              "<Figure size 432x288 with 1 Axes>"
            ]
          },
          "metadata": {
            "tags": [],
            "needs_background": "light"
          }
        }
      ]
    },
    {
      "cell_type": "code",
      "metadata": {
        "colab": {
          "base_uri": "https://localhost:8080/"
        },
        "id": "g6owc3dx4fJ0",
        "outputId": "133839bb-4310-4be6-9b08-34bc75d14576"
      },
      "source": [
        "# 훈련 데이터와 시험 데이터 정확도 체크\n",
        "\n",
        "from dataset.mnist import load_mnist\n",
        "path = '/content/drive/MyDrive/DL_from_bottom/ch04'\n",
        "os.chdir(path)\n",
        "\n",
        "sys.path.append(os.chdir)\n",
        "from two_layer_net import TwoLayerNet\n",
        "\n",
        "network = TwoLayerNet(input_size=784, hidden_size=50, output_size=10)\n",
        "\n",
        "iters_num = 10000\n",
        "train_size = x_train.shape[0]\n",
        "batch_size = 100\n",
        "learning_rate = 0.1\n",
        "\n",
        "train_loss_list = []\n",
        "train_acc_list = []\n",
        "test_acc_list = []\n",
        "\n",
        "iter_per_epoch = max(train_size / batch_size, 1) # 1은 배치가 트레인보다 클때를 대비\n",
        "\n",
        "for i in range(iters_num):\n",
        "    batch_mask = np.random.choice(train_size, batch_size)\n",
        "    x_batch = x_train[batch_mask]\n",
        "    t_batch = t_train[batch_mask]\n",
        "\n",
        "    grad = network.gradient(x_batch, t_batch)\n",
        "\n",
        "    for key in ('W1', 'b1', 'W2', 'b2'):\n",
        "        network.params[key] -= learning_rate * grad[key]\n",
        "\n",
        "    loss = network.loss(x_batch, t_batch)\n",
        "    train_loss_list.append(loss)\n",
        "\n",
        "    # 1에폭당 정확도 계산\n",
        "    if i % iter_per_epoch == 0:\n",
        "        train_acc = network.accuracy(x_train, t_train)\n",
        "        test_acc = network.accuracy(x_test, t_test)\n",
        "        train_acc_list.append(train_acc)\n",
        "        test_acc_list.append(test_acc)\n",
        "        print(f\"훈련 정확도 : {train_acc}\")\n",
        "        print(f\"테스트 정확도 : {test_acc}\")\n"
      ],
      "execution_count": 27,
      "outputs": [
        {
          "output_type": "stream",
          "text": [
            "훈련 정확도 : 0.09751666666666667\n",
            "테스트 정확도 : 0.0974\n",
            "훈련 정확도 : 0.7953166666666667\n",
            "테스트 정확도 : 0.7995\n",
            "훈련 정확도 : 0.8762\n",
            "테스트 정확도 : 0.8798\n",
            "훈련 정확도 : 0.8979666666666667\n",
            "테스트 정확도 : 0.9016\n",
            "훈련 정확도 : 0.9074166666666666\n",
            "테스트 정확도 : 0.9109\n",
            "훈련 정확도 : 0.9147333333333333\n",
            "테스트 정확도 : 0.9174\n",
            "훈련 정확도 : 0.91945\n",
            "테스트 정확도 : 0.9217\n",
            "훈련 정확도 : 0.9232666666666667\n",
            "테스트 정확도 : 0.9258\n",
            "훈련 정확도 : 0.9267833333333333\n",
            "테스트 정확도 : 0.9282\n",
            "훈련 정확도 : 0.93055\n",
            "테스트 정확도 : 0.9289\n",
            "훈련 정확도 : 0.9323\n",
            "테스트 정확도 : 0.9332\n",
            "훈련 정확도 : 0.93595\n",
            "테스트 정확도 : 0.9369\n",
            "훈련 정확도 : 0.9391166666666667\n",
            "테스트 정확도 : 0.9387\n",
            "훈련 정확도 : 0.9407666666666666\n",
            "테스트 정확도 : 0.9396\n",
            "훈련 정확도 : 0.9432666666666667\n",
            "테스트 정확도 : 0.9422\n",
            "훈련 정확도 : 0.9454666666666667\n",
            "테스트 정확도 : 0.9435\n",
            "훈련 정확도 : 0.9468833333333333\n",
            "테스트 정확도 : 0.9463\n"
          ],
          "name": "stdout"
        }
      ]
    },
    {
      "cell_type": "code",
      "metadata": {
        "colab": {
          "base_uri": "https://localhost:8080/",
          "height": 302
        },
        "id": "a_yp9oq2BAi0",
        "outputId": "ba743c5d-8889-4d44-b46b-3410c0402ac1"
      },
      "source": [
        "# 정확도 그래프\n",
        "\n",
        "x = np.arange(len(train_acc_list))\n",
        "y1 = train_acc_list\n",
        "y2 = test_acc_list\n",
        "\n",
        "\n",
        "plt.plot(x, y1, label='train')\n",
        "plt.plot(x, y2, label='test', linestyle='--')\n",
        "plt.xlabel('epoch')\n",
        "plt.ylabel('accuracy')\n",
        "plt.ylim(0, 1.0)\n",
        "plt.legend()\n",
        "plt.show"
      ],
      "execution_count": 34,
      "outputs": [
        {
          "output_type": "execute_result",
          "data": {
            "text/plain": [
              "<function matplotlib.pyplot.show>"
            ]
          },
          "metadata": {
            "tags": []
          },
          "execution_count": 34
        },
        {
          "output_type": "display_data",
          "data": {
            "image/png": "[encoded data removed]",
            "text/plain": [
              "<Figure size 432x288 with 1 Axes>"
            ]
          },
          "metadata": {
            "tags": [],
            "needs_background": "light"
          }
        }
      ]
    }
  ]
}