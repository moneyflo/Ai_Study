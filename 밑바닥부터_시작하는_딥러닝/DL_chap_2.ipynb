{
  "nbformat": 4,
  "nbformat_minor": 0,
  "metadata": {
    "colab": {
      "name": "DL_chap_2.ipynb",
      "provenance": [],
      "collapsed_sections": []
    },
    "kernelspec": {
      "name": "python3",
      "display_name": "Python 3"
    },
    "language_info": {
      "name": "python"
    }
  },
  "cells": [
    {
      "cell_type": "markdown",
      "metadata": {
        "id": "oe9Mklb-VRkc"
      },
      "source": [
        "# Chapter 2 Perceptron"
      ]
    },
    {
      "cell_type": "markdown",
      "metadata": {
        "id": "IeZjshB0ZZE8"
      },
      "source": [
        "## 2.2 단순한 논리 회로\n",
        "* AND 게이트\n",
        "* NAND 게이트와 OR 게이트"
      ]
    },
    {
      "cell_type": "code",
      "metadata": {
        "id": "n3l0MVc8VPC3"
      },
      "source": [
        "# AND\n",
        "def AND(x1, x2):\n",
        "    w1, w2, theta = 0.5, 0.5, 0.7\n",
        "    tmp = x1*w1 + x2*w2\n",
        "    if tmp <= theta:\n",
        "        return 0\n",
        "    elif tmp > theta: # 보기좋게 else 안쓴듯\n",
        "        return 1\n",
        "\n",
        "AND(0, 0)\n",
        "AND(1, 0)\n",
        "AND(0, 1)\n",
        "AND(1, 1)\n",
        "\n",
        "import numpy as np\n",
        "x = np.array([0, 1])\n",
        "w = np.array([0.5, 0.5])\n",
        "b = -0.7\n",
        "\n",
        "w*x\n",
        "\n",
        "np.sum(w*x)\n",
        "\n",
        "np.sum(w*x) + b  # 부동소수점 수에 의한 연산 오차 나타남\n",
        "\n",
        "# AND + weight and bias\n",
        "def AND(x1, x2):\n",
        "    x = np.array([x1, x2])\n",
        "    w = np.array([0.5, 0.5])\n",
        "    b = -0.7                    # 뉴런이 얼마나 쉽게 활성화 되느냐를 조정\n",
        "    tmp = np.sum(x*w) + b \n",
        "    if tmp <= 0:\n",
        "        return 0\n",
        "    else:\n",
        "        return 1\n",
        "\n",
        "def NAND(x1, x2):\n",
        "    x = np.array([x1, x2])\n",
        "    w = np.array([-0.5, -0.5])\n",
        "    b = 0.7\n",
        "    tmp = np.sum(x*w) + b\n",
        "    if tmp <= 0:\n",
        "        return 0\n",
        "    else:\n",
        "        return 1\n",
        "\n",
        "def OR(x1, x2):\n",
        "    x = np.array([x1, x2])\n",
        "    w = np.array([0.5, 0.5])\n",
        "    b = -0.1\n",
        "    tmp = np.sum(x*w) + b\n",
        "    if tmp <= 0:\n",
        "        return 0\n",
        "    else:\n",
        "        return 1\n"
      ],
      "execution_count": 22,
      "outputs": []
    },
    {
      "cell_type": "markdown",
      "metadata": {
        "id": "KRnPaIGSdmZK"
      },
      "source": [
        "XOR 게이트"
      ]
    },
    {
      "cell_type": "code",
      "metadata": {
        "colab": {
          "base_uri": "https://localhost:8080/",
          "height": 265
        },
        "id": "RHrl_EB6dnbu",
        "outputId": "d7dcee03-86d8-496e-bac0-10514c75c26a"
      },
      "source": [
        "# OR 게이트 그림\n",
        "\n",
        "import matplotlib.pyplot as plt\n",
        "x = np.arange(-2, 2, 0.1)\n",
        "y = -x + 0.5\n",
        "\n",
        "plt.axvline(x=0, color='r')\n",
        "plt.axhline(y=0, color='r')\n",
        "plt.scatter(0, 0, c='g')\n",
        "plt.scatter(1, 0, c='g', marker='^')\n",
        "plt.scatter(0, 1, c='g', marker='^')\n",
        "plt.scatter(1, 1, c='g', marker='^')\n",
        "plt.plot(x, y)\n",
        "plt.grid()"
      ],
      "execution_count": 29,
      "outputs": [
        {
          "output_type": "display_data",
          "data": {
            "image/png": "[encoded data removed]",
            "text/plain": [
              "<Figure size 432x288 with 1 Axes>"
            ]
          },
          "metadata": {
            "tags": [],
            "needs_background": "light"
          }
        }
      ]
    },
    {
      "cell_type": "code",
      "metadata": {
        "colab": {
          "base_uri": "https://localhost:8080/"
        },
        "id": "yzEQ8_Q4hsX7",
        "outputId": "1ca3a805-f11e-4852-c834-0480f01acf02"
      },
      "source": [
        "# XOR\n",
        "def XOR(x1, x2):\n",
        "    s1 = NAND(x1, x2)\n",
        "    s2 = OR(x1, x2)\n",
        "    y = AND(s1, s2)\n",
        "    return y\n",
        "\n",
        "XOR(0, 0)\n",
        "XOR(1, 0)\n",
        "XOR(0, 1)\n",
        "XOR(1, 1)"
      ],
      "execution_count": 26,
      "outputs": [
        {
          "output_type": "execute_result",
          "data": {
            "text/plain": [
              "0"
            ]
          },
          "metadata": {
            "tags": []
          },
          "execution_count": 26
        }
      ]
    },
    {
      "cell_type": "markdown",
      "metadata": {
        "id": "UVfJoSUGk_iR"
      },
      "source": [
        "이렇게 뉴런에서의 출력값을 변경 시키는 함수를 activation function 이라함<br/>\n",
        "여기서 활성화 함수를 sigmoid로 바꾸면 로지스틱 회귀<br/>\n",
        "여기선 가중치를 직접 설정했지만 뒤에선 학습함"
      ]
    }
  ]
}