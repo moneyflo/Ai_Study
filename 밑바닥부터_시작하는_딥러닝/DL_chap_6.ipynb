{
  "nbformat": 4,
  "nbformat_minor": 0,
  "metadata": {
    "colab": {
      "name": "DL_chap_6.ipynb",
      "provenance": []
    },
    "kernelspec": {
      "name": "python3",
      "display_name": "Python 3"
    },
    "language_info": {
      "name": "python"
    }
  },
  "cells": [
    {
      "cell_type": "markdown",
      "metadata": {
        "id": "AolD97vFIhOw"
      },
      "source": [
        "# Chapter 6 학습 관련 기술들"
      ]
    },
    {
      "cell_type": "markdown",
      "metadata": {
        "id": "CLzGzOlVJRJR"
      },
      "source": [
        "## 6.1 매개변수 갱신"
      ]
    },
    {
      "cell_type": "markdown",
      "metadata": {
        "id": "vPLUkmAHJoZz"
      },
      "source": [
        "### 6.1.2 확률적 경사 하강법(SGD)\n",
        "$W ⬅ W - \\eta\\frac{\\partial L}{\\partial W} $"
      ]
    },
    {
      "cell_type": "code",
      "metadata": {
        "id": "LbVGgfT29jOm"
      },
      "source": [
        "# 구현\n",
        "class SGD:\n",
        "    def __init__(self, lr=0.01):\n",
        "        self.lr = lr\n",
        "\n",
        "    def update(self, params, grads):\n",
        "        for key in params.keys():\n",
        "            params[key] -= self.lr * grads[key]\n",
        "            "
      ],
      "execution_count": 1,
      "outputs": []
    },
    {
      "cell_type": "markdown",
      "metadata": {
        "id": "Av0MxByeN0Un"
      },
      "source": [
        "SGD의 단점은 비등방성함수에서는 탐색 경로가 비효율적이라는것.<br/>\n",
        "이를 개선한게 모멘텀, AdaGrad, Adam"
      ]
    },
    {
      "cell_type": "markdown",
      "metadata": {
        "id": "cQ0jXXWcN_lJ"
      },
      "source": [
        "### 6.1.4 모멘텀\n",
        "$v ⬅ \\alpha v - \\eta\\frac{\\partial L}{\\partial W} $ <br/>\n",
        "$W ⬅ W + v $"
      ]
    },
    {
      "cell_type": "code",
      "metadata": {
        "id": "A5WjNW1dNiB4"
      },
      "source": [
        "# 구현\n",
        "class Momentum:\n",
        "    def __init__(self, lr=0.01, momentum=0.9):\n",
        "        self.lr = lr\n",
        "        self.momentum = momentum\n",
        "        self.v = None\n",
        "\n",
        "    def update(self, params, grads):\n",
        "        if self.v is None:\n",
        "            self.v = {}\n",
        "            for key, val in params.items():\n",
        "                self.v[key] = np.zeros_like(val)\n",
        "\n",
        "        for key in params.keys():\n",
        "            self.v[key] = self.momentum*self.v[key] - self.lr*grads[key]\n",
        "            params[key] += self.v[key]\n",
        "            "
      ],
      "execution_count": null,
      "outputs": []
    },
    {
      "cell_type": "markdown",
      "metadata": {
        "id": "rXVIH68iRB5E"
      },
      "source": [
        "### 6.1.5 AdaGrad\n",
        "$h ⬅ h + \\frac{\\partial L}{\\partial W} ⊙ \\frac{\\partial L}{\\partial W} $<br/>\n",
        "$W ⬅ W - \\eta \\frac{1}{\\sqrt h} \\frac{\\partial L}{\\partial W} $\n",
        "* 각각의 매개변수에 적응적으로 '학습률'을 조정하면서 학습을 진행\n"
      ]
    },
    {
      "cell_type": "code",
      "metadata": {
        "id": "K8zovT_sRD5p"
      },
      "source": [
        "# 구현\n",
        "class AdaGrad:\n",
        "    def __init__(self, lr=0.01):\n",
        "        self.lr = lr\n",
        "        self.h = None\n",
        "    \n",
        "    def update(self, params, grads):\n",
        "        if self.h is None:\n",
        "            self.h = {}\n",
        "            for key, val in params.items():\n",
        "                self.h[key] = np.zeros_like(val)\n",
        "\n",
        "        for key in params.keys():\n",
        "            self.h[key] += grads[key] * grads[key]\n",
        "            params[key] -= self.lr * grads[key] / (np.sqrt(self.h[key]) + 1e-7)"
      ],
      "execution_count": 3,
      "outputs": []
    },
    {
      "cell_type": "markdown",
      "metadata": {
        "id": "2MIbq8ybTj9C"
      },
      "source": [
        "### 6.1.6 Adam\n",
        "* 모멘텀과 AdaGGrad를 융합한 듯한 방법\n",
        "* 하이퍼파라미터의 '편향 보정'"
      ]
    },
    {
      "cell_type": "code",
      "metadata": {
        "id": "2hpsxi_rTnzH"
      },
      "source": [
        "# 구현\n",
        "class Adam:\n",
        "    def __init__(self, lr=0.001, beta1=0.9, beta2=0.999):\n",
        "        self.lr = lr\n",
        "        self.beta1 = beta1\n",
        "        self.beta2 = beta2\n",
        "        self.iter = 0\n",
        "        self.m = None\n",
        "        self.v = None\n",
        "\n",
        "    def update(self, params, grads):\n",
        "        if self.m is None:\n",
        "            self.m, self.v = {}, {}\n",
        "            for key, val in params.items():\n",
        "                self.m[key] = np.zeros_like(val)\n",
        "                self.v[key] = np.zeros_like(val)\n",
        "\n",
        "        self.iter += 1\n",
        "        lr_t = self.lr * np.sqrt(1.0 - self.beta2**self.iter) / (1.0 - self.beta1**self.iter)\n",
        "\n",
        "        for key in params.keys():\n",
        "            self.m[key] += (1 - self.beta1) * (grads[key] - self.m[key])\n",
        "            self.v[key] += (1 - self.beta2) * (grads[key]**2 - self.v[key])\n",
        "\n",
        "            params[key] -= lr_t * self.m[key] / (np.sqrt(self.v[key]) + 1e-7)"
      ],
      "execution_count": null,
      "outputs": []
    },
    {
      "cell_type": "markdown",
      "metadata": {
        "id": "vNu2PgCjYsvg"
      },
      "source": [
        "### RMSprop\n",
        "* AdaGrad에서 과거 값을 점점 잊어가면서 갱신\n",
        "* 이를 지수이동평균이라 하며, 과거 기울기의 반영 규모를 기하급수적으로 감소시킴"
      ]
    },
    {
      "cell_type": "code",
      "metadata": {
        "id": "hRfYrDzZY80W"
      },
      "source": [
        "# 구현\n",
        "class RMSprop:\n",
        "    def __init__(self, lr =0.01, decay_rate = 0.99):\n",
        "        self.lr = lr\n",
        "        self.decay_rate = decay_rate\n",
        "        self.h = None\n",
        "\n",
        "    def update(self, params, grads):\n",
        "        if self.h is None:\n",
        "            self.h = {}\n",
        "            for key, val in params.items():\n",
        "                self.h[key] = np.zeros_like(val)\n",
        "\n",
        "        for key in params.keys():\n",
        "            self.h[key] *= self.decay_rate\n",
        "            self.h[key] += (1 - self.decay_rate) * grads[key] * grads[key]\n",
        "            params[key] -= self.lr * grads[key] / (np.sqrt(self.h[key]) + 1e-7)"
      ],
      "execution_count": null,
      "outputs": []
    },
    {
      "cell_type": "markdown",
      "metadata": {
        "id": "ohToKfbPajxR"
      },
      "source": [
        "### 6.1.7 갱신 방법 비교"
      ]
    },
    {
      "cell_type": "code",
      "metadata": {
        "colab": {
          "base_uri": "https://localhost:8080/",
          "height": 295
        },
        "id": "AaYS-FdSaltC",
        "outputId": "276773d7-2022-4d45-f2fa-89820c40e25c"
      },
      "source": [
        "import sys, os\n",
        "path = '/content/drive/MyDrive/DL_from_bottom'\n",
        "os.chdir(path)\n",
        "sys.path.append(os.chdir)\n",
        "\n",
        "import numpy as np\n",
        "import matplotlib.pyplot as plt\n",
        "from collections import OrderedDict\n",
        "from common.optimizer import *\n",
        "from common.layers import *\n",
        "\n",
        "\n",
        "def f(x, y):\n",
        "    return x**2 / 20.0 + y**2\n",
        "\n",
        "\n",
        "def df(x, y):\n",
        "    return x / 10.0, 2.0*y\n",
        "\n",
        "init_pos = (-7.0, 2.0)\n",
        "params = {}\n",
        "params['x'], params['y'] = init_pos[0], init_pos[1]\n",
        "grads = {}\n",
        "grads['x'], grads['y'] = 0, 0\n",
        "\n",
        "\n",
        "optimizers = OrderedDict()\n",
        "optimizers[\"SGD\"] = SGD(lr=0.95)\n",
        "optimizers[\"Momentum\"] = Momentum(lr=0.1)\n",
        "optimizers[\"AdaGrad\"] = AdaGrad(lr=1.5)\n",
        "optimizers[\"Adam\"] = Adam(lr=0.3)\n",
        "\n",
        "idx = 1\n",
        "for key in optimizers:\n",
        "    optimizer = optimizers[key]\n",
        "    x_history = []\n",
        "    y_history = []\n",
        "    params['x'], params['y'] = init_pos[0], init_pos[1]\n",
        "    \n",
        "    for i in range(30):\n",
        "        x_history.append(params['x'])\n",
        "        y_history.append(params['y'])\n",
        "        \n",
        "        grads['x'], grads['y'] = df(params['x'], params['y'])\n",
        "        optimizer.update(params, grads)\n",
        "    \n",
        "\n",
        "    x = np.arange(-10, 10, 0.01)\n",
        "    y = np.arange(-5, 5, 0.01)\n",
        "    \n",
        "    X, Y = np.meshgrid(x, y) \n",
        "    Z = f(X, Y)\n",
        "    \n",
        "    # 외곽선 단순화\n",
        "    mask = Z > 7\n",
        "    Z[mask] = 0\n",
        "    \n",
        "    # 그래프 그리기\n",
        "    plt.subplot(2, 2, idx)\n",
        "    idx += 1\n",
        "    plt.plot(x_history, y_history, 'o-', color=\"red\")\n",
        "    plt.contour(X, Y, Z)\n",
        "    plt.ylim(-10, 10)\n",
        "    plt.xlim(-10, 10)\n",
        "    plt.plot(0, 0, '+')\n",
        "    #colorbar()\n",
        "    #spring()\n",
        "    plt.title(key)\n",
        "    plt.xlabel(\"x\")\n",
        "    plt.ylabel(\"y\")\n",
        "    \n",
        "plt.show()"
      ],
      "execution_count": 13,
      "outputs": [
        {
          "output_type": "display_data",
          "data": {
            "image/png": "[encoded data removed]",
            "text/plain": [
              "<Figure size 432x288 with 4 Axes>"
            ]
          },
          "metadata": {
            "tags": [],
            "needs_background": "light"
          }
        }
      ]
    },
    {
      "cell_type": "markdown",
      "metadata": {
        "id": "VmyUy1Xqc5MK"
      },
      "source": [
        "### 6.1.8 MNIST 데이터셋으로 본 갱신 방법 비교"
      ]
    },
    {
      "cell_type": "code",
      "metadata": {
        "id": "bmD2-XDviOE8"
      },
      "source": [
        "class MultiLayerNet:\n",
        "    \"\"\"완전연결 다층 신경망\n",
        "\n",
        "    Parameters\n",
        "    ----------\n",
        "    input_size : 입력 크기（MNIST의 경우엔 784）\n",
        "    hidden_size_list : 각 은닉층의 뉴런 수를 담은 리스트（e.g. [100, 100, 100]）\n",
        "    output_size : 출력 크기（MNIST의 경우엔 10）\n",
        "    activation : 활성화 함수 - 'relu' 혹은 'sigmoid'\n",
        "    weight_init_std : 가중치의 표준편차 지정（e.g. 0.01）\n",
        "        'relu'나 'he'로 지정하면 'He 초깃값'으로 설정\n",
        "        'sigmoid'나 'xavier'로 지정하면 'Xavier 초깃값'으로 설정\n",
        "    weight_decay_lambda : 가중치 감소(L2 법칙)의 세기\n",
        "    \"\"\"\n",
        "    def __init__(self, input_size, hidden_size_list, output_size,\n",
        "                 activation='relu', weight_init_std='relu', weight_decay_lambda=0):\n",
        "        self.input_size = input_size\n",
        "        self.output_size = output_size\n",
        "        self.hidden_size_list = hidden_size_list\n",
        "        self.hidden_layer_num = len(hidden_size_list)\n",
        "        self.weight_decay_lambda = weight_decay_lambda\n",
        "        self.params = {}\n",
        "\n",
        "        # 가중치 초기화\n",
        "        self.__init_weight(weight_init_std)\n",
        "\n",
        "        # 계층 생성\n",
        "        activation_layer = {'sigmoid': Sigmoid, 'relu': Relu}\n",
        "        self.layers = OrderedDict()\n",
        "        for idx in range(1, self.hidden_layer_num+1):\n",
        "            self.layers['Affine' + str(idx)] = Affine(self.params['W' + str(idx)],\n",
        "                                                      self.params['b' + str(idx)])\n",
        "            self.layers['Activation_function' + str(idx)] = activation_layer[activation]()\n",
        "\n",
        "        idx = self.hidden_layer_num + 1\n",
        "        self.layers['Affine' + str(idx)] = Affine(self.params['W' + str(idx)],\n",
        "            self.params['b' + str(idx)])\n",
        "\n",
        "        self.last_layer = SoftmaxWithLoss()\n",
        "\n",
        "    def __init_weight(self, weight_init_std):\n",
        "        \"\"\"가중치 초기화\n",
        "        \n",
        "        Parameters\n",
        "        ----------\n",
        "        weight_init_std : 가중치의 표준편차 지정（e.g. 0.01）\n",
        "            'relu'나 'he'로 지정하면 'He 초깃값'으로 설정\n",
        "            'sigmoid'나 'xavier'로 지정하면 'Xavier 초깃값'으로 설정\n",
        "        \"\"\"\n",
        "        all_size_list = [self.input_size] + self.hidden_size_list + [self.output_size]\n",
        "        for idx in range(1, len(all_size_list)):\n",
        "            scale = weight_init_std\n",
        "            if str(weight_init_std).lower() in ('relu', 'he'):\n",
        "                scale = np.sqrt(2.0 / all_size_list[idx - 1])  # ReLU를 사용할 때의 권장 초깃값\n",
        "            elif str(weight_init_std).lower() in ('sigmoid', 'xavier'):\n",
        "                scale = np.sqrt(1.0 / all_size_list[idx - 1])  # sigmoid를 사용할 때의 권장 초깃값\n",
        "            self.params['W' + str(idx)] = scale * np.random.randn(all_size_list[idx-1], all_size_list[idx])\n",
        "            self.params['b' + str(idx)] = np.zeros(all_size_list[idx])\n",
        "\n",
        "    def predict(self, x):\n",
        "        for layer in self.layers.values():\n",
        "            x = layer.forward(x)\n",
        "\n",
        "        return x\n",
        "\n",
        "    def loss(self, x, t):\n",
        "        \"\"\"손실 함수를 구한다.\n",
        "        \n",
        "        Parameters\n",
        "        ----------\n",
        "        x : 입력 데이터\n",
        "        t : 정답 레이블 \n",
        "        \n",
        "        Returns\n",
        "        -------\n",
        "        손실 함수의 값\n",
        "        \"\"\"\n",
        "        y = self.predict(x)\n",
        "\n",
        "        weight_decay = 0\n",
        "        for idx in range(1, self.hidden_layer_num + 2):\n",
        "            W = self.params['W' + str(idx)]\n",
        "            weight_decay += 0.5 * self.weight_decay_lambda * np.sum(W ** 2)\n",
        "\n",
        "        return self.last_layer.forward(y, t) + weight_decay\n",
        "\n",
        "    def accuracy(self, x, t):\n",
        "        y = self.predict(x)\n",
        "        y = np.argmax(y, axis=1)\n",
        "        if t.ndim != 1 : t = np.argmax(t, axis=1)\n",
        "\n",
        "        accuracy = np.sum(y == t) / float(x.shape[0])\n",
        "        return accuracy\n",
        "\n",
        "    def numerical_gradient(self, x, t):\n",
        "        \"\"\"기울기를 구한다(수치 미분).\n",
        "        \n",
        "        Parameters\n",
        "        ----------\n",
        "        x : 입력 데이터\n",
        "        t : 정답 레이블\n",
        "        \n",
        "        Returns\n",
        "        -------\n",
        "        각 층의 기울기를 담은 딕셔너리(dictionary) 변수\n",
        "            grads['W1']、grads['W2']、... 각 층의 가중치\n",
        "            grads['b1']、grads['b2']、... 각 층의 편향\n",
        "        \"\"\"\n",
        "        loss_W = lambda W: self.loss(x, t)\n",
        "\n",
        "        grads = {}\n",
        "        for idx in range(1, self.hidden_layer_num+2):\n",
        "            grads['W' + str(idx)] = numerical_gradient(loss_W, self.params['W' + str(idx)])\n",
        "            grads['b' + str(idx)] = numerical_gradient(loss_W, self.params['b' + str(idx)])\n",
        "\n",
        "        return grads\n",
        "\n",
        "    def gradient(self, x, t):\n",
        "        \"\"\"기울기를 구한다(오차역전파법).\n",
        "\n",
        "        Parameters\n",
        "        ----------\n",
        "        x : 입력 데이터\n",
        "        t : 정답 레이블\n",
        "        \n",
        "        Returns\n",
        "        -------\n",
        "        각 층의 기울기를 담은 딕셔너리(dictionary) 변수\n",
        "            grads['W1']、grads['W2']、... 각 층의 가중치\n",
        "            grads['b1']、grads['b2']、... 각 층의 편향\n",
        "        \"\"\"\n",
        "        # forward\n",
        "        self.loss(x, t)\n",
        "\n",
        "        # backward\n",
        "        dout = 1\n",
        "        dout = self.last_layer.backward(dout)\n",
        "\n",
        "        layers = list(self.layers.values())\n",
        "        layers.reverse()\n",
        "        for layer in layers:\n",
        "            dout = layer.backward(dout)\n",
        "\n",
        "        # 결과 저장\n",
        "        grads = {}\n",
        "        for idx in range(1, self.hidden_layer_num+2):\n",
        "            grads['W' + str(idx)] = self.layers['Affine' + str(idx)].dW + self.weight_decay_lambda * self.layers['Affine' + str(idx)].W\n",
        "            grads['b' + str(idx)] = self.layers['Affine' + str(idx)].db\n",
        "\n",
        "        return grads"
      ],
      "execution_count": 14,
      "outputs": []
    },
    {
      "cell_type": "code",
      "metadata": {
        "colab": {
          "base_uri": "https://localhost:8080/",
          "height": 1000
        },
        "id": "kjckMH0SdBql",
        "outputId": "bf417d67-6bba-4117-8fa2-a3f40800d832"
      },
      "source": [
        "from dataset.mnist import load_mnist\n",
        "from common.util import smooth_curve\n",
        "# from.multi_layer_net import MultiLayerNet\n",
        "\n",
        "# MNIST 데이터 읽기\n",
        "(x_train, t_train), (x_test, t_test) = load_mnist(normalize=True)  # 원핫 인코딩 안함\n",
        "\n",
        "train_size = x_train.shape[0]\n",
        "batch_size = 128\n",
        "max_iterations = 2000\n",
        "\n",
        "# 실험용 설정\n",
        "optimizers = {}\n",
        "optimizers['SGD'] = SGD()\n",
        "optimizers['Momentum'] = Momentum()\n",
        "optimizers['AdaGrad'] = AdaGrad()\n",
        "optimizers['Adam'] = Adam()\n",
        "optimizers['RMSprop'] = RMSprop()\n",
        "\n",
        "networks = {}\n",
        "train_loss = {}\n",
        "for key in optimizers.keys():\n",
        "    networks[key] = MultiLayerNet(\n",
        "        input_size=784, hidden_size_list=[100, 100, 100, 100],\n",
        "        output_size=10)\n",
        "    train_loss[key] = []\n",
        "\n",
        "# 훈련\n",
        "for i in range(max_iterations):\n",
        "    batch_mask = np.random.choice(train_size, batch_size)\n",
        "    x_batch = x_train[batch_mask]\n",
        "    t_batch = t_train[batch_mask]\n",
        "\n",
        "    for key in optimizers.keys():\n",
        "        grads = networks[key].gradient(x_batch, t_batch)\n",
        "        optimizers[key].update(networks[key].params, grads)\n",
        "\n",
        "        loss = networks[key].loss(x_batch, t_batch)\n",
        "        train_loss[key].append(loss)\n",
        "\n",
        "    if i % 100 == 0:\n",
        "        print(\"===========\" + \"iteration:\" + str(i) + \"============\")\n",
        "        for key in optimizers.keys():\n",
        "            loss = networks[key].loss(x_batch, t_batch)\n",
        "            print(key + \":\" + str(loss))\n",
        "\n",
        "# 그래프 그리기\n",
        "markers = {\"SGD\": \"o\", \"Momentum\": \"x\", \"AdaGrad\": \"s\", \"Adam\": \"D\", \"RMSprop\": \"+\"}\n",
        "x = np.arange(max_iterations)\n",
        "for key in optimizers.keys():\n",
        "    plt.plot(x, smooth_curve(train_loss[key]), marker=markers[key], markevery=100, label=key)\n",
        "plt.xlabel(\"iterations\")\n",
        "plt.ylabel(\"loss\")\n",
        "plt.ylim(0, 1)\n",
        "plt.legend()\n",
        "plt.show()\n"
      ],
      "execution_count": 16,
      "outputs": [
        {
          "output_type": "stream",
          "text": [
            "===========iteration:0============\n",
            "SGD:2.3618970622643145\n",
            "Momentum:2.403741644233034\n",
            "AdaGrad:1.9869183202280585\n",
            "Adam:2.1611698109533215\n",
            "RMSprop:14.851615340766354\n",
            "===========iteration:100============\n",
            "SGD:1.6219808582492292\n",
            "Momentum:0.34521086999827244\n",
            "AdaGrad:0.15014084309089593\n",
            "Adam:0.2962318716111155\n",
            "RMSprop:0.4417315904122495\n",
            "===========iteration:200============\n",
            "SGD:0.8141830701055317\n",
            "Momentum:0.23725787706708423\n",
            "AdaGrad:0.06315661539754328\n",
            "Adam:0.15460868131937439\n",
            "RMSprop:0.1842022732699392\n",
            "===========iteration:300============\n",
            "SGD:0.497933792957213\n",
            "Momentum:0.16554084266061014\n",
            "AdaGrad:0.06161264366498401\n",
            "Adam:0.11573218529930099\n",
            "RMSprop:0.08314059573837379\n",
            "===========iteration:400============\n",
            "SGD:0.4504375358145778\n",
            "Momentum:0.18953408428548638\n",
            "AdaGrad:0.1132711585211304\n",
            "Adam:0.18101578741440433\n",
            "RMSprop:0.1763301613583668\n",
            "===========iteration:500============\n",
            "SGD:0.37208566175257085\n",
            "Momentum:0.12565756537682013\n",
            "AdaGrad:0.07499303417020682\n",
            "Adam:0.07145785064401892\n",
            "RMSprop:0.10210523256495592\n",
            "===========iteration:600============\n",
            "SGD:0.33158831220609836\n",
            "Momentum:0.10535030742386108\n",
            "AdaGrad:0.06354786541043755\n",
            "Adam:0.08851281594479941\n",
            "RMSprop:0.12631040485636819\n",
            "===========iteration:700============\n",
            "SGD:0.3584595491270143\n",
            "Momentum:0.11689342643803946\n",
            "AdaGrad:0.05400163579801349\n",
            "Adam:0.07331772124099416\n",
            "RMSprop:0.4061296353683963\n",
            "===========iteration:800============\n",
            "SGD:0.3688623108697239\n",
            "Momentum:0.18863946957797978\n",
            "AdaGrad:0.071673573433574\n",
            "Adam:0.08023948786287176\n",
            "RMSprop:0.1482463661527389\n",
            "===========iteration:900============\n",
            "SGD:0.4205341420227221\n",
            "Momentum:0.17406797255853235\n",
            "AdaGrad:0.08034562791149764\n",
            "Adam:0.12269570656880102\n",
            "RMSprop:0.145473760589782\n",
            "===========iteration:1000============\n",
            "SGD:0.48920430154817107\n",
            "Momentum:0.20258420673746208\n",
            "AdaGrad:0.08394791708723659\n",
            "Adam:0.16137225796825239\n",
            "RMSprop:0.1674878002378289\n",
            "===========iteration:1100============\n",
            "SGD:0.29635098681515065\n",
            "Momentum:0.12600776288590432\n",
            "AdaGrad:0.030526827360898356\n",
            "Adam:0.05512515289014287\n",
            "RMSprop:0.09255587020389795\n",
            "===========iteration:1200============\n",
            "SGD:0.2963715187868319\n",
            "Momentum:0.09432001604768332\n",
            "AdaGrad:0.056411156657032516\n",
            "Adam:0.04247773674033158\n",
            "RMSprop:0.059192373524541625\n",
            "===========iteration:1300============\n",
            "SGD:0.26242001795896575\n",
            "Momentum:0.10733028490597496\n",
            "AdaGrad:0.037077007932368275\n",
            "Adam:0.033765881562940026\n",
            "RMSprop:0.12830864020667487\n",
            "===========iteration:1400============\n",
            "SGD:0.36125941759230207\n",
            "Momentum:0.17677192507678047\n",
            "AdaGrad:0.1166224428449745\n",
            "Adam:0.11674138619904492\n",
            "RMSprop:0.08879037243720815\n",
            "===========iteration:1500============\n",
            "SGD:0.29931998092383827\n",
            "Momentum:0.09639606116665297\n",
            "AdaGrad:0.04811075528098897\n",
            "Adam:0.06263898582313314\n",
            "RMSprop:0.12366465333155413\n",
            "===========iteration:1600============\n",
            "SGD:0.2904211938475709\n",
            "Momentum:0.07943142383495408\n",
            "AdaGrad:0.04670630041405109\n",
            "Adam:0.06665949876722592\n",
            "RMSprop:0.12897044252948178\n",
            "===========iteration:1700============\n",
            "SGD:0.141844541764659\n",
            "Momentum:0.0229406949382423\n",
            "AdaGrad:0.014991255693107611\n",
            "Adam:0.03546236703710039\n",
            "RMSprop:0.008059167227395483\n",
            "===========iteration:1800============\n",
            "SGD:0.2065043070491156\n",
            "Momentum:0.08840242814547139\n",
            "AdaGrad:0.06212108322724622\n",
            "Adam:0.07336200129285138\n",
            "RMSprop:0.1184278234435027\n",
            "===========iteration:1900============\n",
            "SGD:0.1677797476861992\n",
            "Momentum:0.04042673025350067\n",
            "AdaGrad:0.02189864608558583\n",
            "Adam:0.04011810853187099\n",
            "RMSprop:0.052614097238386254\n"
          ],
          "name": "stdout"
        },
        {
          "output_type": "display_data",
          "data": {
            "image/png": "[encoded data removed]",
            "text/plain": [
              "<Figure size 432x288 with 1 Axes>"
            ]
          },
          "metadata": {
            "tags": [],
            "needs_background": "light"
          }
        }
      ]
    },
    {
      "cell_type": "markdown",
      "metadata": {
        "id": "526-XwXukU7a"
      },
      "source": [
        "SGD를 제외한 나머지는 비슷한 결과를 보여줌.<br/>\n",
        "하이퍼파라미터인 학습률과 신경망의 구조(층 깊이 등)에 따라 결과가 달라질 수 있다."
      ]
    },
    {
      "cell_type": "markdown",
      "metadata": {
        "id": "-OWH6eqIkj3O"
      },
      "source": [
        "## 6.2 가중치의 초깃값"
      ]
    },
    {
      "cell_type": "markdown",
      "metadata": {
        "id": "Zeyr6Zk6lQQS"
      },
      "source": [
        "### 6.2.1 초깃값을 0으로 하면\n",
        "* 가중치를 모두 같은 값으로 두면 오차역전파법에서 모든 가중치의 값이 똑같이 갱신됨.\n",
        "* 따라서 초깃값을 무작위로 설정할 필요가 있음."
      ]
    },
    {
      "cell_type": "markdown",
      "metadata": {
        "id": "qOY3cjoylfsR"
      },
      "source": [
        "### 6.2.2 은닉층의 활성화값 분포\n",
        "* 가중치의 초깃값에 따라 은닉층 활성화값들이 어떻게 변화하는지 관찰\n",
        "* 시그모이드 함수를 사용하는 5층 신경망을 통해 시험할 예정"
      ]
    },
    {
      "cell_type": "code",
      "metadata": {
        "colab": {
          "base_uri": "https://localhost:8080/",
          "height": 809
        },
        "id": "Vlya7sJtki7y",
        "outputId": "5b07b52c-c519-4aa4-e4bf-1496e7f32512"
      },
      "source": [
        "import numpy as np\n",
        "import matplotlib.pyplot as plt\n",
        "\n",
        "def sigmoid(x):\n",
        "    return 1 / (1 + np.exp(-x))\n",
        "\n",
        "x = np.random.randn(1000, 100)  # 1000개의 데이터\n",
        "node_num = 100                  # 각 은닉층의 노드(뉴런) 수\n",
        "hidden_layer_size = 5           # 은닉층 5개\n",
        "activations = {}                # 활성화값 저장\n",
        "\n",
        "for r in [1, 0.1, 0.01]:\n",
        "    for i in range(hidden_layer_size):\n",
        "        if i != 0:\n",
        "            x = activations[i-1]\n",
        "\n",
        "        w = np.random.randn(node_num, node_num) * r\n",
        "\n",
        "        a = np.dot(x, w)\n",
        "        z = sigmoid(a)\n",
        "        activations[i] = z\n",
        "\n",
        "    # 히스토그램 그리기\n",
        "    for i, a in activations.items():\n",
        "        plt.subplot(1, len(activations), i+1)\n",
        "        plt.title(str(i+1) + \"-layer\" + str(r))\n",
        "        plt.hist(a.flatten(), 30, range=(0,1))\n",
        "\n",
        "        if i != 0:\n",
        "            plt.axis('off')\n",
        "    plt.show()"
      ],
      "execution_count": 29,
      "outputs": [
        {
          "output_type": "display_data",
          "data": {
            "image/png": "[encoded data removed]",
            "text/plain": [
              "<Figure size 432x288 with 5 Axes>"
            ]
          },
          "metadata": {
            "tags": [],
            "needs_background": "light"
          }
        },
        {
          "output_type": "display_data",
          "data": {
            "image/png": "[encoded data removed]",
            "text/plain": [
              "<Figure size 432x288 with 5 Axes>"
            ]
          },
          "metadata": {
            "tags": [],
            "needs_background": "light"
          }
        },
        {
          "output_type": "display_data",
          "data": {
            "image/png": "[encoded data removed]",
            "text/plain": [
              "<Figure size 432x288 with 5 Axes>"
            ]
          },
          "metadata": {
            "tags": [],
            "needs_background": "light"
          }
        }
      ]
    },
    {
      "cell_type": "markdown",
      "metadata": {
        "id": "0SPij0VloYzR"
      },
      "source": [
        "위 첫번째 히스토그램을 보면 기울기 소실 문제를 관찰할 수 있음.(gradient vanishing) <br/>\n",
        "세번째 히스토그램을 보면 활성화값들이 치우치면서 표현력을 제한하는 문제 발생"
      ]
    },
    {
      "cell_type": "markdown",
      "metadata": {
        "id": "ZokjU3SPqhfF"
      },
      "source": [
        "Xavier 초깃값 활용\n",
        "* 앞 계층의 노드가 n개면 표준편차가 $\\frac{1}{\\sqrt n}$인 분포를 사용\n",
        "* 실제 사비에르의 논문에서는 다음 층의 노드 수도 고려했지만, 카페 등의 프레임워크는 앞 층의 입력 노드만으로 계산하도록 단순화함"
      ]
    },
    {
      "cell_type": "code",
      "metadata": {
        "colab": {
          "base_uri": "https://localhost:8080/",
          "height": 281
        },
        "id": "QC0DBeYkogYX",
        "outputId": "ad9168fe-dc20-4585-b74f-f1c8662b82c7"
      },
      "source": [
        "\n",
        "for i in range(hidden_layer_size):\n",
        "    if i != 0:\n",
        "        x = activations[i-1]\n",
        "\n",
        "    w = np.random.randn(node_num, node_num) / np.sqrt(node_num)\n",
        "\n",
        "    a = np.dot(x, w)\n",
        "    z = sigmoid(a)\n",
        "    activations[i] = z\n",
        "\n",
        "# 히스토그램 그리기\n",
        "for i, a in activations.items():\n",
        "    plt.subplot(1, len(activations), i+1)\n",
        "    plt.title(str(i+1) + \"-layer\")\n",
        "    plt.hist(a.flatten(), 30, range=(0,1))\n",
        "\n",
        "    if i != 0:\n",
        "            plt.axis('off')\n",
        "            \n",
        "plt.show()"
      ],
      "execution_count": 35,
      "outputs": [
        {
          "output_type": "display_data",
          "data": {
            "image/png": "[encoded data removed]",
            "text/plain": [
              "<Figure size 432x288 with 5 Axes>"
            ]
          },
          "metadata": {
            "tags": [],
            "needs_background": "light"
          }
        }
      ]
    },
    {
      "cell_type": "markdown",
      "metadata": {
        "id": "pgNdnwf_sr9V"
      },
      "source": [
        "tanh 함수를 사용하면 좀 더 개선됨"
      ]
    },
    {
      "cell_type": "markdown",
      "metadata": {
        "id": "iHT0Re0bs3ay"
      },
      "source": [
        "### 6.2.3 ReLU를 사용할 때의 가중치 초깃값\n",
        "* Xavier 초깃값은 활성화 함수가 선형인 것을 전제로 이끈 결과.\n",
        "* Sigmoid와 tanh 함수는 중앙 부근이 선형인 함수로 볼 수 있음.\n",
        "* ReLu는 He 초깃값을 사용함.<br/>\n",
        "표준편차가 $\\sqrt \\frac{2}{n}$인 정규분포 사용"
      ]
    },
    {
      "cell_type": "code",
      "metadata": {
        "colab": {
          "base_uri": "https://localhost:8080/",
          "height": 809
        },
        "id": "pcM6RNUMs0Aq",
        "outputId": "512ee14d-eddf-469c-b0f1-5cd5b345c54c"
      },
      "source": [
        "def relu(x):\n",
        "    return np.maximum(0, x)\n",
        "\n",
        "x = np.random.randn(1000, 100) \n",
        "node_num = 100                 \n",
        "hidden_layer_size = 5          \n",
        "activations = {}               \n",
        "\n",
        "for r in [0.01, 1/np.sqrt(node_num), np.sqrt(2/node_num)]:\n",
        "    for i in range(hidden_layer_size):\n",
        "        if i != 0:\n",
        "            x = activations[i-1]\n",
        "\n",
        "        w = np.random.randn(node_num, node_num) * r\n",
        "\n",
        "        a = np.dot(x, w)\n",
        "        z = relu(a)\n",
        "        activations[i] = z\n",
        "\n",
        "    # 히스토그램 그리기\n",
        "    for i, a in activations.items():\n",
        "        plt.subplot(1, len(activations), i+1)\n",
        "        plt.title(str(i+1) + \"-layer\")\n",
        "        plt.hist(a.flatten(), 30, range=(0,1))\n",
        "\n",
        "        if i != 0:\n",
        "            plt.axis('off')\n",
        "    plt.show()\n"
      ],
      "execution_count": 43,
      "outputs": [
        {
          "output_type": "display_data",
          "data": {
            "image/png": "[encoded data removed]",
            "text/plain": [
              "<Figure size 432x288 with 5 Axes>"
            ]
          },
          "metadata": {
            "tags": [],
            "needs_background": "light"
          }
        },
        {
          "output_type": "display_data",
          "data": {
            "image/png": "[encoded data removed]",
            "text/plain": [
              "<Figure size 432x288 with 5 Axes>"
            ]
          },
          "metadata": {
            "tags": [],
            "needs_background": "light"
          }
        },
        {
          "output_type": "display_data",
          "data": {
            "image/png": "[encoded data removed]",
            "text/plain": [
              "<Figure size 432x288 with 5 Axes>"
            ]
          },
          "metadata": {
            "tags": [],
            "needs_background": "light"
          }
        }
      ]
    },
    {
      "cell_type": "markdown",
      "metadata": {
        "id": "co8qXNpvwCLH"
      },
      "source": [
        "히스토그램에 결과가 제대로 안나온것 같지만 책을 기준으로 적자면 \n",
        "* std=0.01일 때는 각 층의 활성화값들이 아주 작은 값들임. 즉, 역전파 때 가중치의 기울기 역시 작아진다는 뜻. 결과로 학습이 거의 이뤄지지 않을 것.\n",
        "* std=Xavier일땐 층이 깊어짐에 따라 치우침이 커짐. 그에 따라 활성화값들의 치우침도 커지고, 학습할 때 기울기 소실 문제를 일으킴\n",
        "* std=He일땐 모든 층에서 균일하게 분포"
      ]
    },
    {
      "cell_type": "markdown",
      "metadata": {
        "id": "FFu5_sPPwp2J"
      },
      "source": [
        "### 6.2.4 MNIST 데이터셋으로 본 가중치 초깃값 비교"
      ]
    },
    {
      "cell_type": "code",
      "metadata": {
        "colab": {
          "base_uri": "https://localhost:8080/",
          "height": 1000
        },
        "id": "m5698jcBwnfy",
        "outputId": "9eae465b-617c-4108-8a06-798bc15a7a62"
      },
      "source": [
        "# 데이터 읽기\n",
        "(x_train, t_train), (x_test, t_test) = load_mnist(normalize=True)\n",
        "\n",
        "train_size = x_train.shape[0]\n",
        "batch_size = 128\n",
        "max_iterations = 2000\n",
        "\n",
        "# 실험용 설정\n",
        "weight_init_types = {'std=0.01': 0.01, 'Xavier': 'sigmoid', 'He': 'relu'}\n",
        "optimizer = SGD(lr=0.01)\n",
        "\n",
        "networks = {}\n",
        "train_loss = {}\n",
        "for key, weight_type in weight_init_types.items():\n",
        "    networks[key] = MultiLayerNet(input_size=784, hidden_size_list=[100, 100, 100, 100],\n",
        "                                  output_size=10, weight_init_std=weight_type)\n",
        "    train_loss[key] = []\n",
        "\n",
        "# 훈련\n",
        "for i in range(max_iterations):\n",
        "    batch_mask = np.random.choice(train_size, batch_size)\n",
        "    x_batch = x_train[batch_mask]\n",
        "    t_batch = t_train[batch_mask]\n",
        "\n",
        "    for key in weight_init_types.keys():\n",
        "        grads = networks[key].gradient(x_batch, t_batch)\n",
        "        optimizer.update(networks[key].params, grads)\n",
        "\n",
        "        loss = networks[key].loss(x_batch, t_batch)\n",
        "        train_loss[key].append(loss)\n",
        "\n",
        "    if i % 100 == 0:\n",
        "        print(\"============\" + \"iteration:\" + str(i) + \"============\")\n",
        "        for key in weight_init_types.keys():\n",
        "            loss = networks[key].loss(x_batch, t_batch)\n",
        "            print(key + \":\" + str(loss))\n",
        "\n",
        "# 그래프 그리기\n",
        "markers = {'std=0.01': 'o', 'Xavier': 's', 'He': 'D'}\n",
        "x = np.arange(max_iterations)\n",
        "for key in weight_init_types.keys():\n",
        "    plt.plot(x, smooth_curve(train_loss[key]), marker=markers[key], markevery=100, label=key)\n",
        "plt.xlabel(\"iterations\")\n",
        "plt.ylabel(\"loss\")\n",
        "plt.ylim(0, 2.5)\n",
        "plt.legend()\n",
        "plt.show()"
      ],
      "execution_count": 46,
      "outputs": [
        {
          "output_type": "stream",
          "text": [
            "============iteration:0============\n",
            "std=0.01:2.302544807445582\n",
            "Xavier:2.3083866291511708\n",
            "He:2.400564048914842\n",
            "============iteration:100============\n",
            "std=0.01:2.301519839669495\n",
            "Xavier:2.2698579818198876\n",
            "He:1.472899324343452\n",
            "============iteration:200============\n",
            "std=0.01:2.301561800561429\n",
            "Xavier:2.202268279658798\n",
            "He:0.689866763391041\n",
            "============iteration:300============\n",
            "std=0.01:2.3034967548758036\n",
            "Xavier:2.0932289536861988\n",
            "He:0.5864090601355005\n",
            "============iteration:400============\n",
            "std=0.01:2.299945460310303\n",
            "Xavier:1.7162761868851575\n",
            "He:0.42491053820392444\n",
            "============iteration:500============\n",
            "std=0.01:2.300513158261463\n",
            "Xavier:1.2804489044320766\n",
            "He:0.3662891219987622\n",
            "============iteration:600============\n",
            "std=0.01:2.299904801699255\n",
            "Xavier:0.8676791184253001\n",
            "He:0.3105421071798911\n",
            "============iteration:700============\n",
            "std=0.01:2.3045997978476773\n",
            "Xavier:0.8305383783113076\n",
            "He:0.39228616277534856\n",
            "============iteration:800============\n",
            "std=0.01:2.2987824189006743\n",
            "Xavier:0.495179022779617\n",
            "He:0.24154942294423876\n",
            "============iteration:900============\n",
            "std=0.01:2.3016496192938867\n",
            "Xavier:0.46198027102066763\n",
            "He:0.22483848791201466\n",
            "============iteration:1000============\n",
            "std=0.01:2.303022360957093\n",
            "Xavier:0.48785478709845753\n",
            "He:0.2867482129368948\n",
            "============iteration:1100============\n",
            "std=0.01:2.2991430162027706\n",
            "Xavier:0.43972355230966587\n",
            "He:0.27049904057119767\n",
            "============iteration:1200============\n",
            "std=0.01:2.303119504087989\n",
            "Xavier:0.4831725848363151\n",
            "He:0.28317457314903755\n",
            "============iteration:1300============\n",
            "std=0.01:2.3029285914565794\n",
            "Xavier:0.37196966445252455\n",
            "He:0.2085670755333754\n",
            "============iteration:1400============\n",
            "std=0.01:2.296829427709415\n",
            "Xavier:0.3985615697547387\n",
            "He:0.2427569986002749\n",
            "============iteration:1500============\n",
            "std=0.01:2.2999260516282383\n",
            "Xavier:0.3518301751149385\n",
            "He:0.22820917971187574\n",
            "============iteration:1600============\n",
            "std=0.01:2.2951445259340577\n",
            "Xavier:0.20672561575082332\n",
            "He:0.10921896993077027\n",
            "============iteration:1700============\n",
            "std=0.01:2.2949786197356223\n",
            "Xavier:0.2880815009759555\n",
            "He:0.15572465679033334\n",
            "============iteration:1800============\n",
            "std=0.01:2.299064810646888\n",
            "Xavier:0.313761433264366\n",
            "He:0.1984790596099213\n",
            "============iteration:1900============\n",
            "std=0.01:2.297114501968666\n",
            "Xavier:0.23288589956239114\n",
            "He:0.12903334822053786\n"
          ],
          "name": "stdout"
        },
        {
          "output_type": "display_data",
          "data": {
            "image/png": "[encoded data removed]",
            "text/plain": [
              "<Figure size 432x288 with 1 Axes>"
            ]
          },
          "metadata": {
            "tags": [],
            "needs_background": "light"
          }
        }
      ]
    },
    {
      "cell_type": "markdown",
      "metadata": {
        "id": "4EYGQ11F18C7"
      },
      "source": [
        "앞에서 관찰한 것과 같이 std=0.01일때는 학습이 전혀 이루어지지 않았음."
      ]
    },
    {
      "cell_type": "markdown",
      "metadata": {
        "id": "yRnmSIwG2IL8"
      },
      "source": [
        "## 6.3 배치 정규화\n",
        "* 각 층의 황성화를 적당히 퍼뜨리도록 '강제'하는 방법\n",
        "![BN.png](data:image/png;base64,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)"
      ]
    },
    {
      "cell_type": "markdown",
      "metadata": {
        "id": "r-i8PunJ4CMY"
      },
      "source": [
        "[관련 논문](https://arxiv.org/pdf/1502.03167v3.pdf)"
      ]
    },
    {
      "cell_type": "markdown",
      "metadata": {
        "id": "5ls1VWKr4Q8N"
      },
      "source": [
        "* 배치 정규화는 미니배치를 단위로 정규화함.\n",
        "* 정확히는 데이터 분포가 평균이 0, 분산이 1이 되도록 정규화\n",
        "* 배치 정규화 계층마다 이 정규화된 데이터에 고유한 확대와 이동변환을 수행"
      ]
    },
    {
      "cell_type": "markdown",
      "metadata": {
        "id": "8AvX6mAV5Mmz"
      },
      "source": [
        "### 6.3.2 배치 정규화의 효과"
      ]
    },
    {
      "cell_type": "code",
      "metadata": {
        "colab": {
          "base_uri": "https://localhost:8080/",
          "height": 1000
        },
        "id": "AKGBbpRg2A5-",
        "outputId": "bc6bbd36-27e2-40f7-aedf-a4c632512cfb"
      },
      "source": [
        "from ch06.batch_norm_test import __train\n",
        "\n",
        "(x_train, t_train), (x_test, t_test) = load_mnist(normalize=True)\n",
        "\n",
        "# 학습 데이터 축소\n",
        "x_train = x_train[:1000]\n",
        "t_train = t_train[:1000]\n",
        "\n",
        "max_epochs = 20\n",
        "train_size = x_train.shape[0]\n",
        "batch_size = 100\n",
        "learning_rate = 0.01\n",
        "\n",
        "# 그래프 그리기\n",
        "weight_scale_list = np.logspace(0, -4, num=16)\n",
        "x = np.arange(max_epochs)\n",
        "\n",
        "for i, w in enumerate(weight_scale_list):\n",
        "    print(\"============\" + str(i+1) + \"/16\" + \"=============\")\n",
        "    train_acc_list, bn_train_acc_list = __train(w)\n",
        "\n",
        "    plt.subplot(4,4,i+1)\n",
        "    plt.title(\"W:\" + str(w))\n",
        "    if i == 15:\n",
        "        plt.plot(x, bn_train_acc_list, label='Batch Normalization', markevery=2)\n",
        "        plt.plot(x, train_acc_list, linestyle = \"--\", label='Normal(without BatchNorm', markevery=2)\n",
        "    else:\n",
        "        plt.plot(x, bn_train_acc_list, markevery=2)\n",
        "        plt.plot(x, train_acc_list, linestyle=\"--\",markevery=2)\n",
        "\n",
        "    plt.ylim(0, 1.0)\n",
        "    if i % 4:\n",
        "        plt.yticks([])\n",
        "    else:\n",
        "        plt.ylabel(\"accuracy\")\n",
        "    if i < 12:\n",
        "        plt.xticks([])\n",
        "    else:\n",
        "        plt.xlabel(\"epochs\")\n",
        "    plt.legend(loc='lower right')\n",
        "\n",
        "plt.show()"
      ],
      "execution_count": 48,
      "outputs": [
        {
          "output_type": "stream",
          "text": [
            "============1/16=============\n",
            "epoch:0 | 0.093 - 0.101\n"
          ],
          "name": "stdout"
        },
        {
          "output_type": "stream",
          "text": [
            "/content/drive/MyDrive/DL_from_bottom/common/multi_layer_net_extend.py:104: RuntimeWarning: overflow encountered in square\n",
            "  weight_decay += 0.5 * self.weight_decay_lambda * np.sum(W**2)\n",
            "/content/drive/MyDrive/DL_from_bottom/common/multi_layer_net_extend.py:104: RuntimeWarning: invalid value encountered in double_scalars\n",
            "  weight_decay += 0.5 * self.weight_decay_lambda * np.sum(W**2)\n"
          ],
          "name": "stderr"
        },
        {
          "output_type": "stream",
          "text": [
            "epoch:1 | 0.092 - 0.13\n",
            "epoch:2 | 0.116 - 0.161\n",
            "epoch:3 | 0.116 - 0.187\n",
            "epoch:4 | 0.116 - 0.206\n",
            "epoch:5 | 0.117 - 0.237\n",
            "epoch:6 | 0.116 - 0.251\n",
            "epoch:7 | 0.116 - 0.262\n",
            "epoch:8 | 0.117 - 0.275\n",
            "epoch:9 | 0.117 - 0.288\n",
            "epoch:10 | 0.117 - 0.303\n",
            "epoch:11 | 0.117 - 0.324\n",
            "epoch:12 | 0.117 - 0.34\n",
            "epoch:13 | 0.117 - 0.352\n",
            "epoch:14 | 0.117 - 0.36\n",
            "epoch:15 | 0.117 - 0.375\n",
            "epoch:16 | 0.117 - 0.382\n",
            "epoch:17 | 0.117 - 0.383\n",
            "epoch:18 | 0.117 - 0.398\n"
          ],
          "name": "stdout"
        },
        {
          "output_type": "stream",
          "text": [
            "No handles with labels found to put in legend.\n"
          ],
          "name": "stderr"
        },
        {
          "output_type": "stream",
          "text": [
            "epoch:19 | 0.117 - 0.42\n",
            "============2/16=============\n",
            "epoch:0 | 0.099 - 0.103\n"
          ],
          "name": "stdout"
        },
        {
          "output_type": "stream",
          "text": [
            "/content/drive/MyDrive/DL_from_bottom/common/multi_layer_net_extend.py:104: RuntimeWarning: overflow encountered in square\n",
            "  weight_decay += 0.5 * self.weight_decay_lambda * np.sum(W**2)\n",
            "/content/drive/MyDrive/DL_from_bottom/common/multi_layer_net_extend.py:104: RuntimeWarning: invalid value encountered in double_scalars\n",
            "  weight_decay += 0.5 * self.weight_decay_lambda * np.sum(W**2)\n"
          ],
          "name": "stderr"
        },
        {
          "output_type": "stream",
          "text": [
            "epoch:1 | 0.097 - 0.112\n",
            "epoch:2 | 0.097 - 0.111\n",
            "epoch:3 | 0.097 - 0.139\n",
            "epoch:4 | 0.097 - 0.162\n",
            "epoch:5 | 0.097 - 0.197\n",
            "epoch:6 | 0.097 - 0.22\n",
            "epoch:7 | 0.097 - 0.243\n",
            "epoch:8 | 0.097 - 0.265\n",
            "epoch:9 | 0.097 - 0.287\n",
            "epoch:10 | 0.097 - 0.306\n",
            "epoch:11 | 0.097 - 0.336\n",
            "epoch:12 | 0.097 - 0.363\n",
            "epoch:13 | 0.097 - 0.371\n",
            "epoch:14 | 0.097 - 0.384\n",
            "epoch:15 | 0.097 - 0.409\n",
            "epoch:16 | 0.097 - 0.434\n",
            "epoch:17 | 0.097 - 0.436\n",
            "epoch:18 | 0.097 - 0.452\n"
          ],
          "name": "stdout"
        },
        {
          "output_type": "stream",
          "text": [
            "No handles with labels found to put in legend.\n"
          ],
          "name": "stderr"
        },
        {
          "output_type": "stream",
          "text": [
            "epoch:19 | 0.097 - 0.472\n",
            "============3/16=============\n",
            "epoch:0 | 0.098 - 0.135\n",
            "epoch:1 | 0.41 - 0.141\n",
            "epoch:2 | 0.559 - 0.156\n",
            "epoch:3 | 0.635 - 0.189\n",
            "epoch:4 | 0.71 - 0.219\n",
            "epoch:5 | 0.764 - 0.267\n",
            "epoch:6 | 0.811 - 0.296\n",
            "epoch:7 | 0.858 - 0.328\n",
            "epoch:8 | 0.874 - 0.37\n",
            "epoch:9 | 0.924 - 0.404\n",
            "epoch:10 | 0.939 - 0.444\n",
            "epoch:11 | 0.951 - 0.472\n",
            "epoch:12 | 0.956 - 0.505\n",
            "epoch:13 | 0.969 - 0.528\n",
            "epoch:14 | 0.975 - 0.556\n",
            "epoch:15 | 0.979 - 0.574\n",
            "epoch:16 | 0.984 - 0.587\n",
            "epoch:17 | 0.987 - 0.612\n",
            "epoch:18 | 0.991 - 0.637\n"
          ],
          "name": "stdout"
        },
        {
          "output_type": "stream",
          "text": [
            "No handles with labels found to put in legend.\n"
          ],
          "name": "stderr"
        },
        {
          "output_type": "stream",
          "text": [
            "epoch:19 | 0.995 - 0.656\n",
            "============4/16=============\n",
            "epoch:0 | 0.145 - 0.101\n",
            "epoch:1 | 0.333 - 0.101\n",
            "epoch:2 | 0.471 - 0.166\n",
            "epoch:3 | 0.554 - 0.249\n",
            "epoch:4 | 0.634 - 0.322\n",
            "epoch:5 | 0.684 - 0.377\n",
            "epoch:6 | 0.704 - 0.429\n",
            "epoch:7 | 0.724 - 0.481\n",
            "epoch:8 | 0.762 - 0.516\n",
            "epoch:9 | 0.783 - 0.558\n",
            "epoch:10 | 0.804 - 0.594\n",
            "epoch:11 | 0.811 - 0.618\n",
            "epoch:12 | 0.833 - 0.638\n",
            "epoch:13 | 0.836 - 0.672\n",
            "epoch:14 | 0.856 - 0.685\n",
            "epoch:15 | 0.857 - 0.703\n",
            "epoch:16 | 0.848 - 0.717\n",
            "epoch:17 | 0.875 - 0.741\n",
            "epoch:18 | 0.869 - 0.759\n"
          ],
          "name": "stdout"
        },
        {
          "output_type": "stream",
          "text": [
            "No handles with labels found to put in legend.\n"
          ],
          "name": "stderr"
        },
        {
          "output_type": "stream",
          "text": [
            "epoch:19 | 0.877 - 0.774\n",
            "============5/16=============\n",
            "epoch:0 | 0.086 - 0.123\n",
            "epoch:1 | 0.093 - 0.173\n",
            "epoch:2 | 0.095 - 0.319\n",
            "epoch:3 | 0.101 - 0.454\n",
            "epoch:4 | 0.102 - 0.534\n",
            "epoch:5 | 0.113 - 0.592\n",
            "epoch:6 | 0.113 - 0.63\n",
            "epoch:7 | 0.128 - 0.662\n",
            "epoch:8 | 0.139 - 0.688\n",
            "epoch:9 | 0.158 - 0.714\n",
            "epoch:10 | 0.175 - 0.735\n",
            "epoch:11 | 0.191 - 0.755\n",
            "epoch:12 | 0.205 - 0.77\n",
            "epoch:13 | 0.211 - 0.793\n",
            "epoch:14 | 0.213 - 0.8\n",
            "epoch:15 | 0.224 - 0.811\n",
            "epoch:16 | 0.225 - 0.821\n",
            "epoch:17 | 0.239 - 0.831\n",
            "epoch:18 | 0.247 - 0.845\n"
          ],
          "name": "stdout"
        },
        {
          "output_type": "stream",
          "text": [
            "No handles with labels found to put in legend.\n"
          ],
          "name": "stderr"
        },
        {
          "output_type": "stream",
          "text": [
            "epoch:19 | 0.268 - 0.853\n",
            "============6/16=============\n",
            "epoch:0 | 0.124 - 0.108\n",
            "epoch:1 | 0.108 - 0.223\n",
            "epoch:2 | 0.11 - 0.467\n",
            "epoch:3 | 0.12 - 0.615\n",
            "epoch:4 | 0.116 - 0.684\n",
            "epoch:5 | 0.143 - 0.741\n",
            "epoch:6 | 0.116 - 0.778\n",
            "epoch:7 | 0.165 - 0.806\n",
            "epoch:8 | 0.124 - 0.82\n",
            "epoch:9 | 0.152 - 0.838\n",
            "epoch:10 | 0.144 - 0.846\n",
            "epoch:11 | 0.119 - 0.871\n",
            "epoch:12 | 0.133 - 0.883\n",
            "epoch:13 | 0.122 - 0.902\n",
            "epoch:14 | 0.117 - 0.91\n",
            "epoch:15 | 0.117 - 0.913\n",
            "epoch:16 | 0.117 - 0.933\n",
            "epoch:17 | 0.117 - 0.941\n",
            "epoch:18 | 0.117 - 0.944\n"
          ],
          "name": "stdout"
        },
        {
          "output_type": "stream",
          "text": [
            "No handles with labels found to put in legend.\n"
          ],
          "name": "stderr"
        },
        {
          "output_type": "stream",
          "text": [
            "epoch:19 | 0.117 - 0.947\n",
            "============7/16=============\n",
            "epoch:0 | 0.099 - 0.134\n",
            "epoch:1 | 0.116 - 0.316\n",
            "epoch:2 | 0.116 - 0.515\n",
            "epoch:3 | 0.116 - 0.683\n",
            "epoch:4 | 0.198 - 0.742\n",
            "epoch:5 | 0.116 - 0.764\n",
            "epoch:6 | 0.117 - 0.798\n",
            "epoch:7 | 0.117 - 0.814\n",
            "epoch:8 | 0.117 - 0.843\n",
            "epoch:9 | 0.117 - 0.873\n",
            "epoch:10 | 0.117 - 0.891\n",
            "epoch:11 | 0.117 - 0.906\n",
            "epoch:12 | 0.117 - 0.929\n",
            "epoch:13 | 0.117 - 0.944\n",
            "epoch:14 | 0.117 - 0.957\n",
            "epoch:15 | 0.117 - 0.968\n",
            "epoch:16 | 0.117 - 0.971\n",
            "epoch:17 | 0.117 - 0.977\n",
            "epoch:18 | 0.117 - 0.985\n"
          ],
          "name": "stdout"
        },
        {
          "output_type": "stream",
          "text": [
            "No handles with labels found to put in legend.\n"
          ],
          "name": "stderr"
        },
        {
          "output_type": "stream",
          "text": [
            "epoch:19 | 0.117 - 0.986\n",
            "============8/16=============\n",
            "epoch:0 | 0.092 - 0.095\n",
            "epoch:1 | 0.097 - 0.435\n",
            "epoch:2 | 0.099 - 0.685\n",
            "epoch:3 | 0.116 - 0.781\n",
            "epoch:4 | 0.116 - 0.871\n",
            "epoch:5 | 0.116 - 0.905\n",
            "epoch:6 | 0.116 - 0.94\n",
            "epoch:7 | 0.116 - 0.955\n",
            "epoch:8 | 0.116 - 0.973\n",
            "epoch:9 | 0.116 - 0.981\n",
            "epoch:10 | 0.116 - 0.983\n",
            "epoch:11 | 0.116 - 0.989\n",
            "epoch:12 | 0.116 - 0.991\n",
            "epoch:13 | 0.116 - 0.992\n",
            "epoch:14 | 0.116 - 0.996\n",
            "epoch:15 | 0.116 - 0.998\n",
            "epoch:16 | 0.116 - 0.998\n",
            "epoch:17 | 0.116 - 0.999\n",
            "epoch:18 | 0.116 - 0.999\n"
          ],
          "name": "stdout"
        },
        {
          "output_type": "stream",
          "text": [
            "No handles with labels found to put in legend.\n"
          ],
          "name": "stderr"
        },
        {
          "output_type": "stream",
          "text": [
            "epoch:19 | 0.116 - 0.999\n",
            "============9/16=============\n",
            "epoch:0 | 0.099 - 0.162\n",
            "epoch:1 | 0.116 - 0.456\n",
            "epoch:2 | 0.116 - 0.702\n",
            "epoch:3 | 0.116 - 0.753\n",
            "epoch:4 | 0.116 - 0.777\n",
            "epoch:5 | 0.116 - 0.821\n",
            "epoch:6 | 0.116 - 0.867\n",
            "epoch:7 | 0.116 - 0.928\n",
            "epoch:8 | 0.116 - 0.956\n",
            "epoch:9 | 0.116 - 0.982\n",
            "epoch:10 | 0.116 - 0.989\n",
            "epoch:11 | 0.116 - 0.994\n",
            "epoch:12 | 0.116 - 0.999\n",
            "epoch:13 | 0.116 - 0.999\n",
            "epoch:14 | 0.116 - 0.999\n",
            "epoch:15 | 0.116 - 0.999\n",
            "epoch:16 | 0.116 - 0.999\n",
            "epoch:17 | 0.116 - 0.999\n",
            "epoch:18 | 0.117 - 0.999\n"
          ],
          "name": "stdout"
        },
        {
          "output_type": "stream",
          "text": [
            "No handles with labels found to put in legend.\n"
          ],
          "name": "stderr"
        },
        {
          "output_type": "stream",
          "text": [
            "epoch:19 | 0.116 - 0.999\n",
            "============10/16=============\n",
            "epoch:0 | 0.105 - 0.129\n",
            "epoch:1 | 0.099 - 0.537\n",
            "epoch:2 | 0.117 - 0.792\n",
            "epoch:3 | 0.117 - 0.837\n",
            "epoch:4 | 0.117 - 0.909\n",
            "epoch:5 | 0.117 - 0.864\n",
            "epoch:6 | 0.117 - 0.968\n",
            "epoch:7 | 0.116 - 0.974\n",
            "epoch:8 | 0.116 - 0.988\n",
            "epoch:9 | 0.116 - 0.985\n",
            "epoch:10 | 0.117 - 0.985\n",
            "epoch:11 | 0.117 - 0.993\n",
            "epoch:12 | 0.116 - 0.994\n",
            "epoch:13 | 0.116 - 0.996\n",
            "epoch:14 | 0.116 - 0.997\n",
            "epoch:15 | 0.116 - 0.998\n",
            "epoch:16 | 0.117 - 0.997\n",
            "epoch:17 | 0.116 - 0.998\n",
            "epoch:18 | 0.116 - 0.998\n"
          ],
          "name": "stdout"
        },
        {
          "output_type": "stream",
          "text": [
            "No handles with labels found to put in legend.\n"
          ],
          "name": "stderr"
        },
        {
          "output_type": "stream",
          "text": [
            "epoch:19 | 0.117 - 0.998\n",
            "============11/16=============\n",
            "epoch:0 | 0.094 - 0.157\n",
            "epoch:1 | 0.117 - 0.574\n",
            "epoch:2 | 0.117 - 0.751\n",
            "epoch:3 | 0.117 - 0.726\n",
            "epoch:4 | 0.116 - 0.766\n",
            "epoch:5 | 0.116 - 0.763\n",
            "epoch:6 | 0.116 - 0.825\n",
            "epoch:7 | 0.116 - 0.861\n",
            "epoch:8 | 0.116 - 0.878\n",
            "epoch:9 | 0.116 - 0.894\n",
            "epoch:10 | 0.116 - 0.889\n",
            "epoch:11 | 0.116 - 0.834\n",
            "epoch:12 | 0.116 - 0.873\n",
            "epoch:13 | 0.116 - 0.892\n",
            "epoch:14 | 0.116 - 0.904\n",
            "epoch:15 | 0.116 - 0.901\n",
            "epoch:16 | 0.116 - 0.904\n",
            "epoch:17 | 0.116 - 0.902\n",
            "epoch:18 | 0.116 - 0.908\n"
          ],
          "name": "stdout"
        },
        {
          "output_type": "stream",
          "text": [
            "No handles with labels found to put in legend.\n"
          ],
          "name": "stderr"
        },
        {
          "output_type": "stream",
          "text": [
            "epoch:19 | 0.116 - 0.899\n",
            "============12/16=============\n",
            "epoch:0 | 0.097 - 0.129\n",
            "epoch:1 | 0.116 - 0.491\n",
            "epoch:2 | 0.117 - 0.712\n",
            "epoch:3 | 0.117 - 0.714\n",
            "epoch:4 | 0.116 - 0.696\n",
            "epoch:5 | 0.116 - 0.676\n",
            "epoch:6 | 0.117 - 0.785\n",
            "epoch:7 | 0.117 - 0.863\n",
            "epoch:8 | 0.117 - 0.804\n",
            "epoch:9 | 0.117 - 0.83\n",
            "epoch:10 | 0.117 - 0.875\n",
            "epoch:11 | 0.117 - 0.857\n",
            "epoch:12 | 0.117 - 0.889\n",
            "epoch:13 | 0.117 - 0.872\n",
            "epoch:14 | 0.117 - 0.901\n",
            "epoch:15 | 0.117 - 0.9\n",
            "epoch:16 | 0.117 - 0.902\n",
            "epoch:17 | 0.117 - 0.864\n",
            "epoch:18 | 0.117 - 0.905\n"
          ],
          "name": "stdout"
        },
        {
          "output_type": "stream",
          "text": [
            "No handles with labels found to put in legend.\n"
          ],
          "name": "stderr"
        },
        {
          "output_type": "stream",
          "text": [
            "epoch:19 | 0.117 - 0.906\n",
            "============13/16=============\n",
            "epoch:0 | 0.116 - 0.197\n",
            "epoch:1 | 0.117 - 0.405\n",
            "epoch:2 | 0.117 - 0.484\n",
            "epoch:3 | 0.117 - 0.496\n",
            "epoch:4 | 0.117 - 0.418\n",
            "epoch:5 | 0.116 - 0.503\n",
            "epoch:6 | 0.116 - 0.517\n",
            "epoch:7 | 0.116 - 0.503\n",
            "epoch:8 | 0.116 - 0.529\n",
            "epoch:9 | 0.116 - 0.571\n",
            "epoch:10 | 0.116 - 0.58\n",
            "epoch:11 | 0.116 - 0.578\n",
            "epoch:12 | 0.116 - 0.598\n",
            "epoch:13 | 0.116 - 0.591\n",
            "epoch:14 | 0.116 - 0.608\n",
            "epoch:15 | 0.116 - 0.602\n",
            "epoch:16 | 0.116 - 0.61\n",
            "epoch:17 | 0.116 - 0.612\n",
            "epoch:18 | 0.116 - 0.593\n"
          ],
          "name": "stdout"
        },
        {
          "output_type": "stream",
          "text": [
            "No handles with labels found to put in legend.\n"
          ],
          "name": "stderr"
        },
        {
          "output_type": "stream",
          "text": [
            "epoch:19 | 0.116 - 0.6\n",
            "============14/16=============\n",
            "epoch:0 | 0.117 - 0.109\n",
            "epoch:1 | 0.117 - 0.399\n",
            "epoch:2 | 0.117 - 0.453\n",
            "epoch:3 | 0.117 - 0.583\n",
            "epoch:4 | 0.117 - 0.578\n",
            "epoch:5 | 0.117 - 0.58\n",
            "epoch:6 | 0.117 - 0.598\n",
            "epoch:7 | 0.117 - 0.571\n",
            "epoch:8 | 0.117 - 0.6\n",
            "epoch:9 | 0.117 - 0.616\n",
            "epoch:10 | 0.117 - 0.62\n",
            "epoch:11 | 0.117 - 0.621\n",
            "epoch:12 | 0.117 - 0.614\n",
            "epoch:13 | 0.117 - 0.621\n",
            "epoch:14 | 0.117 - 0.631\n",
            "epoch:15 | 0.117 - 0.623\n",
            "epoch:16 | 0.117 - 0.625\n",
            "epoch:17 | 0.117 - 0.737\n",
            "epoch:18 | 0.117 - 0.753\n"
          ],
          "name": "stdout"
        },
        {
          "output_type": "stream",
          "text": [
            "No handles with labels found to put in legend.\n"
          ],
          "name": "stderr"
        },
        {
          "output_type": "stream",
          "text": [
            "epoch:19 | 0.117 - 0.727\n",
            "============15/16=============\n",
            "epoch:0 | 0.093 - 0.115\n",
            "epoch:1 | 0.116 - 0.257\n",
            "epoch:2 | 0.116 - 0.38\n",
            "epoch:3 | 0.116 - 0.346\n",
            "epoch:4 | 0.116 - 0.387\n",
            "epoch:5 | 0.116 - 0.352\n",
            "epoch:6 | 0.116 - 0.407\n",
            "epoch:7 | 0.116 - 0.352\n",
            "epoch:8 | 0.117 - 0.417\n",
            "epoch:9 | 0.117 - 0.415\n",
            "epoch:10 | 0.117 - 0.402\n",
            "epoch:11 | 0.117 - 0.415\n",
            "epoch:12 | 0.116 - 0.421\n",
            "epoch:13 | 0.116 - 0.418\n",
            "epoch:14 | 0.116 - 0.42\n",
            "epoch:15 | 0.116 - 0.421\n",
            "epoch:16 | 0.116 - 0.423\n",
            "epoch:17 | 0.117 - 0.433\n",
            "epoch:18 | 0.116 - 0.443\n"
          ],
          "name": "stdout"
        },
        {
          "output_type": "stream",
          "text": [
            "No handles with labels found to put in legend.\n"
          ],
          "name": "stderr"
        },
        {
          "output_type": "stream",
          "text": [
            "epoch:19 | 0.116 - 0.422\n",
            "============16/16=============\n",
            "epoch:0 | 0.105 - 0.219\n",
            "epoch:1 | 0.117 - 0.217\n",
            "epoch:2 | 0.117 - 0.308\n",
            "epoch:3 | 0.117 - 0.373\n",
            "epoch:4 | 0.116 - 0.413\n",
            "epoch:5 | 0.116 - 0.393\n",
            "epoch:6 | 0.116 - 0.402\n",
            "epoch:7 | 0.116 - 0.41\n",
            "epoch:8 | 0.116 - 0.415\n",
            "epoch:9 | 0.117 - 0.421\n",
            "epoch:10 | 0.116 - 0.424\n",
            "epoch:11 | 0.116 - 0.427\n",
            "epoch:12 | 0.116 - 0.427\n",
            "epoch:13 | 0.117 - 0.427\n",
            "epoch:14 | 0.116 - 0.413\n",
            "epoch:15 | 0.116 - 0.423\n",
            "epoch:16 | 0.116 - 0.428\n",
            "epoch:17 | 0.117 - 0.427\n",
            "epoch:18 | 0.116 - 0.426\n",
            "epoch:19 | 0.116 - 0.428\n"
          ],
          "name": "stdout"
        },
        {
          "output_type": "display_data",
          "data": {
            "image/png": "[encoded data removed]",
            "text/plain": [
              "<Figure size 432x288 with 16 Axes>"
            ]
          },
          "metadata": {
            "tags": [],
            "needs_background": "light"
          }
        }
      ]
    },
    {
      "cell_type": "markdown",
      "metadata": {
        "id": "LlUpdfBK8zHs"
      },
      "source": [
        "거의 모든 경우에서 배치 정규화 사용시에 학습 진도가 빠른 것으로 나타남.<br/>\n",
        "실제로 배치 정규화를 이용하지 않을 시에는 초깃값 분포가잘 되어 있지 않으면 학습이 전혀 진행되지 않음.<br/>\n",
        "배치 정규화를 사용하면 학습이 빨라지며, 가중치 초깃값에 크게 의존하지 않아도 됨."
      ]
    },
    {
      "cell_type": "code",
      "metadata": {
        "id": "m3LAhHAq9Gr9"
      },
      "source": [
        ""
      ],
      "execution_count": null,
      "outputs": []
    }
  ]
}