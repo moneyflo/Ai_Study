{
  "nbformat": 4,
  "nbformat_minor": 0,
  "metadata": {
    "colab": {
      "name": "DL_chap_6.ipynb",
      "provenance": []
    },
    "kernelspec": {
      "name": "python3",
      "display_name": "Python 3"
    },
    "language_info": {
      "name": "python"
    }
  },
  "cells": [
    {
      "cell_type": "markdown",
      "metadata": {
        "id": "AolD97vFIhOw"
      },
      "source": [
        "# Chapter 6 학습 관련 기술들"
      ]
    },
    {
      "cell_type": "markdown",
      "metadata": {
        "id": "CLzGzOlVJRJR"
      },
      "source": [
        "## 6.1 매개변수 갱신"
      ]
    },
    {
      "cell_type": "markdown",
      "metadata": {
        "id": "vPLUkmAHJoZz"
      },
      "source": [
        "### 6.1.2 확률적 경사 하강법(SGD)\n",
        "$W ⬅ W - \\eta\\frac{\\partial L}{\\partial W} $"
      ]
    },
    {
      "cell_type": "code",
      "metadata": {
        "id": "LbVGgfT29jOm"
      },
      "source": [
        "# 구현\n",
        "class SGD:\n",
        "    def __init__(self, lr=0.01):\n",
        "        self.lr = lr\n",
        "\n",
        "    def update(self, params, grads):\n",
        "        for key in params.keys():\n",
        "            params[key] -= self.lr * grads[key]\n",
        "            "
      ],
      "execution_count": 1,
      "outputs": []
    },
    {
      "cell_type": "markdown",
      "metadata": {
        "id": "Av0MxByeN0Un"
      },
      "source": [
        "SGD의 단점은 비등방성함수에서는 탐색 경로가 비효율적이라는것.<br/>\n",
        "이를 개선한게 모멘텀, AdaGrad, Adam"
      ]
    },
    {
      "cell_type": "markdown",
      "metadata": {
        "id": "cQ0jXXWcN_lJ"
      },
      "source": [
        "### 6.1.4 모멘텀\n",
        "$v ⬅ \\alpha v - \\eta\\frac{\\partial L}{\\partial W} $ <br/>\n",
        "$W ⬅ W + v $"
      ]
    },
    {
      "cell_type": "code",
      "metadata": {
        "id": "A5WjNW1dNiB4"
      },
      "source": [
        "# 구현\n",
        "class Momentum:\n",
        "    def __init__(self, lr=0.01, momentum=0.9):\n",
        "        self.lr = lr\n",
        "        self.momentum = momentum\n",
        "        self.v = None\n",
        "\n",
        "    def update(self, params, grads):\n",
        "        if self.v is None:\n",
        "            self.v = {}\n",
        "            for key, val in params.items():\n",
        "                self.v[key] = np.zeros_like(val)\n",
        "\n",
        "        for key in params.keys():\n",
        "            self.v[key] = self.momentum*self.v[key] - self.lr*grads[key]\n",
        "            params[key] += self.v[key]\n",
        "            "
      ],
      "execution_count": null,
      "outputs": []
    },
    {
      "cell_type": "markdown",
      "metadata": {
        "id": "rXVIH68iRB5E"
      },
      "source": [
        "### 6.1.5 AdaGrad\n",
        "$h ⬅ h + \\frac{\\partial L}{\\partial W} ⊙ \\frac{\\partial L}{\\partial W} $<br/>\n",
        "$W ⬅ W - \\eta \\frac{1}{\\sqrt h} \\frac{\\partial L}{\\partial W} $\n",
        "* 각각의 매개변수에 적응적으로 '학습률'을 조정하면서 학습을 진행\n"
      ]
    },
    {
      "cell_type": "code",
      "metadata": {
        "id": "K8zovT_sRD5p"
      },
      "source": [
        "# 구현\n",
        "class AdaGrad:\n",
        "    def __init__(self, lr=0.01):\n",
        "        self.lr = lr\n",
        "        self.h = None\n",
        "    \n",
        "    def update(self, params, grads):\n",
        "        if self.h is None:\n",
        "            self.h = {}\n",
        "            for key, val in params.items():\n",
        "                self.h[key] = np.zeros_like(val)\n",
        "\n",
        "        for key in params.keys():\n",
        "            self.h[key] += grads[key] * grads[key]\n",
        "            params[key] -= self.lr * grads[key] / (np.sqrt(self.h[key]) + 1e-7)"
      ],
      "execution_count": 3,
      "outputs": []
    },
    {
      "cell_type": "markdown",
      "metadata": {
        "id": "2MIbq8ybTj9C"
      },
      "source": [
        "### 6.1.6 Adam\n",
        "* 모멘텀과 AdaGGrad를 융합한 듯한 방법\n",
        "* 하이퍼파라미터의 '편향 보정'"
      ]
    },
    {
      "cell_type": "code",
      "metadata": {
        "id": "2hpsxi_rTnzH"
      },
      "source": [
        "# 구현\n",
        "class Adam:\n",
        "    def __init__(self, lr=0.001, beta1=0.9, beta2=0.999):\n",
        "        self.lr = lr\n",
        "        self.beta1 = beta1\n",
        "        self.beta2 = beta2\n",
        "        self.iter = 0\n",
        "        self.m = None\n",
        "        self.v = None\n",
        "\n",
        "    def update(self, params, grads):\n",
        "        if self.m is None:\n",
        "            self.m, self.v = {}, {}\n",
        "            for key, val in params.items():\n",
        "                self.m[key] = np.zeros_like(val)\n",
        "                self.v[key] = np.zeros_like(val)\n",
        "\n",
        "        self.iter += 1\n",
        "        lr_t = self.lr * np.sqrt(1.0 - self.beta2**self.iter) / (1.0 - self.beta1**self.iter)\n",
        "\n",
        "        for key in params.keys():\n",
        "            self.m[key] += (1 - self.beta1) * (grads[key] - self.m[key])\n",
        "            self.v[key] += (1 - self.beta2) * (grads[key]**2 - self.v[key])\n",
        "\n",
        "            params[key] -= lr_t * self.m[key] / (np.sqrt(self.v[key]) + 1e-7)"
      ],
      "execution_count": null,
      "outputs": []
    },
    {
      "cell_type": "markdown",
      "metadata": {
        "id": "vNu2PgCjYsvg"
      },
      "source": [
        "### RMSprop\n",
        "* AdaGrad에서 과거 값을 점점 잊어가면서 갱신\n",
        "* 이를 지수이동평균이라 하며, 과거 기울기의 반영 규모를 기하급수적으로 감소시킴"
      ]
    },
    {
      "cell_type": "code",
      "metadata": {
        "id": "hRfYrDzZY80W"
      },
      "source": [
        "# 구현\n",
        "class RMSprop:\n",
        "    def __init__(self, lr =0.01, decay_rate = 0.99):\n",
        "        self.lr = lr\n",
        "        self.decay_rate = decay_rate\n",
        "        self.h = None\n",
        "\n",
        "    def update(self, params, grads):\n",
        "        if self.h is None:\n",
        "            self.h = {}\n",
        "            for key, val in params.items():\n",
        "                self.h[key] = np.zeros_like(val)\n",
        "\n",
        "        for key in params.keys():\n",
        "            self.h[key] *= self.decay_rate\n",
        "            self.h[key] += (1 - self.decay_rate) * grads[key] * grads[key]\n",
        "            params[key] -= self.lr * grads[key] / (np.sqrt(self.h[key]) + 1e-7)"
      ],
      "execution_count": null,
      "outputs": []
    },
    {
      "cell_type": "markdown",
      "metadata": {
        "id": "ohToKfbPajxR"
      },
      "source": [
        "### 6.1.7 갱신 방법 비교"
      ]
    },
    {
      "cell_type": "code",
      "metadata": {
        "colab": {
          "base_uri": "https://localhost:8080/",
          "height": 295
        },
        "id": "AaYS-FdSaltC",
        "outputId": "276773d7-2022-4d45-f2fa-89820c40e25c"
      },
      "source": [
        "import sys, os\n",
        "path = '/content/drive/MyDrive/DL_from_bottom'\n",
        "os.chdir(path)\n",
        "sys.path.append(os.chdir)\n",
        "\n",
        "import numpy as np\n",
        "import matplotlib.pyplot as plt\n",
        "from collections import OrderedDict\n",
        "from common.optimizer import *\n",
        "from common.layers import *\n",
        "\n",
        "\n",
        "def f(x, y):\n",
        "    return x**2 / 20.0 + y**2\n",
        "\n",
        "\n",
        "def df(x, y):\n",
        "    return x / 10.0, 2.0*y\n",
        "\n",
        "init_pos = (-7.0, 2.0)\n",
        "params = {}\n",
        "params['x'], params['y'] = init_pos[0], init_pos[1]\n",
        "grads = {}\n",
        "grads['x'], grads['y'] = 0, 0\n",
        "\n",
        "\n",
        "optimizers = OrderedDict()\n",
        "optimizers[\"SGD\"] = SGD(lr=0.95)\n",
        "optimizers[\"Momentum\"] = Momentum(lr=0.1)\n",
        "optimizers[\"AdaGrad\"] = AdaGrad(lr=1.5)\n",
        "optimizers[\"Adam\"] = Adam(lr=0.3)\n",
        "\n",
        "idx = 1\n",
        "for key in optimizers:\n",
        "    optimizer = optimizers[key]\n",
        "    x_history = []\n",
        "    y_history = []\n",
        "    params['x'], params['y'] = init_pos[0], init_pos[1]\n",
        "    \n",
        "    for i in range(30):\n",
        "        x_history.append(params['x'])\n",
        "        y_history.append(params['y'])\n",
        "        \n",
        "        grads['x'], grads['y'] = df(params['x'], params['y'])\n",
        "        optimizer.update(params, grads)\n",
        "    \n",
        "\n",
        "    x = np.arange(-10, 10, 0.01)\n",
        "    y = np.arange(-5, 5, 0.01)\n",
        "    \n",
        "    X, Y = np.meshgrid(x, y) \n",
        "    Z = f(X, Y)\n",
        "    \n",
        "    # 외곽선 단순화\n",
        "    mask = Z > 7\n",
        "    Z[mask] = 0\n",
        "    \n",
        "    # 그래프 그리기\n",
        "    plt.subplot(2, 2, idx)\n",
        "    idx += 1\n",
        "    plt.plot(x_history, y_history, 'o-', color=\"red\")\n",
        "    plt.contour(X, Y, Z)\n",
        "    plt.ylim(-10, 10)\n",
        "    plt.xlim(-10, 10)\n",
        "    plt.plot(0, 0, '+')\n",
        "    #colorbar()\n",
        "    #spring()\n",
        "    plt.title(key)\n",
        "    plt.xlabel(\"x\")\n",
        "    plt.ylabel(\"y\")\n",
        "    \n",
        "plt.show()"
      ],
      "execution_count": 13,
      "outputs": [
        {
          "output_type": "display_data",
          "data": {
            "image/png": "[encoded data removed]",
            "text/plain": [
              "<Figure size 432x288 with 4 Axes>"
            ]
          },
          "metadata": {
            "tags": [],
            "needs_background": "light"
          }
        }
      ]
    },
    {
      "cell_type": "markdown",
      "metadata": {
        "id": "VmyUy1Xqc5MK"
      },
      "source": [
        "### 6.1.8 MNIST 데이터셋으로 본 갱신 방법 비교"
      ]
    },
    {
      "cell_type": "code",
      "metadata": {
        "id": "bmD2-XDviOE8"
      },
      "source": [
        "class MultiLayerNet:\n",
        "    \"\"\"완전연결 다층 신경망\n",
        "\n",
        "    Parameters\n",
        "    ----------\n",
        "    input_size : 입력 크기（MNIST의 경우엔 784）\n",
        "    hidden_size_list : 각 은닉층의 뉴런 수를 담은 리스트（e.g. [100, 100, 100]）\n",
        "    output_size : 출력 크기（MNIST의 경우엔 10）\n",
        "    activation : 활성화 함수 - 'relu' 혹은 'sigmoid'\n",
        "    weight_init_std : 가중치의 표준편차 지정（e.g. 0.01）\n",
        "        'relu'나 'he'로 지정하면 'He 초깃값'으로 설정\n",
        "        'sigmoid'나 'xavier'로 지정하면 'Xavier 초깃값'으로 설정\n",
        "    weight_decay_lambda : 가중치 감소(L2 법칙)의 세기\n",
        "    \"\"\"\n",
        "    def __init__(self, input_size, hidden_size_list, output_size,\n",
        "                 activation='relu', weight_init_std='relu', weight_decay_lambda=0):\n",
        "        self.input_size = input_size\n",
        "        self.output_size = output_size\n",
        "        self.hidden_size_list = hidden_size_list\n",
        "        self.hidden_layer_num = len(hidden_size_list)\n",
        "        self.weight_decay_lambda = weight_decay_lambda\n",
        "        self.params = {}\n",
        "\n",
        "        # 가중치 초기화\n",
        "        self.__init_weight(weight_init_std)\n",
        "\n",
        "        # 계층 생성\n",
        "        activation_layer = {'sigmoid': Sigmoid, 'relu': Relu}\n",
        "        self.layers = OrderedDict()\n",
        "        for idx in range(1, self.hidden_layer_num+1):\n",
        "            self.layers['Affine' + str(idx)] = Affine(self.params['W' + str(idx)],\n",
        "                                                      self.params['b' + str(idx)])\n",
        "            self.layers['Activation_function' + str(idx)] = activation_layer[activation]()\n",
        "\n",
        "        idx = self.hidden_layer_num + 1\n",
        "        self.layers['Affine' + str(idx)] = Affine(self.params['W' + str(idx)],\n",
        "            self.params['b' + str(idx)])\n",
        "\n",
        "        self.last_layer = SoftmaxWithLoss()\n",
        "\n",
        "    def __init_weight(self, weight_init_std):\n",
        "        \"\"\"가중치 초기화\n",
        "        \n",
        "        Parameters\n",
        "        ----------\n",
        "        weight_init_std : 가중치의 표준편차 지정（e.g. 0.01）\n",
        "            'relu'나 'he'로 지정하면 'He 초깃값'으로 설정\n",
        "            'sigmoid'나 'xavier'로 지정하면 'Xavier 초깃값'으로 설정\n",
        "        \"\"\"\n",
        "        all_size_list = [self.input_size] + self.hidden_size_list + [self.output_size]\n",
        "        for idx in range(1, len(all_size_list)):\n",
        "            scale = weight_init_std\n",
        "            if str(weight_init_std).lower() in ('relu', 'he'):\n",
        "                scale = np.sqrt(2.0 / all_size_list[idx - 1])  # ReLU를 사용할 때의 권장 초깃값\n",
        "            elif str(weight_init_std).lower() in ('sigmoid', 'xavier'):\n",
        "                scale = np.sqrt(1.0 / all_size_list[idx - 1])  # sigmoid를 사용할 때의 권장 초깃값\n",
        "            self.params['W' + str(idx)] = scale * np.random.randn(all_size_list[idx-1], all_size_list[idx])\n",
        "            self.params['b' + str(idx)] = np.zeros(all_size_list[idx])\n",
        "\n",
        "    def predict(self, x):\n",
        "        for layer in self.layers.values():\n",
        "            x = layer.forward(x)\n",
        "\n",
        "        return x\n",
        "\n",
        "    def loss(self, x, t):\n",
        "        \"\"\"손실 함수를 구한다.\n",
        "        \n",
        "        Parameters\n",
        "        ----------\n",
        "        x : 입력 데이터\n",
        "        t : 정답 레이블 \n",
        "        \n",
        "        Returns\n",
        "        -------\n",
        "        손실 함수의 값\n",
        "        \"\"\"\n",
        "        y = self.predict(x)\n",
        "\n",
        "        weight_decay = 0\n",
        "        for idx in range(1, self.hidden_layer_num + 2):\n",
        "            W = self.params['W' + str(idx)]\n",
        "            weight_decay += 0.5 * self.weight_decay_lambda * np.sum(W ** 2)\n",
        "\n",
        "        return self.last_layer.forward(y, t) + weight_decay\n",
        "\n",
        "    def accuracy(self, x, t):\n",
        "        y = self.predict(x)\n",
        "        y = np.argmax(y, axis=1)\n",
        "        if t.ndim != 1 : t = np.argmax(t, axis=1)\n",
        "\n",
        "        accuracy = np.sum(y == t) / float(x.shape[0])\n",
        "        return accuracy\n",
        "\n",
        "    def numerical_gradient(self, x, t):\n",
        "        \"\"\"기울기를 구한다(수치 미분).\n",
        "        \n",
        "        Parameters\n",
        "        ----------\n",
        "        x : 입력 데이터\n",
        "        t : 정답 레이블\n",
        "        \n",
        "        Returns\n",
        "        -------\n",
        "        각 층의 기울기를 담은 딕셔너리(dictionary) 변수\n",
        "            grads['W1']、grads['W2']、... 각 층의 가중치\n",
        "            grads['b1']、grads['b2']、... 각 층의 편향\n",
        "        \"\"\"\n",
        "        loss_W = lambda W: self.loss(x, t)\n",
        "\n",
        "        grads = {}\n",
        "        for idx in range(1, self.hidden_layer_num+2):\n",
        "            grads['W' + str(idx)] = numerical_gradient(loss_W, self.params['W' + str(idx)])\n",
        "            grads['b' + str(idx)] = numerical_gradient(loss_W, self.params['b' + str(idx)])\n",
        "\n",
        "        return grads\n",
        "\n",
        "    def gradient(self, x, t):\n",
        "        \"\"\"기울기를 구한다(오차역전파법).\n",
        "\n",
        "        Parameters\n",
        "        ----------\n",
        "        x : 입력 데이터\n",
        "        t : 정답 레이블\n",
        "        \n",
        "        Returns\n",
        "        -------\n",
        "        각 층의 기울기를 담은 딕셔너리(dictionary) 변수\n",
        "            grads['W1']、grads['W2']、... 각 층의 가중치\n",
        "            grads['b1']、grads['b2']、... 각 층의 편향\n",
        "        \"\"\"\n",
        "        # forward\n",
        "        self.loss(x, t)\n",
        "\n",
        "        # backward\n",
        "        dout = 1\n",
        "        dout = self.last_layer.backward(dout)\n",
        "\n",
        "        layers = list(self.layers.values())\n",
        "        layers.reverse()\n",
        "        for layer in layers:\n",
        "            dout = layer.backward(dout)\n",
        "\n",
        "        # 결과 저장\n",
        "        grads = {}\n",
        "        for idx in range(1, self.hidden_layer_num+2):\n",
        "            grads['W' + str(idx)] = self.layers['Affine' + str(idx)].dW + self.weight_decay_lambda * self.layers['Affine' + str(idx)].W\n",
        "            grads['b' + str(idx)] = self.layers['Affine' + str(idx)].db\n",
        "\n",
        "        return grads"
      ],
      "execution_count": 14,
      "outputs": []
    },
    {
      "cell_type": "code",
      "metadata": {
        "colab": {
          "base_uri": "https://localhost:8080/",
          "height": 1000
        },
        "id": "kjckMH0SdBql",
        "outputId": "bf417d67-6bba-4117-8fa2-a3f40800d832"
      },
      "source": [
        "from dataset.mnist import load_mnist\n",
        "from common.util import smooth_curve\n",
        "# from.multi_layer_net import MultiLayerNet\n",
        "\n",
        "# MNIST 데이터 읽기\n",
        "(x_train, t_train), (x_test, t_test) = load_mnist(normalize=True)  # 원핫 인코딩 안함\n",
        "\n",
        "train_size = x_train.shape[0]\n",
        "batch_size = 128\n",
        "max_iterations = 2000\n",
        "\n",
        "# 실험용 설정\n",
        "optimizers = {}\n",
        "optimizers['SGD'] = SGD()\n",
        "optimizers['Momentum'] = Momentum()\n",
        "optimizers['AdaGrad'] = AdaGrad()\n",
        "optimizers['Adam'] = Adam()\n",
        "optimizers['RMSprop'] = RMSprop()\n",
        "\n",
        "networks = {}\n",
        "train_loss = {}\n",
        "for key in optimizers.keys():\n",
        "    networks[key] = MultiLayerNet(\n",
        "        input_size=784, hidden_size_list=[100, 100, 100, 100],\n",
        "        output_size=10)\n",
        "    train_loss[key] = []\n",
        "\n",
        "# 훈련\n",
        "for i in range(max_iterations):\n",
        "    batch_mask = np.random.choice(train_size, batch_size)\n",
        "    x_batch = x_train[batch_mask]\n",
        "    t_batch = t_train[batch_mask]\n",
        "\n",
        "    for key in optimizers.keys():\n",
        "        grads = networks[key].gradient(x_batch, t_batch)\n",
        "        optimizers[key].update(networks[key].params, grads)\n",
        "\n",
        "        loss = networks[key].loss(x_batch, t_batch)\n",
        "        train_loss[key].append(loss)\n",
        "\n",
        "    if i % 100 == 0:\n",
        "        print(\"===========\" + \"iteration:\" + str(i) + \"============\")\n",
        "        for key in optimizers.keys():\n",
        "            loss = networks[key].loss(x_batch, t_batch)\n",
        "            print(key + \":\" + str(loss))\n",
        "\n",
        "# 그래프 그리기\n",
        "markers = {\"SGD\": \"o\", \"Momentum\": \"x\", \"AdaGrad\": \"s\", \"Adam\": \"D\", \"RMSprop\": \"+\"}\n",
        "x = np.arange(max_iterations)\n",
        "for key in optimizers.keys():\n",
        "    plt.plot(x, smooth_curve(train_loss[key]), marker=markers[key], markevery=100, label=key)\n",
        "plt.xlabel(\"iterations\")\n",
        "plt.ylabel(\"loss\")\n",
        "plt.ylim(0, 1)\n",
        "plt.legend()\n",
        "plt.show()\n"
      ],
      "execution_count": 16,
      "outputs": [
        {
          "output_type": "stream",
          "text": [
            "===========iteration:0============\n",
            "SGD:2.3618970622643145\n",
            "Momentum:2.403741644233034\n",
            "AdaGrad:1.9869183202280585\n",
            "Adam:2.1611698109533215\n",
            "RMSprop:14.851615340766354\n",
            "===========iteration:100============\n",
            "SGD:1.6219808582492292\n",
            "Momentum:0.34521086999827244\n",
            "AdaGrad:0.15014084309089593\n",
            "Adam:0.2962318716111155\n",
            "RMSprop:0.4417315904122495\n",
            "===========iteration:200============\n",
            "SGD:0.8141830701055317\n",
            "Momentum:0.23725787706708423\n",
            "AdaGrad:0.06315661539754328\n",
            "Adam:0.15460868131937439\n",
            "RMSprop:0.1842022732699392\n",
            "===========iteration:300============\n",
            "SGD:0.497933792957213\n",
            "Momentum:0.16554084266061014\n",
            "AdaGrad:0.06161264366498401\n",
            "Adam:0.11573218529930099\n",
            "RMSprop:0.08314059573837379\n",
            "===========iteration:400============\n",
            "SGD:0.4504375358145778\n",
            "Momentum:0.18953408428548638\n",
            "AdaGrad:0.1132711585211304\n",
            "Adam:0.18101578741440433\n",
            "RMSprop:0.1763301613583668\n",
            "===========iteration:500============\n",
            "SGD:0.37208566175257085\n",
            "Momentum:0.12565756537682013\n",
            "AdaGrad:0.07499303417020682\n",
            "Adam:0.07145785064401892\n",
            "RMSprop:0.10210523256495592\n",
            "===========iteration:600============\n",
            "SGD:0.33158831220609836\n",
            "Momentum:0.10535030742386108\n",
            "AdaGrad:0.06354786541043755\n",
            "Adam:0.08851281594479941\n",
            "RMSprop:0.12631040485636819\n",
            "===========iteration:700============\n",
            "SGD:0.3584595491270143\n",
            "Momentum:0.11689342643803946\n",
            "AdaGrad:0.05400163579801349\n",
            "Adam:0.07331772124099416\n",
            "RMSprop:0.4061296353683963\n",
            "===========iteration:800============\n",
            "SGD:0.3688623108697239\n",
            "Momentum:0.18863946957797978\n",
            "AdaGrad:0.071673573433574\n",
            "Adam:0.08023948786287176\n",
            "RMSprop:0.1482463661527389\n",
            "===========iteration:900============\n",
            "SGD:0.4205341420227221\n",
            "Momentum:0.17406797255853235\n",
            "AdaGrad:0.08034562791149764\n",
            "Adam:0.12269570656880102\n",
            "RMSprop:0.145473760589782\n",
            "===========iteration:1000============\n",
            "SGD:0.48920430154817107\n",
            "Momentum:0.20258420673746208\n",
            "AdaGrad:0.08394791708723659\n",
            "Adam:0.16137225796825239\n",
            "RMSprop:0.1674878002378289\n",
            "===========iteration:1100============\n",
            "SGD:0.29635098681515065\n",
            "Momentum:0.12600776288590432\n",
            "AdaGrad:0.030526827360898356\n",
            "Adam:0.05512515289014287\n",
            "RMSprop:0.09255587020389795\n",
            "===========iteration:1200============\n",
            "SGD:0.2963715187868319\n",
            "Momentum:0.09432001604768332\n",
            "AdaGrad:0.056411156657032516\n",
            "Adam:0.04247773674033158\n",
            "RMSprop:0.059192373524541625\n",
            "===========iteration:1300============\n",
            "SGD:0.26242001795896575\n",
            "Momentum:0.10733028490597496\n",
            "AdaGrad:0.037077007932368275\n",
            "Adam:0.033765881562940026\n",
            "RMSprop:0.12830864020667487\n",
            "===========iteration:1400============\n",
            "SGD:0.36125941759230207\n",
            "Momentum:0.17677192507678047\n",
            "AdaGrad:0.1166224428449745\n",
            "Adam:0.11674138619904492\n",
            "RMSprop:0.08879037243720815\n",
            "===========iteration:1500============\n",
            "SGD:0.29931998092383827\n",
            "Momentum:0.09639606116665297\n",
            "AdaGrad:0.04811075528098897\n",
            "Adam:0.06263898582313314\n",
            "RMSprop:0.12366465333155413\n",
            "===========iteration:1600============\n",
            "SGD:0.2904211938475709\n",
            "Momentum:0.07943142383495408\n",
            "AdaGrad:0.04670630041405109\n",
            "Adam:0.06665949876722592\n",
            "RMSprop:0.12897044252948178\n",
            "===========iteration:1700============\n",
            "SGD:0.141844541764659\n",
            "Momentum:0.0229406949382423\n",
            "AdaGrad:0.014991255693107611\n",
            "Adam:0.03546236703710039\n",
            "RMSprop:0.008059167227395483\n",
            "===========iteration:1800============\n",
            "SGD:0.2065043070491156\n",
            "Momentum:0.08840242814547139\n",
            "AdaGrad:0.06212108322724622\n",
            "Adam:0.07336200129285138\n",
            "RMSprop:0.1184278234435027\n",
            "===========iteration:1900============\n",
            "SGD:0.1677797476861992\n",
            "Momentum:0.04042673025350067\n",
            "AdaGrad:0.02189864608558583\n",
            "Adam:0.04011810853187099\n",
            "RMSprop:0.052614097238386254\n"
          ],
          "name": "stdout"
        },
        {
          "output_type": "display_data",
          "data": {
            "image/png": "[encoded data removed]",
            "text/plain": [
              "<Figure size 432x288 with 1 Axes>"
            ]
          },
          "metadata": {
            "tags": [],
            "needs_background": "light"
          }
        }
      ]
    },
    {
      "cell_type": "markdown",
      "metadata": {
        "id": "526-XwXukU7a"
      },
      "source": [
        "SGD를 제외한 나머지는 비슷한 결과를 보여줌.<br/>\n",
        "하이퍼파라미터인 학습률과 신경망의 구조(층 깊이 등)에 따라 결과가 달라질 수 있다."
      ]
    },
    {
      "cell_type": "markdown",
      "metadata": {
        "id": "-OWH6eqIkj3O"
      },
      "source": [
        "## 6.2 가중치의 초깃값"
      ]
    },
    {
      "cell_type": "code",
      "metadata": {
        "id": "Vlya7sJtki7y"
      },
      "source": [
        ""
      ],
      "execution_count": null,
      "outputs": []
    }
  ]
}